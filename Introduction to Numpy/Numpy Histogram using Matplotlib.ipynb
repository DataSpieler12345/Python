{
 "cells": [
  {
   "cell_type": "markdown",
   "id": "f2634bfa",
   "metadata": {},
   "source": [
    "# Numpy Arithmetic Operations"
   ]
  },
  {
   "cell_type": "code",
   "execution_count": 1,
   "id": "5e4d6d4f",
   "metadata": {},
   "outputs": [
    {
     "name": "stdout",
     "output_type": "stream",
     "text": [
      "The original array:\n",
      "[0 1 2 3 4 5 6 7 8]\n"
     ]
    }
   ],
   "source": [
    "import numpy as np\n",
    "\n",
    "a = np.arange(9) #original array\n",
    "print('The original array:')\n",
    "print(a)"
   ]
  },
  {
   "cell_type": "code",
   "execution_count": 2,
   "id": "f06756f3",
   "metadata": {},
   "outputs": [
    {
     "data": {
      "text/plain": [
       "array([[0, 1, 2],\n",
       "       [3, 4, 5],\n",
       "       [6, 7, 8]])"
      ]
     },
     "execution_count": 2,
     "metadata": {},
     "output_type": "execute_result"
    }
   ],
   "source": [
    "a = np.arange(9).reshape(3,3)\n",
    "a"
   ]
  },
  {
   "cell_type": "code",
   "execution_count": 3,
   "id": "5162f81b",
   "metadata": {},
   "outputs": [
    {
     "data": {
      "text/plain": [
       "array([10, 10, 10])"
      ]
     },
     "execution_count": 3,
     "metadata": {},
     "output_type": "execute_result"
    }
   ],
   "source": [
    "b = np.array([10,10,10]) #second array\n",
    "b"
   ]
  },
  {
   "cell_type": "code",
   "execution_count": 4,
   "id": "5635d1ba",
   "metadata": {},
   "outputs": [
    {
     "data": {
      "text/plain": [
       "array([[10, 11, 12],\n",
       "       [13, 14, 15],\n",
       "       [16, 17, 18]])"
      ]
     },
     "execution_count": 4,
     "metadata": {},
     "output_type": "execute_result"
    }
   ],
   "source": [
    "np.add(a,b) #array b + a "
   ]
  },
  {
   "cell_type": "code",
   "execution_count": 5,
   "id": "ff7d6b21",
   "metadata": {},
   "outputs": [
    {
     "data": {
      "text/plain": [
       "array([[-10,  -9,  -8],\n",
       "       [ -7,  -6,  -5],\n",
       "       [ -4,  -3,  -2]])"
      ]
     },
     "execution_count": 5,
     "metadata": {},
     "output_type": "execute_result"
    }
   ],
   "source": [
    "np.subtract(a,b) # array a - b"
   ]
  },
  {
   "cell_type": "code",
   "execution_count": 6,
   "id": "f627d9b9",
   "metadata": {},
   "outputs": [
    {
     "data": {
      "text/plain": [
       "array([[10,  9,  8],\n",
       "       [ 7,  6,  5],\n",
       "       [ 4,  3,  2]])"
      ]
     },
     "execution_count": 6,
     "metadata": {},
     "output_type": "execute_result"
    }
   ],
   "source": [
    "np.subtract(b,a) #array b -a "
   ]
  },
  {
   "cell_type": "code",
   "execution_count": 7,
   "id": "b716953f",
   "metadata": {},
   "outputs": [
    {
     "data": {
      "text/plain": [
       "array([[ 0, 10, 20],\n",
       "       [30, 40, 50],\n",
       "       [60, 70, 80]])"
      ]
     },
     "execution_count": 7,
     "metadata": {},
     "output_type": "execute_result"
    }
   ],
   "source": [
    "np.multiply(a,b) #multiply"
   ]
  },
  {
   "cell_type": "markdown",
   "id": "a1e334eb",
   "metadata": {},
   "source": [
    "### Array Slicing "
   ]
  },
  {
   "cell_type": "code",
   "execution_count": 8,
   "id": "9b1c8ca7",
   "metadata": {},
   "outputs": [
    {
     "data": {
      "text/plain": [
       "array([ 0,  1,  2,  3,  4,  5,  6,  7,  8,  9, 10, 11, 12, 13, 14, 15, 16,\n",
       "       17, 18, 19])"
      ]
     },
     "execution_count": 8,
     "metadata": {},
     "output_type": "execute_result"
    }
   ],
   "source": [
    "a = np.arange(20) #array\n",
    "a"
   ]
  },
  {
   "cell_type": "code",
   "execution_count": 9,
   "id": "ab1f85e2",
   "metadata": {},
   "outputs": [
    {
     "data": {
      "text/plain": [
       "1"
      ]
     },
     "execution_count": 9,
     "metadata": {},
     "output_type": "execute_result"
    }
   ],
   "source": [
    "a.ndim #1D array"
   ]
  },
  {
   "cell_type": "code",
   "execution_count": 10,
   "id": "d8b7e73f",
   "metadata": {},
   "outputs": [
    {
     "data": {
      "text/plain": [
       "20"
      ]
     },
     "execution_count": 10,
     "metadata": {},
     "output_type": "execute_result"
    }
   ],
   "source": [
    "a.size #size"
   ]
  },
  {
   "cell_type": "code",
   "execution_count": 11,
   "id": "9b66a5f0",
   "metadata": {},
   "outputs": [
    {
     "data": {
      "text/plain": [
       "array([0, 1, 2, 3])"
      ]
     },
     "execution_count": 11,
     "metadata": {},
     "output_type": "execute_result"
    }
   ],
   "source": [
    "a[:4] #all element before the 5th element"
   ]
  },
  {
   "cell_type": "code",
   "execution_count": 12,
   "id": "f14fa2fa",
   "metadata": {},
   "outputs": [
    {
     "data": {
      "text/plain": [
       "5"
      ]
     },
     "execution_count": 12,
     "metadata": {},
     "output_type": "execute_result"
    }
   ],
   "source": [
    "a[5] #5th element"
   ]
  },
  {
   "cell_type": "code",
   "execution_count": 13,
   "id": "e4b8214a",
   "metadata": {},
   "outputs": [
    {
     "data": {
      "text/plain": [
       "array([2, 4, 6, 8])"
      ]
     },
     "execution_count": 13,
     "metadata": {},
     "output_type": "execute_result"
    }
   ],
   "source": [
    "s = slice(2,9,2) # start at 2 / end at 9 = 8 / 2 = steps every 2 element = after 2 = 4, 6\n",
    "a[s]"
   ]
  },
  {
   "cell_type": "code",
   "execution_count": 14,
   "id": "77dae049",
   "metadata": {},
   "outputs": [
    {
     "data": {
      "text/plain": [
       "array([ 2,  5,  8, 11])"
      ]
     },
     "execution_count": 14,
     "metadata": {},
     "output_type": "execute_result"
    }
   ],
   "source": [
    "s = slice(2,12,3) \n",
    "a[s]"
   ]
  },
  {
   "cell_type": "markdown",
   "id": "30e9eba3",
   "metadata": {},
   "source": [
    "### Iterating Over Array"
   ]
  },
  {
   "cell_type": "code",
   "execution_count": 15,
   "id": "d9de712c",
   "metadata": {},
   "outputs": [
    {
     "data": {
      "text/plain": [
       "array([[ 0,  5, 10],\n",
       "       [15, 20, 25],\n",
       "       [30, 35, 40]])"
      ]
     },
     "execution_count": 15,
     "metadata": {},
     "output_type": "execute_result"
    }
   ],
   "source": [
    "a = np.arange(0,45,5)\n",
    "a = a.reshape(3,3)\n",
    "a"
   ]
  },
  {
   "cell_type": "code",
   "execution_count": 16,
   "id": "308a2f3d",
   "metadata": {},
   "outputs": [
    {
     "name": "stdout",
     "output_type": "stream",
     "text": [
      "0\n",
      "5\n",
      "10\n",
      "15\n",
      "20\n",
      "25\n",
      "30\n",
      "35\n",
      "40\n"
     ]
    }
   ],
   "source": [
    "for x in np.nditer(a):\n",
    "    print(x)"
   ]
  },
  {
   "cell_type": "markdown",
   "id": "f451e473",
   "metadata": {},
   "source": [
    "### Iteration order (c-style and f-style)"
   ]
  },
  {
   "cell_type": "code",
   "execution_count": 17,
   "id": "04d3a826",
   "metadata": {},
   "outputs": [
    {
     "name": "stdout",
     "output_type": "stream",
     "text": [
      "[[ 0  5 10]\n",
      " [15 20 25]\n",
      " [30 35 40]]\n",
      "0\n",
      "5\n",
      "10\n",
      "15\n",
      "20\n",
      "25\n",
      "30\n",
      "35\n",
      "40\n",
      "0\n",
      "15\n",
      "30\n",
      "5\n",
      "20\n",
      "35\n",
      "10\n",
      "25\n",
      "40\n"
     ]
    }
   ],
   "source": [
    "print(a)\n",
    "for x in np.nditer(a, order=\"C\"):\n",
    "    print(x)\n",
    "\n",
    "for x in np.nditer(a, order =\"F\"):\n",
    "    print(x)"
   ]
  },
  {
   "cell_type": "markdown",
   "id": "b6e948ec",
   "metadata": {},
   "source": [
    "### Joining arrays"
   ]
  },
  {
   "cell_type": "code",
   "execution_count": 18,
   "id": "962d9e1a",
   "metadata": {},
   "outputs": [
    {
     "name": "stdout",
     "output_type": "stream",
     "text": [
      "first array\n",
      "[[1 2]\n",
      " [3 4]]\n",
      "second array\n",
      "[[5 6]\n",
      " [7 8]]\n",
      "\n",
      "\n",
      "Joining the two arrays along axis 0:\n",
      "[[1 2]\n",
      " [3 4]\n",
      " [5 6]\n",
      " [7 8]]\n",
      "\n",
      "\n",
      "Joining the two array along axis 1:\n",
      "[[1 2 5 6]\n",
      " [3 4 7 8]]\n"
     ]
    }
   ],
   "source": [
    "a = np.array([[1,2],[3,4]]) #array 1\n",
    "print('first array')\n",
    "print(a)\n",
    "\n",
    "b = np.array([[5,6],[7,8]]) #array 2\n",
    "print('second array')\n",
    "print(b)\n",
    "\n",
    "print( '\\n') #both arrays concatenated\n",
    "print( 'Joining the two arrays along axis 0:') #axis 0\n",
    "print( np.concatenate((a,b)) )\n",
    "print( '\\n')\n",
    "print( 'Joining the two array along axis 1:' ) #axis 1\n",
    "print( np.concatenate((a,b), axis =1))"
   ]
  },
  {
   "cell_type": "code",
   "execution_count": 19,
   "id": "c9752b18",
   "metadata": {},
   "outputs": [
    {
     "data": {
      "text/plain": [
       "2"
      ]
     },
     "execution_count": 19,
     "metadata": {},
     "output_type": "execute_result"
    }
   ],
   "source": [
    "a.ndim #2d array"
   ]
  },
  {
   "cell_type": "code",
   "execution_count": 20,
   "id": "d39c927e",
   "metadata": {},
   "outputs": [
    {
     "data": {
      "text/plain": [
       "2"
      ]
     },
     "execution_count": 20,
     "metadata": {},
     "output_type": "execute_result"
    }
   ],
   "source": [
    "b.ndim #2d array"
   ]
  },
  {
   "cell_type": "markdown",
   "id": "c7f09300",
   "metadata": {},
   "source": [
    "### Splitting array"
   ]
  },
  {
   "cell_type": "code",
   "execution_count": 21,
   "id": "16a56766",
   "metadata": {},
   "outputs": [
    {
     "name": "stdout",
     "output_type": "stream",
     "text": [
      "[0 1 2 3 4 5 6 7 8]\n"
     ]
    },
    {
     "data": {
      "text/plain": [
       "[array([0, 1, 2]), array([3, 4, 5]), array([6, 7, 8])]"
      ]
     },
     "execution_count": 21,
     "metadata": {},
     "output_type": "execute_result"
    }
   ],
   "source": [
    "a = np.arange(9)\n",
    "print(a)\n",
    "np.split(a,3)"
   ]
  },
  {
   "cell_type": "code",
   "execution_count": 22,
   "id": "701e46b2",
   "metadata": {},
   "outputs": [
    {
     "data": {
      "text/plain": [
       "[array([0, 1, 2, 3]), array([4]), array([5, 6, 7, 8])]"
      ]
     },
     "execution_count": 22,
     "metadata": {},
     "output_type": "execute_result"
    }
   ],
   "source": [
    "np.split(a,[4,5])"
   ]
  },
  {
   "cell_type": "code",
   "execution_count": 23,
   "id": "09305f9a",
   "metadata": {},
   "outputs": [
    {
     "data": {
      "text/plain": [
       "[array([0, 1, 2, 3]), array([4, 5, 6]), array([7, 8])]"
      ]
     },
     "execution_count": 23,
     "metadata": {},
     "output_type": "execute_result"
    }
   ],
   "source": [
    "np.split(a,[4,7])"
   ]
  },
  {
   "cell_type": "markdown",
   "id": "b75a1412",
   "metadata": {},
   "source": [
    "### Resizing an array"
   ]
  },
  {
   "cell_type": "code",
   "execution_count": 24,
   "id": "db0afaeb",
   "metadata": {},
   "outputs": [
    {
     "name": "stdout",
     "output_type": "stream",
     "text": [
      "[[1 2 3]\n",
      " [4 5 6]]\n",
      "(2, 3)\n",
      "\n",
      "\n",
      "[[1 2]\n",
      " [3 4]\n",
      " [5 6]]\n",
      "(3, 2)\n",
      "[[1 2 3]\n",
      " [4 5 6]\n",
      " [1 2 3]]\n",
      "(3, 3)\n"
     ]
    }
   ],
   "source": [
    "a = np.array([[1,2,3],[4,5,6]])\n",
    "print(a)\n",
    "print(a.shape )\n",
    "print('\\n')\n",
    "\n",
    "# resize(3,2)\n",
    "b = np.resize(a, (3,2))\n",
    "print(b)\n",
    "print(b.shape)\n",
    "\n",
    "#resize (3,3)\n",
    "b = np.resize(a, (3,3))\n",
    "print(b)\n",
    "print(b.shape)"
   ]
  },
  {
   "cell_type": "markdown",
   "id": "e828b351",
   "metadata": {},
   "source": [
    "### Histogram using Matplotlib"
   ]
  },
  {
   "cell_type": "code",
   "execution_count": 25,
   "id": "4de31a05",
   "metadata": {},
   "outputs": [],
   "source": [
    "from matplotlib import pyplot as plt\n"
   ]
  },
  {
   "cell_type": "code",
   "execution_count": 26,
   "id": "9f050477",
   "metadata": {},
   "outputs": [
    {
     "data": {
      "image/png": "[encoded data removed]",
      "text/plain": [
       "<Figure size 432x288 with 1 Axes>"
      ]
     },
     "metadata": {
      "needs_background": "light"
     },
     "output_type": "display_data"
    }
   ],
   "source": [
    "a = np.array([20,87,4,40,53,74,56,51,11,20,40,15,79,25,27]) #values\n",
    "plt.hist(a, bins = [0,20,40,60,80,100]) #x\n",
    "plt.title(\"histogram\") #chart type\n",
    "plt.show()"
   ]
  },
  {
   "cell_type": "code",
   "execution_count": 27,
   "id": "a77a1ea2",
   "metadata": {},
   "outputs": [
    {
     "data": {
      "image/png": "[encoded data removed]",
      "text/plain": [
       "<Figure size 432x288 with 1 Axes>"
      ]
     },
     "metadata": {
      "needs_background": "light"
     },
     "output_type": "display_data"
    }
   ],
   "source": [
    "plt.hist(a, bins = [0,10,20,30,40,50,60,70,80,90,100])\n",
    "plt.title(\"Histogram\")\n",
    "plt.show()"
   ]
  },
  {
   "cell_type": "markdown",
   "id": "cdd78aa3",
   "metadata": {},
   "source": [
    "### Other useful functions in Numpy"
   ]
  },
  {
   "cell_type": "code",
   "execution_count": 28,
   "id": "389fe1b0",
   "metadata": {},
   "outputs": [
    {
     "name": "stdout",
     "output_type": "stream",
     "text": [
      "[1.         1.22222222 1.44444444 1.66666667 1.88888889 2.11111111\n",
      " 2.33333333 2.55555556 2.77777778 3.        ]\n"
     ]
    }
   ],
   "source": [
    "# linspace function\n",
    "\n",
    "a = np.linspace(1,3,10)\n",
    "print(a)"
   ]
  },
  {
   "cell_type": "code",
   "execution_count": 29,
   "id": "226843c1",
   "metadata": {},
   "outputs": [
    {
     "name": "stdout",
     "output_type": "stream",
     "text": [
      "[4 6 8]\n"
     ]
    }
   ],
   "source": [
    "# sum and axis\n",
    "\n",
    "a = np.array([(1,2,3), (3,4,5)])\n",
    "print(a.sum(axis=0))"
   ]
  },
  {
   "cell_type": "code",
   "execution_count": 30,
   "id": "6d833b7e",
   "metadata": {},
   "outputs": [
    {
     "name": "stdout",
     "output_type": "stream",
     "text": [
      "[[1.         1.41421356 1.73205081]\n",
      " [1.73205081 2.         2.23606798]]\n",
      "1.2909944487358056\n"
     ]
    }
   ],
   "source": [
    "# square root and standard deviation \n",
    "\n",
    "a = np.array([(1,2,3), (3,4,5)])\n",
    "print(np.sqrt(a))\n",
    "print(np.std(a))"
   ]
  },
  {
   "cell_type": "code",
   "execution_count": 31,
   "id": "53546372",
   "metadata": {},
   "outputs": [
    {
     "name": "stdout",
     "output_type": "stream",
     "text": [
      "[1 2 3 3 4 5]\n"
     ]
    }
   ],
   "source": [
    "# ravel function\n",
    "\n",
    "x = np.array([(1,2,3), (3,4,5)])\n",
    "print(x.ravel())"
   ]
  },
  {
   "cell_type": "code",
   "execution_count": 44,
   "id": "1eb66545",
   "metadata": {},
   "outputs": [
    {
     "name": "stdout",
     "output_type": "stream",
     "text": [
      "[1 2 3 4 5 6 1 2 3]\n"
     ]
    }
   ],
   "source": [
    "# Flatten function\n",
    "\n",
    "print(b.flatten())"
   ]
  },
  {
   "cell_type": "code",
   "execution_count": 45,
   "id": "88b32fa5",
   "metadata": {},
   "outputs": [
    {
     "data": {
      "text/plain": [
       "array([1, 4, 1, 2, 5, 2, 3, 6, 3])"
      ]
     },
     "execution_count": 45,
     "metadata": {},
     "output_type": "execute_result"
    }
   ],
   "source": [
    "b.flatten(order=\"F\")"
   ]
  },
  {
   "cell_type": "code",
   "execution_count": 32,
   "id": "e47d6aa8",
   "metadata": {},
   "outputs": [
    {
     "name": "stdout",
     "output_type": "stream",
     "text": [
      "[0.         0.30103    0.47712125]\n"
     ]
    }
   ],
   "source": [
    "# log\n",
    "\n",
    "a = np.array([1,2,3])\n",
    "print(np.log10(a))"
   ]
  },
  {
   "cell_type": "markdown",
   "id": "ed953f51",
   "metadata": {},
   "source": [
    "### Numpy Practise Example"
   ]
  },
  {
   "cell_type": "code",
   "execution_count": 34,
   "id": "c240e740",
   "metadata": {},
   "outputs": [
    {
     "name": "stdout",
     "output_type": "stream",
     "text": [
      "[0.  0.1 0.2 0.3 0.4 0.5 0.6 0.7 0.8 0.9 1.  1.1 1.2 1.3 1.4 1.5 1.6 1.7\n",
      " 1.8 1.9 2.  2.1 2.2 2.3 2.4 2.5 2.6 2.7 2.8 2.9 3.  3.1 3.2 3.3 3.4 3.5\n",
      " 3.6 3.7 3.8 3.9 4.  4.1 4.2 4.3 4.4 4.5 4.6 4.7 4.8 4.9 5.  5.1 5.2 5.3\n",
      " 5.4 5.5 5.6 5.7 5.8 5.9 6.  6.1 6.2 6.3 6.4 6.5 6.6 6.7 6.8 6.9 7.  7.1\n",
      " 7.2 7.3 7.4 7.5 7.6 7.7 7.8 7.9 8.  8.1 8.2 8.3 8.4 8.5 8.6 8.7 8.8 8.9\n",
      " 9.  9.1 9.2 9.3 9.4]\n",
      "[ 0.          0.09983342  0.19866933  0.29552021  0.38941834  0.47942554\n",
      "  0.56464247  0.64421769  0.71735609  0.78332691  0.84147098  0.89120736\n",
      "  0.93203909  0.96355819  0.98544973  0.99749499  0.9995736   0.99166481\n",
      "  0.97384763  0.94630009  0.90929743  0.86320937  0.8084964   0.74570521\n",
      "  0.67546318  0.59847214  0.51550137  0.42737988  0.33498815  0.23924933\n",
      "  0.14112001  0.04158066 -0.05837414 -0.15774569 -0.2555411  -0.35078323\n",
      " -0.44252044 -0.52983614 -0.61185789 -0.68776616 -0.7568025  -0.81827711\n",
      " -0.87157577 -0.91616594 -0.95160207 -0.97753012 -0.993691   -0.99992326\n",
      " -0.99616461 -0.98245261 -0.95892427 -0.92581468 -0.88345466 -0.83226744\n",
      " -0.77276449 -0.70554033 -0.63126664 -0.55068554 -0.46460218 -0.37387666\n",
      " -0.2794155  -0.1821625  -0.0830894   0.0168139   0.1165492   0.21511999\n",
      "  0.31154136  0.40484992  0.49411335  0.57843976  0.6569866   0.72896904\n",
      "  0.79366786  0.85043662  0.8987081   0.93799998  0.96791967  0.98816823\n",
      "  0.99854335  0.99894134  0.98935825  0.96988981  0.94073056  0.90217183\n",
      "  0.85459891  0.79848711  0.7343971   0.66296923  0.58491719  0.50102086\n",
      "  0.41211849  0.31909836  0.22288991  0.12445442  0.02477543]\n"
     ]
    }
   ],
   "source": [
    "# Now using numpy and matplotlib, let us try to plot a sin graph\n",
    "\n",
    "import numpy as np\n",
    "import matplotlib.pyplot as plt\n",
    "\n",
    "x = np.arange(0,3*np.pi,0.1)\n",
    "y = np.sin(x)\n",
    "print(x)\n",
    "print(y)"
   ]
  },
  {
   "cell_type": "code",
   "execution_count": 35,
   "id": "e9a41851",
   "metadata": {},
   "outputs": [
    {
     "data": {
      "image/png": "[encoded data removed]",
      "text/plain": [
       "<Figure size 432x288 with 1 Axes>"
      ]
     },
     "metadata": {
      "needs_background": "light"
     },
     "output_type": "display_data"
    }
   ],
   "source": [
    "plt.plot(x,y)\n",
    "plt.show()"
   ]
  },
  {
   "cell_type": "markdown",
   "id": "324c9ce1",
   "metadata": {},
   "source": [
    "### Create a 6*6 two-dimensional array, and let 1 and 0 be placed alternatively across the diagonals\n"
   ]
  },
  {
   "cell_type": "code",
   "execution_count": 37,
   "id": "f7254c71",
   "metadata": {},
   "outputs": [
    {
     "data": {
      "text/plain": [
       "array([[0, 1, 0, 1, 0, 1],\n",
       "       [1, 0, 1, 0, 1, 0],\n",
       "       [0, 1, 0, 1, 0, 1],\n",
       "       [1, 0, 1, 0, 1, 0],\n",
       "       [0, 1, 0, 1, 0, 1],\n",
       "       [1, 0, 1, 0, 1, 0]])"
      ]
     },
     "execution_count": 37,
     "metadata": {},
     "output_type": "execute_result"
    }
   ],
   "source": [
    "Z = np.zeros((6,6),dtype=int)\n",
    "Z[1::2,::2] = 1\n",
    "Z[::2,1::2] = 1\n",
    "Z"
   ]
  },
  {
   "cell_type": "markdown",
   "id": "9b717840",
   "metadata": {},
   "source": [
    "### Find the total number and locations of missing values  in the array"
   ]
  },
  {
   "cell_type": "code",
   "execution_count": 38,
   "id": "0461d215",
   "metadata": {},
   "outputs": [
    {
     "data": {
      "text/plain": [
       "array([[0.61173314, 0.24056185,        nan, 0.42977044, 0.83394805,\n",
       "        0.84952672, 0.54319745, 0.13021426, 0.27825877, 0.38155797],\n",
       "       [0.80576875,        nan, 0.53045417, 0.22210506, 0.88602116,\n",
       "        0.72323394, 0.52839424, 0.63452083, 0.33465776, 0.15373309],\n",
       "       [0.64068878, 0.28041971, 0.72146477, 0.48051718, 0.96260203,\n",
       "        0.33607292, 0.7701089 , 0.95367154, 0.07523007, 0.48766013],\n",
       "       [0.32766038, 0.58332392, 0.49200567, 0.1169453 , 0.1871226 ,\n",
       "        0.38954364, 0.57081187, 0.09331886, 0.80167517, 0.91764348],\n",
       "       [0.74710528, 0.84571589, 0.68112485, 0.8106101 , 0.20026825,\n",
       "        0.74022725, 0.59866525,        nan, 0.21679679, 0.71193804],\n",
       "       [0.20326965, 0.13032626, 0.62532131, 0.01554505, 0.75204353,\n",
       "        0.83740579, 0.17999107, 0.9957629 , 0.00437767, 0.92325402],\n",
       "       [0.9544385 , 0.90087032, 0.80136969, 0.35313052, 0.05016371,\n",
       "               nan, 0.62392757, 0.32819581, 0.57651201, 0.32896953],\n",
       "       [0.50378465, 0.57172033, 0.56598262, 0.49420858, 0.16975906,\n",
       "        0.03895321, 0.43006685, 0.31625906, 0.10725334,        nan],\n",
       "       [0.06185828, 0.13638269, 0.68845161, 0.12522598, 0.63561351,\n",
       "        0.15166283, 0.37514243, 0.34044641, 0.45744304, 0.44786221],\n",
       "       [0.16136243, 0.58317968, 0.9275103 , 0.80690214, 0.18113121,\n",
       "        0.58404887, 0.7175495 , 0.98477082, 0.47076617, 0.60789514]])"
      ]
     },
     "execution_count": 38,
     "metadata": {},
     "output_type": "execute_result"
    }
   ],
   "source": [
    "Z = np.random.rand(10,10)\n",
    "Z[np.random.randint(10, size=5), np.random.randint(10, size=5)] = np.nan\n",
    "Z"
   ]
  },
  {
   "cell_type": "markdown",
   "id": "c1d5fd00",
   "metadata": {},
   "source": [
    "#### How many nan values are in there?"
   ]
  },
  {
   "cell_type": "code",
   "execution_count": 39,
   "id": "81b20473",
   "metadata": {},
   "outputs": [
    {
     "name": "stdout",
     "output_type": "stream",
     "text": [
      "Total number of missing values: \n",
      " 5\n"
     ]
    }
   ],
   "source": [
    "print(\"Total number of missing values: \\n\", np.isnan(Z).sum())"
   ]
  },
  {
   "cell_type": "markdown",
   "id": "0a150d2a",
   "metadata": {},
   "source": [
    "#### Print the indexes!"
   ]
  },
  {
   "cell_type": "code",
   "execution_count": 40,
   "id": "2261edd2",
   "metadata": {},
   "outputs": [
    {
     "name": "stdout",
     "output_type": "stream",
     "text": [
      "Indexes of missing values: \n",
      " [[0 2]\n",
      " [1 1]\n",
      " [4 7]\n",
      " [6 5]\n",
      " [7 9]]\n"
     ]
    }
   ],
   "source": [
    "print(\"Indexes of missing values: \\n\", np.argwhere(np.isnan(Z)))"
   ]
  },
  {
   "cell_type": "code",
   "execution_count": 42,
   "id": "e9339d50",
   "metadata": {},
   "outputs": [
    {
     "name": "stdout",
     "output_type": "stream",
     "text": [
      "(array([0, 1, 4, 6, 7], dtype=int64), array([2, 1, 7, 5, 9], dtype=int64))\n"
     ]
    }
   ],
   "source": [
    "inds = np.where(np.isnan(Z))\n",
    "print(inds)"
   ]
  },
  {
   "cell_type": "code",
   "execution_count": 43,
   "id": "c6b42af5",
   "metadata": {},
   "outputs": [
    {
     "data": {
      "text/plain": [
       "array([[0.61173314, 0.24056185, 0.        , 0.42977044, 0.83394805,\n",
       "        0.84952672, 0.54319745, 0.13021426, 0.27825877, 0.38155797],\n",
       "       [0.80576875, 0.        , 0.53045417, 0.22210506, 0.88602116,\n",
       "        0.72323394, 0.52839424, 0.63452083, 0.33465776, 0.15373309],\n",
       "       [0.64068878, 0.28041971, 0.72146477, 0.48051718, 0.96260203,\n",
       "        0.33607292, 0.7701089 , 0.95367154, 0.07523007, 0.48766013],\n",
       "       [0.32766038, 0.58332392, 0.49200567, 0.1169453 , 0.1871226 ,\n",
       "        0.38954364, 0.57081187, 0.09331886, 0.80167517, 0.91764348],\n",
       "       [0.74710528, 0.84571589, 0.68112485, 0.8106101 , 0.20026825,\n",
       "        0.74022725, 0.59866525, 0.        , 0.21679679, 0.71193804],\n",
       "       [0.20326965, 0.13032626, 0.62532131, 0.01554505, 0.75204353,\n",
       "        0.83740579, 0.17999107, 0.9957629 , 0.00437767, 0.92325402],\n",
       "       [0.9544385 , 0.90087032, 0.80136969, 0.35313052, 0.05016371,\n",
       "        0.        , 0.62392757, 0.32819581, 0.57651201, 0.32896953],\n",
       "       [0.50378465, 0.57172033, 0.56598262, 0.49420858, 0.16975906,\n",
       "        0.03895321, 0.43006685, 0.31625906, 0.10725334, 0.        ],\n",
       "       [0.06185828, 0.13638269, 0.68845161, 0.12522598, 0.63561351,\n",
       "        0.15166283, 0.37514243, 0.34044641, 0.45744304, 0.44786221],\n",
       "       [0.16136243, 0.58317968, 0.9275103 , 0.80690214, 0.18113121,\n",
       "        0.58404887, 0.7175495 , 0.98477082, 0.47076617, 0.60789514]])"
      ]
     },
     "execution_count": 43,
     "metadata": {},
     "output_type": "execute_result"
    }
   ],
   "source": [
    "Z[inds] = 0\n",
    "Z"
   ]
  }
 ],
 "metadata": {
  "kernelspec": {
   "display_name": "Python 3 (ipykernel)",
   "language": "python",
   "name": "python3"
  },
  "language_info": {
   "codemirror_mode": {
    "name": "ipython",
    "version": 3
   },
   "file_extension": ".py",
   "mimetype": "text/x-python",
   "name": "python",
   "nbconvert_exporter": "python",
   "pygments_lexer": "ipython3",
   "version": "3.8.3"
  }
 },
 "nbformat": 4,
 "nbformat_minor": 5
}
