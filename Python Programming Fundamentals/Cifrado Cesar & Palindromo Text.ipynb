{
 "cells": [
  {
   "cell_type": "code",
   "execution_count": null,
   "id": "b073b0bb",
   "metadata": {},
   "outputs": [],
   "source": [
    "# Cifrado César.\n",
    "text = input(\"Ingresa tu mensaje: \")\n",
    "cipher = ''\n",
    "for char in text:\n",
    "    if not char.isalpha():\n",
    "        continue\n",
    "    char = char.upper()\n",
    "    code = ord(char) + 1\n",
    "    if code > ord('Z'):\n",
    "        code = ord('A')\n",
    "    cipher += chr(code)\n",
    "\n",
    "print(cipher)"
   ]
  },
  {
   "cell_type": "markdown",
   "id": "5aceb45f",
   "metadata": {},
   "source": [
    "Se ha escrito utilizando los siguientes supuestos:\n",
    "\n",
    "Solo acepta letras latinas (nota: los Romanos no usaban espacios en blanco ni dígitos).\n",
    "Todas las letras del mensaje están en mayúsculas (nota: los Romanos solo conocían las mayúsculas).\n",
    "Veamos el código:\n",
    "\n",
    "La línea 02: pide al usuario que ingrese un mensaje (sin cifrar) de una línea.\n",
    "La línea 03: prepara una cadena para el mensaje cifrado (esta vacía por ahora).\n",
    "La línea 04: inicia la iteración a través del mensaje.\n",
    "La línea 05: si el carácter actual no es alfabético...\n",
    "La línea 06: ...ignorala.\n",
    "La línea 07: convierta la letra a mayúsculas (es preferible hacerlo a ciegas, en lugar de verificar si es necesario o no).\n",
    "La línea 08: obtén el código de la letra e increméntalo en uno.\n",
    "La línea 09: si el código resultante ha \"dejado\" el alfabeto latino (si es mayor que el código de la Z)...\n",
    "La línea 10: ... cámbialo al código de la A.\n",
    "La línea 11: agrega el carácter recibido al final del mensaje cifrado.\n",
    "La línea 13: imprime el cifrado."
   ]
  },
  {
   "cell_type": "markdown",
   "id": "4c2a4c5d",
   "metadata": {},
   "source": [
    "### El Cifrado César: descifrando un mensaje"
   ]
  },
  {
   "cell_type": "markdown",
   "id": "3d61d873",
   "metadata": {},
   "source": [
    "La operación inversa ahora debería ser clara para ti: solo presentamos el código tal como está, sin ninguna explicación.\n",
    "\n",
    "Observa el código en el editor. Comprueba cuidadosamente si funciona. Usa el criptograma del programa anterior."
   ]
  },
  {
   "cell_type": "code",
   "execution_count": null,
   "id": "d82ea53f",
   "metadata": {},
   "outputs": [],
   "source": [
    "# Cifrado César - descifrando un mensaje.\n",
    "cipher = input('Ingresa tu criptograma: ')\n",
    "text = ''\n",
    "for char in cipher:\n",
    "    if not char.isalpha():\n",
    "        continue\n",
    "    char = char.upper()\n",
    "    code = ord(char) - 1\n",
    "    if code < ord('A'):\n",
    "        code = ord('Z')\n",
    "    text += chr(code)\n",
    "\n",
    "print(text)"
   ]
  },
  {
   "cell_type": "markdown",
   "id": "b13dce5a",
   "metadata": {},
   "source": [
    "El tercer programa muestra un método simple que permite ingresar una línea llena de números y sumarlos fácilmente. Nota: la función input(), combinada junto con las funciones int() o float(), no es lo adecuado para este propósito.\n",
    "\n",
    "El procesamiento será extremadamente fácil: queremos que se sumen los números.\n",
    "\n",
    "Observa el código en el editor. Analicémoslo.\n",
    "\n",
    "El emplear listas por comprensión puede hacer que el código sea más pequeño. Puedes hacerlo si quieres.\n",
    "\n",
    "Presentemos nuestra versión:"
   ]
  },
  {
   "cell_type": "code",
   "execution_count": null,
   "id": "c77d611c",
   "metadata": {},
   "outputs": [],
   "source": [
    "#Procesador de Números.\n",
    "\n",
    "line = input(\"Ingresa una línea de números, sepáralos con espacios: \")\n",
    "strings = line.split()\n",
    "total = 0\n",
    "try:\n",
    "    for substr in strings:\n",
    "        total += float(substr)\n",
    "    print(\"El total es:\", total)\n",
    "except:\n",
    "    print(substr, \"no es un numero.\")"
   ]
  },
  {
   "cell_type": "markdown",
   "id": "50dccea1",
   "metadata": {},
   "source": [
    "### El validador IBAN"
   ]
  },
  {
   "cell_type": "code",
   "execution_count": null,
   "id": "af653db9",
   "metadata": {},
   "outputs": [],
   "source": [
    "# Validador IBAN.\n",
    "\n",
    "iban = input(\"Ingresa un IBAN, por favor: \")\n",
    "iban = iban.replace(' ','')\n",
    "\n",
    "if not iban.isalnum():\n",
    "    print(\"Has introducido caracteres no válidos.\")\n",
    "elif len(iban) < 15:\n",
    "    print(\"El IBAN ingresado es demasiado corto.\")\n",
    "elif len(iban) > 31:\n",
    "    print(\"El IBAN ingresado es demasiado largo.\")\n",
    "else:\n",
    "    iban = (iban[4:] + iban[0:4]).upper()\n",
    "    iban2 = ''\n",
    "    for ch in iban:\n",
    "        if ch.isdigit():\n",
    "            iban2 += ch\n",
    "        else:\n",
    "            iban2 += str(10 + ord(ch) - ord('A'))\n",
    "    iban = int(iban2)\n",
    "    if iban % 97 == 1:\n",
    "        print(\"El IBAN ingresado es válido.\")\n",
    "    else:\n",
    "        print(\"El IBAN ingresado no es válido.\")\n",
    "    "
   ]
  },
  {
   "cell_type": "code",
   "execution_count": null,
   "id": "880fc72b",
   "metadata": {},
   "outputs": [],
   "source": [
    "# Validador IBAN.\n",
    "\n",
    "iban = input(\"Ingresa un IBAN, por favor: \")\n",
    "iban = iban.replace(' ','')\n",
    "\n",
    "if not iban.isalnum():\n",
    "    print(\"Has introducido caracteres no válidos.\")\n",
    "elif len(iban) < 15:\n",
    "    print(\"El IBAN ingresado es demasiado corto.\")\n",
    "elif len(iban) > 31:\n",
    "    print(\"El IBAN ingresado es demasiado largo.\")\n",
    "else:\n",
    "    iban = (iban[4:] + iban[0:4]).upper()\n",
    "    iban2 = ''\n",
    "    for ch in iban:\n",
    "        if ch.isdigit():\n",
    "            iban2 += ch\n",
    "        else:\n",
    "            iban2 += str(10 + ord(ch) - ord('A'))\n",
    "    iban = int(iban2)\n",
    "    if iban % 97 == 1:\n",
    "        print(\"El IBAN ingresado es válido.\")\n",
    "    else:\n",
    "        print(\"El IBAN ingresado no es válido.\")"
   ]
  },
  {
   "cell_type": "code",
   "execution_count": null,
   "id": "cfc65997",
   "metadata": {},
   "outputs": [],
   "source": [
    "# Validador IBAN.\n",
    "\n",
    "iban = input(\"Ingresa un IBAN, por favor: \")\n",
    "iban = iban.replace(' ','')\n",
    "\n",
    "if not iban.isalnum():\n",
    "    print(\"Has introducido caracteres no válidos.\")\n",
    "elif len(iban) < 15:\n",
    "    print(\"El IBAN ingresado es demasiado corto.\")\n",
    "elif len(iban) > 31:\n",
    "    print(\"El IBAN ingresado es demasiado largo.\")\n",
    "else:\n",
    "    iban = (iban[4:] + iban[0:4]).upper()\n",
    "    iban2 = ''\n",
    "    for ch in iban:\n",
    "        if ch.isdigit():\n",
    "            iban2 += ch\n",
    "        else:\n",
    "            iban2 += str(10 + ord(ch) - ord('A'))\n",
    "    iban = int(iban2)\n",
    "    if iban % 97 == 1:\n",
    "        print(\"El IBAN ingresado es válido.\")\n",
    "    else:\n",
    "        print(\"El IBAN ingresado no es válido.\")"
   ]
  },
  {
   "cell_type": "markdown",
   "id": "2a8a6129",
   "metadata": {},
   "source": [
    "Tu tarea es escribir un programa el cual:\n",
    "\n",
    "Le pida al usuario una línea de texto para encriptar.\n",
    "Le pida al usuario un valor de cambio (un número entero del rango 1..25, nota: debes obligar al usuario a ingresar un valor de cambio válido (¡no te rindas y no dejes que los datos incorrectos te engañen!).\n",
    "Imprime el texto codificado.\n",
    "\n",
    "Entrada de muestra:\n",
    "\n",
    "abcxyzABCxyz 123\n",
    "2\n",
    "\n",
    "Salida de muestra:\n",
    "\n",
    "cdezabCDEzab 123\n",
    "\n",
    "Entrada de muestra:\n",
    "\n",
    "The die is cast\n",
    "25\n",
    "\n",
    "Salida de muestra:\n",
    "\n",
    "Sgd chd hr bzrs"
   ]
  },
  {
   "cell_type": "code",
   "execution_count": null,
   "id": "179b4004",
   "metadata": {},
   "outputs": [],
   "source": [
    "text = input(\"Ingrese una línea de texto para encriptar: \")\n",
    "\n",
    "# Pedir al usuario un valor de cambio válido\n",
    "shift = None\n",
    "while shift is None:\n",
    "    try:\n",
    "        shift = int(input(\"Ingrese un valor de cambio (un número entero del rango 1..25): \"))\n",
    "        if shift < 1 or shift > 25:\n",
    "            raise ValueError\n",
    "    except ValueError:\n",
    "        print(\"Ingrese un valor de cambio válido (un número entero del rango 1..25)\")\n",
    "        \n",
    "alphabet = 'abcdefghijklmnopqrstuvwxyzabCDEFGHIJKLMNOPQRSTUVWXYZ'\n",
    "shifted_alphabet = alphabet[shift:] + alphabet[:shift]\n",
    "\n",
    "# Encriptar el texto\n",
    "encrypted_text = ''\n",
    "for char in text:\n",
    "    if char in alphabet:\n",
    "        encrypted_text += shifted_alphabet[alphabet.index(char)]\n",
    "    else:\n",
    "        encrypted_text += char\n",
    "\n",
    "# Imprimir el texto encriptado\n",
    "print(\"Texto encriptado:\", encrypted_text)"
   ]
  },
  {
   "cell_type": "code",
   "execution_count": null,
   "id": "13492dca",
   "metadata": {},
   "outputs": [],
   "source": [
    "text = input(\"Ingrese una línea de texto para encriptar: \")\n",
    "\n",
    "# Pedir al usuario un valor de cambio válido\n",
    "shift = None\n",
    "while shift is None:\n",
    "    try:\n",
    "        shift = int(input(\"Ingrese un valor de cambio (un número entero del rango 1..25): \"))\n",
    "        if shift < 1 or shift > 25:\n",
    "            raise ValueError\n",
    "    except ValueError:\n",
    "        print(\"Ingrese un valor de cambio válido (un número entero del rango 1..25)\")\n",
    "        \n",
    "alphabet = 'abcdefghijklmnopqrstuvwxyzABCDEFGHIJKLMNOPQRSTUVWXYZ'\n",
    "shifted_alphabet = alphabet[shift:] + alphabet[:shift]\n",
    "\n",
    "# Encriptar el texto\n",
    "encrypted_text = ''\n",
    "for char in text:\n",
    "    if char in alphabet:\n",
    "        encrypted_text += shifted_alphabet[alphabet.index(char)]\n",
    "    else:\n",
    "        encrypted_text += char\n",
    "\n",
    "# Imprimir el texto encriptado\n",
    "print(\"Texto encriptado:\", encrypted_text)"
   ]
  },
  {
   "cell_type": "code",
   "execution_count": null,
   "id": "413803f7",
   "metadata": {},
   "outputs": [],
   "source": [
    "# Ingresa el texto a encriptar.\n",
    "text = input(\"Ingresa un mensaje: \")\n",
    "\n",
    "# Ingresar un valor de cambio válido (repitelo hasta que tengas éxito).\n",
    "shift = 0\n",
    "\n",
    "while shift == 0:\n",
    "    try:    \n",
    "        shift = int(input(\"Ingresa el valor de cambio del cifrado (1..25): \"))\n",
    "        if shift not in range(1,26):\n",
    "        \traise ValueError\n",
    "    except ValueError:\n",
    "        shift = 0\n",
    "    if shift == 0:\n",
    "        print(\"¡Valor de cambio inválido!\")\n",
    "\n",
    "cipher = ''\n",
    "\n",
    "for char in text:\n",
    "    # ¿Es un letra?\n",
    "    if char.isalpha():\n",
    "        # Cambia su código.\n",
    "        code = ord(char) + shift\n",
    "        # Encontrar el código de la primera letra (mayúscula o minúscula).\n",
    "        if char.isupper():\n",
    "            first = ord('A')\n",
    "        else:\n",
    "            first = ord('a')\n",
    "        # Realizar corrección.\n",
    "        code -= first\n",
    "        code %= 26\n",
    "        # Agregar carácter codificado al mensaje.\n",
    "        cipher += chr(first + code)\n",
    "    else:\n",
    "        # Agregar carácter original al mensaje.\n",
    "        cipher += char\n",
    "\n",
    "print(cipher)\n",
    "    "
   ]
  },
  {
   "cell_type": "code",
   "execution_count": null,
   "id": "1b9c0462",
   "metadata": {},
   "outputs": [],
   "source": [
    "# Ingresa el texto a encriptar.\n",
    "text = input(\"Ingresa un mensaje: \")\n",
    "\n",
    "# Ingresar un valor de cambio válido (repitelo hasta que tengas éxito).\n",
    "shift = 0\n",
    "\n",
    "while shift == 0:\n",
    "    try:    \n",
    "        shift = int(input(\"Ingresa el valor de cambio del cifrado (1..25): \"))\n",
    "        if shift not in range(1,26):\n",
    "        \traise ValueError\n",
    "    except ValueError:\n",
    "        shift = 0\n",
    "    if shift == 0:\n",
    "        print(\"¡Valor de cambio inválido!\")\n",
    "\n",
    "cipher = ''\n",
    "\n",
    "for char in text:\n",
    "    # ¿Es un letra?\n",
    "    if char.isalpha():\n",
    "        # Cambia su código.\n",
    "        code = ord(char) + shift\n",
    "        # Encontrar el código de la primera letra (mayúscula o minúscula).\n",
    "        if char.isupper():\n",
    "            first = ord('A')\n",
    "        else:\n",
    "            first = ord('a')\n",
    "        # Realizar corrección.\n",
    "        code -= first\n",
    "        code %= 26\n",
    "        # Agregar carácter codificado al mensaje.\n",
    "        cipher += chr(first + code)\n",
    "    else:\n",
    "        # Agregar carácter original al mensaje.\n",
    "        cipher += char\n",
    "\n",
    "print(cipher)\n",
    "    \n",
    "    "
   ]
  },
  {
   "cell_type": "markdown",
   "id": "06b5b1f5",
   "metadata": {},
   "source": [
    "# Palíndromos"
   ]
  },
  {
   "cell_type": "markdown",
   "id": "800b2f16",
   "metadata": {},
   "source": [
    "¿Sabes qué es un palíndromo?\n",
    "\n",
    "Es una palabra que se ve igual cuando se lee hacia adelante y hacia atrás. Por ejemplo, \"kayak\" es un palíndromo, mientras que \"leal\" no lo es.\n",
    "\n",
    "Tu tarea es escribir un programa que:\n",
    "\n",
    "Le pida al usuario algún texto.\n",
    "Compruebe si el texto introducido es un palíndromo e imprima el resultado.\n",
    "Nota:\n",
    "\n",
    "Supón que una cadena vacía no es un palíndromo.\n",
    "Trata a las letras mayúsculas y minúsculas como iguales.\n",
    "Los espacios no se toman en cuenta durante la verificación: trátalos como inexistentes.\n",
    "Existe más de una solución correcta: intenta encontrar más de una.\n",
    "Prueba tu código utilizando los datos que te proporcionamos.\n",
    "\n",
    "Entrada de Muestra:\n",
    "\n",
    "Ten animals I slam in a net\n",
    "\n",
    "Salida de muestra:\n",
    "\n",
    "Es un palíndromo\n",
    "\n",
    "Entrada de Muestra:\n",
    "\n",
    "Eleven animals I slam in a net\n",
    "\n",
    "Salida de muestra:\n",
    "\n",
    "No es un palíndromo"
   ]
  },
  {
   "cell_type": "code",
   "execution_count": 1,
   "id": "c017fc61",
   "metadata": {},
   "outputs": [
    {
     "name": "stdout",
     "output_type": "stream",
     "text": [
      "Ingresa un texto: Ten animals I slam in a net\n",
      "Es un palíndromo\n"
     ]
    }
   ],
   "source": [
    "text = input(\"Ingresa un texto: \")\n",
    "\n",
    "# Quitar todos los espacios...\n",
    "text = text.replace(' ','')\n",
    "\n",
    "# ... y revisar si la palabra es igual en ambos sentidos\n",
    "if len(text) > 1 and text.upper() == text[::-1].upper():\n",
    "\tprint(\"Es un palíndromo\")\n",
    "else:\n",
    "\tprint(\"No es un palíndromo\")"
   ]
  },
  {
   "cell_type": "markdown",
   "id": "bdbcf52e",
   "metadata": {},
   "source": [
    "### Anagrams\n"
   ]
  },
  {
   "cell_type": "markdown",
   "id": "98ab6af5",
   "metadata": {},
   "source": [
    "Un anagrama es una nueva palabra formada al reorganizar las letras de una palabra, usando todas las letras originales exactamente una vez. Por ejemplo, las frases \"rail safety\" y \"fairy tales\" son anagramas, mientras que \"I am\" y \"You are\" no lo son.\n",
    "\n",
    "Tu tarea es escribir un programa que:\n",
    "\n",
    "Le pida al usuario dos textos por separado.\n",
    "Compruebe si los textos ingresados son anagramas e imprima el resultado.\n",
    "Nota:\n",
    "\n",
    "Supongamos que dos cadenas vacías no son anagramas.\n",
    "Tratar a las letras mayúsculas y minúsculas como iguales.\n",
    "Los espacios no se toman en cuenta durante la verificación: trátalos como inexistentes.\n",
    "Prueba tu código utilizando los datos que te proporcionamos.\n",
    "\n",
    "Entrada de Muestra: \n",
    "\n",
    "Listen\n",
    "\n",
    "Silent\n",
    "\n",
    "\n",
    "Salida de muestra:\n",
    "\n",
    "Anagramas\n",
    "\n",
    "\n",
    "Entrada de Muestra:\n",
    "\n",
    "modern\n",
    "norman\n",
    "\n",
    "Salida de muestra:\n",
    "\n",
    "No son anagramas"
   ]
  },
  {
   "cell_type": "code",
   "execution_count": 2,
   "id": "8996dd70",
   "metadata": {},
   "outputs": [
    {
     "name": "stdout",
     "output_type": "stream",
     "text": [
      "Ingrese el primer texto: Listen\n",
      "Ingrese el segundo texto: Silent\n",
      "Son anagramas\n"
     ]
    }
   ],
   "source": [
    "# Pedir al usuario dos textos por separado\n",
    "text1 = input(\"Ingrese el primer texto: \")\n",
    "text2 = input(\"Ingrese el segundo texto: \")\n",
    "\n",
    "# Eliminar espacios y convertir a minúsculas\n",
    "text1 = text1.replace(' ', '').lower()\n",
    "text2 = text2.replace(' ', '').lower()\n",
    "\n",
    "# Comprobar si son anagramas\n",
    "if sorted(text1) == sorted(text2):\n",
    "    print(\"Son anagramas\")\n",
    "else:\n",
    "    print(\"No son anagramas\")"
   ]
  },
  {
   "cell_type": "code",
   "execution_count": 3,
   "id": "23352ace",
   "metadata": {},
   "outputs": [
    {
     "name": "stdout",
     "output_type": "stream",
     "text": [
      "Ingrese el primer texto: modern\n",
      "Ingrese el segundo texto: woman\n",
      "No son anagramas\n"
     ]
    }
   ],
   "source": [
    "# Pedir al usuario dos textos por separado\n",
    "text1 = input(\"Ingrese el primer texto: \")\n",
    "text2 = input(\"Ingrese el segundo texto: \")\n",
    "\n",
    "# Eliminar espacios y convertir a minúsculas\n",
    "text1 = text1.replace(' ', '').lower()\n",
    "text2 = text2.replace(' ', '').lower()\n",
    "\n",
    "# Comprobar si son anagramas\n",
    "if sorted(text1) == sorted(text2):\n",
    "    print(\"Son anagramas\")\n",
    "else:\n",
    "    print(\"No son anagramas\")"
   ]
  },
  {
   "cell_type": "markdown",
   "id": "d85c2d75",
   "metadata": {},
   "source": [
    "### El digito de la vida"
   ]
  },
  {
   "cell_type": "markdown",
   "id": "4ccdd3b3",
   "metadata": {},
   "source": [
    "Algunos dicen que el Dígito de la Vida es un dígito calculado usando el cumpleaños de alguien. Es simple: solo necesitas sumar todos los dígitos de la fecha. Si el resultado contiene más de un dígito, se debe repetir la suma hasta obtener exactamente un dígito. Por ejemplo:\n",
    "\n",
    "1 Enero 2017 = 2017 01 01\n",
    "2 + 0 + 1 + 7 + 0 + 1 + 0 + 1 = 12\n",
    "1 + 2 = 3\n",
    "3 es el dígito que buscamos y encontramos.\n",
    "\n",
    "Tu tarea es escribir un programa que:\n",
    "\n",
    "Le pregunté al usuario su cumpleaños (en el formato AAAAMMDD o AAAADMM o MMDDAAAA; en realidad, el orden de los dígitos no importa).\n",
    "Dé como salida El Dígito de la Vida para la fecha ingresada.\n",
    "\n",
    "\n",
    "Entrada de Muestra:\n",
    "\n",
    "19991229\n",
    "\n",
    "Salida de muestra:\n",
    "\n",
    "6"
   ]
  },
  {
   "cell_type": "code",
   "execution_count": 4,
   "id": "15d9061d",
   "metadata": {},
   "outputs": [
    {
     "name": "stdout",
     "output_type": "stream",
     "text": [
      "Ingrese su cumpleaños (en el formato AAAAMMDD o AAAADMM o MMDDAAAA): 21051983\n",
      "El Dígito de la Vida es: 2\n"
     ]
    }
   ],
   "source": [
    "# Pedir al usuario su cumpleaños\n",
    "birthday = input(\"Ingrese su cumpleaños (en el formato AAAAMMDD o AAAADMM o MMDDAAAA): \")\n",
    "\n",
    "# Eliminar cualquier carácter que no sea un dígito\n",
    "birthday = ''.join(filter(str.isdigit, birthday))\n",
    "\n",
    "# Sumar los dígitos de la fecha hasta obtener un solo dígito\n",
    "while len(birthday) > 1:\n",
    "    birthday = str(sum(int(digit) for digit in birthday))\n",
    "\n",
    "# Imprimir el resultado\n",
    "print(\"El Dígito de la Vida es:\", birthday)"
   ]
  },
  {
   "cell_type": "code",
   "execution_count": 5,
   "id": "8e5daab1",
   "metadata": {},
   "outputs": [
    {
     "name": "stdout",
     "output_type": "stream",
     "text": [
      "Ingrese su cumpleaños (en el formato AAAAMMDD o AAAADMM o MMDDAAAA): 11071981\n",
      "El Dígito de la Vida es: 1\n"
     ]
    }
   ],
   "source": [
    "# Pedir al usuario su cumpleaños\n",
    "birthday = input(\"Ingrese su cumpleaños (en el formato AAAAMMDD o AAAADMM o MMDDAAAA): \")\n",
    "\n",
    "# Eliminar cualquier carácter que no sea un dígito\n",
    "birthday = ''.join(filter(str.isdigit, birthday))\n",
    "\n",
    "# Sumar los dígitos de la fecha hasta obtener un solo dígito\n",
    "while len(birthday) > 1:\n",
    "    birthday = str(sum(int(digit) for digit in birthday))\n",
    "\n",
    "# Imprimir el resultado\n",
    "print(\"El Dígito de la Vida es:\", birthday)"
   ]
  },
  {
   "cell_type": "code",
   "execution_count": 6,
   "id": "6811fe9b",
   "metadata": {},
   "outputs": [
    {
     "name": "stdout",
     "output_type": "stream",
     "text": [
      "Ingrese su cumpleaños (en el formato AAAAMMDD o AAAADMM o MMDDAAAA): 02061956\n",
      "El Dígito de la Vida es: 2\n"
     ]
    }
   ],
   "source": [
    "# Pedir al usuario su cumpleaños\n",
    "birthday = input(\"Ingrese su cumpleaños (en el formato AAAAMMDD o AAAADMM o MMDDAAAA): \")\n",
    "\n",
    "# Eliminar cualquier carácter que no sea un dígito\n",
    "birthday = ''.join(filter(str.isdigit, birthday))\n",
    "\n",
    "# Sumar los dígitos de la fecha hasta obtener un solo dígito\n",
    "while len(birthday) > 1:\n",
    "    birthday = str(sum(int(digit) for digit in birthday))\n",
    "\n",
    "# Imprimir el resultado\n",
    "print(\"El Dígito de la Vida es:\", birthday)"
   ]
  },
  {
   "cell_type": "code",
   "execution_count": 7,
   "id": "1ea18d08",
   "metadata": {},
   "outputs": [
    {
     "name": "stdout",
     "output_type": "stream",
     "text": [
      "Ingrese su cumpleaños (en el formato AAAAMMDD o AAAADMM o MMDDAAAA): 03011954\n",
      "El Dígito de la Vida es: 5\n"
     ]
    }
   ],
   "source": [
    "# Pedir al usuario su cumpleaños\n",
    "birthday = input(\"Ingrese su cumpleaños (en el formato AAAAMMDD o AAAADMM o MMDDAAAA): \")\n",
    "\n",
    "# Eliminar cualquier carácter que no sea un dígito\n",
    "birthday = ''.join(filter(str.isdigit, birthday))\n",
    "\n",
    "# Sumar los dígitos de la fecha hasta obtener un solo dígito\n",
    "while len(birthday) > 1:\n",
    "    birthday = str(sum(int(digit) for digit in birthday))\n",
    "\n",
    "# Imprimir el resultado\n",
    "print(\"El Dígito de la Vida es:\", birthday)"
   ]
  },
  {
   "cell_type": "code",
   "execution_count": 8,
   "id": "9a9068eb",
   "metadata": {},
   "outputs": [
    {
     "name": "stdout",
     "output_type": "stream",
     "text": [
      "Ingrese su cumpleaños (en el formato AAAAMMDD o AAAADMM o MMDDAAAA): 15031983\n",
      "El Dígito de la Vida es: 3\n"
     ]
    }
   ],
   "source": [
    "# Pedir al usuario su cumpleaños\n",
    "birthday = input(\"Ingrese su cumpleaños (en el formato AAAAMMDD o AAAADMM o MMDDAAAA): \")\n",
    "\n",
    "# Eliminar cualquier carácter que no sea un dígito\n",
    "birthday = ''.join(filter(str.isdigit, birthday))\n",
    "\n",
    "# Sumar los dígitos de la fecha hasta obtener un solo dígito\n",
    "while len(birthday) > 1:\n",
    "    birthday = str(sum(int(digit) for digit in birthday))\n",
    "\n",
    "# Imprimir el resultado\n",
    "print(\"El Dígito de la Vida es:\", birthday)"
   ]
  },
  {
   "cell_type": "code",
   "execution_count": 10,
   "id": "97d29025",
   "metadata": {},
   "outputs": [
    {
     "name": "stdout",
     "output_type": "stream",
     "text": [
      "Ingrese su cumpleaños (en el formato AAAAMMDD o AAAADMM o MMDDAAAA): 24121981\n",
      "El Dígito de la Vida es: 1\n"
     ]
    }
   ],
   "source": [
    "# Pedir al usuario su cumpleaños\n",
    "birthday = input(\"Ingrese su cumpleaños (en el formato AAAAMMDD o AAAADMM o MMDDAAAA): \")\n",
    "\n",
    "# Eliminar cualquier carácter que no sea un dígito\n",
    "birthday = ''.join(filter(str.isdigit, birthday))\n",
    "\n",
    "# Sumar los dígitos de la fecha hasta obtener un solo dígito\n",
    "while len(birthday) > 1:\n",
    "    birthday = str(sum(int(digit) for digit in birthday))\n",
    "\n",
    "# Imprimir el resultado\n",
    "print(\"El Dígito de la Vida es:\", birthday)"
   ]
  },
  {
   "cell_type": "markdown",
   "id": "088c1345",
   "metadata": {},
   "source": [
    "### !Encuentra una palabra!"
   ]
  },
  {
   "cell_type": "markdown",
   "id": "6f1ccac3",
   "metadata": {},
   "source": [
    "Vamos a jugar un juego. Te daremos dos cadenas: una es una palabra (por ejemplo, \"dog\") y la segunda es una combinación de un grupo de caracteres.\n",
    "\n",
    "Tu tarea es escribir un programa que responda la siguiente pregunta: ¿Los caracteres que comprenden la primera cadena están ocultos dentro de la segunda cadena?\n",
    "\n",
    "Por ejemplo:\n",
    "\n",
    "Si la segunda cadena es \"vcxzxduybfdsobywuefgas\", la respuesta es si;\n",
    "Si la segunda cadena es \"vcxzxdcybfdstbywuefsas\", la respuesta es no (ya que no están las letras \"d\", \"o\", o \"g\" ni en ese orden)\n",
    "Pistas:\n",
    "\n",
    "Debes usar las variantes de dos argumentos de las funciones pos() dentro de tu código.\n",
    "No te preocupes por mayúsculas y minúsculas.\n",
    "Prueba tu código utilizando los datos que te proporcionamos.\n",
    "\n",
    "Entrada de Muestra:\n",
    "\n",
    "donor\n",
    "Nabucodonosor\n",
    "\n",
    "Salida de muestra:\n",
    "\n",
    "Sí\n",
    "Output\n",
    "\n",
    "Entrada de Muestra:\n",
    "\n",
    "donut\n",
    "Nabucodonosor\n",
    "\n",
    "Salida de muestra:\n",
    "\n",
    "No"
   ]
  },
  {
   "cell_type": "code",
   "execution_count": 11,
   "id": "9a238bae",
   "metadata": {},
   "outputs": [
    {
     "name": "stdout",
     "output_type": "stream",
     "text": [
      "Ingrese la palabra: comunicacion\n",
      "Ingrese la combinación de caracteres: cioncamunico\n",
      "No\n"
     ]
    }
   ],
   "source": [
    "# Pedir al usuario las dos cadenas\n",
    "word = input(\"Ingrese la palabra: \").lower()\n",
    "letters = input(\"Ingrese la combinación de caracteres: \").lower()\n",
    "\n",
    "# Verificar si las letras están en la palabra en el orden correcto\n",
    "index = -1\n",
    "for letter in word:\n",
    "    try:\n",
    "        index = letters.index(letter, index+1)\n",
    "    except ValueError:\n",
    "        print(\"No\")\n",
    "        break\n",
    "else:\n",
    "    print(\"Sí\")"
   ]
  },
  {
   "cell_type": "markdown",
   "id": "26dfcf24",
   "metadata": {},
   "source": [
    "### Sudoku\n",
    "\n",
    "\n",
    "Como probablemente sabes, Sudoku es un rompecabezas de colocación de números jugado en un tablero de 9x9. El jugador tiene que llenar el tablero de una manera muy específica:\n",
    "\n",
    "Cada fila del tablero debe contener todos los dígitos del 0 al 9 (el orden no importa).\n",
    "\n",
    "Cada columna del tablero debe contener todos los dígitos del 0 al 9 (nuevamente, el orden no importa).\n",
    "\n",
    "Cada uno de los 9 subcuadros de 3x3 de la tabla debe contener todos los dígitos del 0 al 9.\n",
    "\n",
    "Tu tarea es escribir un programa que:\n",
    "\n",
    "Lea las 9 filas del Sudoku, cada una con 9 dígitos (verifica cuidadosamente si los datos ingresados son válidos).\n",
    "\n",
    "Da como salida Si si el Sudoku es válido y No de lo contrario.\n",
    "\n",
    "Prueba tu código utilizando los datos que te proporcionamos.\n",
    "\n",
    "Entrada de Muestra:\n",
    "\n",
    "295743861\n",
    "431865927\n",
    "876192543\n",
    "387459216\n",
    "612387495\n",
    "549216738\n",
    "763524189\n",
    "928671354\n",
    "154938672\n",
    "\n",
    "Salida de muestra:\n",
    "\n",
    "Si\n",
    "Output\n",
    "\n",
    "Entrada de Muestra:\n",
    "\n",
    "195743862\n",
    "431865927\n",
    "876192543\n",
    "387459216\n",
    "612387495\n",
    "549216738\n",
    "763524189\n",
    "928671354\n",
    "254938671\n",
    "\n",
    "Salida de muestra:\n",
    "\n",
    "No\n",
    "Output\n"
   ]
  },
  {
   "cell_type": "code",
   "execution_count": 12,
   "id": "15e3babc",
   "metadata": {},
   "outputs": [
    {
     "name": "stdout",
     "output_type": "stream",
     "text": [
      "Ingrese los 9 dígitos de la fila 1: 295743861\n",
      "Ingrese los 9 dígitos de la fila 2: 431865927\n",
      "Ingrese los 9 dígitos de la fila 3: 876192543\n",
      "Ingrese los 9 dígitos de la fila 4: 387459216\n",
      "Ingrese los 9 dígitos de la fila 5: 612387495\n",
      "Ingrese los 9 dígitos de la fila 6: 549216738\n",
      "Ingrese los 9 dígitos de la fila 7: 763524189\n",
      "Ingrese los 9 dígitos de la fila 8: 928671354\n",
      "Ingrese los 9 dígitos de la fila 9: 154938672\n",
      "No\n"
     ]
    }
   ],
   "source": [
    "# Leer las 9 filas del Sudoku\n",
    "rows = []\n",
    "for i in range(9):\n",
    "    row = input(f\"Ingrese los 9 dígitos de la fila {i+1}: \")\n",
    "    # Verificar que la fila tenga 9 dígitos\n",
    "    if len(row) != 9:\n",
    "        print(\"No\")\n",
    "        break\n",
    "    # Verificar que la fila contenga solo dígitos del 0 al 9\n",
    "    if not all(char.isdigit() for char in row):\n",
    "        print(\"No\")\n",
    "        break\n",
    "    rows.append(row)\n",
    "\n",
    "else:\n",
    "    # Verificar que cada fila contenga todos los dígitos del 0 al 9\n",
    "    for row in rows:\n",
    "        if set(row) != set('0123456789'):\n",
    "            print(\"No\")\n",
    "            break\n",
    "    else:\n",
    "        # Verificar que cada columna contenga todos los dígitos del 0 al 9\n",
    "        columns = [''.join(row[i] for row in rows) for i in range(9)]\n",
    "        for column in columns:\n",
    "            if set(column) != set('0123456789'):\n",
    "                print(\"No\")\n",
    "                break\n",
    "        else:\n",
    "            # Verificar que cada subcuadro de 3x3 contenga todos los dígitos del 0 al 9\n",
    "            squares = []\n",
    "            for i in range(0, 9, 3):\n",
    "                for j in range(0, 9, 3):\n",
    "                    square = ''.join(row[j:j+3] for row in rows[i:i+3])\n",
    "                    squares.append(square)\n",
    "            for square in squares:\n",
    "                if set(square) != set('0123456789'):\n",
    "                    print(\"No\")\n",
    "                    break\n",
    "            else:\n",
    "                print(\"Si\")"
   ]
  },
  {
   "cell_type": "code",
   "execution_count": null,
   "id": "5f7c41e4",
   "metadata": {},
   "outputs": [],
   "source": []
  }
 ],
 "metadata": {
  "kernelspec": {
   "display_name": "Python 3 (ipykernel)",
   "language": "python",
   "name": "python3"
  },
  "language_info": {
   "codemirror_mode": {
    "name": "ipython",
    "version": 3
   },
   "file_extension": ".py",
   "mimetype": "text/x-python",
   "name": "python",
   "nbconvert_exporter": "python",
   "pygments_lexer": "ipython3",
   "version": "3.8.3"
  }
 },
 "nbformat": 4,
 "nbformat_minor": 5
}
