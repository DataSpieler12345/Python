{
 "cells": [
  {
   "cell_type": "markdown",
   "id": "c63332d9",
   "metadata": {},
   "source": [
    "**import Pandas**"
   ]
  },
  {
   "cell_type": "code",
   "execution_count": 1,
   "id": "957aaf3d",
   "metadata": {},
   "outputs": [],
   "source": [
    "import pandas as pd"
   ]
  },
  {
   "cell_type": "markdown",
   "id": "175a000e",
   "metadata": {},
   "source": [
    "**Create a Serie**"
   ]
  },
  {
   "cell_type": "code",
   "execution_count": 8,
   "id": "bb6f5cb5",
   "metadata": {},
   "outputs": [],
   "source": [
    "l = [x for x in range(5)]"
   ]
  },
  {
   "cell_type": "code",
   "execution_count": 9,
   "id": "2db25eab",
   "metadata": {},
   "outputs": [],
   "source": [
    "s = pd.Series(l)"
   ]
  },
  {
   "cell_type": "code",
   "execution_count": 10,
   "id": "4d5ddd8c",
   "metadata": {},
   "outputs": [
    {
     "data": {
      "text/plain": [
       "0    0\n",
       "1    1\n",
       "2    2\n",
       "3    3\n",
       "4    4\n",
       "dtype: int64"
      ]
     },
     "execution_count": 10,
     "metadata": {},
     "output_type": "execute_result"
    }
   ],
   "source": [
    "s"
   ]
  },
  {
   "cell_type": "markdown",
   "id": "72ad3a3a",
   "metadata": {},
   "source": [
    "**Select 3 element of the serie**"
   ]
  },
  {
   "cell_type": "code",
   "execution_count": 7,
   "id": "e3b9b598",
   "metadata": {},
   "outputs": [
    {
     "data": {
      "text/plain": [
       "3"
      ]
     },
     "execution_count": 7,
     "metadata": {},
     "output_type": "execute_result"
    }
   ],
   "source": [
    "s[3]"
   ]
  },
  {
   "cell_type": "markdown",
   "id": "a4434c42",
   "metadata": {},
   "source": [
    "**Adding Manually labels**"
   ]
  },
  {
   "cell_type": "code",
   "execution_count": 11,
   "id": "73279bb7",
   "metadata": {},
   "outputs": [],
   "source": [
    "s = pd.Series(l, index= ['a','b','c','d','e'])"
   ]
  },
  {
   "cell_type": "code",
   "execution_count": 12,
   "id": "eb980194",
   "metadata": {},
   "outputs": [
    {
     "data": {
      "text/plain": [
       "a    0\n",
       "b    1\n",
       "c    2\n",
       "d    3\n",
       "e    4\n",
       "dtype: int64"
      ]
     },
     "execution_count": 12,
     "metadata": {},
     "output_type": "execute_result"
    }
   ],
   "source": [
    "s"
   ]
  },
  {
   "cell_type": "code",
   "execution_count": 13,
   "id": "c706928f",
   "metadata": {},
   "outputs": [
    {
     "data": {
      "text/plain": [
       "4"
      ]
     },
     "execution_count": 13,
     "metadata": {},
     "output_type": "execute_result"
    }
   ],
   "source": [
    "s['e']"
   ]
  },
  {
   "cell_type": "code",
   "execution_count": 14,
   "id": "783570c2",
   "metadata": {},
   "outputs": [],
   "source": [
    "s = pd.Series(l, index= ['a','b','c','d','d'])"
   ]
  },
  {
   "cell_type": "code",
   "execution_count": 15,
   "id": "b9fbb714",
   "metadata": {},
   "outputs": [
    {
     "data": {
      "text/plain": [
       "d    3\n",
       "d    4\n",
       "dtype: int64"
      ]
     },
     "execution_count": 15,
     "metadata": {},
     "output_type": "execute_result"
    }
   ],
   "source": [
    "s['d']"
   ]
  },
  {
   "cell_type": "markdown",
   "id": "99c66185",
   "metadata": {},
   "source": [
    "**create a Series from a Dictionary**"
   ]
  },
  {
   "cell_type": "code",
   "execution_count": 16,
   "id": "f2e4d477",
   "metadata": {},
   "outputs": [],
   "source": [
    "data = {'a':1,'b':2,'c':3,'d':4} #the dictionary"
   ]
  },
  {
   "cell_type": "code",
   "execution_count": 17,
   "id": "f76a9a62",
   "metadata": {},
   "outputs": [],
   "source": [
    "s = pd.Series(data)"
   ]
  },
  {
   "cell_type": "code",
   "execution_count": 18,
   "id": "7479a0b4",
   "metadata": {},
   "outputs": [
    {
     "data": {
      "text/plain": [
       "a    1\n",
       "b    2\n",
       "c    3\n",
       "d    4\n",
       "dtype: int64"
      ]
     },
     "execution_count": 18,
     "metadata": {},
     "output_type": "execute_result"
    }
   ],
   "source": [
    "s"
   ]
  },
  {
   "cell_type": "code",
   "execution_count": null,
   "id": "145a0edf",
   "metadata": {},
   "outputs": [],
   "source": []
  }
 ],
 "metadata": {
  "kernelspec": {
   "display_name": "Python 3 (ipykernel)",
   "language": "python",
   "name": "python3"
  },
  "language_info": {
   "codemirror_mode": {
    "name": "ipython",
    "version": 3
   },
   "file_extension": ".py",
   "mimetype": "text/x-python",
   "name": "python",
   "nbconvert_exporter": "python",
   "pygments_lexer": "ipython3",
   "version": "3.8.3"
  }
 },
 "nbformat": 4,
 "nbformat_minor": 5
}
