{
 "cells": [
  {
   "cell_type": "markdown",
   "id": "594b097b",
   "metadata": {},
   "source": [
    "# Scikit-Learn: Models\n",
    "\n",
    "**Some popular modesl provided by scikit-learn are**:\n",
    "\n",
    "\t* Clustering (use: grouping and label data)\n",
    "    \n",
    "    * Cross-validation (use: to testing the accuracy of an unsupervised Models)\n",
    "    \n",
    "    * Ensemble methods (use: result to combine with a supervised models to make better predictions)\n",
    "    \n",
    "     * Feature extraction (use: extract features from the data to define the atrributes, pictures and text data)\n",
    "    \n",
    "    * Feature selection (use: identifiy usable properties for creating a supervised model)   \n",
    "    \n",
    "    * Parameter tuning (use: to determine parameter which are the best result)\n",
    "    \n",
    "    * Supervised learning algorithms (use: include linearRegression, SVM, and decision trees)\n",
    "    \n",
    "    * Unsupervised learning algorithms (use:include clustering, compose analysis, unsupervised neural network)"
   ]
  },
  {
   "cell_type": "code",
   "execution_count": null,
   "id": "5d1745ca",
   "metadata": {},
   "outputs": [],
   "source": []
  }
 ],
 "metadata": {
  "kernelspec": {
   "display_name": "Python 3 (ipykernel)",
   "language": "python",
   "name": "python3"
  },
  "language_info": {
   "codemirror_mode": {
    "name": "ipython",
    "version": 3
   },
   "file_extension": ".py",
   "mimetype": "text/x-python",
   "name": "python",
   "nbconvert_exporter": "python",
   "pygments_lexer": "ipython3",
   "version": "3.8.3"
  }
 },
 "nbformat": 4,
 "nbformat_minor": 5
}
