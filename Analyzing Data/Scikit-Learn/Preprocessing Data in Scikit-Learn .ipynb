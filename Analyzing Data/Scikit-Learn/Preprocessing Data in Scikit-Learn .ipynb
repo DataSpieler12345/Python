{
 "cells": [
  {
   "cell_type": "markdown",
   "id": "1bc80a2c",
   "metadata": {},
   "source": [
    "# Preprocessing Data in Scikit-Learn \n",
    "\n",
    "The **sklearn.preprocessing** package includes a set of common utility methos and transformer classes for transforming raw features vectors into the **best-fitting** representation for downstream estimators. \n",
    "\n",
    "These are:\n",
    "\n",
    "**Standarization (mean removal and variance scaling)**\n",
    "\n",
    "\n",
    "* it is a scaling thecnique with data values that are normally distributed. Standardization also tends to make the \n",
    "     \n",
    "  datasets **mean** 0 and its standard deviation 1\n",
    "    \n",
    "\n",
    "**Normalization**\n",
    "\n",
    "\n",
    "* Is a scikit-learn approach that rescales each observation to a lenght of 1, which is a unit form in linear algebra\n",
    "    \n",
    "    \n",
    "* Normalizer class software is best used for nomralizing data in Python\n",
    "    \n",
    "    \n",
    "* Function to achieve functionality to complete normalization                              :\n",
    "        \t\n",
    "     * fit(data) \n",
    "              \n",
    "     * transform(data)\n",
    "              \n",
    "     * fit_transform()\n",
    "             \n",
    " * Normalization using MinMaxScaler*\n",
    "     \n",
    "     * MinMaxScaler scales each feature to a defined range. This estimator does this to each feature separately so that it falls within the range given on the training set, for example between zero and one.\n",
    "        \n",
    "\n",
    "**Imputation of missing values**\n",
    "\n",
    "Algorithms cannot process missing values. Imputers infer the value of missing dfata from existing data.\n",
    "\n",
    "**Encoding categorical features**\n",
    "\n",
    "A categorifcal variable is one that has a finite number of possible values and assigns each individual or other unit of observation to a specific group based on some qualitative property.\n",
    "\n",
    "* for example:\n",
    "\n",
    "\t* Roll of a six-sided dice\n",
    "    \n",
    "    * Demographic information of a population\n",
    "    \n",
    "    \n",
    "* to deal enconding categorical variable:\n",
    "\n",
    "\t* Ordinal encoding\n",
    "    \n",
    "    \t* it assign each unique value to a differente variable\n",
    "    \n",
    "    * One-hot encoding\n",
    "    \n",
    "    \t* It adds extra columns to the original data to indicate if every possible value is present."
   ]
  },
  {
   "cell_type": "code",
   "execution_count": null,
   "id": "d0895a55",
   "metadata": {},
   "outputs": [],
   "source": []
  },
  {
   "cell_type": "code",
   "execution_count": null,
   "id": "5d0e84fb",
   "metadata": {},
   "outputs": [],
   "source": []
  }
 ],
 "metadata": {
  "kernelspec": {
   "display_name": "Python 3 (ipykernel)",
   "language": "python",
   "name": "python3"
  },
  "language_info": {
   "codemirror_mode": {
    "name": "ipython",
    "version": 3
   },
   "file_extension": ".py",
   "mimetype": "text/x-python",
   "name": "python",
   "nbconvert_exporter": "python",
   "pygments_lexer": "ipython3",
   "version": "3.8.3"
  }
 },
 "nbformat": 4,
 "nbformat_minor": 5
}
