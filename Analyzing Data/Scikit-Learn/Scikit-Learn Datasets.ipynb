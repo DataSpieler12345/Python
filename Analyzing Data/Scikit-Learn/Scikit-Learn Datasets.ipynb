{
 "cells": [
  {
   "cell_type": "markdown",
   "id": "1b158aeb",
   "metadata": {},
   "source": [
    "# Scikit-Learn Datasets\n",
    "\n",
    "**Scikit-Learn** provides sample datasets that can be used for clustering, regression, and classification problems.\n",
    "\n",
    "* Include datasets like:\n",
    "\n",
    "\t* Boston house prices\n",
    "    \n",
    "    * Iris plants\n",
    "    \n",
    "    * Wine recognition\n",
    "    \n",
    "    * Breast cancer\n",
    "    \n",
    "    * Diabetes\n",
    "    \n",
    "    * Digits\n",
    "    \n",
    "    \n",
    "**Import Datasets Using Scikit-Learn**\n",
    "\n",
    "* Use the sklearn library with the import keyword to import a dataset:\n",
    "\n",
    "\t* from sklearn import datasets\n",
    "    \n",
    "**A load functions is used to load each dataset, and its syntax is shown below**:\n",
    "\n",
    "\t* load_dataset()\n",
    "    \n",
    " *here,dataset() refers to the name of the dataset\n",
    " \n",
    " \n",
    "**Import Datasets using Scikit-Learn: Example\n",
    "\n",
    "An example to import a **dataset** in a key-value pair is given below:\n",
    "\n",
    "import pandas as pd\n",
    "\n",
    "import numpy as np\n",
    "\n",
    "from sklearn import datasets\n",
    "\n",
    "data = datasets.load_breast_cancer()\n",
    "\n",
    "data\n"
   ]
  },
  {
   "cell_type": "code",
   "execution_count": null,
   "id": "038139ef",
   "metadata": {},
   "outputs": [],
   "source": []
  }
 ],
 "metadata": {
  "kernelspec": {
   "display_name": "Python 3 (ipykernel)",
   "language": "python",
   "name": "python3"
  },
  "language_info": {
   "codemirror_mode": {
    "name": "ipython",
    "version": 3
   },
   "file_extension": ".py",
   "mimetype": "text/x-python",
   "name": "python",
   "nbconvert_exporter": "python",
   "pygments_lexer": "ipython3",
   "version": "3.8.3"
  }
 },
 "nbformat": 4,
 "nbformat_minor": 5
}
