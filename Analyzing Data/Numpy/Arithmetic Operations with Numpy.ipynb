{
 "cells": [
  {
   "cell_type": "code",
   "execution_count": 3,
   "id": "38cf4f2b",
   "metadata": {},
   "outputs": [],
   "source": [
    "import numpy as np"
   ]
  },
  {
   "cell_type": "markdown",
   "id": "9fd1a6bf",
   "metadata": {},
   "source": [
    "**Lets create two 1D array**"
   ]
  },
  {
   "cell_type": "code",
   "execution_count": 4,
   "id": "f8a4643a",
   "metadata": {},
   "outputs": [],
   "source": [
    "A = np.array([[1,2,1], [2,2,3]])\n",
    "B = np.array([3,4,5])"
   ]
  },
  {
   "cell_type": "code",
   "execution_count": 5,
   "id": "d3cfcd8b",
   "metadata": {},
   "outputs": [
    {
     "data": {
      "text/plain": [
       "array([[1, 2, 1],\n",
       "       [2, 2, 3]])"
      ]
     },
     "execution_count": 5,
     "metadata": {},
     "output_type": "execute_result"
    }
   ],
   "source": [
    "A"
   ]
  },
  {
   "cell_type": "code",
   "execution_count": 6,
   "id": "bc5cf7d8",
   "metadata": {},
   "outputs": [
    {
     "data": {
      "text/plain": [
       "array([3, 4, 5])"
      ]
     },
     "execution_count": 6,
     "metadata": {},
     "output_type": "execute_result"
    }
   ],
   "source": [
    "B"
   ]
  },
  {
   "cell_type": "markdown",
   "id": "b912022a",
   "metadata": {},
   "source": [
    "**Adding both array togehter** Add Method"
   ]
  },
  {
   "cell_type": "code",
   "execution_count": 8,
   "id": "ad872294",
   "metadata": {},
   "outputs": [
    {
     "data": {
      "text/plain": [
       "array([[4, 6, 6],\n",
       "       [5, 6, 8]])"
      ]
     },
     "execution_count": 8,
     "metadata": {},
     "output_type": "execute_result"
    }
   ],
   "source": [
    "np.add(A,B)"
   ]
  },
  {
   "cell_type": "markdown",
   "id": "3482eb5b",
   "metadata": {},
   "source": [
    "**Substract Method** to subtract a numpy array"
   ]
  },
  {
   "cell_type": "code",
   "execution_count": 9,
   "id": "fee6a951",
   "metadata": {},
   "outputs": [
    {
     "data": {
      "text/plain": [
       "array([[2, 2, 4],\n",
       "       [1, 2, 2]])"
      ]
     },
     "execution_count": 9,
     "metadata": {},
     "output_type": "execute_result"
    }
   ],
   "source": [
    "np.subtract(B,A)"
   ]
  },
  {
   "cell_type": "markdown",
   "id": "8302fbc1",
   "metadata": {},
   "source": [
    "**Multiply Method**"
   ]
  },
  {
   "cell_type": "code",
   "execution_count": 10,
   "id": "2e8e7805",
   "metadata": {},
   "outputs": [
    {
     "data": {
      "text/plain": [
       "array([[ 3,  8,  5],\n",
       "       [ 6,  8, 15]])"
      ]
     },
     "execution_count": 10,
     "metadata": {},
     "output_type": "execute_result"
    }
   ],
   "source": [
    "np.multiply(A,B)"
   ]
  },
  {
   "cell_type": "markdown",
   "id": "130c96d1",
   "metadata": {},
   "source": [
    "**Divide Method**"
   ]
  },
  {
   "cell_type": "code",
   "execution_count": 11,
   "id": "d996d837",
   "metadata": {},
   "outputs": [
    {
     "data": {
      "text/plain": [
       "array([[0.33333333, 0.5       , 0.2       ],\n",
       "       [0.66666667, 0.5       , 0.6       ]])"
      ]
     },
     "execution_count": 11,
     "metadata": {},
     "output_type": "execute_result"
    }
   ],
   "source": [
    "np.divide(A,B)"
   ]
  },
  {
   "cell_type": "markdown",
   "id": "529785a7",
   "metadata": {},
   "source": [
    "**Power Method**"
   ]
  },
  {
   "cell_type": "code",
   "execution_count": 13,
   "id": "cb52bbda",
   "metadata": {},
   "outputs": [
    {
     "data": {
      "text/plain": [
       "array([[1, 4, 1],\n",
       "       [4, 4, 9]], dtype=int32)"
      ]
     },
     "execution_count": 13,
     "metadata": {},
     "output_type": "execute_result"
    }
   ],
   "source": [
    "np.power(A,2)"
   ]
  },
  {
   "cell_type": "code",
   "execution_count": 14,
   "id": "1516a623",
   "metadata": {},
   "outputs": [
    {
     "data": {
      "text/plain": [
       "array([[  1,  16,   1],\n",
       "       [  8,  16, 243]], dtype=int32)"
      ]
     },
     "execution_count": 14,
     "metadata": {},
     "output_type": "execute_result"
    }
   ],
   "source": [
    "np.power(A,B)"
   ]
  },
  {
   "cell_type": "code",
   "execution_count": null,
   "id": "1d4bfdda",
   "metadata": {},
   "outputs": [],
   "source": []
  }
 ],
 "metadata": {
  "kernelspec": {
   "display_name": "Python 3 (ipykernel)",
   "language": "python",
   "name": "python3"
  },
  "language_info": {
   "codemirror_mode": {
    "name": "ipython",
    "version": 3
   },
   "file_extension": ".py",
   "mimetype": "text/x-python",
   "name": "python",
   "nbconvert_exporter": "python",
   "pygments_lexer": "ipython3",
   "version": "3.8.3"
  }
 },
 "nbformat": 4,
 "nbformat_minor": 5
}
