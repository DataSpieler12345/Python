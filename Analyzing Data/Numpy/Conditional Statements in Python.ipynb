{
 "cells": [
  {
   "cell_type": "code",
   "execution_count": 1,
   "id": "89d7dfe8",
   "metadata": {},
   "outputs": [],
   "source": [
    "import numpy as np"
   ]
  },
  {
   "cell_type": "markdown",
   "id": "8edf169f",
   "metadata": {},
   "source": [
    "**Create a numpy array**"
   ]
  },
  {
   "cell_type": "code",
   "execution_count": 2,
   "id": "d5395e49",
   "metadata": {},
   "outputs": [
    {
     "data": {
      "text/plain": [
       "array([0, 1, 2, 3, 4, 5, 6, 7, 8, 9])"
      ]
     },
     "execution_count": 2,
     "metadata": {},
     "output_type": "execute_result"
    }
   ],
   "source": [
    "x = np.array([i for i in range(10)])\n",
    "x"
   ]
  },
  {
   "cell_type": "markdown",
   "id": "83a2a18e",
   "metadata": {},
   "source": [
    "**Lets create the conditions True**"
   ]
  },
  {
   "cell_type": "code",
   "execution_count": 3,
   "id": "209e40a4",
   "metadata": {},
   "outputs": [
    {
     "data": {
      "text/plain": [
       "array(['Even', 'Odd', 'Even', 'Odd', 'Even', 'Odd', 'Even', 'Odd', 'Even',\n",
       "       'Odd'], dtype='<U4')"
      ]
     },
     "execution_count": 3,
     "metadata": {},
     "output_type": "execute_result"
    }
   ],
   "source": [
    "np.where(x%2==0, 'Even', 'Odd')"
   ]
  },
  {
   "cell_type": "markdown",
   "id": "951af8f8",
   "metadata": {},
   "source": [
    "**Lets create the conditions List**"
   ]
  },
  {
   "cell_type": "code",
   "execution_count": 4,
   "id": "23db34bb",
   "metadata": {},
   "outputs": [],
   "source": [
    "condlist = [x<5, x>5]"
   ]
  },
  {
   "cell_type": "markdown",
   "id": "47f9c754",
   "metadata": {},
   "source": [
    "**Lets create the conditions ChoiceList**"
   ]
  },
  {
   "cell_type": "code",
   "execution_count": 6,
   "id": "0d78a810",
   "metadata": {},
   "outputs": [],
   "source": [
    "choicelist = [x**2, x**3]"
   ]
  },
  {
   "cell_type": "markdown",
   "id": "996fe140",
   "metadata": {},
   "source": [
    "**Numpy Select Method**"
   ]
  },
  {
   "cell_type": "code",
   "execution_count": 8,
   "id": "54fb7322",
   "metadata": {},
   "outputs": [
    {
     "data": {
      "text/plain": [
       "array([  0,   1,   4,   9,  16,   5, 216, 343, 512, 729])"
      ]
     },
     "execution_count": 8,
     "metadata": {},
     "output_type": "execute_result"
    }
   ],
   "source": [
    "np.select(condlist,choicelist, default=x)"
   ]
  },
  {
   "cell_type": "code",
   "execution_count": null,
   "id": "2bcfd861",
   "metadata": {},
   "outputs": [],
   "source": []
  }
 ],
 "metadata": {
  "kernelspec": {
   "display_name": "Python 3 (ipykernel)",
   "language": "python",
   "name": "python3"
  },
  "language_info": {
   "codemirror_mode": {
    "name": "ipython",
    "version": 3
   },
   "file_extension": ".py",
   "mimetype": "text/x-python",
   "name": "python",
   "nbconvert_exporter": "python",
   "pygments_lexer": "ipython3",
   "version": "3.8.3"
  }
 },
 "nbformat": 4,
 "nbformat_minor": 5
}
