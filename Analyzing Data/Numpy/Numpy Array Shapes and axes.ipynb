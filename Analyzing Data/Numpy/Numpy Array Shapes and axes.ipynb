{
 "cells": [
  {
   "cell_type": "markdown",
   "id": "1251415f",
   "metadata": {},
   "source": [
    "# Numpy Array Shapes and axes "
   ]
  },
  {
   "cell_type": "code",
   "execution_count": 1,
   "id": "c738e24f",
   "metadata": {},
   "outputs": [],
   "source": [
    "import numpy as np"
   ]
  },
  {
   "cell_type": "code",
   "execution_count": 2,
   "id": "3a5ccf61",
   "metadata": {},
   "outputs": [
    {
     "data": {
      "text/plain": [
       "array(24)"
      ]
     },
     "execution_count": 2,
     "metadata": {},
     "output_type": "execute_result"
    }
   ],
   "source": [
    "np.array(24)"
   ]
  },
  {
   "cell_type": "markdown",
   "id": "e761a5ba",
   "metadata": {},
   "source": [
    "**Lets create 1D array**"
   ]
  },
  {
   "cell_type": "code",
   "execution_count": 3,
   "id": "5eb45313",
   "metadata": {},
   "outputs": [
    {
     "data": {
      "text/plain": [
       "array([1, 2, 3, 4])"
      ]
     },
     "execution_count": 3,
     "metadata": {},
     "output_type": "execute_result"
    }
   ],
   "source": [
    "np.array([1,2,3,4])"
   ]
  },
  {
   "cell_type": "markdown",
   "id": "c225785b",
   "metadata": {},
   "source": [
    "**Lets create 2D array**"
   ]
  },
  {
   "cell_type": "code",
   "execution_count": 5,
   "id": "dff28b2b",
   "metadata": {},
   "outputs": [
    {
     "data": {
      "text/plain": [
       "array([[1, 1, 1],\n",
       "       [1, 2, 1]])"
      ]
     },
     "execution_count": 5,
     "metadata": {},
     "output_type": "execute_result"
    }
   ],
   "source": [
    "np.array([[1,1,1], [1,2,1]])"
   ]
  },
  {
   "cell_type": "markdown",
   "id": "5f7f0707",
   "metadata": {},
   "source": [
    "**Lets create 3D array**"
   ]
  },
  {
   "cell_type": "code",
   "execution_count": 8,
   "id": "45766f97",
   "metadata": {},
   "outputs": [
    {
     "data": {
      "text/plain": [
       "array([[[1, 1, 1],\n",
       "        [2, 2, 2]],\n",
       "\n",
       "       [[3, 3, 3],\n",
       "        [4, 4, 4]]])"
      ]
     },
     "execution_count": 8,
     "metadata": {},
     "output_type": "execute_result"
    }
   ],
   "source": [
    "np.array([[[1,1,1], [2,2,2]], [[3,3,3], [4,4,4]]])"
   ]
  },
  {
   "cell_type": "markdown",
   "id": "03d52d16",
   "metadata": {},
   "source": [
    "**Lets create a variable**"
   ]
  },
  {
   "cell_type": "code",
   "execution_count": 9,
   "id": "ad1ef42d",
   "metadata": {},
   "outputs": [],
   "source": [
    "numpy_arr = np.array([[[1,1,1], [2,2,2]], [[3,3,3], [4,4,4]]]) # 3d"
   ]
  },
  {
   "cell_type": "code",
   "execution_count": 10,
   "id": "5f399f81",
   "metadata": {},
   "outputs": [
    {
     "data": {
      "text/plain": [
       "(2, 2, 3)"
      ]
     },
     "execution_count": 10,
     "metadata": {},
     "output_type": "execute_result"
    }
   ],
   "source": [
    "numpy_arr.shape"
   ]
  },
  {
   "cell_type": "code",
   "execution_count": 13,
   "id": "a9323a84",
   "metadata": {},
   "outputs": [],
   "source": [
    "numpy_arr_1D = np.array([1,2,3,4]) # 1d"
   ]
  },
  {
   "cell_type": "code",
   "execution_count": 14,
   "id": "90cf0f97",
   "metadata": {},
   "outputs": [
    {
     "data": {
      "text/plain": [
       "(4,)"
      ]
     },
     "execution_count": 14,
     "metadata": {},
     "output_type": "execute_result"
    }
   ],
   "source": [
    "numpy_arr_1D.shape"
   ]
  },
  {
   "cell_type": "code",
   "execution_count": 16,
   "id": "b10f7fc2",
   "metadata": {},
   "outputs": [],
   "source": [
    "numpy_arr_2D = np.array([[1,1,1], [1,2,1]]) #2D"
   ]
  },
  {
   "cell_type": "code",
   "execution_count": 17,
   "id": "f8b7208a",
   "metadata": {},
   "outputs": [
    {
     "data": {
      "text/plain": [
       "(2, 3)"
      ]
     },
     "execution_count": 17,
     "metadata": {},
     "output_type": "execute_result"
    }
   ],
   "source": [
    "numpy_arr_2D.shape"
   ]
  },
  {
   "cell_type": "markdown",
   "id": "59860617",
   "metadata": {},
   "source": [
    "**Number of dimension**"
   ]
  },
  {
   "cell_type": "code",
   "execution_count": 11,
   "id": "32470fdf",
   "metadata": {},
   "outputs": [
    {
     "data": {
      "text/plain": [
       "3"
      ]
     },
     "execution_count": 11,
     "metadata": {},
     "output_type": "execute_result"
    }
   ],
   "source": [
    "numpy_arr.ndim #3D"
   ]
  },
  {
   "cell_type": "code",
   "execution_count": 15,
   "id": "902684c3",
   "metadata": {},
   "outputs": [
    {
     "data": {
      "text/plain": [
       "1"
      ]
     },
     "execution_count": 15,
     "metadata": {},
     "output_type": "execute_result"
    }
   ],
   "source": [
    "numpy_arr_1D.ndim #1D"
   ]
  },
  {
   "cell_type": "code",
   "execution_count": 19,
   "id": "abbb2e70",
   "metadata": {},
   "outputs": [
    {
     "data": {
      "text/plain": [
       "2"
      ]
     },
     "execution_count": 19,
     "metadata": {},
     "output_type": "execute_result"
    }
   ],
   "source": [
    "numpy_arr_2D.ndim #2D"
   ]
  },
  {
   "cell_type": "markdown",
   "id": "e861bf59",
   "metadata": {},
   "source": [
    "**Lets create another way a 1D array and transformt it into a 3D array**"
   ]
  },
  {
   "cell_type": "code",
   "execution_count": 20,
   "id": "7a823497",
   "metadata": {},
   "outputs": [],
   "source": [
    "numpy_arr_new = np.array([x for x in range(1,10)])"
   ]
  },
  {
   "cell_type": "code",
   "execution_count": 21,
   "id": "051b9eda",
   "metadata": {},
   "outputs": [
    {
     "data": {
      "text/plain": [
       "array([1, 2, 3, 4, 5, 6, 7, 8, 9])"
      ]
     },
     "execution_count": 21,
     "metadata": {},
     "output_type": "execute_result"
    }
   ],
   "source": [
    "numpy_arr_new"
   ]
  },
  {
   "cell_type": "code",
   "execution_count": 22,
   "id": "deaa5263",
   "metadata": {},
   "outputs": [
    {
     "data": {
      "text/plain": [
       "array([[1, 2, 3],\n",
       "       [4, 5, 6],\n",
       "       [7, 8, 9]])"
      ]
     },
     "execution_count": 22,
     "metadata": {},
     "output_type": "execute_result"
    }
   ],
   "source": [
    "numpy_arr_new.reshape(3,3)"
   ]
  },
  {
   "cell_type": "markdown",
   "id": "288075e0",
   "metadata": {},
   "source": [
    "**Another Sample, lets create another way a 1D array and transformt it into a 3D array**"
   ]
  },
  {
   "cell_type": "code",
   "execution_count": 24,
   "id": "36867a17",
   "metadata": {},
   "outputs": [],
   "source": [
    "numpy_arr_new3 = np.array([x for x in range(1,13)])"
   ]
  },
  {
   "cell_type": "code",
   "execution_count": 25,
   "id": "aa8cfd21",
   "metadata": {},
   "outputs": [
    {
     "data": {
      "text/plain": [
       "array([ 1,  2,  3,  4,  5,  6,  7,  8,  9, 10, 11, 12])"
      ]
     },
     "execution_count": 25,
     "metadata": {},
     "output_type": "execute_result"
    }
   ],
   "source": [
    "numpy_arr_new3"
   ]
  },
  {
   "cell_type": "code",
   "execution_count": 26,
   "id": "8f0984e2",
   "metadata": {},
   "outputs": [
    {
     "data": {
      "text/plain": [
       "array([[[ 1,  2,  3],\n",
       "        [ 4,  5,  6]],\n",
       "\n",
       "       [[ 7,  8,  9],\n",
       "        [10, 11, 12]]])"
      ]
     },
     "execution_count": 26,
     "metadata": {},
     "output_type": "execute_result"
    }
   ],
   "source": [
    "numpy_arr_new3.reshape(2,2,3)"
   ]
  },
  {
   "cell_type": "code",
   "execution_count": 27,
   "id": "123d5854",
   "metadata": {},
   "outputs": [
    {
     "data": {
      "text/plain": [
       "array([[[ 1,  2],\n",
       "        [ 3,  4]],\n",
       "\n",
       "       [[ 5,  6],\n",
       "        [ 7,  8]],\n",
       "\n",
       "       [[ 9, 10],\n",
       "        [11, 12]]])"
      ]
     },
     "execution_count": 27,
     "metadata": {},
     "output_type": "execute_result"
    }
   ],
   "source": [
    "numpy_arr_new3.reshape(3,2,2)"
   ]
  },
  {
   "cell_type": "markdown",
   "id": "6765e7bf",
   "metadata": {},
   "source": [
    "**Reshape method is useful when using dynamics data sets**"
   ]
  },
  {
   "cell_type": "code",
   "execution_count": 28,
   "id": "3e4421e6",
   "metadata": {},
   "outputs": [
    {
     "data": {
      "text/plain": [
       "array([[[ 1,  2,  3],\n",
       "        [ 4,  5,  6]],\n",
       "\n",
       "       [[ 7,  8,  9],\n",
       "        [10, 11, 12]]])"
      ]
     },
     "execution_count": 28,
     "metadata": {},
     "output_type": "execute_result"
    }
   ],
   "source": [
    "numpy_arr_new3.reshape(2,2,-1)"
   ]
  },
  {
   "cell_type": "markdown",
   "id": "4eaeda60",
   "metadata": {},
   "source": [
    "**Lets create the variable**"
   ]
  },
  {
   "cell_type": "code",
   "execution_count": 29,
   "id": "adb340fa",
   "metadata": {},
   "outputs": [],
   "source": [
    "numpy_arr_new3 = numpy_arr_new3.reshape(3,2,2)"
   ]
  },
  {
   "cell_type": "code",
   "execution_count": 30,
   "id": "300a1cda",
   "metadata": {},
   "outputs": [
    {
     "data": {
      "text/plain": [
       "array([[[ 1,  2],\n",
       "        [ 3,  4]],\n",
       "\n",
       "       [[ 5,  6],\n",
       "        [ 7,  8]],\n",
       "\n",
       "       [[ 9, 10],\n",
       "        [11, 12]]])"
      ]
     },
     "execution_count": 30,
     "metadata": {},
     "output_type": "execute_result"
    }
   ],
   "source": [
    "numpy_arr_new3"
   ]
  },
  {
   "cell_type": "code",
   "execution_count": 31,
   "id": "138dfcf6",
   "metadata": {},
   "outputs": [
    {
     "data": {
      "text/plain": [
       "array([ 1,  2,  3,  4,  5,  6,  7,  8,  9, 10, 11, 12])"
      ]
     },
     "execution_count": 31,
     "metadata": {},
     "output_type": "execute_result"
    }
   ],
   "source": [
    "numpy_arr_new3.reshape(-1) #1D Numpy Array"
   ]
  },
  {
   "cell_type": "code",
   "execution_count": null,
   "id": "264f574b",
   "metadata": {},
   "outputs": [],
   "source": []
  }
 ],
 "metadata": {
  "kernelspec": {
   "display_name": "Python 3 (ipykernel)",
   "language": "python",
   "name": "python3"
  },
  "language_info": {
   "codemirror_mode": {
    "name": "ipython",
    "version": 3
   },
   "file_extension": ".py",
   "mimetype": "text/x-python",
   "name": "python",
   "nbconvert_exporter": "python",
   "pygments_lexer": "ipython3",
   "version": "3.8.3"
  }
 },
 "nbformat": 4,
 "nbformat_minor": 5
}
