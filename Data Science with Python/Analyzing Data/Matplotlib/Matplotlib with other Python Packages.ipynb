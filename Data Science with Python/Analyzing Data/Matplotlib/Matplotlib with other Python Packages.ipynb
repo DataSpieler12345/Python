{
 "cells": [
  {
   "cell_type": "code",
   "execution_count": 1,
   "id": "5ec4c430",
   "metadata": {},
   "outputs": [],
   "source": [
    "import pandas as pd\n",
    "import matplotlib.pyplot as plt\n",
    "import seaborn as sns\n",
    "%matplotlib inline"
   ]
  },
  {
   "cell_type": "code",
   "execution_count": 2,
   "id": "9d53c900",
   "metadata": {},
   "outputs": [],
   "source": [
    "df = pd.read_csv('ADANIPORTS.NS.csv',parse_dates = True)"
   ]
  },
  {
   "cell_type": "code",
   "execution_count": 3,
   "id": "8a2c33b5",
   "metadata": {},
   "outputs": [
    {
     "data": {
      "text/html": [
       "<div>\n",
       "<style scoped>\n",
       "    .dataframe tbody tr th:only-of-type {\n",
       "        vertical-align: middle;\n",
       "    }\n",
       "\n",
       "    .dataframe tbody tr th {\n",
       "        vertical-align: top;\n",
       "    }\n",
       "\n",
       "    .dataframe thead th {\n",
       "        text-align: right;\n",
       "    }\n",
       "</style>\n",
       "<table border=\"1\" class=\"dataframe\">\n",
       "  <thead>\n",
       "    <tr style=\"text-align: right;\">\n",
       "      <th></th>\n",
       "      <th>Date</th>\n",
       "      <th>Open</th>\n",
       "      <th>High</th>\n",
       "      <th>Low</th>\n",
       "      <th>Close</th>\n",
       "      <th>Adj Close</th>\n",
       "      <th>Volume</th>\n",
       "    </tr>\n",
       "  </thead>\n",
       "  <tbody>\n",
       "    <tr>\n",
       "      <th>0</th>\n",
       "      <td>2007-11-27</td>\n",
       "      <td>154.000000</td>\n",
       "      <td>207.000000</td>\n",
       "      <td>154.000000</td>\n",
       "      <td>191.800003</td>\n",
       "      <td>177.675140</td>\n",
       "      <td>27262365.0</td>\n",
       "    </tr>\n",
       "    <tr>\n",
       "      <th>1</th>\n",
       "      <td>2007-11-28</td>\n",
       "      <td>194.000000</td>\n",
       "      <td>197.800003</td>\n",
       "      <td>174.929993</td>\n",
       "      <td>177.000000</td>\n",
       "      <td>163.965057</td>\n",
       "      <td>21958915.0</td>\n",
       "    </tr>\n",
       "    <tr>\n",
       "      <th>2</th>\n",
       "      <td>2007-11-29</td>\n",
       "      <td>181.000000</td>\n",
       "      <td>182.800003</td>\n",
       "      <td>168.460007</td>\n",
       "      <td>177.399994</td>\n",
       "      <td>164.335602</td>\n",
       "      <td>25616715.0</td>\n",
       "    </tr>\n",
       "    <tr>\n",
       "      <th>3</th>\n",
       "      <td>2007-11-30</td>\n",
       "      <td>178.000000</td>\n",
       "      <td>191.399994</td>\n",
       "      <td>178.000000</td>\n",
       "      <td>185.800003</td>\n",
       "      <td>172.117004</td>\n",
       "      <td>23047035.0</td>\n",
       "    </tr>\n",
       "    <tr>\n",
       "      <th>4</th>\n",
       "      <td>2007-12-03</td>\n",
       "      <td>187.949997</td>\n",
       "      <td>198.860001</td>\n",
       "      <td>184.399994</td>\n",
       "      <td>196.000000</td>\n",
       "      <td>181.565826</td>\n",
       "      <td>14578850.0</td>\n",
       "    </tr>\n",
       "  </tbody>\n",
       "</table>\n",
       "</div>"
      ],
      "text/plain": [
       "         Date        Open        High         Low       Close   Adj Close  \\\n",
       "0  2007-11-27  154.000000  207.000000  154.000000  191.800003  177.675140   \n",
       "1  2007-11-28  194.000000  197.800003  174.929993  177.000000  163.965057   \n",
       "2  2007-11-29  181.000000  182.800003  168.460007  177.399994  164.335602   \n",
       "3  2007-11-30  178.000000  191.399994  178.000000  185.800003  172.117004   \n",
       "4  2007-12-03  187.949997  198.860001  184.399994  196.000000  181.565826   \n",
       "\n",
       "       Volume  \n",
       "0  27262365.0  \n",
       "1  21958915.0  \n",
       "2  25616715.0  \n",
       "3  23047035.0  \n",
       "4  14578850.0  "
      ]
     },
     "execution_count": 3,
     "metadata": {},
     "output_type": "execute_result"
    }
   ],
   "source": [
    "df.head()"
   ]
  },
  {
   "cell_type": "code",
   "execution_count": 6,
   "id": "6d1f697e",
   "metadata": {},
   "outputs": [
    {
     "data": {
      "image/png": "[encoded data removed]",
      "text/plain": [
       "<Figure size 700x700 with 1 Axes>"
      ]
     },
     "metadata": {
      "needs_background": "light"
     },
     "output_type": "display_data"
    }
   ],
   "source": [
    "plt.figure(figsize=(7,7), dpi = 100)\n",
    "plt.title('Box Plot using seaborn')\n",
    "sns.boxplot(data = df, x = 'Volume')\n",
    "plt.savefig('Volume.png')\n"
   ]
  },
  {
   "cell_type": "code",
   "execution_count": null,
   "id": "6dbff952",
   "metadata": {},
   "outputs": [],
   "source": []
  }
 ],
 "metadata": {
  "kernelspec": {
   "display_name": "Python 3 (ipykernel)",
   "language": "python",
   "name": "python3"
  },
  "language_info": {
   "codemirror_mode": {
    "name": "ipython",
    "version": 3
   },
   "file_extension": ".py",
   "mimetype": "text/x-python",
   "name": "python",
   "nbconvert_exporter": "python",
   "pygments_lexer": "ipython3",
   "version": "3.8.3"
  }
 },
 "nbformat": 4,
 "nbformat_minor": 5
}
