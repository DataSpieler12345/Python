{
 "cells": [
  {
   "cell_type": "markdown",
   "id": "30e2abed",
   "metadata": {},
   "source": [
    "#### Reading Files with Open "
   ]
  },
  {
   "cell_type": "code",
   "execution_count": 33,
   "id": "405a86d7",
   "metadata": {},
   "outputs": [
    {
     "name": "stdout",
     "output_type": "stream",
     "text": [
      "Example File\n",
      "Fichero de prueba\n",
      "Test Datei\n",
      "Practicando Python\n",
      "True\n",
      "Example File\n",
      "Fichero de prueba\n",
      "Test Datei\n",
      "Practicando Python\n",
      "\n",
      "True\n",
      "Example File\n",
      "Fichero de prueba\n",
      "Test Datei\n",
      "Practicando Python\n",
      "True\n",
      "Example File\n",
      "Fichero de prueba\n",
      "Test Datei\n",
      "Practicando Python\n",
      "\n"
     ]
    }
   ],
   "source": [
    "with open(\"Example1.txt\",\"r\") as file1:\n",
    "    file_stuff=file1.read() #read the file / store data in a variable\n",
    "    \n",
    "    print(file_stuff)#it show the content inside / code block\n",
    "    \n",
    "print(file1.closed) #then close the file \n",
    "print(file_stuff) #it show the content inside"
   ]
  },
  {
   "cell_type": "markdown",
   "id": "e6356ecc",
   "metadata": {},
   "source": [
    "#### Read certain amount of characters"
   ]
  },
  {
   "cell_type": "code",
   "execution_count": 34,
   "id": "bfd8f82f",
   "metadata": {
    "scrolled": true
   },
   "outputs": [
    {
     "name": "stdout",
     "output_type": "stream",
     "text": [
      "Exam\n",
      "ple \n",
      "File\n",
      "Fi\n",
      "chero de prueba\n",
      "\n",
      "Test Datei\n",
      "Prac\n",
      "tican\n",
      "do Python\n"
     ]
    }
   ],
   "source": [
    "with open(\"Example1.txt\", \"r\") as file1:\n",
    "    print(file1.read(4))\n",
    "    print(file1.read(4))\n",
    "    print(file1.read(7))\n",
    "    print(file1.read(15))\n",
    "    print(file1.read(16))\n",
    "    print(file1.read(5))\n",
    "    print(file1.read(9))"
   ]
  },
  {
   "cell_type": "code",
   "execution_count": 47,
   "id": "e6761c0a",
   "metadata": {},
   "outputs": [],
   "source": [
    "#adding two lines into a second Example2 text file\n",
    "with open(\"./Example2.txt\",\"w\") as File1:\n",
    "    File1.write(\"This is the first line\\n\")\n",
    "    File1.write(\"This is the second line\\n\")\n",
    "    File1.write(\"Im learning Python\\n\")\n",
    "    File1.write(\"This is my journey with Python\\n\")\n",
    "# notice = \"w\" mode \n"
   ]
  },
  {
   "cell_type": "code",
   "execution_count": 48,
   "id": "68b1cd40",
   "metadata": {},
   "outputs": [
    {
     "name": "stdout",
     "output_type": "stream",
     "text": [
      "This is the first line\n",
      "This is the second line\n",
      "Im learning Python\n",
      "This is my journey with Python\n",
      "\n"
     ]
    }
   ],
   "source": [
    "#we check the new txt file with the new lines\n",
    "with open(\"Example2.txt\", \"r\") as File1: #we can see with r mode the lines inside of the new txt file \n",
    "    print(File1.read())\n",
    "    "
   ]
  },
  {
   "cell_type": "markdown",
   "id": "a9d1e487",
   "metadata": {},
   "source": [
    "#### Copy onbe file to a new file:"
   ]
  },
  {
   "cell_type": "code",
   "execution_count": 51,
   "id": "17890167",
   "metadata": {},
   "outputs": [],
   "source": [
    "with open(\"Example2.txt\", \"r\") as readfile: #origen de lectura\n",
    "    with open(\"NewFile_Example3.txt\", \"w\") as writefile: #copy the data from Example2 to NewFile_Example3\n",
    "        for line in readfile:\n",
    "            writefile.write(line)"
   ]
  },
  {
   "cell_type": "markdown",
   "id": "0f07b603",
   "metadata": {},
   "source": [
    "#### Reading Text Files"
   ]
  },
  {
   "cell_type": "code",
   "execution_count": 17,
   "id": "5c265db2",
   "metadata": {},
   "outputs": [
    {
     "name": "stdout",
     "output_type": "stream",
     "text": [
      "['Example File\\n', 'Fichero de prueba\\n', 'Test Datei\\n', 'Practicando Python']\n"
     ]
    }
   ],
   "source": [
    "with open('Example1.txt', 'r') as f: #1\n",
    "    contents = f.readlines()\n",
    "    print(lines)"
   ]
  },
  {
   "cell_type": "code",
   "execution_count": 18,
   "id": "e2148f79",
   "metadata": {},
   "outputs": [
    {
     "name": "stdout",
     "output_type": "stream",
     "text": [
      "Example File\n",
      "Fichero de prueba\n",
      "Test Datei\n",
      "Practicando Python\n"
     ]
    }
   ],
   "source": [
    "with open('Example1.txt') as f: #2\n",
    "    contents = f.read()\n",
    "    print(contents)"
   ]
  },
  {
   "cell_type": "code",
   "execution_count": 19,
   "id": "92014afe",
   "metadata": {
    "scrolled": true
   },
   "outputs": [
    {
     "name": "stdout",
     "output_type": "stream",
     "text": [
      "Example File\n",
      "\n",
      "Fichero de prueba\n",
      "\n",
      "Test Datei\n",
      "\n",
      "Practicando Python\n"
     ]
    }
   ],
   "source": [
    "with open('Example1.txt') as f: #3\n",
    "    [print(line) for line in f.readlines()]\n",
    "   "
   ]
  },
  {
   "cell_type": "markdown",
   "id": "91900ac4",
   "metadata": {},
   "source": [
    "#### with for"
   ]
  },
  {
   "cell_type": "code",
   "execution_count": 20,
   "id": "1a843aa9",
   "metadata": {
    "scrolled": true
   },
   "outputs": [
    {
     "name": "stdout",
     "output_type": "stream",
     "text": [
      "Example File\n",
      "Fichero de prueba\n",
      "Test Datei\n",
      "Practicando Python\n"
     ]
    }
   ],
   "source": [
    "with open('Example1.txt') as f: #4 with for\n",
    "    [print(line.strip()) for line in f.readlines()]"
   ]
  },
  {
   "cell_type": "code",
   "execution_count": 22,
   "id": "229046a5",
   "metadata": {},
   "outputs": [
    {
     "name": "stdout",
     "output_type": "stream",
     "text": [
      "Example File\n",
      "Fichero de prueba\n",
      "Test Datei\n",
      "Practicando Python\n"
     ]
    }
   ],
   "source": [
    "with open('Example1.txt') as f:\n",
    "    for line in f:\n",
    "        print(line.strip())"
   ]
  },
  {
   "cell_type": "markdown",
   "id": "e1b537a0",
   "metadata": {},
   "source": [
    "#### with while"
   ]
  },
  {
   "cell_type": "code",
   "execution_count": 21,
   "id": "55e0504c",
   "metadata": {},
   "outputs": [
    {
     "name": "stdout",
     "output_type": "stream",
     "text": [
      "Example File\n",
      "Fichero de prueba\n",
      "Test Datei\n",
      "Practicando Python\n"
     ]
    }
   ],
   "source": [
    "with open('Example1.txt') as f: #5 with while\n",
    "    while True:\n",
    "        line = f.readline()\n",
    "        if not line:\n",
    "            break\n",
    "        print(line.strip())"
   ]
  },
  {
   "cell_type": "code",
   "execution_count": null,
   "id": "43f44d80",
   "metadata": {},
   "outputs": [],
   "source": []
  }
 ],
 "metadata": {
  "kernelspec": {
   "display_name": "Python 3 (ipykernel)",
   "language": "python",
   "name": "python3"
  },
  "language_info": {
   "codemirror_mode": {
    "name": "ipython",
    "version": 3
   },
   "file_extension": ".py",
   "mimetype": "text/x-python",
   "name": "python",
   "nbconvert_exporter": "python",
   "pygments_lexer": "ipython3",
   "version": "3.8.3"
  }
 },
 "nbformat": 4,
 "nbformat_minor": 5
}
