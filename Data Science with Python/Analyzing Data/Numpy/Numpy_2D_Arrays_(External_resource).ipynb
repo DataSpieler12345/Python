{
 "cells": [
  {
   "cell_type": "markdown",
   "id": "be8c46d0",
   "metadata": {},
   "source": [
    "<h3> Get to Know a Numpy Array </h3>"
   ]
  },
  {
   "cell_type": "markdown",
   "id": "72eec321",
   "metadata": {},
   "source": [
    "You will use the numpy array <code>A</code> for the following questions."
   ]
  },
  {
   "cell_type": "code",
   "execution_count": 9,
   "id": "1f5b6131",
   "metadata": {},
   "outputs": [],
   "source": [
    "import numpy as np"
   ]
  },
  {
   "cell_type": "code",
   "execution_count": 11,
   "id": "7744ead7",
   "metadata": {},
   "outputs": [],
   "source": [
    "A=np.array([[11,12],[21,22],[31,32]])"
   ]
  },
  {
   "cell_type": "markdown",
   "id": "1864f27d",
   "metadata": {},
   "source": [
    "1) Find the type of `x` using the function `type()`."
   ]
  },
  {
   "cell_type": "code",
   "execution_count": 12,
   "id": "682e44c9",
   "metadata": {},
   "outputs": [
    {
     "data": {
      "text/plain": [
       "numpy.ndarray"
      ]
     },
     "execution_count": 12,
     "metadata": {},
     "output_type": "execute_result"
    }
   ],
   "source": [
    "type(A)"
   ]
  },
  {
   "cell_type": "markdown",
   "id": "c4d54411",
   "metadata": {},
   "source": [
    "2) Find the shape of the array:"
   ]
  },
  {
   "cell_type": "code",
   "execution_count": 13,
   "id": "f897d084",
   "metadata": {},
   "outputs": [
    {
     "data": {
      "text/plain": [
       "(3, 2)"
      ]
     },
     "execution_count": 13,
     "metadata": {},
     "output_type": "execute_result"
    }
   ],
   "source": [
    "A.shape"
   ]
  },
  {
   "cell_type": "markdown",
   "id": "e686ff94",
   "metadata": {},
   "source": [
    "3) Find the type of data in the array:"
   ]
  },
  {
   "cell_type": "code",
   "execution_count": 14,
   "id": "abe05143",
   "metadata": {},
   "outputs": [
    {
     "data": {
      "text/plain": [
       "dtype('int32')"
      ]
     },
     "execution_count": 14,
     "metadata": {},
     "output_type": "execute_result"
    }
   ],
   "source": [
    "A.dtype"
   ]
  },
  {
   "cell_type": "markdown",
   "id": "59ebcea7",
   "metadata": {},
   "source": [
    "4) Find the second row of the numpy array <code>A</code>:"
   ]
  },
  {
   "cell_type": "code",
   "execution_count": 22,
   "id": "3fdf4dc3",
   "metadata": {},
   "outputs": [
    {
     "data": {
      "text/plain": [
       "array([21, 22])"
      ]
     },
     "execution_count": 22,
     "metadata": {},
     "output_type": "execute_result"
    }
   ],
   "source": [
    "A[1]"
   ]
  },
  {
   "cell_type": "markdown",
   "id": "3d7f8490",
   "metadata": {},
   "source": [
    "<h3>Two Types of Multiplication</h3>"
   ]
  },
  {
   "cell_type": "markdown",
   "id": "5cb08e51",
   "metadata": {},
   "source": [
    "You will use the following numpy arrays for the next questions: "
   ]
  },
  {
   "cell_type": "code",
   "execution_count": 19,
   "id": "e744256e",
   "metadata": {},
   "outputs": [],
   "source": [
    "A=np.array([[11,12],[21,22]])\n",
    "B=np.array([[1, 0],[0,1]])"
   ]
  },
  {
   "cell_type": "markdown",
   "id": "72960be3",
   "metadata": {},
   "source": [
    "1) Multiply array <code>A</code> and <code>B</code>."
   ]
  },
  {
   "cell_type": "code",
   "execution_count": 20,
   "id": "959f8524",
   "metadata": {},
   "outputs": [
    {
     "data": {
      "text/plain": [
       "array([[11,  0],\n",
       "       [ 0, 22]])"
      ]
     },
     "execution_count": 20,
     "metadata": {},
     "output_type": "execute_result"
    }
   ],
   "source": [
    "C = A *B\n",
    "C"
   ]
  },
  {
   "cell_type": "markdown",
   "id": "0ed43b7c",
   "metadata": {},
   "source": [
    "2)  Perform matrix multiplication on array <code>A</code> and <code>B</code> (order will not matter in this case)."
   ]
  },
  {
   "cell_type": "code",
   "execution_count": 21,
   "id": "578e5cd7",
   "metadata": {},
   "outputs": [
    {
     "data": {
      "text/plain": [
       "array([[11, 12],\n",
       "       [21, 22]])"
      ]
     },
     "execution_count": 21,
     "metadata": {},
     "output_type": "execute_result"
    }
   ],
   "source": [
    "Z = np.dot(A,B)\n",
    "Z"
   ]
  },
  {
   "cell_type": "code",
   "execution_count": null,
   "id": "c37aa248",
   "metadata": {},
   "outputs": [],
   "source": []
  }
 ],
 "metadata": {
  "kernelspec": {
   "display_name": "Python 3 (ipykernel)",
   "language": "python",
   "name": "python3"
  },
  "language_info": {
   "codemirror_mode": {
    "name": "ipython",
    "version": 3
   },
   "file_extension": ".py",
   "mimetype": "text/x-python",
   "name": "python",
   "nbconvert_exporter": "python",
   "pygments_lexer": "ipython3",
   "version": "3.8.3"
  }
 },
 "nbformat": 4,
 "nbformat_minor": 5
}
