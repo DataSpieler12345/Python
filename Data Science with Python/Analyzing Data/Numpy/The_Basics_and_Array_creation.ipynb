{
 "cells": [
  {
   "cell_type": "markdown",
   "id": "ed13b9f7",
   "metadata": {},
   "source": [
    "### Numpy\n",
    "\n",
    "#### The Basics and Array creation\n",
    "\n",
    "#### Indexing and Slicing\n",
    "\n",
    "#### Basic Operations\n",
    "\n",
    "#### Universal Functions"
   ]
  },
  {
   "cell_type": "markdown",
   "id": "4653483a",
   "metadata": {},
   "source": [
    "<h3> Get to Know a Numpy Array </h3>"
   ]
  },
  {
   "cell_type": "markdown",
   "id": "1c52b0db",
   "metadata": {},
   "source": [
    "Cast the following list to a numpy array:"
   ]
  },
  {
   "cell_type": "code",
   "execution_count": 7,
   "id": "65e3720d",
   "metadata": {},
   "outputs": [],
   "source": [
    "import numpy as np\n",
    "a=[1,2,3,4,5]"
   ]
  },
  {
   "cell_type": "code",
   "execution_count": 8,
   "id": "af49d149",
   "metadata": {},
   "outputs": [],
   "source": [
    "x = np.array(a)"
   ]
  },
  {
   "cell_type": "markdown",
   "id": "c24a2342",
   "metadata": {},
   "source": [
    "1) Find the type of `x` using the function `type()`."
   ]
  },
  {
   "cell_type": "code",
   "execution_count": 9,
   "id": "33e746e5",
   "metadata": {},
   "outputs": [
    {
     "data": {
      "text/plain": [
       "numpy.ndarray"
      ]
     },
     "execution_count": 9,
     "metadata": {},
     "output_type": "execute_result"
    }
   ],
   "source": [
    "type(x)"
   ]
  },
  {
   "cell_type": "markdown",
   "id": "f54774cf",
   "metadata": {},
   "source": [
    "2) Find the shape of the array:"
   ]
  },
  {
   "cell_type": "code",
   "execution_count": 10,
   "id": "3c2be6b7",
   "metadata": {},
   "outputs": [
    {
     "data": {
      "text/plain": [
       "(5,)"
      ]
     },
     "execution_count": 10,
     "metadata": {},
     "output_type": "execute_result"
    }
   ],
   "source": [
    "x.shape"
   ]
  },
  {
   "cell_type": "markdown",
   "id": "28366981",
   "metadata": {},
   "source": [
    "3) Find the type of data in the array:"
   ]
  },
  {
   "cell_type": "code",
   "execution_count": 11,
   "id": "03b7df82",
   "metadata": {},
   "outputs": [
    {
     "data": {
      "text/plain": [
       "dtype('int32')"
      ]
     },
     "execution_count": 11,
     "metadata": {},
     "output_type": "execute_result"
    }
   ],
   "source": [
    "x.dtype"
   ]
  },
  {
   "cell_type": "markdown",
   "id": "977921e5",
   "metadata": {},
   "source": [
    "4) Find the mean of the array:"
   ]
  },
  {
   "cell_type": "code",
   "execution_count": 12,
   "id": "85bfd998",
   "metadata": {},
   "outputs": [
    {
     "data": {
      "text/plain": [
       "3.0"
      ]
     },
     "execution_count": 12,
     "metadata": {},
     "output_type": "execute_result"
    }
   ],
   "source": [
    "x.mean()"
   ]
  },
  {
   "cell_type": "code",
   "execution_count": null,
   "id": "268b47af",
   "metadata": {},
   "outputs": [],
   "source": []
  }
 ],
 "metadata": {
  "kernelspec": {
   "display_name": "Python 3 (ipykernel)",
   "language": "python",
   "name": "python3"
  },
  "language_info": {
   "codemirror_mode": {
    "name": "ipython",
    "version": 3
   },
   "file_extension": ".py",
   "mimetype": "text/x-python",
   "name": "python",
   "nbconvert_exporter": "python",
   "pygments_lexer": "ipython3",
   "version": "3.8.3"
  }
 },
 "nbformat": 4,
 "nbformat_minor": 5
}
