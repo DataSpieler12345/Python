{
 "cells": [
  {
   "cell_type": "markdown",
   "id": "148da8ad",
   "metadata": {},
   "source": [
    "# Searborn Library\n",
    "\n",
    "* Searborn, along with Matplotlib, is a high-level library for prepraring statistical graphics\n",
    "\n",
    "* It makes visualizatin a central part of exploring and understanding complet datasets\n",
    "\n",
    "* It is integrated with Pandas data Structures\n",
    "\n",
    "* It is usually imported into the app with alias **sns**\n",
    "\n",
    "* The Seaborn library helps a developer to understand and learn Seaborn statistical plotting techniques\n",
    "\n",
    "* Supports a number of different dataset formats\n",
    "\n",
    "* Uses pivot to provide features of data manipulation\n",
    "\n",
    "\n",
    "\n",
    "**Seaborn's Visualization Features**\n",
    "\n",
    "* Seaborn uses Matplotlib for plotting a variety of graphs\n",
    "\n",
    "* You can set a default theme using **set_theme()** method on imported sns\n",
    "\n",
    "* It provides a pleasing theme for visualization\n",
    "\n",
    "* Use the **load_dataset()** method to load data\n",
    "\n",
    "* You can Query and inspect data before plotting and visualizing it\n",
    "\n",
    "* You can inspect the data with functions such as **head()** and **tail()** to view the top and bottom parts of the dataset\n",
    "\n",
    "* You can use the **replot()** method to plot graphs\n",
    "\n",
    "* You need to provide necessary parameters like data, x, y, hue, style, size, etc (of course Seaborn provides default values for many, but the dataset is a must)\n",
    "\n",
    "* Seaborn specializes in plotting statistical data\n",
    "\n",
    "* Its functions automatically perform the necessary statistical estimation\n",
    "\n",
    "* Uses bootstrapping to compute confidence intervals and draw error bars (Error bars represent the uncertainty of the estimate). This feature of Seaborn goes bexond descriptive statistics (it enhances a scatter plot by including a linear regression model (and its uncertainty using **Implot()**.\n",
    "\n",
    "\n",
    "* Seaborn provides the **displot()** method, using which statistical distribution is automatically plotted and visualized\n",
    "\n",
    "* Category plots is another Seaborn specialization (this unique feature is indispensable, especially when datasets include categories)\n",
    "\n",
    "* Seaborn provides the **Catplot()** method to assist. You can play with parameters to tune your statistical visualization\n",
    "\n",
    "* Other exceptional visualization features include composite views of multivariate datasets\n",
    "\n",
    "* Seaborn provides two methods, **namely,joinplot()** and **pairplot()**, to help visualize and understand complext statistical data"
   ]
  },
  {
   "cell_type": "code",
   "execution_count": null,
   "id": "4bc41ca0",
   "metadata": {},
   "outputs": [],
   "source": []
  }
 ],
 "metadata": {
  "kernelspec": {
   "display_name": "Python 3 (ipykernel)",
   "language": "python",
   "name": "python3"
  },
  "language_info": {
   "codemirror_mode": {
    "name": "ipython",
    "version": 3
   },
   "file_extension": ".py",
   "mimetype": "text/x-python",
   "name": "python",
   "nbconvert_exporter": "python",
   "pygments_lexer": "ipython3",
   "version": "3.8.3"
  }
 },
 "nbformat": 4,
 "nbformat_minor": 5
}
