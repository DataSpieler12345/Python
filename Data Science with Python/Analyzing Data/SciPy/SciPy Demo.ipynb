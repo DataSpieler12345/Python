{
 "cells": [
  {
   "cell_type": "markdown",
   "id": "860d6d4c",
   "metadata": {},
   "source": [
    "**Problem Statement**\n",
    "\n",
    "Import the package **linal** from SciPy and use the **solve** method to solve the provided linear equations to find the value of x and y"
   ]
  },
  {
   "cell_type": "code",
   "execution_count": 1,
   "id": "2a13ab69",
   "metadata": {},
   "outputs": [],
   "source": [
    "# import required libraries\n",
    "import numpy as np"
   ]
  },
  {
   "cell_type": "code",
   "execution_count": 2,
   "id": "7e4437ee",
   "metadata": {},
   "outputs": [],
   "source": [
    "from scipy import linalg"
   ]
  },
  {
   "cell_type": "code",
   "execution_count": null,
   "id": "bc6ba391",
   "metadata": {},
   "outputs": [],
   "source": [
    "#Test has 30 questions and worth 150 marks\n",
    "#True and false questions worth 4 marks each\n",
    "#multiple choice question worth 9 points each\n",
    "\n",
    "#Let x is the number of true / false questions\n",
    "#Let yx is the number of multiple choise questions\n",
    "\n",
    "# (x + y = 30)\n",
    "# (4x + 9y = 150)\n",
    "testQuestionVariable = np.array([[1,1],[4,9]])\n",
    "testQuestion"
   ]
  },
  {
   "cell_type": "code",
   "execution_count": null,
   "id": "4d6120bc",
   "metadata": {},
   "outputs": [],
   "source": [
    "#use linalg funtion of SciPy\n",
    "#use solve method to solve the linear equation and find value for x and y"
   ]
  }
 ],
 "metadata": {
  "kernelspec": {
   "display_name": "Python 3 (ipykernel)",
   "language": "python",
   "name": "python3"
  },
  "language_info": {
   "codemirror_mode": {
    "name": "ipython",
    "version": 3
   },
   "file_extension": ".py",
   "mimetype": "text/x-python",
   "name": "python",
   "nbconvert_exporter": "python",
   "pygments_lexer": "ipython3",
   "version": "3.8.3"
  }
 },
 "nbformat": 4,
 "nbformat_minor": 5
}
