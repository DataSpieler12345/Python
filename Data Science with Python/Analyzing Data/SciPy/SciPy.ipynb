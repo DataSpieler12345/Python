{
 "cells": [
  {
   "cell_type": "markdown",
   "id": "8b100b13",
   "metadata": {},
   "source": [
    "# SciPy\n",
    "\n",
    "* Scientific Python is an extension of Numpy for scientific and advanced mathematical algorithms and functions \n",
    "\n",
    "* Scipy has built-in packages that help in handling the scientific domais (Mathematical Integration / Linear algebra / Multidmensional image processing / C++ / Statistics (Normal distribution)\n",
    "\n",
    "\n",
    "**Real-World Scientific Domains**\n",
    "\n",
    "**Statistics**: Helps build hypotheses and predict the outcomes\n",
    "\n",
    "**Spatial data**: Helps study spatial data structures | Retrieves records\n",
    "\n",
    "**Image science**: Helps study multidimensional images and their processing | Understands image properties and extracts values\n",
    "\n",
    "**Mathematical equation**: Helps solve bigger or complex problems | Answers the problems\n",
    "\n",
    "**Platform integration**: Helps integrate platforms built on languages | Reuses the code written in C and C++\n",
    "\n",
    "**Signal processing**: Helps process, read, and understand signals\n",
    "\n",
    "**Optimization**: Helps choose the right values | Improves the overall performance"
   ]
  },
  {
   "cell_type": "markdown",
   "id": "95448b64",
   "metadata": {},
   "source": [
    "### SciPy and its Characteristics"
   ]
  },
  {
   "cell_type": "markdown",
   "id": "fc31245c",
   "metadata": {},
   "source": [
    "* Built in mathematical libraries and functions to support complex computation\n",
    "\n",
    "* High-level command for data manipulation and visualization\n",
    "\n",
    "* Efficient and fast data processing \n",
    "\n",
    "* Inegrates well with multiple systems and environments\n",
    "\n",
    "* Large collection of subpackages for different scientific domains\n",
    "\n",
    "* Simplifies scientific application development"
   ]
  },
  {
   "cell_type": "markdown",
   "id": "c53d8170",
   "metadata": {},
   "source": [
    "### Scipy Subpackages"
   ]
  },
  {
   "cell_type": "markdown",
   "id": "84a94946",
   "metadata": {},
   "source": [
    "**Cluster** Handles clustering algorithms \n",
    "\n",
    "**Constants** Perform mathematical equations\n",
    "\n",
    "**ffpack** Comoutes Discrete Fouries transform routines\n",
    "\n",
    "**Integrate** Solves mathematical sequence or series\n",
    "\n",
    "**Spatial** Is used in problem related to graphs \n",
    "\n",
    "**Interpolate** Creates new data points\n",
    "\n",
    "**IO** reads and writes data from and to several file formats\n",
    "\n",
    "**linalg** Solves linear algebra problems\n",
    "\n",
    "**ndimage** Processes multidimensional images\n",
    "\n",
    "**odr** Handles explicit and implicit functions\n",
    "\n",
    "**Optimize** Optimizes performance\n",
    "\n",
    "**signal** Processes and transfers information in different formats\n",
    "\n",
    "**Sparse** Is a sparse matrix package\n",
    "\n",
    "**Weave** Integrates C and C++\n",
    "\n",
    "**Stats** Has statistical distribution and functions \n",
    "\n",
    "**Special** is used to retrieve other special functions"
   ]
  },
  {
   "cell_type": "code",
   "execution_count": null,
   "id": "578e2548",
   "metadata": {},
   "outputs": [],
   "source": []
  }
 ],
 "metadata": {
  "kernelspec": {
   "display_name": "Python 3 (ipykernel)",
   "language": "python",
   "name": "python3"
  },
  "language_info": {
   "codemirror_mode": {
    "name": "ipython",
    "version": 3
   },
   "file_extension": ".py",
   "mimetype": "text/x-python",
   "name": "python",
   "nbconvert_exporter": "python",
   "pygments_lexer": "ipython3",
   "version": "3.8.3"
  }
 },
 "nbformat": 4,
 "nbformat_minor": 5
}
