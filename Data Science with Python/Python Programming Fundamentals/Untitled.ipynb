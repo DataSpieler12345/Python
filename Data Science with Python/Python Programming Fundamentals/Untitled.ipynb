{
 "cells": [
  {
   "cell_type": "code",
   "execution_count": 1,
   "id": "f4b0f108",
   "metadata": {},
   "outputs": [
    {
     "data": {
      "text/plain": [
       "7"
      ]
     },
     "execution_count": 1,
     "metadata": {},
     "output_type": "execute_result"
    }
   ],
   "source": [
    "3+2*2"
   ]
  },
  {
   "cell_type": "code",
   "execution_count": 2,
   "id": "a20b290e",
   "metadata": {},
   "outputs": [
    {
     "data": {
      "text/plain": [
       "3"
      ]
     },
     "execution_count": 2,
     "metadata": {},
     "output_type": "execute_result"
    }
   ],
   "source": [
    "int(3.2)"
   ]
  },
  {
   "cell_type": "code",
   "execution_count": 3,
   "id": "97e1739b",
   "metadata": {},
   "outputs": [],
   "source": [
    "A='123456'"
   ]
  },
  {
   "cell_type": "code",
   "execution_count": 5,
   "id": "d199d7b3",
   "metadata": {},
   "outputs": [
    {
     "data": {
      "text/plain": [
       "'246'"
      ]
     },
     "execution_count": 5,
     "metadata": {},
     "output_type": "execute_result"
    }
   ],
   "source": [
    "A[1::2]"
   ]
  },
  {
   "cell_type": "code",
   "execution_count": 7,
   "id": "643a88f5",
   "metadata": {},
   "outputs": [],
   "source": [
    "name = \"Michael Jackson\""
   ]
  },
  {
   "cell_type": "code",
   "execution_count": 8,
   "id": "4786bde8",
   "metadata": {},
   "outputs": [
    {
     "data": {
      "text/plain": [
       "5"
      ]
     },
     "execution_count": 8,
     "metadata": {},
     "output_type": "execute_result"
    }
   ],
   "source": [
    "name.find('el')"
   ]
  },
  {
   "cell_type": "code",
   "execution_count": 9,
   "id": "651ab184",
   "metadata": {},
   "outputs": [],
   "source": [
    "A='1'\n",
    "B = '2'\n"
   ]
  },
  {
   "cell_type": "code",
   "execution_count": 10,
   "id": "41878142",
   "metadata": {},
   "outputs": [
    {
     "data": {
      "text/plain": [
       "'12'"
      ]
     },
     "execution_count": 10,
     "metadata": {},
     "output_type": "execute_result"
    }
   ],
   "source": [
    "A+B"
   ]
  },
  {
   "cell_type": "code",
   "execution_count": 12,
   "id": "67285f74",
   "metadata": {},
   "outputs": [],
   "source": [
    "F = \"You are wrong\""
   ]
  },
  {
   "cell_type": "code",
   "execution_count": 13,
   "id": "f50068ba",
   "metadata": {},
   "outputs": [
    {
     "data": {
      "text/plain": [
       "'YOU ARE WRONG'"
      ]
     },
     "execution_count": 13,
     "metadata": {},
     "output_type": "execute_result"
    }
   ],
   "source": [
    "F.upper()"
   ]
  },
  {
   "cell_type": "code",
   "execution_count": 14,
   "id": "b819da10",
   "metadata": {},
   "outputs": [
    {
     "data": {
      "text/plain": [
       "<function str.upper()>"
      ]
     },
     "execution_count": 14,
     "metadata": {},
     "output_type": "execute_result"
    }
   ],
   "source": [
    "F.upper"
   ]
  },
  {
   "cell_type": "code",
   "execution_count": 15,
   "id": "0e6d4195",
   "metadata": {},
   "outputs": [],
   "source": [
    "tuple1 = (\"A\", \"B\", \"C\")"
   ]
  },
  {
   "cell_type": "code",
   "execution_count": 16,
   "id": "049197d4",
   "metadata": {},
   "outputs": [
    {
     "data": {
      "text/plain": [
       "'C'"
      ]
     },
     "execution_count": 16,
     "metadata": {},
     "output_type": "execute_result"
    }
   ],
   "source": [
    "tuple1[-1]"
   ]
  },
  {
   "cell_type": "code",
   "execution_count": 17,
   "id": "bfc5d9fa",
   "metadata": {},
   "outputs": [],
   "source": [
    "A = ((11,12), [21,22])"
   ]
  },
  {
   "cell_type": "code",
   "execution_count": 18,
   "id": "ecdf3ca1",
   "metadata": {},
   "outputs": [
    {
     "data": {
      "text/plain": [
       "[21, 22]"
      ]
     },
     "execution_count": 18,
     "metadata": {},
     "output_type": "execute_result"
    }
   ],
   "source": [
    "A[1]"
   ]
  },
  {
   "cell_type": "code",
   "execution_count": 19,
   "id": "5410f909",
   "metadata": {},
   "outputs": [
    {
     "data": {
      "text/plain": [
       "12"
      ]
     },
     "execution_count": 19,
     "metadata": {},
     "output_type": "execute_result"
    }
   ],
   "source": [
    "A[0][1]"
   ]
  },
  {
   "cell_type": "code",
   "execution_count": 20,
   "id": "ddc2757e",
   "metadata": {},
   "outputs": [
    {
     "data": {
      "text/plain": [
       "['1', '2', '3', '4']"
      ]
     },
     "execution_count": 20,
     "metadata": {},
     "output_type": "execute_result"
    }
   ],
   "source": [
    "'1,2,3,4'.split(',')"
   ]
  },
  {
   "cell_type": "code",
   "execution_count": 21,
   "id": "81c3113d",
   "metadata": {},
   "outputs": [],
   "source": [
    "A =[1,'a']\n",
    "B = [2,1,'d']"
   ]
  },
  {
   "cell_type": "code",
   "execution_count": 24,
   "id": "4dbaecb9",
   "metadata": {},
   "outputs": [
    {
     "data": {
      "text/plain": [
       "[1, 'a', 2, 1, 'd']"
      ]
     },
     "execution_count": 24,
     "metadata": {},
     "output_type": "execute_result"
    }
   ],
   "source": [
    "A + B"
   ]
  },
  {
   "cell_type": "code",
   "execution_count": 25,
   "id": "f6cf896f",
   "metadata": {},
   "outputs": [],
   "source": [
    "a =set(A)"
   ]
  },
  {
   "cell_type": "code",
   "execution_count": 26,
   "id": "425845e6",
   "metadata": {},
   "outputs": [
    {
     "data": {
      "text/plain": [
       "{1, 'a'}"
      ]
     },
     "execution_count": 26,
     "metadata": {},
     "output_type": "execute_result"
    }
   ],
   "source": [
    "a"
   ]
  },
  {
   "cell_type": "code",
   "execution_count": 27,
   "id": "92c8615e",
   "metadata": {},
   "outputs": [],
   "source": [
    "V ={'A', 'B'}"
   ]
  },
  {
   "cell_type": "code",
   "execution_count": 28,
   "id": "d08716d2",
   "metadata": {},
   "outputs": [],
   "source": [
    "V.add('C')"
   ]
  },
  {
   "cell_type": "code",
   "execution_count": 29,
   "id": "3a3656c0",
   "metadata": {},
   "outputs": [
    {
     "data": {
      "text/plain": [
       "{'A', 'B', 'C'}"
      ]
     },
     "execution_count": 29,
     "metadata": {},
     "output_type": "execute_result"
    }
   ],
   "source": [
    "V"
   ]
  },
  {
   "cell_type": "code",
   "execution_count": 30,
   "id": "9eac5994",
   "metadata": {},
   "outputs": [
    {
     "name": "stdout",
     "output_type": "stream",
     "text": [
      "Go\n",
      "Mike\n"
     ]
    }
   ],
   "source": [
    "x=\"Go\"\n",
    "\n",
    "if(x!=\"Go\"):\n",
    "    print('Stop')\n",
    "else:\n",
    "    print('Go')\n",
    "print('Mike')"
   ]
  },
  {
   "cell_type": "code",
   "execution_count": 31,
   "id": "33b0124f",
   "metadata": {},
   "outputs": [
    {
     "name": "stdout",
     "output_type": "stream",
     "text": [
      "Go\n",
      "Mike\n"
     ]
    }
   ],
   "source": [
    "x=\"Go\"\n",
    "\n",
    "if(x==\"Go\"):\n",
    "    print('Go')\n",
    "else:\n",
    "    print('Stop')\n",
    "print('Mike')"
   ]
  },
  {
   "cell_type": "code",
   "execution_count": 37,
   "id": "fc8968f0",
   "metadata": {},
   "outputs": [
    {
     "ename": "TypeError",
     "evalue": "'int' object is not callable",
     "output_type": "error",
     "traceback": [
      "\u001b[1;31m---------------------------------------------------------------------------\u001b[0m",
      "\u001b[1;31mTypeError\u001b[0m                                 Traceback (most recent call last)",
      "Input \u001b[1;32mIn [37]\u001b[0m, in \u001b[0;36m<cell line: 1>\u001b[1;34m()\u001b[0m\n\u001b[1;32m----> 1\u001b[0m \u001b[38;5;28;01mfor\u001b[39;00m n \u001b[38;5;129;01min\u001b[39;00m \u001b[38;5;28;43mrange\u001b[39;49m\u001b[43m(\u001b[49m\u001b[38;5;241;43m3\u001b[39;49m\u001b[43m)\u001b[49m:\n\u001b[0;32m      2\u001b[0m     \u001b[38;5;28mprint\u001b[39m(n\u001b[38;5;241m+\u001b[39m\u001b[38;5;241m1\u001b[39m)\n",
      "\u001b[1;31mTypeError\u001b[0m: 'int' object is not callable"
     ]
    }
   ],
   "source": [
    "for n in range(3):\n",
    "    print(n+1)"
   ]
  },
  {
   "cell_type": "code",
   "execution_count": 38,
   "id": "8554133b",
   "metadata": {},
   "outputs": [
    {
     "name": "stdout",
     "output_type": "stream",
     "text": [
      "11\n",
      "22\n",
      "33\n"
     ]
    }
   ],
   "source": [
    "A =['1','2','3']\n",
    "\n",
    "for a in A:\n",
    "    print(2*a)"
   ]
  },
  {
   "cell_type": "code",
   "execution_count": 39,
   "id": "7309aa69",
   "metadata": {},
   "outputs": [],
   "source": [
    "def Add(x,y):\n",
    "    z=y+x\n",
    "    return(y)"
   ]
  },
  {
   "cell_type": "code",
   "execution_count": 43,
   "id": "c9bd8952",
   "metadata": {},
   "outputs": [
    {
     "name": "stdout",
     "output_type": "stream",
     "text": [
      "x= 1 y= 2\n"
     ]
    }
   ],
   "source": [
    "class Points(object):\n",
    "    def __init__(self,x,y):\n",
    "        self.x=x\n",
    "        self.y=y\n",
    "    def print_point(self):\n",
    "        print('x=',self.x,'y=',self.y)\n",
    "p1 = Points(1,2)\n",
    "p1.print_point()"
   ]
  },
  {
   "cell_type": "code",
   "execution_count": 44,
   "id": "0c0669d6",
   "metadata": {},
   "outputs": [
    {
     "name": "stdout",
     "output_type": "stream",
     "text": [
      "x= 2 y= 2\n"
     ]
    }
   ],
   "source": [
    "class Points(object):\n",
    "    def __init__(self,x,y):\n",
    "        self.x=x\n",
    "        self.y=y\n",
    "    def print_point(self):\n",
    "        print('x=',self.x,'y=',self.y)\n",
    "p2 = Points(1,2)\n",
    "p2.x=2\n",
    "p2.print_point()"
   ]
  },
  {
   "cell_type": "code",
   "execution_count": null,
   "id": "e5936e45",
   "metadata": {},
   "outputs": [],
   "source": []
  }
 ],
 "metadata": {
  "kernelspec": {
   "display_name": "Python 3 (ipykernel)",
   "language": "python",
   "name": "python3"
  },
  "language_info": {
   "codemirror_mode": {
    "name": "ipython",
    "version": 3
   },
   "file_extension": ".py",
   "mimetype": "text/x-python",
   "name": "python",
   "nbconvert_exporter": "python",
   "pygments_lexer": "ipython3",
   "version": "3.8.3"
  }
 },
 "nbformat": 4,
 "nbformat_minor": 5
}
