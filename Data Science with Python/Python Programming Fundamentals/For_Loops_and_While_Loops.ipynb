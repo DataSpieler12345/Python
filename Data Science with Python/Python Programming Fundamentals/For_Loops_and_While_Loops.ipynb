{
 "cells": [
  {
   "cell_type": "markdown",
   "id": "7dddb28f",
   "metadata": {},
   "source": [
    "<h3>For Loops </h3> "
   ]
  },
  {
   "cell_type": "markdown",
   "id": "d2b13820",
   "metadata": {},
   "source": [
    "Use loops to print out the elements in the list <code>A</code>:"
   ]
  },
  {
   "cell_type": "code",
   "execution_count": 1,
   "id": "61689580",
   "metadata": {},
   "outputs": [
    {
     "name": "stdout",
     "output_type": "stream",
     "text": [
      "3\n",
      "4\n",
      "5\n"
     ]
    }
   ],
   "source": [
    "A=[3,4,5]\n",
    "\n",
    "for i in A:  \n",
    "    print(i) \n"
   ]
  },
  {
   "cell_type": "markdown",
   "id": "3df715fb",
   "metadata": {},
   "source": [
    "<h3>While Loops</h3> "
   ]
  },
  {
   "cell_type": "markdown",
   "id": "c5c20de3",
   "metadata": {},
   "source": [
    "Find the value of <code> x </code> that will print out the sequence <code> 1,2,..,10 </code>:"
   ]
  },
  {
   "cell_type": "code",
   "execution_count": 2,
   "id": "13e6f09b",
   "metadata": {},
   "outputs": [
    {
     "name": "stdout",
     "output_type": "stream",
     "text": [
      "1\n",
      "2\n",
      "3\n",
      "4\n",
      "5\n",
      "6\n",
      "7\n",
      "8\n",
      "9\n",
      "10\n"
     ]
    }
   ],
   "source": [
    "x=11 #answer 11\n",
    "y=1\n",
    "while(y != x):\n",
    "    print(y)\n",
    "    y=y+1"
   ]
  },
  {
   "cell_type": "code",
   "execution_count": null,
   "id": "b9c014a6",
   "metadata": {},
   "outputs": [],
   "source": []
  }
 ],
 "metadata": {
  "kernelspec": {
   "display_name": "Python 3 (ipykernel)",
   "language": "python",
   "name": "python3"
  },
  "language_info": {
   "codemirror_mode": {
    "name": "ipython",
    "version": 3
   },
   "file_extension": ".py",
   "mimetype": "text/x-python",
   "name": "python",
   "nbconvert_exporter": "python",
   "pygments_lexer": "ipython3",
   "version": "3.8.3"
  }
 },
 "nbformat": 4,
 "nbformat_minor": 5
}
