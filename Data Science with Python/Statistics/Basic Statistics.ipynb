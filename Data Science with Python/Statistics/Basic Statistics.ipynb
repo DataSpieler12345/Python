{
 "cells": [
  {
   "cell_type": "markdown",
   "id": "c19ea984",
   "metadata": {},
   "source": [
    "# Problem Statement:\n",
    "\n",
    "A stock price always fluctuates, but is there a relation between a closing price and its moving averages?\n",
    "\n",
    "An analyst wants to showcase how the stock would move, he has 5 year of stock price data with him on which he needs to perform the analysis.\n",
    "\n",
    "**Objective**:\n",
    "\n",
    "Fin the possible futuristic movement of the stock 'GOOG' based on its price for the last 5 years"
   ]
  },
  {
   "cell_type": "markdown",
   "id": "61248b18",
   "metadata": {},
   "source": [
    "**Data Description**\n",
    "\n",
    "Variable | Description\n",
    "\n",
    "Date (Date of the stock price)\n",
    "\n",
    "Open (Opening price of the stock on that day)\n",
    "\n",
    "High (Peak price of the stock on that day)\n",
    "\n",
    "Low (Lowest price of the stock on that day)\n",
    "\n",
    "Close (Closing price of the stock on that day)\n",
    "\n",
    "Volume (Total Volume traded on that day)"
   ]
  },
  {
   "cell_type": "markdown",
   "id": "af60416c",
   "metadata": {},
   "source": [
    "**Perform the following steps:**\n",
    "  \n",
    "1. Get 5 years pf data from Finance Package with Ticker Symbol 'GOOG'\n",
    "\n",
    "2. Create 50DMA and 20DMA\n",
    "\n",
    "3. Plot it with the Actual Price\n",
    "\n",
    "4. Basic EDA on the Data\n",
    "\n",
    "5. Fit Statsmodel OLS to find the best possible features\n"
   ]
  },
  {
   "cell_type": "markdown",
   "id": "e18ac71b",
   "metadata": {},
   "source": [
    "**Lets beging**"
   ]
  },
  {
   "cell_type": "code",
   "execution_count": 3,
   "id": "918cfe54",
   "metadata": {},
   "outputs": [],
   "source": [
    "# import libraries needed for EDA\n",
    "import pandas as pd\n",
    "import matplotlib.pyplot as plt\n",
    "import seaborn as sns\n",
    "\n",
    "%matplotlib inline\n",
    "sns.set_style('darkgrid')\n",
    "\n",
    "import warnings\n",
    "warnings.filterwarnings('ignore')"
   ]
  },
  {
   "cell_type": "code",
   "execution_count": 4,
   "id": "9e798028",
   "metadata": {},
   "outputs": [],
   "source": [
    "# Read the dataset\n",
    "df = pd.read_csv('ADANIPORTS.NS.csv')"
   ]
  },
  {
   "cell_type": "code",
   "execution_count": 5,
   "id": "4d9a7c5f",
   "metadata": {},
   "outputs": [
    {
     "data": {
      "text/html": [
       "<div>\n",
       "<style scoped>\n",
       "    .dataframe tbody tr th:only-of-type {\n",
       "        vertical-align: middle;\n",
       "    }\n",
       "\n",
       "    .dataframe tbody tr th {\n",
       "        vertical-align: top;\n",
       "    }\n",
       "\n",
       "    .dataframe thead th {\n",
       "        text-align: right;\n",
       "    }\n",
       "</style>\n",
       "<table border=\"1\" class=\"dataframe\">\n",
       "  <thead>\n",
       "    <tr style=\"text-align: right;\">\n",
       "      <th></th>\n",
       "      <th>Date</th>\n",
       "      <th>Open</th>\n",
       "      <th>High</th>\n",
       "      <th>Low</th>\n",
       "      <th>Close</th>\n",
       "      <th>Adj Close</th>\n",
       "      <th>Volume</th>\n",
       "    </tr>\n",
       "  </thead>\n",
       "  <tbody>\n",
       "    <tr>\n",
       "      <th>0</th>\n",
       "      <td>2007-11-27</td>\n",
       "      <td>154.000000</td>\n",
       "      <td>207.000000</td>\n",
       "      <td>154.000000</td>\n",
       "      <td>191.800003</td>\n",
       "      <td>177.675140</td>\n",
       "      <td>27262365.0</td>\n",
       "    </tr>\n",
       "    <tr>\n",
       "      <th>1</th>\n",
       "      <td>2007-11-28</td>\n",
       "      <td>194.000000</td>\n",
       "      <td>197.800003</td>\n",
       "      <td>174.929993</td>\n",
       "      <td>177.000000</td>\n",
       "      <td>163.965057</td>\n",
       "      <td>21958915.0</td>\n",
       "    </tr>\n",
       "    <tr>\n",
       "      <th>2</th>\n",
       "      <td>2007-11-29</td>\n",
       "      <td>181.000000</td>\n",
       "      <td>182.800003</td>\n",
       "      <td>168.460007</td>\n",
       "      <td>177.399994</td>\n",
       "      <td>164.335602</td>\n",
       "      <td>25616715.0</td>\n",
       "    </tr>\n",
       "    <tr>\n",
       "      <th>3</th>\n",
       "      <td>2007-11-30</td>\n",
       "      <td>178.000000</td>\n",
       "      <td>191.399994</td>\n",
       "      <td>178.000000</td>\n",
       "      <td>185.800003</td>\n",
       "      <td>172.117004</td>\n",
       "      <td>23047035.0</td>\n",
       "    </tr>\n",
       "    <tr>\n",
       "      <th>4</th>\n",
       "      <td>2007-12-03</td>\n",
       "      <td>187.949997</td>\n",
       "      <td>198.860001</td>\n",
       "      <td>184.399994</td>\n",
       "      <td>196.000000</td>\n",
       "      <td>181.565826</td>\n",
       "      <td>14578850.0</td>\n",
       "    </tr>\n",
       "  </tbody>\n",
       "</table>\n",
       "</div>"
      ],
      "text/plain": [
       "         Date        Open        High         Low       Close   Adj Close  \\\n",
       "0  2007-11-27  154.000000  207.000000  154.000000  191.800003  177.675140   \n",
       "1  2007-11-28  194.000000  197.800003  174.929993  177.000000  163.965057   \n",
       "2  2007-11-29  181.000000  182.800003  168.460007  177.399994  164.335602   \n",
       "3  2007-11-30  178.000000  191.399994  178.000000  185.800003  172.117004   \n",
       "4  2007-12-03  187.949997  198.860001  184.399994  196.000000  181.565826   \n",
       "\n",
       "       Volume  \n",
       "0  27262365.0  \n",
       "1  21958915.0  \n",
       "2  25616715.0  \n",
       "3  23047035.0  \n",
       "4  14578850.0  "
      ]
     },
     "execution_count": 5,
     "metadata": {},
     "output_type": "execute_result"
    }
   ],
   "source": [
    "df.head() # first 5 row"
   ]
  },
  {
   "cell_type": "code",
   "execution_count": 6,
   "id": "34d77672",
   "metadata": {},
   "outputs": [
    {
     "data": {
      "text/html": [
       "<div>\n",
       "<style scoped>\n",
       "    .dataframe tbody tr th:only-of-type {\n",
       "        vertical-align: middle;\n",
       "    }\n",
       "\n",
       "    .dataframe tbody tr th {\n",
       "        vertical-align: top;\n",
       "    }\n",
       "\n",
       "    .dataframe thead th {\n",
       "        text-align: right;\n",
       "    }\n",
       "</style>\n",
       "<table border=\"1\" class=\"dataframe\">\n",
       "  <thead>\n",
       "    <tr style=\"text-align: right;\">\n",
       "      <th></th>\n",
       "      <th>Date</th>\n",
       "      <th>Open</th>\n",
       "      <th>High</th>\n",
       "      <th>Low</th>\n",
       "      <th>Close</th>\n",
       "      <th>Adj Close</th>\n",
       "      <th>Volume</th>\n",
       "    </tr>\n",
       "  </thead>\n",
       "  <tbody>\n",
       "    <tr>\n",
       "      <th>3371</th>\n",
       "      <td>2021-07-27</td>\n",
       "      <td>682.799988</td>\n",
       "      <td>686.299988</td>\n",
       "      <td>660.349976</td>\n",
       "      <td>663.200012</td>\n",
       "      <td>663.200012</td>\n",
       "      <td>7133113.0</td>\n",
       "    </tr>\n",
       "    <tr>\n",
       "      <th>3372</th>\n",
       "      <td>2021-07-28</td>\n",
       "      <td>668.400024</td>\n",
       "      <td>676.750000</td>\n",
       "      <td>654.200012</td>\n",
       "      <td>665.400024</td>\n",
       "      <td>665.400024</td>\n",
       "      <td>11132158.0</td>\n",
       "    </tr>\n",
       "    <tr>\n",
       "      <th>3373</th>\n",
       "      <td>2021-07-29</td>\n",
       "      <td>671.000000</td>\n",
       "      <td>671.000000</td>\n",
       "      <td>657.950012</td>\n",
       "      <td>659.650024</td>\n",
       "      <td>659.650024</td>\n",
       "      <td>4572153.0</td>\n",
       "    </tr>\n",
       "    <tr>\n",
       "      <th>3374</th>\n",
       "      <td>2021-07-30</td>\n",
       "      <td>661.250000</td>\n",
       "      <td>687.799988</td>\n",
       "      <td>659.500000</td>\n",
       "      <td>674.500000</td>\n",
       "      <td>674.500000</td>\n",
       "      <td>13440904.0</td>\n",
       "    </tr>\n",
       "    <tr>\n",
       "      <th>3375</th>\n",
       "      <td>2021-08-02</td>\n",
       "      <td>682.000000</td>\n",
       "      <td>695.000000</td>\n",
       "      <td>678.000000</td>\n",
       "      <td>692.000000</td>\n",
       "      <td>692.000000</td>\n",
       "      <td>8925708.0</td>\n",
       "    </tr>\n",
       "  </tbody>\n",
       "</table>\n",
       "</div>"
      ],
      "text/plain": [
       "            Date        Open        High         Low       Close   Adj Close  \\\n",
       "3371  2021-07-27  682.799988  686.299988  660.349976  663.200012  663.200012   \n",
       "3372  2021-07-28  668.400024  676.750000  654.200012  665.400024  665.400024   \n",
       "3373  2021-07-29  671.000000  671.000000  657.950012  659.650024  659.650024   \n",
       "3374  2021-07-30  661.250000  687.799988  659.500000  674.500000  674.500000   \n",
       "3375  2021-08-02  682.000000  695.000000  678.000000  692.000000  692.000000   \n",
       "\n",
       "          Volume  \n",
       "3371   7133113.0  \n",
       "3372  11132158.0  \n",
       "3373   4572153.0  \n",
       "3374  13440904.0  \n",
       "3375   8925708.0  "
      ]
     },
     "execution_count": 6,
     "metadata": {},
     "output_type": "execute_result"
    }
   ],
   "source": [
    "df.tail() #last five rows"
   ]
  },
  {
   "cell_type": "code",
   "execution_count": 7,
   "id": "483d93fd",
   "metadata": {},
   "outputs": [
    {
     "data": {
      "text/plain": [
       "(3376, 7)"
      ]
     },
     "execution_count": 7,
     "metadata": {},
     "output_type": "execute_result"
    }
   ],
   "source": [
    "df.shape"
   ]
  },
  {
   "cell_type": "code",
   "execution_count": 8,
   "id": "074c26ed",
   "metadata": {},
   "outputs": [],
   "source": [
    "# lets convert the date  column into index column\n",
    "df['Date'] = pd.to_datetime(df['Date'])\n",
    "df.set_index(['Date'],inplace=True)"
   ]
  },
  {
   "cell_type": "code",
   "execution_count": 9,
   "id": "37052c52",
   "metadata": {},
   "outputs": [
    {
     "data": {
      "text/html": [
       "<div>\n",
       "<style scoped>\n",
       "    .dataframe tbody tr th:only-of-type {\n",
       "        vertical-align: middle;\n",
       "    }\n",
       "\n",
       "    .dataframe tbody tr th {\n",
       "        vertical-align: top;\n",
       "    }\n",
       "\n",
       "    .dataframe thead th {\n",
       "        text-align: right;\n",
       "    }\n",
       "</style>\n",
       "<table border=\"1\" class=\"dataframe\">\n",
       "  <thead>\n",
       "    <tr style=\"text-align: right;\">\n",
       "      <th></th>\n",
       "      <th>Open</th>\n",
       "      <th>High</th>\n",
       "      <th>Low</th>\n",
       "      <th>Close</th>\n",
       "      <th>Adj Close</th>\n",
       "      <th>Volume</th>\n",
       "    </tr>\n",
       "    <tr>\n",
       "      <th>Date</th>\n",
       "      <th></th>\n",
       "      <th></th>\n",
       "      <th></th>\n",
       "      <th></th>\n",
       "      <th></th>\n",
       "      <th></th>\n",
       "    </tr>\n",
       "  </thead>\n",
       "  <tbody>\n",
       "    <tr>\n",
       "      <th>2007-11-27</th>\n",
       "      <td>154.000000</td>\n",
       "      <td>207.000000</td>\n",
       "      <td>154.000000</td>\n",
       "      <td>191.800003</td>\n",
       "      <td>177.675140</td>\n",
       "      <td>27262365.0</td>\n",
       "    </tr>\n",
       "    <tr>\n",
       "      <th>2007-11-28</th>\n",
       "      <td>194.000000</td>\n",
       "      <td>197.800003</td>\n",
       "      <td>174.929993</td>\n",
       "      <td>177.000000</td>\n",
       "      <td>163.965057</td>\n",
       "      <td>21958915.0</td>\n",
       "    </tr>\n",
       "    <tr>\n",
       "      <th>2007-11-29</th>\n",
       "      <td>181.000000</td>\n",
       "      <td>182.800003</td>\n",
       "      <td>168.460007</td>\n",
       "      <td>177.399994</td>\n",
       "      <td>164.335602</td>\n",
       "      <td>25616715.0</td>\n",
       "    </tr>\n",
       "    <tr>\n",
       "      <th>2007-11-30</th>\n",
       "      <td>178.000000</td>\n",
       "      <td>191.399994</td>\n",
       "      <td>178.000000</td>\n",
       "      <td>185.800003</td>\n",
       "      <td>172.117004</td>\n",
       "      <td>23047035.0</td>\n",
       "    </tr>\n",
       "    <tr>\n",
       "      <th>2007-12-03</th>\n",
       "      <td>187.949997</td>\n",
       "      <td>198.860001</td>\n",
       "      <td>184.399994</td>\n",
       "      <td>196.000000</td>\n",
       "      <td>181.565826</td>\n",
       "      <td>14578850.0</td>\n",
       "    </tr>\n",
       "  </tbody>\n",
       "</table>\n",
       "</div>"
      ],
      "text/plain": [
       "                  Open        High         Low       Close   Adj Close  \\\n",
       "Date                                                                     \n",
       "2007-11-27  154.000000  207.000000  154.000000  191.800003  177.675140   \n",
       "2007-11-28  194.000000  197.800003  174.929993  177.000000  163.965057   \n",
       "2007-11-29  181.000000  182.800003  168.460007  177.399994  164.335602   \n",
       "2007-11-30  178.000000  191.399994  178.000000  185.800003  172.117004   \n",
       "2007-12-03  187.949997  198.860001  184.399994  196.000000  181.565826   \n",
       "\n",
       "                Volume  \n",
       "Date                    \n",
       "2007-11-27  27262365.0  \n",
       "2007-11-28  21958915.0  \n",
       "2007-11-29  25616715.0  \n",
       "2007-11-30  23047035.0  \n",
       "2007-12-03  14578850.0  "
      ]
     },
     "execution_count": 9,
     "metadata": {},
     "output_type": "execute_result"
    }
   ],
   "source": [
    "df.head()"
   ]
  },
  {
   "cell_type": "markdown",
   "id": "0674a2d5",
   "metadata": {},
   "source": [
    "# Check for distribution and skewness using plots"
   ]
  },
  {
   "cell_type": "code",
   "execution_count": 11,
   "id": "048daf99",
   "metadata": {},
   "outputs": [
    {
     "data": {
      "image/png": "[encoded data removed]",
      "text/plain": [
       "<Figure size 432x288 with 1 Axes>"
      ]
     },
     "metadata": {},
     "output_type": "display_data"
    },
    {
     "data": {
      "image/png": "[encoded data removed]",
      "text/plain": [
       "<Figure size 432x288 with 1 Axes>"
      ]
     },
     "metadata": {},
     "output_type": "display_data"
    },
    {
     "data": {
      "image/png": "[encoded data removed]",
      "text/plain": [
       "<Figure size 432x288 with 1 Axes>"
      ]
     },
     "metadata": {},
     "output_type": "display_data"
    },
    {
     "data": {
      "image/png": "[encoded data removed]",
      "text/plain": [
       "<Figure size 432x288 with 1 Axes>"
      ]
     },
     "metadata": {},
     "output_type": "display_data"
    },
    {
     "data": {
      "image/png": "[encoded data removed]",
      "text/plain": [
       "<Figure size 432x288 with 1 Axes>"
      ]
     },
     "metadata": {},
     "output_type": "display_data"
    },
    {
     "data": {
      "image/png": "[encoded data removed]",
      "text/plain": [
       "<Figure size 432x288 with 1 Axes>"
      ]
     },
     "metadata": {},
     "output_type": "display_data"
    }
   ],
   "source": [
    "for col in df.columns:\n",
    "    sns.distplot(df[col])\n",
    "    plt.show()"
   ]
  },
  {
   "cell_type": "code",
   "execution_count": 12,
   "id": "422cfb18",
   "metadata": {},
   "outputs": [
    {
     "data": {
      "text/html": [
       "<div>\n",
       "<style scoped>\n",
       "    .dataframe tbody tr th:only-of-type {\n",
       "        vertical-align: middle;\n",
       "    }\n",
       "\n",
       "    .dataframe tbody tr th {\n",
       "        vertical-align: top;\n",
       "    }\n",
       "\n",
       "    .dataframe thead th {\n",
       "        text-align: right;\n",
       "    }\n",
       "</style>\n",
       "<table border=\"1\" class=\"dataframe\">\n",
       "  <thead>\n",
       "    <tr style=\"text-align: right;\">\n",
       "      <th></th>\n",
       "      <th>Open</th>\n",
       "      <th>High</th>\n",
       "      <th>Low</th>\n",
       "      <th>Close</th>\n",
       "      <th>Adj Close</th>\n",
       "      <th>Volume</th>\n",
       "    </tr>\n",
       "  </thead>\n",
       "  <tbody>\n",
       "    <tr>\n",
       "      <th>count</th>\n",
       "      <td>3362.000000</td>\n",
       "      <td>3362.000000</td>\n",
       "      <td>3362.000000</td>\n",
       "      <td>3362.000000</td>\n",
       "      <td>3362.000000</td>\n",
       "      <td>3.362000e+03</td>\n",
       "    </tr>\n",
       "    <tr>\n",
       "      <th>mean</th>\n",
       "      <td>253.387255</td>\n",
       "      <td>257.771336</td>\n",
       "      <td>248.544155</td>\n",
       "      <td>253.044372</td>\n",
       "      <td>245.757480</td>\n",
       "      <td>3.676066e+06</td>\n",
       "    </tr>\n",
       "    <tr>\n",
       "      <th>std</th>\n",
       "      <td>143.363014</td>\n",
       "      <td>145.417779</td>\n",
       "      <td>140.896181</td>\n",
       "      <td>143.130922</td>\n",
       "      <td>143.365906</td>\n",
       "      <td>5.265024e+06</td>\n",
       "    </tr>\n",
       "    <tr>\n",
       "      <th>min</th>\n",
       "      <td>51.400002</td>\n",
       "      <td>52.509998</td>\n",
       "      <td>50.730000</td>\n",
       "      <td>51.590000</td>\n",
       "      <td>47.914722</td>\n",
       "      <td>0.000000e+00</td>\n",
       "    </tr>\n",
       "    <tr>\n",
       "      <th>25%</th>\n",
       "      <td>139.412495</td>\n",
       "      <td>142.299999</td>\n",
       "      <td>136.000000</td>\n",
       "      <td>139.317493</td>\n",
       "      <td>131.694435</td>\n",
       "      <td>1.345259e+06</td>\n",
       "    </tr>\n",
       "    <tr>\n",
       "      <th>50%</th>\n",
       "      <td>227.000000</td>\n",
       "      <td>231.050003</td>\n",
       "      <td>221.550003</td>\n",
       "      <td>226.074997</td>\n",
       "      <td>218.686020</td>\n",
       "      <td>2.447216e+06</td>\n",
       "    </tr>\n",
       "    <tr>\n",
       "      <th>75%</th>\n",
       "      <td>352.075004</td>\n",
       "      <td>357.850006</td>\n",
       "      <td>346.462502</td>\n",
       "      <td>351.887497</td>\n",
       "      <td>346.724068</td>\n",
       "      <td>4.107831e+06</td>\n",
       "    </tr>\n",
       "    <tr>\n",
       "      <th>max</th>\n",
       "      <td>883.400024</td>\n",
       "      <td>901.000000</td>\n",
       "      <td>859.150024</td>\n",
       "      <td>878.599976</td>\n",
       "      <td>872.487549</td>\n",
       "      <td>9.771788e+07</td>\n",
       "    </tr>\n",
       "  </tbody>\n",
       "</table>\n",
       "</div>"
      ],
      "text/plain": [
       "              Open         High          Low        Close    Adj Close  \\\n",
       "count  3362.000000  3362.000000  3362.000000  3362.000000  3362.000000   \n",
       "mean    253.387255   257.771336   248.544155   253.044372   245.757480   \n",
       "std     143.363014   145.417779   140.896181   143.130922   143.365906   \n",
       "min      51.400002    52.509998    50.730000    51.590000    47.914722   \n",
       "25%     139.412495   142.299999   136.000000   139.317493   131.694435   \n",
       "50%     227.000000   231.050003   221.550003   226.074997   218.686020   \n",
       "75%     352.075004   357.850006   346.462502   351.887497   346.724068   \n",
       "max     883.400024   901.000000   859.150024   878.599976   872.487549   \n",
       "\n",
       "             Volume  \n",
       "count  3.362000e+03  \n",
       "mean   3.676066e+06  \n",
       "std    5.265024e+06  \n",
       "min    0.000000e+00  \n",
       "25%    1.345259e+06  \n",
       "50%    2.447216e+06  \n",
       "75%    4.107831e+06  \n",
       "max    9.771788e+07  "
      ]
     },
     "execution_count": 12,
     "metadata": {},
     "output_type": "execute_result"
    }
   ],
   "source": [
    "# Describing the data\n",
    "df.describe()"
   ]
  },
  {
   "cell_type": "code",
   "execution_count": null,
   "id": "12cefc8a",
   "metadata": {},
   "outputs": [],
   "source": [
    "# Inferencie from the describe function:\n",
    "#waiting for the right Pivot.csv file to complet the exercise"
   ]
  }
 ],
 "metadata": {
  "kernelspec": {
   "display_name": "Python 3 (ipykernel)",
   "language": "python",
   "name": "python3"
  },
  "language_info": {
   "codemirror_mode": {
    "name": "ipython",
    "version": 3
   },
   "file_extension": ".py",
   "mimetype": "text/x-python",
   "name": "python",
   "nbconvert_exporter": "python",
   "pygments_lexer": "ipython3",
   "version": "3.8.3"
  }
 },
 "nbformat": 4,
 "nbformat_minor": 5
}
