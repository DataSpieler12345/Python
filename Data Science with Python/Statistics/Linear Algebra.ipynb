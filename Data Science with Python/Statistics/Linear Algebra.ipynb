{
 "cells": [
  {
   "cell_type": "markdown",
   "id": "c9904916",
   "metadata": {},
   "source": [
    "# Linear Algebra\n",
    "\n",
    "* Linear algebra is essential for a deep understanding of machine learning.\n",
    "\n",
    "* Data in linear algebra is represented by linear equations\n",
    "\n",
    "**Essential Parts of Linear Algebra:**\n",
    "\n",
    "1. Notation: A clear idea of notations simplifies the understanding of algorithmes in papers and books\n",
    "\n",
    "2. Operations: When you work with vectors and matrices at an abstract level, concepts become lucid. (+ | - | * | Inversion | Transpose\n",
    "\n",
    "3. Matrix Factorization: Simplify regression algorithms using matrix decomposition methods such as:\n",
    " \n",
    " \t* Singular value decoimposition (SVD)\n",
    "    \n",
    "  * QR decomposition \n",
    "\n",
    "\n",
    "**Understan machine learning at the level of vectors and matrices; it helps create intuition about working algorithms**\n",
    "\t\n",
    "\n"
   ]
  },
  {
   "cell_type": "code",
   "execution_count": null,
   "id": "32670384",
   "metadata": {},
   "outputs": [],
   "source": []
  }
 ],
 "metadata": {
  "kernelspec": {
   "display_name": "Python 3 (ipykernel)",
   "language": "python",
   "name": "python3"
  },
  "language_info": {
   "codemirror_mode": {
    "name": "ipython",
    "version": 3
   },
   "file_extension": ".py",
   "mimetype": "text/x-python",
   "name": "python",
   "nbconvert_exporter": "python",
   "pygments_lexer": "ipython3",
   "version": "3.8.3"
  }
 },
 "nbformat": 4,
 "nbformat_minor": 5
}
