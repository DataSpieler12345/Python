{
 "cells": [
  {
   "cell_type": "markdown",
   "id": "aaad051d",
   "metadata": {},
   "source": [
    "### Deep_Learning_Frameworks\n",
    "\n",
    "* Keras is the highl level API in TensorFlow 2.0\n",
    "* PyTorch\n",
    "* Theano\n",
    "* DL4J\n",
    "* Chainer\n",
    "*  Caffe\n",
    "\n",
    "** TensorFlow ** is a popular open-source library released in 2015 by Google Brain team for building machine learning and deep learning models.\n",
    "\n",
    "** Tensorflow ** works efficiently with multi-dimensional arrays | Supports fast debugging and model building | Provides scalability of computation across machines and large data sets | Has a large community and provides TensorBoard to visualize the model.\n",
    "\n",
    "** Tensorflow ** tensors are defined by a unit of dimensionality called as rank | Entity (Scalar, Vector, Matrix, Tensor) | Rank (0,1,2,3).\n",
    "\n",
    "** Tensorflow ** performs computations with the help of dataflow graphs. It has nodes that represent the operations in your model | Compute the below function = a(b = 4,c = 3,d = 6) = (b+c) * (d-4) | x = (4+3) | y = (6-4) |  a = 7*2=14.\n",
    "\n",
    "** Tensorflow ** varibles are in-memory buffers that store tensors.\n",
    "\n",
    "** Tensorflow ** a session in TensorFlow is used to run a computational graph to evaluate the nodes.\n",
    "\n",
    "** Tensorflow ** it required VE up --version 2.0.\n",
    "\n",
    "** https://www.tensorflow.org/api_docs/python/tf/math"
   ]
  },
  {
   "cell_type": "markdown",
   "id": "372df3d2",
   "metadata": {},
   "source": [
    "### Demo using TensorFlow 2.0"
   ]
  },
  {
   "cell_type": "code",
   "execution_count": 7,
   "id": "24e389bf",
   "metadata": {},
   "outputs": [
    {
     "name": "stdout",
     "output_type": "stream",
     "text": [
      "Your TensorFlow version is 2.4.0\n"
     ]
    }
   ],
   "source": [
    "import tensorflow as tf\n",
    "print(('Your TensorFlow version is {0}').format(tf.__version__))"
   ]
  },
  {
   "cell_type": "markdown",
   "id": "dd1b3283",
   "metadata": {},
   "source": [
    "##### Create a constant tensor A"
   ]
  },
  {
   "cell_type": "code",
   "execution_count": 10,
   "id": "24f064fe",
   "metadata": {},
   "outputs": [
    {
     "data": {
      "text/plain": [
       "<tf.Tensor: shape=(2, 2), dtype=int32, numpy=\n",
       "array([[ 4,  3],\n",
       "       [ 6, 11]])>"
      ]
     },
     "execution_count": 10,
     "metadata": {},
     "output_type": "execute_result"
    }
   ],
   "source": [
    "A = tf.constant([[4, 3],\n",
    "                 [6, 11]])\n",
    "A "
   ]
  },
  {
   "cell_type": "markdown",
   "id": "2a4ddad1",
   "metadata": {},
   "source": [
    "##### Create a constant tensor V"
   ]
  },
  {
   "cell_type": "code",
   "execution_count": 14,
   "id": "09e13785",
   "metadata": {},
   "outputs": [
    {
     "name": "stdout",
     "output_type": "stream",
     "text": [
      "<tf.Variable 'Variable:0' shape=(2, 2) dtype=int32, numpy=\n",
      "array([[3, 1],\n",
      "       [5, 2]])>\n"
     ]
    },
    {
     "data": {
      "text/plain": [
       "<tf.Tensor: shape=(2, 2), dtype=int32, numpy=\n",
       "array([[7, 8],\n",
       "       [4, 5]])>"
      ]
     },
     "execution_count": 14,
     "metadata": {},
     "output_type": "execute_result"
    }
   ],
   "source": [
    "V = tf.Variable([[3, 1],\n",
    "                 [5, 2]])\n",
    "# Create another tensor B\n",
    "B = tf.constant([[7, 8],\n",
    "                 [4, 5]])\n",
    "print(V)\n",
    "B"
   ]
  },
  {
   "cell_type": "markdown",
   "id": "4e92eb5e",
   "metadata": {},
   "source": [
    "#### Concatenated columns shape ~ (2,2,2)"
   ]
  },
  {
   "cell_type": "code",
   "execution_count": 15,
   "id": "99041ff5",
   "metadata": {},
   "outputs": [
    {
     "data": {
      "text/plain": [
       "<tf.Tensor: shape=(2, 4), dtype=int32, numpy=\n",
       "array([[ 4,  3,  7,  8],\n",
       "       [ 6, 11,  4,  5]])>"
      ]
     },
     "execution_count": 15,
     "metadata": {},
     "output_type": "execute_result"
    }
   ],
   "source": [
    "AB_concatenated = tf.concat(values=[A, B], axis=1)\n",
    "AB_concatenated #Numpy Array als format to visualize / show"
   ]
  },
  {
   "cell_type": "code",
   "execution_count": 16,
   "id": "a52f44b0",
   "metadata": {},
   "outputs": [
    {
     "data": {
      "text/plain": [
       "<tf.Tensor: shape=(4, 2), dtype=int32, numpy=\n",
       "array([[ 4,  3],\n",
       "       [ 6, 11],\n",
       "       [ 7,  8],\n",
       "       [ 4,  5]])>"
      ]
     },
     "execution_count": 16,
     "metadata": {},
     "output_type": "execute_result"
    }
   ],
   "source": [
    "# We can concatenate by rows\n",
    "AB_concatenated = tf.concat(values=[A, B], axis=0)\n",
    "AB_concatenated"
   ]
  },
  {
   "cell_type": "code",
   "execution_count": 17,
   "id": "959e5619",
   "metadata": {},
   "outputs": [
    {
     "data": {
      "text/plain": [
       "<tf.Tensor: shape=(3, 4), dtype=float32, numpy=\n",
       "array([[0., 0., 0., 0.],\n",
       "       [0., 0., 0., 0.],\n",
       "       [0., 0., 0., 0.]], dtype=float32)>"
      ]
     },
     "execution_count": 17,
     "metadata": {},
     "output_type": "execute_result"
    }
   ],
   "source": [
    "tensor = tf.zeros(shape=[3, 4], dtype=tf.float32)\n",
    "tensor # Work with Nan Values, complicated & not recomended"
   ]
  },
  {
   "cell_type": "code",
   "execution_count": 18,
   "id": "b0e51cb8",
   "metadata": {},
   "outputs": [
    {
     "data": {
      "text/plain": [
       "<tf.Tensor: shape=(3, 4), dtype=float32, numpy=\n",
       "array([[1., 1., 1., 1.],\n",
       "       [1., 1., 1., 1.],\n",
       "       [1., 1., 1., 1.]], dtype=float32)>"
      ]
     },
     "execution_count": 18,
     "metadata": {},
     "output_type": "execute_result"
    }
   ],
   "source": [
    "tensor = tf.ones(shape=[3, 4], dtype=tf.float32)\n",
    "tensor # best practices"
   ]
  },
  {
   "cell_type": "markdown",
   "id": "582ac33b",
   "metadata": {},
   "source": [
    "#### Just for fun "
   ]
  },
  {
   "cell_type": "code",
   "execution_count": 22,
   "id": "17cce872",
   "metadata": {},
   "outputs": [
    {
     "data": {
      "text/plain": [
       "<tf.Tensor: shape=(3, 4), dtype=float32, numpy=\n",
       "array([[0.2506795 , 0.45040798, 0.6034514 , 0.4196434 ],\n",
       "       [0.313735  , 0.00455129, 0.9177182 , 0.45943904],\n",
       "       [0.95105886, 0.12323821, 0.94903374, 0.07389629]], dtype=float32)>"
      ]
     },
     "execution_count": 22,
     "metadata": {},
     "output_type": "execute_result"
    }
   ],
   "source": [
    "tensor = tf.random.uniform(shape=[3, 4], dtype=tf.float32)\n",
    "tensor"
   ]
  },
  {
   "cell_type": "markdown",
   "id": "9b7007b4",
   "metadata": {},
   "source": [
    "#### Reshape the Tensor"
   ]
  },
  {
   "cell_type": "code",
   "execution_count": 21,
   "id": "19a7fbda",
   "metadata": {},
   "outputs": [
    {
     "data": {
      "text/plain": [
       "<tf.Tensor: shape=(4, 3), dtype=float32, numpy=\n",
       "array([[0.8378295 , 0.47556627, 0.0994699 ],\n",
       "       [0.18797433, 0.49291027, 0.65116143],\n",
       "       [0.8427844 , 0.11754668, 0.23283875],\n",
       "       [0.18398273, 0.37679553, 0.5196949 ]], dtype=float32)>"
      ]
     },
     "execution_count": 21,
     "metadata": {},
     "output_type": "execute_result"
    }
   ],
   "source": [
    "reshaped_tensor = tf.reshape(tensor = tensor, shape = [4,3])\n",
    "reshaped_tensor"
   ]
  },
  {
   "cell_type": "markdown",
   "id": "b6de6e47",
   "metadata": {},
   "source": [
    "#### Typecast a tensor"
   ]
  },
  {
   "cell_type": "code",
   "execution_count": 24,
   "id": "320f901b",
   "metadata": {},
   "outputs": [
    {
     "name": "stdout",
     "output_type": "stream",
     "text": [
      "tf.Tensor(\n",
      "[[4.6 4.2]\n",
      " [7.5 3.6]\n",
      " [2.7 9.4]\n",
      " [6.7 8.3]], shape=(4, 2), dtype=float32)\n",
      "tf.Tensor(\n",
      "[[4 4]\n",
      " [7 3]\n",
      " [2 9]\n",
      " [6 8]], shape=(4, 2), dtype=int32)\n"
     ]
    }
   ],
   "source": [
    "tensor = tf.constant([[4.6, 4.2],\n",
    "                      [7.5, 3.6],\n",
    "                      [2.7, 9.4],\n",
    "                      [6.7, 8.3]],\n",
    "                      dtype=tf.float32)\n",
    "tensor_as_int = tf.cast(tensor, tf.int32)\n",
    "print(tensor)\n",
    "print(tensor_as_int)                  "
   ]
  },
  {
   "cell_type": "markdown",
   "id": "16a0d387",
   "metadata": {},
   "source": [
    "#### Transpose like reshape "
   ]
  },
  {
   "cell_type": "code",
   "execution_count": 26,
   "id": "e5b9ed31",
   "metadata": {},
   "outputs": [
    {
     "data": {
      "text/plain": [
       "<tf.Tensor: shape=(4, 2), dtype=int32, numpy=\n",
       "array([[4, 4],\n",
       "       [7, 3],\n",
       "       [2, 9],\n",
       "       [6, 8]])>"
      ]
     },
     "execution_count": 26,
     "metadata": {},
     "output_type": "execute_result"
    }
   ],
   "source": [
    "a = tf.transpose(tensor_as_int)\n",
    "tensor_as_int"
   ]
  },
  {
   "cell_type": "markdown",
   "id": "4dad039e",
   "metadata": {},
   "source": [
    "### Doing diff Maths function"
   ]
  },
  {
   "cell_type": "code",
   "execution_count": 30,
   "id": "5265e0df",
   "metadata": {},
   "outputs": [
    {
     "data": {
      "text/plain": [
       "<tf.Tensor: shape=(2, 1), dtype=int32, numpy=\n",
       "array([[36],\n",
       "       [30]])>"
      ]
     },
     "execution_count": 30,
     "metadata": {},
     "output_type": "execute_result"
    }
   ],
   "source": [
    "# Matrix multiplication of tensors\n",
    "A = tf.constant([[5, 8],\n",
    "                 [3, 9]])\n",
    "\n",
    "# Some vector v\n",
    "v = tf.constant([[4],\n",
    "                 [2]])\n",
    "\n",
    "Av = tf.matmul(A, v) #matrix multiplier\n",
    "Av"
   ]
  },
  {
   "cell_type": "code",
   "execution_count": 31,
   "id": "5f4bedba",
   "metadata": {},
   "outputs": [
    {
     "data": {
      "text/plain": [
       "<tf.Tensor: shape=(2, 2), dtype=int32, numpy=\n",
       "array([[20, 32],\n",
       "       [ 6, 18]])>"
      ]
     },
     "execution_count": 31,
     "metadata": {},
     "output_type": "execute_result"
    }
   ],
   "source": [
    "# Element-wise multiplication \n",
    "Av = tf.multiply(A,v)\n",
    "Av"
   ]
  },
  {
   "cell_type": "code",
   "execution_count": 41,
   "id": "f03bdfdf",
   "metadata": {},
   "outputs": [
    {
     "name": "stdout",
     "output_type": "stream",
     "text": [
      "rows: 3 columns: 2\n"
     ]
    },
    {
     "data": {
      "text/plain": [
       "<tf.Tensor: shape=(3, 2), dtype=int32, numpy=\n",
       "array([[1, 0],\n",
       "       [0, 1],\n",
       "       [0, 0]])>"
      ]
     },
     "execution_count": 41,
     "metadata": {},
     "output_type": "execute_result"
    }
   ],
   "source": [
    "# Creating an identity matrix \n",
    "A = tf.constant([[4, 9],\n",
    "                 [5, 6],\n",
    "                 [1, 8]])\n",
    "rows, columns = A.shape\n",
    "print('rows:', rows, 'columns:', columns)\n",
    "\n",
    "# Making an identity matrix \n",
    "A_identity = tf.eye(num_rows = rows,\n",
    "                   num_columns = columns, \n",
    "                   dtype = tf.int32)\n",
    "A_identity"
   ]
  },
  {
   "cell_type": "code",
   "execution_count": null,
   "id": "d70732f5",
   "metadata": {},
   "outputs": [],
   "source": []
  },
  {
   "cell_type": "code",
   "execution_count": null,
   "id": "11acee78",
   "metadata": {},
   "outputs": [],
   "source": []
  }
 ],
 "metadata": {
  "kernelspec": {
   "display_name": "Python 3 (ipykernel)",
   "language": "python",
   "name": "python3"
  },
  "language_info": {
   "codemirror_mode": {
    "name": "ipython",
    "version": 3
   },
   "file_extension": ".py",
   "mimetype": "text/x-python",
   "name": "python",
   "nbconvert_exporter": "python",
   "pygments_lexer": "ipython3",
   "version": "3.8.16"
  }
 },
 "nbformat": 4,
 "nbformat_minor": 5
}
