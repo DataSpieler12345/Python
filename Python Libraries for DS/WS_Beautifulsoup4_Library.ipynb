{
 "cells": [
  {
   "cell_type": "code",
   "execution_count": 416,
   "id": "ed13e5b2-e4f8-4ba0-a050-cb43c2b135e5",
   "metadata": {},
   "outputs": [],
   "source": [
    "import pandas as pd #DF_spreadsheet data\n",
    "import numpy as np #to manipulate data\n",
    "import matplotlib.pyplot as plt #to bringt together en plot it\n",
    "\n",
    "%matplotlib inline \n",
    "\n",
    "from urllib.request import urlopen #that request the website data\n",
    "from bs4 import BeautifulSoup #to scrap data\n",
    "import re #for manipulate regular expresion"
   ]
  },
  {
   "cell_type": "markdown",
   "id": "effefdc2-a516-44ac-a5dd-edb088412900",
   "metadata": {},
   "source": [
    "### Pull data"
   ]
  },
  {
   "cell_type": "code",
   "execution_count": 417,
   "id": "eb01c3ca-becc-495f-9f69-48289b6470ce",
   "metadata": {},
   "outputs": [],
   "source": [
    "url=\"https://www.hubertiming.com/results/2018MLK\" #open the link \n",
    "html=urlopen(url)"
   ]
  },
  {
   "cell_type": "code",
   "execution_count": 418,
   "id": "c6a9f32c-01a0-4753-9e4c-7764f6e4bc75",
   "metadata": {},
   "outputs": [],
   "source": [
    "soup = BeautifulSoup(html)"
   ]
  },
  {
   "cell_type": "code",
   "execution_count": 419,
   "id": "9ea71178-0bd8-4fef-8d54-0a6a20a42e6b",
   "metadata": {},
   "outputs": [
    {
     "name": "stdout",
     "output_type": "stream",
     "text": [
      "<title>Race results for the 2018 MLK Dream Run!</title>\n",
      "Race results for the 2018 MLK Dream Run!\n"
     ]
    }
   ],
   "source": [
    "title = soup.title\n",
    "print(title) #piece of a html file\n",
    "print(title.text) #title of the website"
   ]
  },
  {
   "cell_type": "code",
   "execution_count": 420,
   "id": "d8b33979-4d1c-4ce9-9ebd-9065a3be6663",
   "metadata": {},
   "outputs": [
    {
     "name": "stdout",
     "output_type": "stream",
     "text": [
      "https://www.mlkdreamrun.com/\n",
      "mailto:timing@hubertiming.com\n",
      "https://www.hubertiming.com\n",
      "/results/2018MLK10K\n",
      "/results/2018MLK15K\n",
      "/results/summary/2018MLK\n",
      "#tabs-1\n",
      "https://www.hubertiming.com/\n",
      "https://facebook.com/hubertiming/\n"
     ]
    }
   ],
   "source": [
    "links = soup.find_all('a', href=True)\n",
    "for link in links:\n",
    "    print(link[\"href\"])\n"
   ]
  },
  {
   "cell_type": "markdown",
   "id": "7b9c9543-4959-499a-b485-840fc27b0bda",
   "metadata": {},
   "source": [
    "### Getting the data of the page"
   ]
  },
  {
   "cell_type": "code",
   "execution_count": 421,
   "id": "dfd45879-932d-4895-b8ad-93758de126e7",
   "metadata": {},
   "outputs": [
    {
     "name": "stdout",
     "output_type": "stream",
     "text": [
      "[<tr colspan=\"2\">\n",
      "<b>5K:</b>\n",
      "</tr>, <tr>\n",
      "<td>Finishers:</td>\n",
      "<td>191</td>\n",
      "</tr>, <tr>\n",
      "<td>Male:</td>\n",
      "<td>78</td>\n",
      "</tr>, <tr>\n",
      "<td>Female:</td>\n",
      "<td>113</td>\n",
      "</tr>, <tr class=\"header\">\n",
      "<th>Place</th>\n",
      "<th>Bib</th>\n",
      "<th>Name</th>\n",
      "<th>Gender</th>\n",
      "<th>Age</th>\n",
      "<th>City</th>\n",
      "<th>State</th>\n",
      "<th>Chip Pace</th>\n",
      "<th>Chip Time</th>\n",
      "<th>Gender Place</th>\n",
      "<th>Age Group</th>\n",
      "<th>Age Group Place</th>\n",
      "<th>Time to Start</th>\n",
      "<th>Gun Time</th>\n",
      "</tr>]\n"
     ]
    }
   ],
   "source": [
    "allrows=soup.find_all('tr') #tr\n",
    "print(allrows[:5]) # the first 5 rows"
   ]
  },
  {
   "cell_type": "code",
   "execution_count": 422,
   "id": "9269b5b7-840a-41dc-91ec-e476d82bfd0f",
   "metadata": {},
   "outputs": [
    {
     "name": "stdout",
     "output_type": "stream",
     "text": [
      "<tr>\n",
      "<td>Finishers:</td>\n",
      "<td>191</td>\n",
      "</tr>\n"
     ]
    }
   ],
   "source": [
    "allrows=soup.find_all('tr') #tr\n",
    "print(allrows[1]) #second row es finisher de acuedo al data set"
   ]
  },
  {
   "cell_type": "code",
   "execution_count": 423,
   "id": "de28f61d-906b-41ea-8013-b9c03e204f6f",
   "metadata": {},
   "outputs": [
    {
     "name": "stdout",
     "output_type": "stream",
     "text": [
      "<tr>\n",
      "<td>Male:</td>\n",
      "<td>78</td>\n",
      "</tr>\n"
     ]
    }
   ],
   "source": [
    "allrows=soup.find_all('tr') #tr\n",
    "print(allrows[2])"
   ]
  },
  {
   "cell_type": "code",
   "execution_count": 424,
   "id": "de6cc8c9-c3e2-4def-85fe-535c040d9f62",
   "metadata": {},
   "outputs": [
    {
     "name": "stdout",
     "output_type": "stream",
     "text": [
      "<tr>\n",
      "<td>Female:</td>\n",
      "<td>113</td>\n",
      "</tr>\n"
     ]
    }
   ],
   "source": [
    "allrows=soup.find_all('tr') #tr\n",
    "print(allrows[3])"
   ]
  },
  {
   "cell_type": "code",
   "execution_count": 425,
   "id": "f83b93c1-7a8e-4e5a-8cd0-ba6a5909a260",
   "metadata": {},
   "outputs": [
    {
     "name": "stdout",
     "output_type": "stream",
     "text": [
      "<tr class=\"header\">\n",
      "<th>Place</th>\n",
      "<th>Bib</th>\n",
      "<th>Name</th>\n",
      "<th>Gender</th>\n",
      "<th>Age</th>\n",
      "<th>City</th>\n",
      "<th>State</th>\n",
      "<th>Chip Pace</th>\n",
      "<th>Chip Time</th>\n",
      "<th>Gender Place</th>\n",
      "<th>Age Group</th>\n",
      "<th>Age Group Place</th>\n",
      "<th>Time to Start</th>\n",
      "<th>Gun Time</th>\n",
      "</tr>\n"
     ]
    }
   ],
   "source": [
    "allrows=soup.find_all('tr') #tr\n",
    "print(allrows[4])"
   ]
  },
  {
   "cell_type": "code",
   "execution_count": 426,
   "id": "200aabff-afa0-492c-a0fe-fe4e6ef42b44",
   "metadata": {},
   "outputs": [
    {
     "name": "stdout",
     "output_type": "stream",
     "text": [
      "[<tr colspan=\"2\">\n",
      "<b>5K:</b>\n",
      "</tr>, <tr>\n",
      "<td>Finishers:</td>\n",
      "<td>191</td>\n",
      "</tr>, <tr>\n",
      "<td>Male:</td>\n",
      "<td>78</td>\n",
      "</tr>, <tr>\n",
      "<td>Female:</td>\n",
      "<td>113</td>\n",
      "</tr>, <tr class=\"header\">\n",
      "<th>Place</th>\n",
      "<th>Bib</th>\n",
      "<th>Name</th>\n",
      "<th>Gender</th>\n",
      "<th>Age</th>\n",
      "<th>City</th>\n",
      "<th>State</th>\n",
      "<th>Chip Pace</th>\n",
      "<th>Chip Time</th>\n",
      "<th>Gender Place</th>\n",
      "<th>Age Group</th>\n",
      "<th>Age Group Place</th>\n",
      "<th>Time to Start</th>\n",
      "<th>Gun Time</th>\n",
      "</tr>]\n"
     ]
    }
   ],
   "source": [
    "allrows=soup.find_all('tr') #tr\n",
    "print(allrows[:5])"
   ]
  },
  {
   "cell_type": "code",
   "execution_count": 427,
   "id": "dbcc803a-da55-4ed4-af79-5f80ad69fc23",
   "metadata": {},
   "outputs": [
    {
     "name": "stdout",
     "output_type": "stream",
     "text": [
      "[<tr colspan=\"2\">\n",
      "<b>5K:</b>\n",
      "</tr>, <tr>\n",
      "<td>Finishers:</td>\n",
      "<td>191</td>\n",
      "</tr>, <tr>\n",
      "<td>Male:</td>\n",
      "<td>78</td>\n",
      "</tr>, <tr>\n",
      "<td>Female:</td>\n",
      "<td>113</td>\n",
      "</tr>, <tr class=\"header\">\n",
      "<th>Place</th>\n",
      "<th>Bib</th>\n",
      "<th>Name</th>\n",
      "<th>Gender</th>\n",
      "<th>Age</th>\n",
      "<th>City</th>\n",
      "<th>State</th>\n",
      "<th>Chip Pace</th>\n",
      "<th>Chip Time</th>\n",
      "<th>Gender Place</th>\n",
      "<th>Age Group</th>\n",
      "<th>Age Group Place</th>\n",
      "<th>Time to Start</th>\n",
      "<th>Gun Time</th>\n",
      "</tr>, <tr data-bib=\"1191\">\n",
      "<td>1</td>\n",
      "<td>1191</td>\n",
      "<td>\n",
      "\n",
      "                    MAX RANDOLPH\n",
      "\n",
      "                </td>\n",
      "<td>M</td>\n",
      "<td>29</td>\n",
      "<td>WASHINGTON</td>\n",
      "<td>DC</td>\n",
      "<td>5:25</td>\n",
      "<td>16:48</td>\n",
      "<td>\n",
      "\n",
      "                    1 of 78\n",
      "\n",
      "                </td>\n",
      "<td>M 21-39</td>\n",
      "<td>\n",
      "\n",
      "                    1 of 33\n",
      "\n",
      "                </td>\n",
      "<td>0:08</td>\n",
      "<td>16:56</td>\n",
      "</tr>, <tr data-bib=\"1080\">\n",
      "<td>2</td>\n",
      "<td>1080</td>\n",
      "<td>\n",
      "\n",
      "                    NEED NAME KAISER RUNNER\n",
      "\n",
      "                </td>\n",
      "<td>M</td>\n",
      "<td>25</td>\n",
      "<td>PORTLAND</td>\n",
      "<td>OR</td>\n",
      "<td>5:39</td>\n",
      "<td>17:31</td>\n",
      "<td>\n",
      "\n",
      "                    2 of 78\n",
      "\n",
      "                </td>\n",
      "<td>M 21-39</td>\n",
      "<td>\n",
      "\n",
      "                    2 of 33\n",
      "\n",
      "                </td>\n",
      "<td>0:09</td>\n",
      "<td>17:40</td>\n",
      "</tr>, <tr data-bib=\"1275\">\n",
      "<td>3</td>\n",
      "<td>1275</td>\n",
      "<td>\n",
      "\n",
      "                    DAN FRANEK\n",
      "\n",
      "                </td>\n",
      "<td>M</td>\n",
      "<td>52</td>\n",
      "<td>PORTLAND</td>\n",
      "<td>OR</td>\n",
      "<td>5:53</td>\n",
      "<td>18:15</td>\n",
      "<td>\n",
      "\n",
      "                    3 of 78\n",
      "\n",
      "                </td>\n",
      "<td>M 40-54</td>\n",
      "<td>\n",
      "\n",
      "                    1 of 27\n",
      "\n",
      "                </td>\n",
      "<td>0:07</td>\n",
      "<td>18:22</td>\n",
      "</tr>, <tr data-bib=\"1223\">\n",
      "<td>4</td>\n",
      "<td>1223</td>\n",
      "<td>\n",
      "\n",
      "                    PAUL TAYLOR\n",
      "\n",
      "                </td>\n",
      "<td>M</td>\n",
      "<td>54</td>\n",
      "<td>PORTLAND</td>\n",
      "<td>OR</td>\n",
      "<td>5:58</td>\n",
      "<td>18:31</td>\n",
      "<td>\n",
      "\n",
      "                    4 of 78\n",
      "\n",
      "                </td>\n",
      "<td>M 40-54</td>\n",
      "<td>\n",
      "\n",
      "                    2 of 27\n",
      "\n",
      "                </td>\n",
      "<td>0:07</td>\n",
      "<td>18:38</td>\n",
      "</tr>, <tr data-bib=\"1245\">\n",
      "<td>5</td>\n",
      "<td>1245</td>\n",
      "<td>\n",
      "\n",
      "                    THEO KINMAN\n",
      "\n",
      "                </td>\n",
      "<td>M</td>\n",
      "<td>22</td>\n",
      "<td></td>\n",
      "<td></td>\n",
      "<td>6:17</td>\n",
      "<td>19:31</td>\n",
      "<td>\n",
      "\n",
      "                    5 of 78\n",
      "\n",
      "                </td>\n",
      "<td>M 21-39</td>\n",
      "<td>\n",
      "\n",
      "                    3 of 33\n",
      "\n",
      "                </td>\n",
      "<td>0:09</td>\n",
      "<td>19:40</td>\n",
      "</tr>]\n"
     ]
    }
   ],
   "source": [
    "allrows=soup.find_all('tr') #tr\n",
    "print(allrows[:10])"
   ]
  },
  {
   "cell_type": "code",
   "execution_count": 428,
   "id": "35f25444-f79a-457a-858e-5d10aec1fa28",
   "metadata": {},
   "outputs": [
    {
     "name": "stdout",
     "output_type": "stream",
     "text": [
      "[['190', '2087', '\\r\\n\\r\\n                    LEESHA POSEY\\r\\n\\r\\n                ', 'F', '43', 'PORTLAND', 'OR', '30:17', '1:33:53', '\\r\\n\\r\\n                    112 of 113\\r\\n\\r\\n                ', 'F 40-54', '\\r\\n\\r\\n                    36 of 37\\r\\n\\r\\n                ', '0:00', '1:33:53'], ['191', '1216', '\\r\\n\\r\\n                    ZULMA OCHOA\\r\\n\\r\\n                ', 'F', '40', 'GRESHAM', 'OR', '33:22', '1:43:27', '\\r\\n\\r\\n                    113 of 113\\r\\n\\r\\n                ', 'F 40-54', '\\r\\n\\r\\n                    37 of 37\\r\\n\\r\\n                ', '0:00', '1:43:27']]\n"
     ]
    }
   ],
   "source": [
    "data = []\n",
    "allrows = soup.find_all('tr') #tr\n",
    "for row in allrows:\n",
    "    row_list = row.find_all(\"td\")\n",
    "    dataRow = []\n",
    "    for cell in row_list:\n",
    "        dataRow.append(cell.text)\n",
    "    data.append(dataRow)\n",
    "data = data[5:] #index 4 del dataset\n",
    "print(data[-2:])    "
   ]
  },
  {
   "cell_type": "markdown",
   "id": "53b72dae-832f-43c7-af06-a9bdea081770",
   "metadata": {},
   "source": [
    "### Data into DF Pandas"
   ]
  },
  {
   "cell_type": "code",
   "execution_count": 429,
   "id": "661a6fa9-e095-45fe-8c77-bf42ba51dcaf",
   "metadata": {},
   "outputs": [
    {
     "name": "stdout",
     "output_type": "stream",
     "text": [
      "  0     1                                                  2  3   4   \\\n",
      "0  1  1191  \\r\\n\\r\\n                    MAX RANDOLPH\\r\\n\\r...  M  29   \n",
      "1  2  1080  \\r\\n\\r\\n                    NEED NAME KAISER R...  M  25   \n",
      "\n",
      "           5   6     7      8   \\\n",
      "0  WASHINGTON  DC  5:25  16:48   \n",
      "1    PORTLAND  OR  5:39  17:31   \n",
      "\n",
      "                                                  9        10  \\\n",
      "0  \\r\\n\\r\\n                    1 of 78\\r\\n\\r\\n   ...  M 21-39   \n",
      "1  \\r\\n\\r\\n                    2 of 78\\r\\n\\r\\n   ...  M 21-39   \n",
      "\n",
      "                                                  11    12     13  \n",
      "0  \\r\\n\\r\\n                    1 of 33\\r\\n\\r\\n   ...  0:08  16:56  \n",
      "1  \\r\\n\\r\\n                    2 of 33\\r\\n\\r\\n   ...  0:09  17:40  \n",
      "      0     1                                                  2  3   4   \\\n",
      "189  190  2087  \\r\\n\\r\\n                    LEESHA POSEY\\r\\n\\r...  F  43   \n",
      "190  191  1216  \\r\\n\\r\\n                    ZULMA OCHOA\\r\\n\\r\\...  F  40   \n",
      "\n",
      "           5   6      7        8   \\\n",
      "189  PORTLAND  OR  30:17  1:33:53   \n",
      "190   GRESHAM  OR  33:22  1:43:27   \n",
      "\n",
      "                                                    9        10  \\\n",
      "189  \\r\\n\\r\\n                    112 of 113\\r\\n\\r\\n...  F 40-54   \n",
      "190  \\r\\n\\r\\n                    113 of 113\\r\\n\\r\\n...  F 40-54   \n",
      "\n",
      "                                                    11    12       13  \n",
      "189  \\r\\n\\r\\n                    36 of 37\\r\\n\\r\\n  ...  0:00  1:33:53  \n",
      "190  \\r\\n\\r\\n                    37 of 37\\r\\n\\r\\n  ...  0:00  1:43:27  \n"
     ]
    }
   ],
   "source": [
    "df = pd.DataFrame(data) #we can clean it here or direct with the data variable\n",
    "print(df.head(2))\n",
    "print(df.tail(2))"
   ]
  },
  {
   "cell_type": "markdown",
   "id": "99d5189a-99db-4f06-91b8-8a81a271d5a5",
   "metadata": {},
   "source": [
    "### Convert columns name header"
   ]
  },
  {
   "cell_type": "code",
   "execution_count": 430,
   "id": "e676a4b1-b756-4aa9-9db9-d5cdc631065c",
   "metadata": {},
   "outputs": [
    {
     "name": "stdout",
     "output_type": "stream",
     "text": [
      "['Place', 'Bib', 'Name', 'Gender', 'Age', 'City', 'State', 'Chip Pace', 'Chip Time', 'Gender Place', 'Age Group', 'Age Group Place', 'Time to Start', 'Gun Time']\n"
     ]
    }
   ],
   "source": [
    "header_list = [] #an empty array\n",
    "col_headers = soup.find_all('th')\n",
    "for col in col_headers:\n",
    "    header_list.append(col.text)\n",
    "print(header_list)"
   ]
  },
  {
   "cell_type": "code",
   "execution_count": 431,
   "id": "f276f8c9-8be8-4efb-986b-c6d68d214929",
   "metadata": {},
   "outputs": [
    {
     "name": "stdout",
     "output_type": "stream",
     "text": [
      "  Place   Bib                                               Name Gender Age  \\\n",
      "0     1  1191  \\r\\n\\r\\n                    MAX RANDOLPH\\r\\n\\r...      M  29   \n",
      "1     2  1080  \\r\\n\\r\\n                    NEED NAME KAISER R...      M  25   \n",
      "2     3  1275  \\r\\n\\r\\n                    DAN FRANEK\\r\\n\\r\\n...      M  52   \n",
      "3     4  1223  \\r\\n\\r\\n                    PAUL TAYLOR\\r\\n\\r\\...      M  54   \n",
      "4     5  1245  \\r\\n\\r\\n                    THEO KINMAN\\r\\n\\r\\...      M  22   \n",
      "\n",
      "         City State Chip Pace Chip Time  \\\n",
      "0  WASHINGTON    DC      5:25     16:48   \n",
      "1    PORTLAND    OR      5:39     17:31   \n",
      "2    PORTLAND    OR      5:53     18:15   \n",
      "3    PORTLAND    OR      5:58     18:31   \n",
      "4                        6:17     19:31   \n",
      "\n",
      "                                        Gender Place Age Group  \\\n",
      "0  \\r\\n\\r\\n                    1 of 78\\r\\n\\r\\n   ...   M 21-39   \n",
      "1  \\r\\n\\r\\n                    2 of 78\\r\\n\\r\\n   ...   M 21-39   \n",
      "2  \\r\\n\\r\\n                    3 of 78\\r\\n\\r\\n   ...   M 40-54   \n",
      "3  \\r\\n\\r\\n                    4 of 78\\r\\n\\r\\n   ...   M 40-54   \n",
      "4  \\r\\n\\r\\n                    5 of 78\\r\\n\\r\\n   ...   M 21-39   \n",
      "\n",
      "                                     Age Group Place Time to Start Gun Time  \n",
      "0  \\r\\n\\r\\n                    1 of 33\\r\\n\\r\\n   ...          0:08    16:56  \n",
      "1  \\r\\n\\r\\n                    2 of 33\\r\\n\\r\\n   ...          0:09    17:40  \n",
      "2  \\r\\n\\r\\n                    1 of 27\\r\\n\\r\\n   ...          0:07    18:22  \n",
      "3  \\r\\n\\r\\n                    2 of 27\\r\\n\\r\\n   ...          0:07    18:38  \n",
      "4  \\r\\n\\r\\n                    3 of 33\\r\\n\\r\\n   ...          0:09    19:40  \n"
     ]
    }
   ],
   "source": [
    "df.columns = header_list\n",
    "print(df.head())"
   ]
  },
  {
   "cell_type": "code",
   "execution_count": 432,
   "id": "17a4774f-077e-4f0f-a796-1c3d473c076f",
   "metadata": {},
   "outputs": [
    {
     "name": "stdout",
     "output_type": "stream",
     "text": [
      "<class 'pandas.core.frame.DataFrame'>\n",
      "RangeIndex: 191 entries, 0 to 190\n",
      "Data columns (total 14 columns):\n",
      " #   Column           Non-Null Count  Dtype \n",
      "---  ------           --------------  ----- \n",
      " 0   Place            191 non-null    object\n",
      " 1   Bib              191 non-null    object\n",
      " 2   Name             191 non-null    object\n",
      " 3   Gender           191 non-null    object\n",
      " 4   Age              191 non-null    object\n",
      " 5   City             191 non-null    object\n",
      " 6   State            191 non-null    object\n",
      " 7   Chip Pace        191 non-null    object\n",
      " 8   Chip Time        191 non-null    object\n",
      " 9   Gender Place     191 non-null    object\n",
      " 10  Age Group        191 non-null    object\n",
      " 11  Age Group Place  191 non-null    object\n",
      " 12  Time to Start    191 non-null    object\n",
      " 13  Gun Time         191 non-null    object\n",
      "dtypes: object(14)\n",
      "memory usage: 21.0+ KB\n"
     ]
    }
   ],
   "source": [
    "df.info()"
   ]
  },
  {
   "cell_type": "code",
   "execution_count": 433,
   "id": "3fc84a52-45a9-4b75-af94-2dabdb575783",
   "metadata": {},
   "outputs": [
    {
     "data": {
      "text/plain": [
       "(191, 14)"
      ]
     },
     "execution_count": 433,
     "metadata": {},
     "output_type": "execute_result"
    }
   ],
   "source": [
    "df.shape"
   ]
  },
  {
   "cell_type": "markdown",
   "id": "fc1139e1-0b1a-451a-9d9c-ea8f02ac55b9",
   "metadata": {
    "tags": []
   },
   "source": [
    "### Creating a second Df"
   ]
  },
  {
   "cell_type": "code",
   "execution_count": 434,
   "id": "628bbf13-283f-4cbd-91dc-faca4f4dbbce",
   "metadata": {},
   "outputs": [
    {
     "data": {
      "text/plain": [
       "(191, 14)"
      ]
     },
     "execution_count": 434,
     "metadata": {},
     "output_type": "execute_result"
    }
   ],
   "source": [
    "df2 = df.dropna(axis=1, how='any') #drop any column with null values\n",
    "df.shape"
   ]
  },
  {
   "cell_type": "code",
   "execution_count": 435,
   "id": "6b66d8fa-422a-4852-a095-c36cc2347fb3",
   "metadata": {
    "collapsed": true,
    "jupyter": {
     "outputs_hidden": true
    },
    "tags": []
   },
   "outputs": [
    {
     "data": {
      "text/plain": [
       "(191, 14)"
      ]
     },
     "execution_count": 435,
     "metadata": {},
     "output_type": "execute_result"
    }
   ],
   "source": [
    "df2 = df.dropna(how='any') #drop any column with null values\n",
    "df.shape"
   ]
  },
  {
   "cell_type": "code",
   "execution_count": null,
   "id": "b04e3323-282b-465d-b2fe-2775c57d29d4",
   "metadata": {},
   "outputs": [],
   "source": [
    "df2['ChipTime_minutes'] = pd.to_timedelta(df2['Chip Time']) #devuelve error de formato hh:mm:ss\n",
    "df2['ChipTime_minutes'] = df2['ChipTime_minutes'].astype('timedelta64[s]') /60\n",
    "df2[['ChipTime_minutes']].info() "
   ]
  },
  {
   "cell_type": "markdown",
   "id": "0c0d7582-d9ab-40a2-bd91-c2c7264e5a8e",
   "metadata": {},
   "source": [
    "### Plotting"
   ]
  },
  {
   "cell_type": "code",
   "execution_count": null,
   "id": "a47e4d99-4f4b-488b-acb2-d953ce331599",
   "metadata": {},
   "outputs": [],
   "source": [
    "plt.bar(df2['Gender'], df2['ChipTime_minutes']) #waiting to fix the last step_pd.to_timedelta64\n",
    "plt.xlabel('Gender')\n",
    "plt.ylabel('ChipTime_Minutes')\n",
    "plt.title(\"Comparision of average minutes run by male and female\")"
   ]
  },
  {
   "cell_type": "markdown",
   "id": "91143145-5da2-4099-a68e-76b7a5f22e82",
   "metadata": {},
   "source": [
    "### Describe the data"
   ]
  },
  {
   "cell_type": "code",
   "execution_count": null,
   "id": "e39ab89d-78f5-4117-bea8-0bc91769a9b2",
   "metadata": {},
   "outputs": [],
   "source": [
    "df2.describe(include=[np.number]) #error no objecto to concatenate"
   ]
  },
  {
   "cell_type": "markdown",
   "id": "cc19e705-9cc3-4303-a124-00002116e729",
   "metadata": {},
   "source": [
    "### Boxplot\n"
   ]
  },
  {
   "cell_type": "code",
   "execution_count": null,
   "id": "b8e3232f-361e-42a3-b430-b2fe0d3b8638",
   "metadata": {},
   "outputs": [],
   "source": [
    "df2.boxplot(column='ChipTime_minutes', by= 'Gender')\n",
    "plt.ylabel('Run Time')"
   ]
  },
  {
   "cell_type": "markdown",
   "id": "7a26f178-6560-4a6b-b2f6-f4ebf61bbe94",
   "metadata": {},
   "source": [
    "### Age vs Chip Time in minutes"
   ]
  },
  {
   "cell_type": "code",
   "execution_count": null,
   "id": "94f3ff2d-0476-4dfc-92a6-a525e89938a0",
   "metadata": {},
   "outputs": [],
   "source": [
    "df2['Age_i'] = round(pd.to_numeric(df2['Age']), errors='coerce'))\n",
    "df2.dropna(how='any', inline = True)\n",
    "\n",
    "plt.scatter(df2['ChipTime_minutes'],df2['Age_i']\n",
    "plt.show()"
   ]
  },
  {
   "cell_type": "code",
   "execution_count": null,
   "id": "415975ce-a3d3-4518-a91a-933e9c14c87e",
   "metadata": {},
   "outputs": [],
   "source": []
  },
  {
   "cell_type": "code",
   "execution_count": null,
   "id": "b7e9c970-8bb4-4342-b8da-513e0065ef56",
   "metadata": {},
   "outputs": [],
   "source": []
  },
  {
   "cell_type": "code",
   "execution_count": null,
   "id": "7f83e144-554b-4e35-ac0d-665f149c6951",
   "metadata": {},
   "outputs": [],
   "source": []
  }
 ],
 "metadata": {
  "kernelspec": {
   "display_name": "Python 3 (ipykernel)",
   "language": "python",
   "name": "python3"
  },
  "language_info": {
   "codemirror_mode": {
    "name": "ipython",
    "version": 3
   },
   "file_extension": ".py",
   "mimetype": "text/x-python",
   "name": "python",
   "nbconvert_exporter": "python",
   "pygments_lexer": "ipython3",
   "version": "3.8.3"
  }
 },
 "nbformat": 4,
 "nbformat_minor": 5
}
