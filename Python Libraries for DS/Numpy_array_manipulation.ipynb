{
 "cells": [
  {
   "cell_type": "markdown",
   "id": "642cb34c",
   "metadata": {},
   "source": [
    "<h1>Array Manipulation</h1>\n",
    " Array Manipulation - Changing shape\n",
    " "
   ]
  },
  {
   "cell_type": "code",
   "execution_count": 7,
   "id": "d5ca9598",
   "metadata": {},
   "outputs": [
    {
     "name": "stdout",
     "output_type": "stream",
     "text": [
      "The original array:\n",
      "[0 1 2 3 4 5 6 7 8]\n",
      "\n"
     ]
    }
   ],
   "source": [
    "import numpy as np\n",
    "\n",
    "a = np.arange(9)\n",
    "print(\"The original array:\")\n",
    "print(a)\n",
    "print()\n",
    "\n"
   ]
  },
  {
   "cell_type": "code",
   "execution_count": 2,
   "id": "4371731b",
   "metadata": {},
   "outputs": [
    {
     "name": "stdout",
     "output_type": "stream",
     "text": [
      "The modified array:\n",
      "[[0 1 2]\n",
      " [3 4 5]\n",
      " [6 7 8]]\n"
     ]
    }
   ],
   "source": [
    "#reshape array\n",
    "\n",
    "b = a.reshape(3,3)\n",
    "print(\"The modified array:\")\n",
    "print(b)"
   ]
  },
  {
   "cell_type": "code",
   "execution_count": 3,
   "id": "db0a18a1",
   "metadata": {},
   "outputs": [
    {
     "name": "stdout",
     "output_type": "stream",
     "text": [
      "[0 1 2 3 4 5 6 7 8]\n"
     ]
    }
   ],
   "source": [
    "#flatten\n",
    "print(b.flatten())"
   ]
  },
  {
   "cell_type": "code",
   "execution_count": 5,
   "id": "208e8e8c",
   "metadata": {},
   "outputs": [
    {
     "data": {
      "text/plain": [
       "array([0, 3, 6, 1, 4, 7, 2, 5, 8])"
      ]
     },
     "execution_count": 5,
     "metadata": {},
     "output_type": "execute_result"
    }
   ],
   "source": [
    "b.flatten(order=\"F\")"
   ]
  },
  {
   "cell_type": "code",
   "execution_count": 7,
   "id": "567640df",
   "metadata": {},
   "outputs": [
    {
     "data": {
      "text/plain": [
       "array([[ 0,  1,  2],\n",
       "       [ 3,  4,  5],\n",
       "       [ 6,  7,  8],\n",
       "       [ 9, 10, 11]])"
      ]
     },
     "execution_count": 7,
     "metadata": {},
     "output_type": "execute_result"
    }
   ],
   "source": [
    "a = np.arange(12).reshape(4,3) #4 filas | 3 columns\n",
    "a"
   ]
  },
  {
   "cell_type": "code",
   "execution_count": 8,
   "id": "40ea09c9",
   "metadata": {},
   "outputs": [
    {
     "data": {
      "text/plain": [
       "array([[ 0,  3,  6,  9],\n",
       "       [ 1,  4,  7, 10],\n",
       "       [ 2,  5,  8, 11]])"
      ]
     },
     "execution_count": 8,
     "metadata": {},
     "output_type": "execute_result"
    }
   ],
   "source": [
    "#transpose\n",
    "np.transpose(a) # 3 filas | 4 columns"
   ]
  },
  {
   "cell_type": "code",
   "execution_count": 9,
   "id": "2ff7f33a",
   "metadata": {},
   "outputs": [
    {
     "data": {
      "text/plain": [
       "array([[0, 1, 2, 3],\n",
       "       [4, 5, 6, 7]])"
      ]
     },
     "execution_count": 9,
     "metadata": {},
     "output_type": "execute_result"
    }
   ],
   "source": [
    "#reshape\n",
    "b = np.arange(8).reshape(2,4) # el numero que se ingresa en el arange () define si es posible hacer la operacion.\n",
    "b"
   ]
  },
  {
   "cell_type": "code",
   "execution_count": 12,
   "id": "a8680758",
   "metadata": {},
   "outputs": [
    {
     "data": {
      "text/plain": [
       "array([[[0, 1],\n",
       "        [2, 3]],\n",
       "\n",
       "       [[4, 5],\n",
       "        [6, 7]]])"
      ]
     },
     "execution_count": 12,
     "metadata": {},
     "output_type": "execute_result"
    }
   ],
   "source": [
    "c = b.reshape(2,2,2)\n",
    "c"
   ]
  },
  {
   "cell_type": "code",
   "execution_count": 23,
   "id": "da89f300",
   "metadata": {},
   "outputs": [
    {
     "data": {
      "text/plain": [
       "array([[[0, 2],\n",
       "        [1, 3]],\n",
       "\n",
       "       [[4, 6],\n",
       "        [5, 7]]])"
      ]
     },
     "execution_count": 23,
     "metadata": {},
     "output_type": "execute_result"
    }
   ],
   "source": [
    "#rollaxis\n",
    "np.rollaxis(c,2,1)"
   ]
  },
  {
   "cell_type": "code",
   "execution_count": 25,
   "id": "aacb603d",
   "metadata": {},
   "outputs": [
    {
     "data": {
      "text/plain": [
       "array([[[0, 2],\n",
       "        [1, 3]],\n",
       "\n",
       "       [[4, 6],\n",
       "        [5, 7]]])"
      ]
     },
     "execution_count": 25,
     "metadata": {},
     "output_type": "execute_result"
    }
   ],
   "source": [
    "#swapaxes \n",
    "np.swapaxes(c,1,2)\n"
   ]
  },
  {
   "cell_type": "markdown",
   "id": "3c796986",
   "metadata": {},
   "source": [
    "<h1>Numpy Aritmetic Operations</h1>"
   ]
  },
  {
   "cell_type": "code",
   "execution_count": 6,
   "id": "87cfc4ea",
   "metadata": {},
   "outputs": [
    {
     "data": {
      "text/plain": [
       "array([[0, 1, 2],\n",
       "       [3, 4, 5],\n",
       "       [6, 7, 8]])"
      ]
     },
     "execution_count": 6,
     "metadata": {},
     "output_type": "execute_result"
    }
   ],
   "source": [
    "a = np.arange(9).reshape(3,3)\n",
    "a"
   ]
  },
  {
   "cell_type": "code",
   "execution_count": 44,
   "id": "b4fe1442",
   "metadata": {},
   "outputs": [
    {
     "data": {
      "text/plain": [
       "array([10, 10, 10])"
      ]
     },
     "execution_count": 44,
     "metadata": {},
     "output_type": "execute_result"
    }
   ],
   "source": [
    "b = np.array([10,10,10])\n",
    "b"
   ]
  },
  {
   "cell_type": "code",
   "execution_count": 45,
   "id": "5d94d2be",
   "metadata": {},
   "outputs": [
    {
     "data": {
      "text/plain": [
       "array([[10, 11, 12],\n",
       "       [13, 14, 15],\n",
       "       [16, 17, 18]])"
      ]
     },
     "execution_count": 45,
     "metadata": {},
     "output_type": "execute_result"
    }
   ],
   "source": [
    "np.add(a,b)"
   ]
  },
  {
   "cell_type": "code",
   "execution_count": 46,
   "id": "1539af5f",
   "metadata": {},
   "outputs": [
    {
     "data": {
      "text/plain": [
       "array([[-10,  -9,  -8],\n",
       "       [ -7,  -6,  -5],\n",
       "       [ -4,  -3,  -2]])"
      ]
     },
     "execution_count": 46,
     "metadata": {},
     "output_type": "execute_result"
    }
   ],
   "source": [
    "np.subtract(a,b)"
   ]
  },
  {
   "cell_type": "code",
   "execution_count": 47,
   "id": "fc65eb0e",
   "metadata": {},
   "outputs": [
    {
     "data": {
      "text/plain": [
       "array([[ 0, 10, 20],\n",
       "       [30, 40, 50],\n",
       "       [60, 70, 80]])"
      ]
     },
     "execution_count": 47,
     "metadata": {},
     "output_type": "execute_result"
    }
   ],
   "source": [
    "np.multiply(a,b)"
   ]
  },
  {
   "cell_type": "code",
   "execution_count": 48,
   "id": "6a615a63",
   "metadata": {},
   "outputs": [
    {
     "data": {
      "text/plain": [
       "array([[0. , 0.1, 0.2],\n",
       "       [0.3, 0.4, 0.5],\n",
       "       [0.6, 0.7, 0.8]])"
      ]
     },
     "execution_count": 48,
     "metadata": {},
     "output_type": "execute_result"
    }
   ],
   "source": [
    "np.divide(a,b)"
   ]
  },
  {
   "cell_type": "markdown",
   "id": "4c9932a1",
   "metadata": {},
   "source": [
    "### Slicing"
   ]
  },
  {
   "cell_type": "code",
   "execution_count": 7,
   "id": "dd25eac9",
   "metadata": {},
   "outputs": [
    {
     "data": {
      "text/plain": [
       "array([ 0,  1,  2,  3,  4,  5,  6,  7,  8,  9, 10, 11, 12, 13, 14, 15, 16,\n",
       "       17, 18, 19])"
      ]
     },
     "execution_count": 7,
     "metadata": {},
     "output_type": "execute_result"
    }
   ],
   "source": [
    "a = np.arange(20)\n",
    "a"
   ]
  },
  {
   "cell_type": "code",
   "execution_count": 8,
   "id": "cffece70",
   "metadata": {},
   "outputs": [
    {
     "data": {
      "text/plain": [
       "array([ 4,  5,  6,  7,  8,  9, 10, 11, 12, 13, 14, 15, 16, 17, 18, 19])"
      ]
     },
     "execution_count": 8,
     "metadata": {},
     "output_type": "execute_result"
    }
   ],
   "source": [
    "#slicing -starting at position 4 \n",
    "a[4:]"
   ]
  },
  {
   "cell_type": "code",
   "execution_count": 9,
   "id": "98726acb",
   "metadata": {},
   "outputs": [
    {
     "data": {
      "text/plain": [
       "array([0, 1, 2, 3])"
      ]
     },
     "execution_count": 9,
     "metadata": {},
     "output_type": "execute_result"
    }
   ],
   "source": [
    "#slicing - hasta 4 position\n",
    "a[:4]"
   ]
  },
  {
   "cell_type": "code",
   "execution_count": 10,
   "id": "0668a499",
   "metadata": {},
   "outputs": [
    {
     "data": {
      "text/plain": [
       "5"
      ]
     },
     "execution_count": 10,
     "metadata": {},
     "output_type": "execute_result"
    }
   ],
   "source": [
    "a[5]"
   ]
  },
  {
   "cell_type": "code",
   "execution_count": 11,
   "id": "6101a121",
   "metadata": {},
   "outputs": [
    {
     "data": {
      "text/plain": [
       "array([2, 4, 6, 8])"
      ]
     },
     "execution_count": 11,
     "metadata": {},
     "output_type": "execute_result"
    }
   ],
   "source": [
    "#slincing starting with 2, then hasta el rango 9 que seria el 8 en la position del df, y el 2 significa ir de 2 en dos hasta llegar al 8\n",
    "s = slice(2,9,2)\n",
    "a[s]"
   ]
  },
  {
   "cell_type": "code",
   "execution_count": 12,
   "id": "23b33ca0",
   "metadata": {},
   "outputs": [
    {
     "data": {
      "text/plain": [
       "array([ 2,  5,  8, 11])"
      ]
     },
     "execution_count": 12,
     "metadata": {},
     "output_type": "execute_result"
    }
   ],
   "source": [
    "s = slice(2,12,3)\n",
    "a[s]"
   ]
  },
  {
   "cell_type": "markdown",
   "id": "4fb106da",
   "metadata": {},
   "source": [
    "### Iterating Over Array"
   ]
  },
  {
   "cell_type": "code",
   "execution_count": 15,
   "id": "07063464",
   "metadata": {},
   "outputs": [
    {
     "data": {
      "text/plain": [
       "array([[ 0,  5, 10],\n",
       "       [15, 20, 25],\n",
       "       [30, 35, 40]])"
      ]
     },
     "execution_count": 15,
     "metadata": {},
     "output_type": "execute_result"
    }
   ],
   "source": [
    "a = np.arange(0,45,5)\n",
    "a = a.reshape(3,3)\n",
    "a"
   ]
  },
  {
   "cell_type": "code",
   "execution_count": 16,
   "id": "df2dbc83",
   "metadata": {},
   "outputs": [
    {
     "name": "stdout",
     "output_type": "stream",
     "text": [
      "0\n",
      "5\n",
      "10\n",
      "15\n",
      "20\n",
      "25\n",
      "30\n",
      "35\n",
      "40\n"
     ]
    }
   ],
   "source": [
    "#proper way when iterating \n",
    "for x in np.nditer(a):\n",
    "    print(x)"
   ]
  },
  {
   "cell_type": "markdown",
   "id": "1d7d7ce3",
   "metadata": {},
   "source": [
    "### Iteration order (c-style and f-style)"
   ]
  },
  {
   "cell_type": "code",
   "execution_count": 17,
   "id": "0714142e",
   "metadata": {},
   "outputs": [
    {
     "name": "stdout",
     "output_type": "stream",
     "text": [
      "[[ 0  5 10]\n",
      " [15 20 25]\n",
      " [30 35 40]]\n",
      "0\n",
      "5\n",
      "10\n",
      "15\n",
      "20\n",
      "25\n",
      "30\n",
      "35\n",
      "40\n",
      "0\n",
      "15\n",
      "30\n",
      "5\n",
      "20\n",
      "35\n",
      "10\n",
      "25\n",
      "40\n"
     ]
    }
   ],
   "source": [
    "print(a)\n",
    "for x in np.nditer(a, order =\"C\"):\n",
    "    print(x)\n",
    "    \n",
    "for x in np.nditer(a, order = \"F\"):\n",
    "    print(x)"
   ]
  },
  {
   "cell_type": "markdown",
   "id": "91622b77",
   "metadata": {},
   "source": [
    "### Joining array (bringen 2gether)"
   ]
  },
  {
   "cell_type": "code",
   "execution_count": 20,
   "id": "9947bb40",
   "metadata": {},
   "outputs": [
    {
     "name": "stdout",
     "output_type": "stream",
     "text": [
      "first array\n",
      "[[1 2]\n",
      " [3 4]]\n",
      "second array\n",
      "[[5 6]\n",
      " [7 8]]\n",
      " \n",
      "\n",
      "Joining the two arrays along axis 0:\n",
      "[[1 2]\n",
      " [3 4]\n",
      " [5 6]\n",
      " [7 8]]\n",
      "\n",
      "\n",
      "Joining the two arrays along axis 1:\n",
      "[[1 2 5 6]\n",
      " [3 4 7 8]]\n"
     ]
    }
   ],
   "source": [
    "a = np.array([[1,2], [3,4]])\n",
    "print(\"first array\")\n",
    "print(a)\n",
    "\n",
    "b =np.array([[5,6], [7,8]])\n",
    "print(\"second array\")\n",
    "print(b)\n",
    "print( \" \\n\")\n",
    "print( \"Joining the two arrays along axis 0:\" )\n",
    "print( np.concatenate((a,b)) )\n",
    "print( \"\\n\" )\n",
    "print( \"Joining the two arrays along axis 1:\" )\n",
    "print( np.concatenate((a,b), axis = 1))"
   ]
  },
  {
   "cell_type": "markdown",
   "id": "b3262c2f",
   "metadata": {},
   "source": [
    "### Splitting an Array"
   ]
  },
  {
   "cell_type": "code",
   "execution_count": 21,
   "id": "b16854f7",
   "metadata": {},
   "outputs": [
    {
     "name": "stdout",
     "output_type": "stream",
     "text": [
      "[0 1 2 3 4 5 6 7 8]\n"
     ]
    },
    {
     "data": {
      "text/plain": [
       "[array([0, 1, 2]), array([3, 4, 5]), array([6, 7, 8])]"
      ]
     },
     "execution_count": 21,
     "metadata": {},
     "output_type": "execute_result"
    }
   ],
   "source": [
    "a = np.arange(9)\n",
    "print(a)\n",
    "np.split(a,3)"
   ]
  },
  {
   "cell_type": "code",
   "execution_count": 22,
   "id": "73894ea5",
   "metadata": {},
   "outputs": [
    {
     "data": {
      "text/plain": [
       "[array([0, 1, 2, 3]), array([4]), array([5, 6, 7, 8])]"
      ]
     },
     "execution_count": 22,
     "metadata": {},
     "output_type": "execute_result"
    }
   ],
   "source": [
    "np.split(a,[4,5])"
   ]
  },
  {
   "cell_type": "code",
   "execution_count": 23,
   "id": "9b8472cb",
   "metadata": {},
   "outputs": [
    {
     "data": {
      "text/plain": [
       "[array([0, 1, 2, 3]), array([4, 5, 6]), array([7, 8])]"
      ]
     },
     "execution_count": 23,
     "metadata": {},
     "output_type": "execute_result"
    }
   ],
   "source": [
    "np.split(a,[4,7])"
   ]
  },
  {
   "cell_type": "markdown",
   "id": "625c488b",
   "metadata": {},
   "source": [
    "### Resizing an Array"
   ]
  },
  {
   "cell_type": "code",
   "execution_count": 27,
   "id": "11a37276",
   "metadata": {},
   "outputs": [
    {
     "name": "stdout",
     "output_type": "stream",
     "text": [
      "[[1 2 3]\n",
      " [4 5 6]]\n",
      "(2, 3)\n",
      "\n",
      "\n",
      "[[1 2]\n",
      " [3 4]\n",
      " [5 6]]\n",
      "(3, 2)\n",
      "\n",
      "\n",
      "[[1 2 3]\n",
      " [4 5 6]\n",
      " [1 2 3]]\n",
      "(3, 3)\n"
     ]
    }
   ],
   "source": [
    "a = np.array([[1,2,3], [4,5,6]])\n",
    "print(a)\n",
    "print(a.shape )\n",
    "print(\"\\n\")\n",
    "b = np.resize(a, (3,2))\n",
    "print(b)\n",
    "print(b.shape)\n",
    "print(\"\\n\")\n",
    "b = np.resize(a, (3,3))\n",
    "print(b)\n",
    "print(b.shape)"
   ]
  },
  {
   "cell_type": "markdown",
   "id": "0a2ac402",
   "metadata": {},
   "source": [
    "### Histogram"
   ]
  },
  {
   "cell_type": "code",
   "execution_count": 4,
   "id": "bb3ceecd",
   "metadata": {},
   "outputs": [],
   "source": [
    "from matplotlib import pyplot as plt \n"
   ]
  },
  {
   "cell_type": "code",
   "execution_count": 33,
   "id": "9fbc7908",
   "metadata": {},
   "outputs": [
    {
     "data": {
      "image/png": "[encoded data removed]",
      "text/plain": [
       "<Figure size 432x288 with 1 Axes>"
      ]
     },
     "metadata": {
      "needs_background": "light"
     },
     "output_type": "display_data"
    }
   ],
   "source": [
    "a = np.array([20,87,4,40,53,84,56,51,11,50,40,15,79,25,27])\n",
    "plt.hist(a, bins = [0,20,40,60,80,100])\n",
    "plt.title(\"Histogram\")\n",
    "plt.show()\n",
    "#de 0-20 revisamos cuantos valores tenemos de la lista \n",
    "#20-40 revisamos cuantos valores tenemos de la lista\n",
    "#40-60 revisamos cuantos valores tenemos de la lista\n",
    "#60-80 revisamos cuantos valores tenemos de la lista\n",
    "#80-100 revisamos cuantos valores tenemos de la lista"
   ]
  },
  {
   "cell_type": "code",
   "execution_count": 8,
   "id": "1b88c768",
   "metadata": {},
   "outputs": [
    {
     "data": {
      "image/png": "[encoded data removed]",
      "text/plain": [
       "<Figure size 432x288 with 1 Axes>"
      ]
     },
     "metadata": {
      "needs_background": "light"
     },
     "output_type": "display_data"
    }
   ],
   "source": [
    "b = np.array([20,87,4,40,53,84,56,51,11,50,40,15,79,25,27])\n",
    "plt.hist(b, bins = [0,10,20,30,40,50,60,70,80,90,100])\n",
    "plt.title(\"Histogram\")\n",
    "plt.show()"
   ]
  },
  {
   "cell_type": "markdown",
   "id": "affe916a",
   "metadata": {},
   "source": [
    "### Other useful functions in Numpy"
   ]
  },
  {
   "cell_type": "code",
   "execution_count": 9,
   "id": "b965d775",
   "metadata": {},
   "outputs": [
    {
     "name": "stdout",
     "output_type": "stream",
     "text": [
      "[1.         1.22222222 1.44444444 1.66666667 1.88888889 2.11111111\n",
      " 2.33333333 2.55555556 2.77777778 3.        ]\n"
     ]
    }
   ],
   "source": [
    "#Linspace function\n",
    "\n",
    "a = np.linspace(1,3,10)\n",
    "print(a)"
   ]
  },
  {
   "cell_type": "code",
   "execution_count": 10,
   "id": "a8af335a",
   "metadata": {},
   "outputs": [
    {
     "name": "stdout",
     "output_type": "stream",
     "text": [
      "[4 6 8]\n"
     ]
    }
   ],
   "source": [
    "#sum and axis\n",
    "\n",
    "a = np.array([(1,2,3), (3,4,5)])\n",
    "print(a.sum(axis=0))"
   ]
  },
  {
   "cell_type": "code",
   "execution_count": 12,
   "id": "529d053d",
   "metadata": {},
   "outputs": [
    {
     "name": "stdout",
     "output_type": "stream",
     "text": [
      "[[1.         1.41421356 1.73205081]\n",
      " [1.73205081 2.         2.23606798]]\n",
      "1.2909944487358056\n"
     ]
    }
   ],
   "source": [
    "#square root and standar deviation\n",
    "\n",
    "a = np.array([(1,2,3), (3,4,5,)])\n",
    "print(np.sqrt(a))\n",
    "print(np.std(a))"
   ]
  },
  {
   "cell_type": "code",
   "execution_count": 13,
   "id": "1f8895af",
   "metadata": {},
   "outputs": [
    {
     "name": "stdout",
     "output_type": "stream",
     "text": [
      "[1 2 3 3 4 5]\n"
     ]
    }
   ],
   "source": [
    "#ravel function\n",
    "\n",
    "x = np.array([(1,2,3), (3,4,5)])\n",
    "print(x.ravel())"
   ]
  },
  {
   "cell_type": "code",
   "execution_count": 17,
   "id": "4d485aec",
   "metadata": {},
   "outputs": [
    {
     "name": "stdout",
     "output_type": "stream",
     "text": [
      "[[0.         1.         1.5849625 ]\n",
      " [1.5849625  2.         2.32192809]]\n"
     ]
    }
   ],
   "source": [
    "a = np.array([(1,2,3), (3,4,5)])\n",
    "print(np.log2(a))"
   ]
  },
  {
   "cell_type": "markdown",
   "id": "07c98864",
   "metadata": {},
   "source": [
    "### Numpy | Practice Example"
   ]
  },
  {
   "cell_type": "code",
   "execution_count": 19,
   "id": "f63b8858",
   "metadata": {},
   "outputs": [
    {
     "name": "stdout",
     "output_type": "stream",
     "text": [
      "[0.  0.1 0.2 0.3 0.4 0.5 0.6 0.7 0.8 0.9 1.  1.1 1.2 1.3 1.4 1.5 1.6 1.7\n",
      " 1.8 1.9 2.  2.1 2.2 2.3 2.4 2.5 2.6 2.7 2.8 2.9 3.  3.1 3.2 3.3 3.4 3.5\n",
      " 3.6 3.7 3.8 3.9 4.  4.1 4.2 4.3 4.4 4.5 4.6 4.7 4.8 4.9 5.  5.1 5.2 5.3\n",
      " 5.4 5.5 5.6 5.7 5.8 5.9 6.  6.1 6.2 6.3 6.4 6.5 6.6 6.7 6.8 6.9 7.  7.1\n",
      " 7.2 7.3 7.4 7.5 7.6 7.7 7.8 7.9 8.  8.1 8.2 8.3 8.4 8.5 8.6 8.7 8.8 8.9\n",
      " 9.  9.1 9.2 9.3 9.4]\n",
      "[ 0.          0.09983342  0.19866933  0.29552021  0.38941834  0.47942554\n",
      "  0.56464247  0.64421769  0.71735609  0.78332691  0.84147098  0.89120736\n",
      "  0.93203909  0.96355819  0.98544973  0.99749499  0.9995736   0.99166481\n",
      "  0.97384763  0.94630009  0.90929743  0.86320937  0.8084964   0.74570521\n",
      "  0.67546318  0.59847214  0.51550137  0.42737988  0.33498815  0.23924933\n",
      "  0.14112001  0.04158066 -0.05837414 -0.15774569 -0.2555411  -0.35078323\n",
      " -0.44252044 -0.52983614 -0.61185789 -0.68776616 -0.7568025  -0.81827711\n",
      " -0.87157577 -0.91616594 -0.95160207 -0.97753012 -0.993691   -0.99992326\n",
      " -0.99616461 -0.98245261 -0.95892427 -0.92581468 -0.88345466 -0.83226744\n",
      " -0.77276449 -0.70554033 -0.63126664 -0.55068554 -0.46460218 -0.37387666\n",
      " -0.2794155  -0.1821625  -0.0830894   0.0168139   0.1165492   0.21511999\n",
      "  0.31154136  0.40484992  0.49411335  0.57843976  0.6569866   0.72896904\n",
      "  0.79366786  0.85043662  0.8987081   0.93799998  0.96791967  0.98816823\n",
      "  0.99854335  0.99894134  0.98935825  0.96988981  0.94073056  0.90217183\n",
      "  0.85459891  0.79848711  0.7343971   0.66296923  0.58491719  0.50102086\n",
      "  0.41211849  0.31909836  0.22288991  0.12445442  0.02477543]\n"
     ]
    }
   ],
   "source": [
    "#Now using numpy and matplotlib, let us try to plot a sin graph\n",
    "import numpy as np\n",
    "import matplotlib.pyplot as plt\n",
    "\n",
    "x = np.arange(0,3*np.pi,0.1)\n",
    "y = np.sin(x)\n",
    "print(x)\n",
    "print(y)"
   ]
  },
  {
   "cell_type": "code",
   "execution_count": 21,
   "id": "05c0c206",
   "metadata": {},
   "outputs": [
    {
     "data": {
      "image/png": "[encoded data removed]",
      "text/plain": [
       "<Figure size 432x288 with 1 Axes>"
      ]
     },
     "metadata": {
      "needs_background": "light"
     },
     "output_type": "display_data"
    }
   ],
   "source": [
    "x = np.arange(0,3*np.pi,0.1)\n",
    "y = np.sin(x)\n",
    "plt.plot(x,y)\n",
    "plt.show()"
   ]
  },
  {
   "cell_type": "markdown",
   "id": "44c7a8ee",
   "metadata": {},
   "source": [
    "### Lets create a 6*6 two-dimensional array, and let 1 and 0 be placed alternatively across the diagonals"
   ]
  },
  {
   "cell_type": "code",
   "execution_count": 25,
   "id": "98cec96a",
   "metadata": {},
   "outputs": [
    {
     "data": {
      "text/plain": [
       "array([[0, 1, 0, 1, 0, 1],\n",
       "       [1, 0, 1, 0, 1, 0],\n",
       "       [0, 1, 0, 1, 0, 1],\n",
       "       [1, 0, 1, 0, 1, 0],\n",
       "       [0, 1, 0, 1, 0, 1],\n",
       "       [1, 0, 1, 0, 1, 0]])"
      ]
     },
     "execution_count": 25,
     "metadata": {},
     "output_type": "execute_result"
    }
   ],
   "source": [
    "z = np.zeros((6,6), dtype = int)\n",
    "z[1::2,::2] = 1\n",
    "z[::2,1::2] = 1\n",
    "z"
   ]
  },
  {
   "cell_type": "markdown",
   "id": "98ef5889",
   "metadata": {},
   "source": [
    "### Find the total number and locations of missing values in the array"
   ]
  },
  {
   "cell_type": "code",
   "execution_count": 30,
   "id": "7f216de5",
   "metadata": {},
   "outputs": [
    {
     "data": {
      "text/plain": [
       "array([[3.81601565e-01, 5.36153010e-01, 5.06166704e-02, 3.08713642e-01,\n",
       "        4.11643690e-01, 8.25204693e-01, 7.01908328e-01,            nan,\n",
       "        5.79585500e-01, 4.56819794e-01],\n",
       "       [8.26937072e-01, 8.97144746e-01, 1.82663842e-01, 1.00433831e-01,\n",
       "        3.88582060e-01, 8.82558162e-02, 3.75035259e-02, 8.47656662e-01,\n",
       "        2.95482107e-01, 1.48025773e-01],\n",
       "       [1.91177196e-02, 8.86172907e-01, 7.87307771e-01, 2.81729713e-01,\n",
       "        8.87726494e-01, 7.60751989e-02, 7.93399472e-01, 2.81100426e-01,\n",
       "        6.33127617e-01, 2.22931476e-01],\n",
       "       [9.92489142e-01, 2.37003139e-04, 6.32680423e-01, 3.17933282e-01,\n",
       "        7.40005669e-01,            nan, 9.90277363e-01,            nan,\n",
       "        7.37526467e-01, 4.42620229e-01],\n",
       "       [3.04699224e-01, 3.00333346e-01, 4.13142715e-01, 9.77067614e-01,\n",
       "        2.60901116e-02, 5.85932756e-01, 9.20585167e-01, 3.59071652e-01,\n",
       "        2.06527622e-02, 1.73021538e-01],\n",
       "       [           nan, 5.86020631e-01, 8.50542524e-01, 1.27538216e-01,\n",
       "        2.51866634e-01, 3.36634491e-01, 8.18258936e-01, 3.32492867e-01,\n",
       "        3.60778852e-01, 4.94614697e-02],\n",
       "       [1.82141051e-01, 6.73117533e-01, 6.76673965e-01, 4.21172768e-01,\n",
       "        9.09933683e-01, 2.03736254e-01, 5.74938373e-01, 5.69760050e-01,\n",
       "        1.73129330e-01, 5.62217394e-01],\n",
       "       [1.01185588e-01,            nan, 2.11966626e-01, 5.24917965e-01,\n",
       "        7.30176351e-01, 7.67720349e-01, 7.32125519e-01, 4.26271271e-01,\n",
       "        5.54615954e-01, 1.78550121e-01],\n",
       "       [2.86506325e-01, 4.10595490e-01, 1.12232484e-01, 8.41299693e-01,\n",
       "        4.02188785e-01, 9.48355259e-01, 9.33014125e-01, 8.03334345e-01,\n",
       "        9.43662191e-01, 6.55661253e-01],\n",
       "       [1.74551007e-01, 9.50513457e-02, 5.51337854e-01, 1.10982502e-01,\n",
       "        1.82156264e-01, 9.54578642e-01, 9.04576401e-01, 1.58293124e-01,\n",
       "        8.23197812e-01, 5.76710253e-01]])"
      ]
     },
     "execution_count": 30,
     "metadata": {},
     "output_type": "execute_result"
    }
   ],
   "source": [
    "#nan = non values en el data frame para localizar \n",
    "z = np.random.rand(10,10)\n",
    "z[np.random.randint(10, size=5), np.random.randint(10, size=5)] = np.nan\n",
    "z # nan son los no values para identificar en la table "
   ]
  },
  {
   "cell_type": "code",
   "execution_count": 36,
   "id": "31d22c57",
   "metadata": {},
   "outputs": [
    {
     "name": "stdout",
     "output_type": "stream",
     "text": [
      "Total number of missing values: \n",
      " 0\n",
      "Indexes of missing values: \n",
      " []\n",
      "(array([], dtype=int64), array([], dtype=int64))\n"
     ]
    },
    {
     "data": {
      "text/plain": [
       "array([[3.81601565e-01, 5.36153010e-01, 5.06166704e-02, 3.08713642e-01,\n",
       "        4.11643690e-01, 8.25204693e-01, 7.01908328e-01, 0.00000000e+00,\n",
       "        5.79585500e-01, 4.56819794e-01],\n",
       "       [8.26937072e-01, 8.97144746e-01, 1.82663842e-01, 1.00433831e-01,\n",
       "        3.88582060e-01, 8.82558162e-02, 3.75035259e-02, 8.47656662e-01,\n",
       "        2.95482107e-01, 1.48025773e-01],\n",
       "       [1.91177196e-02, 8.86172907e-01, 7.87307771e-01, 2.81729713e-01,\n",
       "        8.87726494e-01, 7.60751989e-02, 7.93399472e-01, 2.81100426e-01,\n",
       "        6.33127617e-01, 2.22931476e-01],\n",
       "       [9.92489142e-01, 2.37003139e-04, 6.32680423e-01, 3.17933282e-01,\n",
       "        7.40005669e-01, 0.00000000e+00, 9.90277363e-01, 0.00000000e+00,\n",
       "        7.37526467e-01, 4.42620229e-01],\n",
       "       [3.04699224e-01, 3.00333346e-01, 4.13142715e-01, 9.77067614e-01,\n",
       "        2.60901116e-02, 5.85932756e-01, 9.20585167e-01, 3.59071652e-01,\n",
       "        2.06527622e-02, 1.73021538e-01],\n",
       "       [0.00000000e+00, 5.86020631e-01, 8.50542524e-01, 1.27538216e-01,\n",
       "        2.51866634e-01, 3.36634491e-01, 8.18258936e-01, 3.32492867e-01,\n",
       "        3.60778852e-01, 4.94614697e-02],\n",
       "       [1.82141051e-01, 6.73117533e-01, 6.76673965e-01, 4.21172768e-01,\n",
       "        9.09933683e-01, 2.03736254e-01, 5.74938373e-01, 5.69760050e-01,\n",
       "        1.73129330e-01, 5.62217394e-01],\n",
       "       [1.01185588e-01, 0.00000000e+00, 2.11966626e-01, 5.24917965e-01,\n",
       "        7.30176351e-01, 7.67720349e-01, 7.32125519e-01, 4.26271271e-01,\n",
       "        5.54615954e-01, 1.78550121e-01],\n",
       "       [2.86506325e-01, 4.10595490e-01, 1.12232484e-01, 8.41299693e-01,\n",
       "        4.02188785e-01, 9.48355259e-01, 9.33014125e-01, 8.03334345e-01,\n",
       "        9.43662191e-01, 6.55661253e-01],\n",
       "       [1.74551007e-01, 9.50513457e-02, 5.51337854e-01, 1.10982502e-01,\n",
       "        1.82156264e-01, 9.54578642e-01, 9.04576401e-01, 1.58293124e-01,\n",
       "        8.23197812e-01, 5.76710253e-01]])"
      ]
     },
     "execution_count": 36,
     "metadata": {},
     "output_type": "execute_result"
    }
   ],
   "source": [
    "print(\"Total number of missing values: \\n\", np.isnan(z).sum())\n",
    "print(\"Indexes of missing values: \\n\", np.argwhere(np.isnan(z)))\n",
    "inds = np.where(np.isnan(z))\n",
    "print(inds)\n",
    "z[inds]=0\n",
    "z # los nan values fueron sustituidos por cero, check bitte the table "
   ]
  },
  {
   "cell_type": "code",
   "execution_count": null,
   "id": "6e3397f9",
   "metadata": {},
   "outputs": [],
   "source": []
  },
  {
   "cell_type": "code",
   "execution_count": null,
   "id": "0b7b783c",
   "metadata": {},
   "outputs": [],
   "source": []
  }
 ],
 "metadata": {
  "kernelspec": {
   "display_name": "Python 3 (ipykernel)",
   "language": "python",
   "name": "python3"
  },
  "language_info": {
   "codemirror_mode": {
    "name": "ipython",
    "version": 3
   },
   "file_extension": ".py",
   "mimetype": "text/x-python",
   "name": "python",
   "nbconvert_exporter": "python",
   "pygments_lexer": "ipython3",
   "version": "3.8.3"
  }
 },
 "nbformat": 4,
 "nbformat_minor": 5
}
