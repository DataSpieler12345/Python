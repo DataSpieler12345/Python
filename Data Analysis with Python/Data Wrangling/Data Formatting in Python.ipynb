{
 "cells": [
  {
   "cell_type": "markdown",
   "id": "0b33fd4b",
   "metadata": {},
   "source": [
    "##### Data Formatting in Python\n",
    "\n",
    "* Data are usually collected from different places and stored in different formats.\n",
    "\n",
    "* Bringing data into a common standard of expression allow users to make meaningful comparison. \n",
    "\n",
    "**Non-formatted**:\n",
    "\n",
    "    * confusing\n",
    "    * hard to aggregate\n",
    "    * hard to compare\n",
    "\n",
    "**Formatted**:\n",
    "\n",
    "    * more clear\n",
    "    * easy to aggregate\n",
    "    * easy to compare"
   ]
  },
  {
   "cell_type": "markdown",
   "id": "f26bce26",
   "metadata": {},
   "source": [
    "#### Applying calculations to an entire column\n",
    "\n",
    "* Convert \"mpg\" to \"L/100km\" in Car dataset."
   ]
  },
  {
   "cell_type": "code",
   "execution_count": 2,
   "id": "627ad7c0",
   "metadata": {},
   "outputs": [],
   "source": [
    "city_mpg = [21,21,19]\n",
    "df1 = city_mpg\n",
    "city_L100km = [11.2,11.2,12.4]\n",
    "df2 = city_L100km"
   ]
  },
  {
   "cell_type": "code",
   "execution_count": null,
   "id": "e0699f6c",
   "metadata": {},
   "outputs": [],
   "source": [
    "df[\"city_mpg\"] = 235/df[\"city_L100km\"]\n",
    "\n",
    "df.rename(columns={\"city_mpg\": \"city_L100km\"}, inplace=True)"
   ]
  },
  {
   "cell_type": "markdown",
   "id": "45cc619c",
   "metadata": {},
   "source": [
    "##### Incorrect data Types\n",
    "\n",
    "* Sometimes the wrong data type is assigned to a feature\n",
    "\n",
    "   df[\"price\"].tail(5)\n",
    "    \n",
    "    200 16845\n",
    "    \n",
    "    201 19045\n",
    "    \n",
    "    202 21485\n",
    "    \n",
    "    203 22470\n",
    "    \n",
    "    204 22625\n",
    "    \n",
    "    Name: price, dtype = **object**"
   ]
  },
  {
   "cell_type": "markdown",
   "id": "43327b70",
   "metadata": {},
   "source": [
    "##### Correcting data Types\n"
   ]
  },
  {
   "cell_type": "markdown",
   "id": "49aadbce",
   "metadata": {},
   "source": [
    "**To identify** data types:\n",
    "    \n",
    "    * Use **dataframe.dtypes()** to identify data type.\n",
    "    \n",
    "**To convert** data types:\n",
    "\n",
    "    * Use **dataframe.astype()** to convert data type.\n",
    "    \n",
    "**Example**: convert data type to integer in column \"price\"\n",
    "\n",
    "    df[\"price\"] = df[\"price\"].astype(\"int\")"
   ]
  },
  {
   "cell_type": "code",
   "execution_count": null,
   "id": "c6d4a0c5",
   "metadata": {},
   "outputs": [],
   "source": []
  }
 ],
 "metadata": {
  "kernelspec": {
   "display_name": "Python 3 (ipykernel)",
   "language": "python",
   "name": "python3"
  },
  "language_info": {
   "codemirror_mode": {
    "name": "ipython",
    "version": 3
   },
   "file_extension": ".py",
   "mimetype": "text/x-python",
   "name": "python",
   "nbconvert_exporter": "python",
   "pygments_lexer": "ipython3",
   "version": "3.8.3"
  }
 },
 "nbformat": 4,
 "nbformat_minor": 5
}
