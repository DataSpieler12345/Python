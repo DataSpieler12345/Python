{
 "cells": [
  {
   "cell_type": "markdown",
   "id": "20b6ddc6",
   "metadata": {},
   "source": [
    "##### Categorical Variables"
   ]
  },
  {
   "cell_type": "markdown",
   "id": "504b9ad5",
   "metadata": {},
   "source": [
    "**Problem**:\n",
    "\n",
    "    * Most statistical models cannot take in the objects/strings as input"
   ]
  },
  {
   "cell_type": "markdown",
   "id": "26d69adc",
   "metadata": {},
   "source": [
    "##### Dummy variables in Python pandas"
   ]
  },
  {
   "cell_type": "markdown",
   "id": "114a297d",
   "metadata": {},
   "source": [
    "**use** pandas.get_dummies() method.\n",
    "\n",
    "**Convert** categorical variables to dummy variables (0 or 1)."
   ]
  },
  {
   "cell_type": "markdown",
   "id": "aa565cf3",
   "metadata": {},
   "source": [
    "**pd.get_dummies(df['field'])**"
   ]
  },
  {
   "cell_type": "code",
   "execution_count": null,
   "id": "cb4b40ac",
   "metadata": {},
   "outputs": [],
   "source": []
  }
 ],
 "metadata": {
  "kernelspec": {
   "display_name": "Python 3 (ipykernel)",
   "language": "python",
   "name": "python3"
  },
  "language_info": {
   "codemirror_mode": {
    "name": "ipython",
    "version": 3
   },
   "file_extension": ".py",
   "mimetype": "text/x-python",
   "name": "python",
   "nbconvert_exporter": "python",
   "pygments_lexer": "ipython3",
   "version": "3.8.3"
  }
 },
 "nbformat": 4,
 "nbformat_minor": 5
}
