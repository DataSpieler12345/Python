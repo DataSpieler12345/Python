{
 "cells": [
  {
   "cell_type": "markdown",
   "id": "0ff22059",
   "metadata": {},
   "source": [
    "#### Pre-Processing Data in Python\n",
    "\n",
    "**Data Pre-Processing**: (also known as = Data Cleaning, Data Wrangling) The process of converting or mapping data from the initial \"raw\" form into another format, in order to prepare the data for further analysis.\n",
    "\n",
    "**Identify and handle missing values** = **occurs** whenever a data entry is left empty.\n",
    "\n",
    "**Data Formatting** = Data from different sources may be in various formats, in different units or in various conventions.\n",
    "\n",
    "**Data Noirmalization** = (centering/scaling) Different columns of numerical data may have very different ranges, and direct comparison is often not meaningful. Normalization is a way to bring all data into a similar range, for more useful comparison.\n",
    "\n",
    "**Data Binning** = creates bigger categories from a set of numerical values. Its particularly useful for comparison between groups of data.\n",
    "\n",
    "**Turning Categorical values to numeric variables** = values into numeric variables to make statistical modeling easier.\n",
    "\n",
    "* In Python, we usually perform operations alon columns, each row of the columns represents a sample, i.e.,a different used car in the database"
   ]
  },
  {
   "cell_type": "code",
   "execution_count": null,
   "id": "c7d93a8c",
   "metadata": {},
   "outputs": [],
   "source": []
  }
 ],
 "metadata": {
  "kernelspec": {
   "display_name": "Python 3 (ipykernel)",
   "language": "python",
   "name": "python3"
  },
  "language_info": {
   "codemirror_mode": {
    "name": "ipython",
    "version": 3
   },
   "file_extension": ".py",
   "mimetype": "text/x-python",
   "name": "python",
   "nbconvert_exporter": "python",
   "pygments_lexer": "ipython3",
   "version": "3.8.3"
  }
 },
 "nbformat": 4,
 "nbformat_minor": 5
}
