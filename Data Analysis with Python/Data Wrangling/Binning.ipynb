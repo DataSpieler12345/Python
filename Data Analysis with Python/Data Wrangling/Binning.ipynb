{
 "cells": [
  {
   "cell_type": "markdown",
   "id": "ba0a37dd",
   "metadata": {},
   "source": [
    "#### Binning"
   ]
  },
  {
   "cell_type": "markdown",
   "id": "c12a207f",
   "metadata": {},
   "source": [
    "* **Binning**: Grouping of values into \"bins\" (Binning is when you group values together into bins. For example, you can bin “age” into [0 to 5], [6 to 10], [11 to 15] and so on.\n",
    "\n",
    "    \n",
    "    * Converts numeric into categorical variables\n",
    "    \n",
    "    * Group a set of numerical values into a set of \"bins\"\n",
    "\n",
    "    "
   ]
  },
  {
   "cell_type": "code",
   "execution_count": 26,
   "id": "314259a3",
   "metadata": {},
   "outputs": [],
   "source": [
    "import numpy as np\n",
    "import pandas as pd\n",
    "import matplotlib.pyplot as plt"
   ]
  },
  {
   "cell_type": "code",
   "execution_count": 12,
   "id": "25e1ab49",
   "metadata": {},
   "outputs": [],
   "source": [
    "# a List\n",
    "price = [5000, 10000, 12000, 12000, 30000, 31000, 39000, 44000, 44500]"
   ]
  },
  {
   "cell_type": "code",
   "execution_count": null,
   "id": "e9370ffe",
   "metadata": {},
   "outputs": [],
   "source": [
    "#Transform the list into a pandas DataFrame"
   ]
  },
  {
   "cell_type": "code",
   "execution_count": 13,
   "id": "34147ce5",
   "metadata": {},
   "outputs": [],
   "source": [
    "df = pd.DataFrame({'price': price})"
   ]
  },
  {
   "cell_type": "code",
   "execution_count": 16,
   "id": "e10f035e",
   "metadata": {},
   "outputs": [
    {
     "name": "stdout",
     "output_type": "stream",
     "text": [
      "   price\n",
      "0   5000\n",
      "1  10000\n",
      "2  12000\n",
      "3  12000\n",
      "4  30000\n",
      "5  31000\n",
      "6  39000\n",
      "7  44000\n",
      "8  44500\n"
     ]
    }
   ],
   "source": [
    "# print the DataFrame \n",
    "print(df)"
   ]
  },
  {
   "cell_type": "markdown",
   "id": "db0f315e",
   "metadata": {},
   "source": [
    "In Python we can easily implement the binning: We would like 3 bins of equal binwidth, so\n",
    "we need 4 numbers as dividers that are equal distance apart."
   ]
  },
  {
   "cell_type": "markdown",
   "id": "4869e54f",
   "metadata": {},
   "source": [
    "First we use the numpy function “linspace” to return the array “bins” that contains"
   ]
  },
  {
   "cell_type": "markdown",
   "id": "21d91b07",
   "metadata": {},
   "source": [
    "4 equally spaced numbers over the specified interval of the price."
   ]
  },
  {
   "cell_type": "code",
   "execution_count": 17,
   "id": "89f432de",
   "metadata": {},
   "outputs": [],
   "source": [
    "bins = np.linspace(min(df[\"price\"]), max(df[\"price\"]),4)"
   ]
  },
  {
   "cell_type": "code",
   "execution_count": 18,
   "id": "297d19db",
   "metadata": {},
   "outputs": [],
   "source": [
    "group_names = [\"Low\", \"Medium\", \"High\"]"
   ]
  },
  {
   "cell_type": "code",
   "execution_count": 19,
   "id": "4aecd71c",
   "metadata": {},
   "outputs": [],
   "source": [
    "df[\"price-binned\"] =pd.cut(df[\"price\"], bins, labels=group_names, include_lowest=True)"
   ]
  },
  {
   "cell_type": "code",
   "execution_count": 20,
   "id": "e3ee06e8",
   "metadata": {},
   "outputs": [
    {
     "data": {
      "text/html": [
       "<div>\n",
       "<style scoped>\n",
       "    .dataframe tbody tr th:only-of-type {\n",
       "        vertical-align: middle;\n",
       "    }\n",
       "\n",
       "    .dataframe tbody tr th {\n",
       "        vertical-align: top;\n",
       "    }\n",
       "\n",
       "    .dataframe thead th {\n",
       "        text-align: right;\n",
       "    }\n",
       "</style>\n",
       "<table border=\"1\" class=\"dataframe\">\n",
       "  <thead>\n",
       "    <tr style=\"text-align: right;\">\n",
       "      <th></th>\n",
       "      <th>price</th>\n",
       "      <th>price-binned</th>\n",
       "    </tr>\n",
       "  </thead>\n",
       "  <tbody>\n",
       "    <tr>\n",
       "      <th>0</th>\n",
       "      <td>5000</td>\n",
       "      <td>Low</td>\n",
       "    </tr>\n",
       "    <tr>\n",
       "      <th>1</th>\n",
       "      <td>10000</td>\n",
       "      <td>Low</td>\n",
       "    </tr>\n",
       "    <tr>\n",
       "      <th>2</th>\n",
       "      <td>12000</td>\n",
       "      <td>Low</td>\n",
       "    </tr>\n",
       "    <tr>\n",
       "      <th>3</th>\n",
       "      <td>12000</td>\n",
       "      <td>Low</td>\n",
       "    </tr>\n",
       "    <tr>\n",
       "      <th>4</th>\n",
       "      <td>30000</td>\n",
       "      <td>Medium</td>\n",
       "    </tr>\n",
       "    <tr>\n",
       "      <th>5</th>\n",
       "      <td>31000</td>\n",
       "      <td>Medium</td>\n",
       "    </tr>\n",
       "    <tr>\n",
       "      <th>6</th>\n",
       "      <td>39000</td>\n",
       "      <td>High</td>\n",
       "    </tr>\n",
       "    <tr>\n",
       "      <th>7</th>\n",
       "      <td>44000</td>\n",
       "      <td>High</td>\n",
       "    </tr>\n",
       "    <tr>\n",
       "      <th>8</th>\n",
       "      <td>44500</td>\n",
       "      <td>High</td>\n",
       "    </tr>\n",
       "  </tbody>\n",
       "</table>\n",
       "</div>"
      ],
      "text/plain": [
       "   price price-binned\n",
       "0   5000          Low\n",
       "1  10000          Low\n",
       "2  12000          Low\n",
       "3  12000          Low\n",
       "4  30000       Medium\n",
       "5  31000       Medium\n",
       "6  39000         High\n",
       "7  44000         High\n",
       "8  44500         High"
      ]
     },
     "execution_count": 20,
     "metadata": {},
     "output_type": "execute_result"
    }
   ],
   "source": [
    "df"
   ]
  },
  {
   "cell_type": "code",
   "execution_count": 21,
   "id": "5d6798c4",
   "metadata": {},
   "outputs": [
    {
     "data": {
      "text/plain": [
       "pandas.core.frame.DataFrame"
      ]
     },
     "execution_count": 21,
     "metadata": {},
     "output_type": "execute_result"
    }
   ],
   "source": [
    "type(df)"
   ]
  },
  {
   "cell_type": "markdown",
   "id": "ac1361ab",
   "metadata": {},
   "source": [
    "**Visualizing binned data**"
   ]
  },
  {
   "cell_type": "code",
   "execution_count": 27,
   "id": "422cee1e",
   "metadata": {},
   "outputs": [
    {
     "data": {
      "text/plain": [
       "(array([4., 0., 0., 2., 3.]),\n",
       " array([ 5000., 12900., 20800., 28700., 36600., 44500.]),\n",
       " <BarContainer object of 5 artists>)"
      ]
     },
     "execution_count": 27,
     "metadata": {},
     "output_type": "execute_result"
    },
    {
     "data": {
      "image/png": "[encoded data removed]",
      "text/plain": [
       "<Figure size 432x288 with 1 Axes>"
      ]
     },
     "metadata": {
      "needs_background": "light"
     },
     "output_type": "display_data"
    }
   ],
   "source": [
    "# plot the histogram\n",
    "plt.hist(df['price'], bins=5)"
   ]
  },
  {
   "cell_type": "code",
   "execution_count": 28,
   "id": "c0058e53",
   "metadata": {},
   "outputs": [
    {
     "data": {
      "text/plain": [
       "Text(0.5, 1.0, 'Histogram of Car Prices')"
      ]
     },
     "execution_count": 28,
     "metadata": {},
     "output_type": "execute_result"
    },
    {
     "data": {
      "image/png": "[encoded data removed]",
      "text/plain": [
       "<Figure size 432x288 with 1 Axes>"
      ]
     },
     "metadata": {
      "needs_background": "light"
     },
     "output_type": "display_data"
    }
   ],
   "source": [
    "# add labels and title\n",
    "plt.xlabel('Price')\n",
    "plt.ylabel('Frequency')\n",
    "plt.title('Histogram of Car Prices')"
   ]
  },
  {
   "cell_type": "code",
   "execution_count": 31,
   "id": "4f8aefd1",
   "metadata": {},
   "outputs": [],
   "source": [
    "#show the plot\n",
    "plt.show()"
   ]
  },
  {
   "cell_type": "code",
   "execution_count": null,
   "id": "4f90b051",
   "metadata": {},
   "outputs": [],
   "source": []
  }
 ],
 "metadata": {
  "kernelspec": {
   "display_name": "Python 3 (ipykernel)",
   "language": "python",
   "name": "python3"
  },
  "language_info": {
   "codemirror_mode": {
    "name": "ipython",
    "version": 3
   },
   "file_extension": ".py",
   "mimetype": "text/x-python",
   "name": "python",
   "nbconvert_exporter": "python",
   "pygments_lexer": "ipython3",
   "version": "3.8.3"
  }
 },
 "nbformat": 4,
 "nbformat_minor": 5
}
