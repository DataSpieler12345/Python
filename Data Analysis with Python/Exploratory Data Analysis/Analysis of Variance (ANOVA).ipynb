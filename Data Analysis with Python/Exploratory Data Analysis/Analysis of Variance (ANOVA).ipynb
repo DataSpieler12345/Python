{
 "cells": [
  {
   "cell_type": "markdown",
   "id": "0a2b1277",
   "metadata": {},
   "source": [
    "# Analysis of Variance (ANOVA)\n",
    "\n",
    "* Statistical comparison of groups\n",
    "\n",
    "* Example: average price of different vehicle makes\n"
   ]
  },
  {
   "cell_type": "markdown",
   "id": "bfd58203",
   "metadata": {},
   "source": [
    "**AN**alysis **O**f **Va**riance (ANOVA)\n",
    "\n",
    "To analyze categorical variables such as the \"make\" variable, we can use a method such as the ANOVA method.\n",
    "\n",
    "**ANOVA** is a statistical test that stands for \"Analysis of Variance\".\n",
    "**ANOVA** can be used to find the correlation between different groups of a categorical\n",
    "variable.\n",
    "\n",
    "* Why do we perform ANOVA?\n",
    "\n",
    "\t*Finding correlation between different groups of a categorical variable.\n",
    "    \n",
    "    *What we obtain from ANOVA?\n",
    "    \n",
    "According to the car dataset, we can use ANOVA to see if there is any difference in mean price for the different car makes such as Subaru and Honda. The ANOVA test returns two values: the **F-test**(variation between sample group means divided by variation within sample group) score and the **p-value** (confidence degree)."
   ]
  },
  {
   "cell_type": "code",
   "execution_count": null,
   "id": "d1d3be54",
   "metadata": {},
   "outputs": [],
   "source": []
  }
 ],
 "metadata": {
  "kernelspec": {
   "display_name": "Python 3 (ipykernel)",
   "language": "python",
   "name": "python3"
  },
  "language_info": {
   "codemirror_mode": {
    "name": "ipython",
    "version": 3
   },
   "file_extension": ".py",
   "mimetype": "text/x-python",
   "name": "python",
   "nbconvert_exporter": "python",
   "pygments_lexer": "ipython3",
   "version": "3.8.16"
  }
 },
 "nbformat": 4,
 "nbformat_minor": 5
}
