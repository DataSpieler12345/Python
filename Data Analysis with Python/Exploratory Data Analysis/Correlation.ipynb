{
 "cells": [
  {
   "cell_type": "markdown",
   "id": "ff1d4e59",
   "metadata": {},
   "source": [
    "# Correlation"
   ]
  },
  {
   "cell_type": "markdown",
   "id": "b0c4abda",
   "metadata": {},
   "source": [
    "* What is Correlation?\n",
    "\t* Measures to what extend different variables are interdependent.\n",
    "    \n",
    "* For example:\n",
    "\t* Lung cancer = Smoking\n",
    "    * Rain = Umbrella\n",
    "\n",
    "* Correlation doesnt imply causation.\n",
    "\n"
   ]
  },
  {
   "cell_type": "markdown",
   "id": "a17f6c4b",
   "metadata": {},
   "source": [
    "# Pearson Correlation\n"
   ]
  },
  {
   "cell_type": "markdown",
   "id": "bd0b8406",
   "metadata": {},
   "source": [
    "The Pearson correlation method, will give you two values, the Correlation coefficient\n",
    "and the p-value.\n",
    "\n",
    "* Measure the strength of the correlation betwen two features.\n",
    "\t* Correlation coefficient\n",
    "    * P - value\n",
    "    \n",
    "    "
   ]
  },
  {
   "cell_type": "markdown",
   "id": "a1e8adf8",
   "metadata": {},
   "source": [
    "####  how do we interpret this values?"
   ]
  },
  {
   "cell_type": "markdown",
   "id": "94be8a78",
   "metadata": {},
   "source": [
    "**Correletion** coefficiente\n",
    "\n",
    "\t* Close to +1: Large Positive relationship\n",
    "    * Close to 0: No Relationship\n",
    "    * Close to -1: Large Negative relationship\n",
    "    "
   ]
  },
  {
   "cell_type": "markdown",
   "id": "0271a0fe",
   "metadata": {},
   "source": [
    "**P-value**"
   ]
  },
  {
   "cell_type": "markdown",
   "id": "86529b7b",
   "metadata": {},
   "source": [
    "P-value <0.001 **Strong** certainty in the result\n",
    "\n",
    "P-value <0.05  **Moderate** certainty in the result\n",
    "\n",
    "P-value <0.01  **Weak** certainty in the result\n",
    "\n",
    "P-value >0.01  **No** certainty in the result"
   ]
  },
  {
   "cell_type": "markdown",
   "id": "1f74fb25",
   "metadata": {},
   "source": [
    "**Strong Correlation** \n",
    "\n",
    "\t*Correlation coefficiente close to 1 or -1\n",
    "    *P-value les thann 0.001"
   ]
  },
  {
   "cell_type": "code",
   "execution_count": null,
   "id": "5ebaae2b",
   "metadata": {},
   "outputs": [],
   "source": []
  }
 ],
 "metadata": {
  "kernelspec": {
   "display_name": "Python 3 (ipykernel)",
   "language": "python",
   "name": "python3"
  },
  "language_info": {
   "codemirror_mode": {
    "name": "ipython",
    "version": 3
   },
   "file_extension": ".py",
   "mimetype": "text/x-python",
   "name": "python",
   "nbconvert_exporter": "python",
   "pygments_lexer": "ipython3",
   "version": "3.8.16"
  }
 },
 "nbformat": 4,
 "nbformat_minor": 5
}
