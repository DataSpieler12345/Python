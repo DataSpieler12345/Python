{
 "cells": [
  {
   "cell_type": "markdown",
   "id": "d9738308",
   "metadata": {},
   "source": [
    "##### Python Packages for Data Science"
   ]
  },
  {
   "cell_type": "markdown",
   "id": "73feebfe",
   "metadata": {},
   "source": [
    "##### Scientifics Computing:"
   ]
  },
  {
   "cell_type": "markdown",
   "id": "e916a9d1",
   "metadata": {},
   "source": [
    "**Pandas** effective data manipulation and analysis. It provide fast access to structured data. The primary instrument of Pandas is a two-dimensional table consisting of column and row labels, which, are called a Data Frame."
   ]
  },
  {
   "cell_type": "markdown",
   "id": "31fae486",
   "metadata": {},
   "source": [
    "**Numpy** uses arrays for its inputs and outputs. It can be extended to objects for matrices, and with minor coding changes, developers can perform fast array processing. "
   ]
  },
  {
   "cell_type": "markdown",
   "id": "6be08ed2",
   "metadata": {},
   "source": [
    "**ScyPy** includes functions for some advanced math problems."
   ]
  },
  {
   "cell_type": "markdown",
   "id": "76f25f23",
   "metadata": {},
   "source": [
    "###### Visualization Libraries"
   ]
  },
  {
   "cell_type": "markdown",
   "id": "1b214d84",
   "metadata": {},
   "source": [
    "**Matplotlib** (plots & graphs, most popular) package is the most well-known library for data visualization. Its great for making graphs and plots. The graphs are also highly customizable."
   ]
  },
  {
   "cell_type": "markdown",
   "id": "befca13b",
   "metadata": {},
   "source": [
    "**Seaborn** is another high-level visualization library. Its based on **Matplotlib**. Its very easy to generate various plots such as heat maps, time series and violin plots."
   ]
  },
  {
   "cell_type": "markdown",
   "id": "61ffb32b",
   "metadata": {},
   "source": [
    "##### Algorithmic Libraries in Python for Data Science"
   ]
  },
  {
   "cell_type": "markdown",
   "id": "cce1248c",
   "metadata": {},
   "source": [
    "**Scikit-learn** (Machine Learning: regression, classification,...)  Library contains tools for statistical modeling, including regression, classification, clustering and so on. This library is built on **NumPy**, **SciPy** and *Matplotlib**."
   ]
  },
  {
   "cell_type": "markdown",
   "id": "6f285b33",
   "metadata": {},
   "source": [
    "**Statsmodels** (Explore data, estimate statistical models, and perform statistical tests.) is also a Python module that allows users to explore data, estimate statistical models, and perform statistical tests."
   ]
  },
  {
   "cell_type": "code",
   "execution_count": null,
   "id": "60543f3b",
   "metadata": {},
   "outputs": [],
   "source": []
  }
 ],
 "metadata": {
  "kernelspec": {
   "display_name": "Python 3 (ipykernel)",
   "language": "python",
   "name": "python3"
  },
  "language_info": {
   "codemirror_mode": {
    "name": "ipython",
    "version": 3
   },
   "file_extension": ".py",
   "mimetype": "text/x-python",
   "name": "python",
   "nbconvert_exporter": "python",
   "pygments_lexer": "ipython3",
   "version": "3.8.3"
  }
 },
 "nbformat": 4,
 "nbformat_minor": 5
}
