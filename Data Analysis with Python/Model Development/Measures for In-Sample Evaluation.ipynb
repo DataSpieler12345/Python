{
 "cells": [
  {
   "cell_type": "markdown",
   "id": "8ef0c018",
   "metadata": {},
   "source": [
    "# Measures for In-Sample Evaluation\n",
    "\n",
    "* we want to numerically evaluate our models.\n",
    "\n",
    "* These measures are a way to numerically determine how good the model fits on our data.\n",
    "\n",
    "* Two important measures that we often use to determine the fit of a model are: Mean Square\n",
    "  Error (MSE), and R-squared.\n",
    "  \n",
    "* To measure the MSE, we find the difference between the actual value y and the predicted\n",
    "  value yhat then square it.\n",
    "  \n",
    "* To find the MSE in Python, we can import the “mean_Squared_error()” from “scikit-learn.metrics”. \n",
    "\n",
    "* The “mean_Squared_error()” function gets two inputs: the actual value of target variable\n",
    "  and the predicted value of target variable.\n",
    "  \n",
    "######  R-squared is also called the coefficient of determination. \n",
    " \n",
    " * It’s a measure to determine how close the data is to the fitted regression line.   "
   ]
  },
  {
   "cell_type": "markdown",
   "id": "46b38b73",
   "metadata": {},
   "source": [
    "##### So how close is our actual data to our estimated model?"
   ]
  },
  {
   "cell_type": "code",
   "execution_count": null,
   "id": "67c9fc57",
   "metadata": {},
   "outputs": [],
   "source": []
  }
 ],
 "metadata": {
  "kernelspec": {
   "display_name": "Python 3 (ipykernel)",
   "language": "python",
   "name": "python3"
  },
  "language_info": {
   "codemirror_mode": {
    "name": "ipython",
    "version": 3
   },
   "file_extension": ".py",
   "mimetype": "text/x-python",
   "name": "python",
   "nbconvert_exporter": "python",
   "pygments_lexer": "ipython3",
   "version": "3.8.3"
  }
 },
 "nbformat": 4,
 "nbformat_minor": 5
}
