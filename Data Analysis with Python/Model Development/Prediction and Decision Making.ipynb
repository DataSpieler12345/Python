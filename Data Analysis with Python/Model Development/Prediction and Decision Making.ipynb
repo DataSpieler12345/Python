{
 "cells": [
  {
   "cell_type": "markdown",
   "id": "819e3a85",
   "metadata": {},
   "source": [
    "# Prediction and Decision Making"
   ]
  },
  {
   "cell_type": "markdown",
   "id": "47f5b0e1",
   "metadata": {},
   "source": [
    "##### How can we determine if our model is correct?\n",
    "\n",
    "1. The first thing you should do is make sure your model results make sense. \n",
    "\n",
    "2. You should always use Visualization, Numerical measures for evaluation, and Comparing between\n",
    "   different models.\n",
    "   \n",
    "3. Numerical measures for evaluation.\n",
    "\n",
    "4. Comparing between with diff models."
   ]
  },
  {
   "cell_type": "markdown",
   "id": "ef7febd6",
   "metadata": {},
   "source": [
    "# Comparing MLR and SLR\n",
    "\n",
    "1. Is a lower MSE always implying a better fit?\n",
    "\n",
    "    * Not necessarily\n",
    "    \n",
    "    \n",
    "2. MSE for an MLR model will be smaller than the MSE for an SLR model, since the errors of the data will decrease when more   variables are included in the model.   \n",
    "\n",
    "\n",
    "3. Polynomial regression will also have a smaller MSE then regular regression.\n",
    "\n",
    "\n",
    "4. A similar inverse relationship holds for R^2.\n"
   ]
  },
  {
   "cell_type": "code",
   "execution_count": null,
   "id": "484cd34e",
   "metadata": {},
   "outputs": [],
   "source": []
  }
 ],
 "metadata": {
  "kernelspec": {
   "display_name": "Python 3 (ipykernel)",
   "language": "python",
   "name": "python3"
  },
  "language_info": {
   "codemirror_mode": {
    "name": "ipython",
    "version": 3
   },
   "file_extension": ".py",
   "mimetype": "text/x-python",
   "name": "python",
   "nbconvert_exporter": "python",
   "pygments_lexer": "ipython3",
   "version": "3.8.3"
  }
 },
 "nbformat": 4,
 "nbformat_minor": 5
}
