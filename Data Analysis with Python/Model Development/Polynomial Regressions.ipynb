{
 "cells": [
  {
   "cell_type": "markdown",
   "id": "d3f9a10a",
   "metadata": {},
   "source": [
    "# Polynomial Regressions\n",
    "\n",
    "* Polynomial regression is a special case of the general linear regression.\n",
    "\n",
    "* This method is beneficial for describing curvilinear relationships.\n",
    "\n",
    "    **Curvilinear relationships**: \n",
    "    \n",
    "    By squaring or setting higher-order terms of the predictor variables.\n",
    "\n",
    "**What is a curvilinear relationship?**\n",
    "\n",
    "t’s what you get by squaring or setting higher-order terms of the predictor variables\n",
    "in the model, transforming the data.\n",
    "\n",
    "\n",
    "**quadratic model**\n",
    "\n",
    "The model can be quadratic, which means that the predictor variable in the model is squared.\n",
    "\n",
    "We use a bracket to indicate it is an exponent.\n",
    "\n"
   ]
  },
  {
   "cell_type": "markdown",
   "id": "812d4e81",
   "metadata": {},
   "source": [
    "# Pipelines\n",
    "\n",
    "* There are many steps to getting a prediction, for example, Normalization, Polynomial transform, and Linear regression.\n",
    "  We simplify the process using a pipeline.\n",
    "\n",
    "* Pipelines sequentially perform a series of transformation.\n",
    "\n"
   ]
  },
  {
   "cell_type": "code",
   "execution_count": null,
   "id": "40c82823",
   "metadata": {},
   "outputs": [],
   "source": [
    "# Resume"
   ]
  }
 ],
 "metadata": {
  "kernelspec": {
   "display_name": "Python 3 (ipykernel)",
   "language": "python",
   "name": "python3"
  },
  "language_info": {
   "codemirror_mode": {
    "name": "ipython",
    "version": 3
   },
   "file_extension": ".py",
   "mimetype": "text/x-python",
   "name": "python",
   "nbconvert_exporter": "python",
   "pygments_lexer": "ipython3",
   "version": "3.8.3"
  }
 },
 "nbformat": 4,
 "nbformat_minor": 5
}
