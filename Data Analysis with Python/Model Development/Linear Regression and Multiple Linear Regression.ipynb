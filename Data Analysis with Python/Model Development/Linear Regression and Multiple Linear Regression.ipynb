{
 "cells": [
  {
   "cell_type": "markdown",
   "id": "fa530eae",
   "metadata": {},
   "source": [
    "#### Simple and Multiple Linear Regression\n",
    "\n",
    "* Simple Linear Regression (or SLR) is: A method to help us understand the relationship between\n",
    "  two variables:\n",
    "              1. The predictor (independent) variable -x, and \n",
    "              2. the target (dependent) variable -y.\n",
    "\n",
    "\n",
    "* will refer to one independent variable to make a prediction\n",
    "\n",
    "\n",
    "* Multiple Linear Regression will refer to multiple independent variables to make a prediction\n"
   ]
  },
  {
   "cell_type": "markdown",
   "id": "d510fd6c",
   "metadata": {},
   "source": [
    "##### Fitting a simple Linear Model Estimator\n",
    "\n",
    "* X: PRedictor variable \n",
    "* Y: Target variable \n",
    "\n",
    "1. Import linear_model from scikit-learn\n",
    "\n",
    "    * from sklearn.linear_model import LineaRegression\n",
    "\n",
    "\n",
    "2. Create a Linear Regression Object using the constructor:\n",
    "\n",
    "    *lm =LinearRegression()"
   ]
  },
  {
   "cell_type": "markdown",
   "id": "f0223a60",
   "metadata": {},
   "source": [
    "### Fitting a Simple Linear Model\n",
    "\n",
    "* We define the predictor variable and target variable\n",
    "    \n",
    "    * X = df[['highway-mpg']]\n",
    "    * Y = df['price']\n",
    "    \n",
    "    \n",
    "* The use lm.fit(X,Y) to fit the model, i.e fine the parameters b0 and b1\n",
    "    \n",
    "    * ln.fit(X, Y)\n",
    "    \n",
    "    \n",
    "* We can obtain a prediction\n",
    "\n",
    "    * Yhat =lm.predict(X)"
   ]
  },
  {
   "cell_type": "markdown",
   "id": "2cd6a3b7",
   "metadata": {},
   "source": [
    "##### SLR - Estimated Linear Model\n",
    "\n",
    "* We can view the intercept (b0): lm.intercept_38423.305858\n",
    "\n",
    "* We can also view the slope (b1): lm.coef_-821.73337832\n",
    "\n",
    "* The Relationshipt between Price and Highway MPG is given by:\n",
    "    \n",
    "    **Price**= 384423.31 - 821.73 * Highway-mpg"
   ]
  },
  {
   "cell_type": "markdown",
   "id": "87a03f54",
   "metadata": {},
   "source": [
    "##### Multiple Linear Regression (MLR)\n",
    "\n",
    "This method is used to explain the relationship between:\n",
    "\n",
    "    * One continuous target (Y) variable \n",
    "    \n",
    "    * Two or more predictor (X) variables"
   ]
  },
  {
   "cell_type": "markdown",
   "id": "7777ce0a",
   "metadata": {},
   "source": [
    "##### Fitting a Multiple Linear Model Estimator\n",
    "\n",
    "1. We can extract the for 4 predictor variables and stores  them in the variable Z\n",
    "    \n",
    "    * Z = df [['horsepower', 'curb-weight', 'engine-size', 'highway-mpg']]\n",
    "    \n",
    "\n",
    "2. Then train the model as before:\n",
    "\n",
    "    * lm.fit (Z, df['price'])\n",
    "    \n",
    "    \n",
    "3. We can also obtain a prediction\n",
    "Yhat=lm.predict(X)"
   ]
  },
  {
   "cell_type": "markdown",
   "id": "7595888c",
   "metadata": {},
   "source": [
    "##### MLR - Estimated Linear Model\n",
    "\n",
    "1. Find the intercept (b0) = lm.intercept_-15678.742628061467\n",
    "\n",
    "\n",
    "2. Find the coefficients (b1, b2, b3, b4)= lm.coef_  array([52.65851272,4.69878948,81.95906216,33.58258185])\n",
    "\n",
    "\n",
    "**The estimated Linear Model**:\n",
    "\n",
    "    * Price = 1568.74 + (52.66) * horsepower + (4.70) * curb-weight + (81.96) * engine-size + (33.58) * highway-mpg\n"
   ]
  },
  {
   "cell_type": "code",
   "execution_count": null,
   "id": "90544a66",
   "metadata": {},
   "outputs": [],
   "source": []
  }
 ],
 "metadata": {
  "kernelspec": {
   "display_name": "Python 3 (ipykernel)",
   "language": "python",
   "name": "python3"
  },
  "language_info": {
   "codemirror_mode": {
    "name": "ipython",
    "version": 3
   },
   "file_extension": ".py",
   "mimetype": "text/x-python",
   "name": "python",
   "nbconvert_exporter": "python",
   "pygments_lexer": "ipython3",
   "version": "3.8.3"
  }
 },
 "nbformat": 4,
 "nbformat_minor": 5
}
