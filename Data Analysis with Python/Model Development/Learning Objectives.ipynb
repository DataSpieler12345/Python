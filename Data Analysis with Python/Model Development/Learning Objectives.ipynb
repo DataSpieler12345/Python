{
 "cells": [
  {
   "cell_type": "markdown",
   "id": "151f9dbd",
   "metadata": {},
   "source": [
    "#### Learning Objectives\n",
    "\n",
    "In this module you will learn about:\n",
    "\n",
    "1. Simple and Multiple Linear Regression\n",
    "2. Model Evaluation using Visualization\n",
    "3. Polynomial Regresion and Pipelines\n",
    "4. R-square and MSE for In-Sample Evaluation\n",
    "5. Prediction and Decision Making\n",
    "\n",
    "**Question**\n",
    "\n",
    "    *How can you determine a fair value for a used car?"
   ]
  },
  {
   "cell_type": "markdown",
   "id": "87e11f03",
   "metadata": {},
   "source": [
    "#### Model Development\n",
    "\n",
    "* A model can be thought of as amthematical equation used to predict a value given one or more other values.\n",
    "\n",
    "* Usually the more relevant data you have the more accurate your model is"
   ]
  },
  {
   "cell_type": "markdown",
   "id": "4c735795",
   "metadata": {},
   "source": [
    "##### To understand why more data is important consider the following situation:\n",
    "\n",
    "1. You have two almost identical cars\n",
    "2. Pink cars sell for significantly less\n",
    "\n"
   ]
  },
  {
   "cell_type": "markdown",
   "id": "9747874f",
   "metadata": {},
   "source": [
    "##### In addition to getting more data you can try different types of models\n",
    "\n",
    "1. Simple Linear Regression\n",
    "2. Multple Linear Regression\n",
    "3. Polynomial Regression"
   ]
  },
  {
   "cell_type": "code",
   "execution_count": null,
   "id": "3f7c0fb8",
   "metadata": {},
   "outputs": [],
   "source": []
  }
 ],
 "metadata": {
  "kernelspec": {
   "display_name": "Python 3 (ipykernel)",
   "language": "python",
   "name": "python3"
  },
  "language_info": {
   "codemirror_mode": {
    "name": "ipython",
    "version": 3
   },
   "file_extension": ".py",
   "mimetype": "text/x-python",
   "name": "python",
   "nbconvert_exporter": "python",
   "pygments_lexer": "ipython3",
   "version": "3.8.3"
  }
 },
 "nbformat": 4,
 "nbformat_minor": 5
}
