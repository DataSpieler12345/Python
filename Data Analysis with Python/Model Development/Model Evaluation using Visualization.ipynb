{
 "cells": [
  {
   "cell_type": "markdown",
   "id": "a84e964f",
   "metadata": {},
   "source": [
    "# Model Evaluation using Visualization"
   ]
  },
  {
   "cell_type": "markdown",
   "id": "f5ba846f",
   "metadata": {},
   "source": [
    "**Regression Plot**\n",
    "\n",
    "Why use regression plot?\n",
    "\n",
    "    * it gives us a good estimate of:\n",
    "        \n",
    "        1. The relationship between two variables\n",
    "        \n",
    "        2. The strength of the correlation\n",
    "        \n",
    "        3. The direction of the relationship (positive or negative)"
   ]
  },
  {
   "cell_type": "markdown",
   "id": "5805bcc5",
   "metadata": {},
   "source": [
    "Regression Plot shows us a combination of: \n",
    "\n",
    "    * The scatterplot: where each point represents a different y \n",
    "    \n",
    "    * The fitted linear regression line (y)"
   ]
  },
  {
   "cell_type": "markdown",
   "id": "79029268",
   "metadata": {},
   "source": [
    "##### There are several ways to plot a regression plot; a simple way is to use \"regplot\" from\n",
    "      the seaborn library.\n",
    "      \n",
    "import **seaborn** as sns\n",
    "\n",
    "###### dependen variable (X)\n",
    "###### independen variable (Y)\n",
    "sns.regplot(x=\"highway-mpg\", y=\"price\", data=df) \n",
    "plt.ylim(0,)"
   ]
  },
  {
   "cell_type": "code",
   "execution_count": null,
   "id": "61f13f74",
   "metadata": {},
   "outputs": [],
   "source": []
  }
 ],
 "metadata": {
  "kernelspec": {
   "display_name": "Python 3 (ipykernel)",
   "language": "python",
   "name": "python3"
  },
  "language_info": {
   "codemirror_mode": {
    "name": "ipython",
    "version": 3
   },
   "file_extension": ".py",
   "mimetype": "text/x-python",
   "name": "python",
   "nbconvert_exporter": "python",
   "pygments_lexer": "ipython3",
   "version": "3.8.3"
  }
 },
 "nbformat": 4,
 "nbformat_minor": 5
}
