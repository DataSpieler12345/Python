{
 "cells": [
  {
   "cell_type": "markdown",
   "id": "48756e28-132d-461a-8def-a672ea829b35",
   "metadata": {},
   "source": [
    "## .strftime(): Converting datetime Objects into Strings"
   ]
  },
  {
   "cell_type": "markdown",
   "id": "54a6d2cb-cad6-4eea-b739-7f9d533c91f0",
   "metadata": {},
   "source": [
    "Import the relevant Python module and class for manipulating datetime values."
   ]
  },
  {
   "cell_type": "code",
   "execution_count": 1,
   "id": "ec198c82-47f1-4f91-90df-9bd1ec7a23bd",
   "metadata": {},
   "outputs": [],
   "source": [
    "from datetime import datetime"
   ]
  },
  {
   "cell_type": "markdown",
   "id": "db882381-570d-41e3-ab51-3e4d8f6d3bb7",
   "metadata": {},
   "source": [
    "Execute the next cell to obtain an example of a datetime value stored in a variable called **my_datetime**."
   ]
  },
  {
   "cell_type": "code",
   "execution_count": 2,
   "id": "aa10dbaa-9e68-4b8d-9f45-6ffdc3bc30ce",
   "metadata": {},
   "outputs": [
    {
     "data": {
      "text/plain": [
       "datetime.datetime(2021, 3, 22, 14, 15)"
      ]
     },
     "execution_count": 2,
     "metadata": {},
     "output_type": "execute_result"
    }
   ],
   "source": [
    "my_datetime=datetime(2021, 3, 22, 14, 15)\n",
    "my_datetime"
   ]
  },
  {
   "cell_type": "markdown",
   "id": "1326eead-ef9d-4aa6-a76b-6d4dea325db1",
   "metadata": {},
   "source": [
    "Use the **my_datetime** variable to obtain a string sentence saying: **Today's date is 22/03/2021 and the current time is 14:15h**. <br> *Hint: To obtain the desired result, you need to use certain Python methods with their proper format codes.*"
   ]
  },
  {
   "cell_type": "code",
   "execution_count": 3,
   "id": "3e874727-2788-4847-ade0-1dc0cd25e697",
   "metadata": {},
   "outputs": [
    {
     "data": {
      "text/plain": [
       "\"Today's date is 22/03/2021 and the current time is 14:15h.\""
      ]
     },
     "execution_count": 3,
     "metadata": {},
     "output_type": "execute_result"
    }
   ],
   "source": [
    "my_datetime.strftime(\"Today's date is %d/%m/%Y and the current time is %H:%Mh.\")"
   ]
  },
  {
   "cell_type": "markdown",
   "id": "b154e84f-ca45-40d1-acd2-f6607d16c4a8",
   "metadata": {},
   "source": [
    "Obtain the *month* value from **my_datetime** in the form of a string."
   ]
  },
  {
   "cell_type": "code",
   "execution_count": 4,
   "id": "66045813-f67b-4ad9-93c3-1a43faec4f07",
   "metadata": {},
   "outputs": [
    {
     "data": {
      "text/plain": [
       "'03'"
      ]
     },
     "execution_count": 4,
     "metadata": {},
     "output_type": "execute_result"
    }
   ],
   "source": [
    "my_datetime.strftime('%m')"
   ]
  },
  {
   "cell_type": "markdown",
   "id": "335eae1c-c356-449a-a509-bcffe53cdc05",
   "metadata": {},
   "source": [
    "Obtain the number of *minutes* from **my_datetime** in the form of a string."
   ]
  },
  {
   "cell_type": "code",
   "execution_count": 5,
   "id": "e4ad97cc-ae27-494c-b1c3-c2c83136c499",
   "metadata": {},
   "outputs": [
    {
     "data": {
      "text/plain": [
       "'15'"
      ]
     },
     "execution_count": 5,
     "metadata": {},
     "output_type": "execute_result"
    }
   ],
   "source": [
    "my_datetime.strftime('%M')"
   ]
  }
 ],
 "metadata": {
  "kernelspec": {
   "display_name": "Python 3 (ipykernel)",
   "language": "python",
   "name": "python3"
  },
  "language_info": {
   "codemirror_mode": {
    "name": "ipython",
    "version": 3
   },
   "file_extension": ".py",
   "mimetype": "text/x-python",
   "name": "python",
   "nbconvert_exporter": "python",
   "pygments_lexer": "ipython3",
   "version": "3.10.7"
  }
 },
 "nbformat": 4,
 "nbformat_minor": 5
}
