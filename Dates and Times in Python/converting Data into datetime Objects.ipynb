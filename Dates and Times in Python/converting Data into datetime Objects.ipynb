{
 "cells": [
  {
   "cell_type": "markdown",
   "id": "285d89cf-1031-4443-aebb-0565f8c5034b",
   "metadata": {},
   "source": [
    "##  pd.to_datetime(): Converting Data into datetime Objects"
   ]
  },
  {
   "cell_type": "markdown",
   "id": "054bdbf3-6f7c-400f-ba15-6e4011bc99bc",
   "metadata": {},
   "source": [
    "For starters, use the well-known convention to import the *pandas* module."
   ]
  },
  {
   "cell_type": "code",
   "execution_count": 1,
   "id": "db1dc931-a25c-48d0-b5b2-c4f698d5da73",
   "metadata": {},
   "outputs": [],
   "source": [
    "import pandas as pd"
   ]
  },
  {
   "cell_type": "markdown",
   "id": "f3dcd339-3214-4a33-ad56-3dd2a443363d",
   "metadata": {},
   "source": [
    "Execute the following cell to create a **my_string_datetime** variable containing the given *date* and *time* as a string."
   ]
  },
  {
   "cell_type": "code",
   "execution_count": 2,
   "id": "11896c96-1c0d-4d6a-8a34-61b3741e7f8b",
   "metadata": {},
   "outputs": [
    {
     "data": {
      "text/plain": [
       "'2021-01-20 18:30:00'"
      ]
     },
     "execution_count": 2,
     "metadata": {},
     "output_type": "execute_result"
    }
   ],
   "source": [
    "my_string_datetime = '2021-01-20 18:30:00'\n",
    "my_string_datetime"
   ]
  },
  {
   "cell_type": "markdown",
   "id": "77ad13df-068b-4521-be97-194665bff444",
   "metadata": {},
   "source": [
    "Use the pandas **.to_datetime()** method to convert the value stored in **my_string_datetime** from string into a pandas timestamp. <br>\n",
    "Store the result into a new variable called **my_pandas_datetime**."
   ]
  },
  {
   "cell_type": "code",
   "execution_count": 3,
   "id": "8371c63b-e6dd-4e65-b18f-5da88aec4621",
   "metadata": {},
   "outputs": [
    {
     "data": {
      "text/plain": [
       "Timestamp('2021-01-20 18:30:00')"
      ]
     },
     "execution_count": 3,
     "metadata": {},
     "output_type": "execute_result"
    }
   ],
   "source": [
    "my_pandas_datetime = pd.to_datetime(my_string_datetime)\n",
    "my_pandas_datetime"
   ]
  },
  {
   "cell_type": "markdown",
   "id": "62491fdd-7807-4227-81b1-ea75133825a0",
   "metadata": {},
   "source": [
    "Use the **type()** function to verify that the value in **my_pandas_datetime** is of the *pandas timestamp* type."
   ]
  },
  {
   "cell_type": "code",
   "execution_count": 4,
   "id": "c9f2ccba-cf5b-41fe-a635-304ecb5db761",
   "metadata": {},
   "outputs": [
    {
     "data": {
      "text/plain": [
       "pandas._libs.tslibs.timestamps.Timestamp"
      ]
     },
     "execution_count": 4,
     "metadata": {},
     "output_type": "execute_result"
    }
   ],
   "source": [
    "type(my_pandas_datetime)"
   ]
  },
  {
   "cell_type": "markdown",
   "id": "63e31b4f-d9ea-4fce-a8d9-d31dc46a5843",
   "metadata": {},
   "source": [
    "Obtain the *day* value from **my_pandas_datetime**."
   ]
  },
  {
   "cell_type": "code",
   "execution_count": 5,
   "id": "df91829f-b826-4f04-b421-b478464f68af",
   "metadata": {},
   "outputs": [
    {
     "data": {
      "text/plain": [
       "20"
      ]
     },
     "execution_count": 5,
     "metadata": {},
     "output_type": "execute_result"
    }
   ],
   "source": [
    "my_pandas_datetime.day"
   ]
  },
  {
   "cell_type": "markdown",
   "id": "d7906d54-a86b-475c-84a9-db2ba10b586b",
   "metadata": {},
   "source": [
    "Obtain the *year* value from **my_pandas_datetime**."
   ]
  },
  {
   "cell_type": "code",
   "execution_count": 6,
   "id": "1661438b-5229-4c39-b677-4a3cc567fd2c",
   "metadata": {},
   "outputs": [
    {
     "data": {
      "text/plain": [
       "2021"
      ]
     },
     "execution_count": 6,
     "metadata": {},
     "output_type": "execute_result"
    }
   ],
   "source": [
    "my_pandas_datetime.year"
   ]
  }
 ],
 "metadata": {
  "kernelspec": {
   "display_name": "Python 3 (ipykernel)",
   "language": "python",
   "name": "python3"
  },
  "language_info": {
   "codemirror_mode": {
    "name": "ipython",
    "version": 3
   },
   "file_extension": ".py",
   "mimetype": "text/x-python",
   "name": "python",
   "nbconvert_exporter": "python",
   "pygments_lexer": "ipython3",
   "version": "3.10.7"
  }
 },
 "nbformat": 4,
 "nbformat_minor": 5
}
