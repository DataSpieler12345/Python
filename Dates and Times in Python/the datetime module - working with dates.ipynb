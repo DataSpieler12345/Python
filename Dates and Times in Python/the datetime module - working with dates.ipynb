{
 "cells": [
  {
   "cell_type": "markdown",
   "id": "754ad693-83ee-463b-a348-055e65c57add",
   "metadata": {},
   "source": [
    "## The datetime Module: Working with Dates "
   ]
  },
  {
   "cell_type": "markdown",
   "id": "c8cd022a-9d4d-4dc5-98dd-200bf351fac1",
   "metadata": {},
   "source": [
    "Import the relevant Python module and class for manipulating date values."
   ]
  },
  {
   "cell_type": "code",
   "execution_count": 1,
   "id": "4c75fb74-ed02-422c-8993-43758f9760f4",
   "metadata": {},
   "outputs": [],
   "source": [
    "from datetime import date"
   ]
  },
  {
   "cell_type": "markdown",
   "id": "223d6d0f-d550-43d4-b5b4-b759a29a2cd6",
   "metadata": {},
   "source": [
    "Create a datetime object called **new_date** which represents the following date: February 26th, 2021."
   ]
  },
  {
   "cell_type": "code",
   "execution_count": 2,
   "id": "c11817ea-1e10-4ad8-bc60-b7c975096749",
   "metadata": {},
   "outputs": [
    {
     "data": {
      "text/plain": [
       "datetime.date(2021, 2, 26)"
      ]
     },
     "execution_count": 2,
     "metadata": {},
     "output_type": "execute_result"
    }
   ],
   "source": [
    "new_date=date(2021, 2, 26)\n",
    "new_date"
   ]
  },
  {
   "cell_type": "markdown",
   "id": "272c6248-ed5b-4bbc-b518-7291d70101a6",
   "metadata": {},
   "source": [
    "Use the **print()** function to display the **new_date** value in a standard, calendar-like format."
   ]
  },
  {
   "cell_type": "code",
   "execution_count": 3,
   "id": "b3656504-5be2-4a56-8966-e64d980d159d",
   "metadata": {},
   "outputs": [
    {
     "name": "stdout",
     "output_type": "stream",
     "text": [
      "2021-02-26\n"
     ]
    }
   ],
   "source": [
    "print(new_date)"
   ]
  },
  {
   "cell_type": "markdown",
   "id": "2ddfaf96-d784-424d-bdc4-e156bf973e9c",
   "metadata": {},
   "source": [
    "Use a specific attribute to obtain the *year* value stored in the newly obtained datetime object."
   ]
  },
  {
   "cell_type": "code",
   "execution_count": 4,
   "id": "9d27ca58-44ca-4954-b753-0450cd4e470c",
   "metadata": {},
   "outputs": [
    {
     "data": {
      "text/plain": [
       "2021"
      ]
     },
     "execution_count": 4,
     "metadata": {},
     "output_type": "execute_result"
    }
   ],
   "source": [
    "new_date.year"
   ]
  },
  {
   "cell_type": "markdown",
   "id": "4159b620-fc96-4593-a0c0-047399831371",
   "metadata": {},
   "source": [
    "Use a specific attribute to obtain the *month* value stored in the newly obtained datetime object."
   ]
  },
  {
   "cell_type": "code",
   "execution_count": 5,
   "id": "a5894ed1-494d-4cbe-83a3-860af787ba59",
   "metadata": {},
   "outputs": [
    {
     "data": {
      "text/plain": [
       "2"
      ]
     },
     "execution_count": 5,
     "metadata": {},
     "output_type": "execute_result"
    }
   ],
   "source": [
    "new_date.month"
   ]
  },
  {
   "cell_type": "markdown",
   "id": "db80c603-693d-4fa2-b06c-a9f1cb0e8824",
   "metadata": {},
   "source": [
    "Use a specific attribute to obtain the *day* value stored in the newly obtained datetime object."
   ]
  },
  {
   "cell_type": "code",
   "execution_count": 6,
   "id": "cdb06d1c-e6ad-4ee2-a189-c39dec47d2e3",
   "metadata": {},
   "outputs": [
    {
     "data": {
      "text/plain": [
       "26"
      ]
     },
     "execution_count": 6,
     "metadata": {},
     "output_type": "execute_result"
    }
   ],
   "source": [
    "new_date.day"
   ]
  },
  {
   "cell_type": "markdown",
   "id": "387caa4f-fa0e-4531-ab63-2a6fe1033195",
   "metadata": {},
   "source": [
    "Use a Python method to obtain an indication about the day of the week to which the date value stored in **new_date** is referring."
   ]
  },
  {
   "cell_type": "code",
   "execution_count": 8,
   "id": "a4f73989-51d6-4f7a-8670-cc6e2cb9ae4e",
   "metadata": {},
   "outputs": [
    {
     "data": {
      "text/plain": [
       "4"
      ]
     },
     "execution_count": 8,
     "metadata": {},
     "output_type": "execute_result"
    }
   ],
   "source": [
    "new_date.weekday()"
   ]
  },
  {
   "cell_type": "markdown",
   "id": "0a87a6e7-7231-4c56-9821-f9afb0b3965e",
   "metadata": {},
   "source": [
    "Obtain the duration from the first day of 2021 until the date represented by the **new_date** variable. <br> \n",
    "*Hint: To answer the question, please measure the duration in number of days and put to use a new variable called **duration**.*"
   ]
  },
  {
   "cell_type": "code",
   "execution_count": 9,
   "id": "752dcb36-e58c-4a0e-806f-ebdc82612dd5",
   "metadata": {},
   "outputs": [
    {
     "data": {
      "text/plain": [
       "56"
      ]
     },
     "execution_count": 9,
     "metadata": {},
     "output_type": "execute_result"
    }
   ],
   "source": [
    "duration = date(2021, 2, 26) - date(2021, 1, 1)\n",
    "duration.days"
   ]
  },
  {
   "cell_type": "markdown",
   "id": "f9f5bbb0-4cc6-4ce9-8e9c-cec95415d710",
   "metadata": {},
   "source": [
    "Use the **type()** function to verify that the data type of the value stored in the **duration** variable is *timedelta*. "
   ]
  },
  {
   "cell_type": "code",
   "execution_count": 10,
   "id": "c93fae60-51d8-4367-b24c-62ef30e99828",
   "metadata": {},
   "outputs": [
    {
     "data": {
      "text/plain": [
       "datetime.timedelta"
      ]
     },
     "execution_count": 10,
     "metadata": {},
     "output_type": "execute_result"
    }
   ],
   "source": [
    "type(duration)"
   ]
  }
 ],
 "metadata": {
  "kernelspec": {
   "display_name": "Python 3 (ipykernel)",
   "language": "python",
   "name": "python3"
  },
  "language_info": {
   "codemirror_mode": {
    "name": "ipython",
    "version": 3
   },
   "file_extension": ".py",
   "mimetype": "text/x-python",
   "name": "python",
   "nbconvert_exporter": "python",
   "pygments_lexer": "ipython3",
   "version": "3.10.7"
  }
 },
 "nbformat": 4,
 "nbformat_minor": 5
}
