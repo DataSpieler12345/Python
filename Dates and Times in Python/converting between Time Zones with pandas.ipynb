{
 "cells": [
  {
   "cell_type": "markdown",
   "id": "32b8258e-0a49-4b07-a634-29595f96d9d1",
   "metadata": {},
   "source": [
    "## Converting between Time Zones with pandas"
   ]
  },
  {
   "cell_type": "markdown",
   "id": "13756257-b930-426c-90a6-aa134c11b422",
   "metadata": {},
   "source": [
    "Import the: \n",
    "- *pandas* library (Note: please use the popular convention in doing so)\n",
    "- *datetime* class from the Python's *datetime* module\n",
    "- *pytz* module"
   ]
  },
  {
   "cell_type": "code",
   "execution_count": 2,
   "id": "78a70785-2ddc-4742-8644-c30c37648326",
   "metadata": {},
   "outputs": [],
   "source": [
    "import pandas as pd\n",
    "from datetime import datetime\n",
    "import pytz"
   ]
  },
  {
   "cell_type": "markdown",
   "id": "2773adc7-e952-43ed-9700-05bf68682590",
   "metadata": {},
   "source": [
    "Obtain a new datetime object called **my_datetime_object** representing the following timestamp: *2021-05-15 15:30:00 UTC*."
   ]
  },
  {
   "cell_type": "code",
   "execution_count": 3,
   "id": "32b0e99d-c77b-431a-aa4b-8433cb5ac8a5",
   "metadata": {},
   "outputs": [
    {
     "data": {
      "text/plain": [
       "datetime.datetime(2021, 5, 15, 15, 30, tzinfo=<UTC>)"
      ]
     },
     "execution_count": 3,
     "metadata": {},
     "output_type": "execute_result"
    }
   ],
   "source": [
    "my_datetime_object = datetime(2021, 5, 15, 15, 30, tzinfo = pytz.UTC)\n",
    "my_datetime_object"
   ]
  },
  {
   "cell_type": "markdown",
   "id": "45e71930-b22e-4db8-8cc0-f91adf420f18",
   "metadata": {},
   "source": [
    "Use a method from the \"pandas\" library that will allow you to convert the value of **my_datetime_object** into a pandas timestamp. <br> Store the result into a new variable called **my_pandas_timestamp**."
   ]
  },
  {
   "cell_type": "code",
   "execution_count": 4,
   "id": "28930526-4acb-4f5d-97ea-4f3d4b42a38a",
   "metadata": {},
   "outputs": [
    {
     "data": {
      "text/plain": [
       "Timestamp('2021-05-15 15:30:00+0000', tz='UTC')"
      ]
     },
     "execution_count": 4,
     "metadata": {},
     "output_type": "execute_result"
    }
   ],
   "source": [
    "my_pandas_timestamp = pd.to_datetime(my_datetime_object)\n",
    "my_pandas_timestamp"
   ]
  },
  {
   "cell_type": "markdown",
   "id": "0e88effb-277b-4268-ab28-0c47b3d8d942",
   "metadata": {},
   "source": [
    "Use a method from the \"pandas\" library that will allow you to adapt the value of **my_timestamp** to the *CET* time zone (Central European Time). <br> Store the result into a new variable called **my_pandas_timestamp_CET**."
   ]
  },
  {
   "cell_type": "code",
   "execution_count": 5,
   "id": "9ae33ef2-c175-41b4-baee-5f3c50294289",
   "metadata": {},
   "outputs": [
    {
     "data": {
      "text/plain": [
       "Timestamp('2021-05-15 17:30:00+0200', tz='CET')"
      ]
     },
     "execution_count": 5,
     "metadata": {},
     "output_type": "execute_result"
    }
   ],
   "source": [
    "my_pandas_timestamp_CET = my_pandas_timestamp.tz_convert('CET')\n",
    "my_pandas_timestamp_CET"
   ]
  },
  {
   "cell_type": "markdown",
   "id": "68e2abf9-7a7a-4d34-88ae-421cec3eb6b8",
   "metadata": {},
   "source": [
    "Use the **print** function to display the result in a more user-friendly form."
   ]
  },
  {
   "cell_type": "code",
   "execution_count": 6,
   "id": "c9c5d9c5-d40e-405b-bf88-ba7fb6faac48",
   "metadata": {},
   "outputs": [
    {
     "name": "stdout",
     "output_type": "stream",
     "text": [
      "2021-05-15 17:30:00+02:00\n"
     ]
    }
   ],
   "source": [
    "print(my_pandas_timestamp_CET)"
   ]
  }
 ],
 "metadata": {
  "kernelspec": {
   "display_name": "Python 3 (ipykernel)",
   "language": "python",
   "name": "python3"
  },
  "language_info": {
   "codemirror_mode": {
    "name": "ipython",
    "version": 3
   },
   "file_extension": ".py",
   "mimetype": "text/x-python",
   "name": "python",
   "nbconvert_exporter": "python",
   "pygments_lexer": "ipython3",
   "version": "3.10.7"
  }
 },
 "nbformat": 4,
 "nbformat_minor": 5
}
