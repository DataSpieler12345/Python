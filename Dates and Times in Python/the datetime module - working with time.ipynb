{
 "cells": [
  {
   "cell_type": "markdown",
   "id": "5b04af71-24a1-4bb4-8c4f-b17a6b4c7cea",
   "metadata": {},
   "source": [
    "## The datetime Module: Working with Time"
   ]
  },
  {
   "cell_type": "markdown",
   "id": "ba3f0217-ff01-47f8-9460-39d812710c3f",
   "metadata": {},
   "source": [
    "Import the revelant Python module and class for manipulating time values."
   ]
  },
  {
   "cell_type": "code",
   "execution_count": 1,
   "id": "65d1fc45-8963-481a-891c-d082220d91d5",
   "metadata": {},
   "outputs": [],
   "source": [
    "from datetime import time"
   ]
  },
  {
   "cell_type": "markdown",
   "id": "d8580795-772c-4e3c-99ce-be346bc848f0",
   "metadata": {},
   "source": [
    "Create a datetime object called **new_time** which represents the following time: **15:30:25**. <br> \n",
    "*Hint: use the short way of adding the time values to the new variable.*"
   ]
  },
  {
   "cell_type": "code",
   "execution_count": 2,
   "id": "8524efc6-40fe-4417-a283-bab5708ab7b3",
   "metadata": {},
   "outputs": [
    {
     "data": {
      "text/plain": [
       "datetime.time(15, 30, 25)"
      ]
     },
     "execution_count": 2,
     "metadata": {},
     "output_type": "execute_result"
    }
   ],
   "source": [
    "new_time=time(15, 30, 25)\n",
    "new_time"
   ]
  },
  {
   "cell_type": "markdown",
   "id": "c27d105a-6629-45ee-a1ec-1650bd8bf879",
   "metadata": {},
   "source": [
    "Use the **print()** function to display the **new_time** value in a standard, electronic clock-resembling form."
   ]
  },
  {
   "cell_type": "code",
   "execution_count": 7,
   "id": "a05b6a38-e596-42c1-9b29-a8b403f22720",
   "metadata": {},
   "outputs": [
    {
     "name": "stdout",
     "output_type": "stream",
     "text": [
      "15:30:25\n"
     ]
    }
   ],
   "source": [
    "print(new_time)"
   ]
  },
  {
   "cell_type": "code",
   "execution_count": null,
   "id": "f70e3433-41c5-409c-a7be-45266a11e741",
   "metadata": {},
   "outputs": [],
   "source": [
    "Use a specific attribute to obtain the *hours* of the **new_time** datetime object."
   ]
  },
  {
   "cell_type": "code",
   "execution_count": 4,
   "id": "2ae0e6c1-d61d-41b2-b12a-b51fb51ff845",
   "metadata": {},
   "outputs": [
    {
     "data": {
      "text/plain": [
       "15"
      ]
     },
     "execution_count": 4,
     "metadata": {},
     "output_type": "execute_result"
    }
   ],
   "source": [
    "new_time.hour"
   ]
  },
  {
   "cell_type": "markdown",
   "id": "e62a5e82-fba4-41ad-8543-db913e50572b",
   "metadata": {},
   "source": [
    "Use a specific attribute to obtain the *minutes* of the **new_time** datetime object."
   ]
  },
  {
   "cell_type": "code",
   "execution_count": 5,
   "id": "8f4e7ddb-8d5a-42df-99cb-b95f512f9fb6",
   "metadata": {},
   "outputs": [
    {
     "data": {
      "text/plain": [
       "30"
      ]
     },
     "execution_count": 5,
     "metadata": {},
     "output_type": "execute_result"
    }
   ],
   "source": [
    "new_time.minute"
   ]
  },
  {
   "cell_type": "markdown",
   "id": "0bb12338-dede-4732-8eca-c765b0fc5563",
   "metadata": {},
   "source": [
    "Use a specific attribute to obtain the *seconds* of the **new_time** datetime object."
   ]
  },
  {
   "cell_type": "code",
   "execution_count": 6,
   "id": "4cac272e-c14d-46b5-a44b-990394896ac7",
   "metadata": {},
   "outputs": [
    {
     "data": {
      "text/plain": [
       "25"
      ]
     },
     "execution_count": 6,
     "metadata": {},
     "output_type": "execute_result"
    }
   ],
   "source": [
    "new_time.second"
   ]
  }
 ],
 "metadata": {
  "kernelspec": {
   "display_name": "Python 3 (ipykernel)",
   "language": "python",
   "name": "python3"
  },
  "language_info": {
   "codemirror_mode": {
    "name": "ipython",
    "version": 3
   },
   "file_extension": ".py",
   "mimetype": "text/x-python",
   "name": "python",
   "nbconvert_exporter": "python",
   "pygments_lexer": "ipython3",
   "version": "3.10.7"
  }
 },
 "nbformat": 4,
 "nbformat_minor": 5
}
