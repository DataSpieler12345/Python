{
 "cells": [
  {
   "cell_type": "markdown",
   "id": "bb83d67f-1da3-4a06-8193-bb44d13fbaed",
   "metadata": {},
   "source": [
    "## Practical Application of Working with Timestamps in Python "
   ]
  },
  {
   "cell_type": "markdown",
   "id": "988bcd2d-162c-4d5a-a158-440c2e794ede",
   "metadata": {},
   "source": [
    "Execute the following cell to import:\n",
    "- the \"datetime\" class from the Python's \"datetime\" module\n",
    "- the pandas library (Note: please use the popular convention in doing so)\n",
    "- the NumPy package (Note: please use the popular convention in doing so)"
   ]
  },
  {
   "cell_type": "code",
   "execution_count": 1,
   "id": "e3e0e1e9-96e7-4a2a-a22b-8ab02f3e537f",
   "metadata": {},
   "outputs": [],
   "source": [
    "from datetime import datetime\n",
    "import pandas as pd\n",
    "import numpy as np"
   ]
  },
  {
   "cell_type": "markdown",
   "id": "5b4e264d-1939-4be8-9546-dbba051afc55",
   "metadata": {},
   "source": [
    "Execute the next cell to obtain a timestamp of the value 178515202. "
   ]
  },
  {
   "cell_type": "code",
   "execution_count": 2,
   "id": "48183307-2d9f-4ed1-914a-ec0d07d8dfcb",
   "metadata": {},
   "outputs": [
    {
     "data": {
      "text/plain": [
       "178515202"
      ]
     },
     "execution_count": 2,
     "metadata": {},
     "output_type": "execute_result"
    }
   ],
   "source": [
    "new_timestamp = 178515202\n",
    "new_timestamp"
   ]
  },
  {
   "cell_type": "markdown",
   "id": "f0313bc7-fa6f-4b78-91c9-5b0a058e8e53",
   "metadata": {},
   "source": [
    "Use a method from the \"datetime\" module that will allow you to convert the given integer into a datetime value.\n",
    "<br> *Hint: Please note that the values we request you to obtain until the end of this lesson's exercises will vary depending on the time zone your operating system has been adjusted to.<br> Therefore, although your results are expected to be different from the ones in the output cells you currently see below, your solution will be correct as long as you've used the correct code.*"
   ]
  },
  {
   "cell_type": "code",
   "execution_count": 3,
   "id": "6afc0b04-557e-4faf-bede-9703090a46b1",
   "metadata": {},
   "outputs": [
    {
     "data": {
      "text/plain": [
       "datetime.datetime(1975, 8, 29, 5, 33, 22)"
      ]
     },
     "execution_count": 3,
     "metadata": {},
     "output_type": "execute_result"
    }
   ],
   "source": [
    "datetime.fromtimestamp(new_timestamp)"
   ]
  },
  {
   "cell_type": "markdown",
   "id": "15c61a36-0907-4a46-b140-122a4321c773",
   "metadata": {},
   "source": [
    "Use a method from the \"datetime\" module that will allow you to convert the value of **new_timestamp** into a datetime value adjusted by UTC.<br> Use the **print()** function to obtain a user-friendly output directly."
   ]
  },
  {
   "cell_type": "code",
   "execution_count": 4,
   "id": "cd9826c1-4bae-4dc7-848d-f37586a076fc",
   "metadata": {},
   "outputs": [
    {
     "name": "stdout",
     "output_type": "stream",
     "text": [
      "1975-08-29 03:33:22\n"
     ]
    }
   ],
   "source": [
    "print(datetime.utcfromtimestamp(new_timestamp))"
   ]
  },
  {
   "cell_type": "markdown",
   "id": "ee1d9cde-4831-4cc9-83ff-7ccd7f388098",
   "metadata": {},
   "source": [
    "Execute the next cell to obtain an example of a datetime object called **my_datetime_instance**."
   ]
  },
  {
   "cell_type": "code",
   "execution_count": 5,
   "id": "73aa7f42-12b7-4762-a083-f49a369893a6",
   "metadata": {},
   "outputs": [
    {
     "data": {
      "text/plain": [
       "datetime.datetime(2021, 3, 15, 21, 10)"
      ]
     },
     "execution_count": 5,
     "metadata": {},
     "output_type": "execute_result"
    }
   ],
   "source": [
    "my_datetime_instance = datetime(2021, 3, 15,\n",
    "21, 10)\n",
    "my_datetime_instance"
   ]
  },
  {
   "cell_type": "markdown",
   "id": "8219aa09-bdae-4875-ab03-a3f818774f7a",
   "metadata": {},
   "source": [
    "Convert the value of **my_datetime_instance** into a Unix timestamp."
   ]
  },
  {
   "cell_type": "code",
   "execution_count": 6,
   "id": "5e991a1a-89ad-4297-b0cc-112f3ddc72d7",
   "metadata": {},
   "outputs": [
    {
     "data": {
      "text/plain": [
       "1615839000.0"
      ]
     },
     "execution_count": 6,
     "metadata": {},
     "output_type": "execute_result"
    }
   ],
   "source": [
    "my_datetime_instance.timestamp()"
   ]
  }
 ],
 "metadata": {
  "kernelspec": {
   "display_name": "Python 3 (ipykernel)",
   "language": "python",
   "name": "python3"
  },
  "language_info": {
   "codemirror_mode": {
    "name": "ipython",
    "version": 3
   },
   "file_extension": ".py",
   "mimetype": "text/x-python",
   "name": "python",
   "nbconvert_exporter": "python",
   "pygments_lexer": "ipython3",
   "version": "3.10.7"
  }
 },
 "nbformat": 4,
 "nbformat_minor": 5
}
