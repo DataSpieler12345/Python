{
 "cells": [
  {
   "cell_type": "markdown",
   "id": "144d2a98-726a-4c6a-91b2-0c6a03280ae2",
   "metadata": {},
   "source": [
    "##  .strptime(): Converting Strings into datetime Objects"
   ]
  },
  {
   "cell_type": "markdown",
   "id": "ea485015-f516-4f8b-9895-95eeed416b76",
   "metadata": {},
   "source": [
    "Import the relevant Python module and class for manipulating datetime values."
   ]
  },
  {
   "cell_type": "code",
   "execution_count": 1,
   "id": "e6104b3c-449b-4224-8791-c72d27805028",
   "metadata": {},
   "outputs": [],
   "source": [
    "from datetime import datetime"
   ]
  },
  {
   "cell_type": "markdown",
   "id": "cd37cb95-e9f3-43ac-a2f0-29af57d23358",
   "metadata": {},
   "source": [
    "Execute the following cell to create a variable called **my_string_datetime**, containing the given *date* and *time* as a string."
   ]
  },
  {
   "cell_type": "code",
   "execution_count": 2,
   "id": "bbd19c6e-c990-46ab-9f92-e7a6341aba08",
   "metadata": {},
   "outputs": [
    {
     "data": {
      "text/plain": [
       "'2021-01-20 18:30:00'"
      ]
     },
     "execution_count": 2,
     "metadata": {},
     "output_type": "execute_result"
    }
   ],
   "source": [
    "my_string_datetime = '2021-01-20 18:30:00'\n",
    "my_string_datetime"
   ]
  },
  {
   "cell_type": "markdown",
   "id": "91f9a44a-a14e-43ce-9c53-dbe836929db6",
   "metadata": {},
   "source": [
    "Use the **.strptime()** method to convert the value stored in **my_string_datetime** from string into datetime. <br> Store the result into a new variable called **my_new_datetime**."
   ]
  },
  {
   "cell_type": "code",
   "execution_count": 3,
   "id": "14ca5e2f-e232-4953-a775-c7e75bdf8194",
   "metadata": {},
   "outputs": [
    {
     "data": {
      "text/plain": [
       "datetime.datetime(2021, 1, 20, 18, 30)"
      ]
     },
     "execution_count": 3,
     "metadata": {},
     "output_type": "execute_result"
    }
   ],
   "source": [
    "my_new_datetime = datetime.strptime(my_string_datetime, '%Y-%m-%d %H:%M:%S')\n",
    "my_new_datetime"
   ]
  },
  {
   "cell_type": "markdown",
   "id": "519578ed-327d-4f71-a50a-1c268b16ded4",
   "metadata": {},
   "source": [
    "Use the **print()** function to display the result in a more user-friendly form."
   ]
  },
  {
   "cell_type": "code",
   "execution_count": 4,
   "id": "a41dce15-c5a6-426c-aad8-06e382dd46b4",
   "metadata": {},
   "outputs": [
    {
     "name": "stdout",
     "output_type": "stream",
     "text": [
      "2021-01-20 18:30:00\n"
     ]
    }
   ],
   "source": [
    "print(my_new_datetime)"
   ]
  }
 ],
 "metadata": {
  "kernelspec": {
   "display_name": "Python 3 (ipykernel)",
   "language": "python",
   "name": "python3"
  },
  "language_info": {
   "codemirror_mode": {
    "name": "ipython",
    "version": 3
   },
   "file_extension": ".py",
   "mimetype": "text/x-python",
   "name": "python",
   "nbconvert_exporter": "python",
   "pygments_lexer": "ipython3",
   "version": "3.10.7"
  }
 },
 "nbformat": 4,
 "nbformat_minor": 5
}
