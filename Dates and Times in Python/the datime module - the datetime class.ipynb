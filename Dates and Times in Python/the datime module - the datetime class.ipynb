{
 "cells": [
  {
   "cell_type": "markdown",
   "id": "1744a1ab-70a0-4dd6-be54-dea5e650a37d",
   "metadata": {},
   "source": [
    "## The datetime Module: from datetime import datetime"
   ]
  },
  {
   "cell_type": "markdown",
   "id": "bcd4d966-733d-410c-bc6a-696e9ec3e77f",
   "metadata": {},
   "source": [
    "Import the relevant Python module and class for manipulating datetime values."
   ]
  },
  {
   "cell_type": "code",
   "execution_count": 1,
   "id": "8e592217-36c8-4901-8c33-852799d3472a",
   "metadata": {},
   "outputs": [],
   "source": [
    "from datetime import datetime"
   ]
  },
  {
   "cell_type": "markdown",
   "id": "1ad86ddb-df33-4a0c-80c5-36eab127428e",
   "metadata": {},
   "source": [
    "Create a datetime object called **new_datetime** which represents the time 15:30:25 on the 26th of February, 2021. <br> \n",
    "*Hint: Use the short way to creating this variable.*"
   ]
  },
  {
   "cell_type": "code",
   "execution_count": 2,
   "id": "b244940d-7229-4d31-934a-500b696a32f4",
   "metadata": {},
   "outputs": [
    {
     "data": {
      "text/plain": [
       "datetime.datetime(2021, 2, 26, 15, 30, 25)"
      ]
     },
     "execution_count": 2,
     "metadata": {},
     "output_type": "execute_result"
    }
   ],
   "source": [
    "new_datetime = datetime(2021, 2, 26, 15, 30, 25)\n",
    "new_datetime"
   ]
  },
  {
   "cell_type": "markdown",
   "id": "375c2f8f-e1de-4815-bd1a-b9fae409b9ff",
   "metadata": {},
   "source": [
    "Use the **print()** function to display the result in a more user-friendly form."
   ]
  },
  {
   "cell_type": "code",
   "execution_count": 3,
   "id": "669ac726-c6d0-4eb7-9d48-a707c491093c",
   "metadata": {},
   "outputs": [
    {
     "name": "stdout",
     "output_type": "stream",
     "text": [
      "2021-02-26 15:30:25\n"
     ]
    }
   ],
   "source": [
    "print(new_datetime)"
   ]
  },
  {
   "cell_type": "markdown",
   "id": "8da36711-b397-45b7-a5fc-0f7d15c18403",
   "metadata": {},
   "source": [
    "Replace the date 26.02 with 11.05 by using the **.replace()** method."
   ]
  },
  {
   "cell_type": "code",
   "execution_count": 4,
   "id": "cfb87a5a-c87e-4595-b213-93112d0707b7",
   "metadata": {},
   "outputs": [
    {
     "name": "stdout",
     "output_type": "stream",
     "text": [
      "2021-05-11 15:30:25\n"
     ]
    }
   ],
   "source": [
    "new_datetime = new_datetime.replace(day=11, month=5)\n",
    "print(new_datetime)"
   ]
  },
  {
   "cell_type": "markdown",
   "id": "010e4400-788b-452f-841c-d43f51d96e29",
   "metadata": {},
   "source": [
    "Use the **type()** function to verify that the value in **new_datetime** is still of the *datetime* type."
   ]
  },
  {
   "cell_type": "code",
   "execution_count": 5,
   "id": "e842fc8e-af47-49e4-b253-7eec53a102d7",
   "metadata": {},
   "outputs": [
    {
     "data": {
      "text/plain": [
       "datetime.datetime"
      ]
     },
     "execution_count": 5,
     "metadata": {},
     "output_type": "execute_result"
    }
   ],
   "source": [
    "type(new_datetime)"
   ]
  }
 ],
 "metadata": {
  "kernelspec": {
   "display_name": "Python 3 (ipykernel)",
   "language": "python",
   "name": "python3"
  },
  "language_info": {
   "codemirror_mode": {
    "name": "ipython",
    "version": 3
   },
   "file_extension": ".py",
   "mimetype": "text/x-python",
   "name": "python",
   "nbconvert_exporter": "python",
   "pygments_lexer": "ipython3",
   "version": "3.10.7"
  }
 },
 "nbformat": 4,
 "nbformat_minor": 5
}
