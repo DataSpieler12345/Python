{
 "cells": [
  {
   "cell_type": "markdown",
   "id": "6a5ac237",
   "metadata": {},
   "source": [
    "**Tuples** are a type of data sequences! | **Tuples** are immutable"
   ]
  },
  {
   "cell_type": "code",
   "execution_count": 1,
   "id": "909213bb",
   "metadata": {},
   "outputs": [
    {
     "data": {
      "text/plain": [
       "(40, 41, 42)"
      ]
     },
     "execution_count": 1,
     "metadata": {},
     "output_type": "execute_result"
    }
   ],
   "source": [
    "x = (40,41,42)\n",
    "x"
   ]
  },
  {
   "cell_type": "markdown",
   "id": "5e2ebac9",
   "metadata": {},
   "source": [
    "**Tuples** elements are placed within parentheses and not brackets "
   ]
  },
  {
   "cell_type": "code",
   "execution_count": 2,
   "id": "1a1096f7",
   "metadata": {},
   "outputs": [
    {
     "data": {
      "text/plain": [
       "(50, 51, 52)"
      ]
     },
     "execution_count": 2,
     "metadata": {},
     "output_type": "execute_result"
    }
   ],
   "source": [
    "y = 50, 51, 52 #The tree values were packed int a tuple\n",
    "y"
   ]
  },
  {
   "cell_type": "code",
   "execution_count": 3,
   "id": "60ccf10a",
   "metadata": {},
   "outputs": [
    {
     "data": {
      "text/plain": [
       "6"
      ]
     },
     "execution_count": 3,
     "metadata": {},
     "output_type": "execute_result"
    }
   ],
   "source": [
    "a, b, c= 1, 4, 6\n",
    "c"
   ]
  },
  {
   "cell_type": "markdown",
   "id": "6eaac964",
   "metadata": {},
   "source": [
    "**Tuple** asigment"
   ]
  },
  {
   "cell_type": "code",
   "execution_count": 5,
   "id": "53ec97af",
   "metadata": {},
   "outputs": [
    {
     "data": {
      "text/plain": [
       "40"
      ]
     },
     "execution_count": 5,
     "metadata": {},
     "output_type": "execute_result"
    }
   ],
   "source": [
    "x[0]"
   ]
  },
  {
   "cell_type": "markdown",
   "id": "05f82f6c",
   "metadata": {},
   "source": [
    "**Tuples** inside of one list"
   ]
  },
  {
   "cell_type": "code",
   "execution_count": 6,
   "id": "8b3cd182",
   "metadata": {},
   "outputs": [
    {
     "data": {
      "text/plain": [
       "[(40, 41, 42), (50, 51, 52)]"
      ]
     },
     "execution_count": 6,
     "metadata": {},
     "output_type": "execute_result"
    }
   ],
   "source": [
    "List_1 = [x,y]\n",
    "List_1"
   ]
  },
  {
   "cell_type": "markdown",
   "id": "3c2879c9",
   "metadata": {},
   "source": [
    "USES CASES **working** with **Tuples**"
   ]
  },
  {
   "cell_type": "code",
   "execution_count": 8,
   "id": "dec26126",
   "metadata": {},
   "outputs": [
    {
     "name": "stdout",
     "output_type": "stream",
     "text": [
      "30\n",
      "17\n"
     ]
    }
   ],
   "source": [
    "(age, years_of_school)= \"30,17\".split(',')\n",
    "print(age)\n",
    "print(years_of_school)"
   ]
  },
  {
   "cell_type": "markdown",
   "id": "ca27eea6",
   "metadata": {},
   "source": [
    "**Functions** can provide tuples as return values"
   ]
  },
  {
   "cell_type": "code",
   "execution_count": 9,
   "id": "6dcd3f16",
   "metadata": {},
   "outputs": [
    {
     "name": "stdout",
     "output_type": "stream",
     "text": [
      "Area and Perimeter:\n"
     ]
    },
    {
     "data": {
      "text/plain": [
       "(9, 12)"
      ]
     },
     "execution_count": 9,
     "metadata": {},
     "output_type": "execute_result"
    }
   ],
   "source": [
    "def square_info(x):\n",
    "    A = x ** 2\n",
    "    P = 4 * x\n",
    "    print(\"Area and Perimeter:\")\n",
    "    return A,P\n",
    "\n",
    "square_info(3)"
   ]
  },
  {
   "cell_type": "code",
   "execution_count": null,
   "id": "ce367444",
   "metadata": {},
   "outputs": [],
   "source": []
  }
 ],
 "metadata": {
  "kernelspec": {
   "display_name": "Python 3 (ipykernel)",
   "language": "python",
   "name": "python3"
  },
  "language_info": {
   "codemirror_mode": {
    "name": "ipython",
    "version": 3
   },
   "file_extension": ".py",
   "mimetype": "text/x-python",
   "name": "python",
   "nbconvert_exporter": "python",
   "pygments_lexer": "ipython3",
   "version": "3.8.3"
  }
 },
 "nbformat": 4,
 "nbformat_minor": 5
}
