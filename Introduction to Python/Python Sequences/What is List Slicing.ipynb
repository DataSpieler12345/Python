{
 "cells": [
  {
   "cell_type": "code",
   "execution_count": 1,
   "id": "60cad46e",
   "metadata": {},
   "outputs": [
    {
     "data": {
      "text/plain": [
       "['Jose', 'Octavio', 'Fritzi', 'Edgar', 'Nuria', 'Margot']"
      ]
     },
     "execution_count": 1,
     "metadata": {},
     "output_type": "execute_result"
    }
   ],
   "source": [
    "Participants = ['Jose', 'Octavio', 'Fritzi', 'Edgar', 'Nuria', 'Margot']\n",
    "Participants"
   ]
  },
  {
   "cell_type": "code",
   "execution_count": 2,
   "id": "1741b549",
   "metadata": {},
   "outputs": [
    {
     "data": {
      "text/plain": [
       "['Octavio', 'Fritzi']"
      ]
     },
     "execution_count": 2,
     "metadata": {},
     "output_type": "execute_result"
    }
   ],
   "source": [
    "#call the position 1 and position 2 element of the list\n",
    "Participants[1:3]"
   ]
  },
  {
   "cell_type": "code",
   "execution_count": 4,
   "id": "9475d112",
   "metadata": {},
   "outputs": [
    {
     "data": {
      "text/plain": [
       "['Jose', 'Octavio']"
      ]
     },
     "execution_count": 4,
     "metadata": {},
     "output_type": "execute_result"
    }
   ],
   "source": [
    "#call the first two names of the list\n",
    "Participants[0:2]"
   ]
  },
  {
   "cell_type": "code",
   "execution_count": 5,
   "id": "eb4b41ef",
   "metadata": {},
   "outputs": [
    {
     "data": {
      "text/plain": [
       "['Jose', 'Octavio']"
      ]
     },
     "execution_count": 5,
     "metadata": {},
     "output_type": "execute_result"
    }
   ],
   "source": [
    "Participants[:2]"
   ]
  },
  {
   "cell_type": "code",
   "execution_count": 6,
   "id": "e0204a45",
   "metadata": {},
   "outputs": [
    {
     "data": {
      "text/plain": [
       "['Nuria', 'Margot']"
      ]
     },
     "execution_count": 6,
     "metadata": {},
     "output_type": "execute_result"
    }
   ],
   "source": [
    "#call the last two names of the list\n",
    "Participants[4:]"
   ]
  },
  {
   "cell_type": "code",
   "execution_count": 7,
   "id": "30e0135e",
   "metadata": {},
   "outputs": [
    {
     "data": {
      "text/plain": [
       "['Nuria', 'Margot']"
      ]
     },
     "execution_count": 7,
     "metadata": {},
     "output_type": "execute_result"
    }
   ],
   "source": [
    "Participants[4:6]"
   ]
  },
  {
   "cell_type": "code",
   "execution_count": 8,
   "id": "de6b2c8a",
   "metadata": {},
   "outputs": [
    {
     "data": {
      "text/plain": [
       "['Nuria', 'Margot']"
      ]
     },
     "execution_count": 8,
     "metadata": {},
     "output_type": "execute_result"
    }
   ],
   "source": [
    "Participants[-2:]"
   ]
  },
  {
   "cell_type": "code",
   "execution_count": 9,
   "id": "df894e79",
   "metadata": {},
   "outputs": [
    {
     "data": {
      "text/plain": [
       "2"
      ]
     },
     "execution_count": 9,
     "metadata": {},
     "output_type": "execute_result"
    }
   ],
   "source": [
    "#index of elements\n",
    "Participants.index(\"Fritzi\")"
   ]
  },
  {
   "cell_type": "code",
   "execution_count": 10,
   "id": "600a9957",
   "metadata": {},
   "outputs": [
    {
     "data": {
      "text/plain": [
       "5"
      ]
     },
     "execution_count": 10,
     "metadata": {},
     "output_type": "execute_result"
    }
   ],
   "source": [
    "Participants.index(\"Jose\")\n",
    "Participants.index(\"Octavio\")\n",
    "Participants.index(\"Edgar\")\n",
    "Participants.index(\"Nuria\")\n",
    "Participants.index(\"Margot\") # will show the margot position at the end "
   ]
  },
  {
   "cell_type": "code",
   "execution_count": 11,
   "id": "6ad623ca",
   "metadata": {},
   "outputs": [
    {
     "data": {
      "text/plain": [
       "0"
      ]
     },
     "execution_count": 11,
     "metadata": {},
     "output_type": "execute_result"
    }
   ],
   "source": [
    "Participants.index(\"Jose\")"
   ]
  },
  {
   "cell_type": "code",
   "execution_count": 12,
   "id": "d15147d8",
   "metadata": {},
   "outputs": [
    {
     "data": {
      "text/plain": [
       "1"
      ]
     },
     "execution_count": 12,
     "metadata": {},
     "output_type": "execute_result"
    }
   ],
   "source": [
    "Participants.index(\"Octavio\")"
   ]
  },
  {
   "cell_type": "code",
   "execution_count": 13,
   "id": "55005fc4",
   "metadata": {},
   "outputs": [
    {
     "data": {
      "text/plain": [
       "3"
      ]
     },
     "execution_count": 13,
     "metadata": {},
     "output_type": "execute_result"
    }
   ],
   "source": [
    "Participants.index(\"Edgar\")"
   ]
  },
  {
   "cell_type": "code",
   "execution_count": 14,
   "id": "c16761f4",
   "metadata": {},
   "outputs": [
    {
     "data": {
      "text/plain": [
       "4"
      ]
     },
     "execution_count": 14,
     "metadata": {},
     "output_type": "execute_result"
    }
   ],
   "source": [
    "Participants.index(\"Nuria\")"
   ]
  },
  {
   "cell_type": "code",
   "execution_count": 15,
   "id": "52fc9c80",
   "metadata": {
    "scrolled": false
   },
   "outputs": [
    {
     "data": {
      "text/plain": [
       "5"
      ]
     },
     "execution_count": 15,
     "metadata": {},
     "output_type": "execute_result"
    }
   ],
   "source": [
    "Participants.index(\"Margot\")"
   ]
  },
  {
   "cell_type": "code",
   "execution_count": 24,
   "id": "11ce4797",
   "metadata": {},
   "outputs": [
    {
     "data": {
      "text/plain": [
       "['Edgar', 'Fritzi', 'Jose', 'Margot', 'Nuria', 'Octavio']"
      ]
     },
     "execution_count": 24,
     "metadata": {},
     "output_type": "execute_result"
    }
   ],
   "source": [
    "# sort method\n",
    "Participants.sort()\n",
    "Participants"
   ]
  },
  {
   "cell_type": "code",
   "execution_count": 25,
   "id": "709ccdc6",
   "metadata": {},
   "outputs": [
    {
     "data": {
      "text/plain": [
       "['Octavio', 'Nuria', 'Margot', 'Jose', 'Fritzi', 'Edgar']"
      ]
     },
     "execution_count": 25,
     "metadata": {},
     "output_type": "execute_result"
    }
   ],
   "source": [
    "Participants.sort(reverse=True)\n",
    "Participants"
   ]
  },
  {
   "cell_type": "code",
   "execution_count": null,
   "id": "595aa5e2",
   "metadata": {},
   "outputs": [],
   "source": [
    "# list of list"
   ]
  },
  {
   "cell_type": "code",
   "execution_count": 18,
   "id": "5c05cb56",
   "metadata": {},
   "outputs": [
    {
     "data": {
      "text/plain": [
       "['Sofana', 'Joconda']"
      ]
     },
     "execution_count": 18,
     "metadata": {},
     "output_type": "execute_result"
    }
   ],
   "source": [
    "Newcomers = ['Sofana', 'Joconda']\n",
    "Newcomers"
   ]
  },
  {
   "cell_type": "code",
   "execution_count": 19,
   "id": "7d7c307a",
   "metadata": {},
   "outputs": [
    {
     "data": {
      "text/plain": [
       "[['Jose', 'Octavio', 'Fritzi', 'Edgar', 'Nuria', 'Margot'],\n",
       " ['Sofana', 'Joconda']]"
      ]
     },
     "execution_count": 19,
     "metadata": {},
     "output_type": "execute_result"
    }
   ],
   "source": [
    "Bigger_List = [Participants, Newcomers]\n",
    "Bigger_List #bringing together"
   ]
  },
  {
   "cell_type": "code",
   "execution_count": 21,
   "id": "ab87c76d",
   "metadata": {},
   "outputs": [
    {
     "data": {
      "text/plain": [
       "[1, 2, 3, 4, 5]"
      ]
     },
     "execution_count": 21,
     "metadata": {},
     "output_type": "execute_result"
    }
   ],
   "source": [
    "# .sort() method, sorts objects of list\n",
    "Numbers = [1,3,2,4,5]\n",
    "Numbers.sort()\n",
    "Numbers"
   ]
  },
  {
   "cell_type": "code",
   "execution_count": 22,
   "id": "27ef1784",
   "metadata": {},
   "outputs": [
    {
     "data": {
      "text/plain": [
       "[5, 4, 3, 2, 1]"
      ]
     },
     "execution_count": 22,
     "metadata": {},
     "output_type": "execute_result"
    }
   ],
   "source": [
    "Numbers.sort(reverse=True)\n",
    "Numbers"
   ]
  },
  {
   "cell_type": "code",
   "execution_count": null,
   "id": "703a8f76",
   "metadata": {},
   "outputs": [],
   "source": []
  }
 ],
 "metadata": {
  "kernelspec": {
   "display_name": "Python 3 (ipykernel)",
   "language": "python",
   "name": "python3"
  },
  "language_info": {
   "codemirror_mode": {
    "name": "ipython",
    "version": 3
   },
   "file_extension": ".py",
   "mimetype": "text/x-python",
   "name": "python",
   "nbconvert_exporter": "python",
   "pygments_lexer": "ipython3",
   "version": "3.8.3"
  }
 },
 "nbformat": 4,
 "nbformat_minor": 5
}
