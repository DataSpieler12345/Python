{
 "cells": [
  {
   "cell_type": "code",
   "execution_count": 1,
   "id": "5d3acee3",
   "metadata": {},
   "outputs": [
    {
     "data": {
      "text/plain": [
       "{'k1': 'cat', 'k2': 'dog', 'k3': 'mouse', 'k4': 'fish'}"
      ]
     },
     "execution_count": 1,
     "metadata": {},
     "output_type": "execute_result"
    }
   ],
   "source": [
    "dict = {'k1': \"cat\", 'k2': \"dog\", 'k3': \"mouse\", 'k4':\"fish\"}\n",
    "dict"
   ]
  },
  {
   "cell_type": "markdown",
   "id": "cec3a1d0",
   "metadata": {},
   "source": [
    "**Dictionaries** representa another way of storing data / each values with a key value (key-value pair)"
   ]
  },
  {
   "cell_type": "code",
   "execution_count": 5,
   "id": "3d0ef6b1",
   "metadata": {},
   "outputs": [
    {
     "data": {
      "text/plain": [
       "'cat'"
      ]
     },
     "execution_count": 5,
     "metadata": {},
     "output_type": "execute_result"
    }
   ],
   "source": [
    "#index\n",
    "\n",
    "dict['k1']"
   ]
  },
  {
   "cell_type": "code",
   "execution_count": 6,
   "id": "23a824a7",
   "metadata": {},
   "outputs": [
    {
     "data": {
      "text/plain": [
       "'dog'"
      ]
     },
     "execution_count": 6,
     "metadata": {},
     "output_type": "execute_result"
    }
   ],
   "source": [
    "dict['k2']"
   ]
  },
  {
   "cell_type": "code",
   "execution_count": 7,
   "id": "9607c270",
   "metadata": {},
   "outputs": [
    {
     "data": {
      "text/plain": [
       "'mouse'"
      ]
     },
     "execution_count": 7,
     "metadata": {},
     "output_type": "execute_result"
    }
   ],
   "source": [
    "dict['k3']"
   ]
  },
  {
   "cell_type": "code",
   "execution_count": 8,
   "id": "0d257ba5",
   "metadata": {},
   "outputs": [
    {
     "data": {
      "text/plain": [
       "'fish'"
      ]
     },
     "execution_count": 8,
     "metadata": {},
     "output_type": "execute_result"
    }
   ],
   "source": [
    "dict['k4']"
   ]
  },
  {
   "cell_type": "markdown",
   "id": "9df2f700",
   "metadata": {},
   "source": [
    "**adding** new values\n",
    "\n"
   ]
  },
  {
   "cell_type": "code",
   "execution_count": 9,
   "id": "82b53b94",
   "metadata": {},
   "outputs": [
    {
     "data": {
      "text/plain": [
       "{'k1': 'cat', 'k2': 'dog', 'k3': 'mouse', 'k4': 'fish', 'k5': 'chocoyo'}"
      ]
     },
     "execution_count": 9,
     "metadata": {},
     "output_type": "execute_result"
    }
   ],
   "source": [
    "dict['k5'] = 'chocoyo'\n",
    "dict"
   ]
  },
  {
   "cell_type": "code",
   "execution_count": 10,
   "id": "6a8640b1",
   "metadata": {},
   "outputs": [
    {
     "data": {
      "text/plain": [
       "{'k1': 'cat', 'k2': 'Wolf', 'k3': 'mouse', 'k4': 'fish', 'k5': 'chocoyo'}"
      ]
     },
     "execution_count": 10,
     "metadata": {},
     "output_type": "execute_result"
    }
   ],
   "source": [
    "# Sust dog for Wolf\n",
    "dict['k2'] = 'Wolf'\n",
    "dict"
   ]
  },
  {
   "cell_type": "code",
   "execution_count": null,
   "id": "7a50b0d2",
   "metadata": {},
   "outputs": [],
   "source": []
  },
  {
   "cell_type": "code",
   "execution_count": 11,
   "id": "ab750768",
   "metadata": {},
   "outputs": [
    {
     "data": {
      "text/plain": [
       "{'dep_1': 'Jacinto', 'dep_2': ['Clara', 'Nidia', 'Thelma']}"
      ]
     },
     "execution_count": 11,
     "metadata": {},
     "output_type": "execute_result"
    }
   ],
   "source": [
    "dep_workers = {'dep_1': 'Jacinto', 'dep_2':['Clara', 'Nidia', 'Thelma']}\n",
    "dep_workers"
   ]
  },
  {
   "cell_type": "markdown",
   "id": "f872c1db",
   "metadata": {},
   "source": [
    "###### how many people works in apartment 1?"
   ]
  },
  {
   "cell_type": "code",
   "execution_count": 13,
   "id": "8e9d6c46",
   "metadata": {},
   "outputs": [
    {
     "data": {
      "text/plain": [
       "'Jacinto'"
      ]
     },
     "execution_count": 13,
     "metadata": {},
     "output_type": "execute_result"
    }
   ],
   "source": [
    "dep_workers['dep_1']"
   ]
  },
  {
   "cell_type": "markdown",
   "id": "543e48a6",
   "metadata": {},
   "source": [
    "###### how many people works in apartment 2?"
   ]
  },
  {
   "cell_type": "code",
   "execution_count": 14,
   "id": "fa2fde7f",
   "metadata": {},
   "outputs": [
    {
     "data": {
      "text/plain": [
       "['Clara', 'Nidia', 'Thelma']"
      ]
     },
     "execution_count": 14,
     "metadata": {},
     "output_type": "execute_result"
    }
   ],
   "source": [
    "dep_workers['dep_2']"
   ]
  },
  {
   "cell_type": "markdown",
   "id": "3a5a32cc",
   "metadata": {},
   "source": [
    "##### Another way to fill up a dictionary"
   ]
  },
  {
   "cell_type": "code",
   "execution_count": 20,
   "id": "31a1ead4",
   "metadata": {},
   "outputs": [],
   "source": [
    "Team = {}\n",
    "Team['Point Guard'] = 'Erick'\n",
    "Team['Shooting Guard'] = 'German'\n",
    "Team['Small Forward'] = 'Paolita'\n",
    "Team['Power Forward'] = 'Marcio'\n",
    "Team['Center'] = 'Francisco'"
   ]
  },
  {
   "cell_type": "code",
   "execution_count": 16,
   "id": "d2f7c2fe",
   "metadata": {},
   "outputs": [
    {
     "name": "stdout",
     "output_type": "stream",
     "text": [
      "{'Point Guard': 'Erick', 'Shooting Guard': 'German', 'Small Forwar': 'Paolita', 'Power Forward': 'Marcio', 'Center': 'Francisco'}\n"
     ]
    }
   ],
   "source": [
    "print(Team)"
   ]
  },
  {
   "cell_type": "markdown",
   "id": "0fe124de",
   "metadata": {},
   "source": [
    "**Center**"
   ]
  },
  {
   "cell_type": "code",
   "execution_count": 17,
   "id": "053941ec",
   "metadata": {},
   "outputs": [
    {
     "name": "stdout",
     "output_type": "stream",
     "text": [
      "Francisco\n"
     ]
    }
   ],
   "source": [
    "print(Team['Center'])"
   ]
  },
  {
   "cell_type": "markdown",
   "id": "b6ba7756",
   "metadata": {},
   "source": [
    "**Power Forward**"
   ]
  },
  {
   "cell_type": "code",
   "execution_count": 19,
   "id": "d9514003",
   "metadata": {},
   "outputs": [
    {
     "name": "stdout",
     "output_type": "stream",
     "text": [
      "Marcio\n"
     ]
    }
   ],
   "source": [
    "print(Team['Power Forward'])"
   ]
  },
  {
   "cell_type": "markdown",
   "id": "f032ed3b",
   "metadata": {},
   "source": [
    "**Small Forward**"
   ]
  },
  {
   "cell_type": "code",
   "execution_count": 21,
   "id": "993fda3f",
   "metadata": {},
   "outputs": [
    {
     "name": "stdout",
     "output_type": "stream",
     "text": [
      "Paolita\n"
     ]
    }
   ],
   "source": [
    "print(Team['Small Forward'])"
   ]
  },
  {
   "cell_type": "markdown",
   "id": "f3589a56",
   "metadata": {},
   "source": [
    "**Shooting Guard**"
   ]
  },
  {
   "cell_type": "code",
   "execution_count": 22,
   "id": "61c1299a",
   "metadata": {},
   "outputs": [
    {
     "name": "stdout",
     "output_type": "stream",
     "text": [
      "German\n"
     ]
    }
   ],
   "source": [
    "print(Team['Shooting Guard'])"
   ]
  },
  {
   "cell_type": "markdown",
   "id": "0d18018e",
   "metadata": {},
   "source": [
    "**Point Guard**"
   ]
  },
  {
   "cell_type": "code",
   "execution_count": 23,
   "id": "b8317e79",
   "metadata": {},
   "outputs": [
    {
     "name": "stdout",
     "output_type": "stream",
     "text": [
      "Erick\n"
     ]
    }
   ],
   "source": [
    "print(Team['Point Guard'])"
   ]
  },
  {
   "cell_type": "markdown",
   "id": "4f2e835a",
   "metadata": {},
   "source": [
    "**Python Feature** "
   ]
  },
  {
   "cell_type": "code",
   "execution_count": 24,
   "id": "756cbf51",
   "metadata": {},
   "outputs": [
    {
     "name": "stdout",
     "output_type": "stream",
     "text": [
      "Paolita\n"
     ]
    }
   ],
   "source": [
    "print(Team.get('Small Forward'))"
   ]
  },
  {
   "cell_type": "code",
   "execution_count": 26,
   "id": "be205387",
   "metadata": {},
   "outputs": [
    {
     "name": "stdout",
     "output_type": "stream",
     "text": [
      "None\n"
     ]
    }
   ],
   "source": [
    "# the name not exist in the dict\n",
    "print(Team.get('Coach')) "
   ]
  },
  {
   "cell_type": "code",
   "execution_count": null,
   "id": "8ad94374",
   "metadata": {},
   "outputs": [],
   "source": []
  }
 ],
 "metadata": {
  "kernelspec": {
   "display_name": "Python 3 (ipykernel)",
   "language": "python",
   "name": "python3"
  },
  "language_info": {
   "codemirror_mode": {
    "name": "ipython",
    "version": 3
   },
   "file_extension": ".py",
   "mimetype": "text/x-python",
   "name": "python",
   "nbconvert_exporter": "python",
   "pygments_lexer": "ipython3",
   "version": "3.8.3"
  }
 },
 "nbformat": 4,
 "nbformat_minor": 5
}
