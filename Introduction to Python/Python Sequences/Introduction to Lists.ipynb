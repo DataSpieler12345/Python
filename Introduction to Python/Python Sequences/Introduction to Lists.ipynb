{
 "cells": [
  {
   "cell_type": "code",
   "execution_count": 1,
   "id": "03cdf1f1",
   "metadata": {},
   "outputs": [
    {
     "data": {
      "text/plain": [
       "['Jonathan', 'Ramon', 'German', 'Giovani']"
      ]
     },
     "execution_count": 1,
     "metadata": {},
     "output_type": "execute_result"
    }
   ],
   "source": [
    "Participants = ['Jonathan', 'Ramon', 'German', 'Giovani']\n",
    "Participants"
   ]
  },
  {
   "cell_type": "markdown",
   "id": "a911448f",
   "metadata": {},
   "source": [
    "##### What is a List?\n",
    "A **list** is a type of sequence of data points(int, float or str)"
   ]
  },
  {
   "cell_type": "code",
   "execution_count": 4,
   "id": "b3456aa0",
   "metadata": {},
   "outputs": [
    {
     "name": "stdout",
     "output_type": "stream",
     "text": [
      "Ramon\n"
     ]
    }
   ],
   "source": [
    "# Extract the name Ramon of the list\n",
    "print(Participants[1])"
   ]
  },
  {
   "cell_type": "code",
   "execution_count": 5,
   "id": "b24062a7",
   "metadata": {},
   "outputs": [
    {
     "name": "stdout",
     "output_type": "stream",
     "text": [
      "Jonathan\n",
      "German\n",
      "Giovani\n"
     ]
    }
   ],
   "source": [
    "print(Participants[0])\n",
    "print(Participants[2])\n",
    "print(Participants[3])"
   ]
  },
  {
   "cell_type": "code",
   "execution_count": 6,
   "id": "94534dc9",
   "metadata": {},
   "outputs": [
    {
     "name": "stdout",
     "output_type": "stream",
     "text": [
      "Giovani\n"
     ]
    }
   ],
   "source": [
    "print(Participants[-1])"
   ]
  },
  {
   "cell_type": "code",
   "execution_count": 7,
   "id": "1e1b33d9",
   "metadata": {},
   "outputs": [
    {
     "name": "stdout",
     "output_type": "stream",
     "text": [
      "German\n"
     ]
    }
   ],
   "source": [
    "print(Participants[-2])"
   ]
  },
  {
   "cell_type": "code",
   "execution_count": 8,
   "id": "1f80a7da",
   "metadata": {},
   "outputs": [
    {
     "data": {
      "text/plain": [
       "['Jonathan', 'Ramon', 'German', 'Marcio']"
      ]
     },
     "execution_count": 8,
     "metadata": {},
     "output_type": "execute_result"
    }
   ],
   "source": [
    "#Replacing values Giovani to Marcio\n",
    "Participants[3] = 'Marcio'\n",
    "Participants"
   ]
  },
  {
   "cell_type": "code",
   "execution_count": 9,
   "id": "d2c2a770",
   "metadata": {},
   "outputs": [
    {
     "data": {
      "text/plain": [
       "['Jonathan', 'Ramon', 'Marcio']"
      ]
     },
     "execution_count": 9,
     "metadata": {},
     "output_type": "execute_result"
    }
   ],
   "source": [
    "# Deleting German\n",
    "del Participants[2]\n",
    "Participants"
   ]
  },
  {
   "cell_type": "code",
   "execution_count": 10,
   "id": "db98793a",
   "metadata": {},
   "outputs": [
    {
     "name": "stdout",
     "output_type": "stream",
     "text": [
      "Marcio\n"
     ]
    }
   ],
   "source": [
    "print(Participants[2])"
   ]
  },
  {
   "cell_type": "code",
   "execution_count": null,
   "id": "f17d21e9",
   "metadata": {},
   "outputs": [],
   "source": []
  }
 ],
 "metadata": {
  "kernelspec": {
   "display_name": "Python 3 (ipykernel)",
   "language": "python",
   "name": "python3"
  },
  "language_info": {
   "codemirror_mode": {
    "name": "ipython",
    "version": 3
   },
   "file_extension": ".py",
   "mimetype": "text/x-python",
   "name": "python",
   "nbconvert_exporter": "python",
   "pygments_lexer": "ipython3",
   "version": "3.8.3"
  }
 },
 "nbformat": 4,
 "nbformat_minor": 5
}
