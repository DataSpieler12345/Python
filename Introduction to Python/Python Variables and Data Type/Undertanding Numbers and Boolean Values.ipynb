{
 "cells": [
  {
   "cell_type": "code",
   "execution_count": 1,
   "id": "38d37891",
   "metadata": {},
   "outputs": [],
   "source": [
    "#integer\n",
    "x1 = 5"
   ]
  },
  {
   "cell_type": "code",
   "execution_count": 2,
   "id": "b3c120a8",
   "metadata": {},
   "outputs": [
    {
     "data": {
      "text/plain": [
       "int"
      ]
     },
     "execution_count": 2,
     "metadata": {},
     "output_type": "execute_result"
    }
   ],
   "source": [
    "#check the data type\n",
    "type(x1)"
   ]
  },
  {
   "cell_type": "code",
   "execution_count": 3,
   "id": "4d939bc1",
   "metadata": {},
   "outputs": [
    {
     "data": {
      "text/plain": [
       "int"
      ]
     },
     "execution_count": 3,
     "metadata": {},
     "output_type": "execute_result"
    }
   ],
   "source": [
    "type(-6)"
   ]
  },
  {
   "cell_type": "code",
   "execution_count": 5,
   "id": "7e9d8166",
   "metadata": {},
   "outputs": [
    {
     "data": {
      "text/plain": [
       "float"
      ]
     },
     "execution_count": 5,
     "metadata": {},
     "output_type": "execute_result"
    }
   ],
   "source": [
    "#float\n",
    "x2= 4.75\n",
    "type(x2)"
   ]
  },
  {
   "cell_type": "code",
   "execution_count": null,
   "id": "6b51424a",
   "metadata": {},
   "outputs": [],
   "source": [
    "int(x)"
   ]
  }
 ],
 "metadata": {
  "kernelspec": {
   "display_name": "Python 3 (ipykernel)",
   "language": "python",
   "name": "python3"
  },
  "language_info": {
   "codemirror_mode": {
    "name": "ipython",
    "version": 3
   },
   "file_extension": ".py",
   "mimetype": "text/x-python",
   "name": "python",
   "nbconvert_exporter": "python",
   "pygments_lexer": "ipython3",
   "version": "3.8.3"
  }
 },
 "nbformat": 4,
 "nbformat_minor": 5
}
