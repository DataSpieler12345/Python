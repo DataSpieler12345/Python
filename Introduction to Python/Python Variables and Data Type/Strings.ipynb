{
 "cells": [
  {
   "cell_type": "code",
   "execution_count": 1,
   "id": "b1d4e8ba",
   "metadata": {},
   "outputs": [],
   "source": [
    "x = \"George\""
   ]
  },
  {
   "cell_type": "code",
   "execution_count": 2,
   "id": "8e611d5d",
   "metadata": {},
   "outputs": [
    {
     "data": {
      "text/plain": [
       "'George'"
      ]
     },
     "execution_count": 2,
     "metadata": {},
     "output_type": "execute_result"
    }
   ],
   "source": [
    "x"
   ]
  },
  {
   "cell_type": "code",
   "execution_count": 3,
   "id": "fd837dac",
   "metadata": {},
   "outputs": [
    {
     "data": {
      "text/plain": [
       "'George'"
      ]
     },
     "execution_count": 3,
     "metadata": {},
     "output_type": "execute_result"
    }
   ],
   "source": [
    "#other way\n",
    "'George'"
   ]
  },
  {
   "cell_type": "code",
   "execution_count": 4,
   "id": "6123f684",
   "metadata": {},
   "outputs": [
    {
     "data": {
      "text/plain": [
       "'Goerge'"
      ]
     },
     "execution_count": 4,
     "metadata": {},
     "output_type": "execute_result"
    }
   ],
   "source": [
    "\"Goerge\""
   ]
  },
  {
   "cell_type": "code",
   "execution_count": 5,
   "id": "3e7161bf",
   "metadata": {},
   "outputs": [
    {
     "name": "stdout",
     "output_type": "stream",
     "text": [
      "George\n",
      "George\n"
     ]
    }
   ],
   "source": [
    "print(\"George\")\n",
    "print('George')"
   ]
  },
  {
   "cell_type": "code",
   "execution_count": 7,
   "id": "535dfbab",
   "metadata": {},
   "outputs": [
    {
     "name": "stdout",
     "output_type": "stream",
     "text": [
      "10 Dollars\n"
     ]
    }
   ],
   "source": [
    "y = 10\n",
    "print(str(y) + \" Dollars\" )"
   ]
  },
  {
   "cell_type": "code",
   "execution_count": 8,
   "id": "544c0db6",
   "metadata": {},
   "outputs": [
    {
     "data": {
      "text/plain": [
       "'I\\\\m fine'"
      ]
     },
     "execution_count": 8,
     "metadata": {},
     "output_type": "execute_result"
    }
   ],
   "source": [
    "# \\ escape character\n",
    "'I\\m fine'"
   ]
  },
  {
   "cell_type": "code",
   "execution_count": 9,
   "id": "8c20cee9",
   "metadata": {},
   "outputs": [
    {
     "data": {
      "text/plain": [
       "\"I'm fine\""
      ]
     },
     "execution_count": 9,
     "metadata": {},
     "output_type": "execute_result"
    }
   ],
   "source": [
    "\"I'm fine\""
   ]
  },
  {
   "cell_type": "code",
   "execution_count": 10,
   "id": "76a8b6f2",
   "metadata": {},
   "outputs": [
    {
     "data": {
      "text/plain": [
       "'Press \"Enter\"'"
      ]
     },
     "execution_count": 10,
     "metadata": {},
     "output_type": "execute_result"
    }
   ],
   "source": [
    "'Press \"Enter\"'"
   ]
  },
  {
   "cell_type": "code",
   "execution_count": 11,
   "id": "4a32e91d",
   "metadata": {},
   "outputs": [
    {
     "data": {
      "text/plain": [
       "'Redcar'"
      ]
     },
     "execution_count": 11,
     "metadata": {},
     "output_type": "execute_result"
    }
   ],
   "source": [
    "'Red' 'car'"
   ]
  },
  {
   "cell_type": "code",
   "execution_count": null,
   "id": "7f001d95",
   "metadata": {},
   "outputs": [],
   "source": [
    "'Red ' ''"
   ]
  }
 ],
 "metadata": {
  "kernelspec": {
   "display_name": "Python 3 (ipykernel)",
   "language": "python",
   "name": "python3"
  },
  "language_info": {
   "codemirror_mode": {
    "name": "ipython",
    "version": 3
   },
   "file_extension": ".py",
   "mimetype": "text/x-python",
   "name": "python",
   "nbconvert_exporter": "python",
   "pygments_lexer": "ipython3",
   "version": "3.8.3"
  }
 },
 "nbformat": 4,
 "nbformat_minor": 5
}
