{
 "cells": [
  {
   "cell_type": "code",
   "execution_count": 5,
   "id": "25525b33",
   "metadata": {},
   "outputs": [
    {
     "name": "stdout",
     "output_type": "stream",
     "text": [
      "This is just a comment and not code!\n"
     ]
    }
   ],
   "source": [
    "# This is just a comment and not code!\n",
    "print(\"This is just a comment and not code!\")"
   ]
  },
  {
   "cell_type": "code",
   "execution_count": 6,
   "id": "51072246",
   "metadata": {},
   "outputs": [
    {
     "name": "stdout",
     "output_type": "stream",
     "text": [
      "comment 1\n",
      "comment 2\n"
     ]
    }
   ],
   "source": [
    "# comment 1\n",
    "print(\"comment 1\")\n",
    "# comment 2\n",
    "print(\"comment 2\")"
   ]
  },
  {
   "cell_type": "code",
   "execution_count": null,
   "id": "cc2041db",
   "metadata": {},
   "outputs": [],
   "source": []
  },
  {
   "cell_type": "code",
   "execution_count": null,
   "id": "4398c954",
   "metadata": {},
   "outputs": [],
   "source": []
  },
  {
   "cell_type": "code",
   "execution_count": null,
   "id": "72fe3547",
   "metadata": {},
   "outputs": [],
   "source": []
  }
 ],
 "metadata": {
  "kernelspec": {
   "display_name": "Python 3 (ipykernel)",
   "language": "python",
   "name": "python3"
  },
  "language_info": {
   "codemirror_mode": {
    "name": "ipython",
    "version": 3
   },
   "file_extension": ".py",
   "mimetype": "text/x-python",
   "name": "python",
   "nbconvert_exporter": "python",
   "pygments_lexer": "ipython3",
   "version": "3.8.3"
  }
 },
 "nbformat": 4,
 "nbformat_minor": 5
}
