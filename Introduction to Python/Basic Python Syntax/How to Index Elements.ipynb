{
 "cells": [
  {
   "cell_type": "code",
   "execution_count": 1,
   "id": "5211560c",
   "metadata": {},
   "outputs": [
    {
     "data": {
      "text/plain": [
       "'Friday'"
      ]
     },
     "execution_count": 1,
     "metadata": {},
     "output_type": "execute_result"
    }
   ],
   "source": [
    "'Friday'"
   ]
  },
  {
   "cell_type": "code",
   "execution_count": 4,
   "id": "5f7b1b3e",
   "metadata": {},
   "outputs": [
    {
     "data": {
      "text/plain": [
       "'F'"
      ]
     },
     "execution_count": 4,
     "metadata": {},
     "output_type": "execute_result"
    }
   ],
   "source": [
    "#Extract the letter d\n",
    "'Friday'[0]"
   ]
  },
  {
   "cell_type": "code",
   "execution_count": 5,
   "id": "f9fe86a9",
   "metadata": {},
   "outputs": [
    {
     "data": {
      "text/plain": [
       "'r'"
      ]
     },
     "execution_count": 5,
     "metadata": {},
     "output_type": "execute_result"
    }
   ],
   "source": [
    "\"Friday\"[1]"
   ]
  },
  {
   "cell_type": "code",
   "execution_count": 6,
   "id": "4b9513a0",
   "metadata": {},
   "outputs": [
    {
     "data": {
      "text/plain": [
       "'i'"
      ]
     },
     "execution_count": 6,
     "metadata": {},
     "output_type": "execute_result"
    }
   ],
   "source": [
    "'Friday'[2]"
   ]
  },
  {
   "cell_type": "code",
   "execution_count": 7,
   "id": "5748350f",
   "metadata": {},
   "outputs": [
    {
     "data": {
      "text/plain": [
       "'d'"
      ]
     },
     "execution_count": 7,
     "metadata": {},
     "output_type": "execute_result"
    }
   ],
   "source": [
    "\"Friday\"[3]"
   ]
  },
  {
   "cell_type": "code",
   "execution_count": 8,
   "id": "97144dba",
   "metadata": {},
   "outputs": [
    {
     "data": {
      "text/plain": [
       "'a'"
      ]
     },
     "execution_count": 8,
     "metadata": {},
     "output_type": "execute_result"
    }
   ],
   "source": [
    "'Friday'[4]\n"
   ]
  },
  {
   "cell_type": "code",
   "execution_count": 9,
   "id": "b93823f4",
   "metadata": {},
   "outputs": [
    {
     "data": {
      "text/plain": [
       "'y'"
      ]
     },
     "execution_count": 9,
     "metadata": {},
     "output_type": "execute_result"
    }
   ],
   "source": [
    "\"Friday\"[5]"
   ]
  },
  {
   "cell_type": "code",
   "execution_count": 11,
   "id": "b4a0db75",
   "metadata": {},
   "outputs": [
    {
     "name": "stdout",
     "output_type": "stream",
     "text": [
      "F\n",
      "r\n",
      "i\n",
      "d\n",
      "a\n",
      "y\n"
     ]
    }
   ],
   "source": [
    "print(\"Friday\"[0])\n",
    "print(\"Friday\"[1])\n",
    "print('Friday'[2])\n",
    "print(\"Friday\"[3])\n",
    "print('Friday'[4])\n",
    "print(\"Friday\"[5])"
   ]
  },
  {
   "cell_type": "code",
   "execution_count": 12,
   "id": "aafe79eb",
   "metadata": {},
   "outputs": [
    {
     "name": "stdout",
     "output_type": "stream",
     "text": [
      "y\n"
     ]
    }
   ],
   "source": [
    "print ('Holidays!'[6])"
   ]
  },
  {
   "cell_type": "code",
   "execution_count": null,
   "id": "b34cfff0",
   "metadata": {},
   "outputs": [],
   "source": []
  }
 ],
 "metadata": {
  "kernelspec": {
   "display_name": "Python 3 (ipykernel)",
   "language": "python",
   "name": "python3"
  },
  "language_info": {
   "codemirror_mode": {
    "name": "ipython",
    "version": 3
   },
   "file_extension": ".py",
   "mimetype": "text/x-python",
   "name": "python",
   "nbconvert_exporter": "python",
   "pygments_lexer": "ipython3",
   "version": "3.8.3"
  }
 },
 "nbformat": 4,
 "nbformat_minor": 5
}
