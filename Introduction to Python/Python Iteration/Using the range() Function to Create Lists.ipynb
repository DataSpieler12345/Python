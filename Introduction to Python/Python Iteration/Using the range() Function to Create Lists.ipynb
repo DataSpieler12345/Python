{
 "cells": [
  {
   "cell_type": "markdown",
   "id": "ecf2b2e4",
   "metadata": {},
   "source": [
    "**range(start, stop, step)** creates a sequences of integers\n",
    "\n",
    "**start** = The first number in the list\n",
    "\n",
    "**stop** = the last value +1 (are opcional)\n",
    "\n",
    "**step** = the distance between each two consecutive values"
   ]
  },
  {
   "cell_type": "code",
   "execution_count": 1,
   "id": "0eff6be9",
   "metadata": {},
   "outputs": [
    {
     "data": {
      "text/plain": [
       "range(0, 10)"
      ]
     },
     "execution_count": 1,
     "metadata": {},
     "output_type": "execute_result"
    }
   ],
   "source": [
    "range(10) #a range object"
   ]
  },
  {
   "cell_type": "markdown",
   "id": "d186a6cd",
   "metadata": {},
   "source": [
    "use **list(range(10))** to display the sequence as a list"
   ]
  },
  {
   "cell_type": "code",
   "execution_count": 2,
   "id": "5acad080",
   "metadata": {},
   "outputs": [
    {
     "data": {
      "text/plain": [
       "[0, 1, 2, 3, 4, 5, 6, 7, 8, 9]"
      ]
     },
     "execution_count": 2,
     "metadata": {},
     "output_type": "execute_result"
    }
   ],
   "source": [
    "list(range(10)) # to display the sequence as a list"
   ]
  },
  {
   "cell_type": "code",
   "execution_count": 3,
   "id": "1916a6cd",
   "metadata": {},
   "outputs": [
    {
     "data": {
      "text/plain": [
       "range(3, 7)"
      ]
     },
     "execution_count": 3,
     "metadata": {},
     "output_type": "execute_result"
    }
   ],
   "source": [
    "range(3,7)"
   ]
  },
  {
   "cell_type": "markdown",
   "id": "b3188edc",
   "metadata": {},
   "source": [
    "use **list(range(10))** to display the sequence as a list"
   ]
  },
  {
   "cell_type": "code",
   "execution_count": 4,
   "id": "4c0d840f",
   "metadata": {},
   "outputs": [
    {
     "data": {
      "text/plain": [
       "[3, 4, 5, 6]"
      ]
     },
     "execution_count": 4,
     "metadata": {},
     "output_type": "execute_result"
    }
   ],
   "source": [
    "list(range(3,7))"
   ]
  },
  {
   "cell_type": "markdown",
   "id": "a94e6910",
   "metadata": {},
   "source": [
    "**create** a list from 1-19 include / step 2"
   ]
  },
  {
   "cell_type": "code",
   "execution_count": 5,
   "id": "9628e307",
   "metadata": {},
   "outputs": [
    {
     "data": {
      "text/plain": [
       "range(1, 20, 2)"
      ]
     },
     "execution_count": 5,
     "metadata": {},
     "output_type": "execute_result"
    }
   ],
   "source": [
    "range(1,20,2)"
   ]
  },
  {
   "cell_type": "code",
   "execution_count": 6,
   "id": "9d64e0de",
   "metadata": {},
   "outputs": [
    {
     "data": {
      "text/plain": [
       "[1, 3, 5, 7, 9, 11, 13, 15, 17, 19]"
      ]
     },
     "execution_count": 6,
     "metadata": {},
     "output_type": "execute_result"
    }
   ],
   "source": [
    "list(range(1,20,2))"
   ]
  },
  {
   "cell_type": "code",
   "execution_count": null,
   "id": "92f8a093",
   "metadata": {},
   "outputs": [],
   "source": []
  }
 ],
 "metadata": {
  "kernelspec": {
   "display_name": "Python 3 (ipykernel)",
   "language": "python",
   "name": "python3"
  },
  "language_info": {
   "codemirror_mode": {
    "name": "ipython",
    "version": 3
   },
   "file_extension": ".py",
   "mimetype": "text/x-python",
   "name": "python",
   "nbconvert_exporter": "python",
   "pygments_lexer": "ipython3",
   "version": "3.8.3"
  }
 },
 "nbformat": 4,
 "nbformat_minor": 5
}
