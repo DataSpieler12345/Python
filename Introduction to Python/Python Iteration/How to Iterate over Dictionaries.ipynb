{
 "cells": [
  {
   "cell_type": "code",
   "execution_count": 1,
   "id": "638fb842",
   "metadata": {},
   "outputs": [],
   "source": [
    "prices = {\n",
    "    \"box_of_spaghetti\": 4,\n",
    "    \"lasagna\": 5,\n",
    "    \"hamburguer\": 2,\n",
    "}\n",
    "\n",
    "quantity ={\n",
    "    \"box_of_spaghetti\": 6,\n",
    "    \"lasagna\": 10,\n",
    "    \"hamburguer\": 0,  \n",
    "}\n",
    "\n"
   ]
  },
  {
   "cell_type": "markdown",
   "id": "bb68b296",
   "metadata": {},
   "source": [
    "#### how much did jean spend in the supermarket?\n",
    "\n",
    "money_spend = **price** * **quatity**\n",
    "\n",
    "**Dictionaries** with same estructure of labelsv + sames keys"
   ]
  },
  {
   "cell_type": "code",
   "execution_count": 2,
   "id": "2fb99f1b",
   "metadata": {},
   "outputs": [
    {
     "name": "stdout",
     "output_type": "stream",
     "text": [
      "74\n"
     ]
    }
   ],
   "source": [
    "money_spent = 0\n",
    "\n",
    "for i in prices:\n",
    "    money_spend = money_spend + (prices[i] * quantity[i])\n",
    "\n",
    "print(money_spend)"
   ]
  },
  {
   "cell_type": "code",
   "execution_count": null,
   "id": "d3f876ab",
   "metadata": {},
   "outputs": [],
   "source": []
  }
 ],
 "metadata": {
  "kernelspec": {
   "display_name": "Python 3 (ipykernel)",
   "language": "python",
   "name": "python3"
  },
  "language_info": {
   "codemirror_mode": {
    "name": "ipython",
    "version": 3
   },
   "file_extension": ".py",
   "mimetype": "text/x-python",
   "name": "python",
   "nbconvert_exporter": "python",
   "pygments_lexer": "ipython3",
   "version": "3.8.3"
  }
 },
 "nbformat": 4,
 "nbformat_minor": 5
}
