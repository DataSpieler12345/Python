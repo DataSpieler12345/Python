{
 "cells": [
  {
   "cell_type": "code",
   "execution_count": 5,
   "id": "2579632a",
   "metadata": {},
   "outputs": [],
   "source": [
    "def wage(w_hours): #function to function\n",
    "    return w_hours * 25\n",
    "\n",
    "def with_bonus(w_hours):\n",
    "    return wage(w_hours) + 50 #function to function"
   ]
  },
  {
   "cell_type": "code",
   "execution_count": 7,
   "id": "7766c612",
   "metadata": {},
   "outputs": [
    {
     "data": {
      "text/plain": [
       "(200, 175)"
      ]
     },
     "execution_count": 7,
     "metadata": {},
     "output_type": "execute_result"
    }
   ],
   "source": [
    "wage(8), with_bonus(5)"
   ]
  },
  {
   "cell_type": "code",
   "execution_count": null,
   "id": "6eac3a18",
   "metadata": {},
   "outputs": [],
   "source": []
  }
 ],
 "metadata": {
  "kernelspec": {
   "display_name": "Python 3 (ipykernel)",
   "language": "python",
   "name": "python3"
  },
  "language_info": {
   "codemirror_mode": {
    "name": "ipython",
    "version": 3
   },
   "file_extension": ".py",
   "mimetype": "text/x-python",
   "name": "python",
   "nbconvert_exporter": "python",
   "pygments_lexer": "ipython3",
   "version": "3.8.3"
  }
 },
 "nbformat": 4,
 "nbformat_minor": 5
}
