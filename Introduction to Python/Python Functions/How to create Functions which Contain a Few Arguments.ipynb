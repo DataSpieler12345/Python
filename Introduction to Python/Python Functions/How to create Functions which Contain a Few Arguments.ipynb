{
 "cells": [
  {
   "cell_type": "code",
   "execution_count": 4,
   "id": "80938437",
   "metadata": {},
   "outputs": [],
   "source": [
    "# to write all the items \n",
    "\n",
    "def subtract_tc(a,b,c): #order matters!\n",
    "    result = a -b*c\n",
    "    print('Parameter a equals', a)\n",
    "    print('Parameter b equals', b)\n",
    "    print('Parameter c equals', c)\n",
    "    return result"
   ]
  },
  {
   "cell_type": "code",
   "execution_count": 5,
   "id": "98bfc98c",
   "metadata": {},
   "outputs": [
    {
     "name": "stdout",
     "output_type": "stream",
     "text": [
      "Parameter a equals 10\n",
      "Parameter b equals 3\n",
      "Parameter c equals 2\n"
     ]
    },
    {
     "data": {
      "text/plain": [
       "4"
      ]
     },
     "execution_count": 5,
     "metadata": {},
     "output_type": "execute_result"
    }
   ],
   "source": [
    "subtract_tc(10,3,2) # a - b*c = 10 -3*2 = 4"
   ]
  },
  {
   "cell_type": "code",
   "execution_count": 7,
   "id": "4b61f698",
   "metadata": {},
   "outputs": [
    {
     "name": "stdout",
     "output_type": "stream",
     "text": [
      "Parameter a equals 10\n",
      "Parameter b equals 3\n",
      "Parameter c equals 2\n"
     ]
    },
    {
     "data": {
      "text/plain": [
       "4"
      ]
     },
     "execution_count": 7,
     "metadata": {},
     "output_type": "execute_result"
    }
   ],
   "source": [
    "subtract_tc(b=3,a=10,c=2)"
   ]
  },
  {
   "cell_type": "code",
   "execution_count": null,
   "id": "50e81dea",
   "metadata": {},
   "outputs": [],
   "source": []
  }
 ],
 "metadata": {
  "kernelspec": {
   "display_name": "Python 3 (ipykernel)",
   "language": "python",
   "name": "python3"
  },
  "language_info": {
   "codemirror_mode": {
    "name": "ipython",
    "version": 3
   },
   "file_extension": ".py",
   "mimetype": "text/x-python",
   "name": "python",
   "nbconvert_exporter": "python",
   "pygments_lexer": "ipython3",
   "version": "3.8.3"
  }
 },
 "nbformat": 4,
 "nbformat_minor": 5
}
