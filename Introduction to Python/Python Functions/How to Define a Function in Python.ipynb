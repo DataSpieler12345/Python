{
 "cells": [
  {
   "cell_type": "code",
   "execution_count": 1,
   "id": "64d13d04",
   "metadata": {},
   "outputs": [],
   "source": [
    "def simple():\n",
    "    print(\"My first function\")"
   ]
  },
  {
   "cell_type": "code",
   "execution_count": 2,
   "id": "e6cdd327",
   "metadata": {},
   "outputs": [
    {
     "name": "stdout",
     "output_type": "stream",
     "text": [
      "My first function\n"
     ]
    }
   ],
   "source": [
    "simple()"
   ]
  },
  {
   "cell_type": "code",
   "execution_count": null,
   "id": "b4f379da",
   "metadata": {},
   "outputs": [],
   "source": []
  }
 ],
 "metadata": {
  "kernelspec": {
   "display_name": "Python 3 (ipykernel)",
   "language": "python",
   "name": "python3"
  },
  "language_info": {
   "codemirror_mode": {
    "name": "ipython",
    "version": 3
   },
   "file_extension": ".py",
   "mimetype": "text/x-python",
   "name": "python",
   "nbconvert_exporter": "python",
   "pygments_lexer": "ipython3",
   "version": "3.8.3"
  }
 },
 "nbformat": 4,
 "nbformat_minor": 5
}
