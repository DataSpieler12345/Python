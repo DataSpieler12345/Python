{
 "cells": [
  {
   "cell_type": "markdown",
   "id": "d7520742",
   "metadata": {},
   "source": [
    "**Logical Objects in Python** = Floats, Strings, Integers, Lists...\n",
    "\n",
    "**OOP Programming Language** = Java, php, Python, C++\n",
    "\n",
    "**Object** = Data + Manipulations Operations"
   ]
  },
  {
   "cell_type": "markdown",
   "id": "822c5f1f",
   "metadata": {},
   "source": [
    "### Class / Attributtes / Methods"
   ]
  },
  {
   "cell_type": "markdown",
   "id": "f94b2db3",
   "metadata": {},
   "source": [
    "**Class** = defines the rules for creating that objetc\n",
    "\n",
    "**object**\n",
    "\n",
    "**Attributes** = what define the object (color, size, type....)\n",
    "\n",
    "**Methods** = apply to the object, it could be a operation like (example a bike object --- as Method = .turn_left(), .turn_right(), .slow_down(), .accelarte()"
   ]
  },
  {
   "cell_type": "markdown",
   "id": "6884c943",
   "metadata": {},
   "source": [
    "<hr>\n"
   ]
  },
  {
   "cell_type": "markdown",
   "id": "6b9aa28d",
   "metadata": {},
   "source": [
    "#### Diff between Function  vs Method"
   ]
  },
  {
   "cell_type": "markdown",
   "id": "e9fe6722",
   "metadata": {},
   "source": [
    "**Method** is a special function /the objetc is one of its parameters / belong to a certain class / **syntax** = object.method()"
   ]
  },
  {
   "cell_type": "markdown",
   "id": "7f867163",
   "metadata": {},
   "source": [
    "**Function** can have many parameters / exists on its own / **syntax** = function()"
   ]
  },
  {
   "cell_type": "code",
   "execution_count": null,
   "id": "635646a0",
   "metadata": {},
   "outputs": [],
   "source": []
  }
 ],
 "metadata": {
  "kernelspec": {
   "display_name": "Python 3 (ipykernel)",
   "language": "python",
   "name": "python3"
  },
  "language_info": {
   "codemirror_mode": {
    "name": "ipython",
    "version": 3
   },
   "file_extension": ".py",
   "mimetype": "text/x-python",
   "name": "python",
   "nbconvert_exporter": "python",
   "pygments_lexer": "ipython3",
   "version": "3.8.3"
  }
 },
 "nbformat": 4,
 "nbformat_minor": 5
}
