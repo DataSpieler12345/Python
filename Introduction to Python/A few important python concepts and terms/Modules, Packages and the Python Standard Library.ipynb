{
 "cells": [
  {
   "cell_type": "markdown",
   "id": "61b6aea5",
   "metadata": {},
   "source": [
    "**Module** = Pre-written code cotaining definitions of variables, functions, and classes\n",
    "\n",
    "##### Can be laded in all new programs\n",
    "                \n",
    "**Syntax** = import module"
   ]
  },
  {
   "cell_type": "markdown",
   "id": "dc82231a",
   "metadata": {},
   "source": [
    "<hr>\n"
   ]
  },
  {
   "cell_type": "markdown",
   "id": "53145095",
   "metadata": {},
   "source": [
    "**Package** = A collection/directory of related Python modules\n",
    "\n",
    "##### The community has developed a growing set of packages for various types of professions and specializations\n",
    "\n",
    "**Syntax** = Library = package\n",
    "\n"
   ]
  },
  {
   "cell_type": "markdown",
   "id": "fd33cf35",
   "metadata": {},
   "source": [
    "<hr>\n",
    "<hr>\n"
   ]
  },
  {
   "cell_type": "markdown",
   "id": "2845c0a0",
   "metadata": {},
   "source": [
    "**Python Standard Library** = A collection of modules available as soon as you install Python\n",
    "\n",
    "**Len Function** (def len()...return...)\n",
    "\n",
    "**Class list** (class list():....)\n",
    "\n",
    "##### Pre-written code that is easily incorporated in your work"
   ]
  },
  {
   "cell_type": "markdown",
   "id": "96a64148",
   "metadata": {},
   "source": [
    "<hr>\n",
    "<hr>\n"
   ]
  },
  {
   "cell_type": "markdown",
   "id": "a5ba5c05",
   "metadata": {},
   "source": [
    "##### How can we have acces to their pre-written code?"
   ]
  },
  {
   "cell_type": "markdown",
   "id": "1cff68b5",
   "metadata": {},
   "source": [
    "**Not mandatory** to install all modules - just the ones you need"
   ]
  },
  {
   "cell_type": "markdown",
   "id": "e3fa9dec",
   "metadata": {},
   "source": [
    "###### example\n",
    "\n",
    "**Statistician** would need statistical functions and methods\n",
    "\n",
    "**Data Analyst** would need Package which helps with organizing data into tables"
   ]
  },
  {
   "cell_type": "markdown",
   "id": "32cf21a6",
   "metadata": {},
   "source": [
    "<hr>\n",
    "<hr>\n"
   ]
  },
  {
   "cell_type": "markdown",
   "id": "a8de0368",
   "metadata": {},
   "source": [
    "#### High-performance tool for quantitative analysis"
   ]
  },
  {
   "cell_type": "markdown",
   "id": "5a45ff00",
   "metadata": {},
   "source": [
    "**pandas** / free"
   ]
  },
  {
   "cell_type": "code",
   "execution_count": null,
   "id": "0889d525",
   "metadata": {},
   "outputs": [],
   "source": []
  }
 ],
 "metadata": {
  "kernelspec": {
   "display_name": "Python 3 (ipykernel)",
   "language": "python",
   "name": "python3"
  },
  "language_info": {
   "codemirror_mode": {
    "name": "ipython",
    "version": 3
   },
   "file_extension": ".py",
   "mimetype": "text/x-python",
   "name": "python",
   "nbconvert_exporter": "python",
   "pygments_lexer": "ipython3",
   "version": "3.8.3"
  }
 },
 "nbformat": 4,
 "nbformat_minor": 5
}
