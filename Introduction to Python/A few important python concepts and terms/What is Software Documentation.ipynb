{
 "cells": [
  {
   "cell_type": "markdown",
   "id": "303ba54f",
   "metadata": {},
   "source": [
    "##### A programming Language has documentation\n",
    "\n",
    "**software documentation** = A collection of information stored as written text, illustrations, or both, which accompanies the features of the software tool and assists its users"
   ]
  },
  {
   "cell_type": "code",
   "execution_count": null,
   "id": "728dd20c",
   "metadata": {},
   "outputs": [
    {
     "name": "stdout",
     "output_type": "stream",
     "text": [
      "\n",
      "Welcome to Python 3.8's help utility!\n",
      "\n",
      "If this is your first time using Python, you should definitely check out\n",
      "the tutorial on the Internet at https://docs.python.org/3.8/tutorial/.\n",
      "\n",
      "Enter the name of any module, keyword, or topic to get help on writing\n",
      "Python programs and using Python modules.  To quit this help utility and\n",
      "return to the interpreter, just type \"quit\".\n",
      "\n",
      "To get a list of available modules, keywords, symbols, or topics, type\n",
      "\"modules\", \"keywords\", \"symbols\", or \"topics\".  Each module also comes\n",
      "with a one-line summary of what it does; to list the modules whose name\n",
      "or summary contain a given string such as \"spam\", type \"modules spam\".\n",
      "\n"
     ]
    }
   ],
   "source": [
    "help()"
   ]
  },
  {
   "cell_type": "markdown",
   "id": "5384522d",
   "metadata": {},
   "source": [
    "#### factors to consider\n",
    "\n",
    "**Volumne of memory usage**\n",
    "\n",
    "**Speed of execution**\n",
    "\n",
    "**Risk of data loss**\n",
    "\n",
    "**Making analytical decisions**"
   ]
  },
  {
   "cell_type": "code",
   "execution_count": null,
   "id": "7e20c57f",
   "metadata": {},
   "outputs": [],
   "source": []
  }
 ],
 "metadata": {
  "kernelspec": {
   "display_name": "Python 3 (ipykernel)",
   "language": "python",
   "name": "python3"
  },
  "language_info": {
   "codemirror_mode": {
    "name": "ipython",
    "version": 3
   },
   "file_extension": ".py",
   "mimetype": "text/x-python",
   "name": "python",
   "nbconvert_exporter": "python",
   "pygments_lexer": "ipython3",
   "version": "3.8.3"
  }
 },
 "nbformat": 4,
 "nbformat_minor": 5
}
