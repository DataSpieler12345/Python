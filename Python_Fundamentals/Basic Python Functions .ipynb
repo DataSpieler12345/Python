{
 "cells": [
  {
   "cell_type": "code",
   "execution_count": 2,
   "id": "4ba52ecb",
   "metadata": {},
   "outputs": [],
   "source": [
    "#Functions\n",
    "def welcome_home():\n",
    "    print(\"Welcome\")\n",
    "    print(\"home\")\n",
    "    print(\"friend!\")"
   ]
  },
  {
   "cell_type": "code",
   "execution_count": 3,
   "id": "e7cb2216",
   "metadata": {},
   "outputs": [
    {
     "name": "stdout",
     "output_type": "stream",
     "text": [
      "Welcome\n",
      "home\n",
      "friend!\n"
     ]
    }
   ],
   "source": [
    "welcome_home()"
   ]
  },
  {
   "cell_type": "code",
   "execution_count": null,
   "id": "b53e530a",
   "metadata": {},
   "outputs": [],
   "source": [
    "#new definition"
   ]
  },
  {
   "cell_type": "code",
   "execution_count": 6,
   "id": "d96adebb",
   "metadata": {},
   "outputs": [],
   "source": [
    "def welcome_you(name = \"Guest\"):\n",
    "    print(\"Welcome home {}\".format(name))"
   ]
  },
  {
   "cell_type": "code",
   "execution_count": 9,
   "id": "475e4956",
   "metadata": {},
   "outputs": [
    {
     "name": "stdout",
     "output_type": "stream",
     "text": [
      "Welcome home Franz\n"
     ]
    }
   ],
   "source": [
    "welcome_you(\"Franz\")"
   ]
  },
  {
   "cell_type": "code",
   "execution_count": 10,
   "id": "9d56fbe3",
   "metadata": {},
   "outputs": [],
   "source": [
    "#add numbs\n",
    "def add_nums(x,y):\n",
    "    return x+y"
   ]
  },
  {
   "cell_type": "code",
   "execution_count": 11,
   "id": "9bf1ce2c",
   "metadata": {},
   "outputs": [
    {
     "data": {
      "text/plain": [
       "15"
      ]
     },
     "execution_count": 11,
     "metadata": {},
     "output_type": "execute_result"
    }
   ],
   "source": [
    "add_nums(5,10)"
   ]
  },
  {
   "cell_type": "code",
   "execution_count": 12,
   "id": "ff87db76",
   "metadata": {},
   "outputs": [
    {
     "data": {
      "text/plain": [
       "-42"
      ]
     },
     "execution_count": 12,
     "metadata": {},
     "output_type": "execute_result"
    }
   ],
   "source": [
    "add_nums(5,10)-57"
   ]
  },
  {
   "cell_type": "code",
   "execution_count": 13,
   "id": "a6c6aff0",
   "metadata": {},
   "outputs": [
    {
     "data": {
      "text/plain": [
       "-42.234834"
      ]
     },
     "execution_count": 13,
     "metadata": {},
     "output_type": "execute_result"
    }
   ],
   "source": [
    "add_nums(5,10)-57.234834"
   ]
  },
  {
   "cell_type": "code",
   "execution_count": 14,
   "id": "04fdf727",
   "metadata": {},
   "outputs": [
    {
     "data": {
      "text/plain": [
       "225"
      ]
     },
     "execution_count": 14,
     "metadata": {},
     "output_type": "execute_result"
    }
   ],
   "source": [
    "add_nums(5,10)**2"
   ]
  },
  {
   "cell_type": "code",
   "execution_count": 15,
   "id": "52dee816",
   "metadata": {},
   "outputs": [],
   "source": [
    "# new definition\n",
    "\n",
    "def fancy_math(x,y,z):\n",
    "    return (x+y) ** z"
   ]
  },
  {
   "cell_type": "code",
   "execution_count": 16,
   "id": "1719cc54",
   "metadata": {},
   "outputs": [
    {
     "data": {
      "text/plain": [
       "49"
      ]
     },
     "execution_count": 16,
     "metadata": {},
     "output_type": "execute_result"
    }
   ],
   "source": [
    "fancy_math(3,4,2)"
   ]
  },
  {
   "cell_type": "code",
   "execution_count": 17,
   "id": "ba07691c",
   "metadata": {},
   "outputs": [],
   "source": [
    "#new definition only work with numerics values\n",
    "\n",
    "def num_check(number):\n",
    "    x = number % 2\n",
    "    if x == 0:\n",
    "        print(\"Even Number\")\n",
    "    else:\n",
    "        print(\"Odd Number\")"
   ]
  },
  {
   "cell_type": "code",
   "execution_count": 18,
   "id": "75ef0df6",
   "metadata": {},
   "outputs": [
    {
     "name": "stdout",
     "output_type": "stream",
     "text": [
      "Odd Number\n"
     ]
    }
   ],
   "source": [
    "num_check(7)"
   ]
  },
  {
   "cell_type": "code",
   "execution_count": 19,
   "id": "b8b42d44",
   "metadata": {},
   "outputs": [
    {
     "name": "stdout",
     "output_type": "stream",
     "text": [
      "Even Number\n"
     ]
    }
   ],
   "source": [
    "num_check(246)"
   ]
  },
  {
   "cell_type": "code",
   "execution_count": 20,
   "id": "aec7fbfb",
   "metadata": {},
   "outputs": [
    {
     "name": "stdout",
     "output_type": "stream",
     "text": [
      "Odd Number\n"
     ]
    }
   ],
   "source": [
    "num_check(55)"
   ]
  },
  {
   "cell_type": "code",
   "execution_count": 21,
   "id": "f0c3ff05",
   "metadata": {},
   "outputs": [
    {
     "name": "stdout",
     "output_type": "stream",
     "text": [
      "Odd Number\n"
     ]
    }
   ],
   "source": [
    "num_check(7.5)"
   ]
  },
  {
   "cell_type": "code",
   "execution_count": 22,
   "id": "a67801ec",
   "metadata": {},
   "outputs": [
    {
     "name": "stdout",
     "output_type": "stream",
     "text": [
      "Even Number\n"
     ]
    }
   ],
   "source": [
    "num_check(-2)"
   ]
  },
  {
   "cell_type": "code",
   "execution_count": null,
   "id": "30af4c7b",
   "metadata": {},
   "outputs": [],
   "source": []
  }
 ],
 "metadata": {
  "kernelspec": {
   "display_name": "Python 3 (ipykernel)",
   "language": "python",
   "name": "python3"
  },
  "language_info": {
   "codemirror_mode": {
    "name": "ipython",
    "version": 3
   },
   "file_extension": ".py",
   "mimetype": "text/x-python",
   "name": "python",
   "nbconvert_exporter": "python",
   "pygments_lexer": "ipython3",
   "version": "3.8.3"
  }
 },
 "nbformat": 4,
 "nbformat_minor": 5
}
