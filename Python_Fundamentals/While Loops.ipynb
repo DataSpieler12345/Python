{
 "cells": [
  {
   "cell_type": "code",
   "execution_count": null,
   "id": "ba6b8f7a",
   "metadata": {},
   "outputs": [],
   "source": [
    "# While Loops\n",
    "# Para crear diferentes operaciones matematicas \n",
    "# Para iterar"
   ]
  },
  {
   "cell_type": "code",
   "execution_count": 6,
   "id": "ede18b54",
   "metadata": {},
   "outputs": [
    {
     "name": "stdout",
     "output_type": "stream",
     "text": [
      "X is =0\n",
      "X is =1\n",
      "X is =2\n"
     ]
    }
   ],
   "source": [
    "x = 0\n",
    "\n",
    "while x < 3: \n",
    "    print(\"X is ={}\".format(x))\n",
    "    x = x + 1 #la posicion del print define el output de los datos | after print"
   ]
  },
  {
   "cell_type": "code",
   "execution_count": 7,
   "id": "69c63c5e",
   "metadata": {},
   "outputs": [
    {
     "name": "stdout",
     "output_type": "stream",
     "text": [
      "X is =1\n",
      "X is =2\n",
      "X is =3\n"
     ]
    }
   ],
   "source": [
    "x = 0\n",
    "\n",
    "while x < 3: \n",
    "    x = x + 1 #la posicion del print define el out de los datos | before print\n",
    "    print(\"X is ={}\".format(x))\n",
    "     "
   ]
  },
  {
   "cell_type": "code",
   "execution_count": 9,
   "id": "2e1b7faa",
   "metadata": {},
   "outputs": [
    {
     "name": "stdout",
     "output_type": "stream",
     "text": [
      "X is =0\n",
      "X is =1\n",
      "X is =2\n"
     ]
    }
   ],
   "source": [
    "x = 0\n",
    "\n",
    "while x < 3: \n",
    "    print(\"X is ={}\".format(x))\n",
    "    x += 1 #after print"
   ]
  },
  {
   "cell_type": "code",
   "execution_count": 10,
   "id": "773cc240",
   "metadata": {},
   "outputs": [
    {
     "name": "stdout",
     "output_type": "stream",
     "text": [
      "X is =1\n",
      "X is =2\n",
      "X is =3\n"
     ]
    }
   ],
   "source": [
    "x = 0\n",
    "\n",
    "while x < 3: \n",
    "    x += 1 #la posicion del print define el out de los datos | before print\n",
    "    print(\"X is ={}\".format(x))"
   ]
  },
  {
   "cell_type": "code",
   "execution_count": 11,
   "id": "4292bb36",
   "metadata": {},
   "outputs": [
    {
     "name": "stdout",
     "output_type": "stream",
     "text": [
      "X is : 0\n",
      "X is : 2\n",
      "X is : 4\n",
      "X ends here....\n"
     ]
    }
   ],
   "source": [
    "x = 0\n",
    "\n",
    "while x < 5:\n",
    "    print(\"X is : {}\".format(x))\n",
    "    x+=2\n",
    "else:\n",
    "    print(\"X ends here....\")"
   ]
  },
  {
   "cell_type": "code",
   "execution_count": 12,
   "id": "dc9b33b0",
   "metadata": {},
   "outputs": [
    {
     "name": "stdout",
     "output_type": "stream",
     "text": [
      "X is : 0\n",
      "X is : 2\n",
      "X is : 4\n",
      "X is : 6\n",
      "X is : 8\n",
      "X ends here....\n"
     ]
    }
   ],
   "source": [
    "x = 0\n",
    "\n",
    "while x < 10:\n",
    "    print(\"X is : {}\".format(x))\n",
    "    x+=2\n",
    "else:\n",
    "    print(\"X ends here....\")"
   ]
  },
  {
   "cell_type": "code",
   "execution_count": 14,
   "id": "1f3d12a8",
   "metadata": {},
   "outputs": [
    {
     "name": "stdout",
     "output_type": "stream",
     "text": [
      "X is : 0\n",
      "X is : 2\n",
      "X is : 4\n",
      "X is : 6\n",
      "X is : 8\n",
      "X is : 10\n",
      "X ends here....\n"
     ]
    }
   ],
   "source": [
    "x = 0\n",
    "\n",
    "while x <= 10:\n",
    "    print(\"X is : {}\".format(x))\n",
    "    x+=2\n",
    "else:\n",
    "    print(\"X ends here....\")"
   ]
  },
  {
   "cell_type": "code",
   "execution_count": 15,
   "id": "b70012d5",
   "metadata": {},
   "outputs": [
    {
     "name": "stdout",
     "output_type": "stream",
     "text": [
      "X ends here....\n"
     ]
    }
   ],
   "source": [
    "x = 0\n",
    "\n",
    "while x > 10:\n",
    "    print(\"X is : {}\".format(x))\n",
    "    x+=2\n",
    "else:\n",
    "    print(\"X ends here....\")"
   ]
  }
 ],
 "metadata": {
  "kernelspec": {
   "display_name": "Python 3 (ipykernel)",
   "language": "python",
   "name": "python3"
  },
  "language_info": {
   "codemirror_mode": {
    "name": "ipython",
    "version": 3
   },
   "file_extension": ".py",
   "mimetype": "text/x-python",
   "name": "python",
   "nbconvert_exporter": "python",
   "pygments_lexer": "ipython3",
   "version": "3.8.3"
  }
 },
 "nbformat": 4,
 "nbformat_minor": 5
}
