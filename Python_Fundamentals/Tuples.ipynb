{
 "cells": [
  {
   "cell_type": "code",
   "execution_count": null,
   "id": "155eb798",
   "metadata": {},
   "outputs": [],
   "source": [
    "#Tuples are similar to lists\n",
    "#The difference between the two is that we can not change the elements of a tuple once its assigned"
   ]
  },
  {
   "cell_type": "code",
   "execution_count": 1,
   "id": "e825c939",
   "metadata": {},
   "outputs": [],
   "source": [
    "new_list = [\"a\",\"b\",\"c\",\"d\",\"e\",\"f\"]"
   ]
  },
  {
   "cell_type": "code",
   "execution_count": 2,
   "id": "c13c9d1f",
   "metadata": {},
   "outputs": [
    {
     "data": {
      "text/plain": [
       "['a', 'b', 'c', 'd', 'e', 'f']"
      ]
     },
     "execution_count": 2,
     "metadata": {},
     "output_type": "execute_result"
    }
   ],
   "source": [
    "#[a:b] a is included as the first element, and wie slice everything before b\n",
    "new_list[:]"
   ]
  },
  {
   "cell_type": "code",
   "execution_count": null,
   "id": "b6730853",
   "metadata": {},
   "outputs": [],
   "source": [
    "#Creating a tuple"
   ]
  },
  {
   "cell_type": "code",
   "execution_count": 3,
   "id": "5148eea9",
   "metadata": {},
   "outputs": [],
   "source": [
    "tup_1=(1,2,3)"
   ]
  },
  {
   "cell_type": "code",
   "execution_count": 4,
   "id": "fbacf73d",
   "metadata": {},
   "outputs": [
    {
     "data": {
      "text/plain": [
       "tuple"
      ]
     },
     "execution_count": 4,
     "metadata": {},
     "output_type": "execute_result"
    }
   ],
   "source": [
    "type(tup_1)"
   ]
  },
  {
   "cell_type": "code",
   "execution_count": 6,
   "id": "e607d1da",
   "metadata": {},
   "outputs": [],
   "source": [
    "tup_2=(\"one\",\"two\",\"three\")"
   ]
  },
  {
   "cell_type": "code",
   "execution_count": 7,
   "id": "4341d97c",
   "metadata": {},
   "outputs": [
    {
     "data": {
      "text/plain": [
       "('one', 'two', 'three')"
      ]
     },
     "execution_count": 7,
     "metadata": {},
     "output_type": "execute_result"
    }
   ],
   "source": [
    "tup_2"
   ]
  },
  {
   "cell_type": "code",
   "execution_count": 8,
   "id": "efe3a39b",
   "metadata": {},
   "outputs": [
    {
     "data": {
      "text/plain": [
       "tuple"
      ]
     },
     "execution_count": 8,
     "metadata": {},
     "output_type": "execute_result"
    }
   ],
   "source": [
    "type(tup_2)"
   ]
  },
  {
   "cell_type": "code",
   "execution_count": null,
   "id": "86bb5772",
   "metadata": {},
   "outputs": [],
   "source": [
    "#Indexing in a Tuple"
   ]
  },
  {
   "cell_type": "code",
   "execution_count": 9,
   "id": "a8c8c169",
   "metadata": {},
   "outputs": [
    {
     "data": {
      "text/plain": [
       "2"
      ]
     },
     "execution_count": 9,
     "metadata": {},
     "output_type": "execute_result"
    }
   ],
   "source": [
    "tup_1[1]"
   ]
  },
  {
   "cell_type": "code",
   "execution_count": 10,
   "id": "93e2c4a4",
   "metadata": {},
   "outputs": [
    {
     "data": {
      "text/plain": [
       "3"
      ]
     },
     "execution_count": 10,
     "metadata": {},
     "output_type": "execute_result"
    }
   ],
   "source": [
    "tup_1[-1]"
   ]
  },
  {
   "cell_type": "code",
   "execution_count": 11,
   "id": "f60ce831",
   "metadata": {},
   "outputs": [
    {
     "data": {
      "text/plain": [
       "1"
      ]
     },
     "execution_count": 11,
     "metadata": {},
     "output_type": "execute_result"
    }
   ],
   "source": [
    "tup_1[0]"
   ]
  },
  {
   "cell_type": "code",
   "execution_count": 12,
   "id": "65ee86ce",
   "metadata": {},
   "outputs": [
    {
     "data": {
      "text/plain": [
       "3"
      ]
     },
     "execution_count": 12,
     "metadata": {},
     "output_type": "execute_result"
    }
   ],
   "source": [
    "len(tup_1)"
   ]
  },
  {
   "cell_type": "code",
   "execution_count": null,
   "id": "f35b85df",
   "metadata": {},
   "outputs": [],
   "source": []
  }
 ],
 "metadata": {
  "kernelspec": {
   "display_name": "Python 3 (ipykernel)",
   "language": "python",
   "name": "python3"
  },
  "language_info": {
   "codemirror_mode": {
    "name": "ipython",
    "version": 3
   },
   "file_extension": ".py",
   "mimetype": "text/x-python",
   "name": "python",
   "nbconvert_exporter": "python",
   "pygments_lexer": "ipython3",
   "version": "3.8.3"
  }
 },
 "nbformat": 4,
 "nbformat_minor": 5
}
