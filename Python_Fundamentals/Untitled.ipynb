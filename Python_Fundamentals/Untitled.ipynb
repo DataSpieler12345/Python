{
 "cells": [
  {
   "cell_type": "code",
   "execution_count": null,
   "id": "5167832e",
   "metadata": {},
   "outputs": [],
   "source": [
    "#Print Formatting "
   ]
  },
  {
   "cell_type": "code",
   "execution_count": 1,
   "id": "54cd271a",
   "metadata": {},
   "outputs": [],
   "source": [
    "x = 5"
   ]
  },
  {
   "cell_type": "code",
   "execution_count": 2,
   "id": "0566fd72",
   "metadata": {},
   "outputs": [
    {
     "name": "stdout",
     "output_type": "stream",
     "text": [
      "cat\n"
     ]
    }
   ],
   "source": [
    "print(\"cat\")"
   ]
  },
  {
   "cell_type": "code",
   "execution_count": 3,
   "id": "e5159358",
   "metadata": {},
   "outputs": [
    {
     "name": "stdout",
     "output_type": "stream",
     "text": [
      "cat5\n"
     ]
    }
   ],
   "source": [
    "print(\"cat\" + str(x))"
   ]
  },
  {
   "cell_type": "code",
   "execution_count": 4,
   "id": "48cbda9a",
   "metadata": {},
   "outputs": [
    {
     "name": "stdout",
     "output_type": "stream",
     "text": [
      "cat 5\n"
     ]
    }
   ],
   "source": [
    "print(\"cat\"+ \" \"+ str(x))"
   ]
  },
  {
   "cell_type": "code",
   "execution_count": 7,
   "id": "28ecb757",
   "metadata": {},
   "outputs": [
    {
     "ename": "TypeError",
     "evalue": "can only concatenate str (not \"int\") to str",
     "output_type": "error",
     "traceback": [
      "\u001b[1;31m---------------------------------------------------------------------------\u001b[0m",
      "\u001b[1;31mTypeError\u001b[0m                                 Traceback (most recent call last)",
      "Input \u001b[1;32mIn [7]\u001b[0m, in \u001b[0;36m<cell line: 1>\u001b[1;34m()\u001b[0m\n\u001b[1;32m----> 1\u001b[0m \u001b[38;5;28mprint\u001b[39m(\u001b[38;5;124;43m\"\u001b[39;49m\u001b[38;5;124;43mcat\u001b[39;49m\u001b[38;5;124;43m\"\u001b[39;49m\u001b[43m \u001b[49m\u001b[38;5;241;43m+\u001b[39;49m\u001b[43m \u001b[49m\u001b[43mx\u001b[49m)\n",
      "\u001b[1;31mTypeError\u001b[0m: can only concatenate str (not \"int\") to str"
     ]
    }
   ],
   "source": [
    "print(\"cat\" + x)"
   ]
  },
  {
   "cell_type": "code",
   "execution_count": 8,
   "id": "049675b6",
   "metadata": {},
   "outputs": [
    {
     "name": "stdout",
     "output_type": "stream",
     "text": [
      "This string is AWESOME\n"
     ]
    }
   ],
   "source": [
    "print(\"This string is {}\".format(\"AWESOME\"))"
   ]
  },
  {
   "cell_type": "code",
   "execution_count": 9,
   "id": "69e82acf",
   "metadata": {},
   "outputs": [
    {
     "name": "stdout",
     "output_type": "stream",
     "text": [
      "This string is AWESOME COOL QUICK\n"
     ]
    }
   ],
   "source": [
    "print(\"This string is {} {} {}\".format(\"AWESOME\", \"COOL\", \"QUICK\"))"
   ]
  },
  {
   "cell_type": "code",
   "execution_count": 10,
   "id": "4273af28",
   "metadata": {},
   "outputs": [
    {
     "name": "stdout",
     "output_type": "stream",
     "text": [
      "This string is QUICK QUICK AWESOME\n"
     ]
    }
   ],
   "source": [
    "print(\"This string is {2} {2} {0}\".format(\"AWESOME\", \"COOL\", \"QUICK\"))"
   ]
  },
  {
   "cell_type": "code",
   "execution_count": 11,
   "id": "c8e6e99e",
   "metadata": {},
   "outputs": [
    {
     "name": "stdout",
     "output_type": "stream",
     "text": [
      "This string is COOL COOL COOL\n"
     ]
    }
   ],
   "source": [
    "print(\"This string is {1} {1} {1}\".format(\"AWESOME\", \"COOL\", \"QUICK\"))"
   ]
  },
  {
   "cell_type": "code",
   "execution_count": 12,
   "id": "18082deb",
   "metadata": {},
   "outputs": [
    {
     "name": "stdout",
     "output_type": "stream",
     "text": [
      "This string is AWESOME AWESOME AWESOME\n"
     ]
    }
   ],
   "source": [
    "print(\"This string is {0} {0} {0}\".format(\"AWESOME\", \"COOL\", \"QUICK\"))"
   ]
  },
  {
   "cell_type": "code",
   "execution_count": 13,
   "id": "3eb94fd2",
   "metadata": {},
   "outputs": [
    {
     "name": "stdout",
     "output_type": "stream",
     "text": [
      "This string is QUICK QUICK QUICK\n"
     ]
    }
   ],
   "source": [
    "print(\"This string is {2} {2} {2}\".format(\"AWESOME\", \"COOL\", \"QUICK\"))"
   ]
  },
  {
   "cell_type": "code",
   "execution_count": null,
   "id": "bf1ba4e6",
   "metadata": {},
   "outputs": [],
   "source": [
    "#Dividiendo"
   ]
  },
  {
   "cell_type": "code",
   "execution_count": 14,
   "id": "6ce01e23",
   "metadata": {},
   "outputs": [],
   "source": [
    "res = 717/99"
   ]
  },
  {
   "cell_type": "code",
   "execution_count": 15,
   "id": "3f8d174c",
   "metadata": {},
   "outputs": [
    {
     "data": {
      "text/plain": [
       "7.242424242424242"
      ]
     },
     "execution_count": 15,
     "metadata": {},
     "output_type": "execute_result"
    }
   ],
   "source": [
    "res"
   ]
  },
  {
   "cell_type": "code",
   "execution_count": 16,
   "id": "dc360f16",
   "metadata": {},
   "outputs": [
    {
     "name": "stdout",
     "output_type": "stream",
     "text": [
      "The answer is 7.242424242424242\n"
     ]
    }
   ],
   "source": [
    "print(\"The answer is {}\".format(res))"
   ]
  },
  {
   "cell_type": "code",
   "execution_count": 17,
   "id": "6eafc398",
   "metadata": {},
   "outputs": [
    {
     "name": "stdout",
     "output_type": "stream",
     "text": [
      "The answer is 7.242424242424242\n"
     ]
    }
   ],
   "source": [
    "print(\"The answer is {r}\".format(r = res))"
   ]
  },
  {
   "cell_type": "code",
   "execution_count": 18,
   "id": "d986c5f8",
   "metadata": {},
   "outputs": [
    {
     "name": "stdout",
     "output_type": "stream",
     "text": [
      "The answer is 7.24242\n"
     ]
    }
   ],
   "source": [
    "print(\"The answer is {r:1.5f}\".format(r = res))"
   ]
  },
  {
   "cell_type": "code",
   "execution_count": 19,
   "id": "01c5ba3c",
   "metadata": {},
   "outputs": [
    {
     "name": "stdout",
     "output_type": "stream",
     "text": [
      "The answer is 7.242\n"
     ]
    }
   ],
   "source": [
    "print(\"The answer is {r:1.3f}\".format(r = res))"
   ]
  },
  {
   "cell_type": "code",
   "execution_count": 20,
   "id": "c9b7116f",
   "metadata": {},
   "outputs": [
    {
     "name": "stdout",
     "output_type": "stream",
     "text": [
      "The answer is 7.2\n"
     ]
    }
   ],
   "source": [
    "print(\"The answer is {r:1.1f}\".format(r = res))"
   ]
  },
  {
   "cell_type": "code",
   "execution_count": 21,
   "id": "245dac4e",
   "metadata": {},
   "outputs": [
    {
     "name": "stdout",
     "output_type": "stream",
     "text": [
      "The answer is    7.24242\n"
     ]
    }
   ],
   "source": [
    "print(\"The answer is {r:10.5f}\".format(r = res))"
   ]
  },
  {
   "cell_type": "code",
   "execution_count": null,
   "id": "65869ff0",
   "metadata": {},
   "outputs": [],
   "source": []
  }
 ],
 "metadata": {
  "kernelspec": {
   "display_name": "Python 3 (ipykernel)",
   "language": "python",
   "name": "python3"
  },
  "language_info": {
   "codemirror_mode": {
    "name": "ipython",
    "version": 3
   },
   "file_extension": ".py",
   "mimetype": "text/x-python",
   "name": "python",
   "nbconvert_exporter": "python",
   "pygments_lexer": "ipython3",
   "version": "3.8.3"
  }
 },
 "nbformat": 4,
 "nbformat_minor": 5
}
