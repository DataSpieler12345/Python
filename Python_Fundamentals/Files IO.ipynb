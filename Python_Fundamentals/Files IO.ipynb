{
 "cells": [
  {
   "cell_type": "code",
   "execution_count": null,
   "id": "978c0ae1",
   "metadata": {},
   "outputs": [],
   "source": [
    "#Files I|O"
   ]
  },
  {
   "cell_type": "code",
   "execution_count": 2,
   "id": "0c5cf10a",
   "metadata": {},
   "outputs": [
    {
     "name": "stdout",
     "output_type": "stream",
     "text": [
      "Writing new.text\n"
     ]
    }
   ],
   "source": [
    "%%writefile new.text\n",
    "This is a text file\n",
    "here is another line\n",
    "more information here "
   ]
  },
  {
   "cell_type": "code",
   "execution_count": 3,
   "id": "b7398620",
   "metadata": {},
   "outputs": [],
   "source": [
    "new = open(\"new.text\")"
   ]
  },
  {
   "cell_type": "code",
   "execution_count": 4,
   "id": "9ef61bb9",
   "metadata": {},
   "outputs": [
    {
     "data": {
      "text/plain": [
       "<_io.TextIOWrapper name='new.text' mode='r' encoding='cp1252'>"
      ]
     },
     "execution_count": 4,
     "metadata": {},
     "output_type": "execute_result"
    }
   ],
   "source": [
    "new"
   ]
  },
  {
   "cell_type": "code",
   "execution_count": 5,
   "id": "7b98a07e",
   "metadata": {},
   "outputs": [
    {
     "data": {
      "text/plain": [
       "_io.TextIOWrapper"
      ]
     },
     "execution_count": 5,
     "metadata": {},
     "output_type": "execute_result"
    }
   ],
   "source": [
    "type(new)"
   ]
  },
  {
   "cell_type": "code",
   "execution_count": 6,
   "id": "b6760a75",
   "metadata": {},
   "outputs": [
    {
     "data": {
      "text/plain": [
       "'C:\\\\Users\\\\Michael Pannwitz\\\\Desktop\\\\Python_EDegree'"
      ]
     },
     "execution_count": 6,
     "metadata": {},
     "output_type": "execute_result"
    }
   ],
   "source": [
    "pwd"
   ]
  },
  {
   "cell_type": "code",
   "execution_count": 8,
   "id": "f19b79c0",
   "metadata": {},
   "outputs": [
    {
     "data": {
      "text/plain": [
       "''"
      ]
     },
     "execution_count": 8,
     "metadata": {},
     "output_type": "execute_result"
    }
   ],
   "source": [
    "new.read()"
   ]
  },
  {
   "cell_type": "code",
   "execution_count": 9,
   "id": "bf329cdc",
   "metadata": {},
   "outputs": [
    {
     "data": {
      "text/plain": [
       "0"
      ]
     },
     "execution_count": 9,
     "metadata": {},
     "output_type": "execute_result"
    }
   ],
   "source": [
    "new.seek(0)"
   ]
  },
  {
   "cell_type": "code",
   "execution_count": 10,
   "id": "5c6c08be",
   "metadata": {},
   "outputs": [
    {
     "data": {
      "text/plain": [
       "'This is a text file\\nhere is another line\\nmore information here \\n'"
      ]
     },
     "execution_count": 10,
     "metadata": {},
     "output_type": "execute_result"
    }
   ],
   "source": [
    "new.read()"
   ]
  },
  {
   "cell_type": "code",
   "execution_count": 11,
   "id": "7c2a4005",
   "metadata": {},
   "outputs": [
    {
     "data": {
      "text/plain": [
       "0"
      ]
     },
     "execution_count": 11,
     "metadata": {},
     "output_type": "execute_result"
    }
   ],
   "source": [
    "new.seek(0)"
   ]
  },
  {
   "cell_type": "code",
   "execution_count": 13,
   "id": "661af809",
   "metadata": {},
   "outputs": [],
   "source": [
    "contents = new.read()"
   ]
  },
  {
   "cell_type": "code",
   "execution_count": 14,
   "id": "4180b6ce",
   "metadata": {},
   "outputs": [
    {
     "data": {
      "text/plain": [
       "str"
      ]
     },
     "execution_count": 14,
     "metadata": {},
     "output_type": "execute_result"
    }
   ],
   "source": [
    "type(contents)"
   ]
  },
  {
   "cell_type": "code",
   "execution_count": 15,
   "id": "7c864b68",
   "metadata": {},
   "outputs": [
    {
     "data": {
      "text/plain": [
       "'This is a text file\\nhere is another line\\nmore information here \\n'"
      ]
     },
     "execution_count": 15,
     "metadata": {},
     "output_type": "execute_result"
    }
   ],
   "source": [
    "contents"
   ]
  },
  {
   "cell_type": "code",
   "execution_count": 16,
   "id": "11b5f856",
   "metadata": {},
   "outputs": [
    {
     "data": {
      "text/plain": [
       "0"
      ]
     },
     "execution_count": 16,
     "metadata": {},
     "output_type": "execute_result"
    }
   ],
   "source": [
    "new.seek(0)"
   ]
  },
  {
   "cell_type": "code",
   "execution_count": 17,
   "id": "40ee3873",
   "metadata": {},
   "outputs": [],
   "source": [
    "cont2 = new.readlines()"
   ]
  },
  {
   "cell_type": "code",
   "execution_count": 18,
   "id": "7b0c143b",
   "metadata": {},
   "outputs": [
    {
     "data": {
      "text/plain": [
       "list"
      ]
     },
     "execution_count": 18,
     "metadata": {},
     "output_type": "execute_result"
    }
   ],
   "source": [
    "type(cont2)"
   ]
  },
  {
   "cell_type": "code",
   "execution_count": 19,
   "id": "fb8c237a",
   "metadata": {},
   "outputs": [
    {
     "data": {
      "text/plain": [
       "['This is a text file\\n', 'here is another line\\n', 'more information here \\n']"
      ]
     },
     "execution_count": 19,
     "metadata": {},
     "output_type": "execute_result"
    }
   ],
   "source": [
    "cont2"
   ]
  },
  {
   "cell_type": "code",
   "execution_count": 27,
   "id": "fb07aeb1",
   "metadata": {},
   "outputs": [],
   "source": [
    "new.close()"
   ]
  },
  {
   "cell_type": "code",
   "execution_count": 29,
   "id": "b66598d4",
   "metadata": {},
   "outputs": [
    {
     "name": "stdout",
     "output_type": "stream",
     "text": [
      "Writing newer.txt\n"
     ]
    }
   ],
   "source": [
    "%%writefile newer.txt\n",
    "This is a text file\n",
    "here is another line\n",
    "more information here "
   ]
  },
  {
   "cell_type": "code",
   "execution_count": 30,
   "id": "8145697a",
   "metadata": {},
   "outputs": [],
   "source": [
    "with open(\"newer.txt\")  as new_file:\n",
    "    this = new_file.readlines()"
   ]
  },
  {
   "cell_type": "code",
   "execution_count": 31,
   "id": "81a48a06",
   "metadata": {},
   "outputs": [
    {
     "data": {
      "text/plain": [
       "['This is a text file\\n', 'here is another line\\n', 'more information here \\n']"
      ]
     },
     "execution_count": 31,
     "metadata": {},
     "output_type": "execute_result"
    }
   ],
   "source": [
    "this\n"
   ]
  },
  {
   "cell_type": "code",
   "execution_count": null,
   "id": "74b6a3cc",
   "metadata": {},
   "outputs": [],
   "source": [
    "#r =read, w = write, a = append, r+ = read & write, w+ = writing and reading - overwrite existing or create new!"
   ]
  },
  {
   "cell_type": "code",
   "execution_count": 32,
   "id": "31dc5b68",
   "metadata": {},
   "outputs": [],
   "source": [
    "#new and better way\n",
    "with open(\"newer.txt\", mode = \"a\") as new_file:\n",
    "    new_file.write(\"\\nOUR NEW STUFF\")"
   ]
  },
  {
   "cell_type": "code",
   "execution_count": 33,
   "id": "10e37a92",
   "metadata": {},
   "outputs": [
    {
     "name": "stdout",
     "output_type": "stream",
     "text": [
      "This is a text file\n",
      "here is another line\n",
      "more information here \n",
      "\n",
      "OUR NEW STUFF\n"
     ]
    }
   ],
   "source": [
    "with open(\"newer.txt\", mode = \"r\") as new_file:\n",
    "    print(new_file.read())"
   ]
  },
  {
   "cell_type": "code",
   "execution_count": 34,
   "id": "506bd846",
   "metadata": {},
   "outputs": [],
   "source": [
    "with open(\"guess.txt\", mode = \"w\") as newest:\n",
    "    newest.write(\"BOOM BRAND NEW\")"
   ]
  },
  {
   "cell_type": "code",
   "execution_count": 35,
   "id": "c94140ca",
   "metadata": {},
   "outputs": [
    {
     "name": "stdout",
     "output_type": "stream",
     "text": [
      "BOOM BRAND NEW\n"
     ]
    }
   ],
   "source": [
    "with open(\"guess.txt\", mode = \"r\") as newest:\n",
    "    print(newest.read())"
   ]
  },
  {
   "cell_type": "code",
   "execution_count": null,
   "id": "3679a3b2",
   "metadata": {},
   "outputs": [],
   "source": []
  }
 ],
 "metadata": {
  "kernelspec": {
   "display_name": "Python 3 (ipykernel)",
   "language": "python",
   "name": "python3"
  },
  "language_info": {
   "codemirror_mode": {
    "name": "ipython",
    "version": 3
   },
   "file_extension": ".py",
   "mimetype": "text/x-python",
   "name": "python",
   "nbconvert_exporter": "python",
   "pygments_lexer": "ipython3",
   "version": "3.8.3"
  }
 },
 "nbformat": 4,
 "nbformat_minor": 5
}
