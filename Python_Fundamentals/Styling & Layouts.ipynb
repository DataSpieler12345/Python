{
 "cells": [
  {
   "cell_type": "code",
   "execution_count": null,
   "id": "bd4cfe65",
   "metadata": {},
   "outputs": [],
   "source": [
    "#Styling & Layouts\n"
   ]
  },
  {
   "cell_type": "code",
   "execution_count": 1,
   "id": "5838469b",
   "metadata": {},
   "outputs": [],
   "source": [
    "from ipywidgets import interact, interactive, fixed\n",
    "import ipywidgets as widgets\n",
    "from IPython.display import display "
   ]
  },
  {
   "cell_type": "code",
   "execution_count": 4,
   "id": "286a0b15",
   "metadata": {},
   "outputs": [
    {
     "data": {
      "application/vnd.jupyter.widget-view+json": {
       "model_id": "c199f39630884720a5200202cd98e78e",
       "version_major": 2,
       "version_minor": 0
      },
      "text/plain": [
       "IntSlider(value=0)"
      ]
     },
     "metadata": {},
     "output_type": "display_data"
    }
   ],
   "source": [
    "#moving the slider\n",
    "slide = widgets.IntSlider()\n",
    "display(slide)\n",
    "\n",
    "slide.layout.margin = \"auto\" #given a layout\n",
    "slide.layout.height = \"100px\" #given a layout"
   ]
  },
  {
   "cell_type": "code",
   "execution_count": 5,
   "id": "b8771c6f",
   "metadata": {},
   "outputs": [
    {
     "data": {
      "text/plain": [
       "ipywidgets.widgets.widget_int.IntSlider"
      ]
     },
     "execution_count": 5,
     "metadata": {},
     "output_type": "execute_result"
    }
   ],
   "source": [
    "type(slide)"
   ]
  },
  {
   "cell_type": "code",
   "execution_count": 13,
   "id": "ae7f1f57",
   "metadata": {},
   "outputs": [
    {
     "data": {
      "application/vnd.jupyter.widget-view+json": {
       "model_id": "a12dee1fe1ac432f9ed0fdc16a09bc45",
       "version_major": 2,
       "version_minor": 0
      },
      "text/plain": [
       "IntSlider(value=50, description=' Better Slider', min=-50, step=5, style=SliderStyle(handle_color='Yellow'))"
      ]
     },
     "metadata": {},
     "output_type": "display_data"
    }
   ],
   "source": [
    "#creating a new slider\n",
    "\n",
    "new_slide = widgets.IntSlider(value = 50, min = -50, max = 100, step = 5, description = \" Better Slider\")\n",
    "new_slide.style.handle_color = \"Yellow\"\n",
    "display(new_slide)\n",
    "\n",
    "new_slide.layout.margin = \"auto\" #given a layout\n",
    "new_slide.layout.height = \"100px\" #given a layout\n"
   ]
  },
  {
   "cell_type": "code",
   "execution_count": 15,
   "id": "575ba627",
   "metadata": {},
   "outputs": [
    {
     "data": {
      "application/vnd.jupyter.widget-view+json": {
       "model_id": "a132b9afc2ed4995b0cac02b635a10aa",
       "version_major": 2,
       "version_minor": 0
      },
      "text/plain": [
       "Button(button_style='info', description='Press Me', style=ButtonStyle())"
      ]
     },
     "metadata": {},
     "output_type": "display_data"
    }
   ],
   "source": [
    "#doing some buttom\n",
    "\n",
    "widgets.Button(description = \"Press Me\", button_style = \"Info\")"
   ]
  },
  {
   "cell_type": "code",
   "execution_count": 17,
   "id": "941cb4d8",
   "metadata": {},
   "outputs": [
    {
     "data": {
      "application/vnd.jupyter.widget-view+json": {
       "model_id": "0d9c3e239ce841cd9ffdca1a8f34f4dd",
       "version_major": 2,
       "version_minor": 0
      },
      "text/plain": [
       "Button(button_style='success', description='Press Me', style=ButtonStyle())"
      ]
     },
     "metadata": {},
     "output_type": "display_data"
    }
   ],
   "source": [
    "widgets.Button(description = \"Press Me\", button_style = \"success\")"
   ]
  },
  {
   "cell_type": "code",
   "execution_count": 18,
   "id": "afd80d7d",
   "metadata": {},
   "outputs": [
    {
     "data": {
      "application/vnd.jupyter.widget-view+json": {
       "model_id": "e772e0c5b4934f038ed6232aab44e63d",
       "version_major": 2,
       "version_minor": 0
      },
      "text/plain": [
       "Button(button_style='warning', description='Press Me', style=ButtonStyle())"
      ]
     },
     "metadata": {},
     "output_type": "display_data"
    }
   ],
   "source": [
    "widgets.Button(description = \"Press Me\", button_style = \"warning\")"
   ]
  },
  {
   "cell_type": "code",
   "execution_count": 19,
   "id": "922d2e21",
   "metadata": {},
   "outputs": [
    {
     "data": {
      "application/vnd.jupyter.widget-view+json": {
       "model_id": "b1e6106860e74ec588179701829e390e",
       "version_major": 2,
       "version_minor": 0
      },
      "text/plain": [
       "Button(button_style='danger', description='Press Me', style=ButtonStyle())"
      ]
     },
     "metadata": {},
     "output_type": "display_data"
    }
   ],
   "source": [
    "widgets.Button(description = \"Press Me\", button_style = \"danger\")"
   ]
  },
  {
   "cell_type": "code",
   "execution_count": null,
   "id": "9404e127",
   "metadata": {},
   "outputs": [],
   "source": []
  }
 ],
 "metadata": {
  "kernelspec": {
   "display_name": "Python 3 (ipykernel)",
   "language": "python",
   "name": "python3"
  },
  "language_info": {
   "codemirror_mode": {
    "name": "ipython",
    "version": 3
   },
   "file_extension": ".py",
   "mimetype": "text/x-python",
   "name": "python",
   "nbconvert_exporter": "python",
   "pygments_lexer": "ipython3",
   "version": "3.8.3"
  }
 },
 "nbformat": 4,
 "nbformat_minor": 5
}
