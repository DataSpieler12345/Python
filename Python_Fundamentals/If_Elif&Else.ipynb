{
 "cells": [
  {
   "cell_type": "code",
   "execution_count": 1,
   "id": "8881b301",
   "metadata": {},
   "outputs": [
    {
     "name": "stdout",
     "output_type": "stream",
     "text": [
      "Get some sleep\n"
     ]
    }
   ],
   "source": [
    "if True:\n",
    "    print(\"Get some sleep\")"
   ]
  },
  {
   "cell_type": "code",
   "execution_count": 2,
   "id": "2aea2915",
   "metadata": {},
   "outputs": [],
   "source": [
    "if False:\n",
    "    print(\"Get some sleep\")"
   ]
  },
  {
   "cell_type": "code",
   "execution_count": 3,
   "id": "d5530591",
   "metadata": {},
   "outputs": [
    {
     "name": "stdout",
     "output_type": "stream",
     "text": [
      "Get some sleep\n"
     ]
    }
   ],
   "source": [
    "if 5>2:\n",
    "    print(\"Get some sleep\")"
   ]
  },
  {
   "cell_type": "code",
   "execution_count": 4,
   "id": "69cf04c3",
   "metadata": {},
   "outputs": [],
   "source": [
    "if 1>2:\n",
    "    print:(\"Get some sleep\")"
   ]
  },
  {
   "cell_type": "code",
   "execution_count": 6,
   "id": "7fdfc8fc",
   "metadata": {},
   "outputs": [
    {
     "name": "stdout",
     "output_type": "stream",
     "text": [
      "Get some sleep\n"
     ]
    }
   ],
   "source": [
    "tired = True\n",
    "\n",
    "if tired:\n",
    "    print(\"Get some sleep\")\n",
    "else:\n",
    "    print(\"Learn Python\")\n",
    " "
   ]
  },
  {
   "cell_type": "code",
   "execution_count": 7,
   "id": "082f215e",
   "metadata": {},
   "outputs": [
    {
     "name": "stdout",
     "output_type": "stream",
     "text": [
      "Learn Python\n"
     ]
    }
   ],
   "source": [
    "tired = False\n",
    "\n",
    "if tired:\n",
    "    print(\"Get some sleep\")\n",
    "else:\n",
    "    print(\"Learn Python\")"
   ]
  },
  {
   "cell_type": "code",
   "execution_count": 12,
   "id": "b70e07f6",
   "metadata": {},
   "outputs": [
    {
     "name": "stdout",
     "output_type": "stream",
     "text": [
      "Are you tired? yes or not.not\n",
      "Learn Python\n"
     ]
    }
   ],
   "source": [
    "#logical programm\n",
    "tired = input(\"Are you tired? yes or not.\")\n",
    "\n",
    "if tired in (\"yes\", \"Yes\",\"y\"):\n",
    "    print(\"Get some sleep\")\n",
    "else:\n",
    "    print(\"Learn Python\")"
   ]
  },
  {
   "cell_type": "code",
   "execution_count": null,
   "id": "aa645439",
   "metadata": {},
   "outputs": [],
   "source": [
    "tired = input(\"Are you tired? yes, not, or Ask Later.\")\n",
    "\n",
    "if tired in (\"yes\", \"Yes\",\"y\"):\n",
    "    print(\"Get some sleep\")\n",
    "elif tired (\"Ask Later\", \"ask later\"):\n",
    "    print(\"Okay Bye!\")\n",
    "else:\n",
    "    print(\"Learn Python\")"
   ]
  },
  {
   "cell_type": "code",
   "execution_count": null,
   "id": "3d70e327",
   "metadata": {},
   "outputs": [],
   "source": []
  }
 ],
 "metadata": {
  "kernelspec": {
   "display_name": "Python 3 (ipykernel)",
   "language": "python",
   "name": "python3"
  },
  "language_info": {
   "codemirror_mode": {
    "name": "ipython",
    "version": 3
   },
   "file_extension": ".py",
   "mimetype": "text/x-python",
   "name": "python",
   "nbconvert_exporter": "python",
   "pygments_lexer": "ipython3",
   "version": "3.9.13"
  }
 },
 "nbformat": 4,
 "nbformat_minor": 5
}
