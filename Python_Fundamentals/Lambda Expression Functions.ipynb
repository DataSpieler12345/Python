{
 "cells": [
  {
   "cell_type": "code",
   "execution_count": 1,
   "id": "882e84c4",
   "metadata": {},
   "outputs": [],
   "source": [
    "#Lambda Functions\n",
    "\n",
    "double = lambda x:x*2"
   ]
  },
  {
   "cell_type": "code",
   "execution_count": 2,
   "id": "129a5756",
   "metadata": {},
   "outputs": [
    {
     "name": "stdout",
     "output_type": "stream",
     "text": [
      "34\n"
     ]
    }
   ],
   "source": [
    "print(double(17))"
   ]
  },
  {
   "cell_type": "code",
   "execution_count": 3,
   "id": "38d845d5",
   "metadata": {},
   "outputs": [
    {
     "data": {
      "text/plain": [
       "function"
      ]
     },
     "execution_count": 3,
     "metadata": {},
     "output_type": "execute_result"
    }
   ],
   "source": [
    "#lambda function\n",
    "type(double)"
   ]
  },
  {
   "cell_type": "code",
   "execution_count": 4,
   "id": "8b6aec63",
   "metadata": {},
   "outputs": [
    {
     "data": {
      "text/plain": [
       "<function __main__.<lambda>(x)>"
      ]
     },
     "execution_count": 4,
     "metadata": {},
     "output_type": "execute_result"
    }
   ],
   "source": [
    "double"
   ]
  },
  {
   "cell_type": "code",
   "execution_count": 6,
   "id": "db94f58f",
   "metadata": {},
   "outputs": [],
   "source": [
    "#comparando formas de definir functions y obtener el mismo resultado\n",
    "\n",
    "def doubleX(x):\n",
    "    return x*2"
   ]
  },
  {
   "cell_type": "code",
   "execution_count": 7,
   "id": "3e71eb33",
   "metadata": {},
   "outputs": [
    {
     "data": {
      "text/plain": [
       "<function __main__.doubleX(x)>"
      ]
     },
     "execution_count": 7,
     "metadata": {},
     "output_type": "execute_result"
    }
   ],
   "source": [
    "doubleX"
   ]
  },
  {
   "cell_type": "code",
   "execution_count": 8,
   "id": "631de293",
   "metadata": {},
   "outputs": [
    {
     "data": {
      "text/plain": [
       "34"
      ]
     },
     "execution_count": 8,
     "metadata": {},
     "output_type": "execute_result"
    }
   ],
   "source": [
    "doubleX(17)"
   ]
  },
  {
   "cell_type": "code",
   "execution_count": 9,
   "id": "3aca8cbe",
   "metadata": {},
   "outputs": [],
   "source": [
    "#working with list and functions lambda\n",
    "\n",
    "list1 = [0,1,2,3,4,5,6,7,8,9,10,11]"
   ]
  },
  {
   "cell_type": "code",
   "execution_count": 10,
   "id": "fc19a520",
   "metadata": {},
   "outputs": [],
   "source": [
    "#queremos una nueva lista como final version\n",
    "final_list = list(map(lambda x:x*2, list1))"
   ]
  },
  {
   "cell_type": "code",
   "execution_count": 11,
   "id": "eb87675f",
   "metadata": {},
   "outputs": [
    {
     "data": {
      "text/plain": [
       "[0, 2, 4, 6, 8, 10, 12, 14, 16, 18, 20, 22]"
      ]
     },
     "execution_count": 11,
     "metadata": {},
     "output_type": "execute_result"
    }
   ],
   "source": [
    "final_list"
   ]
  },
  {
   "cell_type": "code",
   "execution_count": 12,
   "id": "c2195973",
   "metadata": {},
   "outputs": [],
   "source": [
    "# definition just give me the even numbers, similar arriba pero sin usar lambda funtions\n",
    "\n",
    "def even_list_maker(number_list):\n",
    "    even_nums = [] # queda blanco porque ya esta creada\n",
    "    for x in number_list:\n",
    "        even_nums.append(x*2)\n",
    "    return even_nums"
   ]
  },
  {
   "cell_type": "code",
   "execution_count": 13,
   "id": "0433d154",
   "metadata": {},
   "outputs": [
    {
     "data": {
      "text/plain": [
       "[0, 2, 4, 6, 8, 10, 12, 14, 16, 18, 20, 22]"
      ]
     },
     "execution_count": 13,
     "metadata": {},
     "output_type": "execute_result"
    }
   ],
   "source": [
    "even_list_maker(list1)"
   ]
  }
 ],
 "metadata": {
  "kernelspec": {
   "display_name": "Python 3 (ipykernel)",
   "language": "python",
   "name": "python3"
  },
  "language_info": {
   "codemirror_mode": {
    "name": "ipython",
    "version": 3
   },
   "file_extension": ".py",
   "mimetype": "text/x-python",
   "name": "python",
   "nbconvert_exporter": "python",
   "pygments_lexer": "ipython3",
   "version": "3.8.3"
  }
 },
 "nbformat": 4,
 "nbformat_minor": 5
}
