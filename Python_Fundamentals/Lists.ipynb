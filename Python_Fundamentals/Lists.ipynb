{
 "cells": [
  {
   "cell_type": "code",
   "execution_count": null,
   "id": "4bfde6d1",
   "metadata": {},
   "outputs": [],
   "source": [
    "#Lists have order"
   ]
  },
  {
   "cell_type": "code",
   "execution_count": 2,
   "id": "d8180a6b",
   "metadata": {},
   "outputs": [],
   "source": [
    "list1 = [0,1,2,3]"
   ]
  },
  {
   "cell_type": "code",
   "execution_count": 3,
   "id": "62b16da9",
   "metadata": {},
   "outputs": [
    {
     "data": {
      "text/plain": [
       "[0, 1, 2, 3]"
      ]
     },
     "execution_count": 3,
     "metadata": {},
     "output_type": "execute_result"
    }
   ],
   "source": [
    "list1"
   ]
  },
  {
   "cell_type": "code",
   "execution_count": 4,
   "id": "098ee524",
   "metadata": {},
   "outputs": [
    {
     "name": "stdout",
     "output_type": "stream",
     "text": [
      "[0, 1, 2, 3]\n"
     ]
    }
   ],
   "source": [
    "print(list1)"
   ]
  },
  {
   "cell_type": "code",
   "execution_count": null,
   "id": "0d192755",
   "metadata": {},
   "outputs": [],
   "source": [
    "#list2"
   ]
  },
  {
   "cell_type": "code",
   "execution_count": 5,
   "id": "9a27cc62",
   "metadata": {},
   "outputs": [],
   "source": [
    "list2 = [\"cat\",\"dog\",\"fish\",\"frog\"]"
   ]
  },
  {
   "cell_type": "code",
   "execution_count": 6,
   "id": "90dbf2a6",
   "metadata": {},
   "outputs": [
    {
     "data": {
      "text/plain": [
       "[0, 1, 2, 3, 'cat', 'dog', 'fish', 'frog']"
      ]
     },
     "execution_count": 6,
     "metadata": {},
     "output_type": "execute_result"
    }
   ],
   "source": [
    "list1+list2"
   ]
  },
  {
   "cell_type": "code",
   "execution_count": null,
   "id": "f46d8ecc",
   "metadata": {},
   "outputs": [],
   "source": [
    "#list 3"
   ]
  },
  {
   "cell_type": "code",
   "execution_count": 7,
   "id": "a1b9506b",
   "metadata": {},
   "outputs": [],
   "source": [
    "list3 = list1+list2"
   ]
  },
  {
   "cell_type": "code",
   "execution_count": 8,
   "id": "4463cd92",
   "metadata": {},
   "outputs": [
    {
     "data": {
      "text/plain": [
       "[0, 1, 2, 3, 'cat', 'dog', 'fish', 'frog']"
      ]
     },
     "execution_count": 8,
     "metadata": {},
     "output_type": "execute_result"
    }
   ],
   "source": [
    "list3"
   ]
  },
  {
   "cell_type": "code",
   "execution_count": null,
   "id": "39cdd398",
   "metadata": {},
   "outputs": [],
   "source": [
    "#Replacing Value 0 for \"ZERO\""
   ]
  },
  {
   "cell_type": "code",
   "execution_count": 9,
   "id": "830b7891",
   "metadata": {},
   "outputs": [],
   "source": [
    "list3[0] = \"ZERO\""
   ]
  },
  {
   "cell_type": "code",
   "execution_count": 10,
   "id": "4609026a",
   "metadata": {},
   "outputs": [
    {
     "data": {
      "text/plain": [
       "['ZERO', 1, 2, 3, 'cat', 'dog', 'fish', 'frog']"
      ]
     },
     "execution_count": 10,
     "metadata": {},
     "output_type": "execute_result"
    }
   ],
   "source": [
    "list3"
   ]
  },
  {
   "cell_type": "code",
   "execution_count": null,
   "id": "e469ef5c",
   "metadata": {},
   "outputs": [],
   "source": [
    "#Adding values \"DINOSAUR\" to the list3"
   ]
  },
  {
   "cell_type": "code",
   "execution_count": 11,
   "id": "2f2f17d3",
   "metadata": {},
   "outputs": [],
   "source": [
    "list3.append(\"DINOSAUR\")"
   ]
  },
  {
   "cell_type": "code",
   "execution_count": 12,
   "id": "85b125b4",
   "metadata": {},
   "outputs": [
    {
     "data": {
      "text/plain": [
       "['ZERO', 1, 2, 3, 'cat', 'dog', 'fish', 'frog', 'DINOSAUR']"
      ]
     },
     "execution_count": 12,
     "metadata": {},
     "output_type": "execute_result"
    }
   ],
   "source": [
    "list3"
   ]
  },
  {
   "cell_type": "code",
   "execution_count": null,
   "id": "272c1608",
   "metadata": {},
   "outputs": [],
   "source": [
    "#Deleting Value \"DINOSAUR\" from the list3"
   ]
  },
  {
   "cell_type": "code",
   "execution_count": 13,
   "id": "112a4db3",
   "metadata": {},
   "outputs": [
    {
     "data": {
      "text/plain": [
       "'DINOSAUR'"
      ]
     },
     "execution_count": 13,
     "metadata": {},
     "output_type": "execute_result"
    }
   ],
   "source": [
    "list3.pop()"
   ]
  },
  {
   "cell_type": "code",
   "execution_count": 14,
   "id": "a1f7b696",
   "metadata": {},
   "outputs": [
    {
     "data": {
      "text/plain": [
       "['ZERO', 1, 2, 3, 'cat', 'dog', 'fish', 'frog']"
      ]
     },
     "execution_count": 14,
     "metadata": {},
     "output_type": "execute_result"
    }
   ],
   "source": [
    "list3"
   ]
  },
  {
   "cell_type": "code",
   "execution_count": 15,
   "id": "eadd2b91",
   "metadata": {},
   "outputs": [
    {
     "data": {
      "text/plain": [
       "'cat'"
      ]
     },
     "execution_count": 15,
     "metadata": {},
     "output_type": "execute_result"
    }
   ],
   "source": [
    "list3.pop(4)"
   ]
  },
  {
   "cell_type": "code",
   "execution_count": 16,
   "id": "3f96b9e4",
   "metadata": {},
   "outputs": [
    {
     "data": {
      "text/plain": [
       "['ZERO', 1, 2, 3, 'dog', 'fish', 'frog']"
      ]
     },
     "execution_count": 16,
     "metadata": {},
     "output_type": "execute_result"
    }
   ],
   "source": [
    "list3"
   ]
  },
  {
   "cell_type": "code",
   "execution_count": null,
   "id": "614d92dc",
   "metadata": {},
   "outputs": [],
   "source": [
    "#New Lists"
   ]
  },
  {
   "cell_type": "code",
   "execution_count": 17,
   "id": "05ab16e6",
   "metadata": {},
   "outputs": [],
   "source": [
    "l1 = [25,4,5,7]\n",
    "l2 = [\"a\", \"g\", \"thsdf\"]"
   ]
  },
  {
   "cell_type": "code",
   "execution_count": 20,
   "id": "81461248",
   "metadata": {},
   "outputs": [],
   "source": [
    "l1.sort(reverse = True)"
   ]
  },
  {
   "cell_type": "code",
   "execution_count": 19,
   "id": "e8ae00a8",
   "metadata": {},
   "outputs": [
    {
     "data": {
      "text/plain": [
       "[4, 5, 7, 25]"
      ]
     },
     "execution_count": 19,
     "metadata": {},
     "output_type": "execute_result"
    }
   ],
   "source": [
    "l1"
   ]
  },
  {
   "cell_type": "code",
   "execution_count": 21,
   "id": "fc622125",
   "metadata": {},
   "outputs": [],
   "source": [
    "l2.sort(reverse = True)"
   ]
  },
  {
   "cell_type": "code",
   "execution_count": 22,
   "id": "07bfb4d2",
   "metadata": {},
   "outputs": [
    {
     "data": {
      "text/plain": [
       "['thsdf', 'g', 'a']"
      ]
     },
     "execution_count": 22,
     "metadata": {},
     "output_type": "execute_result"
    }
   ],
   "source": [
    "l2"
   ]
  },
  {
   "cell_type": "code",
   "execution_count": null,
   "id": "c028a23a",
   "metadata": {},
   "outputs": [],
   "source": [
    "#New List"
   ]
  },
  {
   "cell_type": "code",
   "execution_count": 23,
   "id": "5bb83523",
   "metadata": {},
   "outputs": [],
   "source": [
    "l3 = [1,2,3,4,5]"
   ]
  },
  {
   "cell_type": "code",
   "execution_count": 33,
   "id": "45e8e3a4",
   "metadata": {},
   "outputs": [],
   "source": [
    "l4 = l3.copy"
   ]
  },
  {
   "cell_type": "code",
   "execution_count": 34,
   "id": "4de996b2",
   "metadata": {},
   "outputs": [
    {
     "name": "stdout",
     "output_type": "stream",
     "text": [
      "[1, 2, 3, 4, 5]\n"
     ]
    }
   ],
   "source": [
    "print(l3)"
   ]
  },
  {
   "cell_type": "code",
   "execution_count": null,
   "id": "ba3ad5e1",
   "metadata": {},
   "outputs": [],
   "source": []
  }
 ],
 "metadata": {
  "kernelspec": {
   "display_name": "Python 3 (ipykernel)",
   "language": "python",
   "name": "python3"
  },
  "language_info": {
   "codemirror_mode": {
    "name": "ipython",
    "version": 3
   },
   "file_extension": ".py",
   "mimetype": "text/x-python",
   "name": "python",
   "nbconvert_exporter": "python",
   "pygments_lexer": "ipython3",
   "version": "3.8.3"
  }
 },
 "nbformat": 4,
 "nbformat_minor": 5
}
