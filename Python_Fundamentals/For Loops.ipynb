{
 "cells": [
  {
   "cell_type": "code",
   "execution_count": 1,
   "id": "58112173",
   "metadata": {},
   "outputs": [],
   "source": [
    "l1 = [0,1,2,3,4,5,6,7,8,9,10]"
   ]
  },
  {
   "cell_type": "code",
   "execution_count": 2,
   "id": "68efebeb",
   "metadata": {},
   "outputs": [
    {
     "data": {
      "text/plain": [
       "list"
      ]
     },
     "execution_count": 2,
     "metadata": {},
     "output_type": "execute_result"
    }
   ],
   "source": [
    "type(l1)"
   ]
  },
  {
   "cell_type": "code",
   "execution_count": 3,
   "id": "7be02f63",
   "metadata": {},
   "outputs": [
    {
     "data": {
      "text/plain": [
       "[0, 1, 2, 3, 4, 5, 6, 7, 8, 9, 10]"
      ]
     },
     "execution_count": 3,
     "metadata": {},
     "output_type": "execute_result"
    }
   ],
   "source": [
    "l1"
   ]
  },
  {
   "cell_type": "code",
   "execution_count": 4,
   "id": "843533a2",
   "metadata": {},
   "outputs": [
    {
     "name": "stdout",
     "output_type": "stream",
     "text": [
      "0\n",
      "1\n",
      "2\n",
      "3\n",
      "4\n",
      "5\n",
      "6\n",
      "7\n",
      "8\n",
      "9\n",
      "10\n"
     ]
    }
   ],
   "source": [
    "#iterando\n",
    "for x in l1:\n",
    "    print(x)"
   ]
  },
  {
   "cell_type": "code",
   "execution_count": 5,
   "id": "80919b28",
   "metadata": {},
   "outputs": [
    {
     "name": "stdout",
     "output_type": "stream",
     "text": [
      "apples\n",
      "apples\n",
      "apples\n",
      "apples\n",
      "apples\n",
      "apples\n",
      "apples\n",
      "apples\n",
      "apples\n",
      "apples\n",
      "apples\n"
     ]
    }
   ],
   "source": [
    "#cambiando salida de datos\n",
    "for x in l1:\n",
    "    print(\"apples\")"
   ]
  },
  {
   "cell_type": "code",
   "execution_count": 6,
   "id": "87011055",
   "metadata": {},
   "outputs": [
    {
     "name": "stdout",
     "output_type": "stream",
     "text": [
      "2\n",
      "3\n",
      "4\n",
      "5\n",
      "6\n",
      "7\n",
      "8\n",
      "9\n",
      "10\n",
      "11\n",
      "12\n"
     ]
    }
   ],
   "source": [
    "#haciendo matematicas\n",
    "for x in l1:\n",
    "    print(x+2)"
   ]
  },
  {
   "cell_type": "code",
   "execution_count": null,
   "id": "5d3aa9f3",
   "metadata": {},
   "outputs": [],
   "source": [
    "#indentado del codigo con if en loops for.\n",
    "\n",
    "for x in l1:\n",
    "    if x % 2 == 0:\n",
    "    \tprint(x)"
   ]
  },
  {
   "cell_type": "code",
   "execution_count": 9,
   "id": "b2efc8b4",
   "metadata": {},
   "outputs": [
    {
     "name": "stdout",
     "output_type": "stream",
     "text": [
      "Even = 0\n",
      "Odd = 1\n",
      "Even = 2\n",
      "Odd = 3\n",
      "Even = 4\n",
      "Odd = 5\n",
      "Even = 6\n",
      "Odd = 7\n",
      "Even = 8\n",
      "Odd = 9\n",
      "Even = 10\n"
     ]
    }
   ],
   "source": [
    "#categorizando valores\n",
    "\n",
    "for x in l1:\n",
    "    if x % 2 == 0:\n",
    "        print(\"Even = {}\".format(x))\n",
    "    else:\n",
    "        print(\"Odd = {}\".format(x))"
   ]
  },
  {
   "cell_type": "code",
   "execution_count": 18,
   "id": "38b2da1e",
   "metadata": {},
   "outputs": [
    {
     "name": "stdout",
     "output_type": "stream",
     "text": [
      "Even = 0\n",
      "Odd = 1\n",
      "Even = 2\n",
      "Odd = 3\n",
      "Even = 4\n",
      "Odd = 5\n",
      "Even = 6\n",
      "Odd = 7\n",
      "Even = 8\n",
      "Odd = 9\n",
      "Even = 10\n"
     ]
    }
   ],
   "source": [
    "#categorizando valores\n",
    "\n",
    "for num_in_l1 in l1:\n",
    "    if num_in_l1 % 2 == 0:\n",
    "        print(\"Even = {}\".format(num_in_l1))\n",
    "    else:\n",
    "        print(\"Odd = {}\".format(num_in_l1))"
   ]
  },
  {
   "cell_type": "code",
   "execution_count": 19,
   "id": "987ea55e",
   "metadata": {},
   "outputs": [
    {
     "name": "stdout",
     "output_type": "stream",
     "text": [
      "a\n",
      "p\n",
      "p\n",
      "l\n",
      "e\n",
      "s\n"
     ]
    }
   ],
   "source": [
    "#iterando con variable dada\n",
    "\n",
    "for x in \"apples\":\n",
    "     print(x)"
   ]
  },
  {
   "cell_type": "code",
   "execution_count": 22,
   "id": "54657d46",
   "metadata": {},
   "outputs": [
    {
     "name": "stdout",
     "output_type": "stream",
     "text": [
      "apple\n",
      "banana\n",
      "grape\n"
     ]
    }
   ],
   "source": [
    "#Testeando (buscar x as grape en la lista fruits, al cumplirse la condicion devuelve un print out de todos los elementos de la lista hasta grape).  \n",
    "fruits = [\"apple\", \"banana\", \"grape\", \"watermelon\"]\n",
    "\n",
    "for x in fruits:\n",
    "    print(x) #la posicion del print arriba imprime hasta grape que es la condicion if definida incluyendo el valor de grape en el print out\n",
    "    if x == \"grape\":\n",
    "    \tbreak"
   ]
  },
  {
   "cell_type": "code",
   "execution_count": 26,
   "id": "fc379dec",
   "metadata": {},
   "outputs": [
    {
     "name": "stdout",
     "output_type": "stream",
     "text": [
      "apple\n",
      "banana\n"
     ]
    }
   ],
   "source": [
    "#iterando con la misma lista pero otras condiciones con If\n",
    "\n",
    "for x in fruits:\n",
    "    if x == \"grape\":\n",
    "        break\n",
    "    print(x) #la posicion del print abajo imprime hasta grape y al imprmir x elimina el valor de grape en el output "
   ]
  },
  {
   "cell_type": "code",
   "execution_count": 30,
   "id": "9fdad5af",
   "metadata": {},
   "outputs": [
    {
     "name": "stdout",
     "output_type": "stream",
     "text": [
      "apple\n",
      "banana\n",
      "watermelon\n"
     ]
    }
   ],
   "source": [
    "#iterando con continue (interpreta la condicion if definida en este caso  grape, al cumplirse dice no, vanmos a sacarla de la lista y continuar con el siguiente valor de la lista, es decir watermelon)\n",
    "\n",
    "for x in fruits:\n",
    "    if x == \"grape\":\n",
    "        continue\n",
    "    print(x)"
   ]
  },
  {
   "cell_type": "code",
   "execution_count": 32,
   "id": "869ced22",
   "metadata": {},
   "outputs": [
    {
     "name": "stdout",
     "output_type": "stream",
     "text": [
      "0\n",
      "1\n",
      "2\n",
      "3\n",
      "4\n",
      "5\n",
      "6\n",
      "7\n",
      "8\n",
      "9\n",
      "10\n",
      "11\n",
      "12\n",
      "13\n",
      "14\n"
     ]
    }
   ],
   "source": [
    "# usando rangos (ultimo numero no se incluye ya que el valor 0 es el inicial)\n",
    "\n",
    "for x in range(15):\n",
    "    print(x)"
   ]
  },
  {
   "cell_type": "code",
   "execution_count": 33,
   "id": "a9190bea",
   "metadata": {},
   "outputs": [
    {
     "name": "stdout",
     "output_type": "stream",
     "text": [
      "0\n",
      "1\n",
      "2\n",
      "3\n",
      "4\n",
      "5\n",
      "6\n",
      "7\n",
      "8\n",
      "9\n",
      "10\n",
      "Finished Counting\n"
     ]
    }
   ],
   "source": [
    "#printing out two diff things together. Favor imprimir del 0-10 y ademas al final agregarme conteo finalizado.\n",
    "for x in range(11):\n",
    "    print(x)\n",
    "else:\n",
    "    print(\"Finished Counting\")"
   ]
  },
  {
   "cell_type": "code",
   "execution_count": 34,
   "id": "235b7f30",
   "metadata": {},
   "outputs": [
    {
     "name": "stdout",
     "output_type": "stream",
     "text": [
      "apple Red\n",
      "apple Yellow\n",
      "apple Purple\n",
      "apple Green\n",
      "banana Red\n",
      "banana Yellow\n",
      "banana Purple\n",
      "banana Green\n",
      "grape Red\n",
      "grape Yellow\n",
      "grape Purple\n",
      "grape Green\n",
      "watermelon Red\n",
      "watermelon Yellow\n",
      "watermelon Purple\n",
      "watermelon Green\n"
     ]
    }
   ],
   "source": [
    "#describiendo\n",
    "descrip = [\"Red\", \"Yellow\", \"Purple\", \"Green\"]\n",
    "\n",
    "for x in fruits:\n",
    "    for y in descrip:\n",
    "        print(x,y)"
   ]
  },
  {
   "cell_type": "code",
   "execution_count": null,
   "id": "45ff4629",
   "metadata": {},
   "outputs": [],
   "source": []
  },
  {
   "cell_type": "code",
   "execution_count": null,
   "id": "9ebd82ec",
   "metadata": {},
   "outputs": [],
   "source": []
  },
  {
   "cell_type": "code",
   "execution_count": null,
   "id": "0578110e",
   "metadata": {},
   "outputs": [],
   "source": []
  },
  {
   "cell_type": "code",
   "execution_count": null,
   "id": "62e180b9",
   "metadata": {},
   "outputs": [],
   "source": []
  },
  {
   "cell_type": "code",
   "execution_count": null,
   "id": "f8b6409b",
   "metadata": {},
   "outputs": [],
   "source": []
  }
 ],
 "metadata": {
  "kernelspec": {
   "display_name": "Python 3 (ipykernel)",
   "language": "python",
   "name": "python3"
  },
  "language_info": {
   "codemirror_mode": {
    "name": "ipython",
    "version": 3
   },
   "file_extension": ".py",
   "mimetype": "text/x-python",
   "name": "python",
   "nbconvert_exporter": "python",
   "pygments_lexer": "ipython3",
   "version": "3.8.3"
  }
 },
 "nbformat": 4,
 "nbformat_minor": 5
}
