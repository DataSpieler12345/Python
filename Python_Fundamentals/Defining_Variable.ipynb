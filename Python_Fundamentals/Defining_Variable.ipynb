{
 "cells": [
  {
   "cell_type": "code",
   "execution_count": 1,
   "id": "738a8a9d",
   "metadata": {},
   "outputs": [],
   "source": [
    "x = 5"
   ]
  },
  {
   "cell_type": "code",
   "execution_count": null,
   "id": "7b0011e9",
   "metadata": {},
   "outputs": [],
   "source": [
    "# definiendo variables"
   ]
  },
  {
   "cell_type": "code",
   "execution_count": 2,
   "id": "123fce83",
   "metadata": {},
   "outputs": [
    {
     "data": {
      "text/plain": [
       "5"
      ]
     },
     "execution_count": 2,
     "metadata": {},
     "output_type": "execute_result"
    }
   ],
   "source": [
    "x"
   ]
  },
  {
   "cell_type": "code",
   "execution_count": 3,
   "id": "b92e7a35",
   "metadata": {},
   "outputs": [
    {
     "name": "stdout",
     "output_type": "stream",
     "text": [
      "5\n"
     ]
    }
   ],
   "source": [
    "print(x)"
   ]
  },
  {
   "cell_type": "code",
   "execution_count": 4,
   "id": "84294c89",
   "metadata": {},
   "outputs": [
    {
     "data": {
      "text/plain": [
       "10"
      ]
     },
     "execution_count": 4,
     "metadata": {},
     "output_type": "execute_result"
    }
   ],
   "source": [
    "2*x"
   ]
  },
  {
   "cell_type": "code",
   "execution_count": 5,
   "id": "4786da91",
   "metadata": {},
   "outputs": [
    {
     "data": {
      "text/plain": [
       "10"
      ]
     },
     "execution_count": 5,
     "metadata": {},
     "output_type": "execute_result"
    }
   ],
   "source": [
    "x*2"
   ]
  },
  {
   "cell_type": "code",
   "execution_count": 6,
   "id": "8c87d53d",
   "metadata": {},
   "outputs": [
    {
     "data": {
      "text/plain": [
       "5"
      ]
     },
     "execution_count": 6,
     "metadata": {},
     "output_type": "execute_result"
    }
   ],
   "source": [
    "x"
   ]
  },
  {
   "cell_type": "code",
   "execution_count": 7,
   "id": "2aa81111",
   "metadata": {},
   "outputs": [],
   "source": [
    "x=3"
   ]
  },
  {
   "cell_type": "code",
   "execution_count": 8,
   "id": "321d0cfb",
   "metadata": {},
   "outputs": [
    {
     "data": {
      "text/plain": [
       "3"
      ]
     },
     "execution_count": 8,
     "metadata": {},
     "output_type": "execute_result"
    }
   ],
   "source": [
    "x"
   ]
  },
  {
   "cell_type": "code",
   "execution_count": 9,
   "id": "cd1d65f9",
   "metadata": {},
   "outputs": [],
   "source": [
    "a,b =15,10\n"
   ]
  },
  {
   "cell_type": "code",
   "execution_count": 10,
   "id": "05f3cb25",
   "metadata": {},
   "outputs": [
    {
     "data": {
      "text/plain": [
       "15"
      ]
     },
     "execution_count": 10,
     "metadata": {},
     "output_type": "execute_result"
    }
   ],
   "source": [
    "a"
   ]
  },
  {
   "cell_type": "code",
   "execution_count": 11,
   "id": "978ce936",
   "metadata": {},
   "outputs": [
    {
     "data": {
      "text/plain": [
       "10"
      ]
     },
     "execution_count": 11,
     "metadata": {},
     "output_type": "execute_result"
    }
   ],
   "source": [
    "b"
   ]
  },
  {
   "cell_type": "code",
   "execution_count": 13,
   "id": "72139aaf",
   "metadata": {},
   "outputs": [
    {
     "data": {
      "text/plain": [
       "5"
      ]
     },
     "execution_count": 13,
     "metadata": {},
     "output_type": "execute_result"
    }
   ],
   "source": [
    "a-b\n"
   ]
  },
  {
   "cell_type": "code",
   "execution_count": 14,
   "id": "8250364d",
   "metadata": {},
   "outputs": [
    {
     "data": {
      "text/plain": [
       "1.5"
      ]
     },
     "execution_count": 14,
     "metadata": {},
     "output_type": "execute_result"
    }
   ],
   "source": [
    "a/b"
   ]
  },
  {
   "cell_type": "code",
   "execution_count": 18,
   "id": "80548f30",
   "metadata": {},
   "outputs": [
    {
     "name": "stdout",
     "output_type": "stream",
     "text": [
      "The slope is equal to:-3.347826086956522\n"
     ]
    }
   ],
   "source": [
    "#sLope between two points (y1-y2)/(x1-x2)\n",
    "x1= -3\n",
    "y1= 7\n",
    "\n",
    "x2= 2/7\n",
    "y2= -4\n",
    "\n",
    "z = (y1-y2)/(x1-x2)\n",
    "\n",
    "print(\"The slope is equal to:\" + str(z))"
   ]
  },
  {
   "cell_type": "code",
   "execution_count": 19,
   "id": "baabcc5e",
   "metadata": {},
   "outputs": [
    {
     "name": "stdout",
     "output_type": "stream",
     "text": [
      "The slope is equal to:-0.4\n"
     ]
    }
   ],
   "source": [
    "#sLope between two points (y1-y2)/(x1-x2)\n",
    "x1= -3\n",
    "y1= 0\n",
    "\n",
    "x2= 7\n",
    "y2= -4\n",
    "\n",
    "z = (y1-y2)/(x1-x2)\n",
    "\n",
    "print(\"The slope is equal to:\" + str(z))"
   ]
  },
  {
   "cell_type": "code",
   "execution_count": 20,
   "id": "f689c443",
   "metadata": {},
   "outputs": [
    {
     "name": "stdout",
     "output_type": "stream",
     "text": [
      "The slope is equal to:20.0\n"
     ]
    }
   ],
   "source": [
    "#sLope between two points (y1-y2)/(x1-x2)\n",
    "x1= -3\n",
    "y1= 0\n",
    "\n",
    "x2= 7\n",
    "y2= 200\n",
    "\n",
    "z = (y1-y2)/(x1-x2)\n",
    "\n",
    "print(\"The slope is equal to:\" + str(z))"
   ]
  },
  {
   "cell_type": "code",
   "execution_count": null,
   "id": "a4ded595",
   "metadata": {},
   "outputs": [],
   "source": []
  }
 ],
 "metadata": {
  "kernelspec": {
   "display_name": "Python 3 (ipykernel)",
   "language": "python",
   "name": "python3"
  },
  "language_info": {
   "codemirror_mode": {
    "name": "ipython",
    "version": 3
   },
   "file_extension": ".py",
   "mimetype": "text/x-python",
   "name": "python",
   "nbconvert_exporter": "python",
   "pygments_lexer": "ipython3",
   "version": "3.8.3"
  }
 },
 "nbformat": 4,
 "nbformat_minor": 5
}
