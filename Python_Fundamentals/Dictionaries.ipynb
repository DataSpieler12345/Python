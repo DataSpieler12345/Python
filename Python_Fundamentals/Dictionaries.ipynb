{
 "cells": [
  {
   "cell_type": "code",
   "execution_count": null,
   "id": "62aff561",
   "metadata": {},
   "outputs": [],
   "source": [
    "#{\"key1\":\"value1\", \"key2\":\"value2\"}"
   ]
  },
  {
   "cell_type": "code",
   "execution_count": 1,
   "id": "ea39a60d",
   "metadata": {},
   "outputs": [],
   "source": [
    "my_dict = {\"key1\":\"cat\", \"key2\":\"dog\",\"key3\":\"fish\"}"
   ]
  },
  {
   "cell_type": "code",
   "execution_count": 2,
   "id": "c6b1a3c1",
   "metadata": {},
   "outputs": [
    {
     "data": {
      "text/plain": [
       "{'key1': 'cat', 'key2': 'dog', 'key3': 'fish'}"
      ]
     },
     "execution_count": 2,
     "metadata": {},
     "output_type": "execute_result"
    }
   ],
   "source": [
    "my_dict"
   ]
  },
  {
   "cell_type": "code",
   "execution_count": null,
   "id": "2dcfd05c",
   "metadata": {},
   "outputs": [],
   "source": [
    "# Indexing"
   ]
  },
  {
   "cell_type": "code",
   "execution_count": 5,
   "id": "5eb0f092",
   "metadata": {},
   "outputs": [
    {
     "data": {
      "text/plain": [
       "'fish'"
      ]
     },
     "execution_count": 5,
     "metadata": {},
     "output_type": "execute_result"
    }
   ],
   "source": [
    "my_dict[\"key3\"]"
   ]
  },
  {
   "cell_type": "code",
   "execution_count": 6,
   "id": "227f9810",
   "metadata": {},
   "outputs": [],
   "source": [
    "costs = {\"cat\":100, \"dog\":150,\"fish\":20}"
   ]
  },
  {
   "cell_type": "code",
   "execution_count": 7,
   "id": "b648a326",
   "metadata": {},
   "outputs": [
    {
     "data": {
      "text/plain": [
       "{'cat': 100, 'dog': 150, 'fish': 20}"
      ]
     },
     "execution_count": 7,
     "metadata": {},
     "output_type": "execute_result"
    }
   ],
   "source": [
    "costs"
   ]
  },
  {
   "cell_type": "code",
   "execution_count": 8,
   "id": "b71d95e8",
   "metadata": {},
   "outputs": [
    {
     "data": {
      "text/plain": [
       "100"
      ]
     },
     "execution_count": 8,
     "metadata": {},
     "output_type": "execute_result"
    }
   ],
   "source": [
    "costs[\"cat\"]"
   ]
  },
  {
   "cell_type": "code",
   "execution_count": 9,
   "id": "ed1c9053",
   "metadata": {},
   "outputs": [
    {
     "data": {
      "text/plain": [
       "150"
      ]
     },
     "execution_count": 9,
     "metadata": {},
     "output_type": "execute_result"
    }
   ],
   "source": [
    "costs[\"dog\"]"
   ]
  },
  {
   "cell_type": "code",
   "execution_count": 10,
   "id": "5f8b7e17",
   "metadata": {},
   "outputs": [
    {
     "data": {
      "text/plain": [
       "20"
      ]
     },
     "execution_count": 10,
     "metadata": {},
     "output_type": "execute_result"
    }
   ],
   "source": [
    "costs[\"fish\"]"
   ]
  },
  {
   "cell_type": "code",
   "execution_count": null,
   "id": "5412a5c0",
   "metadata": {},
   "outputs": [],
   "source": [
    "# Mixe dictionaries"
   ]
  },
  {
   "cell_type": "code",
   "execution_count": 11,
   "id": "fa99e78b",
   "metadata": {},
   "outputs": [
    {
     "data": {
      "text/plain": [
       "('cat', 100)"
      ]
     },
     "execution_count": 11,
     "metadata": {},
     "output_type": "execute_result"
    }
   ],
   "source": [
    "my_dict[\"key1\"], costs[\"cat\"]"
   ]
  },
  {
   "cell_type": "code",
   "execution_count": 12,
   "id": "a5413b6e",
   "metadata": {},
   "outputs": [
    {
     "name": "stdout",
     "output_type": "stream",
     "text": [
      "cat 100\n"
     ]
    }
   ],
   "source": [
    "print(my_dict[\"key1\"], costs[\"cat\"])"
   ]
  },
  {
   "cell_type": "code",
   "execution_count": null,
   "id": "ae80bd17",
   "metadata": {},
   "outputs": [],
   "source": [
    "# Advanced Dictionaries "
   ]
  },
  {
   "cell_type": "code",
   "execution_count": 14,
   "id": "af0ea713",
   "metadata": {},
   "outputs": [],
   "source": [
    "adv = {\"k1\":17.234, \"k2\": \"fish\", \"k3\":[1,2,3], \"k4\":{\"inside\":\"wow!\"}}"
   ]
  },
  {
   "cell_type": "code",
   "execution_count": 15,
   "id": "9d7e8efc",
   "metadata": {},
   "outputs": [
    {
     "data": {
      "text/plain": [
       "{'inside': 'wow!'}"
      ]
     },
     "execution_count": 15,
     "metadata": {},
     "output_type": "execute_result"
    }
   ],
   "source": [
    "adv[\"k4\"]"
   ]
  },
  {
   "cell_type": "code",
   "execution_count": 16,
   "id": "fadf0d0d",
   "metadata": {},
   "outputs": [
    {
     "data": {
      "text/plain": [
       "3"
      ]
     },
     "execution_count": 16,
     "metadata": {},
     "output_type": "execute_result"
    }
   ],
   "source": [
    "adv[\"k3\"][-1]"
   ]
  },
  {
   "cell_type": "code",
   "execution_count": 17,
   "id": "d6b8cf73",
   "metadata": {},
   "outputs": [
    {
     "data": {
      "text/plain": [
       "1"
      ]
     },
     "execution_count": 17,
     "metadata": {},
     "output_type": "execute_result"
    }
   ],
   "source": [
    "adv[\"k3\"][0]"
   ]
  },
  {
   "cell_type": "code",
   "execution_count": 18,
   "id": "b2f52329",
   "metadata": {},
   "outputs": [
    {
     "data": {
      "text/plain": [
       "2"
      ]
     },
     "execution_count": 18,
     "metadata": {},
     "output_type": "execute_result"
    }
   ],
   "source": [
    "adv[\"k3\"][1]"
   ]
  },
  {
   "cell_type": "code",
   "execution_count": 21,
   "id": "2a894b64",
   "metadata": {},
   "outputs": [
    {
     "data": {
      "text/plain": [
       "2"
      ]
     },
     "execution_count": 21,
     "metadata": {},
     "output_type": "execute_result"
    }
   ],
   "source": [
    "adv[\"k3\"][-2]"
   ]
  },
  {
   "cell_type": "code",
   "execution_count": 22,
   "id": "df930f6c",
   "metadata": {},
   "outputs": [
    {
     "data": {
      "text/plain": [
       "'wow!'"
      ]
     },
     "execution_count": 22,
     "metadata": {},
     "output_type": "execute_result"
    }
   ],
   "source": [
    "adv[\"k4\"][\"inside\"]"
   ]
  },
  {
   "cell_type": "code",
   "execution_count": null,
   "id": "8537f565",
   "metadata": {},
   "outputs": [],
   "source": []
  }
 ],
 "metadata": {
  "kernelspec": {
   "display_name": "Python 3 (ipykernel)",
   "language": "python",
   "name": "python3"
  },
  "language_info": {
   "codemirror_mode": {
    "name": "ipython",
    "version": 3
   },
   "file_extension": ".py",
   "mimetype": "text/x-python",
   "name": "python",
   "nbconvert_exporter": "python",
   "pygments_lexer": "ipython3",
   "version": "3.8.3"
  }
 },
 "nbformat": 4,
 "nbformat_minor": 5
}
