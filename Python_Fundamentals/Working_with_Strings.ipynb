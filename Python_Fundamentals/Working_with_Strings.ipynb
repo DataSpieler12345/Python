{
 "cells": [
  {
   "cell_type": "code",
   "execution_count": 1,
   "id": "db4b1b38",
   "metadata": {},
   "outputs": [
    {
     "data": {
      "text/plain": [
       "'words'"
      ]
     },
     "execution_count": 1,
     "metadata": {},
     "output_type": "execute_result"
    }
   ],
   "source": [
    "\"words\""
   ]
  },
  {
   "cell_type": "code",
   "execution_count": 2,
   "id": "d5a4f6d3",
   "metadata": {},
   "outputs": [
    {
     "data": {
      "text/plain": [
       "'words'"
      ]
     },
     "execution_count": 2,
     "metadata": {},
     "output_type": "execute_result"
    }
   ],
   "source": [
    "'words'"
   ]
  },
  {
   "cell_type": "code",
   "execution_count": 3,
   "id": "76c23aaf",
   "metadata": {},
   "outputs": [
    {
     "data": {
      "text/plain": [
       "\"I'm learning Python\""
      ]
     },
     "execution_count": 3,
     "metadata": {},
     "output_type": "execute_result"
    }
   ],
   "source": [
    "\"I'm learning Python\""
   ]
  },
  {
   "cell_type": "code",
   "execution_count": 8,
   "id": "782263ac",
   "metadata": {},
   "outputs": [
    {
     "data": {
      "text/plain": [
       "'The teacher said \"great job\"'"
      ]
     },
     "execution_count": 8,
     "metadata": {},
     "output_type": "execute_result"
    }
   ],
   "source": [
    "'The teacher said \"great job\"'"
   ]
  },
  {
   "cell_type": "code",
   "execution_count": 5,
   "id": "aca3dccb",
   "metadata": {},
   "outputs": [],
   "source": [
    "x = \"cat\""
   ]
  },
  {
   "cell_type": "code",
   "execution_count": 6,
   "id": "8d5424bc",
   "metadata": {},
   "outputs": [
    {
     "data": {
      "text/plain": [
       "'cat'"
      ]
     },
     "execution_count": 6,
     "metadata": {},
     "output_type": "execute_result"
    }
   ],
   "source": [
    "x"
   ]
  },
  {
   "cell_type": "code",
   "execution_count": 7,
   "id": "5ad006cd",
   "metadata": {},
   "outputs": [
    {
     "data": {
      "text/plain": [
       "str"
      ]
     },
     "execution_count": 7,
     "metadata": {},
     "output_type": "execute_result"
    }
   ],
   "source": [
    "type(x)"
   ]
  },
  {
   "cell_type": "code",
   "execution_count": 10,
   "id": "4a5a9c04",
   "metadata": {},
   "outputs": [],
   "source": [
    "y = \"dog\""
   ]
  },
  {
   "cell_type": "code",
   "execution_count": 11,
   "id": "ad5baf29",
   "metadata": {},
   "outputs": [
    {
     "data": {
      "text/plain": [
       "'dog'"
      ]
     },
     "execution_count": 11,
     "metadata": {},
     "output_type": "execute_result"
    }
   ],
   "source": [
    "y"
   ]
  },
  {
   "cell_type": "code",
   "execution_count": 12,
   "id": "99c873a8",
   "metadata": {},
   "outputs": [
    {
     "data": {
      "text/plain": [
       "'catdog'"
      ]
     },
     "execution_count": 12,
     "metadata": {},
     "output_type": "execute_result"
    }
   ],
   "source": [
    "x+y"
   ]
  },
  {
   "cell_type": "code",
   "execution_count": 13,
   "id": "6754053f",
   "metadata": {},
   "outputs": [
    {
     "data": {
      "text/plain": [
       "'cat   dog'"
      ]
     },
     "execution_count": 13,
     "metadata": {},
     "output_type": "execute_result"
    }
   ],
   "source": [
    "x+\"   \"+y"
   ]
  },
  {
   "cell_type": "code",
   "execution_count": 15,
   "id": "1252957e",
   "metadata": {},
   "outputs": [],
   "source": [
    "z = x+\"  \"+y"
   ]
  },
  {
   "cell_type": "code",
   "execution_count": 16,
   "id": "058d40dd",
   "metadata": {},
   "outputs": [
    {
     "name": "stdout",
     "output_type": "stream",
     "text": [
      "cat  dog\n"
     ]
    }
   ],
   "source": [
    "print(z)"
   ]
  },
  {
   "cell_type": "code",
   "execution_count": 17,
   "id": "db6d78cf",
   "metadata": {},
   "outputs": [
    {
     "name": "stdout",
     "output_type": "stream",
     "text": [
      "dog\n"
     ]
    }
   ],
   "source": [
    "print(y)"
   ]
  },
  {
   "cell_type": "code",
   "execution_count": 18,
   "id": "e1d901e0",
   "metadata": {},
   "outputs": [
    {
     "data": {
      "text/plain": [
       "'c'"
      ]
     },
     "execution_count": 18,
     "metadata": {},
     "output_type": "execute_result"
    }
   ],
   "source": [
    "# slicing data\n",
    "z[0]"
   ]
  },
  {
   "cell_type": "code",
   "execution_count": 21,
   "id": "7e078857",
   "metadata": {},
   "outputs": [
    {
     "data": {
      "text/plain": [
       "' '"
      ]
     },
     "execution_count": 21,
     "metadata": {},
     "output_type": "execute_result"
    }
   ],
   "source": [
    "z[3]\n"
   ]
  },
  {
   "cell_type": "code",
   "execution_count": 22,
   "id": "a2093f20",
   "metadata": {},
   "outputs": [
    {
     "data": {
      "text/plain": [
       "'o'"
      ]
     },
     "execution_count": 22,
     "metadata": {},
     "output_type": "execute_result"
    }
   ],
   "source": [
    "z[-2]\n"
   ]
  },
  {
   "cell_type": "code",
   "execution_count": 23,
   "id": "46b405d6",
   "metadata": {},
   "outputs": [
    {
     "data": {
      "text/plain": [
       "'ca'"
      ]
     },
     "execution_count": 23,
     "metadata": {},
     "output_type": "execute_result"
    }
   ],
   "source": [
    "z [0:2]\n"
   ]
  },
  {
   "cell_type": "code",
   "execution_count": 24,
   "id": "29d696cc",
   "metadata": {},
   "outputs": [
    {
     "data": {
      "text/plain": [
       "'cat'"
      ]
     },
     "execution_count": 24,
     "metadata": {},
     "output_type": "execute_result"
    }
   ],
   "source": [
    "z[0:3]\n"
   ]
  },
  {
   "cell_type": "code",
   "execution_count": 25,
   "id": "ade900d2",
   "metadata": {},
   "outputs": [
    {
     "data": {
      "text/plain": [
       "'cat '"
      ]
     },
     "execution_count": 25,
     "metadata": {},
     "output_type": "execute_result"
    }
   ],
   "source": [
    "z[0:4]"
   ]
  },
  {
   "cell_type": "code",
   "execution_count": 26,
   "id": "8b0a63b8",
   "metadata": {},
   "outputs": [
    {
     "data": {
      "text/plain": [
       "'cat'"
      ]
     },
     "execution_count": 26,
     "metadata": {},
     "output_type": "execute_result"
    }
   ],
   "source": [
    "z[:3]"
   ]
  },
  {
   "cell_type": "code",
   "execution_count": 27,
   "id": "1e0c0bba",
   "metadata": {},
   "outputs": [
    {
     "data": {
      "text/plain": [
       "' dog'"
      ]
     },
     "execution_count": 27,
     "metadata": {},
     "output_type": "execute_result"
    }
   ],
   "source": [
    "z[4:]"
   ]
  },
  {
   "cell_type": "code",
   "execution_count": 28,
   "id": "e32d4c16",
   "metadata": {},
   "outputs": [
    {
     "data": {
      "text/plain": [
       "'  dog'"
      ]
     },
     "execution_count": 28,
     "metadata": {},
     "output_type": "execute_result"
    }
   ],
   "source": [
    "z[3:]"
   ]
  },
  {
   "cell_type": "code",
   "execution_count": 29,
   "id": "8d8d8fba",
   "metadata": {},
   "outputs": [
    {
     "data": {
      "text/plain": [
       "'cat  dog'"
      ]
     },
     "execution_count": 29,
     "metadata": {},
     "output_type": "execute_result"
    }
   ],
   "source": [
    "z[:]"
   ]
  },
  {
   "cell_type": "code",
   "execution_count": 31,
   "id": "2cb0e0f6",
   "metadata": {},
   "outputs": [
    {
     "data": {
      "text/plain": [
       "'ct o'"
      ]
     },
     "execution_count": 31,
     "metadata": {},
     "output_type": "execute_result"
    }
   ],
   "source": [
    "#z[start:stop:step]\n",
    "z[::2]"
   ]
  },
  {
   "cell_type": "code",
   "execution_count": 32,
   "id": "9bfe3ed5",
   "metadata": {},
   "outputs": [
    {
     "name": "stdout",
     "output_type": "stream",
     "text": [
      "this is Python\n"
     ]
    }
   ],
   "source": [
    "print(\"this is Python\")"
   ]
  },
  {
   "cell_type": "code",
   "execution_count": 33,
   "id": "1570a96b",
   "metadata": {},
   "outputs": [
    {
     "name": "stdout",
     "output_type": "stream",
     "text": [
      "this \n",
      " is Python\n"
     ]
    }
   ],
   "source": [
    "print(\"this \\n is Python\")"
   ]
  },
  {
   "cell_type": "code",
   "execution_count": 34,
   "id": "56d8cb6d",
   "metadata": {},
   "outputs": [
    {
     "name": "stdout",
     "output_type": "stream",
     "text": [
      "this \n",
      "is \n",
      "Python\n"
     ]
    }
   ],
   "source": [
    "print(\"this \\nis \\nPython\")"
   ]
  },
  {
   "cell_type": "code",
   "execution_count": 35,
   "id": "7aaaae75",
   "metadata": {},
   "outputs": [
    {
     "name": "stdout",
     "output_type": "stream",
     "text": [
      "this \tis \tPython\n"
     ]
    }
   ],
   "source": [
    "print(\"this \\tis \\tPython\")"
   ]
  },
  {
   "cell_type": "code",
   "execution_count": 36,
   "id": "b544833c",
   "metadata": {},
   "outputs": [
    {
     "data": {
      "text/plain": [
       "'cat  dog'"
      ]
     },
     "execution_count": 36,
     "metadata": {},
     "output_type": "execute_result"
    }
   ],
   "source": [
    "z"
   ]
  },
  {
   "cell_type": "code",
   "execution_count": 37,
   "id": "1060d5e5",
   "metadata": {},
   "outputs": [
    {
     "data": {
      "text/plain": [
       "8"
      ]
     },
     "execution_count": 37,
     "metadata": {},
     "output_type": "execute_result"
    }
   ],
   "source": [
    "len(z)"
   ]
  },
  {
   "cell_type": "code",
   "execution_count": 38,
   "id": "3b25da39",
   "metadata": {},
   "outputs": [
    {
     "data": {
      "text/plain": [
       "14"
      ]
     },
     "execution_count": 38,
     "metadata": {},
     "output_type": "execute_result"
    }
   ],
   "source": [
    "len(\"this is Python\")"
   ]
  },
  {
   "cell_type": "code",
   "execution_count": 39,
   "id": "c0b60585",
   "metadata": {},
   "outputs": [
    {
     "data": {
      "text/plain": [
       "17"
      ]
     },
     "execution_count": 39,
     "metadata": {},
     "output_type": "execute_result"
    }
   ],
   "source": [
    "len(\"para medir frases\")"
   ]
  },
  {
   "cell_type": "code",
   "execution_count": null,
   "id": "79f971d9",
   "metadata": {},
   "outputs": [],
   "source": []
  }
 ],
 "metadata": {
  "kernelspec": {
   "display_name": "Python 3 (ipykernel)",
   "language": "python",
   "name": "python3"
  },
  "language_info": {
   "codemirror_mode": {
    "name": "ipython",
    "version": 3
   },
   "file_extension": ".py",
   "mimetype": "text/x-python",
   "name": "python",
   "nbconvert_exporter": "python",
   "pygments_lexer": "ipython3",
   "version": "3.8.3"
  }
 },
 "nbformat": 4,
 "nbformat_minor": 5
}
