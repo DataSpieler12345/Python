{
  "nbformat": 4,
  "nbformat_minor": 0,
  "metadata": {
    "colab": {
      "name": "OperacionesCadenasTextos.ipynb",
      "provenance": [],
      "authorship_tag": "ABX9TyOLlOENVeuRVqSDX6niFGg8",
      "include_colab_link": true
    },
    "kernelspec": {
      "name": "python3",
      "display_name": "Python 3"
    },
    "language_info": {
      "name": "python"
    }
  },
  "cells": [
    {
      "cell_type": "markdown",
      "metadata": {
        "id": "view-in-github",
        "colab_type": "text"
      },
      "source": [
        "<a href=\"https://colab.research.google.com/github/DataSpieler12345/Python/blob/main/OperacionesCadenasTextos.ipynb\" target=\"_parent\"><img src=\"https://colab.research.google.com/assets/colab-badge.svg\" alt=\"Open In Colab\"/></a>"
      ]
    },
    {
      "cell_type": "code",
      "execution_count": 1,
      "metadata": {
        "id": "IijNduc4DKYN"
      },
      "outputs": [],
      "source": [
        "cadena =\"EjEmplO dE CaDENa de TExtoS\""
      ]
    },
    {
      "cell_type": "markdown",
      "source": [
        "Convertir a minusculas \n"
      ],
      "metadata": {
        "id": "BPeCx8EbDRpE"
      }
    },
    {
      "cell_type": "code",
      "source": [
        "cadena.lower()"
      ],
      "metadata": {
        "colab": {
          "base_uri": "https://localhost:8080/",
          "height": 35
        },
        "id": "BcUFU1J8Dt2D",
        "outputId": "f7b418de-430f-4e95-acf9-b8fe96a8fa6c"
      },
      "execution_count": 2,
      "outputs": [
        {
          "output_type": "execute_result",
          "data": {
            "text/plain": [
              "'ejemplo de cadena de textos'"
            ],
            "application/vnd.google.colaboratory.intrinsic+json": {
              "type": "string"
            }
          },
          "metadata": {},
          "execution_count": 2
        }
      ]
    },
    {
      "cell_type": "markdown",
      "source": [
        "Convertir a Mayusculas "
      ],
      "metadata": {
        "id": "6PIrxC-KEgWr"
      }
    },
    {
      "cell_type": "code",
      "source": [
        "cadena.upper()\n"
      ],
      "metadata": {
        "colab": {
          "base_uri": "https://localhost:8080/",
          "height": 35
        },
        "id": "gt5LafhrEiJa",
        "outputId": "faa02a6d-f198-4592-87c2-622ae707b3ab"
      },
      "execution_count": 3,
      "outputs": [
        {
          "output_type": "execute_result",
          "data": {
            "text/plain": [
              "'EJEMPLO DE CADENA DE TEXTOS'"
            ],
            "application/vnd.google.colaboratory.intrinsic+json": {
              "type": "string"
            }
          },
          "metadata": {},
          "execution_count": 3
        }
      ]
    },
    {
      "cell_type": "markdown",
      "source": [
        "Capital "
      ],
      "metadata": {
        "id": "ziXsy3PzEpsN"
      }
    },
    {
      "cell_type": "code",
      "source": [
        "cadena.capitalize()"
      ],
      "metadata": {
        "colab": {
          "base_uri": "https://localhost:8080/",
          "height": 35
        },
        "id": "Sj2gqEkxEq3u",
        "outputId": "56c0c2af-6473-46b7-ae93-db71487367ab"
      },
      "execution_count": 4,
      "outputs": [
        {
          "output_type": "execute_result",
          "data": {
            "text/plain": [
              "'Ejemplo de cadena de textos'"
            ],
            "application/vnd.google.colaboratory.intrinsic+json": {
              "type": "string"
            }
          },
          "metadata": {},
          "execution_count": 4
        }
      ]
    },
    {
      "cell_type": "markdown",
      "source": [
        "Primera letra por cada palabra en mayuscula"
      ],
      "metadata": {
        "id": "-rSKbhc7E4vr"
      }
    },
    {
      "cell_type": "code",
      "source": [
        "cadena.title()"
      ],
      "metadata": {
        "colab": {
          "base_uri": "https://localhost:8080/",
          "height": 35
        },
        "id": "e32H2O1sE8aY",
        "outputId": "6519e12b-9d07-4f0c-8303-a1f002f32e2c"
      },
      "execution_count": 5,
      "outputs": [
        {
          "output_type": "execute_result",
          "data": {
            "text/plain": [
              "'Ejemplo De Cadena De Textos'"
            ],
            "application/vnd.google.colaboratory.intrinsic+json": {
              "type": "string"
            }
          },
          "metadata": {},
          "execution_count": 5
        }
      ]
    },
    {
      "cell_type": "markdown",
      "source": [
        "Conversion contrario / invierte la cadena "
      ],
      "metadata": {
        "id": "aD0v9B27FDAP"
      }
    },
    {
      "cell_type": "code",
      "source": [
        "cadena.swapcase()"
      ],
      "metadata": {
        "colab": {
          "base_uri": "https://localhost:8080/",
          "height": 35
        },
        "id": "3YKLMhuMFJaY",
        "outputId": "63ca0c95-1247-4852-957f-0eee0a385b09"
      },
      "execution_count": 6,
      "outputs": [
        {
          "output_type": "execute_result",
          "data": {
            "text/plain": [
              "'eJeMPLo De cAdenA DE teXTOs'"
            ],
            "application/vnd.google.colaboratory.intrinsic+json": {
              "type": "string"
            }
          },
          "metadata": {},
          "execution_count": 6
        }
      ]
    },
    {
      "cell_type": "markdown",
      "source": [
        "Mayusculas?"
      ],
      "metadata": {
        "id": "l3wvtp_DGBRc"
      }
    },
    {
      "cell_type": "code",
      "source": [
        "cadena.isupper()"
      ],
      "metadata": {
        "colab": {
          "base_uri": "https://localhost:8080/"
        },
        "id": "2XBRIbeIGDep",
        "outputId": "d226ad93-2b7d-422b-fd3f-56c482747e3e"
      },
      "execution_count": 7,
      "outputs": [
        {
          "output_type": "execute_result",
          "data": {
            "text/plain": [
              "False"
            ]
          },
          "metadata": {},
          "execution_count": 7
        }
      ]
    },
    {
      "cell_type": "markdown",
      "source": [
        "Minusculas?"
      ],
      "metadata": {
        "id": "wreXEuG3GSKo"
      }
    },
    {
      "cell_type": "code",
      "source": [
        "cadena.islower()"
      ],
      "metadata": {
        "colab": {
          "base_uri": "https://localhost:8080/"
        },
        "id": "m1AkhciNGTxA",
        "outputId": "4ca9880c-1d68-41b2-fe50-3a2a70e3b865"
      },
      "execution_count": 8,
      "outputs": [
        {
          "output_type": "execute_result",
          "data": {
            "text/plain": [
              "False"
            ]
          },
          "metadata": {},
          "execution_count": 8
        }
      ]
    },
    {
      "cell_type": "markdown",
      "source": [
        "Es numerica?"
      ],
      "metadata": {
        "id": "MiTSktYiHA-Z"
      }
    },
    {
      "cell_type": "code",
      "source": [
        "cadena = \"1234\"\n",
        "cadena.isnumeric()"
      ],
      "metadata": {
        "colab": {
          "base_uri": "https://localhost:8080/"
        },
        "id": "VwujCRFuHCYl",
        "outputId": "25b2426c-ba84-4d8c-ead6-67724098d825"
      },
      "execution_count": 9,
      "outputs": [
        {
          "output_type": "execute_result",
          "data": {
            "text/plain": [
              "True"
            ]
          },
          "metadata": {},
          "execution_count": 9
        }
      ]
    },
    {
      "cell_type": "markdown",
      "source": [
        "Para comprobar si tiene letras y numeros y no caracteres extranos"
      ],
      "metadata": {
        "id": "GN9d-EIQHel5"
      }
    },
    {
      "cell_type": "code",
      "source": [
        "cadena.isalnum()"
      ],
      "metadata": {
        "colab": {
          "base_uri": "https://localhost:8080/"
        },
        "id": "dmCT9HZlHia4",
        "outputId": "dbf646ca-09d5-4395-d089-d29150082e16"
      },
      "execution_count": 10,
      "outputs": [
        {
          "output_type": "execute_result",
          "data": {
            "text/plain": [
              "True"
            ]
          },
          "metadata": {},
          "execution_count": 10
        }
      ]
    },
    {
      "cell_type": "code",
      "source": [
        "cadena = \"#-+*\"\n",
        "cadena.isalnum()"
      ],
      "metadata": {
        "colab": {
          "base_uri": "https://localhost:8080/"
        },
        "id": "gt6cyrZgHytZ",
        "outputId": "f7c022cc-9726-4f0a-db85-dbcde8f2ea3f"
      },
      "execution_count": 11,
      "outputs": [
        {
          "output_type": "execute_result",
          "data": {
            "text/plain": [
              "False"
            ]
          },
          "metadata": {},
          "execution_count": 11
        }
      ]
    },
    {
      "cell_type": "markdown",
      "source": [
        "Comprobar si es un titulo?"
      ],
      "metadata": {
        "id": "KcaVndMKIOx7"
      }
    },
    {
      "cell_type": "code",
      "source": [
        "cadena = \"Titulo 1\"\n",
        "cadena.istitle()"
      ],
      "metadata": {
        "colab": {
          "base_uri": "https://localhost:8080/"
        },
        "id": "-t31NhJeIRfD",
        "outputId": "57280c93-4f67-4f18-db37-e221e02331c7"
      },
      "execution_count": 12,
      "outputs": [
        {
          "output_type": "execute_result",
          "data": {
            "text/plain": [
              "True"
            ]
          },
          "metadata": {},
          "execution_count": 12
        }
      ]
    }
  ]
}