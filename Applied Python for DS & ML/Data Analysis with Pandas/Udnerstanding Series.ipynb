{
 "cells": [
  {
   "cell_type": "markdown",
   "id": "7cfc5583",
   "metadata": {},
   "source": [
    "### DataFrame / Series"
   ]
  },
  {
   "cell_type": "code",
   "execution_count": 8,
   "id": "aed5e893",
   "metadata": {},
   "outputs": [],
   "source": [
    "import pandas as pd\n",
    "import numpy as np"
   ]
  },
  {
   "cell_type": "code",
   "execution_count": 1,
   "id": "4435a4b3",
   "metadata": {},
   "outputs": [
    {
     "data": {
      "text/plain": [
       "[4, 5, 6]"
      ]
     },
     "execution_count": 1,
     "metadata": {},
     "output_type": "execute_result"
    }
   ],
   "source": [
    "# list\n",
    "data_height = [4,5,6]\n",
    "data_height"
   ]
  },
  {
   "cell_type": "code",
   "execution_count": 3,
   "id": "e5bb105f",
   "metadata": {},
   "outputs": [
    {
     "data": {
      "text/plain": [
       "0    4\n",
       "1    5\n",
       "2    6\n",
       "dtype: int64"
      ]
     },
     "execution_count": 3,
     "metadata": {},
     "output_type": "execute_result"
    }
   ],
   "source": [
    "pd.Series(data_height) # 0,1,2 are our index number"
   ]
  },
  {
   "cell_type": "code",
   "execution_count": 4,
   "id": "ded05253",
   "metadata": {},
   "outputs": [],
   "source": [
    "index_height = ['I','II','III'] #creating a new index "
   ]
  },
  {
   "cell_type": "code",
   "execution_count": 5,
   "id": "2d68e30a",
   "metadata": {},
   "outputs": [
    {
     "data": {
      "text/plain": [
       "I      4\n",
       "II     5\n",
       "III    6\n",
       "dtype: int64"
      ]
     },
     "execution_count": 5,
     "metadata": {},
     "output_type": "execute_result"
    }
   ],
   "source": [
    "pd.Series(data=data_height, index=index_height) # with the new index"
   ]
  },
  {
   "cell_type": "code",
   "execution_count": 6,
   "id": "7f8679fc",
   "metadata": {},
   "outputs": [],
   "source": [
    "index1_height = ['a','b','c'] #creating a new index "
   ]
  },
  {
   "cell_type": "code",
   "execution_count": 7,
   "id": "b0b42119",
   "metadata": {},
   "outputs": [
    {
     "data": {
      "text/plain": [
       "a    4\n",
       "b    5\n",
       "c    6\n",
       "dtype: int64"
      ]
     },
     "execution_count": 7,
     "metadata": {},
     "output_type": "execute_result"
    }
   ],
   "source": [
    "pd.Series(data=data_height, index=index1_height) # with the new index"
   ]
  },
  {
   "cell_type": "markdown",
   "id": "1064852d",
   "metadata": {},
   "source": [
    "#### Numpy"
   ]
  },
  {
   "cell_type": "code",
   "execution_count": 14,
   "id": "b9e51954",
   "metadata": {},
   "outputs": [
    {
     "data": {
      "text/plain": [
       "a    4\n",
       "b    5\n",
       "c    6\n",
       "dtype: int32"
      ]
     },
     "execution_count": 14,
     "metadata": {},
     "output_type": "execute_result"
    }
   ],
   "source": [
    "data_np = np.array(data_height)\n",
    "pd.Series(data_np,index1_height)"
   ]
  },
  {
   "cell_type": "code",
   "execution_count": 19,
   "id": "f6e1c96c",
   "metadata": {},
   "outputs": [
    {
     "data": {
      "text/plain": [
       "{'a': 4, 'b': 5, 'd': 7}"
      ]
     },
     "execution_count": 19,
     "metadata": {},
     "output_type": "execute_result"
    }
   ],
   "source": [
    "# lets create a dictionary\n",
    "\n",
    "data_DH = {\n",
    "    'a':4,\n",
    "    'b':5,\n",
    "    'd':7\n",
    "}\n",
    "data_DH"
   ]
  },
  {
   "cell_type": "code",
   "execution_count": 20,
   "id": "7dda7c75",
   "metadata": {},
   "outputs": [
    {
     "data": {
      "text/plain": [
       "a    4\n",
       "b    5\n",
       "d    7\n",
       "dtype: int64"
      ]
     },
     "execution_count": 20,
     "metadata": {},
     "output_type": "execute_result"
    }
   ],
   "source": [
    "# create a Serie\n",
    "pd.Series(data_DH)"
   ]
  },
  {
   "cell_type": "code",
   "execution_count": 21,
   "id": "07a0281d",
   "metadata": {},
   "outputs": [
    {
     "data": {
      "text/plain": [
       "a    4.0\n",
       "b    5.0\n",
       "c    NaN\n",
       "dtype: float64"
      ]
     },
     "execution_count": 21,
     "metadata": {},
     "output_type": "execute_result"
    }
   ],
   "source": [
    "#add labels to the series\n",
    "pd.Series(data_DH, index=index1_height) #Nan value"
   ]
  },
  {
   "cell_type": "code",
   "execution_count": null,
   "id": "004ecba7",
   "metadata": {},
   "outputs": [],
   "source": []
  }
 ],
 "metadata": {
  "kernelspec": {
   "display_name": "Python 3 (ipykernel)",
   "language": "python",
   "name": "python3"
  },
  "language_info": {
   "codemirror_mode": {
    "name": "ipython",
    "version": 3
   },
   "file_extension": ".py",
   "mimetype": "text/x-python",
   "name": "python",
   "nbconvert_exporter": "python",
   "pygments_lexer": "ipython3",
   "version": "3.9.13"
  }
 },
 "nbformat": 4,
 "nbformat_minor": 5
}
