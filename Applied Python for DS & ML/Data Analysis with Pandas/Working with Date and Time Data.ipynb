{
 "cells": [
  {
   "cell_type": "code",
   "execution_count": 1,
   "id": "a553af2f",
   "metadata": {},
   "outputs": [],
   "source": [
    "import pandas as pd"
   ]
  },
  {
   "cell_type": "code",
   "execution_count": 9,
   "id": "fd91fdd8",
   "metadata": {},
   "outputs": [
    {
     "data": {
      "text/html": [
       "<div>\n",
       "<style scoped>\n",
       "    .dataframe tbody tr th:only-of-type {\n",
       "        vertical-align: middle;\n",
       "    }\n",
       "\n",
       "    .dataframe tbody tr th {\n",
       "        vertical-align: top;\n",
       "    }\n",
       "\n",
       "    .dataframe thead th {\n",
       "        text-align: right;\n",
       "    }\n",
       "</style>\n",
       "<table border=\"1\" class=\"dataframe\">\n",
       "  <thead>\n",
       "    <tr style=\"text-align: right;\">\n",
       "      <th></th>\n",
       "      <th>DateTime</th>\n",
       "      <th>Magnitude</th>\n",
       "      <th>Depth</th>\n",
       "      <th>Latitude</th>\n",
       "      <th>Longitude</th>\n",
       "      <th>Source</th>\n",
       "    </tr>\n",
       "  </thead>\n",
       "  <tbody>\n",
       "    <tr>\n",
       "      <th>0</th>\n",
       "      <td>01/01/1973 11:42</td>\n",
       "      <td>6</td>\n",
       "      <td>33</td>\n",
       "      <td>-35513</td>\n",
       "      <td>-16211</td>\n",
       "      <td>US</td>\n",
       "    </tr>\n",
       "    <tr>\n",
       "      <th>1</th>\n",
       "      <td>01/02/1973 00:53</td>\n",
       "      <td>55</td>\n",
       "      <td>66</td>\n",
       "      <td>-9854</td>\n",
       "      <td>117427</td>\n",
       "      <td>US</td>\n",
       "    </tr>\n",
       "    <tr>\n",
       "      <th>2</th>\n",
       "      <td>01/03/1973 02:58</td>\n",
       "      <td>56</td>\n",
       "      <td>563</td>\n",
       "      <td>-27716</td>\n",
       "      <td>-63261</td>\n",
       "      <td>US</td>\n",
       "    </tr>\n",
       "    <tr>\n",
       "      <th>3</th>\n",
       "      <td>01/03/1973 14:31</td>\n",
       "      <td>55</td>\n",
       "      <td>33</td>\n",
       "      <td>39114</td>\n",
       "      <td>71889</td>\n",
       "      <td>US</td>\n",
       "    </tr>\n",
       "    <tr>\n",
       "      <th>4</th>\n",
       "      <td>01/05/1973 13:54</td>\n",
       "      <td>62</td>\n",
       "      <td>150</td>\n",
       "      <td>-38997</td>\n",
       "      <td>175232</td>\n",
       "      <td>US</td>\n",
       "    </tr>\n",
       "    <tr>\n",
       "      <th>...</th>\n",
       "      <td>...</td>\n",
       "      <td>...</td>\n",
       "      <td>...</td>\n",
       "      <td>...</td>\n",
       "      <td>...</td>\n",
       "      <td>...</td>\n",
       "    </tr>\n",
       "    <tr>\n",
       "      <th>20625</th>\n",
       "      <td>12/25/2016 14:32</td>\n",
       "      <td>56</td>\n",
       "      <td>1493</td>\n",
       "      <td>-43481</td>\n",
       "      <td>-744771</td>\n",
       "      <td>US</td>\n",
       "    </tr>\n",
       "    <tr>\n",
       "      <th>20626</th>\n",
       "      <td>12/27/2016 23:20</td>\n",
       "      <td>56</td>\n",
       "      <td>97</td>\n",
       "      <td>457192</td>\n",
       "      <td>26523</td>\n",
       "      <td>US</td>\n",
       "    </tr>\n",
       "    <tr>\n",
       "      <th>20627</th>\n",
       "      <td>12/28/2016 12:38</td>\n",
       "      <td>59</td>\n",
       "      <td>10</td>\n",
       "      <td>369179</td>\n",
       "      <td>1404262</td>\n",
       "      <td>US</td>\n",
       "    </tr>\n",
       "    <tr>\n",
       "      <th>20628</th>\n",
       "      <td>12/29/2016 22:30</td>\n",
       "      <td>63</td>\n",
       "      <td>79</td>\n",
       "      <td>-90283</td>\n",
       "      <td>1186639</td>\n",
       "      <td>US</td>\n",
       "    </tr>\n",
       "    <tr>\n",
       "      <th>20629</th>\n",
       "      <td>12/30/2016 20:08</td>\n",
       "      <td>55</td>\n",
       "      <td>1194</td>\n",
       "      <td>373973</td>\n",
       "      <td>1414103</td>\n",
       "      <td>US</td>\n",
       "    </tr>\n",
       "  </tbody>\n",
       "</table>\n",
       "<p>20630 rows × 6 columns</p>\n",
       "</div>"
      ],
      "text/plain": [
       "               DateTime  Magnitude  Depth  Latitude  Longitude Source\n",
       "0      01/01/1973 11:42          6     33    -35513     -16211     US\n",
       "1      01/02/1973 00:53         55     66     -9854     117427     US\n",
       "2      01/03/1973 02:58         56    563    -27716     -63261     US\n",
       "3      01/03/1973 14:31         55     33     39114      71889     US\n",
       "4      01/05/1973 13:54         62    150    -38997     175232     US\n",
       "...                 ...        ...    ...       ...        ...    ...\n",
       "20625  12/25/2016 14:32         56   1493    -43481    -744771     US\n",
       "20626  12/27/2016 23:20         56     97    457192      26523     US\n",
       "20627  12/28/2016 12:38         59     10    369179    1404262     US\n",
       "20628  12/29/2016 22:30         63     79    -90283    1186639     US\n",
       "20629  12/30/2016 20:08         55   1194    373973    1414103     US\n",
       "\n",
       "[20630 rows x 6 columns]"
      ]
     },
     "execution_count": 9,
     "metadata": {},
     "output_type": "execute_result"
    }
   ],
   "source": [
    "df = pd.read_excel(\"E:\\DATA SETS\\earthquake_mini.xlsx\", index_col=0)\n",
    "df"
   ]
  },
  {
   "cell_type": "code",
   "execution_count": 10,
   "id": "1f014e99",
   "metadata": {},
   "outputs": [
    {
     "name": "stdout",
     "output_type": "stream",
     "text": [
      "<class 'pandas.core.frame.DataFrame'>\n",
      "Index: 20630 entries, 0 to 20629\n",
      "Data columns (total 6 columns):\n",
      " #   Column     Non-Null Count  Dtype \n",
      "---  ------     --------------  ----- \n",
      " 0   DateTime   20627 non-null  object\n",
      " 1   Magnitude  20630 non-null  int64 \n",
      " 2   Depth      20630 non-null  int64 \n",
      " 3   Latitude   20630 non-null  int64 \n",
      " 4   Longitude  20630 non-null  int64 \n",
      " 5   Source     20630 non-null  object\n",
      "dtypes: int64(4), object(2)\n",
      "memory usage: 1.1+ MB\n"
     ]
    }
   ],
   "source": [
    "df.info() #notice that dateTime columns is an object"
   ]
  },
  {
   "cell_type": "code",
   "execution_count": 11,
   "id": "3e40408e",
   "metadata": {},
   "outputs": [
    {
     "data": {
      "text/plain": [
       "0        01/01/1973 11:42\n",
       "1        01/02/1973 00:53\n",
       "2        01/03/1973 02:58\n",
       "3        01/03/1973 14:31\n",
       "4        01/05/1973 13:54\n",
       "               ...       \n",
       "20625    12/25/2016 14:32\n",
       "20626    12/27/2016 23:20\n",
       "20627    12/28/2016 12:38\n",
       "20628    12/29/2016 22:30\n",
       "20629    12/30/2016 20:08\n",
       "Name: DateTime, Length: 20630, dtype: object"
      ]
     },
     "execution_count": 11,
     "metadata": {},
     "output_type": "execute_result"
    }
   ],
   "source": [
    "#look at the date\n",
    "df[\"DateTime\"]"
   ]
  },
  {
   "cell_type": "code",
   "execution_count": 15,
   "id": "04d7d37f",
   "metadata": {},
   "outputs": [
    {
     "name": "stdout",
     "output_type": "stream",
     "text": [
      "DateTime     datetime64[ns]\n",
      "Magnitude             int64\n",
      "Depth                 int64\n",
      "Latitude              int64\n",
      "Longitude             int64\n",
      "Source               object\n",
      "dtype: object\n"
     ]
    }
   ],
   "source": [
    "# Convert the \"DateTime\" column to a Pandas date and time object with the desired format.\n",
    "df['DateTime'] = pd.to_datetime(df['DateTime'], format='%m/%d/%Y %H:%M')\n",
    "\n",
    "# Verify that the conversion was successful\n",
    "print(df.dtypes)"
   ]
  },
  {
   "cell_type": "code",
   "execution_count": 21,
   "id": "5b95e770",
   "metadata": {},
   "outputs": [
    {
     "name": "stdout",
     "output_type": "stream",
     "text": [
      "<class 'pandas.core.frame.DataFrame'>\n",
      "Index: 20630 entries, 0 to 20629\n",
      "Data columns (total 6 columns):\n",
      " #   Column     Non-Null Count  Dtype         \n",
      "---  ------     --------------  -----         \n",
      " 0   DateTime   20627 non-null  datetime64[ns]\n",
      " 1   Magnitude  20630 non-null  int64         \n",
      " 2   Depth      20630 non-null  int64         \n",
      " 3   Latitude   20630 non-null  int64         \n",
      " 4   Longitude  20630 non-null  int64         \n",
      " 5   Source     20630 non-null  object        \n",
      "dtypes: datetime64[ns](1), int64(4), object(1)\n",
      "memory usage: 1.1+ MB\n"
     ]
    }
   ],
   "source": [
    "df.info()"
   ]
  },
  {
   "cell_type": "code",
   "execution_count": 24,
   "id": "4552d307",
   "metadata": {},
   "outputs": [],
   "source": [
    "#dt.day_name properties\n",
    "df['DayName'] = df['DateTime'].dt.day_name()"
   ]
  },
  {
   "cell_type": "code",
   "execution_count": 25,
   "id": "40dabc98",
   "metadata": {},
   "outputs": [
    {
     "name": "stdout",
     "output_type": "stream",
     "text": [
      "             DateTime  Magnitude  Depth  Latitude  Longitude Source    DayName\n",
      "0 1973-01-01 11:42:00          6     33    -35513     -16211     US     Monday\n",
      "1 1973-01-02 00:53:00         55     66     -9854     117427     US    Tuesday\n",
      "2 1973-01-03 02:58:00         56    563    -27716     -63261     US  Wednesday\n",
      "3 1973-01-03 14:31:00         55     33     39114      71889     US  Wednesday\n",
      "4 1973-01-05 13:54:00         62    150    -38997     175232     US     Friday\n"
     ]
    }
   ],
   "source": [
    "print(df.head())"
   ]
  },
  {
   "cell_type": "code",
   "execution_count": 26,
   "id": "53f54545",
   "metadata": {},
   "outputs": [
    {
     "data": {
      "text/plain": [
       "0        1.0\n",
       "1        1.0\n",
       "2        1.0\n",
       "3        1.0\n",
       "4        1.0\n",
       "        ... \n",
       "20625    4.0\n",
       "20626    4.0\n",
       "20627    4.0\n",
       "20628    4.0\n",
       "20629    4.0\n",
       "Name: DateTime, Length: 20630, dtype: float64"
      ]
     },
     "execution_count": 26,
     "metadata": {},
     "output_type": "execute_result"
    }
   ],
   "source": [
    "#dt.quarter\n",
    "df[\"DateTime\"].dt.quarter"
   ]
  },
  {
   "cell_type": "code",
   "execution_count": 27,
   "id": "6f4eb4d7",
   "metadata": {},
   "outputs": [
    {
     "data": {
      "text/plain": [
       "0         01-January-1973\n",
       "1         02-January-1973\n",
       "2         03-January-1973\n",
       "3         03-January-1973\n",
       "4         05-January-1973\n",
       "               ...       \n",
       "20625    25-December-2016\n",
       "20626    27-December-2016\n",
       "20627    28-December-2016\n",
       "20628    29-December-2016\n",
       "20629    30-December-2016\n",
       "Name: DateTime, Length: 20630, dtype: object"
      ]
     },
     "execution_count": 27,
     "metadata": {},
     "output_type": "execute_result"
    }
   ],
   "source": [
    "#strftime\n",
    "df[\"DateTime\"].dt.strftime(\"%d-%B-%Y\")"
   ]
  },
  {
   "cell_type": "code",
   "execution_count": null,
   "id": "39b26c0c",
   "metadata": {},
   "outputs": [],
   "source": []
  }
 ],
 "metadata": {
  "kernelspec": {
   "display_name": "Python 3 (ipykernel)",
   "language": "python",
   "name": "python3"
  },
  "language_info": {
   "codemirror_mode": {
    "name": "ipython",
    "version": 3
   },
   "file_extension": ".py",
   "mimetype": "text/x-python",
   "name": "python",
   "nbconvert_exporter": "python",
   "pygments_lexer": "ipython3",
   "version": "3.9.13"
  }
 },
 "nbformat": 4,
 "nbformat_minor": 5
}
