{
 "cells": [
  {
   "cell_type": "markdown",
   "id": "6fb44063",
   "metadata": {},
   "source": [
    "<center><h1><b><font size=\"6\">Hypothesis Testing in Data Science with Python</font></b></h1></center>"
   ]
  },
  {
   "cell_type": "markdown",
   "id": "9a526593",
   "metadata": {},
   "source": [
    "##### Libraries "
   ]
  },
  {
   "cell_type": "code",
   "execution_count": 1,
   "id": "68c22959",
   "metadata": {},
   "outputs": [],
   "source": [
    "import pandas as pd\n",
    "import numpy as np\n",
    "from statsmodels.stats.proportion import proportions_ztest"
   ]
  },
  {
   "cell_type": "markdown",
   "id": "1048c1dd",
   "metadata": {},
   "source": [
    "#### Step 1: defines the hypothesis\n",
    "##### H0: Sales on both websites are statistically equal.\n",
    "##### H1: Sales on the two websites are significantly different from each other."
   ]
  },
  {
   "cell_type": "markdown",
   "id": "59ea1689",
   "metadata": {},
   "source": [
    "##### Step 2: we choose a confidence level that gives us an alpha\n",
    "##### NC = 95%"
   ]
  },
  {
   "cell_type": "code",
   "execution_count": 2,
   "id": "e96d3498",
   "metadata": {},
   "outputs": [],
   "source": [
    "alpha = 0.05"
   ]
  },
  {
   "cell_type": "markdown",
   "id": "3732a225",
   "metadata": {},
   "source": [
    "##### Step 3: calculate the pvalue according to the chosen contrast statistic (z over two samples)"
   ]
  },
  {
   "cell_type": "code",
   "execution_count": 3,
   "id": "2fdc02dd",
   "metadata": {},
   "outputs": [
    {
     "name": "stdout",
     "output_type": "stream",
     "text": [
      "0.023\n"
     ]
    }
   ],
   "source": [
    "sales_a = 38\n",
    "sales_b = 60\n",
    "population_a = 1000\n",
    "population_b = 1000\n",
    "\n",
    "#We pass it to array because that is what the function asks for.\n",
    "array_sales = np.array([sales_a,sales_b])\n",
    "array_population = np.array([population_a, population_b])\n",
    "\n",
    "p_value = proportions_ztest(count = array_sales, nobs = array_population)[1]\n",
    "print(f\"{p_value:.3f}\")"
   ]
  },
  {
   "cell_type": "markdown",
   "id": "ca9213b1",
   "metadata": {},
   "source": [
    "##### Conclusion\n",
    "\n",
    "Since the p_value is less than alpha, we can reject the null hypothesis. \n",
    "\n",
    "And therefore we conclude that page B converts better than page A with a statistically significant difference at a confidence level of 95%."
   ]
  },
  {
   "cell_type": "markdown",
   "id": "37549deb",
   "metadata": {},
   "source": [
    "##### online sources"
   ]
  },
  {
   "cell_type": "markdown",
   "id": "500a19f8",
   "metadata": {},
   "source": [
    "https://abtestguide.com/calc/"
   ]
  },
  {
   "cell_type": "markdown",
   "id": "a064effc",
   "metadata": {},
   "source": [
    "https://neilpatel.com/de/ab-test-signifikanzrechner/"
   ]
  }
 ],
 "metadata": {
  "kernelspec": {
   "display_name": "Python 3 (ipykernel)",
   "language": "python",
   "name": "python3"
  },
  "language_info": {
   "codemirror_mode": {
    "name": "ipython",
    "version": 3
   },
   "file_extension": ".py",
   "mimetype": "text/x-python",
   "name": "python",
   "nbconvert_exporter": "python",
   "pygments_lexer": "ipython3",
   "version": "3.9.13"
  }
 },
 "nbformat": 4,
 "nbformat_minor": 5
}
