{
 "cells": [
  {
   "cell_type": "code",
   "execution_count": 1,
   "id": "7d22913d",
   "metadata": {},
   "outputs": [],
   "source": [
    "import numpy as np"
   ]
  },
  {
   "cell_type": "code",
   "execution_count": 3,
   "id": "eaed71c9",
   "metadata": {},
   "outputs": [
    {
     "data": {
      "text/plain": [
       "array([[ 0,  1,  2],\n",
       "       [ 3,  4,  5],\n",
       "       [ 6,  7,  8],\n",
       "       [ 9, 10, 11]])"
      ]
     },
     "execution_count": 3,
     "metadata": {},
     "output_type": "execute_result"
    }
   ],
   "source": [
    "#create an array\n",
    "ar2d = np.arange(12).reshape(4,3) #4rows | 3 columns\n",
    "ar2d"
   ]
  },
  {
   "cell_type": "code",
   "execution_count": 5,
   "id": "4a561ccd",
   "metadata": {},
   "outputs": [
    {
     "data": {
      "text/plain": [
       "array([0, 1, 2])"
      ]
     },
     "execution_count": 5,
     "metadata": {},
     "output_type": "execute_result"
    }
   ],
   "source": [
    "ar2d[0] #row 0"
   ]
  },
  {
   "cell_type": "code",
   "execution_count": 6,
   "id": "4d058abf",
   "metadata": {},
   "outputs": [
    {
     "data": {
      "text/plain": [
       "array([3, 4, 5])"
      ]
     },
     "execution_count": 6,
     "metadata": {},
     "output_type": "execute_result"
    }
   ],
   "source": [
    "ar2d[1] #row 1 #TIP: One ROW from 2d Array is 1D Array"
   ]
  },
  {
   "cell_type": "code",
   "execution_count": 7,
   "id": "dfa6a960",
   "metadata": {},
   "outputs": [
    {
     "data": {
      "text/plain": [
       "array([6, 7, 8])"
      ]
     },
     "execution_count": 7,
     "metadata": {},
     "output_type": "execute_result"
    }
   ],
   "source": [
    "ar2d[2] #row 2"
   ]
  },
  {
   "cell_type": "code",
   "execution_count": 9,
   "id": "500713fb",
   "metadata": {},
   "outputs": [
    {
     "data": {
      "text/plain": [
       "array([ 9, 10, 11])"
      ]
     },
     "execution_count": 9,
     "metadata": {},
     "output_type": "execute_result"
    }
   ],
   "source": [
    "ar2d[3] #row 3"
   ]
  },
  {
   "cell_type": "markdown",
   "id": "d71dde91",
   "metadata": {},
   "source": [
    "#### The array"
   ]
  },
  {
   "cell_type": "code",
   "execution_count": 11,
   "id": "22d4aa45",
   "metadata": {},
   "outputs": [
    {
     "data": {
      "text/plain": [
       "array([[ 0,  1,  2],\n",
       "       [ 3,  4,  5],\n",
       "       [ 6,  7,  8],\n",
       "       [ 9, 10, 11]])"
      ]
     },
     "execution_count": 11,
     "metadata": {},
     "output_type": "execute_result"
    }
   ],
   "source": [
    "#create an array\n",
    "ar2d = np.arange(12).reshape(4,3) #4rows | 3 columns\n",
    "ar2d"
   ]
  },
  {
   "cell_type": "markdown",
   "id": "dbb92aa7",
   "metadata": {},
   "source": [
    "#### by Row"
   ]
  },
  {
   "cell_type": "code",
   "execution_count": 28,
   "id": "3441bc2d",
   "metadata": {},
   "outputs": [
    {
     "data": {
      "text/plain": [
       "array([0, 1, 2])"
      ]
     },
     "execution_count": 28,
     "metadata": {},
     "output_type": "execute_result"
    }
   ],
   "source": [
    "ar2d[0][:]"
   ]
  },
  {
   "cell_type": "code",
   "execution_count": 29,
   "id": "6c724d53",
   "metadata": {},
   "outputs": [
    {
     "data": {
      "text/plain": [
       "array([3, 4, 5])"
      ]
     },
     "execution_count": 29,
     "metadata": {},
     "output_type": "execute_result"
    }
   ],
   "source": [
    "ar2d[1][:]"
   ]
  },
  {
   "cell_type": "code",
   "execution_count": 32,
   "id": "67ddf0f1",
   "metadata": {},
   "outputs": [
    {
     "data": {
      "text/plain": [
       "array([3, 4, 5])"
      ]
     },
     "execution_count": 32,
     "metadata": {},
     "output_type": "execute_result"
    }
   ],
   "source": [
    "ar2d[1,:] #another option same result |  concept"
   ]
  },
  {
   "cell_type": "code",
   "execution_count": 30,
   "id": "7003a58e",
   "metadata": {},
   "outputs": [
    {
     "data": {
      "text/plain": [
       "array([6, 7, 8])"
      ]
     },
     "execution_count": 30,
     "metadata": {},
     "output_type": "execute_result"
    }
   ],
   "source": [
    "ar2d[2][:]"
   ]
  },
  {
   "cell_type": "code",
   "execution_count": 31,
   "id": "3344ae2d",
   "metadata": {},
   "outputs": [
    {
     "data": {
      "text/plain": [
       "array([ 9, 10, 11])"
      ]
     },
     "execution_count": 31,
     "metadata": {},
     "output_type": "execute_result"
    }
   ],
   "source": [
    "ar2d[3][:]"
   ]
  },
  {
   "cell_type": "markdown",
   "id": "c4bd5a5a",
   "metadata": {},
   "source": [
    "#### Slicing by rows and columns"
   ]
  },
  {
   "cell_type": "code",
   "execution_count": 10,
   "id": "0e1d69f4",
   "metadata": {},
   "outputs": [
    {
     "data": {
      "text/plain": [
       "4"
      ]
     },
     "execution_count": 10,
     "metadata": {},
     "output_type": "execute_result"
    }
   ],
   "source": [
    "ar2d[1][1] # 1 row | 1 element of the row 1"
   ]
  },
  {
   "cell_type": "code",
   "execution_count": 12,
   "id": "29cbd443",
   "metadata": {},
   "outputs": [
    {
     "data": {
      "text/plain": [
       "11"
      ]
     },
     "execution_count": 12,
     "metadata": {},
     "output_type": "execute_result"
    }
   ],
   "source": [
    "#select the element 11\n",
    "ar2d[3][2]"
   ]
  },
  {
   "cell_type": "code",
   "execution_count": 13,
   "id": "5ab7a40e",
   "metadata": {},
   "outputs": [
    {
     "data": {
      "text/plain": [
       "10"
      ]
     },
     "execution_count": 13,
     "metadata": {},
     "output_type": "execute_result"
    }
   ],
   "source": [
    "#select the element 10\n",
    "ar2d[3][1]"
   ]
  },
  {
   "cell_type": "code",
   "execution_count": 14,
   "id": "4dc40421",
   "metadata": {},
   "outputs": [
    {
     "data": {
      "text/plain": [
       "9"
      ]
     },
     "execution_count": 14,
     "metadata": {},
     "output_type": "execute_result"
    }
   ],
   "source": [
    "#select the element 9\n",
    "ar2d[3][0]"
   ]
  },
  {
   "cell_type": "code",
   "execution_count": 15,
   "id": "200a67fe",
   "metadata": {},
   "outputs": [
    {
     "data": {
      "text/plain": [
       "8"
      ]
     },
     "execution_count": 15,
     "metadata": {},
     "output_type": "execute_result"
    }
   ],
   "source": [
    "#select the element 8\n",
    "ar2d[2][2]"
   ]
  },
  {
   "cell_type": "code",
   "execution_count": 24,
   "id": "976913e3",
   "metadata": {},
   "outputs": [
    {
     "data": {
      "text/plain": [
       "8"
      ]
     },
     "execution_count": 24,
     "metadata": {},
     "output_type": "execute_result"
    }
   ],
   "source": [
    "ar2d[2,2]"
   ]
  },
  {
   "cell_type": "code",
   "execution_count": 16,
   "id": "2df2d3f8",
   "metadata": {},
   "outputs": [
    {
     "data": {
      "text/plain": [
       "7"
      ]
     },
     "execution_count": 16,
     "metadata": {},
     "output_type": "execute_result"
    }
   ],
   "source": [
    "#select the element 7\n",
    "ar2d[2][1]"
   ]
  },
  {
   "cell_type": "code",
   "execution_count": 26,
   "id": "be2ef1d7",
   "metadata": {},
   "outputs": [
    {
     "data": {
      "text/plain": [
       "7"
      ]
     },
     "execution_count": 26,
     "metadata": {},
     "output_type": "execute_result"
    }
   ],
   "source": [
    "ar2d[2,1]"
   ]
  },
  {
   "cell_type": "code",
   "execution_count": 17,
   "id": "31d19747",
   "metadata": {},
   "outputs": [
    {
     "data": {
      "text/plain": [
       "6"
      ]
     },
     "execution_count": 17,
     "metadata": {},
     "output_type": "execute_result"
    }
   ],
   "source": [
    "#select the element 6\n",
    "ar2d[2][0]"
   ]
  },
  {
   "cell_type": "code",
   "execution_count": 18,
   "id": "30cf864a",
   "metadata": {},
   "outputs": [
    {
     "data": {
      "text/plain": [
       "5"
      ]
     },
     "execution_count": 18,
     "metadata": {},
     "output_type": "execute_result"
    }
   ],
   "source": [
    "#select the element 5\n",
    "ar2d[1][2]"
   ]
  },
  {
   "cell_type": "code",
   "execution_count": 19,
   "id": "b05fd075",
   "metadata": {},
   "outputs": [
    {
     "data": {
      "text/plain": [
       "4"
      ]
     },
     "execution_count": 19,
     "metadata": {},
     "output_type": "execute_result"
    }
   ],
   "source": [
    "#select the element 4\n",
    "ar2d[1][1]"
   ]
  },
  {
   "cell_type": "code",
   "execution_count": 25,
   "id": "f87cb655",
   "metadata": {},
   "outputs": [
    {
     "data": {
      "text/plain": [
       "4"
      ]
     },
     "execution_count": 25,
     "metadata": {},
     "output_type": "execute_result"
    }
   ],
   "source": [
    "ar2d[1,1]"
   ]
  },
  {
   "cell_type": "code",
   "execution_count": 20,
   "id": "3d4cfe00",
   "metadata": {},
   "outputs": [
    {
     "data": {
      "text/plain": [
       "3"
      ]
     },
     "execution_count": 20,
     "metadata": {},
     "output_type": "execute_result"
    }
   ],
   "source": [
    "#select the element 3\n",
    "ar2d[1][0]"
   ]
  },
  {
   "cell_type": "code",
   "execution_count": 21,
   "id": "47569a38",
   "metadata": {},
   "outputs": [
    {
     "data": {
      "text/plain": [
       "2"
      ]
     },
     "execution_count": 21,
     "metadata": {},
     "output_type": "execute_result"
    }
   ],
   "source": [
    "#select the element 2\n",
    "ar2d[0][2]"
   ]
  },
  {
   "cell_type": "code",
   "execution_count": 22,
   "id": "269f27e4",
   "metadata": {},
   "outputs": [
    {
     "data": {
      "text/plain": [
       "1"
      ]
     },
     "execution_count": 22,
     "metadata": {},
     "output_type": "execute_result"
    }
   ],
   "source": [
    "#select the element 1\n",
    "ar2d[0][1]"
   ]
  },
  {
   "cell_type": "code",
   "execution_count": 23,
   "id": "a385ec09",
   "metadata": {},
   "outputs": [
    {
     "data": {
      "text/plain": [
       "0"
      ]
     },
     "execution_count": 23,
     "metadata": {},
     "output_type": "execute_result"
    }
   ],
   "source": [
    "#select the element 0\n",
    "ar2d[0][0]"
   ]
  },
  {
   "cell_type": "markdown",
   "id": "cd5886e9",
   "metadata": {},
   "source": [
    "#### the array"
   ]
  },
  {
   "cell_type": "code",
   "execution_count": 33,
   "id": "3b8f95f4",
   "metadata": {},
   "outputs": [
    {
     "data": {
      "text/plain": [
       "array([[ 0,  1,  2],\n",
       "       [ 3,  4,  5],\n",
       "       [ 6,  7,  8],\n",
       "       [ 9, 10, 11]])"
      ]
     },
     "execution_count": 33,
     "metadata": {},
     "output_type": "execute_result"
    }
   ],
   "source": [
    "ar2d"
   ]
  },
  {
   "cell_type": "code",
   "execution_count": 34,
   "id": "c116c413",
   "metadata": {},
   "outputs": [
    {
     "data": {
      "text/plain": [
       "array([[0, 1, 2],\n",
       "       [3, 4, 5]])"
      ]
     },
     "execution_count": 34,
     "metadata": {},
     "output_type": "execute_result"
    }
   ],
   "source": [
    "#select row 0 and 1\n",
    "ar2d[0:2,]"
   ]
  },
  {
   "cell_type": "code",
   "execution_count": 38,
   "id": "745a9b55",
   "metadata": {},
   "outputs": [
    {
     "data": {
      "text/plain": [
       "array([1, 4])"
      ]
     },
     "execution_count": 38,
     "metadata": {},
     "output_type": "execute_result"
    }
   ],
   "source": [
    "#select the 3rd column\n",
    "ar2d[0:2,1]"
   ]
  },
  {
   "cell_type": "code",
   "execution_count": 40,
   "id": "37be3ee4",
   "metadata": {},
   "outputs": [
    {
     "data": {
      "text/plain": [
       "array([1, 4])"
      ]
     },
     "execution_count": 40,
     "metadata": {},
     "output_type": "execute_result"
    }
   ],
   "source": [
    "ar2d[:2,1]"
   ]
  },
  {
   "cell_type": "code",
   "execution_count": 39,
   "id": "4ba46fb3",
   "metadata": {},
   "outputs": [
    {
     "data": {
      "text/plain": [
       "array([2, 5])"
      ]
     },
     "execution_count": 39,
     "metadata": {},
     "output_type": "execute_result"
    }
   ],
   "source": [
    "#select the 4th column\n",
    "ar2d[0:2,2]"
   ]
  },
  {
   "cell_type": "code",
   "execution_count": 41,
   "id": "2e4c75ab",
   "metadata": {},
   "outputs": [
    {
     "data": {
      "text/plain": [
       "array([2, 5])"
      ]
     },
     "execution_count": 41,
     "metadata": {},
     "output_type": "execute_result"
    }
   ],
   "source": [
    "ar2d[:2,2]"
   ]
  },
  {
   "cell_type": "code",
   "execution_count": 35,
   "id": "64e43c33",
   "metadata": {},
   "outputs": [
    {
     "data": {
      "text/plain": [
       "array([[1, 2],\n",
       "       [4, 5]])"
      ]
     },
     "execution_count": 35,
     "metadata": {},
     "output_type": "execute_result"
    }
   ],
   "source": [
    "#select the last two columns\n",
    "ar2d[0:2,1:3]"
   ]
  },
  {
   "cell_type": "code",
   "execution_count": 42,
   "id": "627ecb72",
   "metadata": {},
   "outputs": [
    {
     "data": {
      "text/plain": [
       "array([[1, 2],\n",
       "       [4, 5]])"
      ]
     },
     "execution_count": 42,
     "metadata": {},
     "output_type": "execute_result"
    }
   ],
   "source": [
    "ar2d[:2,1:3]"
   ]
  },
  {
   "cell_type": "code",
   "execution_count": 43,
   "id": "48bd0f92",
   "metadata": {},
   "outputs": [
    {
     "data": {
      "text/plain": [
       "array([10, 11, 12, 13, 14, 15, 16, 17, 18, 19])"
      ]
     },
     "execution_count": 43,
     "metadata": {},
     "output_type": "execute_result"
    }
   ],
   "source": [
    "# create an array \n",
    "ar = np.arange(10,20)\n",
    "ar"
   ]
  },
  {
   "cell_type": "code",
   "execution_count": 44,
   "id": "b5768328",
   "metadata": {},
   "outputs": [
    {
     "data": {
      "text/plain": [
       "array([False, False, False, False, False, False,  True,  True,  True,\n",
       "        True])"
      ]
     },
     "execution_count": 44,
     "metadata": {},
     "output_type": "execute_result"
    }
   ],
   "source": [
    "# how many elements are greater then 15?\n",
    "np.greater(ar,15) #need the array, condition=15"
   ]
  },
  {
   "cell_type": "code",
   "execution_count": 45,
   "id": "db9cf8d4",
   "metadata": {},
   "outputs": [
    {
     "data": {
      "text/plain": [
       "array([False, False, False, False, False, False,  True,  True,  True,\n",
       "        True])"
      ]
     },
     "execution_count": 45,
     "metadata": {},
     "output_type": "execute_result"
    }
   ],
   "source": [
    "ar > 15"
   ]
  },
  {
   "cell_type": "code",
   "execution_count": 46,
   "id": "616ab01f",
   "metadata": {},
   "outputs": [
    {
     "data": {
      "text/plain": [
       "array([False, False, False, False, False, False,  True,  True,  True,\n",
       "        True])"
      ]
     },
     "execution_count": 46,
     "metadata": {},
     "output_type": "execute_result"
    }
   ],
   "source": [
    "ar2 = ar > 15\n",
    "ar2"
   ]
  },
  {
   "cell_type": "code",
   "execution_count": 47,
   "id": "b05d5569",
   "metadata": {},
   "outputs": [
    {
     "data": {
      "text/plain": [
       "array([16, 17, 18, 19])"
      ]
     },
     "execution_count": 47,
     "metadata": {},
     "output_type": "execute_result"
    }
   ],
   "source": [
    "ar[ar2]"
   ]
  },
  {
   "cell_type": "code",
   "execution_count": 48,
   "id": "03410e47",
   "metadata": {},
   "outputs": [
    {
     "data": {
      "text/plain": [
       "array([16, 17, 18, 19])"
      ]
     },
     "execution_count": 48,
     "metadata": {},
     "output_type": "execute_result"
    }
   ],
   "source": [
    "ar[ar > 15]"
   ]
  },
  {
   "cell_type": "code",
   "execution_count": null,
   "id": "29b31663",
   "metadata": {},
   "outputs": [],
   "source": []
  }
 ],
 "metadata": {
  "kernelspec": {
   "display_name": "Python 3 (ipykernel)",
   "language": "python",
   "name": "python3"
  },
  "language_info": {
   "codemirror_mode": {
    "name": "ipython",
    "version": 3
   },
   "file_extension": ".py",
   "mimetype": "text/x-python",
   "name": "python",
   "nbconvert_exporter": "python",
   "pygments_lexer": "ipython3",
   "version": "3.9.13"
  }
 },
 "nbformat": 4,
 "nbformat_minor": 5
}
