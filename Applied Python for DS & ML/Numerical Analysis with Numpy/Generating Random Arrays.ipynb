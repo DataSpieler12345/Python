{
 "cells": [
  {
   "cell_type": "code",
   "execution_count": 1,
   "id": "f97b5ed1",
   "metadata": {},
   "outputs": [],
   "source": [
    "import numpy as np"
   ]
  },
  {
   "cell_type": "code",
   "execution_count": 2,
   "id": "eede725f",
   "metadata": {},
   "outputs": [
    {
     "data": {
      "text/plain": [
       "0.6742584644433688"
      ]
     },
     "execution_count": 2,
     "metadata": {},
     "output_type": "execute_result"
    }
   ],
   "source": [
    "np.random.rand()"
   ]
  },
  {
   "cell_type": "code",
   "execution_count": 3,
   "id": "4102217b",
   "metadata": {},
   "outputs": [
    {
     "data": {
      "text/plain": [
       "array([0.44672638, 0.49746279, 0.66074475, 0.50461775, 0.48315498,\n",
       "       0.47606017, 0.45531721, 0.28089588, 0.6468266 , 0.16065019])"
      ]
     },
     "execution_count": 3,
     "metadata": {},
     "output_type": "execute_result"
    }
   ],
   "source": [
    "np.random.rand(10)"
   ]
  },
  {
   "cell_type": "code",
   "execution_count": 4,
   "id": "a29b48d8",
   "metadata": {},
   "outputs": [
    {
     "data": {
      "text/plain": [
       "2.8967664342077386"
      ]
     },
     "execution_count": 4,
     "metadata": {},
     "output_type": "execute_result"
    }
   ],
   "source": [
    "np.random.randn()"
   ]
  },
  {
   "cell_type": "code",
   "execution_count": 5,
   "id": "d1ccf41a",
   "metadata": {},
   "outputs": [
    {
     "data": {
      "text/plain": [
       "array([-0.88024772,  1.70518556,  0.2744276 ,  0.9536188 , -2.26621984,\n",
       "       -1.34768121, -0.00961272, -0.73072058,  1.14560615, -0.00970745])"
      ]
     },
     "execution_count": 5,
     "metadata": {},
     "output_type": "execute_result"
    }
   ],
   "source": [
    "np.random.randn(10)"
   ]
  },
  {
   "cell_type": "code",
   "execution_count": 7,
   "id": "221bf116",
   "metadata": {},
   "outputs": [
    {
     "data": {
      "text/plain": [
       "3"
      ]
     },
     "execution_count": 7,
     "metadata": {},
     "output_type": "execute_result"
    }
   ],
   "source": [
    "np.random.randint(1,10)"
   ]
  },
  {
   "cell_type": "code",
   "execution_count": 8,
   "id": "a10a0d8b",
   "metadata": {},
   "outputs": [
    {
     "data": {
      "text/plain": [
       "array([4, 1, 8, 9, 2, 7, 7, 1, 5, 7])"
      ]
     },
     "execution_count": 8,
     "metadata": {},
     "output_type": "execute_result"
    }
   ],
   "source": [
    "np.random.randint(1,10,10)"
   ]
  },
  {
   "cell_type": "code",
   "execution_count": 11,
   "id": "800c0cdd",
   "metadata": {},
   "outputs": [
    {
     "data": {
      "text/plain": [
       "array([61, 50, 48, 78, 17, 38, 81, 26, 60, 40, 29, 34, 54, 92, 74, 90, 44,\n",
       "       39, 49, 58, 45, 12, 51, 24, 39])"
      ]
     },
     "execution_count": 11,
     "metadata": {},
     "output_type": "execute_result"
    }
   ],
   "source": [
    "ar = np.random.randint(1,100, 25)\n",
    "ar"
   ]
  },
  {
   "cell_type": "code",
   "execution_count": 13,
   "id": "a616a09a",
   "metadata": {},
   "outputs": [
    {
     "data": {
      "text/plain": [
       "(25,)"
      ]
     },
     "execution_count": 13,
     "metadata": {},
     "output_type": "execute_result"
    }
   ],
   "source": [
    "ar.shape"
   ]
  },
  {
   "cell_type": "code",
   "execution_count": null,
   "id": "8124a7a2",
   "metadata": {},
   "outputs": [],
   "source": []
  }
 ],
 "metadata": {
  "kernelspec": {
   "display_name": "Python 3 (ipykernel)",
   "language": "python",
   "name": "python3"
  },
  "language_info": {
   "codemirror_mode": {
    "name": "ipython",
    "version": 3
   },
   "file_extension": ".py",
   "mimetype": "text/x-python",
   "name": "python",
   "nbconvert_exporter": "python",
   "pygments_lexer": "ipython3",
   "version": "3.9.13"
  }
 },
 "nbformat": 4,
 "nbformat_minor": 5
}
