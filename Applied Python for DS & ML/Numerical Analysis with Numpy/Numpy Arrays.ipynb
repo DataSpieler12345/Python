{
 "cells": [
  {
   "cell_type": "code",
   "execution_count": 2,
   "id": "31fe82e0",
   "metadata": {},
   "outputs": [
    {
     "data": {
      "text/plain": [
       "[1, 2, 3]"
      ]
     },
     "execution_count": 2,
     "metadata": {},
     "output_type": "execute_result"
    }
   ],
   "source": [
    "l = [1,2,3]\n",
    "l"
   ]
  },
  {
   "cell_type": "code",
   "execution_count": 3,
   "id": "725a21b4",
   "metadata": {},
   "outputs": [],
   "source": [
    "import numpy as np"
   ]
  },
  {
   "cell_type": "code",
   "execution_count": 4,
   "id": "2df85350",
   "metadata": {},
   "outputs": [
    {
     "data": {
      "text/plain": [
       "array(1)"
      ]
     },
     "execution_count": 4,
     "metadata": {},
     "output_type": "execute_result"
    }
   ],
   "source": [
    "np.array(1)"
   ]
  },
  {
   "cell_type": "code",
   "execution_count": 5,
   "id": "6c52e8f0",
   "metadata": {},
   "outputs": [
    {
     "data": {
      "text/plain": [
       "array([-2.26825602e+200,  2.94875483e+233])"
      ]
     },
     "execution_count": 5,
     "metadata": {},
     "output_type": "execute_result"
    }
   ],
   "source": [
    "np.empty(2)"
   ]
  },
  {
   "cell_type": "markdown",
   "id": "97cf3ac0",
   "metadata": {},
   "source": [
    "#### With caution"
   ]
  },
  {
   "cell_type": "code",
   "execution_count": 6,
   "id": "bf4bec88",
   "metadata": {},
   "outputs": [
    {
     "data": {
      "text/plain": [
       "array([0.00000000e+000, 6.95243190e-310, 3.68078906e-321,             nan,\n",
       "       1.05344234e-311, 0.00000000e+000, 3.77704695e+233, 7.22756687e+159,\n",
       "       1.10639950e+200, 3.64726544e+180, 1.87750993e-152, 4.82336277e+228,\n",
       "       9.23528171e+242, 2.52960802e-258, 4.47593816e-091, 1.76353931e-070,\n",
       "       8.63819469e-096, 7.12930810e+159, 2.61191759e+209, 2.25020976e+223,\n",
       "       1.67640691e+243, 1.24595996e-089, 1.74593501e+238, 1.13556093e-153,\n",
       "       1.96088695e+243, 9.82391603e+252, 3.62479391e+228, 1.32655511e-258,\n",
       "       7.22082943e+159, 6.03433819e-154, 2.35570319e+251, 4.77800043e+180,\n",
       "       5.80426330e+180, 2.19980343e-152, 1.12038868e+219, 2.31881454e-152,\n",
       "       6.01346953e-154, 5.82147482e+180, 6.12486739e+257, 4.47593784e-091,\n",
       "       1.45291304e-094, 1.62596915e-086, 1.43615024e+161, 6.01334682e-154,\n",
       "       2.59345433e+161, 6.72801012e+199, 9.13601355e+242, 1.48504071e+161,\n",
       "       1.45913393e-152, 1.12044105e+219, 2.63422477e-085, 3.88281160e+233,\n",
       "       1.27966001e-152, 1.21696632e-152, 6.11248962e+228, 1.05894212e-153,\n",
       "       1.38083749e+267, 2.34953944e+251, 5.51999516e+228, 1.99416198e+174,\n",
       "       9.08366784e+223, 4.70102456e+180, 1.23542248e-259, 9.87762528e+247,\n",
       "       4.47593816e-091, 1.50598685e+161, 7.10573726e+159, 3.05850365e-061,\n",
       "       3.64913061e+233, 4.47593784e-091, 7.04134414e-009, 3.68977620e+180,\n",
       "       2.96460967e-062, 2.59345414e+161, 5.55994223e+141, 4.29058029e+270,\n",
       "       9.16526748e+242, 1.30405433e-076, 3.74168656e+233, 8.88055929e+252,\n",
       "       2.87354825e+159, 9.45007090e-076, 2.99937163e-067, 7.04134408e-009,\n",
       "       3.68977620e+180, 6.44291993e+270, 2.45127931e+198, 5.56206121e+180,\n",
       "       3.74168656e+233, 8.88055929e+252, 8.96826949e+130, 8.96864212e+130,\n",
       "       1.95360827e-109, 1.03063392e-113, 1.05019333e-153, 1.20480715e+132,\n",
       "       5.93746659e-096, 1.35717430e+131, 1.95360827e-109, 8.35456129e-309])"
      ]
     },
     "execution_count": 6,
     "metadata": {},
     "output_type": "execute_result"
    }
   ],
   "source": [
    "np.empty(100)"
   ]
  },
  {
   "cell_type": "code",
   "execution_count": 7,
   "id": "f93183f7",
   "metadata": {},
   "outputs": [
    {
     "data": {
      "text/plain": [
       "array([0., 0., 0., 0., 0., 0., 0., 0., 0., 0.])"
      ]
     },
     "execution_count": 7,
     "metadata": {},
     "output_type": "execute_result"
    }
   ],
   "source": [
    "np.zeros(10)"
   ]
  },
  {
   "cell_type": "code",
   "execution_count": 8,
   "id": "74613468",
   "metadata": {},
   "outputs": [
    {
     "data": {
      "text/plain": [
       "array([1., 1., 1., 1., 1., 1., 1., 1., 1., 1.])"
      ]
     },
     "execution_count": 8,
     "metadata": {},
     "output_type": "execute_result"
    }
   ],
   "source": [
    "np.ones(10)"
   ]
  },
  {
   "cell_type": "markdown",
   "id": "ccce1756",
   "metadata": {},
   "source": [
    "#### A Ranage -arange"
   ]
  },
  {
   "cell_type": "code",
   "execution_count": 9,
   "id": "ec0def79",
   "metadata": {},
   "outputs": [
    {
     "data": {
      "text/plain": [
       "array([0, 1, 2, 3, 4, 5, 6, 7, 8, 9])"
      ]
     },
     "execution_count": 9,
     "metadata": {},
     "output_type": "execute_result"
    }
   ],
   "source": [
    "np.arange(10)"
   ]
  },
  {
   "cell_type": "code",
   "execution_count": 10,
   "id": "18024ee3",
   "metadata": {},
   "outputs": [
    {
     "data": {
      "text/plain": [
       "array([ 1,  2,  3,  4,  5,  6,  7,  8,  9, 10])"
      ]
     },
     "execution_count": 10,
     "metadata": {},
     "output_type": "execute_result"
    }
   ],
   "source": [
    "np.arange(1,11)"
   ]
  },
  {
   "cell_type": "code",
   "execution_count": 12,
   "id": "317a653d",
   "metadata": {},
   "outputs": [
    {
     "data": {
      "text/plain": [
       "array([ 0,  2,  4,  6,  8, 10])"
      ]
     },
     "execution_count": 12,
     "metadata": {},
     "output_type": "execute_result"
    }
   ],
   "source": [
    "np.arange(0,11,2)"
   ]
  },
  {
   "cell_type": "code",
   "execution_count": 14,
   "id": "150783ae",
   "metadata": {},
   "outputs": [
    {
     "data": {
      "text/plain": [
       "[4, 32, 14, 21, 4, 65, 4, 17]"
      ]
     },
     "execution_count": 14,
     "metadata": {},
     "output_type": "execute_result"
    }
   ],
   "source": [
    "l = [4,32,14,21,4,65,4,17]\n",
    "l"
   ]
  },
  {
   "cell_type": "code",
   "execution_count": 18,
   "id": "02485191",
   "metadata": {},
   "outputs": [],
   "source": [
    "ar = np.array(l)"
   ]
  },
  {
   "cell_type": "code",
   "execution_count": 19,
   "id": "94a1653f",
   "metadata": {},
   "outputs": [
    {
     "data": {
      "text/plain": [
       "array([ 4, 32, 14, 21,  4, 65,  4, 17])"
      ]
     },
     "execution_count": 19,
     "metadata": {},
     "output_type": "execute_result"
    }
   ],
   "source": [
    "ar"
   ]
  },
  {
   "cell_type": "code",
   "execution_count": 20,
   "id": "156c0272",
   "metadata": {},
   "outputs": [
    {
     "data": {
      "text/plain": [
       "65"
      ]
     },
     "execution_count": 20,
     "metadata": {},
     "output_type": "execute_result"
    }
   ],
   "source": [
    "ar.max()"
   ]
  },
  {
   "cell_type": "code",
   "execution_count": 21,
   "id": "117ae5be",
   "metadata": {},
   "outputs": [
    {
     "data": {
      "text/plain": [
       "5"
      ]
     },
     "execution_count": 21,
     "metadata": {},
     "output_type": "execute_result"
    }
   ],
   "source": [
    "ar.argmax() #65 "
   ]
  },
  {
   "cell_type": "code",
   "execution_count": 22,
   "id": "6410436d",
   "metadata": {},
   "outputs": [
    {
     "data": {
      "text/plain": [
       "0"
      ]
     },
     "execution_count": 22,
     "metadata": {},
     "output_type": "execute_result"
    }
   ],
   "source": [
    "ar.argmin()"
   ]
  },
  {
   "cell_type": "code",
   "execution_count": 23,
   "id": "4b282a84",
   "metadata": {},
   "outputs": [
    {
     "data": {
      "text/plain": [
       "(8,)"
      ]
     },
     "execution_count": 23,
     "metadata": {},
     "output_type": "execute_result"
    }
   ],
   "source": [
    "ar.shape #8elements"
   ]
  },
  {
   "cell_type": "code",
   "execution_count": 24,
   "id": "5caf6f0d",
   "metadata": {},
   "outputs": [
    {
     "data": {
      "text/plain": [
       "8"
      ]
     },
     "execution_count": 24,
     "metadata": {},
     "output_type": "execute_result"
    }
   ],
   "source": [
    "len(ar.tolist())"
   ]
  },
  {
   "cell_type": "code",
   "execution_count": 26,
   "id": "6e6a9bfe",
   "metadata": {},
   "outputs": [
    {
     "data": {
      "text/plain": [
       "array([1, 1, 1, 1, 1, 1, 1, 1, 1, 1], dtype=int16)"
      ]
     },
     "execution_count": 26,
     "metadata": {},
     "output_type": "execute_result"
    }
   ],
   "source": [
    "np.ones(10, np.int16)"
   ]
  },
  {
   "cell_type": "code",
   "execution_count": 27,
   "id": "d7af00b2",
   "metadata": {},
   "outputs": [
    {
     "data": {
      "text/plain": [
       "dtype('int32')"
      ]
     },
     "execution_count": 27,
     "metadata": {},
     "output_type": "execute_result"
    }
   ],
   "source": [
    "ar.dtype"
   ]
  },
  {
   "cell_type": "code",
   "execution_count": null,
   "id": "bfc18751",
   "metadata": {},
   "outputs": [],
   "source": []
  }
 ],
 "metadata": {
  "kernelspec": {
   "display_name": "Python 3 (ipykernel)",
   "language": "python",
   "name": "python3"
  },
  "language_info": {
   "codemirror_mode": {
    "name": "ipython",
    "version": 3
   },
   "file_extension": ".py",
   "mimetype": "text/x-python",
   "name": "python",
   "nbconvert_exporter": "python",
   "pygments_lexer": "ipython3",
   "version": "3.9.13"
  }
 },
 "nbformat": 4,
 "nbformat_minor": 5
}
