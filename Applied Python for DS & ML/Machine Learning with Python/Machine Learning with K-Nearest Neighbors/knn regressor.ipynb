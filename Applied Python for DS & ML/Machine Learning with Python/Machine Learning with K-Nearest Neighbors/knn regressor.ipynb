{
 "cells": [
  {
   "cell_type": "markdown",
   "id": "ce9c29cf",
   "metadata": {},
   "source": [
    "<center><h1><b><font size=\"5\">K-Nearest Neighbors Regressor</font></b></h1></center>\n",
    "<center><h1><b><font size=\"5\">Theory with a practical example</font></b></h1></center>"
   ]
  },
  {
   "cell_type": "markdown",
   "id": "4df80bef",
   "metadata": {},
   "source": [
    "#### Import the necessary libraries "
   ]
  },
  {
   "cell_type": "code",
   "execution_count": 9,
   "id": "40a19aca",
   "metadata": {},
   "outputs": [],
   "source": [
    "from sklearn.datasets import make_regression\n",
    "from sklearn.neighbors import KNeighborsRegressor\n",
    "\n",
    "import matplotlib.pyplot as plt\n",
    "import seaborn as sns "
   ]
  },
  {
   "cell_type": "markdown",
   "id": "a72d80a0",
   "metadata": {},
   "source": [
    "#### Generating the dabase "
   ]
  },
  {
   "cell_type": "code",
   "execution_count": 5,
   "id": "eac9e1af",
   "metadata": {},
   "outputs": [],
   "source": [
    "inputs, target = make_regression(n_samples = 10,\n",
    "                                 n_features =1,\n",
    "                                 noise = 15,\n",
    "                                 random_state = 365)"
   ]
  },
  {
   "cell_type": "code",
   "execution_count": 7,
   "id": "142727af",
   "metadata": {},
   "outputs": [],
   "source": [
    "target = target/40"
   ]
  },
  {
   "cell_type": "markdown",
   "id": "fe188fec",
   "metadata": {},
   "source": [
    "#### Plotting the database "
   ]
  },
  {
   "cell_type": "code",
   "execution_count": 8,
   "id": "324d77cc",
   "metadata": {},
   "outputs": [
    {
     "data": {
      "image/png": "[encoded data removed]",
      "text/plain": [
       "<Figure size 432x288 with 1 Axes>"
      ]
     },
     "metadata": {},
     "output_type": "display_data"
    }
   ],
   "source": [
    "sns.set()\n",
    "plt.scatter(inputs, target);"
   ]
  },
  {
   "cell_type": "markdown",
   "id": "50cd9b14",
   "metadata": {},
   "source": [
    "#### Creating the model"
   ]
  },
  {
   "cell_type": "code",
   "execution_count": 16,
   "id": "7892be74",
   "metadata": {},
   "outputs": [
    {
     "data": {
      "text/html": [
       "<style>#sk-container-id-2 {color: black;}#sk-container-id-2 pre{padding: 0;}#sk-container-id-2 div.sk-toggleable {background-color: white;}#sk-container-id-2 label.sk-toggleable__label {cursor: pointer;display: block;width: 100%;margin-bottom: 0;padding: 0.3em;box-sizing: border-box;text-align: center;}#sk-container-id-2 label.sk-toggleable__label-arrow:before {content: \"▸\";float: left;margin-right: 0.25em;color: #696969;}#sk-container-id-2 label.sk-toggleable__label-arrow:hover:before {color: black;}#sk-container-id-2 div.sk-estimator:hover label.sk-toggleable__label-arrow:before {color: black;}#sk-container-id-2 div.sk-toggleable__content {max-height: 0;max-width: 0;overflow: hidden;text-align: left;background-color: #f0f8ff;}#sk-container-id-2 div.sk-toggleable__content pre {margin: 0.2em;color: black;border-radius: 0.25em;background-color: #f0f8ff;}#sk-container-id-2 input.sk-toggleable__control:checked~div.sk-toggleable__content {max-height: 200px;max-width: 100%;overflow: auto;}#sk-container-id-2 input.sk-toggleable__control:checked~label.sk-toggleable__label-arrow:before {content: \"▾\";}#sk-container-id-2 div.sk-estimator input.sk-toggleable__control:checked~label.sk-toggleable__label {background-color: #d4ebff;}#sk-container-id-2 div.sk-label input.sk-toggleable__control:checked~label.sk-toggleable__label {background-color: #d4ebff;}#sk-container-id-2 input.sk-hidden--visually {border: 0;clip: rect(1px 1px 1px 1px);clip: rect(1px, 1px, 1px, 1px);height: 1px;margin: -1px;overflow: hidden;padding: 0;position: absolute;width: 1px;}#sk-container-id-2 div.sk-estimator {font-family: monospace;background-color: #f0f8ff;border: 1px dotted black;border-radius: 0.25em;box-sizing: border-box;margin-bottom: 0.5em;}#sk-container-id-2 div.sk-estimator:hover {background-color: #d4ebff;}#sk-container-id-2 div.sk-parallel-item::after {content: \"\";width: 100%;border-bottom: 1px solid gray;flex-grow: 1;}#sk-container-id-2 div.sk-label:hover label.sk-toggleable__label {background-color: #d4ebff;}#sk-container-id-2 div.sk-serial::before {content: \"\";position: absolute;border-left: 1px solid gray;box-sizing: border-box;top: 0;bottom: 0;left: 50%;z-index: 0;}#sk-container-id-2 div.sk-serial {display: flex;flex-direction: column;align-items: center;background-color: white;padding-right: 0.2em;padding-left: 0.2em;position: relative;}#sk-container-id-2 div.sk-item {position: relative;z-index: 1;}#sk-container-id-2 div.sk-parallel {display: flex;align-items: stretch;justify-content: center;background-color: white;position: relative;}#sk-container-id-2 div.sk-item::before, #sk-container-id-2 div.sk-parallel-item::before {content: \"\";position: absolute;border-left: 1px solid gray;box-sizing: border-box;top: 0;bottom: 0;left: 50%;z-index: -1;}#sk-container-id-2 div.sk-parallel-item {display: flex;flex-direction: column;z-index: 1;position: relative;background-color: white;}#sk-container-id-2 div.sk-parallel-item:first-child::after {align-self: flex-end;width: 50%;}#sk-container-id-2 div.sk-parallel-item:last-child::after {align-self: flex-start;width: 50%;}#sk-container-id-2 div.sk-parallel-item:only-child::after {width: 0;}#sk-container-id-2 div.sk-dashed-wrapped {border: 1px dashed gray;margin: 0 0.4em 0.5em 0.4em;box-sizing: border-box;padding-bottom: 0.4em;background-color: white;}#sk-container-id-2 div.sk-label label {font-family: monospace;font-weight: bold;display: inline-block;line-height: 1.2em;}#sk-container-id-2 div.sk-label-container {text-align: center;}#sk-container-id-2 div.sk-container {/* jupyter's `normalize.less` sets `[hidden] { display: none; }` but bootstrap.min.css set `[hidden] { display: none !important; }` so we also need the `!important` here to be able to override the default hidden behavior on the sphinx rendered scikit-learn.org. See: https://github.com/scikit-learn/scikit-learn/issues/21755 */display: inline-block !important;position: relative;}#sk-container-id-2 div.sk-text-repr-fallback {display: none;}</style><div id=\"sk-container-id-2\" class=\"sk-top-container\"><div class=\"sk-text-repr-fallback\"><pre>KNeighborsRegressor(n_neighbors=2)</pre><b>In a Jupyter environment, please rerun this cell to show the HTML representation or trust the notebook. <br />On GitHub, the HTML representation is unable to render, please try loading this page with nbviewer.org.</b></div><div class=\"sk-container\" hidden><div class=\"sk-item\"><div class=\"sk-estimator sk-toggleable\"><input class=\"sk-toggleable__control sk-hidden--visually\" id=\"sk-estimator-id-2\" type=\"checkbox\" checked><label for=\"sk-estimator-id-2\" class=\"sk-toggleable__label sk-toggleable__label-arrow\">KNeighborsRegressor</label><div class=\"sk-toggleable__content\"><pre>KNeighborsRegressor(n_neighbors=2)</pre></div></div></div></div></div>"
      ],
      "text/plain": [
       "KNeighborsRegressor(n_neighbors=2)"
      ]
     },
     "execution_count": 16,
     "metadata": {},
     "output_type": "execute_result"
    }
   ],
   "source": [
    "reg_knn = KNeighborsRegressor(n_neighbors = 2)\n",
    "reg_knn.fit(inputs, target)"
   ]
  },
  {
   "cell_type": "markdown",
   "id": "fa0294fd",
   "metadata": {},
   "source": [
    "#### Predicting a Sample"
   ]
  },
  {
   "cell_type": "code",
   "execution_count": 17,
   "id": "598c4aca",
   "metadata": {},
   "outputs": [
    {
     "data": {
      "text/plain": [
       "array([-0.09226329])"
      ]
     },
     "execution_count": 17,
     "metadata": {},
     "output_type": "execute_result"
    }
   ],
   "source": [
    "x_pred = -0.5\n",
    "y_pred = reg_knn.predict([[x_pred]])\n",
    "y_pred"
   ]
  },
  {
   "cell_type": "code",
   "execution_count": 18,
   "id": "3e2cc7f5",
   "metadata": {},
   "outputs": [
    {
     "data": {
      "text/plain": [
       "(array([[0.26014535, 0.35632097]]), array([[8, 3]], dtype=int64))"
      ]
     },
     "execution_count": 18,
     "metadata": {},
     "output_type": "execute_result"
    }
   ],
   "source": [
    "neighbors = reg_knn.kneighbors([[x_pred]])\n",
    "neighbors"
   ]
  },
  {
   "cell_type": "markdown",
   "id": "15673727",
   "metadata": {},
   "source": [
    "#### Visualizing the neighbors"
   ]
  },
  {
   "cell_type": "code",
   "execution_count": 19,
   "id": "5a1f02b1",
   "metadata": {},
   "outputs": [
    {
     "data": {
      "text/plain": [
       "<matplotlib.collections.PathCollection at 0x17ebc959490>"
      ]
     },
     "execution_count": 19,
     "metadata": {},
     "output_type": "execute_result"
    },
    {
     "data": {
      "image/png": "[encoded data removed]",
      "text/plain": [
       "<Figure size 432x288 with 1 Axes>"
      ]
     },
     "metadata": {},
     "output_type": "display_data"
    }
   ],
   "source": [
    "sns.set()\n",
    "\n",
    "plt.scatter(inputs, target)\n",
    "\n",
    "plt.scatter(x_pred, y_pred)\n",
    "\n",
    "plot_x_train = []\n",
    "plot_y_train = []\n",
    "\n",
    "for i in neighbors[1]:\n",
    "    plot_x_train.append(inputs[i])\n",
    "    plot_y_train.append(target[i])\n",
    "    \n",
    "plt.scatter(plot_x_train,\n",
    "           plot_y_train,\n",
    "           s=200, facecolors='none', edgecolors='r')"
   ]
  },
  {
   "cell_type": "markdown",
   "id": "a60bc945",
   "metadata": {},
   "source": [
    "#### Calculating the predicted value"
   ]
  },
  {
   "cell_type": "code",
   "execution_count": 20,
   "id": "194c6c77",
   "metadata": {},
   "outputs": [
    {
     "data": {
      "text/plain": [
       "(0.3288886919385298, -0.5134152746794666, array([-0.09226329]))"
      ]
     },
     "execution_count": 20,
     "metadata": {},
     "output_type": "execute_result"
    }
   ],
   "source": [
    "target[8], target[3], y_pred"
   ]
  },
  {
   "cell_type": "code",
   "execution_count": 22,
   "id": "c850ae30",
   "metadata": {},
   "outputs": [
    {
     "data": {
      "text/plain": [
       "-0.09226329137046838"
      ]
     },
     "execution_count": 22,
     "metadata": {},
     "output_type": "execute_result"
    }
   ],
   "source": [
    "#mean aritmetic predicted number\n",
    "(target[8] + target[3])/2"
   ]
  }
 ],
 "metadata": {
  "kernelspec": {
   "display_name": "Python 3 (ipykernel)",
   "language": "python",
   "name": "python3"
  },
  "language_info": {
   "codemirror_mode": {
    "name": "ipython",
    "version": 3
   },
   "file_extension": ".py",
   "mimetype": "text/x-python",
   "name": "python",
   "nbconvert_exporter": "python",
   "pygments_lexer": "ipython3",
   "version": "3.9.13"
  }
 },
 "nbformat": 4,
 "nbformat_minor": 5
}
