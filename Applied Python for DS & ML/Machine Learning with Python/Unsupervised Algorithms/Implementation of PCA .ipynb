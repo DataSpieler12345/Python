{
 "cells": [
  {
   "cell_type": "markdown",
   "id": "5971d997",
   "metadata": {},
   "source": [
    "### Implementation of PCA"
   ]
  },
  {
   "cell_type": "code",
   "execution_count": 1,
   "id": "eaf76a40",
   "metadata": {},
   "outputs": [],
   "source": [
    "import pandas as pd\n",
    "import numpy as np \n",
    "import matplotlib.pyplot as plt"
   ]
  },
  {
   "cell_type": "markdown",
   "id": "93207b60",
   "metadata": {},
   "source": [
    "#### load the data "
   ]
  },
  {
   "cell_type": "code",
   "execution_count": 4,
   "id": "a57d8c59",
   "metadata": {},
   "outputs": [],
   "source": [
    "X = pd.read_csv('data/X.csv')"
   ]
  },
  {
   "cell_type": "code",
   "execution_count": 5,
   "id": "f3d29e2a",
   "metadata": {},
   "outputs": [
    {
     "name": "stdout",
     "output_type": "stream",
     "text": [
      "(600, 39)\n"
     ]
    }
   ],
   "source": [
    "print(X.shape)"
   ]
  },
  {
   "cell_type": "code",
   "execution_count": 6,
   "id": "a58c424e",
   "metadata": {},
   "outputs": [
    {
     "data": {
      "text/html": [
       "<div>\n",
       "<style scoped>\n",
       "    .dataframe tbody tr th:only-of-type {\n",
       "        vertical-align: middle;\n",
       "    }\n",
       "\n",
       "    .dataframe tbody tr th {\n",
       "        vertical-align: top;\n",
       "    }\n",
       "\n",
       "    .dataframe thead th {\n",
       "        text-align: right;\n",
       "    }\n",
       "</style>\n",
       "<table border=\"1\" class=\"dataframe\">\n",
       "  <thead>\n",
       "    <tr style=\"text-align: right;\">\n",
       "      <th></th>\n",
       "      <th>third_party</th>\n",
       "      <th>rep_inc_party</th>\n",
       "      <th>dem_inc</th>\n",
       "      <th>rep_inc</th>\n",
       "      <th>dem_inc_party</th>\n",
       "      <th>july_dem</th>\n",
       "      <th>jul_rep</th>\n",
       "      <th>aug_dem</th>\n",
       "      <th>aug_rep</th>\n",
       "      <th>sep_dem</th>\n",
       "      <th>...</th>\n",
       "      <th>prog</th>\n",
       "      <th>trad</th>\n",
       "      <th>moral</th>\n",
       "      <th>ind</th>\n",
       "      <th>lag_dem_per</th>\n",
       "      <th>lag2_dem_per</th>\n",
       "      <th>counter</th>\n",
       "      <th>int_south_year</th>\n",
       "      <th>lag_citi</th>\n",
       "      <th>lag_nom</th>\n",
       "    </tr>\n",
       "  </thead>\n",
       "  <tbody>\n",
       "    <tr>\n",
       "      <th>0</th>\n",
       "      <td>0</td>\n",
       "      <td>1</td>\n",
       "      <td>0</td>\n",
       "      <td>1</td>\n",
       "      <td>0</td>\n",
       "      <td>37.00</td>\n",
       "      <td>56.00</td>\n",
       "      <td>30.50</td>\n",
       "      <td>60.50</td>\n",
       "      <td>33.00</td>\n",
       "      <td>...</td>\n",
       "      <td>0</td>\n",
       "      <td>0</td>\n",
       "      <td>0</td>\n",
       "      <td>0</td>\n",
       "      <td>18.7</td>\n",
       "      <td>0.0</td>\n",
       "      <td>14</td>\n",
       "      <td>14</td>\n",
       "      <td>6.310117</td>\n",
       "      <td>58.314171</td>\n",
       "    </tr>\n",
       "    <tr>\n",
       "      <th>1</th>\n",
       "      <td>0</td>\n",
       "      <td>1</td>\n",
       "      <td>0</td>\n",
       "      <td>0</td>\n",
       "      <td>0</td>\n",
       "      <td>62.00</td>\n",
       "      <td>29.00</td>\n",
       "      <td>52.50</td>\n",
       "      <td>34.00</td>\n",
       "      <td>51.00</td>\n",
       "      <td>...</td>\n",
       "      <td>0</td>\n",
       "      <td>0</td>\n",
       "      <td>0</td>\n",
       "      <td>0</td>\n",
       "      <td>25.5</td>\n",
       "      <td>18.7</td>\n",
       "      <td>18</td>\n",
       "      <td>18</td>\n",
       "      <td>15.885281</td>\n",
       "      <td>56.237427</td>\n",
       "    </tr>\n",
       "    <tr>\n",
       "      <th>2</th>\n",
       "      <td>1</td>\n",
       "      <td>0</td>\n",
       "      <td>1</td>\n",
       "      <td>0</td>\n",
       "      <td>1</td>\n",
       "      <td>35.00</td>\n",
       "      <td>34.75</td>\n",
       "      <td>35.67</td>\n",
       "      <td>40.67</td>\n",
       "      <td>35.67</td>\n",
       "      <td>...</td>\n",
       "      <td>0</td>\n",
       "      <td>0</td>\n",
       "      <td>0</td>\n",
       "      <td>0</td>\n",
       "      <td>55.7</td>\n",
       "      <td>25.5</td>\n",
       "      <td>22</td>\n",
       "      <td>22</td>\n",
       "      <td>25.339556</td>\n",
       "      <td>57.746479</td>\n",
       "    </tr>\n",
       "    <tr>\n",
       "      <th>3</th>\n",
       "      <td>0</td>\n",
       "      <td>1</td>\n",
       "      <td>0</td>\n",
       "      <td>1</td>\n",
       "      <td>0</td>\n",
       "      <td>41.00</td>\n",
       "      <td>53.00</td>\n",
       "      <td>38.50</td>\n",
       "      <td>55.25</td>\n",
       "      <td>38.50</td>\n",
       "      <td>...</td>\n",
       "      <td>0</td>\n",
       "      <td>0</td>\n",
       "      <td>0</td>\n",
       "      <td>0</td>\n",
       "      <td>47.4</td>\n",
       "      <td>55.7</td>\n",
       "      <td>26</td>\n",
       "      <td>26</td>\n",
       "      <td>29.221270</td>\n",
       "      <td>56.639839</td>\n",
       "    </tr>\n",
       "    <tr>\n",
       "      <th>4</th>\n",
       "      <td>0</td>\n",
       "      <td>1</td>\n",
       "      <td>0</td>\n",
       "      <td>0</td>\n",
       "      <td>0</td>\n",
       "      <td>50.50</td>\n",
       "      <td>39.00</td>\n",
       "      <td>49.00</td>\n",
       "      <td>42.00</td>\n",
       "      <td>41.50</td>\n",
       "      <td>...</td>\n",
       "      <td>0</td>\n",
       "      <td>0</td>\n",
       "      <td>0</td>\n",
       "      <td>0</td>\n",
       "      <td>38.3</td>\n",
       "      <td>47.4</td>\n",
       "      <td>30</td>\n",
       "      <td>30</td>\n",
       "      <td>28.214890</td>\n",
       "      <td>54.594231</td>\n",
       "    </tr>\n",
       "    <tr>\n",
       "      <th>...</th>\n",
       "      <td>...</td>\n",
       "      <td>...</td>\n",
       "      <td>...</td>\n",
       "      <td>...</td>\n",
       "      <td>...</td>\n",
       "      <td>...</td>\n",
       "      <td>...</td>\n",
       "      <td>...</td>\n",
       "      <td>...</td>\n",
       "      <td>...</td>\n",
       "      <td>...</td>\n",
       "      <td>...</td>\n",
       "      <td>...</td>\n",
       "      <td>...</td>\n",
       "      <td>...</td>\n",
       "      <td>...</td>\n",
       "      <td>...</td>\n",
       "      <td>...</td>\n",
       "      <td>...</td>\n",
       "      <td>...</td>\n",
       "      <td>...</td>\n",
       "    </tr>\n",
       "    <tr>\n",
       "      <th>595</th>\n",
       "      <td>0</td>\n",
       "      <td>0</td>\n",
       "      <td>0</td>\n",
       "      <td>0</td>\n",
       "      <td>1</td>\n",
       "      <td>41.00</td>\n",
       "      <td>47.50</td>\n",
       "      <td>42.00</td>\n",
       "      <td>50.25</td>\n",
       "      <td>43.62</td>\n",
       "      <td>...</td>\n",
       "      <td>0</td>\n",
       "      <td>0</td>\n",
       "      <td>0</td>\n",
       "      <td>0</td>\n",
       "      <td>36.8</td>\n",
       "      <td>34.0</td>\n",
       "      <td>42</td>\n",
       "      <td>0</td>\n",
       "      <td>31.146208</td>\n",
       "      <td>28.521126</td>\n",
       "    </tr>\n",
       "    <tr>\n",
       "      <th>596</th>\n",
       "      <td>0</td>\n",
       "      <td>1</td>\n",
       "      <td>0</td>\n",
       "      <td>1</td>\n",
       "      <td>0</td>\n",
       "      <td>47.33</td>\n",
       "      <td>47.33</td>\n",
       "      <td>46.00</td>\n",
       "      <td>48.00</td>\n",
       "      <td>44.50</td>\n",
       "      <td>...</td>\n",
       "      <td>0</td>\n",
       "      <td>0</td>\n",
       "      <td>0</td>\n",
       "      <td>0</td>\n",
       "      <td>27.7</td>\n",
       "      <td>36.8</td>\n",
       "      <td>46</td>\n",
       "      <td>0</td>\n",
       "      <td>23.743025</td>\n",
       "      <td>24.882629</td>\n",
       "    </tr>\n",
       "    <tr>\n",
       "      <th>597</th>\n",
       "      <td>0</td>\n",
       "      <td>1</td>\n",
       "      <td>0</td>\n",
       "      <td>0</td>\n",
       "      <td>0</td>\n",
       "      <td>46.50</td>\n",
       "      <td>42.50</td>\n",
       "      <td>47.67</td>\n",
       "      <td>43.00</td>\n",
       "      <td>46.67</td>\n",
       "      <td>...</td>\n",
       "      <td>0</td>\n",
       "      <td>0</td>\n",
       "      <td>0</td>\n",
       "      <td>0</td>\n",
       "      <td>29.1</td>\n",
       "      <td>27.7</td>\n",
       "      <td>50</td>\n",
       "      <td>0</td>\n",
       "      <td>27.263975</td>\n",
       "      <td>46.398216</td>\n",
       "    </tr>\n",
       "    <tr>\n",
       "      <th>598</th>\n",
       "      <td>0</td>\n",
       "      <td>0</td>\n",
       "      <td>1</td>\n",
       "      <td>0</td>\n",
       "      <td>1</td>\n",
       "      <td>47.25</td>\n",
       "      <td>45.00</td>\n",
       "      <td>46.33</td>\n",
       "      <td>46.00</td>\n",
       "      <td>49.67</td>\n",
       "      <td>...</td>\n",
       "      <td>0</td>\n",
       "      <td>0</td>\n",
       "      <td>0</td>\n",
       "      <td>0</td>\n",
       "      <td>32.0</td>\n",
       "      <td>29.1</td>\n",
       "      <td>54</td>\n",
       "      <td>0</td>\n",
       "      <td>29.487131</td>\n",
       "      <td>44.730881</td>\n",
       "    </tr>\n",
       "    <tr>\n",
       "      <th>599</th>\n",
       "      <td>0</td>\n",
       "      <td>0</td>\n",
       "      <td>0</td>\n",
       "      <td>0</td>\n",
       "      <td>1</td>\n",
       "      <td>40.33</td>\n",
       "      <td>38.33</td>\n",
       "      <td>42.67</td>\n",
       "      <td>37.33</td>\n",
       "      <td>42.33</td>\n",
       "      <td>...</td>\n",
       "      <td>0</td>\n",
       "      <td>0</td>\n",
       "      <td>0</td>\n",
       "      <td>0</td>\n",
       "      <td>28.0</td>\n",
       "      <td>32.0</td>\n",
       "      <td>58</td>\n",
       "      <td>0</td>\n",
       "      <td>24.096792</td>\n",
       "      <td>20.556671</td>\n",
       "    </tr>\n",
       "  </tbody>\n",
       "</table>\n",
       "<p>600 rows × 39 columns</p>\n",
       "</div>"
      ],
      "text/plain": [
       "     third_party  rep_inc_party  dem_inc  rep_inc  dem_inc_party  july_dem  \\\n",
       "0              0              1        0        1              0     37.00   \n",
       "1              0              1        0        0              0     62.00   \n",
       "2              1              0        1        0              1     35.00   \n",
       "3              0              1        0        1              0     41.00   \n",
       "4              0              1        0        0              0     50.50   \n",
       "..           ...            ...      ...      ...            ...       ...   \n",
       "595            0              0        0        0              1     41.00   \n",
       "596            0              1        0        1              0     47.33   \n",
       "597            0              1        0        0              0     46.50   \n",
       "598            0              0        1        0              1     47.25   \n",
       "599            0              0        0        0              1     40.33   \n",
       "\n",
       "     jul_rep  aug_dem  aug_rep  sep_dem  ...  prog  trad  moral  ind  \\\n",
       "0      56.00    30.50    60.50    33.00  ...     0     0      0    0   \n",
       "1      29.00    52.50    34.00    51.00  ...     0     0      0    0   \n",
       "2      34.75    35.67    40.67    35.67  ...     0     0      0    0   \n",
       "3      53.00    38.50    55.25    38.50  ...     0     0      0    0   \n",
       "4      39.00    49.00    42.00    41.50  ...     0     0      0    0   \n",
       "..       ...      ...      ...      ...  ...   ...   ...    ...  ...   \n",
       "595    47.50    42.00    50.25    43.62  ...     0     0      0    0   \n",
       "596    47.33    46.00    48.00    44.50  ...     0     0      0    0   \n",
       "597    42.50    47.67    43.00    46.67  ...     0     0      0    0   \n",
       "598    45.00    46.33    46.00    49.67  ...     0     0      0    0   \n",
       "599    38.33    42.67    37.33    42.33  ...     0     0      0    0   \n",
       "\n",
       "     lag_dem_per  lag2_dem_per  counter  int_south_year   lag_citi    lag_nom  \n",
       "0           18.7           0.0       14              14   6.310117  58.314171  \n",
       "1           25.5          18.7       18              18  15.885281  56.237427  \n",
       "2           55.7          25.5       22              22  25.339556  57.746479  \n",
       "3           47.4          55.7       26              26  29.221270  56.639839  \n",
       "4           38.3          47.4       30              30  28.214890  54.594231  \n",
       "..           ...           ...      ...             ...        ...        ...  \n",
       "595         36.8          34.0       42               0  31.146208  28.521126  \n",
       "596         27.7          36.8       46               0  23.743025  24.882629  \n",
       "597         29.1          27.7       50               0  27.263975  46.398216  \n",
       "598         32.0          29.1       54               0  29.487131  44.730881  \n",
       "599         28.0          32.0       58               0  24.096792  20.556671  \n",
       "\n",
       "[600 rows x 39 columns]"
      ]
     },
     "execution_count": 6,
     "metadata": {},
     "output_type": "execute_result"
    }
   ],
   "source": [
    "X"
   ]
  },
  {
   "cell_type": "markdown",
   "id": "c279b71e",
   "metadata": {},
   "source": [
    "#### Import Normalizer"
   ]
  },
  {
   "cell_type": "code",
   "execution_count": 8,
   "id": "c5d38607",
   "metadata": {},
   "outputs": [],
   "source": [
    "from sklearn.preprocessing import Normalizer\n",
    "X = Normalizer().fit_transform(X)"
   ]
  },
  {
   "cell_type": "markdown",
   "id": "69f2c345",
   "metadata": {},
   "source": [
    "#### Import PCA"
   ]
  },
  {
   "cell_type": "code",
   "execution_count": 9,
   "id": "1bfe1d19",
   "metadata": {},
   "outputs": [
    {
     "data": {
      "text/plain": [
       "(600, 39)"
      ]
     },
     "execution_count": 9,
     "metadata": {},
     "output_type": "execute_result"
    }
   ],
   "source": [
    "from sklearn.decomposition import PCA\n",
    "pca = PCA()\n",
    "pca.fit(X)\n",
    "reduced = pca.transform(X)\n",
    "reduced.shape"
   ]
  },
  {
   "cell_type": "code",
   "execution_count": 10,
   "id": "ac233ee1",
   "metadata": {},
   "outputs": [
    {
     "data": {
      "text/plain": [
       "array([[-2.28046365e-07,  6.17064330e-09,  5.20301594e-09, ...,\n",
       "        -6.18757599e-40,  2.77746422e-40, -1.46213501e-25],\n",
       "       [-2.38215198e-07,  2.79325688e-09,  2.58078544e-09, ...,\n",
       "        -1.60262649e-41,  1.38738818e-41, -2.82368611e-25],\n",
       "       [-2.55280840e-07,  8.27626583e-10,  1.24805221e-09, ...,\n",
       "         3.95058923e-40, -2.17753799e-40, -3.92908669e-26],\n",
       "       ...,\n",
       "       [ 1.36493350e-06, -1.70418089e-08, -1.22318364e-08, ...,\n",
       "        -1.72640712e-40,  4.88841921e-40,  1.40388269e-24],\n",
       "       [ 1.22140027e-06, -1.56745687e-08, -1.10562014e-08, ...,\n",
       "         3.85414413e-40,  2.16015705e-40,  1.23633291e-24],\n",
       "       [ 1.19953406e-06, -1.56732761e-08, -1.11869626e-08, ...,\n",
       "        -7.00245658e-40,  6.61502558e-40,  1.55520461e-24]])"
      ]
     },
     "execution_count": 10,
     "metadata": {},
     "output_type": "execute_result"
    }
   ],
   "source": [
    "reduced"
   ]
  },
  {
   "cell_type": "code",
   "execution_count": 12,
   "id": "5387cb10",
   "metadata": {},
   "outputs": [
    {
     "name": "stdout",
     "output_type": "stream",
     "text": [
      "(39, 39)\n",
      "[[ 1.41721540e-05  6.26276725e-05  1.16793805e-05 ...  3.16127866e-05\n",
      "   3.86779688e-03  3.72135169e-03]\n",
      " [-8.95512683e-06  3.01384107e-03  2.77394428e-05 ...  1.00255819e-02\n",
      "   1.70788781e-01  1.62316127e-01]\n",
      " [-2.80761744e-04  5.28741486e-03 -2.26143306e-04 ... -2.86688896e-03\n",
      "   1.91752395e-01  2.23400728e-01]\n",
      " ...\n",
      " [-0.00000000e+00  1.51729592e-18  9.81394639e-17 ... -4.93038066e-32\n",
      "  -1.23259516e-32 -7.39557099e-32]\n",
      " [-0.00000000e+00 -2.51732081e-20  1.54080404e-17 ...  9.86076132e-32\n",
      "   1.23259516e-32  3.08148791e-32]\n",
      " [-9.77165938e-01 -4.24744646e-03  5.44912442e-04 ... -6.93889390e-18\n",
      "  -2.25514052e-17 -0.00000000e+00]]\n"
     ]
    }
   ],
   "source": [
    "comp = pca.components_\n",
    "print(comp.shape)\n",
    "print(pca.components_)"
   ]
  },
  {
   "cell_type": "markdown",
   "id": "d1df7ffe",
   "metadata": {},
   "source": [
    "#### pca.explained_variance_ratio_)"
   ]
  },
  {
   "cell_type": "code",
   "execution_count": 13,
   "id": "295a4595",
   "metadata": {},
   "outputs": [
    {
     "name": "stdout",
     "output_type": "stream",
     "text": [
      "[9.99471564e-01 3.36048119e-04 1.68000050e-04 1.03421737e-05\n",
      " 6.94988152e-06 3.67817400e-06 1.37642725e-06 6.78349909e-07\n",
      " 4.91603225e-07 3.05249667e-07 2.56209192e-07 1.35171723e-07\n",
      " 8.48342209e-08 4.12228860e-08 2.65315934e-08 9.87819454e-09\n",
      " 3.97822778e-09 3.20245991e-09 2.59649255e-09 2.08041999e-09\n",
      " 2.27988803e-10 2.17192319e-10 5.87222947e-14 8.85809536e-33\n",
      " 8.85809536e-33 8.85809536e-33 8.85809536e-33 8.85809536e-33\n",
      " 8.85809536e-33 8.85809536e-33 8.85809536e-33 8.85809536e-33\n",
      " 8.85809536e-33 8.85809536e-33 8.85809536e-33 8.85809536e-33\n",
      " 8.85809536e-33 8.85809536e-33 3.00027541e-38]\n"
     ]
    }
   ],
   "source": [
    "print(pca.explained_variance_ratio_)"
   ]
  },
  {
   "cell_type": "markdown",
   "id": "1bbe7b70",
   "metadata": {},
   "source": [
    "#### pca.explained_variance_ratio_.cumsum()"
   ]
  },
  {
   "cell_type": "code",
   "execution_count": 14,
   "id": "fa8f9834",
   "metadata": {},
   "outputs": [
    {
     "name": "stdout",
     "output_type": "stream",
     "text": [
      "[0.99947156 0.99980761 0.99997561 0.99998595 0.9999929  0.99999658\n",
      " 0.99999796 0.99999864 0.99999913 0.99999943 0.99999969 0.99999983\n",
      " 0.99999991 0.99999995 0.99999998 0.99999999 0.99999999 0.99999999\n",
      " 1.         1.         1.         1.         1.         1.\n",
      " 1.         1.         1.         1.         1.         1.\n",
      " 1.         1.         1.         1.         1.         1.\n",
      " 1.         1.         1.        ]\n"
     ]
    }
   ],
   "source": [
    "print(pca.explained_variance_ratio_.cumsum())"
   ]
  },
  {
   "cell_type": "markdown",
   "id": "8b8b0ea1",
   "metadata": {},
   "source": [
    "#### (pca.explained_variance_ratio_[0])\n",
    "\n",
    "#### (pca.explained_variance_ratio_[1])\n",
    "\n",
    "#### (pca.explained_variance_ratio_[2]"
   ]
  },
  {
   "cell_type": "code",
   "execution_count": 16,
   "id": "ba5cfe96",
   "metadata": {},
   "outputs": [
    {
     "name": "stdout",
     "output_type": "stream",
     "text": [
      "0.9994715638209897\n",
      "0.0003360481193050379\n",
      "0.0001680000497431686\n"
     ]
    }
   ],
   "source": [
    "print(pca.explained_variance_ratio_[0])\n",
    "print(pca.explained_variance_ratio_[1])\n",
    "print(pca.explained_variance_ratio_[2])"
   ]
  },
  {
   "cell_type": "markdown",
   "id": "e1acc6e2",
   "metadata": {},
   "source": [
    "#### fit"
   ]
  },
  {
   "cell_type": "code",
   "execution_count": 17,
   "id": "6ef7a618",
   "metadata": {},
   "outputs": [
    {
     "data": {
      "image/png": "[encoded data removed]",
      "text/plain": [
       "<Figure size 432x288 with 1 Axes>"
      ]
     },
     "metadata": {
      "needs_background": "light"
     },
     "output_type": "display_data"
    }
   ],
   "source": [
    "pca = PCA().fit(X)\n",
    "plt.plot(pca.explained_variance_ratio_.cumsum())\n",
    "plt.xlabel('number of components')\n",
    "plt.ylabel('cumulative explained variance');"
   ]
  },
  {
   "cell_type": "markdown",
   "id": "bc1501ee",
   "metadata": {},
   "source": [
    "#### n_components  argument"
   ]
  },
  {
   "cell_type": "code",
   "execution_count": 18,
   "id": "4ebe2aa3",
   "metadata": {},
   "outputs": [
    {
     "data": {
      "text/plain": [
       "(600, 1)"
      ]
     },
     "execution_count": 18,
     "metadata": {},
     "output_type": "execute_result"
    }
   ],
   "source": [
    "pca = PCA(n_components = .95, svd_solver = 'full')\n",
    "pca.fit(X)\n",
    "reduced = pca.transform(X)\n",
    "reduced.shape"
   ]
  },
  {
   "cell_type": "code",
   "execution_count": 20,
   "id": "df012a14",
   "metadata": {},
   "outputs": [
    {
     "name": "stdout",
     "output_type": "stream",
     "text": [
      "0.9994715638209897\n"
     ]
    }
   ],
   "source": [
    "print(pca.explained_variance_ratio_[0])"
   ]
  }
 ],
 "metadata": {
  "kernelspec": {
   "display_name": "Python 3 (ipykernel)",
   "language": "python",
   "name": "python3"
  },
  "language_info": {
   "codemirror_mode": {
    "name": "ipython",
    "version": 3
   },
   "file_extension": ".py",
   "mimetype": "text/x-python",
   "name": "python",
   "nbconvert_exporter": "python",
   "pygments_lexer": "ipython3",
   "version": "3.9.13"
  }
 },
 "nbformat": 4,
 "nbformat_minor": 5
}
