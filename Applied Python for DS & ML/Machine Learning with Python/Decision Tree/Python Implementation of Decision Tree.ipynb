{
 "cells": [
  {
   "cell_type": "markdown",
   "id": "feb16dfe",
   "metadata": {},
   "source": [
    "### Python Implementation of Decision Tree "
   ]
  },
  {
   "cell_type": "code",
   "execution_count": 20,
   "id": "5dc7b85b",
   "metadata": {},
   "outputs": [],
   "source": [
    "#import the required libraries \n",
    "import pandas as pd\n",
    "import numpy as np\n",
    "import seaborn as sns\n",
    "import matplotlib.pyplot as plt \n",
    "import sklearn \n",
    "\n",
    "from sklearn.tree import DecisionTreeClassifier,export_graphviz\n",
    "from sklearn.metrics import accuracy_score,recall_score,precision_score,confusion_matrix,f1_score\n",
    "from sklearn.model_selection import train_test_split\n",
    "\n",
    "import warnings\n",
    "warnings.filterwarnings(\"ignore\")"
   ]
  },
  {
   "cell_type": "code",
   "execution_count": 2,
   "id": "de6e13cf",
   "metadata": {},
   "outputs": [
    {
     "name": "stdout",
     "output_type": "stream",
     "text": [
      "1.3.0\n"
     ]
    }
   ],
   "source": [
    "#print sklearn version \n",
    "print(sklearn.__version__)"
   ]
  },
  {
   "cell_type": "markdown",
   "id": "9d8a3f55",
   "metadata": {},
   "source": [
    "#### Import the file using Pandas "
   ]
  },
  {
   "cell_type": "code",
   "execution_count": 3,
   "id": "0f953e2d",
   "metadata": {
    "scrolled": true
   },
   "outputs": [
    {
     "data": {
      "text/html": [
       "<div>\n",
       "<style scoped>\n",
       "    .dataframe tbody tr th:only-of-type {\n",
       "        vertical-align: middle;\n",
       "    }\n",
       "\n",
       "    .dataframe tbody tr th {\n",
       "        vertical-align: top;\n",
       "    }\n",
       "\n",
       "    .dataframe thead th {\n",
       "        text-align: right;\n",
       "    }\n",
       "</style>\n",
       "<table border=\"1\" class=\"dataframe\">\n",
       "  <thead>\n",
       "    <tr style=\"text-align: right;\">\n",
       "      <th></th>\n",
       "      <th>Year</th>\n",
       "      <th>incumbent_won</th>\n",
       "      <th>party</th>\n",
       "      <th>heat_jul</th>\n",
       "      <th>heat_aug</th>\n",
       "      <th>heat_sep</th>\n",
       "      <th>heat_oct</th>\n",
       "      <th>unemployment</th>\n",
       "      <th>inflation</th>\n",
       "    </tr>\n",
       "  </thead>\n",
       "  <tbody>\n",
       "    <tr>\n",
       "      <th>0</th>\n",
       "      <td>1936</td>\n",
       "      <td>1</td>\n",
       "      <td>dem</td>\n",
       "      <td>49.00</td>\n",
       "      <td>49.00</td>\n",
       "      <td>49.50</td>\n",
       "      <td>52.67</td>\n",
       "      <td>20.1</td>\n",
       "      <td>3.0</td>\n",
       "    </tr>\n",
       "    <tr>\n",
       "      <th>1</th>\n",
       "      <td>1940</td>\n",
       "      <td>1</td>\n",
       "      <td>dem</td>\n",
       "      <td>46.00</td>\n",
       "      <td>45.50</td>\n",
       "      <td>49.00</td>\n",
       "      <td>51.00</td>\n",
       "      <td>17.2</td>\n",
       "      <td>0.0</td>\n",
       "    </tr>\n",
       "    <tr>\n",
       "      <th>2</th>\n",
       "      <td>1944</td>\n",
       "      <td>1</td>\n",
       "      <td>dem</td>\n",
       "      <td>47.50</td>\n",
       "      <td>47.00</td>\n",
       "      <td>48.00</td>\n",
       "      <td>49.00</td>\n",
       "      <td>1.9</td>\n",
       "      <td>3.0</td>\n",
       "    </tr>\n",
       "    <tr>\n",
       "      <th>3</th>\n",
       "      <td>1948</td>\n",
       "      <td>1</td>\n",
       "      <td>dem</td>\n",
       "      <td>37.50</td>\n",
       "      <td>38.20</td>\n",
       "      <td>38.20</td>\n",
       "      <td>45.00</td>\n",
       "      <td>3.6</td>\n",
       "      <td>8.8</td>\n",
       "    </tr>\n",
       "    <tr>\n",
       "      <th>4</th>\n",
       "      <td>1952</td>\n",
       "      <td>0</td>\n",
       "      <td>dem</td>\n",
       "      <td>43.00</td>\n",
       "      <td>41.50</td>\n",
       "      <td>40.50</td>\n",
       "      <td>41.20</td>\n",
       "      <td>3.1</td>\n",
       "      <td>6.0</td>\n",
       "    </tr>\n",
       "    <tr>\n",
       "      <th>5</th>\n",
       "      <td>1956</td>\n",
       "      <td>1</td>\n",
       "      <td>rep</td>\n",
       "      <td>61.50</td>\n",
       "      <td>52.00</td>\n",
       "      <td>52.00</td>\n",
       "      <td>54.00</td>\n",
       "      <td>4.2</td>\n",
       "      <td>0.4</td>\n",
       "    </tr>\n",
       "    <tr>\n",
       "      <th>6</th>\n",
       "      <td>1960</td>\n",
       "      <td>0</td>\n",
       "      <td>rep</td>\n",
       "      <td>46.00</td>\n",
       "      <td>47.75</td>\n",
       "      <td>47.75</td>\n",
       "      <td>46.67</td>\n",
       "      <td>5.3</td>\n",
       "      <td>1.7</td>\n",
       "    </tr>\n",
       "    <tr>\n",
       "      <th>7</th>\n",
       "      <td>1964</td>\n",
       "      <td>1</td>\n",
       "      <td>dem</td>\n",
       "      <td>60.50</td>\n",
       "      <td>65.00</td>\n",
       "      <td>63.50</td>\n",
       "      <td>64.00</td>\n",
       "      <td>5.5</td>\n",
       "      <td>1.6</td>\n",
       "    </tr>\n",
       "    <tr>\n",
       "      <th>8</th>\n",
       "      <td>1968</td>\n",
       "      <td>0</td>\n",
       "      <td>dem</td>\n",
       "      <td>39.00</td>\n",
       "      <td>29.00</td>\n",
       "      <td>29.33</td>\n",
       "      <td>36.00</td>\n",
       "      <td>3.8</td>\n",
       "      <td>3.0</td>\n",
       "    </tr>\n",
       "    <tr>\n",
       "      <th>9</th>\n",
       "      <td>1972</td>\n",
       "      <td>1</td>\n",
       "      <td>rep</td>\n",
       "      <td>56.00</td>\n",
       "      <td>60.50</td>\n",
       "      <td>61.00</td>\n",
       "      <td>59.50</td>\n",
       "      <td>6.0</td>\n",
       "      <td>3.3</td>\n",
       "    </tr>\n",
       "    <tr>\n",
       "      <th>10</th>\n",
       "      <td>1976</td>\n",
       "      <td>0</td>\n",
       "      <td>rep</td>\n",
       "      <td>29.00</td>\n",
       "      <td>34.00</td>\n",
       "      <td>40.00</td>\n",
       "      <td>45.00</td>\n",
       "      <td>4.9</td>\n",
       "      <td>8.7</td>\n",
       "    </tr>\n",
       "    <tr>\n",
       "      <th>11</th>\n",
       "      <td>1980</td>\n",
       "      <td>0</td>\n",
       "      <td>dem</td>\n",
       "      <td>35.00</td>\n",
       "      <td>35.67</td>\n",
       "      <td>35.67</td>\n",
       "      <td>44.33</td>\n",
       "      <td>6.0</td>\n",
       "      <td>13.3</td>\n",
       "    </tr>\n",
       "    <tr>\n",
       "      <th>12</th>\n",
       "      <td>1984</td>\n",
       "      <td>1</td>\n",
       "      <td>rep</td>\n",
       "      <td>53.00</td>\n",
       "      <td>55.25</td>\n",
       "      <td>55.25</td>\n",
       "      <td>57.67</td>\n",
       "      <td>8.3</td>\n",
       "      <td>3.8</td>\n",
       "    </tr>\n",
       "    <tr>\n",
       "      <th>13</th>\n",
       "      <td>1988</td>\n",
       "      <td>1</td>\n",
       "      <td>rep</td>\n",
       "      <td>39.00</td>\n",
       "      <td>42.00</td>\n",
       "      <td>48.00</td>\n",
       "      <td>50.00</td>\n",
       "      <td>5.7</td>\n",
       "      <td>4.4</td>\n",
       "    </tr>\n",
       "    <tr>\n",
       "      <th>14</th>\n",
       "      <td>1992</td>\n",
       "      <td>0</td>\n",
       "      <td>rep</td>\n",
       "      <td>37.50</td>\n",
       "      <td>39.33</td>\n",
       "      <td>38.80</td>\n",
       "      <td>33.83</td>\n",
       "      <td>7.3</td>\n",
       "      <td>3.1</td>\n",
       "    </tr>\n",
       "    <tr>\n",
       "      <th>15</th>\n",
       "      <td>1996</td>\n",
       "      <td>1</td>\n",
       "      <td>dem</td>\n",
       "      <td>50.00</td>\n",
       "      <td>51.20</td>\n",
       "      <td>52.77</td>\n",
       "      <td>52.20</td>\n",
       "      <td>5.6</td>\n",
       "      <td>2.5</td>\n",
       "    </tr>\n",
       "    <tr>\n",
       "      <th>16</th>\n",
       "      <td>2000</td>\n",
       "      <td>0</td>\n",
       "      <td>dem</td>\n",
       "      <td>41.00</td>\n",
       "      <td>42.00</td>\n",
       "      <td>43.62</td>\n",
       "      <td>43.73</td>\n",
       "      <td>4.0</td>\n",
       "      <td>2.7</td>\n",
       "    </tr>\n",
       "    <tr>\n",
       "      <th>17</th>\n",
       "      <td>2004</td>\n",
       "      <td>1</td>\n",
       "      <td>rep</td>\n",
       "      <td>47.33</td>\n",
       "      <td>48.00</td>\n",
       "      <td>52.00</td>\n",
       "      <td>49.80</td>\n",
       "      <td>5.7</td>\n",
       "      <td>1.9</td>\n",
       "    </tr>\n",
       "    <tr>\n",
       "      <th>18</th>\n",
       "      <td>2008</td>\n",
       "      <td>0</td>\n",
       "      <td>rep</td>\n",
       "      <td>42.50</td>\n",
       "      <td>43.00</td>\n",
       "      <td>46.33</td>\n",
       "      <td>41.60</td>\n",
       "      <td>5.0</td>\n",
       "      <td>4.1</td>\n",
       "    </tr>\n",
       "    <tr>\n",
       "      <th>19</th>\n",
       "      <td>2012</td>\n",
       "      <td>1</td>\n",
       "      <td>dem</td>\n",
       "      <td>47.25</td>\n",
       "      <td>46.33</td>\n",
       "      <td>49.67</td>\n",
       "      <td>48.00</td>\n",
       "      <td>8.5</td>\n",
       "      <td>3.0</td>\n",
       "    </tr>\n",
       "    <tr>\n",
       "      <th>20</th>\n",
       "      <td>2016</td>\n",
       "      <td>0</td>\n",
       "      <td>dem</td>\n",
       "      <td>40.33</td>\n",
       "      <td>42.67</td>\n",
       "      <td>42.33</td>\n",
       "      <td>45.25</td>\n",
       "      <td>5.0</td>\n",
       "      <td>0.7</td>\n",
       "    </tr>\n",
       "  </tbody>\n",
       "</table>\n",
       "</div>"
      ],
      "text/plain": [
       "    Year  incumbent_won party  heat_jul  heat_aug  heat_sep  heat_oct  \\\n",
       "0   1936              1   dem     49.00     49.00     49.50     52.67   \n",
       "1   1940              1   dem     46.00     45.50     49.00     51.00   \n",
       "2   1944              1   dem     47.50     47.00     48.00     49.00   \n",
       "3   1948              1   dem     37.50     38.20     38.20     45.00   \n",
       "4   1952              0   dem     43.00     41.50     40.50     41.20   \n",
       "5   1956              1   rep     61.50     52.00     52.00     54.00   \n",
       "6   1960              0   rep     46.00     47.75     47.75     46.67   \n",
       "7   1964              1   dem     60.50     65.00     63.50     64.00   \n",
       "8   1968              0   dem     39.00     29.00     29.33     36.00   \n",
       "9   1972              1   rep     56.00     60.50     61.00     59.50   \n",
       "10  1976              0   rep     29.00     34.00     40.00     45.00   \n",
       "11  1980              0   dem     35.00     35.67     35.67     44.33   \n",
       "12  1984              1   rep     53.00     55.25     55.25     57.67   \n",
       "13  1988              1   rep     39.00     42.00     48.00     50.00   \n",
       "14  1992              0   rep     37.50     39.33     38.80     33.83   \n",
       "15  1996              1   dem     50.00     51.20     52.77     52.20   \n",
       "16  2000              0   dem     41.00     42.00     43.62     43.73   \n",
       "17  2004              1   rep     47.33     48.00     52.00     49.80   \n",
       "18  2008              0   rep     42.50     43.00     46.33     41.60   \n",
       "19  2012              1   dem     47.25     46.33     49.67     48.00   \n",
       "20  2016              0   dem     40.33     42.67     42.33     45.25   \n",
       "\n",
       "    unemployment  inflation  \n",
       "0           20.1        3.0  \n",
       "1           17.2        0.0  \n",
       "2            1.9        3.0  \n",
       "3            3.6        8.8  \n",
       "4            3.1        6.0  \n",
       "5            4.2        0.4  \n",
       "6            5.3        1.7  \n",
       "7            5.5        1.6  \n",
       "8            3.8        3.0  \n",
       "9            6.0        3.3  \n",
       "10           4.9        8.7  \n",
       "11           6.0       13.3  \n",
       "12           8.3        3.8  \n",
       "13           5.7        4.4  \n",
       "14           7.3        3.1  \n",
       "15           5.6        2.5  \n",
       "16           4.0        2.7  \n",
       "17           5.7        1.9  \n",
       "18           5.0        4.1  \n",
       "19           8.5        3.0  \n",
       "20           5.0        0.7  "
      ]
     },
     "execution_count": 3,
     "metadata": {},
     "output_type": "execute_result"
    }
   ],
   "source": [
    "url = \"https://github.com/mawalz05/PLSC481M_Forecasting_Elections/raw/master/Elections_Data.csv\"\n",
    "df = pd.read_csv(url)\n",
    "df"
   ]
  },
  {
   "cell_type": "markdown",
   "id": "a45b5a2e",
   "metadata": {},
   "source": [
    "#### Extracting the predictors from the dataframe "
   ]
  },
  {
   "cell_type": "code",
   "execution_count": 4,
   "id": "08ef036b",
   "metadata": {},
   "outputs": [
    {
     "data": {
      "text/plain": [
       "(21, 6)"
      ]
     },
     "execution_count": 4,
     "metadata": {},
     "output_type": "execute_result"
    }
   ],
   "source": [
    "cols = ['heat_jul','heat_aug','heat_sep','heat_oct','unemployment','inflation']\n",
    "X = df[cols]\n",
    "X.shape"
   ]
  },
  {
   "cell_type": "code",
   "execution_count": 5,
   "id": "05520271",
   "metadata": {},
   "outputs": [
    {
     "data": {
      "text/html": [
       "<div>\n",
       "<style scoped>\n",
       "    .dataframe tbody tr th:only-of-type {\n",
       "        vertical-align: middle;\n",
       "    }\n",
       "\n",
       "    .dataframe tbody tr th {\n",
       "        vertical-align: top;\n",
       "    }\n",
       "\n",
       "    .dataframe thead th {\n",
       "        text-align: right;\n",
       "    }\n",
       "</style>\n",
       "<table border=\"1\" class=\"dataframe\">\n",
       "  <thead>\n",
       "    <tr style=\"text-align: right;\">\n",
       "      <th></th>\n",
       "      <th>heat_jul</th>\n",
       "      <th>heat_aug</th>\n",
       "      <th>heat_sep</th>\n",
       "      <th>heat_oct</th>\n",
       "      <th>unemployment</th>\n",
       "      <th>inflation</th>\n",
       "    </tr>\n",
       "  </thead>\n",
       "  <tbody>\n",
       "    <tr>\n",
       "      <th>0</th>\n",
       "      <td>49.00</td>\n",
       "      <td>49.00</td>\n",
       "      <td>49.50</td>\n",
       "      <td>52.67</td>\n",
       "      <td>20.1</td>\n",
       "      <td>3.0</td>\n",
       "    </tr>\n",
       "    <tr>\n",
       "      <th>1</th>\n",
       "      <td>46.00</td>\n",
       "      <td>45.50</td>\n",
       "      <td>49.00</td>\n",
       "      <td>51.00</td>\n",
       "      <td>17.2</td>\n",
       "      <td>0.0</td>\n",
       "    </tr>\n",
       "    <tr>\n",
       "      <th>2</th>\n",
       "      <td>47.50</td>\n",
       "      <td>47.00</td>\n",
       "      <td>48.00</td>\n",
       "      <td>49.00</td>\n",
       "      <td>1.9</td>\n",
       "      <td>3.0</td>\n",
       "    </tr>\n",
       "    <tr>\n",
       "      <th>3</th>\n",
       "      <td>37.50</td>\n",
       "      <td>38.20</td>\n",
       "      <td>38.20</td>\n",
       "      <td>45.00</td>\n",
       "      <td>3.6</td>\n",
       "      <td>8.8</td>\n",
       "    </tr>\n",
       "    <tr>\n",
       "      <th>4</th>\n",
       "      <td>43.00</td>\n",
       "      <td>41.50</td>\n",
       "      <td>40.50</td>\n",
       "      <td>41.20</td>\n",
       "      <td>3.1</td>\n",
       "      <td>6.0</td>\n",
       "    </tr>\n",
       "    <tr>\n",
       "      <th>5</th>\n",
       "      <td>61.50</td>\n",
       "      <td>52.00</td>\n",
       "      <td>52.00</td>\n",
       "      <td>54.00</td>\n",
       "      <td>4.2</td>\n",
       "      <td>0.4</td>\n",
       "    </tr>\n",
       "    <tr>\n",
       "      <th>6</th>\n",
       "      <td>46.00</td>\n",
       "      <td>47.75</td>\n",
       "      <td>47.75</td>\n",
       "      <td>46.67</td>\n",
       "      <td>5.3</td>\n",
       "      <td>1.7</td>\n",
       "    </tr>\n",
       "    <tr>\n",
       "      <th>7</th>\n",
       "      <td>60.50</td>\n",
       "      <td>65.00</td>\n",
       "      <td>63.50</td>\n",
       "      <td>64.00</td>\n",
       "      <td>5.5</td>\n",
       "      <td>1.6</td>\n",
       "    </tr>\n",
       "    <tr>\n",
       "      <th>8</th>\n",
       "      <td>39.00</td>\n",
       "      <td>29.00</td>\n",
       "      <td>29.33</td>\n",
       "      <td>36.00</td>\n",
       "      <td>3.8</td>\n",
       "      <td>3.0</td>\n",
       "    </tr>\n",
       "    <tr>\n",
       "      <th>9</th>\n",
       "      <td>56.00</td>\n",
       "      <td>60.50</td>\n",
       "      <td>61.00</td>\n",
       "      <td>59.50</td>\n",
       "      <td>6.0</td>\n",
       "      <td>3.3</td>\n",
       "    </tr>\n",
       "    <tr>\n",
       "      <th>10</th>\n",
       "      <td>29.00</td>\n",
       "      <td>34.00</td>\n",
       "      <td>40.00</td>\n",
       "      <td>45.00</td>\n",
       "      <td>4.9</td>\n",
       "      <td>8.7</td>\n",
       "    </tr>\n",
       "    <tr>\n",
       "      <th>11</th>\n",
       "      <td>35.00</td>\n",
       "      <td>35.67</td>\n",
       "      <td>35.67</td>\n",
       "      <td>44.33</td>\n",
       "      <td>6.0</td>\n",
       "      <td>13.3</td>\n",
       "    </tr>\n",
       "    <tr>\n",
       "      <th>12</th>\n",
       "      <td>53.00</td>\n",
       "      <td>55.25</td>\n",
       "      <td>55.25</td>\n",
       "      <td>57.67</td>\n",
       "      <td>8.3</td>\n",
       "      <td>3.8</td>\n",
       "    </tr>\n",
       "    <tr>\n",
       "      <th>13</th>\n",
       "      <td>39.00</td>\n",
       "      <td>42.00</td>\n",
       "      <td>48.00</td>\n",
       "      <td>50.00</td>\n",
       "      <td>5.7</td>\n",
       "      <td>4.4</td>\n",
       "    </tr>\n",
       "    <tr>\n",
       "      <th>14</th>\n",
       "      <td>37.50</td>\n",
       "      <td>39.33</td>\n",
       "      <td>38.80</td>\n",
       "      <td>33.83</td>\n",
       "      <td>7.3</td>\n",
       "      <td>3.1</td>\n",
       "    </tr>\n",
       "    <tr>\n",
       "      <th>15</th>\n",
       "      <td>50.00</td>\n",
       "      <td>51.20</td>\n",
       "      <td>52.77</td>\n",
       "      <td>52.20</td>\n",
       "      <td>5.6</td>\n",
       "      <td>2.5</td>\n",
       "    </tr>\n",
       "    <tr>\n",
       "      <th>16</th>\n",
       "      <td>41.00</td>\n",
       "      <td>42.00</td>\n",
       "      <td>43.62</td>\n",
       "      <td>43.73</td>\n",
       "      <td>4.0</td>\n",
       "      <td>2.7</td>\n",
       "    </tr>\n",
       "    <tr>\n",
       "      <th>17</th>\n",
       "      <td>47.33</td>\n",
       "      <td>48.00</td>\n",
       "      <td>52.00</td>\n",
       "      <td>49.80</td>\n",
       "      <td>5.7</td>\n",
       "      <td>1.9</td>\n",
       "    </tr>\n",
       "    <tr>\n",
       "      <th>18</th>\n",
       "      <td>42.50</td>\n",
       "      <td>43.00</td>\n",
       "      <td>46.33</td>\n",
       "      <td>41.60</td>\n",
       "      <td>5.0</td>\n",
       "      <td>4.1</td>\n",
       "    </tr>\n",
       "    <tr>\n",
       "      <th>19</th>\n",
       "      <td>47.25</td>\n",
       "      <td>46.33</td>\n",
       "      <td>49.67</td>\n",
       "      <td>48.00</td>\n",
       "      <td>8.5</td>\n",
       "      <td>3.0</td>\n",
       "    </tr>\n",
       "    <tr>\n",
       "      <th>20</th>\n",
       "      <td>40.33</td>\n",
       "      <td>42.67</td>\n",
       "      <td>42.33</td>\n",
       "      <td>45.25</td>\n",
       "      <td>5.0</td>\n",
       "      <td>0.7</td>\n",
       "    </tr>\n",
       "  </tbody>\n",
       "</table>\n",
       "</div>"
      ],
      "text/plain": [
       "    heat_jul  heat_aug  heat_sep  heat_oct  unemployment  inflation\n",
       "0      49.00     49.00     49.50     52.67          20.1        3.0\n",
       "1      46.00     45.50     49.00     51.00          17.2        0.0\n",
       "2      47.50     47.00     48.00     49.00           1.9        3.0\n",
       "3      37.50     38.20     38.20     45.00           3.6        8.8\n",
       "4      43.00     41.50     40.50     41.20           3.1        6.0\n",
       "5      61.50     52.00     52.00     54.00           4.2        0.4\n",
       "6      46.00     47.75     47.75     46.67           5.3        1.7\n",
       "7      60.50     65.00     63.50     64.00           5.5        1.6\n",
       "8      39.00     29.00     29.33     36.00           3.8        3.0\n",
       "9      56.00     60.50     61.00     59.50           6.0        3.3\n",
       "10     29.00     34.00     40.00     45.00           4.9        8.7\n",
       "11     35.00     35.67     35.67     44.33           6.0       13.3\n",
       "12     53.00     55.25     55.25     57.67           8.3        3.8\n",
       "13     39.00     42.00     48.00     50.00           5.7        4.4\n",
       "14     37.50     39.33     38.80     33.83           7.3        3.1\n",
       "15     50.00     51.20     52.77     52.20           5.6        2.5\n",
       "16     41.00     42.00     43.62     43.73           4.0        2.7\n",
       "17     47.33     48.00     52.00     49.80           5.7        1.9\n",
       "18     42.50     43.00     46.33     41.60           5.0        4.1\n",
       "19     47.25     46.33     49.67     48.00           8.5        3.0\n",
       "20     40.33     42.67     42.33     45.25           5.0        0.7"
      ]
     },
     "execution_count": 5,
     "metadata": {},
     "output_type": "execute_result"
    }
   ],
   "source": [
    "X"
   ]
  },
  {
   "cell_type": "markdown",
   "id": "aa568406",
   "metadata": {},
   "source": [
    "#### Extracting the response variable from the dataframe "
   ]
  },
  {
   "cell_type": "code",
   "execution_count": 6,
   "id": "fe41f9a5",
   "metadata": {},
   "outputs": [
    {
     "data": {
      "text/plain": [
       "0     1\n",
       "1     1\n",
       "2     1\n",
       "3     1\n",
       "4     0\n",
       "5     1\n",
       "6     0\n",
       "7     1\n",
       "8     0\n",
       "9     1\n",
       "10    0\n",
       "11    0\n",
       "12    1\n",
       "13    1\n",
       "14    0\n",
       "15    1\n",
       "16    0\n",
       "17    1\n",
       "18    0\n",
       "19    1\n",
       "20    0\n",
       "Name: incumbent_won, dtype: int64"
      ]
     },
     "execution_count": 6,
     "metadata": {},
     "output_type": "execute_result"
    }
   ],
   "source": [
    "y = df['incumbent_won']\n",
    "y"
   ]
  },
  {
   "cell_type": "markdown",
   "id": "62b3cfad",
   "metadata": {},
   "source": [
    "#### Reshaping the data to use in Classifier"
   ]
  },
  {
   "cell_type": "code",
   "execution_count": 12,
   "id": "64baf2ce",
   "metadata": {},
   "outputs": [
    {
     "name": "stdout",
     "output_type": "stream",
     "text": [
      "(21, 1)\n"
     ]
    }
   ],
   "source": [
    "y = np.array(y)\n",
    "y = y.reshape(21, 1)\n",
    "\n",
    "print(y.shape)"
   ]
  },
  {
   "cell_type": "markdown",
   "id": "5f64e2e1",
   "metadata": {},
   "source": [
    "#### Decision Tree Classifier without pruning"
   ]
  },
  {
   "cell_type": "code",
   "execution_count": 13,
   "id": "5a8b6c29",
   "metadata": {},
   "outputs": [
    {
     "data": {
      "text/plain": [
       "1.0"
      ]
     },
     "execution_count": 13,
     "metadata": {},
     "output_type": "execute_result"
    }
   ],
   "source": [
    "clf = DecisionTreeClassifier(random_state = 42)\n",
    "clf.fit(X, y)\n",
    "clf.score(X, y)"
   ]
  },
  {
   "cell_type": "markdown",
   "id": "39605d35",
   "metadata": {},
   "source": [
    "#### Decision Tree Classifier with pruning "
   ]
  },
  {
   "cell_type": "code",
   "execution_count": 14,
   "id": "90834c2d",
   "metadata": {},
   "outputs": [
    {
     "data": {
      "text/plain": [
       "0.9523809523809523"
      ]
     },
     "execution_count": 14,
     "metadata": {},
     "output_type": "execute_result"
    }
   ],
   "source": [
    "clf = DecisionTreeClassifier(max_depth = 2, min_samples_leaf = 2, random_state = 42)\n",
    "clf.fit(X, y)\n",
    "clf.score(X, y)"
   ]
  },
  {
   "cell_type": "markdown",
   "id": "305fa1a9",
   "metadata": {},
   "source": [
    "#### Training and Testing Splits"
   ]
  },
  {
   "cell_type": "code",
   "execution_count": 15,
   "id": "36b6f993",
   "metadata": {},
   "outputs": [
    {
     "name": "stdout",
     "output_type": "stream",
     "text": [
      "(15, 6)\n",
      "(15, 1)\n"
     ]
    }
   ],
   "source": [
    "X_train, X_test, y_train, y_test = train_test_split(X, y, test_size=0.25, random_state=333)\n",
    "print(X_train.shape)\n",
    "print(y_train.shape)"
   ]
  },
  {
   "cell_type": "markdown",
   "id": "977ffdf4",
   "metadata": {},
   "source": [
    "#### Decision Tree Classification on the training set"
   ]
  },
  {
   "cell_type": "code",
   "execution_count": 17,
   "id": "b31ecac6",
   "metadata": {},
   "outputs": [
    {
     "data": {
      "text/plain": [
       "1.0"
      ]
     },
     "execution_count": 17,
     "metadata": {},
     "output_type": "execute_result"
    }
   ],
   "source": [
    "clf = DecisionTreeClassifier(random_state = 42)\n",
    "clf.fit(X_train, y_train)\n",
    "clf.score(X_train, y_train)"
   ]
  },
  {
   "cell_type": "markdown",
   "id": "2c0293a5",
   "metadata": {},
   "source": [
    "#### Decision Tree Predictions on the testing set | confusion_matrix | accuracy of classification task"
   ]
  },
  {
   "cell_type": "code",
   "execution_count": 18,
   "id": "554ff856",
   "metadata": {},
   "outputs": [
    {
     "data": {
      "text/plain": [
       "0.8333333333333334"
      ]
     },
     "execution_count": 18,
     "metadata": {},
     "output_type": "execute_result"
    }
   ],
   "source": [
    "clf.predict(X_test)\n",
    "clf.score(X_test, y_test)\n",
    "#overfitting"
   ]
  },
  {
   "cell_type": "code",
   "execution_count": 21,
   "id": "2fed151f",
   "metadata": {},
   "outputs": [
    {
     "name": "stdout",
     "output_type": "stream",
     "text": [
      "Training:1.0\n",
      "Test:0.8333333333333334\n"
     ]
    },
    {
     "data": {
      "image/png": "[encoded data removed]",
      "text/plain": [
       "<Figure size 432x288 with 2 Axes>"
      ]
     },
     "metadata": {
      "needs_background": "light"
     },
     "output_type": "display_data"
    },
    {
     "data": {
      "text/plain": [
       "array([[1, 1],\n",
       "       [0, 4]], dtype=int64)"
      ]
     },
     "execution_count": 21,
     "metadata": {},
     "output_type": "execute_result"
    }
   ],
   "source": [
    "clf = DecisionTreeClassifier(random_state = 42).fit(X_train,y_train)\n",
    "print(\"Training:\"+str(clf.score(X_train,y_train)))\n",
    "print(\"Test:\"+str(clf.score(X_test,y_test)))\n",
    "pred = clf.predict(X_test)\n",
    "confusion_matrix = confusion_matrix(y_true=y_test,y_pred=pred)\n",
    "\n",
    "sns.heatmap(confusion_matrix,annot=True,annot_kws={\"size\":16})\n",
    "plt.show()\n",
    "\n",
    "confusion_matrix"
   ]
  },
  {
   "cell_type": "markdown",
   "id": "b01d3815",
   "metadata": {},
   "source": [
    "#### Plotting the Decision Tree | generating the Tree"
   ]
  },
  {
   "cell_type": "code",
   "execution_count": 22,
   "id": "6c4e2a32",
   "metadata": {},
   "outputs": [
    {
     "data": {
      "text/plain": [
       "[Text(0.6, 0.875, 'x[3] <= 47.335\\ngini = 0.498\\nsamples = 15\\nvalue = [7, 8]'),\n",
       " Text(0.4, 0.625, 'x[5] <= 7.4\\ngini = 0.219\\nsamples = 8\\nvalue = [7, 1]'),\n",
       " Text(0.2, 0.375, 'gini = 0.0\\nsamples = 6\\nvalue = [6, 0]'),\n",
       " Text(0.6, 0.375, 'x[5] <= 11.05\\ngini = 0.5\\nsamples = 2\\nvalue = [1, 1]'),\n",
       " Text(0.4, 0.125, 'gini = 0.0\\nsamples = 1\\nvalue = [0, 1]'),\n",
       " Text(0.8, 0.125, 'gini = 0.0\\nsamples = 1\\nvalue = [1, 0]'),\n",
       " Text(0.8, 0.625, 'gini = 0.0\\nsamples = 7\\nvalue = [0, 7]')]"
      ]
     },
     "execution_count": 22,
     "metadata": {},
     "output_type": "execute_result"
    },
    {
     "data": {
      "image/png": "[encoded data removed]",
      "text/plain": [
       "<Figure size 432x288 with 1 Axes>"
      ]
     },
     "metadata": {
      "needs_background": "light"
     },
     "output_type": "display_data"
    }
   ],
   "source": [
    "from sklearn import tree\n",
    "tree.plot_tree(clf)"
   ]
  },
  {
   "cell_type": "code",
   "execution_count": 23,
   "id": "82296fb6",
   "metadata": {},
   "outputs": [
    {
     "data": {
      "text/html": [
       "<div>\n",
       "<style scoped>\n",
       "    .dataframe tbody tr th:only-of-type {\n",
       "        vertical-align: middle;\n",
       "    }\n",
       "\n",
       "    .dataframe tbody tr th {\n",
       "        vertical-align: top;\n",
       "    }\n",
       "\n",
       "    .dataframe thead th {\n",
       "        text-align: right;\n",
       "    }\n",
       "</style>\n",
       "<table border=\"1\" class=\"dataframe\">\n",
       "  <thead>\n",
       "    <tr style=\"text-align: right;\">\n",
       "      <th></th>\n",
       "      <th>heat_jul</th>\n",
       "      <th>heat_aug</th>\n",
       "      <th>heat_sep</th>\n",
       "      <th>heat_oct</th>\n",
       "      <th>unemployment</th>\n",
       "      <th>inflation</th>\n",
       "    </tr>\n",
       "  </thead>\n",
       "  <tbody>\n",
       "    <tr>\n",
       "      <th>8</th>\n",
       "      <td>39.00</td>\n",
       "      <td>29.00</td>\n",
       "      <td>29.33</td>\n",
       "      <td>36.00</td>\n",
       "      <td>3.8</td>\n",
       "      <td>3.0</td>\n",
       "    </tr>\n",
       "    <tr>\n",
       "      <th>9</th>\n",
       "      <td>56.00</td>\n",
       "      <td>60.50</td>\n",
       "      <td>61.00</td>\n",
       "      <td>59.50</td>\n",
       "      <td>6.0</td>\n",
       "      <td>3.3</td>\n",
       "    </tr>\n",
       "    <tr>\n",
       "      <th>4</th>\n",
       "      <td>43.00</td>\n",
       "      <td>41.50</td>\n",
       "      <td>40.50</td>\n",
       "      <td>41.20</td>\n",
       "      <td>3.1</td>\n",
       "      <td>6.0</td>\n",
       "    </tr>\n",
       "    <tr>\n",
       "      <th>15</th>\n",
       "      <td>50.00</td>\n",
       "      <td>51.20</td>\n",
       "      <td>52.77</td>\n",
       "      <td>52.20</td>\n",
       "      <td>5.6</td>\n",
       "      <td>2.5</td>\n",
       "    </tr>\n",
       "    <tr>\n",
       "      <th>11</th>\n",
       "      <td>35.00</td>\n",
       "      <td>35.67</td>\n",
       "      <td>35.67</td>\n",
       "      <td>44.33</td>\n",
       "      <td>6.0</td>\n",
       "      <td>13.3</td>\n",
       "    </tr>\n",
       "    <tr>\n",
       "      <th>7</th>\n",
       "      <td>60.50</td>\n",
       "      <td>65.00</td>\n",
       "      <td>63.50</td>\n",
       "      <td>64.00</td>\n",
       "      <td>5.5</td>\n",
       "      <td>1.6</td>\n",
       "    </tr>\n",
       "    <tr>\n",
       "      <th>17</th>\n",
       "      <td>47.33</td>\n",
       "      <td>48.00</td>\n",
       "      <td>52.00</td>\n",
       "      <td>49.80</td>\n",
       "      <td>5.7</td>\n",
       "      <td>1.9</td>\n",
       "    </tr>\n",
       "    <tr>\n",
       "      <th>19</th>\n",
       "      <td>47.25</td>\n",
       "      <td>46.33</td>\n",
       "      <td>49.67</td>\n",
       "      <td>48.00</td>\n",
       "      <td>8.5</td>\n",
       "      <td>3.0</td>\n",
       "    </tr>\n",
       "    <tr>\n",
       "      <th>16</th>\n",
       "      <td>41.00</td>\n",
       "      <td>42.00</td>\n",
       "      <td>43.62</td>\n",
       "      <td>43.73</td>\n",
       "      <td>4.0</td>\n",
       "      <td>2.7</td>\n",
       "    </tr>\n",
       "    <tr>\n",
       "      <th>6</th>\n",
       "      <td>46.00</td>\n",
       "      <td>47.75</td>\n",
       "      <td>47.75</td>\n",
       "      <td>46.67</td>\n",
       "      <td>5.3</td>\n",
       "      <td>1.7</td>\n",
       "    </tr>\n",
       "    <tr>\n",
       "      <th>14</th>\n",
       "      <td>37.50</td>\n",
       "      <td>39.33</td>\n",
       "      <td>38.80</td>\n",
       "      <td>33.83</td>\n",
       "      <td>7.3</td>\n",
       "      <td>3.1</td>\n",
       "    </tr>\n",
       "    <tr>\n",
       "      <th>3</th>\n",
       "      <td>37.50</td>\n",
       "      <td>38.20</td>\n",
       "      <td>38.20</td>\n",
       "      <td>45.00</td>\n",
       "      <td>3.6</td>\n",
       "      <td>8.8</td>\n",
       "    </tr>\n",
       "    <tr>\n",
       "      <th>13</th>\n",
       "      <td>39.00</td>\n",
       "      <td>42.00</td>\n",
       "      <td>48.00</td>\n",
       "      <td>50.00</td>\n",
       "      <td>5.7</td>\n",
       "      <td>4.4</td>\n",
       "    </tr>\n",
       "    <tr>\n",
       "      <th>20</th>\n",
       "      <td>40.33</td>\n",
       "      <td>42.67</td>\n",
       "      <td>42.33</td>\n",
       "      <td>45.25</td>\n",
       "      <td>5.0</td>\n",
       "      <td>0.7</td>\n",
       "    </tr>\n",
       "    <tr>\n",
       "      <th>12</th>\n",
       "      <td>53.00</td>\n",
       "      <td>55.25</td>\n",
       "      <td>55.25</td>\n",
       "      <td>57.67</td>\n",
       "      <td>8.3</td>\n",
       "      <td>3.8</td>\n",
       "    </tr>\n",
       "  </tbody>\n",
       "</table>\n",
       "</div>"
      ],
      "text/plain": [
       "    heat_jul  heat_aug  heat_sep  heat_oct  unemployment  inflation\n",
       "8      39.00     29.00     29.33     36.00           3.8        3.0\n",
       "9      56.00     60.50     61.00     59.50           6.0        3.3\n",
       "4      43.00     41.50     40.50     41.20           3.1        6.0\n",
       "15     50.00     51.20     52.77     52.20           5.6        2.5\n",
       "11     35.00     35.67     35.67     44.33           6.0       13.3\n",
       "7      60.50     65.00     63.50     64.00           5.5        1.6\n",
       "17     47.33     48.00     52.00     49.80           5.7        1.9\n",
       "19     47.25     46.33     49.67     48.00           8.5        3.0\n",
       "16     41.00     42.00     43.62     43.73           4.0        2.7\n",
       "6      46.00     47.75     47.75     46.67           5.3        1.7\n",
       "14     37.50     39.33     38.80     33.83           7.3        3.1\n",
       "3      37.50     38.20     38.20     45.00           3.6        8.8\n",
       "13     39.00     42.00     48.00     50.00           5.7        4.4\n",
       "20     40.33     42.67     42.33     45.25           5.0        0.7\n",
       "12     53.00     55.25     55.25     57.67           8.3        3.8"
      ]
     },
     "execution_count": 23,
     "metadata": {},
     "output_type": "execute_result"
    }
   ],
   "source": [
    "X_train\n",
    "#variable heat_oct is our more importan predicter\n",
    "#x[3] "
   ]
  },
  {
   "cell_type": "markdown",
   "id": "e660fa7e",
   "metadata": {},
   "source": [
    "#### Another way to interpret the Decision Tree"
   ]
  },
  {
   "cell_type": "code",
   "execution_count": 25,
   "id": "be47e028",
   "metadata": {},
   "outputs": [
    {
     "name": "stdout",
     "output_type": "stream",
     "text": [
      "|--- feature_3 <= 47.33\n",
      "|   |--- feature_5 <= 7.40\n",
      "|   |   |--- class: 0\n",
      "|   |--- feature_5 >  7.40\n",
      "|   |   |--- feature_5 <= 11.05\n",
      "|   |   |   |--- class: 1\n",
      "|   |   |--- feature_5 >  11.05\n",
      "|   |   |   |--- class: 0\n",
      "|--- feature_3 >  47.33\n",
      "|   |--- class: 1\n",
      "\n"
     ]
    }
   ],
   "source": [
    "text_presentation = tree.export_text(clf)\n",
    "print(text_presentation)\n",
    "#variable heat_oct is our more important predicter\n",
    "#feature_3"
   ]
  },
  {
   "cell_type": "markdown",
   "id": "918090bf",
   "metadata": {},
   "source": [
    "#### Which variables are of importance?"
   ]
  },
  {
   "cell_type": "code",
   "execution_count": 27,
   "id": "232a9239",
   "metadata": {},
   "outputs": [
    {
     "name": "stdout",
     "output_type": "stream",
     "text": [
      "heat_jul 0.0\n",
      "heat_aug 0.0\n",
      "heat_sep 0.0\n",
      "heat_oct 0.765625\n",
      "unemployment 0.0\n",
      "inflation 0.234375\n"
     ]
    }
   ],
   "source": [
    "for name, importance in zip(X_train.columns, clf.feature_importances_):\n",
    "    print(name, importance)"
   ]
  }
 ],
 "metadata": {
  "kernelspec": {
   "display_name": "Python 3 (ipykernel)",
   "language": "python",
   "name": "python3"
  },
  "language_info": {
   "codemirror_mode": {
    "name": "ipython",
    "version": 3
   },
   "file_extension": ".py",
   "mimetype": "text/x-python",
   "name": "python",
   "nbconvert_exporter": "python",
   "pygments_lexer": "ipython3",
   "version": "3.9.13"
  }
 },
 "nbformat": 4,
 "nbformat_minor": 5
}
