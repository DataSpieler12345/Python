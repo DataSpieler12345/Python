{
 "cells": [
  {
   "cell_type": "markdown",
   "id": "cb0b678c",
   "metadata": {},
   "source": [
    "### Seaborn Sample Data & Fitting"
   ]
  },
  {
   "cell_type": "code",
   "execution_count": 1,
   "id": "3b636854",
   "metadata": {},
   "outputs": [],
   "source": [
    "#common imports to bring into your notebook\n",
    "import pandas as pd\n",
    "import numpy as np \n",
    "import seaborn as sns\n",
    "import matplotlib \n",
    "import matplotlib.pyplot as plt \n",
    "import scipy.stats as st \n",
    "from fitter import Fitter\n",
    "%matplotlib inline \n",
    "\n",
    "import warnings\n",
    "warnings.filterwarnings(\"ignore\")\n",
    "\n",
    "#set color style\n",
    "sns.set(color_codes=True)"
   ]
  },
  {
   "cell_type": "markdown",
   "id": "5f27210e",
   "metadata": {},
   "source": [
    "#### Link datasets: https://github.com/mwaskom/seaborn-data"
   ]
  },
  {
   "cell_type": "code",
   "execution_count": 2,
   "id": "4f5c3b17",
   "metadata": {},
   "outputs": [],
   "source": [
    "#list of all read ins for sns datasets\n",
    "\n",
    "# anscombe\n",
    "anscombe_df = sns.load_dataset(\"anscombe\")\n",
    "\n",
    "# attention\n",
    "attention_df = sns.load_dataset(\"attention\")\n",
    "\n",
    "# brain_networks\n",
    "brain_networks_df = sns.load_dataset(\"brain_networks\")\n",
    "\n",
    "# car_crashes\n",
    "car_crashes_df = sns.load_dataset(\"car_crashes\")\n",
    "\n",
    "# diamonds\n",
    "diamonds_df = sns.load_dataset(\"diamonds\")\n",
    "\n",
    "# dots\n",
    "dots_df = sns.load_dataset(\"dots\")\n",
    "\n",
    "# exercise\n",
    "exercise_df = sns.load_dataset(\"exercise\")\n",
    "\n",
    "# flights\n",
    "flights_df = sns.load_dataset(\"flights\")\n",
    "\n",
    "# fmri\n",
    "fmri_df = sns.load_dataset(\"fmri\")\n",
    "\n",
    "# geyser\n",
    "geyser_df = sns.load_dataset(\"geyser\")\n",
    "\n",
    "# iris\n",
    "iris_df = sns.load_dataset(\"iris\")\n",
    "\n",
    "# planets\n",
    "planets_df = sns.load_dataset(\"planets\")\n",
    "\n",
    "# tips\n",
    "tips_df = sns.load_dataset(\"tips\")\n",
    "\n",
    "# titanic\n",
    "titanic_df = sns.load_dataset(\"titanic\")"
   ]
  },
  {
   "cell_type": "markdown",
   "id": "22222677",
   "metadata": {},
   "source": [
    "### tips dataset"
   ]
  },
  {
   "cell_type": "code",
   "execution_count": 10,
   "id": "3641e7e2",
   "metadata": {},
   "outputs": [
    {
     "data": {
      "text/html": [
       "<div>\n",
       "<style scoped>\n",
       "    .dataframe tbody tr th:only-of-type {\n",
       "        vertical-align: middle;\n",
       "    }\n",
       "\n",
       "    .dataframe tbody tr th {\n",
       "        vertical-align: top;\n",
       "    }\n",
       "\n",
       "    .dataframe thead th {\n",
       "        text-align: right;\n",
       "    }\n",
       "</style>\n",
       "<table border=\"1\" class=\"dataframe\">\n",
       "  <thead>\n",
       "    <tr style=\"text-align: right;\">\n",
       "      <th></th>\n",
       "      <th>total_bill</th>\n",
       "      <th>tip</th>\n",
       "      <th>sex</th>\n",
       "      <th>smoker</th>\n",
       "      <th>day</th>\n",
       "      <th>time</th>\n",
       "      <th>size</th>\n",
       "    </tr>\n",
       "  </thead>\n",
       "  <tbody>\n",
       "    <tr>\n",
       "      <th>0</th>\n",
       "      <td>16.99</td>\n",
       "      <td>1.01</td>\n",
       "      <td>Female</td>\n",
       "      <td>No</td>\n",
       "      <td>Sun</td>\n",
       "      <td>Dinner</td>\n",
       "      <td>2</td>\n",
       "    </tr>\n",
       "    <tr>\n",
       "      <th>1</th>\n",
       "      <td>10.34</td>\n",
       "      <td>1.66</td>\n",
       "      <td>Male</td>\n",
       "      <td>No</td>\n",
       "      <td>Sun</td>\n",
       "      <td>Dinner</td>\n",
       "      <td>3</td>\n",
       "    </tr>\n",
       "    <tr>\n",
       "      <th>2</th>\n",
       "      <td>21.01</td>\n",
       "      <td>3.50</td>\n",
       "      <td>Male</td>\n",
       "      <td>No</td>\n",
       "      <td>Sun</td>\n",
       "      <td>Dinner</td>\n",
       "      <td>3</td>\n",
       "    </tr>\n",
       "    <tr>\n",
       "      <th>3</th>\n",
       "      <td>23.68</td>\n",
       "      <td>3.31</td>\n",
       "      <td>Male</td>\n",
       "      <td>No</td>\n",
       "      <td>Sun</td>\n",
       "      <td>Dinner</td>\n",
       "      <td>2</td>\n",
       "    </tr>\n",
       "    <tr>\n",
       "      <th>4</th>\n",
       "      <td>24.59</td>\n",
       "      <td>3.61</td>\n",
       "      <td>Female</td>\n",
       "      <td>No</td>\n",
       "      <td>Sun</td>\n",
       "      <td>Dinner</td>\n",
       "      <td>4</td>\n",
       "    </tr>\n",
       "  </tbody>\n",
       "</table>\n",
       "</div>"
      ],
      "text/plain": [
       "   total_bill   tip     sex smoker  day    time  size\n",
       "0       16.99  1.01  Female     No  Sun  Dinner     2\n",
       "1       10.34  1.66    Male     No  Sun  Dinner     3\n",
       "2       21.01  3.50    Male     No  Sun  Dinner     3\n",
       "3       23.68  3.31    Male     No  Sun  Dinner     2\n",
       "4       24.59  3.61  Female     No  Sun  Dinner     4"
      ]
     },
     "execution_count": 10,
     "metadata": {},
     "output_type": "execute_result"
    }
   ],
   "source": [
    "tips_df.head()"
   ]
  },
  {
   "cell_type": "code",
   "execution_count": 14,
   "id": "345de12e",
   "metadata": {},
   "outputs": [
    {
     "data": {
      "image/png": "[encoded data removed]",
      "text/plain": [
       "<Figure size 432x432 with 3 Axes>"
      ]
     },
     "metadata": {},
     "output_type": "display_data"
    }
   ],
   "source": [
    "#jointplot\n",
    "sns.jointplot(x = \"total_bill\", y = \"tip\", data = tips_df, kind = \"reg\")\n",
    "plt.show()"
   ]
  },
  {
   "cell_type": "code",
   "execution_count": 13,
   "id": "27202a2e",
   "metadata": {},
   "outputs": [
    {
     "data": {
      "image/png": "[encoded data removed]",
      "text/plain": [
       "<Figure size 432x432 with 3 Axes>"
      ]
     },
     "metadata": {},
     "output_type": "display_data"
    }
   ],
   "source": [
    "jp = sns.jointplot(x=\"total_bill\", y=\"tip\", data=tips_df, kind=\"reg\")\n",
    "jp.ax_joint.annotate(\"Pearsonr = {:.2f}\".format(st.pearsonr(tips_df[\"total_bill\"], tips_df[\"tip\"])[0]),\n",
    "                     xy=(0.5, 0.9), xycoords='axes fraction', fontsize=12)\n",
    "plt.show()"
   ]
  },
  {
   "cell_type": "code",
   "execution_count": 15,
   "id": "f7050825",
   "metadata": {},
   "outputs": [],
   "source": [
    "data1 = tips_df[\"total_bill\"]\n",
    "data2 = tips_df[\"tip\"]"
   ]
  },
  {
   "cell_type": "code",
   "execution_count": 16,
   "id": "7795f37e",
   "metadata": {},
   "outputs": [],
   "source": [
    "f1 = Fitter(data1)\n",
    "f2= Fitter(data2)"
   ]
  },
  {
   "cell_type": "code",
   "execution_count": 17,
   "id": "799ef863",
   "metadata": {},
   "outputs": [
    {
     "name": "stderr",
     "output_type": "stream",
     "text": [
      "SKIPPED _fit distribution (taking more than 30 seconds)\n",
      "SKIPPED kstwo distribution (taking more than 30 seconds)\n",
      "SKIPPED rv_continuous distribution (taking more than 30 seconds)\n",
      "SKIPPED rv_histogram distribution (taking more than 30 seconds)\n",
      "SKIPPED levy_stable distribution (taking more than 30 seconds)\n",
      "SKIPPED recipinvgauss distribution (taking more than 30 seconds)\n",
      "SKIPPED studentized_range distribution (taking more than 30 seconds)\n",
      "SKIPPED vonmises_fisher distribution (taking more than 30 seconds)\n",
      "SKIPPED vonmises_line distribution (taking more than 30 seconds)\n"
     ]
    }
   ],
   "source": [
    "f1.fit()"
   ]
  },
  {
   "cell_type": "code",
   "execution_count": 18,
   "id": "5840e51e",
   "metadata": {},
   "outputs": [
    {
     "name": "stderr",
     "output_type": "stream",
     "text": [
      "SKIPPED _fit distribution (taking more than 30 seconds)\n",
      "SKIPPED kstwo distribution (taking more than 30 seconds)\n",
      "SKIPPED kappa4 distribution (taking more than 30 seconds)\n",
      "SKIPPED rv_continuous distribution (taking more than 30 seconds)\n",
      "SKIPPED rv_histogram distribution (taking more than 30 seconds)\n",
      "SKIPPED recipinvgauss distribution (taking more than 30 seconds)\n",
      "SKIPPED studentized_range distribution (taking more than 30 seconds)\n",
      "SKIPPED t distribution (taking more than 30 seconds)\n",
      "SKIPPED vonmises_fisher distribution (taking more than 30 seconds)\n",
      "SKIPPED triang distribution (taking more than 30 seconds)\n",
      "SKIPPED vonmises_line distribution (taking more than 30 seconds)\n"
     ]
    }
   ],
   "source": [
    "f2.fit()"
   ]
  },
  {
   "cell_type": "code",
   "execution_count": 19,
   "id": "b468d805",
   "metadata": {},
   "outputs": [
    {
     "data": {
      "text/html": [
       "<div>\n",
       "<style scoped>\n",
       "    .dataframe tbody tr th:only-of-type {\n",
       "        vertical-align: middle;\n",
       "    }\n",
       "\n",
       "    .dataframe tbody tr th {\n",
       "        vertical-align: top;\n",
       "    }\n",
       "\n",
       "    .dataframe thead th {\n",
       "        text-align: right;\n",
       "    }\n",
       "</style>\n",
       "<table border=\"1\" class=\"dataframe\">\n",
       "  <thead>\n",
       "    <tr style=\"text-align: right;\">\n",
       "      <th></th>\n",
       "      <th>sumsquare_error</th>\n",
       "      <th>aic</th>\n",
       "      <th>bic</th>\n",
       "      <th>kl_div</th>\n",
       "      <th>ks_statistic</th>\n",
       "      <th>ks_pvalue</th>\n",
       "    </tr>\n",
       "  </thead>\n",
       "  <tbody>\n",
       "    <tr>\n",
       "      <th>norminvgauss</th>\n",
       "      <td>0.018355</td>\n",
       "      <td>910.114061</td>\n",
       "      <td>924.102734</td>\n",
       "      <td>inf</td>\n",
       "      <td>0.027330</td>\n",
       "      <td>0.991037</td>\n",
       "    </tr>\n",
       "    <tr>\n",
       "      <th>genhyperbolic</th>\n",
       "      <td>0.018356</td>\n",
       "      <td>910.220751</td>\n",
       "      <td>927.706592</td>\n",
       "      <td>inf</td>\n",
       "      <td>0.028761</td>\n",
       "      <td>0.984240</td>\n",
       "    </tr>\n",
       "    <tr>\n",
       "      <th>moyal</th>\n",
       "      <td>0.018363</td>\n",
       "      <td>904.458601</td>\n",
       "      <td>911.452938</td>\n",
       "      <td>inf</td>\n",
       "      <td>0.028700</td>\n",
       "      <td>0.984584</td>\n",
       "    </tr>\n",
       "    <tr>\n",
       "      <th>johnsonsu</th>\n",
       "      <td>0.018386</td>\n",
       "      <td>911.803349</td>\n",
       "      <td>925.792022</td>\n",
       "      <td>inf</td>\n",
       "      <td>0.028888</td>\n",
       "      <td>0.983498</td>\n",
       "    </tr>\n",
       "    <tr>\n",
       "      <th>exponnorm</th>\n",
       "      <td>0.018407</td>\n",
       "      <td>904.665791</td>\n",
       "      <td>915.157296</td>\n",
       "      <td>inf</td>\n",
       "      <td>0.026173</td>\n",
       "      <td>0.994715</td>\n",
       "    </tr>\n",
       "  </tbody>\n",
       "</table>\n",
       "</div>"
      ],
      "text/plain": [
       "               sumsquare_error         aic         bic  kl_div  ks_statistic  \\\n",
       "norminvgauss          0.018355  910.114061  924.102734     inf      0.027330   \n",
       "genhyperbolic         0.018356  910.220751  927.706592     inf      0.028761   \n",
       "moyal                 0.018363  904.458601  911.452938     inf      0.028700   \n",
       "johnsonsu             0.018386  911.803349  925.792022     inf      0.028888   \n",
       "exponnorm             0.018407  904.665791  915.157296     inf      0.026173   \n",
       "\n",
       "               ks_pvalue  \n",
       "norminvgauss    0.991037  \n",
       "genhyperbolic   0.984240  \n",
       "moyal           0.984584  \n",
       "johnsonsu       0.983498  \n",
       "exponnorm       0.994715  "
      ]
     },
     "execution_count": 19,
     "metadata": {},
     "output_type": "execute_result"
    },
    {
     "data": {
      "image/png": "[encoded data removed]",
      "text/plain": [
       "<Figure size 432x288 with 1 Axes>"
      ]
     },
     "metadata": {},
     "output_type": "display_data"
    }
   ],
   "source": [
    "f1.summary()"
   ]
  },
  {
   "cell_type": "code",
   "execution_count": 20,
   "id": "74b1cc21",
   "metadata": {},
   "outputs": [
    {
     "data": {
      "text/html": [
       "<div>\n",
       "<style scoped>\n",
       "    .dataframe tbody tr th:only-of-type {\n",
       "        vertical-align: middle;\n",
       "    }\n",
       "\n",
       "    .dataframe tbody tr th {\n",
       "        vertical-align: top;\n",
       "    }\n",
       "\n",
       "    .dataframe thead th {\n",
       "        text-align: right;\n",
       "    }\n",
       "</style>\n",
       "<table border=\"1\" class=\"dataframe\">\n",
       "  <thead>\n",
       "    <tr style=\"text-align: right;\">\n",
       "      <th></th>\n",
       "      <th>sumsquare_error</th>\n",
       "      <th>aic</th>\n",
       "      <th>bic</th>\n",
       "      <th>kl_div</th>\n",
       "      <th>ks_statistic</th>\n",
       "      <th>ks_pvalue</th>\n",
       "    </tr>\n",
       "  </thead>\n",
       "  <tbody>\n",
       "    <tr>\n",
       "      <th>laplace_asymmetric</th>\n",
       "      <td>4.109101</td>\n",
       "      <td>657.191641</td>\n",
       "      <td>667.683146</td>\n",
       "      <td>inf</td>\n",
       "      <td>0.114706</td>\n",
       "      <td>0.002975</td>\n",
       "    </tr>\n",
       "    <tr>\n",
       "      <th>dgamma</th>\n",
       "      <td>4.118580</td>\n",
       "      <td>849.131755</td>\n",
       "      <td>859.623260</td>\n",
       "      <td>inf</td>\n",
       "      <td>0.105588</td>\n",
       "      <td>0.008013</td>\n",
       "    </tr>\n",
       "    <tr>\n",
       "      <th>fatiguelife</th>\n",
       "      <td>4.215499</td>\n",
       "      <td>674.345158</td>\n",
       "      <td>684.836663</td>\n",
       "      <td>inf</td>\n",
       "      <td>0.086866</td>\n",
       "      <td>0.047358</td>\n",
       "    </tr>\n",
       "    <tr>\n",
       "      <th>johnsonsb</th>\n",
       "      <td>4.215756</td>\n",
       "      <td>675.528355</td>\n",
       "      <td>689.517028</td>\n",
       "      <td>inf</td>\n",
       "      <td>0.086806</td>\n",
       "      <td>0.047601</td>\n",
       "    </tr>\n",
       "    <tr>\n",
       "      <th>invgauss</th>\n",
       "      <td>4.215916</td>\n",
       "      <td>673.008819</td>\n",
       "      <td>683.500324</td>\n",
       "      <td>inf</td>\n",
       "      <td>0.087833</td>\n",
       "      <td>0.043575</td>\n",
       "    </tr>\n",
       "  </tbody>\n",
       "</table>\n",
       "</div>"
      ],
      "text/plain": [
       "                    sumsquare_error         aic         bic  kl_div  \\\n",
       "laplace_asymmetric         4.109101  657.191641  667.683146     inf   \n",
       "dgamma                     4.118580  849.131755  859.623260     inf   \n",
       "fatiguelife                4.215499  674.345158  684.836663     inf   \n",
       "johnsonsb                  4.215756  675.528355  689.517028     inf   \n",
       "invgauss                   4.215916  673.008819  683.500324     inf   \n",
       "\n",
       "                    ks_statistic  ks_pvalue  \n",
       "laplace_asymmetric      0.114706   0.002975  \n",
       "dgamma                  0.105588   0.008013  \n",
       "fatiguelife             0.086866   0.047358  \n",
       "johnsonsb               0.086806   0.047601  \n",
       "invgauss                0.087833   0.043575  "
      ]
     },
     "execution_count": 20,
     "metadata": {},
     "output_type": "execute_result"
    },
    {
     "data": {
      "image/png": "[encoded data removed]",
      "text/plain": [
       "<Figure size 432x288 with 1 Axes>"
      ]
     },
     "metadata": {},
     "output_type": "display_data"
    }
   ],
   "source": [
    "f2.summary()"
   ]
  },
  {
   "cell_type": "markdown",
   "id": "bddc4597",
   "metadata": {},
   "source": [
    "### Assuming Normality"
   ]
  },
  {
   "cell_type": "code",
   "execution_count": 22,
   "id": "560ccab0",
   "metadata": {},
   "outputs": [],
   "source": [
    "#begin to standardize bill and tip data, to compare them on a singular, standard, scale\n",
    "mean_bill = tips_df[\"total_bill\"].mean()\n",
    "stdev_bill = tips_df[\"total_bill\"].std(ddof = 1)\n",
    "\n",
    "mean_tip = tips_df[\"tip\"].mean()\n",
    "stdev_tip = tips_df[\"tip\"].std(ddof = 1)"
   ]
  },
  {
   "cell_type": "code",
   "execution_count": 23,
   "id": "9f9a0102",
   "metadata": {},
   "outputs": [
    {
     "data": {
      "text/html": [
       "<div>\n",
       "<style scoped>\n",
       "    .dataframe tbody tr th:only-of-type {\n",
       "        vertical-align: middle;\n",
       "    }\n",
       "\n",
       "    .dataframe tbody tr th {\n",
       "        vertical-align: top;\n",
       "    }\n",
       "\n",
       "    .dataframe thead th {\n",
       "        text-align: right;\n",
       "    }\n",
       "</style>\n",
       "<table border=\"1\" class=\"dataframe\">\n",
       "  <thead>\n",
       "    <tr style=\"text-align: right;\">\n",
       "      <th></th>\n",
       "      <th>total_bill</th>\n",
       "      <th>tip</th>\n",
       "      <th>sex</th>\n",
       "      <th>smoker</th>\n",
       "      <th>day</th>\n",
       "      <th>time</th>\n",
       "      <th>size</th>\n",
       "    </tr>\n",
       "  </thead>\n",
       "  <tbody>\n",
       "    <tr>\n",
       "      <th>0</th>\n",
       "      <td>16.99</td>\n",
       "      <td>1.01</td>\n",
       "      <td>Female</td>\n",
       "      <td>No</td>\n",
       "      <td>Sun</td>\n",
       "      <td>Dinner</td>\n",
       "      <td>2</td>\n",
       "    </tr>\n",
       "    <tr>\n",
       "      <th>1</th>\n",
       "      <td>10.34</td>\n",
       "      <td>1.66</td>\n",
       "      <td>Male</td>\n",
       "      <td>No</td>\n",
       "      <td>Sun</td>\n",
       "      <td>Dinner</td>\n",
       "      <td>3</td>\n",
       "    </tr>\n",
       "    <tr>\n",
       "      <th>2</th>\n",
       "      <td>21.01</td>\n",
       "      <td>3.50</td>\n",
       "      <td>Male</td>\n",
       "      <td>No</td>\n",
       "      <td>Sun</td>\n",
       "      <td>Dinner</td>\n",
       "      <td>3</td>\n",
       "    </tr>\n",
       "    <tr>\n",
       "      <th>3</th>\n",
       "      <td>23.68</td>\n",
       "      <td>3.31</td>\n",
       "      <td>Male</td>\n",
       "      <td>No</td>\n",
       "      <td>Sun</td>\n",
       "      <td>Dinner</td>\n",
       "      <td>2</td>\n",
       "    </tr>\n",
       "    <tr>\n",
       "      <th>4</th>\n",
       "      <td>24.59</td>\n",
       "      <td>3.61</td>\n",
       "      <td>Female</td>\n",
       "      <td>No</td>\n",
       "      <td>Sun</td>\n",
       "      <td>Dinner</td>\n",
       "      <td>4</td>\n",
       "    </tr>\n",
       "  </tbody>\n",
       "</table>\n",
       "</div>"
      ],
      "text/plain": [
       "   total_bill   tip     sex smoker  day    time  size\n",
       "0       16.99  1.01  Female     No  Sun  Dinner     2\n",
       "1       10.34  1.66    Male     No  Sun  Dinner     3\n",
       "2       21.01  3.50    Male     No  Sun  Dinner     3\n",
       "3       23.68  3.31    Male     No  Sun  Dinner     2\n",
       "4       24.59  3.61  Female     No  Sun  Dinner     4"
      ]
     },
     "execution_count": 23,
     "metadata": {},
     "output_type": "execute_result"
    }
   ],
   "source": [
    "tips_df.head()"
   ]
  },
  {
   "cell_type": "code",
   "execution_count": 24,
   "id": "e2d3e5c1",
   "metadata": {},
   "outputs": [],
   "source": [
    "tips_df[\"Stand_bill\"] = (tips_df[\"total_bill\"] - mean_bill / stdev_bill)"
   ]
  },
  {
   "cell_type": "code",
   "execution_count": 25,
   "id": "9a509caa",
   "metadata": {},
   "outputs": [],
   "source": [
    "tips_df[\"Stand_tip\"] = (tips_df[\"tip\"] - mean_tip / stdev_tip)"
   ]
  },
  {
   "cell_type": "code",
   "execution_count": 26,
   "id": "e4bf63b1",
   "metadata": {},
   "outputs": [
    {
     "data": {
      "text/html": [
       "<div>\n",
       "<style scoped>\n",
       "    .dataframe tbody tr th:only-of-type {\n",
       "        vertical-align: middle;\n",
       "    }\n",
       "\n",
       "    .dataframe tbody tr th {\n",
       "        vertical-align: top;\n",
       "    }\n",
       "\n",
       "    .dataframe thead th {\n",
       "        text-align: right;\n",
       "    }\n",
       "</style>\n",
       "<table border=\"1\" class=\"dataframe\">\n",
       "  <thead>\n",
       "    <tr style=\"text-align: right;\">\n",
       "      <th></th>\n",
       "      <th>total_bill</th>\n",
       "      <th>tip</th>\n",
       "      <th>sex</th>\n",
       "      <th>smoker</th>\n",
       "      <th>day</th>\n",
       "      <th>time</th>\n",
       "      <th>size</th>\n",
       "      <th>Stand_bill</th>\n",
       "      <th>Stand_tip</th>\n",
       "    </tr>\n",
       "  </thead>\n",
       "  <tbody>\n",
       "    <tr>\n",
       "      <th>0</th>\n",
       "      <td>16.99</td>\n",
       "      <td>1.01</td>\n",
       "      <td>Female</td>\n",
       "      <td>No</td>\n",
       "      <td>Sun</td>\n",
       "      <td>Dinner</td>\n",
       "      <td>2</td>\n",
       "      <td>14.767463</td>\n",
       "      <td>-1.156953</td>\n",
       "    </tr>\n",
       "    <tr>\n",
       "      <th>1</th>\n",
       "      <td>10.34</td>\n",
       "      <td>1.66</td>\n",
       "      <td>Male</td>\n",
       "      <td>No</td>\n",
       "      <td>Sun</td>\n",
       "      <td>Dinner</td>\n",
       "      <td>3</td>\n",
       "      <td>8.117463</td>\n",
       "      <td>-0.506953</td>\n",
       "    </tr>\n",
       "    <tr>\n",
       "      <th>2</th>\n",
       "      <td>21.01</td>\n",
       "      <td>3.50</td>\n",
       "      <td>Male</td>\n",
       "      <td>No</td>\n",
       "      <td>Sun</td>\n",
       "      <td>Dinner</td>\n",
       "      <td>3</td>\n",
       "      <td>18.787463</td>\n",
       "      <td>1.333047</td>\n",
       "    </tr>\n",
       "    <tr>\n",
       "      <th>3</th>\n",
       "      <td>23.68</td>\n",
       "      <td>3.31</td>\n",
       "      <td>Male</td>\n",
       "      <td>No</td>\n",
       "      <td>Sun</td>\n",
       "      <td>Dinner</td>\n",
       "      <td>2</td>\n",
       "      <td>21.457463</td>\n",
       "      <td>1.143047</td>\n",
       "    </tr>\n",
       "    <tr>\n",
       "      <th>4</th>\n",
       "      <td>24.59</td>\n",
       "      <td>3.61</td>\n",
       "      <td>Female</td>\n",
       "      <td>No</td>\n",
       "      <td>Sun</td>\n",
       "      <td>Dinner</td>\n",
       "      <td>4</td>\n",
       "      <td>22.367463</td>\n",
       "      <td>1.443047</td>\n",
       "    </tr>\n",
       "    <tr>\n",
       "      <th>...</th>\n",
       "      <td>...</td>\n",
       "      <td>...</td>\n",
       "      <td>...</td>\n",
       "      <td>...</td>\n",
       "      <td>...</td>\n",
       "      <td>...</td>\n",
       "      <td>...</td>\n",
       "      <td>...</td>\n",
       "      <td>...</td>\n",
       "    </tr>\n",
       "    <tr>\n",
       "      <th>239</th>\n",
       "      <td>29.03</td>\n",
       "      <td>5.92</td>\n",
       "      <td>Male</td>\n",
       "      <td>No</td>\n",
       "      <td>Sat</td>\n",
       "      <td>Dinner</td>\n",
       "      <td>3</td>\n",
       "      <td>26.807463</td>\n",
       "      <td>3.753047</td>\n",
       "    </tr>\n",
       "    <tr>\n",
       "      <th>240</th>\n",
       "      <td>27.18</td>\n",
       "      <td>2.00</td>\n",
       "      <td>Female</td>\n",
       "      <td>Yes</td>\n",
       "      <td>Sat</td>\n",
       "      <td>Dinner</td>\n",
       "      <td>2</td>\n",
       "      <td>24.957463</td>\n",
       "      <td>-0.166953</td>\n",
       "    </tr>\n",
       "    <tr>\n",
       "      <th>241</th>\n",
       "      <td>22.67</td>\n",
       "      <td>2.00</td>\n",
       "      <td>Male</td>\n",
       "      <td>Yes</td>\n",
       "      <td>Sat</td>\n",
       "      <td>Dinner</td>\n",
       "      <td>2</td>\n",
       "      <td>20.447463</td>\n",
       "      <td>-0.166953</td>\n",
       "    </tr>\n",
       "    <tr>\n",
       "      <th>242</th>\n",
       "      <td>17.82</td>\n",
       "      <td>1.75</td>\n",
       "      <td>Male</td>\n",
       "      <td>No</td>\n",
       "      <td>Sat</td>\n",
       "      <td>Dinner</td>\n",
       "      <td>2</td>\n",
       "      <td>15.597463</td>\n",
       "      <td>-0.416953</td>\n",
       "    </tr>\n",
       "    <tr>\n",
       "      <th>243</th>\n",
       "      <td>18.78</td>\n",
       "      <td>3.00</td>\n",
       "      <td>Female</td>\n",
       "      <td>No</td>\n",
       "      <td>Thur</td>\n",
       "      <td>Dinner</td>\n",
       "      <td>2</td>\n",
       "      <td>16.557463</td>\n",
       "      <td>0.833047</td>\n",
       "    </tr>\n",
       "  </tbody>\n",
       "</table>\n",
       "<p>244 rows × 9 columns</p>\n",
       "</div>"
      ],
      "text/plain": [
       "     total_bill   tip     sex smoker   day    time  size  Stand_bill  \\\n",
       "0         16.99  1.01  Female     No   Sun  Dinner     2   14.767463   \n",
       "1         10.34  1.66    Male     No   Sun  Dinner     3    8.117463   \n",
       "2         21.01  3.50    Male     No   Sun  Dinner     3   18.787463   \n",
       "3         23.68  3.31    Male     No   Sun  Dinner     2   21.457463   \n",
       "4         24.59  3.61  Female     No   Sun  Dinner     4   22.367463   \n",
       "..          ...   ...     ...    ...   ...     ...   ...         ...   \n",
       "239       29.03  5.92    Male     No   Sat  Dinner     3   26.807463   \n",
       "240       27.18  2.00  Female    Yes   Sat  Dinner     2   24.957463   \n",
       "241       22.67  2.00    Male    Yes   Sat  Dinner     2   20.447463   \n",
       "242       17.82  1.75    Male     No   Sat  Dinner     2   15.597463   \n",
       "243       18.78  3.00  Female     No  Thur  Dinner     2   16.557463   \n",
       "\n",
       "     Stand_tip  \n",
       "0    -1.156953  \n",
       "1    -0.506953  \n",
       "2     1.333047  \n",
       "3     1.143047  \n",
       "4     1.443047  \n",
       "..         ...  \n",
       "239   3.753047  \n",
       "240  -0.166953  \n",
       "241  -0.166953  \n",
       "242  -0.416953  \n",
       "243   0.833047  \n",
       "\n",
       "[244 rows x 9 columns]"
      ]
     },
     "execution_count": 26,
     "metadata": {},
     "output_type": "execute_result"
    }
   ],
   "source": [
    "tips_df"
   ]
  },
  {
   "cell_type": "markdown",
   "id": "9c9d12ed",
   "metadata": {},
   "source": [
    "### Normal Data: Probability Plots with Means"
   ]
  },
  {
   "cell_type": "code",
   "execution_count": 27,
   "id": "1726b67f",
   "metadata": {},
   "outputs": [
    {
     "data": {
      "image/png": "[encoded data removed]",
      "text/plain": [
       "<Figure size 432x288 with 1 Axes>"
      ]
     },
     "metadata": {},
     "output_type": "display_data"
    }
   ],
   "source": [
    "st.probplot(tips_df[\"total_bill\"], dist = \"norm\", fit = True, rvalue = True, plot = plt)\n",
    "plt.show()"
   ]
  },
  {
   "cell_type": "code",
   "execution_count": 28,
   "id": "f11cd981",
   "metadata": {},
   "outputs": [
    {
     "data": {
      "image/png": "[encoded data removed]",
      "text/plain": [
       "<Figure size 432x288 with 1 Axes>"
      ]
     },
     "metadata": {},
     "output_type": "display_data"
    }
   ],
   "source": [
    "st.probplot(tips_df[\"Stand_bill\"], dist = \"norm\", fit = True, rvalue = True, plot = plt)\n",
    "plt.show()"
   ]
  },
  {
   "cell_type": "code",
   "execution_count": 29,
   "id": "4a4fc240",
   "metadata": {},
   "outputs": [
    {
     "data": {
      "image/png": "[encoded data removed]",
      "text/plain": [
       "<Figure size 432x288 with 1 Axes>"
      ]
     },
     "metadata": {},
     "output_type": "display_data"
    }
   ],
   "source": [
    "st.probplot(tips_df[\"Stand_tip\"], dist = \"norm\", fit = True, rvalue = True, plot = plt)\n",
    "plt.show()"
   ]
  },
  {
   "cell_type": "code",
   "execution_count": 30,
   "id": "2ab67dad",
   "metadata": {},
   "outputs": [
    {
     "data": {
      "text/html": [
       "<div>\n",
       "<style scoped>\n",
       "    .dataframe tbody tr th:only-of-type {\n",
       "        vertical-align: middle;\n",
       "    }\n",
       "\n",
       "    .dataframe tbody tr th {\n",
       "        vertical-align: top;\n",
       "    }\n",
       "\n",
       "    .dataframe thead th {\n",
       "        text-align: right;\n",
       "    }\n",
       "</style>\n",
       "<table border=\"1\" class=\"dataframe\">\n",
       "  <thead>\n",
       "    <tr style=\"text-align: right;\">\n",
       "      <th></th>\n",
       "      <th>total_bill</th>\n",
       "      <th>tip</th>\n",
       "      <th>size</th>\n",
       "      <th>Stand_bill</th>\n",
       "      <th>Stand_tip</th>\n",
       "    </tr>\n",
       "  </thead>\n",
       "  <tbody>\n",
       "    <tr>\n",
       "      <th>count</th>\n",
       "      <td>244.000000</td>\n",
       "      <td>244.000000</td>\n",
       "      <td>244.000000</td>\n",
       "      <td>244.000000</td>\n",
       "      <td>244.000000</td>\n",
       "    </tr>\n",
       "    <tr>\n",
       "      <th>mean</th>\n",
       "      <td>19.785943</td>\n",
       "      <td>2.998279</td>\n",
       "      <td>2.569672</td>\n",
       "      <td>17.563405</td>\n",
       "      <td>0.831326</td>\n",
       "    </tr>\n",
       "    <tr>\n",
       "      <th>std</th>\n",
       "      <td>8.902412</td>\n",
       "      <td>1.383638</td>\n",
       "      <td>0.951100</td>\n",
       "      <td>8.902412</td>\n",
       "      <td>1.383638</td>\n",
       "    </tr>\n",
       "    <tr>\n",
       "      <th>min</th>\n",
       "      <td>3.070000</td>\n",
       "      <td>1.000000</td>\n",
       "      <td>1.000000</td>\n",
       "      <td>0.847463</td>\n",
       "      <td>-1.166953</td>\n",
       "    </tr>\n",
       "    <tr>\n",
       "      <th>25%</th>\n",
       "      <td>13.347500</td>\n",
       "      <td>2.000000</td>\n",
       "      <td>2.000000</td>\n",
       "      <td>11.124963</td>\n",
       "      <td>-0.166953</td>\n",
       "    </tr>\n",
       "    <tr>\n",
       "      <th>50%</th>\n",
       "      <td>17.795000</td>\n",
       "      <td>2.900000</td>\n",
       "      <td>2.000000</td>\n",
       "      <td>15.572463</td>\n",
       "      <td>0.733047</td>\n",
       "    </tr>\n",
       "    <tr>\n",
       "      <th>75%</th>\n",
       "      <td>24.127500</td>\n",
       "      <td>3.562500</td>\n",
       "      <td>3.000000</td>\n",
       "      <td>21.904963</td>\n",
       "      <td>1.395547</td>\n",
       "    </tr>\n",
       "    <tr>\n",
       "      <th>max</th>\n",
       "      <td>50.810000</td>\n",
       "      <td>10.000000</td>\n",
       "      <td>6.000000</td>\n",
       "      <td>48.587463</td>\n",
       "      <td>7.833047</td>\n",
       "    </tr>\n",
       "  </tbody>\n",
       "</table>\n",
       "</div>"
      ],
      "text/plain": [
       "       total_bill         tip        size  Stand_bill   Stand_tip\n",
       "count  244.000000  244.000000  244.000000  244.000000  244.000000\n",
       "mean    19.785943    2.998279    2.569672   17.563405    0.831326\n",
       "std      8.902412    1.383638    0.951100    8.902412    1.383638\n",
       "min      3.070000    1.000000    1.000000    0.847463   -1.166953\n",
       "25%     13.347500    2.000000    2.000000   11.124963   -0.166953\n",
       "50%     17.795000    2.900000    2.000000   15.572463    0.733047\n",
       "75%     24.127500    3.562500    3.000000   21.904963    1.395547\n",
       "max     50.810000   10.000000    6.000000   48.587463    7.833047"
      ]
     },
     "execution_count": 30,
     "metadata": {},
     "output_type": "execute_result"
    }
   ],
   "source": [
    "tips_df.describe()"
   ]
  },
  {
   "cell_type": "code",
   "execution_count": 36,
   "id": "502bda3a",
   "metadata": {},
   "outputs": [
    {
     "data": {
      "image/png": "[encoded data removed]",
      "text/plain": [
       "<Figure size 720x720 with 2 Axes>"
      ]
     },
     "metadata": {},
     "output_type": "display_data"
    }
   ],
   "source": [
    "fig = plt.figure(figsize=(10,10))\n",
    "\n",
    "ax1 = plt.subplot(221)\n",
    "res = st.probplot(tips_df[\"Stand_bill\"], dist = \"norm\", fit = True, rvalue = True, plot = plt)\n",
    "ax1.set_title(\"Bill\")\n",
    "\n",
    "ax2 = plt.subplot(222)\n",
    "res = st.probplot(tips_df[\"Stand_tip\"], dist = \"norm\", fit = True, rvalue = True, plot = plt)\n",
    "ax1.set_title(\"Tip\")\n",
    "\n",
    "plt.suptitle(\"Probability Plots\", y=1.01, fontsize = 20)\n",
    "plt.tight_layout()\n",
    "plt.show()"
   ]
  },
  {
   "cell_type": "markdown",
   "id": "78b8fafd",
   "metadata": {},
   "source": [
    "### Normal Data: Categorical Confidence Intervals"
   ]
  },
  {
   "cell_type": "markdown",
   "id": "08e1ee67",
   "metadata": {},
   "source": [
    "#### diamonds data set "
   ]
  },
  {
   "cell_type": "code",
   "execution_count": 37,
   "id": "7875e5c2",
   "metadata": {},
   "outputs": [
    {
     "name": "stdout",
     "output_type": "stream",
     "text": [
      "<class 'pandas.core.frame.DataFrame'>\n",
      "RangeIndex: 53940 entries, 0 to 53939\n",
      "Data columns (total 10 columns):\n",
      " #   Column   Non-Null Count  Dtype   \n",
      "---  ------   --------------  -----   \n",
      " 0   carat    53940 non-null  float64 \n",
      " 1   cut      53940 non-null  category\n",
      " 2   color    53940 non-null  category\n",
      " 3   clarity  53940 non-null  category\n",
      " 4   depth    53940 non-null  float64 \n",
      " 5   table    53940 non-null  float64 \n",
      " 6   price    53940 non-null  int64   \n",
      " 7   x        53940 non-null  float64 \n",
      " 8   y        53940 non-null  float64 \n",
      " 9   z        53940 non-null  float64 \n",
      "dtypes: category(3), float64(6), int64(1)\n",
      "memory usage: 3.0 MB\n"
     ]
    }
   ],
   "source": [
    "diamonds_df.info()"
   ]
  },
  {
   "cell_type": "code",
   "execution_count": null,
   "id": "47274c4b",
   "metadata": {},
   "outputs": [],
   "source": [
    "#!pip install statsmodels"
   ]
  },
  {
   "cell_type": "code",
   "execution_count": 38,
   "id": "69894dcc",
   "metadata": {},
   "outputs": [
    {
     "data": {
      "text/plain": [
       "cut\n",
       "Ideal        21551\n",
       "Premium      13791\n",
       "Very Good    12082\n",
       "Good          4906\n",
       "Fair          1610\n",
       "Name: count, dtype: int64"
      ]
     },
     "execution_count": 38,
     "metadata": {},
     "output_type": "execute_result"
    }
   ],
   "source": [
    "diamonds_df[\"cut\"].value_counts()"
   ]
  },
  {
   "cell_type": "code",
   "execution_count": 45,
   "id": "5385fdc0",
   "metadata": {},
   "outputs": [],
   "source": [
    "import statsmodels.api as sm\n",
    "from statsmodels.stats.proportion import proportion_confint, proportions_ztest"
   ]
  },
  {
   "cell_type": "code",
   "execution_count": 46,
   "id": "94ed05b3",
   "metadata": {},
   "outputs": [
    {
     "data": {
      "text/plain": [
       "0.3995365220615499"
      ]
     },
     "execution_count": 46,
     "metadata": {},
     "output_type": "execute_result"
    }
   ],
   "source": [
    "21551/53940"
   ]
  },
  {
   "cell_type": "code",
   "execution_count": 48,
   "id": "0dffbc3c",
   "metadata": {},
   "outputs": [
    {
     "data": {
      "text/plain": [
       "0.0041334640144630175"
      ]
     },
     "execution_count": 48,
     "metadata": {},
     "output_type": "execute_result"
    }
   ],
   "source": [
    "0.3995365220615499 - 0.39540305804708686"
   ]
  },
  {
   "cell_type": "markdown",
   "id": "2a8cc7a6",
   "metadata": {},
   "source": [
    "##### proportion_confint"
   ]
  },
  {
   "cell_type": "code",
   "execution_count": 47,
   "id": "70cfc734",
   "metadata": {},
   "outputs": [
    {
     "data": {
      "text/plain": [
       "(0.39540305804708686, 0.4036699860760129)"
      ]
     },
     "execution_count": 47,
     "metadata": {},
     "output_type": "execute_result"
    }
   ],
   "source": [
    "proportion_confint(count = 21551, nobs = 53940, alpha = 0.05)"
   ]
  },
  {
   "cell_type": "markdown",
   "id": "a41162dd",
   "metadata": {},
   "source": [
    "#### We are 95% confident that the true value of the population proportion of diamonds that are \"ideal\" in their cut is between 39,54% and 40,37%"
   ]
  },
  {
   "cell_type": "markdown",
   "id": "72e2f2df",
   "metadata": {},
   "source": [
    "##### proportion_ztest"
   ]
  },
  {
   "cell_type": "code",
   "execution_count": 51,
   "id": "7d91dd78",
   "metadata": {},
   "outputs": [
    {
     "data": {
      "text/plain": [
       "(-0.21976726150576256, 0.4130262089157087)"
      ]
     },
     "execution_count": 51,
     "metadata": {},
     "output_type": "execute_result"
    }
   ],
   "source": [
    "#always consider alpha of 0.05\n",
    "#claim from expert is thtat at least 41% of diamonds are ideal cut.\n",
    "#alternative : \"two-sided\", \"smaller\", \"larger\"\n",
    "\n",
    "#H0: = 0.40\n",
    "#Ha: not  , <     ,>\n",
    "proportions_ztest(count = 21551, nobs = 53940, value = 0.40, alternative = \"smaller\")\n",
    "\n",
    "#output is going to be; value of the test statistic...second is the p-value"
   ]
  },
  {
   "cell_type": "code",
   "execution_count": 52,
   "id": "13ac0d73",
   "metadata": {},
   "outputs": [
    {
     "data": {
      "text/plain": [
       "(-9.703164130002184, 1.46145350815804e-22)"
      ]
     },
     "execution_count": 52,
     "metadata": {},
     "output_type": "execute_result"
    }
   ],
   "source": [
    "#always consider alpha of 0.05\n",
    "#claim from expert is thtat at least 41% of diamonds are ideal cut.\n",
    "#alternative : \"two-sided\", \"smaller\", \"larger\"\n",
    "\n",
    "#H0: = 0.40\n",
    "#Ha: not  , <     ,>\n",
    "proportions_ztest(count = 21551, nobs = 53940, value = 0.42, alternative = \"smaller\")\n",
    "\n",
    "#output is going to be; value of the test statistic...second is the p-value"
   ]
  },
  {
   "cell_type": "markdown",
   "id": "8950f2fe",
   "metadata": {},
   "source": [
    "##### Since the Pvalue of 0.00000__146 is less than 0.05, we reject the null hypothesis. Thus, we have sufficient evidence to say that the true proportion of diamonds that are \"ideal\" cut is less than 42% "
   ]
  },
  {
   "cell_type": "code",
   "execution_count": 54,
   "id": "9b660f12",
   "metadata": {},
   "outputs": [
    {
     "data": {
      "text/plain": [
       "cut\n",
       "Ideal        21551\n",
       "Premium      13791\n",
       "Very Good    12082\n",
       "Good          4906\n",
       "Fair          1610\n",
       "Name: count, dtype: int64"
      ]
     },
     "execution_count": 54,
     "metadata": {},
     "output_type": "execute_result"
    }
   ],
   "source": [
    "diamonds_df[\"cut\"].value_counts()"
   ]
  },
  {
   "cell_type": "code",
   "execution_count": 57,
   "id": "cb1447c4",
   "metadata": {},
   "outputs": [],
   "source": [
    "def two_proportions_confint(success_a, size_a, success_b, size_b, significance):\n",
    "    \n",
    "    prop_a = success_a / size_a\n",
    "    prop_b = success_b / size_b\n",
    "    var = prop_a * (1- prop_a) / size_a + prop_b * (1 - prop_b) / size_b\n",
    "    se = np.sqrt(var)\n",
    "    \n",
    "    # z score also called a critical value\n",
    "    confidence = 1 -significance\n",
    "    z = st.norm(loc = 0, scale = 1).ppf(confidence + significance / 2)\n",
    "    \n",
    "    #standard formula for the to calculate a confidence interval\n",
    "    #point-estimate (p hat) + & - z * the standard-error\n",
    "    prop_diff = prop_b - prop_a\n",
    "    confint = prop_diff + np.array([-1, 1]) * z * se\n",
    "    return prop_diff, confint"
   ]
  },
  {
   "cell_type": "code",
   "execution_count": 61,
   "id": "9263fdf5",
   "metadata": {},
   "outputs": [
    {
     "name": "stdout",
     "output_type": "stream",
     "text": [
      "Est.Diff.: -0.03168335187245086\n",
      "Conf. Int.: [-0.03677568 -0.02659102]\n"
     ]
    }
   ],
   "source": [
    "#lets test it with premium\n",
    "prop_diff, confint = two_proportions_confint(13791, 53940, 12082, 53940, 0.05)\n",
    "print(\"Est.Diff.:\", prop_diff)\n",
    "print(\"Conf. Int.:\", confint)"
   ]
  },
  {
   "cell_type": "markdown",
   "id": "9ae692f7",
   "metadata": {},
   "source": [
    "###### Prop A was a Premium, Prop B was Very Good"
   ]
  },
  {
   "cell_type": "markdown",
   "id": "e3236db3",
   "metadata": {},
   "source": [
    "PropB - PropA = 0\n",
    "\n",
    "***We look if 0 is in the interval...if it is... can not say they are different\n",
    "\n",
    "***(- -) that  means PropA is larger\n",
    "\n",
    "***(+ +) that means PropBV is larger"
   ]
  },
  {
   "cell_type": "code",
   "execution_count": 71,
   "id": "ff1ad272",
   "metadata": {},
   "outputs": [],
   "source": [
    "def two_proportions_ztest(success_a, size_a, success_b, size_b):\n",
    "    \n",
    "    prop_a = success_a / size_a\n",
    "    prop_b = success_b / size_b\n",
    "    prop_pooled = (success_a + success_b) / (size_a + size_b)\n",
    "    var = prop_pooled * (1 - prop_pooled) * (1 /size_a + 1/ size_b)\n",
    "    zscore = np.abs(prop_b - prop_a) / np.sqrt(var)\n",
    "    one_side = 1 - st.norm(loc = 0, scale = 1).cdf(zscore)\n",
    "    pvalue = one_side * 2\n",
    "    return zscore, pvalue     "
   ]
  },
  {
   "cell_type": "code",
   "execution_count": 72,
   "id": "ea2dc198",
   "metadata": {},
   "outputs": [
    {
     "name": "stdout",
     "output_type": "stream",
     "text": [
      "Zscore: 12.186070182309017\n",
      "Pvaluie: 0.0\n"
     ]
    }
   ],
   "source": [
    "zscore, pvalue = two_proportions_ztest(13791, 53940, 12082, 53940)\n",
    "print(\"Zscore:\", zscore)\n",
    "print(\"Pvaluie:\", pvalue)"
   ]
  },
  {
   "cell_type": "markdown",
   "id": "1e230333",
   "metadata": {},
   "source": [
    "### ANOVA "
   ]
  },
  {
   "cell_type": "code",
   "execution_count": 6,
   "id": "cf102502",
   "metadata": {},
   "outputs": [],
   "source": [
    "import pingouin as pg"
   ]
  },
  {
   "cell_type": "code",
   "execution_count": 10,
   "id": "d0665134",
   "metadata": {},
   "outputs": [],
   "source": [
    "df = pg.read_dataset(\"anova\")"
   ]
  },
  {
   "cell_type": "code",
   "execution_count": 9,
   "id": "74133afa",
   "metadata": {},
   "outputs": [
    {
     "data": {
      "text/html": [
       "<div>\n",
       "<style scoped>\n",
       "    .dataframe tbody tr th:only-of-type {\n",
       "        vertical-align: middle;\n",
       "    }\n",
       "\n",
       "    .dataframe tbody tr th {\n",
       "        vertical-align: top;\n",
       "    }\n",
       "\n",
       "    .dataframe thead th {\n",
       "        text-align: right;\n",
       "    }\n",
       "</style>\n",
       "<table border=\"1\" class=\"dataframe\">\n",
       "  <thead>\n",
       "    <tr style=\"text-align: right;\">\n",
       "      <th></th>\n",
       "      <th>Subject</th>\n",
       "      <th>Hair color</th>\n",
       "      <th>Pain threshold</th>\n",
       "    </tr>\n",
       "  </thead>\n",
       "  <tbody>\n",
       "    <tr>\n",
       "      <th>0</th>\n",
       "      <td>1</td>\n",
       "      <td>Light Blond</td>\n",
       "      <td>62</td>\n",
       "    </tr>\n",
       "    <tr>\n",
       "      <th>1</th>\n",
       "      <td>2</td>\n",
       "      <td>Light Blond</td>\n",
       "      <td>60</td>\n",
       "    </tr>\n",
       "    <tr>\n",
       "      <th>2</th>\n",
       "      <td>3</td>\n",
       "      <td>Light Blond</td>\n",
       "      <td>71</td>\n",
       "    </tr>\n",
       "    <tr>\n",
       "      <th>3</th>\n",
       "      <td>4</td>\n",
       "      <td>Light Blond</td>\n",
       "      <td>55</td>\n",
       "    </tr>\n",
       "    <tr>\n",
       "      <th>4</th>\n",
       "      <td>5</td>\n",
       "      <td>Light Blond</td>\n",
       "      <td>48</td>\n",
       "    </tr>\n",
       "  </tbody>\n",
       "</table>\n",
       "</div>"
      ],
      "text/plain": [
       "   Subject   Hair color  Pain threshold\n",
       "0        1  Light Blond              62\n",
       "1        2  Light Blond              60\n",
       "2        3  Light Blond              71\n",
       "3        4  Light Blond              55\n",
       "4        5  Light Blond              48"
      ]
     },
     "execution_count": 9,
     "metadata": {},
     "output_type": "execute_result"
    }
   ],
   "source": [
    "df.head()"
   ]
  },
  {
   "cell_type": "code",
   "execution_count": 11,
   "id": "629ee199",
   "metadata": {},
   "outputs": [
    {
     "data": {
      "text/plain": [
       "Hair color\n",
       "Light Blond       5\n",
       "Dark Blond        5\n",
       "Dark Brunette     5\n",
       "Light Brunette    4\n",
       "Name: count, dtype: int64"
      ]
     },
     "execution_count": 11,
     "metadata": {},
     "output_type": "execute_result"
    }
   ],
   "source": [
    "df[\"Hair color\"].value_counts()"
   ]
  },
  {
   "cell_type": "code",
   "execution_count": 12,
   "id": "0943df9f",
   "metadata": {},
   "outputs": [],
   "source": [
    "#drop subject column\n",
    "df = df.drop(columns = \"Subject\", axis = 1)"
   ]
  },
  {
   "cell_type": "code",
   "execution_count": 14,
   "id": "a5a513f4",
   "metadata": {},
   "outputs": [
    {
     "data": {
      "text/html": [
       "<div>\n",
       "<style scoped>\n",
       "    .dataframe tbody tr th:only-of-type {\n",
       "        vertical-align: middle;\n",
       "    }\n",
       "\n",
       "    .dataframe tbody tr th {\n",
       "        vertical-align: top;\n",
       "    }\n",
       "\n",
       "    .dataframe thead th {\n",
       "        text-align: right;\n",
       "    }\n",
       "</style>\n",
       "<table border=\"1\" class=\"dataframe\">\n",
       "  <thead>\n",
       "    <tr style=\"text-align: right;\">\n",
       "      <th></th>\n",
       "      <th>Hair color</th>\n",
       "      <th>Pain threshold</th>\n",
       "    </tr>\n",
       "  </thead>\n",
       "  <tbody>\n",
       "    <tr>\n",
       "      <th>0</th>\n",
       "      <td>Light Blond</td>\n",
       "      <td>62</td>\n",
       "    </tr>\n",
       "    <tr>\n",
       "      <th>1</th>\n",
       "      <td>Light Blond</td>\n",
       "      <td>60</td>\n",
       "    </tr>\n",
       "    <tr>\n",
       "      <th>2</th>\n",
       "      <td>Light Blond</td>\n",
       "      <td>71</td>\n",
       "    </tr>\n",
       "    <tr>\n",
       "      <th>3</th>\n",
       "      <td>Light Blond</td>\n",
       "      <td>55</td>\n",
       "    </tr>\n",
       "    <tr>\n",
       "      <th>4</th>\n",
       "      <td>Light Blond</td>\n",
       "      <td>48</td>\n",
       "    </tr>\n",
       "    <tr>\n",
       "      <th>5</th>\n",
       "      <td>Dark Blond</td>\n",
       "      <td>63</td>\n",
       "    </tr>\n",
       "    <tr>\n",
       "      <th>6</th>\n",
       "      <td>Dark Blond</td>\n",
       "      <td>57</td>\n",
       "    </tr>\n",
       "    <tr>\n",
       "      <th>7</th>\n",
       "      <td>Dark Blond</td>\n",
       "      <td>52</td>\n",
       "    </tr>\n",
       "    <tr>\n",
       "      <th>8</th>\n",
       "      <td>Dark Blond</td>\n",
       "      <td>41</td>\n",
       "    </tr>\n",
       "    <tr>\n",
       "      <th>9</th>\n",
       "      <td>Dark Blond</td>\n",
       "      <td>43</td>\n",
       "    </tr>\n",
       "  </tbody>\n",
       "</table>\n",
       "</div>"
      ],
      "text/plain": [
       "    Hair color  Pain threshold\n",
       "0  Light Blond              62\n",
       "1  Light Blond              60\n",
       "2  Light Blond              71\n",
       "3  Light Blond              55\n",
       "4  Light Blond              48\n",
       "5   Dark Blond              63\n",
       "6   Dark Blond              57\n",
       "7   Dark Blond              52\n",
       "8   Dark Blond              41\n",
       "9   Dark Blond              43"
      ]
     },
     "execution_count": 14,
     "metadata": {},
     "output_type": "execute_result"
    }
   ],
   "source": [
    "df.head(10)"
   ]
  },
  {
   "cell_type": "markdown",
   "id": "faf578cb",
   "metadata": {},
   "source": [
    "##### little of cleaning, specific for statsmodels\n",
    "\n",
    "##### lower case, and replace a \"space\" with a \"_\" in our headers\n"
   ]
  },
  {
   "cell_type": "code",
   "execution_count": 15,
   "id": "b4e1bcde",
   "metadata": {},
   "outputs": [],
   "source": [
    "df.columns = [x.lower().replace(\" \", \"_\") for x in df.columns]"
   ]
  },
  {
   "cell_type": "code",
   "execution_count": 16,
   "id": "e1c01f25",
   "metadata": {},
   "outputs": [
    {
     "data": {
      "text/html": [
       "<div>\n",
       "<style scoped>\n",
       "    .dataframe tbody tr th:only-of-type {\n",
       "        vertical-align: middle;\n",
       "    }\n",
       "\n",
       "    .dataframe tbody tr th {\n",
       "        vertical-align: top;\n",
       "    }\n",
       "\n",
       "    .dataframe thead th {\n",
       "        text-align: right;\n",
       "    }\n",
       "</style>\n",
       "<table border=\"1\" class=\"dataframe\">\n",
       "  <thead>\n",
       "    <tr style=\"text-align: right;\">\n",
       "      <th></th>\n",
       "      <th>hair_color</th>\n",
       "      <th>pain_threshold</th>\n",
       "    </tr>\n",
       "  </thead>\n",
       "  <tbody>\n",
       "    <tr>\n",
       "      <th>0</th>\n",
       "      <td>Light Blond</td>\n",
       "      <td>62</td>\n",
       "    </tr>\n",
       "    <tr>\n",
       "      <th>1</th>\n",
       "      <td>Light Blond</td>\n",
       "      <td>60</td>\n",
       "    </tr>\n",
       "    <tr>\n",
       "      <th>2</th>\n",
       "      <td>Light Blond</td>\n",
       "      <td>71</td>\n",
       "    </tr>\n",
       "    <tr>\n",
       "      <th>3</th>\n",
       "      <td>Light Blond</td>\n",
       "      <td>55</td>\n",
       "    </tr>\n",
       "    <tr>\n",
       "      <th>4</th>\n",
       "      <td>Light Blond</td>\n",
       "      <td>48</td>\n",
       "    </tr>\n",
       "  </tbody>\n",
       "</table>\n",
       "</div>"
      ],
      "text/plain": [
       "    hair_color  pain_threshold\n",
       "0  Light Blond              62\n",
       "1  Light Blond              60\n",
       "2  Light Blond              71\n",
       "3  Light Blond              55\n",
       "4  Light Blond              48"
      ]
     },
     "execution_count": 16,
     "metadata": {},
     "output_type": "execute_result"
    }
   ],
   "source": [
    "df.head(5)"
   ]
  },
  {
   "cell_type": "markdown",
   "id": "1da9ed02",
   "metadata": {},
   "source": [
    "##### check out statsmodels version of ANOVA"
   ]
  },
  {
   "cell_type": "code",
   "execution_count": 18,
   "id": "2f45c6c2",
   "metadata": {},
   "outputs": [
    {
     "data": {
      "text/html": [
       "<div>\n",
       "<style scoped>\n",
       "    .dataframe tbody tr th:only-of-type {\n",
       "        vertical-align: middle;\n",
       "    }\n",
       "\n",
       "    .dataframe tbody tr th {\n",
       "        vertical-align: top;\n",
       "    }\n",
       "\n",
       "    .dataframe thead th {\n",
       "        text-align: right;\n",
       "    }\n",
       "</style>\n",
       "<table border=\"1\" class=\"dataframe\">\n",
       "  <thead>\n",
       "    <tr style=\"text-align: right;\">\n",
       "      <th></th>\n",
       "      <th>df</th>\n",
       "      <th>sum_sq</th>\n",
       "      <th>mean_sq</th>\n",
       "      <th>F</th>\n",
       "      <th>PR(&gt;F)</th>\n",
       "    </tr>\n",
       "  </thead>\n",
       "  <tbody>\n",
       "    <tr>\n",
       "      <th>hair_color</th>\n",
       "      <td>3.0</td>\n",
       "      <td>1360.726316</td>\n",
       "      <td>453.575439</td>\n",
       "      <td>6.791407</td>\n",
       "      <td>0.004114</td>\n",
       "    </tr>\n",
       "    <tr>\n",
       "      <th>Residual</th>\n",
       "      <td>15.0</td>\n",
       "      <td>1001.800000</td>\n",
       "      <td>66.786667</td>\n",
       "      <td>NaN</td>\n",
       "      <td>NaN</td>\n",
       "    </tr>\n",
       "  </tbody>\n",
       "</table>\n",
       "</div>"
      ],
      "text/plain": [
       "              df       sum_sq     mean_sq         F    PR(>F)\n",
       "hair_color   3.0  1360.726316  453.575439  6.791407  0.004114\n",
       "Residual    15.0  1001.800000   66.786667       NaN       NaN"
      ]
     },
     "execution_count": 18,
     "metadata": {},
     "output_type": "execute_result"
    }
   ],
   "source": [
    "import statsmodels.formula.api as smf\n",
    "import statsmodels.api as sm\n",
    "\n",
    "ols_model = smf.ols(\"pain_threshold ~ hair_color\", data=df).fit()\n",
    "\n",
    "anova1 = sm.stats.anova_lm(ols_model)\n",
    "\n",
    "anova1"
   ]
  },
  {
   "cell_type": "code",
   "execution_count": 21,
   "id": "20c6d4c6",
   "metadata": {},
   "outputs": [
    {
     "data": {
      "text/html": [
       "<div>\n",
       "<style scoped>\n",
       "    .dataframe tbody tr th:only-of-type {\n",
       "        vertical-align: middle;\n",
       "    }\n",
       "\n",
       "    .dataframe tbody tr th {\n",
       "        vertical-align: top;\n",
       "    }\n",
       "\n",
       "    .dataframe thead th {\n",
       "        text-align: right;\n",
       "    }\n",
       "</style>\n",
       "<table border=\"1\" class=\"dataframe\">\n",
       "  <thead>\n",
       "    <tr style=\"text-align: right;\">\n",
       "      <th></th>\n",
       "      <th>Source</th>\n",
       "      <th>SS</th>\n",
       "      <th>DF</th>\n",
       "      <th>MS</th>\n",
       "      <th>F</th>\n",
       "      <th>p-unc</th>\n",
       "      <th>np2</th>\n",
       "    </tr>\n",
       "  </thead>\n",
       "  <tbody>\n",
       "    <tr>\n",
       "      <th>0</th>\n",
       "      <td>hair_color</td>\n",
       "      <td>1360.726316</td>\n",
       "      <td>3</td>\n",
       "      <td>453.575439</td>\n",
       "      <td>6.791407</td>\n",
       "      <td>0.004114</td>\n",
       "      <td>0.575962</td>\n",
       "    </tr>\n",
       "    <tr>\n",
       "      <th>1</th>\n",
       "      <td>Within</td>\n",
       "      <td>1001.800000</td>\n",
       "      <td>15</td>\n",
       "      <td>66.786667</td>\n",
       "      <td>NaN</td>\n",
       "      <td>NaN</td>\n",
       "      <td>NaN</td>\n",
       "    </tr>\n",
       "  </tbody>\n",
       "</table>\n",
       "</div>"
      ],
      "text/plain": [
       "       Source           SS  DF          MS         F     p-unc       np2\n",
       "0  hair_color  1360.726316   3  453.575439  6.791407  0.004114  0.575962\n",
       "1      Within  1001.800000  15   66.786667       NaN       NaN       NaN"
      ]
     },
     "execution_count": 21,
     "metadata": {},
     "output_type": "execute_result"
    }
   ],
   "source": [
    "anova2 = pg.anova(dv='pain_threshold', between='hair_color', data =df, detailed=True)\n",
    "\n",
    "anova2"
   ]
  },
  {
   "cell_type": "code",
   "execution_count": 22,
   "id": "7e614d3e",
   "metadata": {},
   "outputs": [
    {
     "data": {
      "text/html": [
       "<div>\n",
       "<style scoped>\n",
       "    .dataframe tbody tr th:only-of-type {\n",
       "        vertical-align: middle;\n",
       "    }\n",
       "\n",
       "    .dataframe tbody tr th {\n",
       "        vertical-align: top;\n",
       "    }\n",
       "\n",
       "    .dataframe thead th {\n",
       "        text-align: right;\n",
       "    }\n",
       "</style>\n",
       "<table border=\"1\" class=\"dataframe\">\n",
       "  <thead>\n",
       "    <tr style=\"text-align: right;\">\n",
       "      <th></th>\n",
       "      <th>Source</th>\n",
       "      <th>ddof1</th>\n",
       "      <th>ddof2</th>\n",
       "      <th>F</th>\n",
       "      <th>p-unc</th>\n",
       "      <th>np2</th>\n",
       "    </tr>\n",
       "  </thead>\n",
       "  <tbody>\n",
       "    <tr>\n",
       "      <th>0</th>\n",
       "      <td>hair_color</td>\n",
       "      <td>3</td>\n",
       "      <td>8.329841</td>\n",
       "      <td>5.890115</td>\n",
       "      <td>0.018813</td>\n",
       "      <td>0.575962</td>\n",
       "    </tr>\n",
       "  </tbody>\n",
       "</table>\n",
       "</div>"
      ],
      "text/plain": [
       "       Source  ddof1     ddof2         F     p-unc       np2\n",
       "0  hair_color      3  8.329841  5.890115  0.018813  0.575962"
      ]
     },
     "execution_count": 22,
     "metadata": {},
     "output_type": "execute_result"
    }
   ],
   "source": [
    "anova3 = pg.welch_anova(dv='pain_threshold', between='hair_color', data =df)\n",
    "\n",
    "anova3"
   ]
  },
  {
   "cell_type": "markdown",
   "id": "9ec5958c",
   "metadata": {},
   "source": [
    "##### pairwise_turkey"
   ]
  },
  {
   "cell_type": "code",
   "execution_count": 25,
   "id": "cc9ede63",
   "metadata": {},
   "outputs": [
    {
     "name": "stdout",
     "output_type": "stream",
     "text": [
      "This method only works with a Pandas Series, Dataframe, or Groupby object\n",
      "        Multiple Comparison of Means - Tukey HSD, FWER=0.05         \n",
      "====================================================================\n",
      "    group1        group2     meandiff p-adj   lower    upper  reject\n",
      "--------------------------------------------------------------------\n",
      "   Dark Blond  Dark Brunette    -13.8 0.0741 -28.6967  1.0967  False\n",
      "   Dark Blond    Light Blond      8.0 0.4356  -6.8967 22.8967  False\n",
      "   Dark Blond Light Brunette     -8.7 0.4147 -24.5004  7.1004  False\n",
      "Dark Brunette    Light Blond     21.8 0.0037   6.9033 36.6967   True\n",
      "Dark Brunette Light Brunette      5.1 0.7893 -10.7004 20.9004  False\n",
      "  Light Blond Light Brunette    -16.7 0.0366 -32.5004 -0.8996   True\n",
      "--------------------------------------------------------------------\n"
     ]
    }
   ],
   "source": [
    "import researchpy as rp\n",
    "from statsmodels.formula.api import ols\n",
    "from statsmodels.stats.multicomp import pairwise_tukeyhsd\n",
    "\n",
    "# Ajustar el modelo ANOVA\n",
    "model = ols('pain_threshold ~ hair_color', data=df).fit()\n",
    "anova_table = rp.summary_cont(model)\n",
    "\n",
    "# Realizar la prueba post hoc de Tukey\n",
    "posthoc = pairwise_tukeyhsd(df['pain_threshold'], df['hair_color'])\n",
    "\n",
    "# Imprimir los resultados\n",
    "print(anova_table)\n",
    "print(posthoc)"
   ]
  },
  {
   "cell_type": "markdown",
   "id": "25191c17",
   "metadata": {},
   "source": [
    "### Non-Normal Data & Bootstrap"
   ]
  },
  {
   "cell_type": "code",
   "execution_count": 30,
   "id": "3d0ebea0",
   "metadata": {},
   "outputs": [],
   "source": [
    "import bootstrapped.bootstrap as bs\n",
    "import bootstrapped.stats_functions as bs_stats\n",
    "import bootstrapped.compare_functions as bs_compare\n",
    "\n",
    "import numpy.random as npr"
   ]
  },
  {
   "cell_type": "code",
   "execution_count": 31,
   "id": "fcce1236",
   "metadata": {},
   "outputs": [],
   "source": [
    "mean = 1000\n",
    "stdev = 50\n",
    "\n",
    "pop = np.random.normal(loc = mean, scale = stdev, size = 100000)"
   ]
  },
  {
   "cell_type": "code",
   "execution_count": 32,
   "id": "822ee01e",
   "metadata": {},
   "outputs": [
    {
     "data": {
      "image/png": "[encoded data removed]",
      "text/plain": [
       "<Figure size 432x288 with 1 Axes>"
      ]
     },
     "metadata": {},
     "output_type": "display_data"
    }
   ],
   "source": [
    "sns.distplot(pop, bins = 50, hist = True, kde = True)\n",
    "plt.title(\"Population Distribution\")\n",
    "plt.show()"
   ]
  },
  {
   "cell_type": "markdown",
   "id": "f62d828c",
   "metadata": {},
   "source": [
    "##### take 10000, samples from the larger population\n"
   ]
  },
  {
   "cell_type": "code",
   "execution_count": 33,
   "id": "1ea2c462",
   "metadata": {},
   "outputs": [],
   "source": [
    "samps = pop[:10000]"
   ]
  },
  {
   "cell_type": "markdown",
   "id": "d3fc5ee0",
   "metadata": {},
   "source": [
    "##### time to use bootstrap for mean and stdev"
   ]
  },
  {
   "cell_type": "code",
   "execution_count": 35,
   "id": "21762e70",
   "metadata": {},
   "outputs": [],
   "source": [
    "BS_mean = bs.bootstrap(samps, stat_func=bs_stats.mean)\n",
    "\n",
    "BS_stdev = bs.bootstrap(samps, stat_func=bs_stats.std)"
   ]
  },
  {
   "cell_type": "code",
   "execution_count": 36,
   "id": "440ef592",
   "metadata": {},
   "outputs": [
    {
     "name": "stdout",
     "output_type": "stream",
     "text": [
      "Bootstrapped mean should be: 1000\n",
      "\t1000.3776547491066    (999.3984148520731, 1001.3633928720252)\n",
      " \n",
      "Bootstrapped stdev should be: 50\n",
      "\t50.14479768252655    (49.46201720500141, 50.83809987441835)\n"
     ]
    }
   ],
   "source": [
    "print(\"Bootstrapped mean should be: {}\".format(mean))\n",
    "print('\\t' + str(BS_mean))\n",
    "print(\" \")\n",
    "print(\"Bootstrapped stdev should be: {}\".format(stdev))\n",
    "print('\\t' + str(BS_stdev))"
   ]
  },
  {
   "cell_type": "code",
   "execution_count": 42,
   "id": "b8b6733f",
   "metadata": {},
   "outputs": [],
   "source": [
    "samp_amount = [10, 30, 50, 100, 500, 1000]\n",
    "#samp_amount = [10, 30, 50, 100, 500, 1000, 2500, 5000, 10000, 25000]\n",
    "bootstrap_res = []\n",
    "\n",
    "tdist_res = []\n",
    "\n",
    "# for loop to handle our execution and iterations\n",
    "for i in samp_amount:\n",
    "    samps = np.random.choice(pop, i, replace=True)\n",
    "    bsres = bs.bootstrap(samps, stat_func=bs_stats.mean, alpha = 0.05)\n",
    "    \n",
    "    tres = st.t.interval(0.95, len(samps)-1, loc = np.mean(samps), scale = st.sem(samps))\n",
    "    \n",
    "    bootstrap_res.append((bsres.lower_bound, bsres.upper_bound))\n",
    "    tdist_res.append(tres)"
   ]
  },
  {
   "cell_type": "code",
   "execution_count": 43,
   "id": "9a29361a",
   "metadata": {},
   "outputs": [
    {
     "data": {
      "image/png": "[encoded data removed]",
      "text/plain": [
       "<Figure size 504x504 with 1 Axes>"
      ]
     },
     "metadata": {},
     "output_type": "display_data"
    }
   ],
   "source": [
    "plt.subplots(figsize=(7,7))\n",
    "\n",
    "plt.plot(samp_amount, [x[1] for x in bootstrap_res], color = \"yellow\")\n",
    "plt.plot(samp_amount, [x[1] for x in tdist_res], linestyle=\"--\", color = \"green\")\n",
    "\n",
    "plt.plot(samp_amount, [x[0] for x in bootstrap_res], color = \"yellow\", label = \"BootStrap\")\n",
    "plt.plot(samp_amount, [x[0] for x in tdist_res], linestyle=\"--\", color = \"green\", label = \"T-Dist\")\n",
    "\n",
    "plt.axhline(pop.mean(), color = \"black\", label = \"Actual Mean\")\n",
    "plt.legend(loc = \"best\")\n",
    "plt.title(\"BootStrap vs T-Distribution\")\n",
    "plt.show()"
   ]
  }
 ],
 "metadata": {
  "kernelspec": {
   "display_name": "Python 3 (ipykernel)",
   "language": "python",
   "name": "python3"
  },
  "language_info": {
   "codemirror_mode": {
    "name": "ipython",
    "version": 3
   },
   "file_extension": ".py",
   "mimetype": "text/x-python",
   "name": "python",
   "nbconvert_exporter": "python",
   "pygments_lexer": "ipython3",
   "version": "3.9.13"
  }
 },
 "nbformat": 4,
 "nbformat_minor": 5
}
