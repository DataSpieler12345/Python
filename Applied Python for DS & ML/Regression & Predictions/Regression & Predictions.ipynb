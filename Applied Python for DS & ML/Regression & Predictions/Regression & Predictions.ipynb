{
 "cells": [
  {
   "cell_type": "markdown",
   "id": "a7efee64",
   "metadata": {},
   "source": [
    "### Loading & Exploring Diamonds Data"
   ]
  },
  {
   "cell_type": "code",
   "execution_count": 1,
   "id": "6b727465",
   "metadata": {},
   "outputs": [],
   "source": [
    "import numpy as np\n",
    "import pandas as pd\n",
    "import seaborn as sns\n",
    "import matplotlib.pyplot as plt\n",
    "\n",
    "from sklearn.model_selection import train_test_split\n",
    "from sklearn.metrics import mean_absolute_error\n",
    "from sklearn.metrics import mean_squared_error\n",
    "from sklearn.metrics import r2_score\n",
    "from sklearn.model_selection import cross_val_score\n",
    "from sklearn.model_selection import GridSearchCV\n",
    "\n",
    "from sklearn.linear_model import LinearRegression\n",
    "from sklearn.preprocessing import PolynomialFeatures\n",
    "\n",
    "from sklearn.linear_model import RidgeCV\n",
    "from sklearn.linear_model import LassoCV\n",
    "from sklearn.linear_model import ElasticNetCV\n",
    "from sklearn.ensemble import RandomForestRegressor \n",
    "\n",
    "    \n",
    "import statsmodels.api as sm\n",
    "\n",
    "import pingouin as pg \n",
    "\n",
    "import warnings\n",
    "warnings.filterwarnings(\"ignore\")"
   ]
  },
  {
   "cell_type": "markdown",
   "id": "fc082762",
   "metadata": {},
   "source": [
    "#### diamonds dataset"
   ]
  },
  {
   "cell_type": "code",
   "execution_count": 2,
   "id": "ab3532cc",
   "metadata": {},
   "outputs": [],
   "source": [
    "df_diamonds = sns.load_dataset(\"diamonds\")"
   ]
  },
  {
   "cell_type": "code",
   "execution_count": 3,
   "id": "75932395",
   "metadata": {},
   "outputs": [
    {
     "data": {
      "text/html": [
       "<div>\n",
       "<style scoped>\n",
       "    .dataframe tbody tr th:only-of-type {\n",
       "        vertical-align: middle;\n",
       "    }\n",
       "\n",
       "    .dataframe tbody tr th {\n",
       "        vertical-align: top;\n",
       "    }\n",
       "\n",
       "    .dataframe thead th {\n",
       "        text-align: right;\n",
       "    }\n",
       "</style>\n",
       "<table border=\"1\" class=\"dataframe\">\n",
       "  <thead>\n",
       "    <tr style=\"text-align: right;\">\n",
       "      <th></th>\n",
       "      <th>carat</th>\n",
       "      <th>cut</th>\n",
       "      <th>color</th>\n",
       "      <th>clarity</th>\n",
       "      <th>depth</th>\n",
       "      <th>table</th>\n",
       "      <th>price</th>\n",
       "      <th>x</th>\n",
       "      <th>y</th>\n",
       "      <th>z</th>\n",
       "    </tr>\n",
       "  </thead>\n",
       "  <tbody>\n",
       "    <tr>\n",
       "      <th>0</th>\n",
       "      <td>0.23</td>\n",
       "      <td>Ideal</td>\n",
       "      <td>E</td>\n",
       "      <td>SI2</td>\n",
       "      <td>61.5</td>\n",
       "      <td>55.0</td>\n",
       "      <td>326</td>\n",
       "      <td>3.95</td>\n",
       "      <td>3.98</td>\n",
       "      <td>2.43</td>\n",
       "    </tr>\n",
       "    <tr>\n",
       "      <th>1</th>\n",
       "      <td>0.21</td>\n",
       "      <td>Premium</td>\n",
       "      <td>E</td>\n",
       "      <td>SI1</td>\n",
       "      <td>59.8</td>\n",
       "      <td>61.0</td>\n",
       "      <td>326</td>\n",
       "      <td>3.89</td>\n",
       "      <td>3.84</td>\n",
       "      <td>2.31</td>\n",
       "    </tr>\n",
       "    <tr>\n",
       "      <th>2</th>\n",
       "      <td>0.23</td>\n",
       "      <td>Good</td>\n",
       "      <td>E</td>\n",
       "      <td>VS1</td>\n",
       "      <td>56.9</td>\n",
       "      <td>65.0</td>\n",
       "      <td>327</td>\n",
       "      <td>4.05</td>\n",
       "      <td>4.07</td>\n",
       "      <td>2.31</td>\n",
       "    </tr>\n",
       "    <tr>\n",
       "      <th>3</th>\n",
       "      <td>0.29</td>\n",
       "      <td>Premium</td>\n",
       "      <td>I</td>\n",
       "      <td>VS2</td>\n",
       "      <td>62.4</td>\n",
       "      <td>58.0</td>\n",
       "      <td>334</td>\n",
       "      <td>4.20</td>\n",
       "      <td>4.23</td>\n",
       "      <td>2.63</td>\n",
       "    </tr>\n",
       "    <tr>\n",
       "      <th>4</th>\n",
       "      <td>0.31</td>\n",
       "      <td>Good</td>\n",
       "      <td>J</td>\n",
       "      <td>SI2</td>\n",
       "      <td>63.3</td>\n",
       "      <td>58.0</td>\n",
       "      <td>335</td>\n",
       "      <td>4.34</td>\n",
       "      <td>4.35</td>\n",
       "      <td>2.75</td>\n",
       "    </tr>\n",
       "  </tbody>\n",
       "</table>\n",
       "</div>"
      ],
      "text/plain": [
       "   carat      cut color clarity  depth  table  price     x     y     z\n",
       "0   0.23    Ideal     E     SI2   61.5   55.0    326  3.95  3.98  2.43\n",
       "1   0.21  Premium     E     SI1   59.8   61.0    326  3.89  3.84  2.31\n",
       "2   0.23     Good     E     VS1   56.9   65.0    327  4.05  4.07  2.31\n",
       "3   0.29  Premium     I     VS2   62.4   58.0    334  4.20  4.23  2.63\n",
       "4   0.31     Good     J     SI2   63.3   58.0    335  4.34  4.35  2.75"
      ]
     },
     "execution_count": 3,
     "metadata": {},
     "output_type": "execute_result"
    }
   ],
   "source": [
    "df_diamonds.head()"
   ]
  },
  {
   "cell_type": "markdown",
   "id": "32481f9b",
   "metadata": {},
   "source": [
    "carat: The weight of the diamond, equivalent to 200mg (should be a good indicator)\n",
    "\n",
    "cut: Quality of the cut\n",
    "\n",
    "color: Color of the diamond from J to D (worst to best)\n",
    "\n",
    "clarity: How clear the diamond is: I1 (worst), SI2, SI1, VS2, VS1, VVS2, VVS1, IF (best)\n",
    "\n",
    "depth: Total depth percentage (relative to x and y). Will likely be collinear\n",
    "\n",
    "table: Width of top of diamond relative to widest point(43-95)\n",
    "\n",
    "price: In US dollars ($)\n",
    "\n",
    "x,y,z: Dimnesions of the diamond"
   ]
  },
  {
   "cell_type": "code",
   "execution_count": 4,
   "id": "2764bc8b",
   "metadata": {},
   "outputs": [
    {
     "name": "stdout",
     "output_type": "stream",
     "text": [
      "<class 'pandas.core.frame.DataFrame'>\n",
      "RangeIndex: 53940 entries, 0 to 53939\n",
      "Data columns (total 10 columns):\n",
      " #   Column   Non-Null Count  Dtype   \n",
      "---  ------   --------------  -----   \n",
      " 0   carat    53940 non-null  float64 \n",
      " 1   cut      53940 non-null  category\n",
      " 2   color    53940 non-null  category\n",
      " 3   clarity  53940 non-null  category\n",
      " 4   depth    53940 non-null  float64 \n",
      " 5   table    53940 non-null  float64 \n",
      " 6   price    53940 non-null  int64   \n",
      " 7   x        53940 non-null  float64 \n",
      " 8   y        53940 non-null  float64 \n",
      " 9   z        53940 non-null  float64 \n",
      "dtypes: category(3), float64(6), int64(1)\n",
      "memory usage: 3.0 MB\n"
     ]
    }
   ],
   "source": [
    "df_diamonds.info()"
   ]
  },
  {
   "cell_type": "code",
   "execution_count": 5,
   "id": "e2c44cbf",
   "metadata": {},
   "outputs": [
    {
     "data": {
      "text/plain": [
       "carat      0\n",
       "cut        0\n",
       "color      0\n",
       "clarity    0\n",
       "depth      0\n",
       "table      0\n",
       "price      0\n",
       "x          0\n",
       "y          0\n",
       "z          0\n",
       "dtype: int64"
      ]
     },
     "execution_count": 5,
     "metadata": {},
     "output_type": "execute_result"
    }
   ],
   "source": [
    "#missing values?\n",
    "df_diamonds.isnull().sum()"
   ]
  },
  {
   "cell_type": "code",
   "execution_count": 6,
   "id": "a59d2314",
   "metadata": {},
   "outputs": [
    {
     "data": {
      "text/html": [
       "<div>\n",
       "<style scoped>\n",
       "    .dataframe tbody tr th:only-of-type {\n",
       "        vertical-align: middle;\n",
       "    }\n",
       "\n",
       "    .dataframe tbody tr th {\n",
       "        vertical-align: top;\n",
       "    }\n",
       "\n",
       "    .dataframe thead th {\n",
       "        text-align: right;\n",
       "    }\n",
       "</style>\n",
       "<table border=\"1\" class=\"dataframe\">\n",
       "  <thead>\n",
       "    <tr style=\"text-align: right;\">\n",
       "      <th></th>\n",
       "      <th>carat</th>\n",
       "      <th>depth</th>\n",
       "      <th>table</th>\n",
       "      <th>price</th>\n",
       "      <th>x</th>\n",
       "      <th>y</th>\n",
       "      <th>z</th>\n",
       "    </tr>\n",
       "  </thead>\n",
       "  <tbody>\n",
       "    <tr>\n",
       "      <th>count</th>\n",
       "      <td>53940.000000</td>\n",
       "      <td>53940.000000</td>\n",
       "      <td>53940.000000</td>\n",
       "      <td>53940.000000</td>\n",
       "      <td>53940.000000</td>\n",
       "      <td>53940.000000</td>\n",
       "      <td>53940.000000</td>\n",
       "    </tr>\n",
       "    <tr>\n",
       "      <th>mean</th>\n",
       "      <td>0.797940</td>\n",
       "      <td>61.749405</td>\n",
       "      <td>57.457184</td>\n",
       "      <td>3932.799722</td>\n",
       "      <td>5.731157</td>\n",
       "      <td>5.734526</td>\n",
       "      <td>3.538734</td>\n",
       "    </tr>\n",
       "    <tr>\n",
       "      <th>std</th>\n",
       "      <td>0.474011</td>\n",
       "      <td>1.432621</td>\n",
       "      <td>2.234491</td>\n",
       "      <td>3989.439738</td>\n",
       "      <td>1.121761</td>\n",
       "      <td>1.142135</td>\n",
       "      <td>0.705699</td>\n",
       "    </tr>\n",
       "    <tr>\n",
       "      <th>min</th>\n",
       "      <td>0.200000</td>\n",
       "      <td>43.000000</td>\n",
       "      <td>43.000000</td>\n",
       "      <td>326.000000</td>\n",
       "      <td>0.000000</td>\n",
       "      <td>0.000000</td>\n",
       "      <td>0.000000</td>\n",
       "    </tr>\n",
       "    <tr>\n",
       "      <th>25%</th>\n",
       "      <td>0.400000</td>\n",
       "      <td>61.000000</td>\n",
       "      <td>56.000000</td>\n",
       "      <td>950.000000</td>\n",
       "      <td>4.710000</td>\n",
       "      <td>4.720000</td>\n",
       "      <td>2.910000</td>\n",
       "    </tr>\n",
       "    <tr>\n",
       "      <th>50%</th>\n",
       "      <td>0.700000</td>\n",
       "      <td>61.800000</td>\n",
       "      <td>57.000000</td>\n",
       "      <td>2401.000000</td>\n",
       "      <td>5.700000</td>\n",
       "      <td>5.710000</td>\n",
       "      <td>3.530000</td>\n",
       "    </tr>\n",
       "    <tr>\n",
       "      <th>75%</th>\n",
       "      <td>1.040000</td>\n",
       "      <td>62.500000</td>\n",
       "      <td>59.000000</td>\n",
       "      <td>5324.250000</td>\n",
       "      <td>6.540000</td>\n",
       "      <td>6.540000</td>\n",
       "      <td>4.040000</td>\n",
       "    </tr>\n",
       "    <tr>\n",
       "      <th>max</th>\n",
       "      <td>5.010000</td>\n",
       "      <td>79.000000</td>\n",
       "      <td>95.000000</td>\n",
       "      <td>18823.000000</td>\n",
       "      <td>10.740000</td>\n",
       "      <td>58.900000</td>\n",
       "      <td>31.800000</td>\n",
       "    </tr>\n",
       "  </tbody>\n",
       "</table>\n",
       "</div>"
      ],
      "text/plain": [
       "              carat         depth         table         price             x  \\\n",
       "count  53940.000000  53940.000000  53940.000000  53940.000000  53940.000000   \n",
       "mean       0.797940     61.749405     57.457184   3932.799722      5.731157   \n",
       "std        0.474011      1.432621      2.234491   3989.439738      1.121761   \n",
       "min        0.200000     43.000000     43.000000    326.000000      0.000000   \n",
       "25%        0.400000     61.000000     56.000000    950.000000      4.710000   \n",
       "50%        0.700000     61.800000     57.000000   2401.000000      5.700000   \n",
       "75%        1.040000     62.500000     59.000000   5324.250000      6.540000   \n",
       "max        5.010000     79.000000     95.000000  18823.000000     10.740000   \n",
       "\n",
       "                  y             z  \n",
       "count  53940.000000  53940.000000  \n",
       "mean       5.734526      3.538734  \n",
       "std        1.142135      0.705699  \n",
       "min        0.000000      0.000000  \n",
       "25%        4.720000      2.910000  \n",
       "50%        5.710000      3.530000  \n",
       "75%        6.540000      4.040000  \n",
       "max       58.900000     31.800000  "
      ]
     },
     "execution_count": 6,
     "metadata": {},
     "output_type": "execute_result"
    }
   ],
   "source": [
    "df_diamonds.describe()"
   ]
  },
  {
   "cell_type": "code",
   "execution_count": 7,
   "id": "dd521975",
   "metadata": {},
   "outputs": [
    {
     "name": "stdout",
     "output_type": "stream",
     "text": [
      "carat       float64\n",
      "cut        category\n",
      "color      category\n",
      "clarity    category\n",
      "depth       float64\n",
      "table       float64\n",
      "price         int64\n",
      "x           float64\n",
      "y           float64\n",
      "z           float64\n",
      "dtype: object\n"
     ]
    }
   ],
   "source": [
    "print(df_diamonds.dtypes)"
   ]
  },
  {
   "cell_type": "code",
   "execution_count": 8,
   "id": "a5c2d617",
   "metadata": {},
   "outputs": [
    {
     "data": {
      "text/html": [
       "<div>\n",
       "<style scoped>\n",
       "    .dataframe tbody tr th:only-of-type {\n",
       "        vertical-align: middle;\n",
       "    }\n",
       "\n",
       "    .dataframe tbody tr th {\n",
       "        vertical-align: top;\n",
       "    }\n",
       "\n",
       "    .dataframe thead th {\n",
       "        text-align: right;\n",
       "    }\n",
       "</style>\n",
       "<table border=\"1\" class=\"dataframe\">\n",
       "  <thead>\n",
       "    <tr style=\"text-align: right;\">\n",
       "      <th></th>\n",
       "      <th>cut</th>\n",
       "      <th>color</th>\n",
       "      <th>clarity</th>\n",
       "    </tr>\n",
       "  </thead>\n",
       "  <tbody>\n",
       "    <tr>\n",
       "      <th>count</th>\n",
       "      <td>53940</td>\n",
       "      <td>53940</td>\n",
       "      <td>53940</td>\n",
       "    </tr>\n",
       "    <tr>\n",
       "      <th>unique</th>\n",
       "      <td>5</td>\n",
       "      <td>7</td>\n",
       "      <td>8</td>\n",
       "    </tr>\n",
       "    <tr>\n",
       "      <th>top</th>\n",
       "      <td>Ideal</td>\n",
       "      <td>G</td>\n",
       "      <td>SI1</td>\n",
       "    </tr>\n",
       "    <tr>\n",
       "      <th>freq</th>\n",
       "      <td>21551</td>\n",
       "      <td>11292</td>\n",
       "      <td>13065</td>\n",
       "    </tr>\n",
       "  </tbody>\n",
       "</table>\n",
       "</div>"
      ],
      "text/plain": [
       "          cut  color clarity\n",
       "count   53940  53940   53940\n",
       "unique      5      7       8\n",
       "top     Ideal      G     SI1\n",
       "freq    21551  11292   13065"
      ]
     },
     "execution_count": 8,
     "metadata": {},
     "output_type": "execute_result"
    }
   ],
   "source": [
    "#unique values of the most common at the top\n",
    "df_diamonds.describe(include=[\"category\"])"
   ]
  },
  {
   "cell_type": "code",
   "execution_count": 9,
   "id": "96571caf",
   "metadata": {},
   "outputs": [],
   "source": [
    "#set color design\n",
    "sns.set(color_codes=True)\n",
    "colors = sns.color_palette(\"bright\")"
   ]
  },
  {
   "cell_type": "markdown",
   "id": "f3a17905",
   "metadata": {},
   "source": [
    "### https://seaborn.pydata.org/tutorial/color_palettes.html"
   ]
  },
  {
   "cell_type": "code",
   "execution_count": 10,
   "id": "6045a6e8",
   "metadata": {},
   "outputs": [
    {
     "data": {
      "text/html": [
       "<div>\n",
       "<style scoped>\n",
       "    .dataframe tbody tr th:only-of-type {\n",
       "        vertical-align: middle;\n",
       "    }\n",
       "\n",
       "    .dataframe tbody tr th {\n",
       "        vertical-align: top;\n",
       "    }\n",
       "\n",
       "    .dataframe thead th {\n",
       "        text-align: right;\n",
       "    }\n",
       "</style>\n",
       "<table border=\"1\" class=\"dataframe\">\n",
       "  <thead>\n",
       "    <tr style=\"text-align: right;\">\n",
       "      <th></th>\n",
       "      <th>carat</th>\n",
       "      <th>depth</th>\n",
       "      <th>table</th>\n",
       "      <th>price</th>\n",
       "      <th>x</th>\n",
       "      <th>y</th>\n",
       "      <th>z</th>\n",
       "    </tr>\n",
       "  </thead>\n",
       "  <tbody>\n",
       "    <tr>\n",
       "      <th>count</th>\n",
       "      <td>53940.000000</td>\n",
       "      <td>53940.000000</td>\n",
       "      <td>53940.000000</td>\n",
       "      <td>53940.000000</td>\n",
       "      <td>53940.000000</td>\n",
       "      <td>53940.000000</td>\n",
       "      <td>53940.000000</td>\n",
       "    </tr>\n",
       "    <tr>\n",
       "      <th>mean</th>\n",
       "      <td>0.797940</td>\n",
       "      <td>61.749405</td>\n",
       "      <td>57.457184</td>\n",
       "      <td>3932.799722</td>\n",
       "      <td>5.731157</td>\n",
       "      <td>5.734526</td>\n",
       "      <td>3.538734</td>\n",
       "    </tr>\n",
       "    <tr>\n",
       "      <th>std</th>\n",
       "      <td>0.474011</td>\n",
       "      <td>1.432621</td>\n",
       "      <td>2.234491</td>\n",
       "      <td>3989.439738</td>\n",
       "      <td>1.121761</td>\n",
       "      <td>1.142135</td>\n",
       "      <td>0.705699</td>\n",
       "    </tr>\n",
       "    <tr>\n",
       "      <th>min</th>\n",
       "      <td>0.200000</td>\n",
       "      <td>43.000000</td>\n",
       "      <td>43.000000</td>\n",
       "      <td>326.000000</td>\n",
       "      <td>0.000000</td>\n",
       "      <td>0.000000</td>\n",
       "      <td>0.000000</td>\n",
       "    </tr>\n",
       "    <tr>\n",
       "      <th>25%</th>\n",
       "      <td>0.400000</td>\n",
       "      <td>61.000000</td>\n",
       "      <td>56.000000</td>\n",
       "      <td>950.000000</td>\n",
       "      <td>4.710000</td>\n",
       "      <td>4.720000</td>\n",
       "      <td>2.910000</td>\n",
       "    </tr>\n",
       "    <tr>\n",
       "      <th>50%</th>\n",
       "      <td>0.700000</td>\n",
       "      <td>61.800000</td>\n",
       "      <td>57.000000</td>\n",
       "      <td>2401.000000</td>\n",
       "      <td>5.700000</td>\n",
       "      <td>5.710000</td>\n",
       "      <td>3.530000</td>\n",
       "    </tr>\n",
       "    <tr>\n",
       "      <th>75%</th>\n",
       "      <td>1.040000</td>\n",
       "      <td>62.500000</td>\n",
       "      <td>59.000000</td>\n",
       "      <td>5324.250000</td>\n",
       "      <td>6.540000</td>\n",
       "      <td>6.540000</td>\n",
       "      <td>4.040000</td>\n",
       "    </tr>\n",
       "    <tr>\n",
       "      <th>max</th>\n",
       "      <td>5.010000</td>\n",
       "      <td>79.000000</td>\n",
       "      <td>95.000000</td>\n",
       "      <td>18823.000000</td>\n",
       "      <td>10.740000</td>\n",
       "      <td>58.900000</td>\n",
       "      <td>31.800000</td>\n",
       "    </tr>\n",
       "  </tbody>\n",
       "</table>\n",
       "</div>"
      ],
      "text/plain": [
       "              carat         depth         table         price             x  \\\n",
       "count  53940.000000  53940.000000  53940.000000  53940.000000  53940.000000   \n",
       "mean       0.797940     61.749405     57.457184   3932.799722      5.731157   \n",
       "std        0.474011      1.432621      2.234491   3989.439738      1.121761   \n",
       "min        0.200000     43.000000     43.000000    326.000000      0.000000   \n",
       "25%        0.400000     61.000000     56.000000    950.000000      4.710000   \n",
       "50%        0.700000     61.800000     57.000000   2401.000000      5.700000   \n",
       "75%        1.040000     62.500000     59.000000   5324.250000      6.540000   \n",
       "max        5.010000     79.000000     95.000000  18823.000000     10.740000   \n",
       "\n",
       "                  y             z  \n",
       "count  53940.000000  53940.000000  \n",
       "mean       5.734526      3.538734  \n",
       "std        1.142135      0.705699  \n",
       "min        0.000000      0.000000  \n",
       "25%        4.720000      2.910000  \n",
       "50%        5.710000      3.530000  \n",
       "75%        6.540000      4.040000  \n",
       "max       58.900000     31.800000  "
      ]
     },
     "execution_count": 10,
     "metadata": {},
     "output_type": "execute_result"
    }
   ],
   "source": [
    "df_diamonds.describe()"
   ]
  },
  {
   "cell_type": "markdown",
   "id": "834c5119",
   "metadata": {},
   "source": [
    "#### data viz"
   ]
  },
  {
   "cell_type": "code",
   "execution_count": 11,
   "id": "1261fe3f",
   "metadata": {},
   "outputs": [
    {
     "data": {
      "image/png": "[encoded data removed]",
      "text/plain": [
       "<Figure size 1080x576 with 8 Axes>"
      ]
     },
     "metadata": {
      "needs_background": "light"
     },
     "output_type": "display_data"
    }
   ],
   "source": [
    "fig, axes = plt.subplots(2, 4, figsize = (15,8))\n",
    "\n",
    "sns.distplot(df_diamonds[\"carat\"], color = colors[0], ax = axes[0,0])\n",
    "sns.distplot(df_diamonds[\"depth\"], color = colors[1], ax = axes[0,1])\n",
    "sns.distplot(df_diamonds[\"table\"], color = colors[2], ax = axes[0,2])\n",
    "sns.distplot(df_diamonds[\"price\"], color = colors[3], ax = axes[0,3])\n",
    "sns.distplot(df_diamonds[\"x\"], color = colors[4], ax = axes[1,0])\n",
    "sns.distplot(df_diamonds[\"y\"], color = colors[5], ax = axes[1,1])\n",
    "sns.distplot(df_diamonds[\"z\"], color = colors[6], ax = axes[1,2])\n",
    "\n",
    "plt.suptitle(\"Distribution of Quantitative Variables\", y = 1.01, size = 18)\n",
    "plt.tight_layout()\n",
    "plt.show()"
   ]
  },
  {
   "cell_type": "code",
   "execution_count": 12,
   "id": "957bd3e2",
   "metadata": {},
   "outputs": [
    {
     "data": {
      "image/png": "[encoded data removed]",
      "text/plain": [
       "<Figure size 1080x576 with 8 Axes>"
      ]
     },
     "metadata": {
      "needs_background": "light"
     },
     "output_type": "display_data"
    }
   ],
   "source": [
    "fig, axes = plt.subplots(2, 4, figsize = (15,8))\n",
    "\n",
    "sns.boxplot(y=df_diamonds[\"carat\"], color = colors[0], ax = axes[0,0])\n",
    "sns.boxplot(y=df_diamonds[\"depth\"], color = colors[1], ax = axes[0,1])\n",
    "sns.boxplot(y=df_diamonds[\"table\"], color = colors[2], ax = axes[0,2])\n",
    "sns.boxplot(y=df_diamonds[\"price\"], color = colors[3], ax = axes[0,3])\n",
    "sns.boxplot(y=df_diamonds[\"x\"], color = colors[4], ax = axes[1,0])\n",
    "sns.boxplot(y=df_diamonds[\"y\"], color = colors[5], ax = axes[1,1])\n",
    "sns.boxplot(y=df_diamonds[\"z\"], color = colors[6], ax = axes[1,2])\n",
    "\n",
    "plt.suptitle(\"Distribution of Quantitative Variables\", y = 1.01, size = 18)\n",
    "plt.tight_layout()\n",
    "plt.show()"
   ]
  },
  {
   "cell_type": "markdown",
   "id": "431e9bbe",
   "metadata": {},
   "source": [
    "### Categorical Coding & Data Splitting"
   ]
  },
  {
   "cell_type": "code",
   "execution_count": 13,
   "id": "8c3f9a6a",
   "metadata": {},
   "outputs": [],
   "source": [
    "weird_zeros = df_diamonds[(df_diamonds[\"x\"] == 0) | (df_diamonds[\"y\"] == 0) | (df_diamonds[\"z\"] == 0)]"
   ]
  },
  {
   "cell_type": "code",
   "execution_count": 14,
   "id": "831abaa8",
   "metadata": {},
   "outputs": [],
   "source": [
    "all_zeros = df_diamonds[(df_diamonds[\"x\"] == 0) & (df_diamonds[\"y\"] == 0) & (df_diamonds[\"z\"] == 0)]"
   ]
  },
  {
   "cell_type": "code",
   "execution_count": 15,
   "id": "12655ec2",
   "metadata": {},
   "outputs": [
    {
     "data": {
      "text/html": [
       "<div>\n",
       "<style scoped>\n",
       "    .dataframe tbody tr th:only-of-type {\n",
       "        vertical-align: middle;\n",
       "    }\n",
       "\n",
       "    .dataframe tbody tr th {\n",
       "        vertical-align: top;\n",
       "    }\n",
       "\n",
       "    .dataframe thead th {\n",
       "        text-align: right;\n",
       "    }\n",
       "</style>\n",
       "<table border=\"1\" class=\"dataframe\">\n",
       "  <thead>\n",
       "    <tr style=\"text-align: right;\">\n",
       "      <th></th>\n",
       "      <th>carat</th>\n",
       "      <th>cut</th>\n",
       "      <th>color</th>\n",
       "      <th>clarity</th>\n",
       "      <th>depth</th>\n",
       "      <th>table</th>\n",
       "      <th>price</th>\n",
       "      <th>x</th>\n",
       "      <th>y</th>\n",
       "      <th>z</th>\n",
       "    </tr>\n",
       "  </thead>\n",
       "  <tbody>\n",
       "    <tr>\n",
       "      <th>11963</th>\n",
       "      <td>1.00</td>\n",
       "      <td>Very Good</td>\n",
       "      <td>H</td>\n",
       "      <td>VS2</td>\n",
       "      <td>63.3</td>\n",
       "      <td>53.0</td>\n",
       "      <td>5139</td>\n",
       "      <td>0.0</td>\n",
       "      <td>0.0</td>\n",
       "      <td>0.0</td>\n",
       "    </tr>\n",
       "    <tr>\n",
       "      <th>15951</th>\n",
       "      <td>1.14</td>\n",
       "      <td>Fair</td>\n",
       "      <td>G</td>\n",
       "      <td>VS1</td>\n",
       "      <td>57.5</td>\n",
       "      <td>67.0</td>\n",
       "      <td>6381</td>\n",
       "      <td>0.0</td>\n",
       "      <td>0.0</td>\n",
       "      <td>0.0</td>\n",
       "    </tr>\n",
       "    <tr>\n",
       "      <th>24520</th>\n",
       "      <td>1.56</td>\n",
       "      <td>Ideal</td>\n",
       "      <td>G</td>\n",
       "      <td>VS2</td>\n",
       "      <td>62.2</td>\n",
       "      <td>54.0</td>\n",
       "      <td>12800</td>\n",
       "      <td>0.0</td>\n",
       "      <td>0.0</td>\n",
       "      <td>0.0</td>\n",
       "    </tr>\n",
       "    <tr>\n",
       "      <th>26243</th>\n",
       "      <td>1.20</td>\n",
       "      <td>Premium</td>\n",
       "      <td>D</td>\n",
       "      <td>VVS1</td>\n",
       "      <td>62.1</td>\n",
       "      <td>59.0</td>\n",
       "      <td>15686</td>\n",
       "      <td>0.0</td>\n",
       "      <td>0.0</td>\n",
       "      <td>0.0</td>\n",
       "    </tr>\n",
       "    <tr>\n",
       "      <th>27429</th>\n",
       "      <td>2.25</td>\n",
       "      <td>Premium</td>\n",
       "      <td>H</td>\n",
       "      <td>SI2</td>\n",
       "      <td>62.8</td>\n",
       "      <td>59.0</td>\n",
       "      <td>18034</td>\n",
       "      <td>0.0</td>\n",
       "      <td>0.0</td>\n",
       "      <td>0.0</td>\n",
       "    </tr>\n",
       "    <tr>\n",
       "      <th>49556</th>\n",
       "      <td>0.71</td>\n",
       "      <td>Good</td>\n",
       "      <td>F</td>\n",
       "      <td>SI2</td>\n",
       "      <td>64.1</td>\n",
       "      <td>60.0</td>\n",
       "      <td>2130</td>\n",
       "      <td>0.0</td>\n",
       "      <td>0.0</td>\n",
       "      <td>0.0</td>\n",
       "    </tr>\n",
       "    <tr>\n",
       "      <th>49557</th>\n",
       "      <td>0.71</td>\n",
       "      <td>Good</td>\n",
       "      <td>F</td>\n",
       "      <td>SI2</td>\n",
       "      <td>64.1</td>\n",
       "      <td>60.0</td>\n",
       "      <td>2130</td>\n",
       "      <td>0.0</td>\n",
       "      <td>0.0</td>\n",
       "      <td>0.0</td>\n",
       "    </tr>\n",
       "  </tbody>\n",
       "</table>\n",
       "</div>"
      ],
      "text/plain": [
       "       carat        cut color clarity  depth  table  price    x    y    z\n",
       "11963   1.00  Very Good     H     VS2   63.3   53.0   5139  0.0  0.0  0.0\n",
       "15951   1.14       Fair     G     VS1   57.5   67.0   6381  0.0  0.0  0.0\n",
       "24520   1.56      Ideal     G     VS2   62.2   54.0  12800  0.0  0.0  0.0\n",
       "26243   1.20    Premium     D    VVS1   62.1   59.0  15686  0.0  0.0  0.0\n",
       "27429   2.25    Premium     H     SI2   62.8   59.0  18034  0.0  0.0  0.0\n",
       "49556   0.71       Good     F     SI2   64.1   60.0   2130  0.0  0.0  0.0\n",
       "49557   0.71       Good     F     SI2   64.1   60.0   2130  0.0  0.0  0.0"
      ]
     },
     "execution_count": 15,
     "metadata": {},
     "output_type": "execute_result"
    }
   ],
   "source": [
    "all_zeros"
   ]
  },
  {
   "cell_type": "code",
   "execution_count": 16,
   "id": "ffc5687b",
   "metadata": {},
   "outputs": [
    {
     "data": {
      "text/plain": [
       "(20, 10)"
      ]
     },
     "execution_count": 16,
     "metadata": {},
     "output_type": "execute_result"
    }
   ],
   "source": [
    "weird_zeros.shape"
   ]
  },
  {
   "cell_type": "code",
   "execution_count": 17,
   "id": "a922f9a6",
   "metadata": {},
   "outputs": [
    {
     "data": {
      "text/html": [
       "<div>\n",
       "<style scoped>\n",
       "    .dataframe tbody tr th:only-of-type {\n",
       "        vertical-align: middle;\n",
       "    }\n",
       "\n",
       "    .dataframe tbody tr th {\n",
       "        vertical-align: top;\n",
       "    }\n",
       "\n",
       "    .dataframe thead th {\n",
       "        text-align: right;\n",
       "    }\n",
       "</style>\n",
       "<table border=\"1\" class=\"dataframe\">\n",
       "  <thead>\n",
       "    <tr style=\"text-align: right;\">\n",
       "      <th></th>\n",
       "      <th>carat</th>\n",
       "      <th>cut</th>\n",
       "      <th>color</th>\n",
       "      <th>clarity</th>\n",
       "      <th>depth</th>\n",
       "      <th>table</th>\n",
       "      <th>price</th>\n",
       "      <th>x</th>\n",
       "      <th>y</th>\n",
       "      <th>z</th>\n",
       "    </tr>\n",
       "  </thead>\n",
       "  <tbody>\n",
       "    <tr>\n",
       "      <th>2207</th>\n",
       "      <td>1.00</td>\n",
       "      <td>Premium</td>\n",
       "      <td>G</td>\n",
       "      <td>SI2</td>\n",
       "      <td>59.1</td>\n",
       "      <td>59.0</td>\n",
       "      <td>3142</td>\n",
       "      <td>6.55</td>\n",
       "      <td>6.48</td>\n",
       "      <td>0.0</td>\n",
       "    </tr>\n",
       "    <tr>\n",
       "      <th>2314</th>\n",
       "      <td>1.01</td>\n",
       "      <td>Premium</td>\n",
       "      <td>H</td>\n",
       "      <td>I1</td>\n",
       "      <td>58.1</td>\n",
       "      <td>59.0</td>\n",
       "      <td>3167</td>\n",
       "      <td>6.66</td>\n",
       "      <td>6.60</td>\n",
       "      <td>0.0</td>\n",
       "    </tr>\n",
       "    <tr>\n",
       "      <th>4791</th>\n",
       "      <td>1.10</td>\n",
       "      <td>Premium</td>\n",
       "      <td>G</td>\n",
       "      <td>SI2</td>\n",
       "      <td>63.0</td>\n",
       "      <td>59.0</td>\n",
       "      <td>3696</td>\n",
       "      <td>6.50</td>\n",
       "      <td>6.47</td>\n",
       "      <td>0.0</td>\n",
       "    </tr>\n",
       "    <tr>\n",
       "      <th>5471</th>\n",
       "      <td>1.01</td>\n",
       "      <td>Premium</td>\n",
       "      <td>F</td>\n",
       "      <td>SI2</td>\n",
       "      <td>59.2</td>\n",
       "      <td>58.0</td>\n",
       "      <td>3837</td>\n",
       "      <td>6.50</td>\n",
       "      <td>6.47</td>\n",
       "      <td>0.0</td>\n",
       "    </tr>\n",
       "    <tr>\n",
       "      <th>10167</th>\n",
       "      <td>1.50</td>\n",
       "      <td>Good</td>\n",
       "      <td>G</td>\n",
       "      <td>I1</td>\n",
       "      <td>64.0</td>\n",
       "      <td>61.0</td>\n",
       "      <td>4731</td>\n",
       "      <td>7.15</td>\n",
       "      <td>7.04</td>\n",
       "      <td>0.0</td>\n",
       "    </tr>\n",
       "    <tr>\n",
       "      <th>11182</th>\n",
       "      <td>1.07</td>\n",
       "      <td>Ideal</td>\n",
       "      <td>F</td>\n",
       "      <td>SI2</td>\n",
       "      <td>61.6</td>\n",
       "      <td>56.0</td>\n",
       "      <td>4954</td>\n",
       "      <td>0.00</td>\n",
       "      <td>6.62</td>\n",
       "      <td>0.0</td>\n",
       "    </tr>\n",
       "    <tr>\n",
       "      <th>11963</th>\n",
       "      <td>1.00</td>\n",
       "      <td>Very Good</td>\n",
       "      <td>H</td>\n",
       "      <td>VS2</td>\n",
       "      <td>63.3</td>\n",
       "      <td>53.0</td>\n",
       "      <td>5139</td>\n",
       "      <td>0.00</td>\n",
       "      <td>0.00</td>\n",
       "      <td>0.0</td>\n",
       "    </tr>\n",
       "    <tr>\n",
       "      <th>13601</th>\n",
       "      <td>1.15</td>\n",
       "      <td>Ideal</td>\n",
       "      <td>G</td>\n",
       "      <td>VS2</td>\n",
       "      <td>59.2</td>\n",
       "      <td>56.0</td>\n",
       "      <td>5564</td>\n",
       "      <td>6.88</td>\n",
       "      <td>6.83</td>\n",
       "      <td>0.0</td>\n",
       "    </tr>\n",
       "    <tr>\n",
       "      <th>15951</th>\n",
       "      <td>1.14</td>\n",
       "      <td>Fair</td>\n",
       "      <td>G</td>\n",
       "      <td>VS1</td>\n",
       "      <td>57.5</td>\n",
       "      <td>67.0</td>\n",
       "      <td>6381</td>\n",
       "      <td>0.00</td>\n",
       "      <td>0.00</td>\n",
       "      <td>0.0</td>\n",
       "    </tr>\n",
       "    <tr>\n",
       "      <th>24394</th>\n",
       "      <td>2.18</td>\n",
       "      <td>Premium</td>\n",
       "      <td>H</td>\n",
       "      <td>SI2</td>\n",
       "      <td>59.4</td>\n",
       "      <td>61.0</td>\n",
       "      <td>12631</td>\n",
       "      <td>8.49</td>\n",
       "      <td>8.45</td>\n",
       "      <td>0.0</td>\n",
       "    </tr>\n",
       "    <tr>\n",
       "      <th>24520</th>\n",
       "      <td>1.56</td>\n",
       "      <td>Ideal</td>\n",
       "      <td>G</td>\n",
       "      <td>VS2</td>\n",
       "      <td>62.2</td>\n",
       "      <td>54.0</td>\n",
       "      <td>12800</td>\n",
       "      <td>0.00</td>\n",
       "      <td>0.00</td>\n",
       "      <td>0.0</td>\n",
       "    </tr>\n",
       "    <tr>\n",
       "      <th>26123</th>\n",
       "      <td>2.25</td>\n",
       "      <td>Premium</td>\n",
       "      <td>I</td>\n",
       "      <td>SI1</td>\n",
       "      <td>61.3</td>\n",
       "      <td>58.0</td>\n",
       "      <td>15397</td>\n",
       "      <td>8.52</td>\n",
       "      <td>8.42</td>\n",
       "      <td>0.0</td>\n",
       "    </tr>\n",
       "    <tr>\n",
       "      <th>26243</th>\n",
       "      <td>1.20</td>\n",
       "      <td>Premium</td>\n",
       "      <td>D</td>\n",
       "      <td>VVS1</td>\n",
       "      <td>62.1</td>\n",
       "      <td>59.0</td>\n",
       "      <td>15686</td>\n",
       "      <td>0.00</td>\n",
       "      <td>0.00</td>\n",
       "      <td>0.0</td>\n",
       "    </tr>\n",
       "    <tr>\n",
       "      <th>27112</th>\n",
       "      <td>2.20</td>\n",
       "      <td>Premium</td>\n",
       "      <td>H</td>\n",
       "      <td>SI1</td>\n",
       "      <td>61.2</td>\n",
       "      <td>59.0</td>\n",
       "      <td>17265</td>\n",
       "      <td>8.42</td>\n",
       "      <td>8.37</td>\n",
       "      <td>0.0</td>\n",
       "    </tr>\n",
       "    <tr>\n",
       "      <th>27429</th>\n",
       "      <td>2.25</td>\n",
       "      <td>Premium</td>\n",
       "      <td>H</td>\n",
       "      <td>SI2</td>\n",
       "      <td>62.8</td>\n",
       "      <td>59.0</td>\n",
       "      <td>18034</td>\n",
       "      <td>0.00</td>\n",
       "      <td>0.00</td>\n",
       "      <td>0.0</td>\n",
       "    </tr>\n",
       "    <tr>\n",
       "      <th>27503</th>\n",
       "      <td>2.02</td>\n",
       "      <td>Premium</td>\n",
       "      <td>H</td>\n",
       "      <td>VS2</td>\n",
       "      <td>62.7</td>\n",
       "      <td>53.0</td>\n",
       "      <td>18207</td>\n",
       "      <td>8.02</td>\n",
       "      <td>7.95</td>\n",
       "      <td>0.0</td>\n",
       "    </tr>\n",
       "    <tr>\n",
       "      <th>27739</th>\n",
       "      <td>2.80</td>\n",
       "      <td>Good</td>\n",
       "      <td>G</td>\n",
       "      <td>SI2</td>\n",
       "      <td>63.8</td>\n",
       "      <td>58.0</td>\n",
       "      <td>18788</td>\n",
       "      <td>8.90</td>\n",
       "      <td>8.85</td>\n",
       "      <td>0.0</td>\n",
       "    </tr>\n",
       "    <tr>\n",
       "      <th>49556</th>\n",
       "      <td>0.71</td>\n",
       "      <td>Good</td>\n",
       "      <td>F</td>\n",
       "      <td>SI2</td>\n",
       "      <td>64.1</td>\n",
       "      <td>60.0</td>\n",
       "      <td>2130</td>\n",
       "      <td>0.00</td>\n",
       "      <td>0.00</td>\n",
       "      <td>0.0</td>\n",
       "    </tr>\n",
       "    <tr>\n",
       "      <th>49557</th>\n",
       "      <td>0.71</td>\n",
       "      <td>Good</td>\n",
       "      <td>F</td>\n",
       "      <td>SI2</td>\n",
       "      <td>64.1</td>\n",
       "      <td>60.0</td>\n",
       "      <td>2130</td>\n",
       "      <td>0.00</td>\n",
       "      <td>0.00</td>\n",
       "      <td>0.0</td>\n",
       "    </tr>\n",
       "    <tr>\n",
       "      <th>51506</th>\n",
       "      <td>1.12</td>\n",
       "      <td>Premium</td>\n",
       "      <td>G</td>\n",
       "      <td>I1</td>\n",
       "      <td>60.4</td>\n",
       "      <td>59.0</td>\n",
       "      <td>2383</td>\n",
       "      <td>6.71</td>\n",
       "      <td>6.67</td>\n",
       "      <td>0.0</td>\n",
       "    </tr>\n",
       "  </tbody>\n",
       "</table>\n",
       "</div>"
      ],
      "text/plain": [
       "       carat        cut color clarity  depth  table  price     x     y    z\n",
       "2207    1.00    Premium     G     SI2   59.1   59.0   3142  6.55  6.48  0.0\n",
       "2314    1.01    Premium     H      I1   58.1   59.0   3167  6.66  6.60  0.0\n",
       "4791    1.10    Premium     G     SI2   63.0   59.0   3696  6.50  6.47  0.0\n",
       "5471    1.01    Premium     F     SI2   59.2   58.0   3837  6.50  6.47  0.0\n",
       "10167   1.50       Good     G      I1   64.0   61.0   4731  7.15  7.04  0.0\n",
       "11182   1.07      Ideal     F     SI2   61.6   56.0   4954  0.00  6.62  0.0\n",
       "11963   1.00  Very Good     H     VS2   63.3   53.0   5139  0.00  0.00  0.0\n",
       "13601   1.15      Ideal     G     VS2   59.2   56.0   5564  6.88  6.83  0.0\n",
       "15951   1.14       Fair     G     VS1   57.5   67.0   6381  0.00  0.00  0.0\n",
       "24394   2.18    Premium     H     SI2   59.4   61.0  12631  8.49  8.45  0.0\n",
       "24520   1.56      Ideal     G     VS2   62.2   54.0  12800  0.00  0.00  0.0\n",
       "26123   2.25    Premium     I     SI1   61.3   58.0  15397  8.52  8.42  0.0\n",
       "26243   1.20    Premium     D    VVS1   62.1   59.0  15686  0.00  0.00  0.0\n",
       "27112   2.20    Premium     H     SI1   61.2   59.0  17265  8.42  8.37  0.0\n",
       "27429   2.25    Premium     H     SI2   62.8   59.0  18034  0.00  0.00  0.0\n",
       "27503   2.02    Premium     H     VS2   62.7   53.0  18207  8.02  7.95  0.0\n",
       "27739   2.80       Good     G     SI2   63.8   58.0  18788  8.90  8.85  0.0\n",
       "49556   0.71       Good     F     SI2   64.1   60.0   2130  0.00  0.00  0.0\n",
       "49557   0.71       Good     F     SI2   64.1   60.0   2130  0.00  0.00  0.0\n",
       "51506   1.12    Premium     G      I1   60.4   59.0   2383  6.71  6.67  0.0"
      ]
     },
     "execution_count": 17,
     "metadata": {},
     "output_type": "execute_result"
    }
   ],
   "source": [
    "weird_zeros"
   ]
  },
  {
   "cell_type": "code",
   "execution_count": 18,
   "id": "a5cb69d4",
   "metadata": {},
   "outputs": [],
   "source": [
    "#copy the original data frame\n",
    "df_diamondsX = df_diamonds.copy()"
   ]
  },
  {
   "cell_type": "code",
   "execution_count": 19,
   "id": "55ae938c",
   "metadata": {},
   "outputs": [],
   "source": [
    "#opposite with the data + drop null values\n",
    "df_diamondsX = df_diamondsX[~df_diamondsX.isin(weird_zeros)].dropna(how= \"all\")"
   ]
  },
  {
   "cell_type": "code",
   "execution_count": 20,
   "id": "af6a0896",
   "metadata": {},
   "outputs": [
    {
     "data": {
      "text/plain": [
       "(53920, 10)"
      ]
     },
     "execution_count": 20,
     "metadata": {},
     "output_type": "execute_result"
    }
   ],
   "source": [
    "#total count = 53940\n",
    "#-weird_zeros = 20\n",
    "#53920\n",
    "df_diamondsX.shape"
   ]
  },
  {
   "cell_type": "code",
   "execution_count": 21,
   "id": "e684f322",
   "metadata": {},
   "outputs": [
    {
     "data": {
      "image/png": "[encoded data removed]",
      "text/plain": [
       "<Figure size 720x432 with 3 Axes>"
      ]
     },
     "metadata": {
      "needs_background": "light"
     },
     "output_type": "display_data"
    }
   ],
   "source": [
    "fig, axes = plt.subplots(1, 3, figsize=(10, 6))\n",
    "\n",
    "sns.countplot(x=\"cut\", data=df_diamonds, ax=axes[0])\n",
    "sns.countplot(x=\"color\", data=df_diamonds, ax=axes[1])\n",
    "sns.countplot(x=\"clarity\", data=df_diamonds, ax=axes[2])\n",
    "\n",
    "#quick look at the categorical variable\n",
    "for ax in fig.axes:\n",
    "    ax.tick_params(labelrotation=90)\n",
    "    \n",
    "plt.suptitle(\"Categorical Variables\", y= 1.01, size = 18)\n",
    "plt.tight_layout()\n",
    "plt.show()"
   ]
  },
  {
   "cell_type": "markdown",
   "id": "e23b573f",
   "metadata": {},
   "source": [
    "#### One-Hot-Encoding"
   ]
  },
  {
   "cell_type": "code",
   "execution_count": 22,
   "id": "d5aacc6f",
   "metadata": {},
   "outputs": [
    {
     "data": {
      "text/html": [
       "<div>\n",
       "<style scoped>\n",
       "    .dataframe tbody tr th:only-of-type {\n",
       "        vertical-align: middle;\n",
       "    }\n",
       "\n",
       "    .dataframe tbody tr th {\n",
       "        vertical-align: top;\n",
       "    }\n",
       "\n",
       "    .dataframe thead th {\n",
       "        text-align: right;\n",
       "    }\n",
       "</style>\n",
       "<table border=\"1\" class=\"dataframe\">\n",
       "  <thead>\n",
       "    <tr style=\"text-align: right;\">\n",
       "      <th></th>\n",
       "      <th>Ideal</th>\n",
       "      <th>Premium</th>\n",
       "      <th>Very Good</th>\n",
       "      <th>Good</th>\n",
       "      <th>Fair</th>\n",
       "    </tr>\n",
       "  </thead>\n",
       "  <tbody>\n",
       "    <tr>\n",
       "      <th>0</th>\n",
       "      <td>True</td>\n",
       "      <td>False</td>\n",
       "      <td>False</td>\n",
       "      <td>False</td>\n",
       "      <td>False</td>\n",
       "    </tr>\n",
       "    <tr>\n",
       "      <th>1</th>\n",
       "      <td>False</td>\n",
       "      <td>True</td>\n",
       "      <td>False</td>\n",
       "      <td>False</td>\n",
       "      <td>False</td>\n",
       "    </tr>\n",
       "    <tr>\n",
       "      <th>2</th>\n",
       "      <td>False</td>\n",
       "      <td>False</td>\n",
       "      <td>False</td>\n",
       "      <td>True</td>\n",
       "      <td>False</td>\n",
       "    </tr>\n",
       "    <tr>\n",
       "      <th>3</th>\n",
       "      <td>False</td>\n",
       "      <td>True</td>\n",
       "      <td>False</td>\n",
       "      <td>False</td>\n",
       "      <td>False</td>\n",
       "    </tr>\n",
       "    <tr>\n",
       "      <th>4</th>\n",
       "      <td>False</td>\n",
       "      <td>False</td>\n",
       "      <td>False</td>\n",
       "      <td>True</td>\n",
       "      <td>False</td>\n",
       "    </tr>\n",
       "    <tr>\n",
       "      <th>...</th>\n",
       "      <td>...</td>\n",
       "      <td>...</td>\n",
       "      <td>...</td>\n",
       "      <td>...</td>\n",
       "      <td>...</td>\n",
       "    </tr>\n",
       "    <tr>\n",
       "      <th>53935</th>\n",
       "      <td>True</td>\n",
       "      <td>False</td>\n",
       "      <td>False</td>\n",
       "      <td>False</td>\n",
       "      <td>False</td>\n",
       "    </tr>\n",
       "    <tr>\n",
       "      <th>53936</th>\n",
       "      <td>False</td>\n",
       "      <td>False</td>\n",
       "      <td>False</td>\n",
       "      <td>True</td>\n",
       "      <td>False</td>\n",
       "    </tr>\n",
       "    <tr>\n",
       "      <th>53937</th>\n",
       "      <td>False</td>\n",
       "      <td>False</td>\n",
       "      <td>True</td>\n",
       "      <td>False</td>\n",
       "      <td>False</td>\n",
       "    </tr>\n",
       "    <tr>\n",
       "      <th>53938</th>\n",
       "      <td>False</td>\n",
       "      <td>True</td>\n",
       "      <td>False</td>\n",
       "      <td>False</td>\n",
       "      <td>False</td>\n",
       "    </tr>\n",
       "    <tr>\n",
       "      <th>53939</th>\n",
       "      <td>True</td>\n",
       "      <td>False</td>\n",
       "      <td>False</td>\n",
       "      <td>False</td>\n",
       "      <td>False</td>\n",
       "    </tr>\n",
       "  </tbody>\n",
       "</table>\n",
       "<p>53920 rows × 5 columns</p>\n",
       "</div>"
      ],
      "text/plain": [
       "       Ideal  Premium  Very Good   Good   Fair\n",
       "0       True    False      False  False  False\n",
       "1      False     True      False  False  False\n",
       "2      False    False      False   True  False\n",
       "3      False     True      False  False  False\n",
       "4      False    False      False   True  False\n",
       "...      ...      ...        ...    ...    ...\n",
       "53935   True    False      False  False  False\n",
       "53936  False    False      False   True  False\n",
       "53937  False    False       True  False  False\n",
       "53938  False     True      False  False  False\n",
       "53939   True    False      False  False  False\n",
       "\n",
       "[53920 rows x 5 columns]"
      ]
     },
     "execution_count": 22,
     "metadata": {},
     "output_type": "execute_result"
    }
   ],
   "source": [
    "new_cols = pd.get_dummies(df_diamondsX[\"cut\"])\n",
    "new_cols"
   ]
  },
  {
   "cell_type": "code",
   "execution_count": 23,
   "id": "839d96e0",
   "metadata": {},
   "outputs": [],
   "source": [
    "#redefine the dataframe\n",
    "df_diamondsX = df_diamondsX.drop([\"color\",\"clarity\",\"cut\"], axis = 1)"
   ]
  },
  {
   "cell_type": "code",
   "execution_count": 24,
   "id": "b9a98add",
   "metadata": {},
   "outputs": [
    {
     "data": {
      "text/html": [
       "<div>\n",
       "<style scoped>\n",
       "    .dataframe tbody tr th:only-of-type {\n",
       "        vertical-align: middle;\n",
       "    }\n",
       "\n",
       "    .dataframe tbody tr th {\n",
       "        vertical-align: top;\n",
       "    }\n",
       "\n",
       "    .dataframe thead th {\n",
       "        text-align: right;\n",
       "    }\n",
       "</style>\n",
       "<table border=\"1\" class=\"dataframe\">\n",
       "  <thead>\n",
       "    <tr style=\"text-align: right;\">\n",
       "      <th></th>\n",
       "      <th>carat</th>\n",
       "      <th>depth</th>\n",
       "      <th>table</th>\n",
       "      <th>price</th>\n",
       "      <th>x</th>\n",
       "      <th>y</th>\n",
       "      <th>z</th>\n",
       "    </tr>\n",
       "  </thead>\n",
       "  <tbody>\n",
       "    <tr>\n",
       "      <th>0</th>\n",
       "      <td>0.23</td>\n",
       "      <td>61.5</td>\n",
       "      <td>55.0</td>\n",
       "      <td>326.0</td>\n",
       "      <td>3.95</td>\n",
       "      <td>3.98</td>\n",
       "      <td>2.43</td>\n",
       "    </tr>\n",
       "    <tr>\n",
       "      <th>1</th>\n",
       "      <td>0.21</td>\n",
       "      <td>59.8</td>\n",
       "      <td>61.0</td>\n",
       "      <td>326.0</td>\n",
       "      <td>3.89</td>\n",
       "      <td>3.84</td>\n",
       "      <td>2.31</td>\n",
       "    </tr>\n",
       "    <tr>\n",
       "      <th>2</th>\n",
       "      <td>0.23</td>\n",
       "      <td>56.9</td>\n",
       "      <td>65.0</td>\n",
       "      <td>327.0</td>\n",
       "      <td>4.05</td>\n",
       "      <td>4.07</td>\n",
       "      <td>2.31</td>\n",
       "    </tr>\n",
       "    <tr>\n",
       "      <th>3</th>\n",
       "      <td>0.29</td>\n",
       "      <td>62.4</td>\n",
       "      <td>58.0</td>\n",
       "      <td>334.0</td>\n",
       "      <td>4.20</td>\n",
       "      <td>4.23</td>\n",
       "      <td>2.63</td>\n",
       "    </tr>\n",
       "    <tr>\n",
       "      <th>4</th>\n",
       "      <td>0.31</td>\n",
       "      <td>63.3</td>\n",
       "      <td>58.0</td>\n",
       "      <td>335.0</td>\n",
       "      <td>4.34</td>\n",
       "      <td>4.35</td>\n",
       "      <td>2.75</td>\n",
       "    </tr>\n",
       "    <tr>\n",
       "      <th>...</th>\n",
       "      <td>...</td>\n",
       "      <td>...</td>\n",
       "      <td>...</td>\n",
       "      <td>...</td>\n",
       "      <td>...</td>\n",
       "      <td>...</td>\n",
       "      <td>...</td>\n",
       "    </tr>\n",
       "    <tr>\n",
       "      <th>53935</th>\n",
       "      <td>0.72</td>\n",
       "      <td>60.8</td>\n",
       "      <td>57.0</td>\n",
       "      <td>2757.0</td>\n",
       "      <td>5.75</td>\n",
       "      <td>5.76</td>\n",
       "      <td>3.50</td>\n",
       "    </tr>\n",
       "    <tr>\n",
       "      <th>53936</th>\n",
       "      <td>0.72</td>\n",
       "      <td>63.1</td>\n",
       "      <td>55.0</td>\n",
       "      <td>2757.0</td>\n",
       "      <td>5.69</td>\n",
       "      <td>5.75</td>\n",
       "      <td>3.61</td>\n",
       "    </tr>\n",
       "    <tr>\n",
       "      <th>53937</th>\n",
       "      <td>0.70</td>\n",
       "      <td>62.8</td>\n",
       "      <td>60.0</td>\n",
       "      <td>2757.0</td>\n",
       "      <td>5.66</td>\n",
       "      <td>5.68</td>\n",
       "      <td>3.56</td>\n",
       "    </tr>\n",
       "    <tr>\n",
       "      <th>53938</th>\n",
       "      <td>0.86</td>\n",
       "      <td>61.0</td>\n",
       "      <td>58.0</td>\n",
       "      <td>2757.0</td>\n",
       "      <td>6.15</td>\n",
       "      <td>6.12</td>\n",
       "      <td>3.74</td>\n",
       "    </tr>\n",
       "    <tr>\n",
       "      <th>53939</th>\n",
       "      <td>0.75</td>\n",
       "      <td>62.2</td>\n",
       "      <td>55.0</td>\n",
       "      <td>2757.0</td>\n",
       "      <td>5.83</td>\n",
       "      <td>5.87</td>\n",
       "      <td>3.64</td>\n",
       "    </tr>\n",
       "  </tbody>\n",
       "</table>\n",
       "<p>53920 rows × 7 columns</p>\n",
       "</div>"
      ],
      "text/plain": [
       "       carat  depth  table   price     x     y     z\n",
       "0       0.23   61.5   55.0   326.0  3.95  3.98  2.43\n",
       "1       0.21   59.8   61.0   326.0  3.89  3.84  2.31\n",
       "2       0.23   56.9   65.0   327.0  4.05  4.07  2.31\n",
       "3       0.29   62.4   58.0   334.0  4.20  4.23  2.63\n",
       "4       0.31   63.3   58.0   335.0  4.34  4.35  2.75\n",
       "...      ...    ...    ...     ...   ...   ...   ...\n",
       "53935   0.72   60.8   57.0  2757.0  5.75  5.76  3.50\n",
       "53936   0.72   63.1   55.0  2757.0  5.69  5.75  3.61\n",
       "53937   0.70   62.8   60.0  2757.0  5.66  5.68  3.56\n",
       "53938   0.86   61.0   58.0  2757.0  6.15  6.12  3.74\n",
       "53939   0.75   62.2   55.0  2757.0  5.83  5.87  3.64\n",
       "\n",
       "[53920 rows x 7 columns]"
      ]
     },
     "execution_count": 24,
     "metadata": {},
     "output_type": "execute_result"
    }
   ],
   "source": [
    "df_diamondsX"
   ]
  },
  {
   "cell_type": "code",
   "execution_count": 25,
   "id": "54117937",
   "metadata": {},
   "outputs": [],
   "source": [
    "#put all together\n",
    "df = pd.concat([df_diamondsX, new_cols], axis = 1)"
   ]
  },
  {
   "cell_type": "code",
   "execution_count": 26,
   "id": "51259a57",
   "metadata": {},
   "outputs": [
    {
     "data": {
      "text/html": [
       "<div>\n",
       "<style scoped>\n",
       "    .dataframe tbody tr th:only-of-type {\n",
       "        vertical-align: middle;\n",
       "    }\n",
       "\n",
       "    .dataframe tbody tr th {\n",
       "        vertical-align: top;\n",
       "    }\n",
       "\n",
       "    .dataframe thead th {\n",
       "        text-align: right;\n",
       "    }\n",
       "</style>\n",
       "<table border=\"1\" class=\"dataframe\">\n",
       "  <thead>\n",
       "    <tr style=\"text-align: right;\">\n",
       "      <th></th>\n",
       "      <th>carat</th>\n",
       "      <th>depth</th>\n",
       "      <th>table</th>\n",
       "      <th>price</th>\n",
       "      <th>x</th>\n",
       "      <th>y</th>\n",
       "      <th>z</th>\n",
       "      <th>Ideal</th>\n",
       "      <th>Premium</th>\n",
       "      <th>Very Good</th>\n",
       "      <th>Good</th>\n",
       "      <th>Fair</th>\n",
       "    </tr>\n",
       "  </thead>\n",
       "  <tbody>\n",
       "    <tr>\n",
       "      <th>0</th>\n",
       "      <td>0.23</td>\n",
       "      <td>61.5</td>\n",
       "      <td>55.0</td>\n",
       "      <td>326.0</td>\n",
       "      <td>3.95</td>\n",
       "      <td>3.98</td>\n",
       "      <td>2.43</td>\n",
       "      <td>True</td>\n",
       "      <td>False</td>\n",
       "      <td>False</td>\n",
       "      <td>False</td>\n",
       "      <td>False</td>\n",
       "    </tr>\n",
       "    <tr>\n",
       "      <th>1</th>\n",
       "      <td>0.21</td>\n",
       "      <td>59.8</td>\n",
       "      <td>61.0</td>\n",
       "      <td>326.0</td>\n",
       "      <td>3.89</td>\n",
       "      <td>3.84</td>\n",
       "      <td>2.31</td>\n",
       "      <td>False</td>\n",
       "      <td>True</td>\n",
       "      <td>False</td>\n",
       "      <td>False</td>\n",
       "      <td>False</td>\n",
       "    </tr>\n",
       "    <tr>\n",
       "      <th>2</th>\n",
       "      <td>0.23</td>\n",
       "      <td>56.9</td>\n",
       "      <td>65.0</td>\n",
       "      <td>327.0</td>\n",
       "      <td>4.05</td>\n",
       "      <td>4.07</td>\n",
       "      <td>2.31</td>\n",
       "      <td>False</td>\n",
       "      <td>False</td>\n",
       "      <td>False</td>\n",
       "      <td>True</td>\n",
       "      <td>False</td>\n",
       "    </tr>\n",
       "    <tr>\n",
       "      <th>3</th>\n",
       "      <td>0.29</td>\n",
       "      <td>62.4</td>\n",
       "      <td>58.0</td>\n",
       "      <td>334.0</td>\n",
       "      <td>4.20</td>\n",
       "      <td>4.23</td>\n",
       "      <td>2.63</td>\n",
       "      <td>False</td>\n",
       "      <td>True</td>\n",
       "      <td>False</td>\n",
       "      <td>False</td>\n",
       "      <td>False</td>\n",
       "    </tr>\n",
       "    <tr>\n",
       "      <th>4</th>\n",
       "      <td>0.31</td>\n",
       "      <td>63.3</td>\n",
       "      <td>58.0</td>\n",
       "      <td>335.0</td>\n",
       "      <td>4.34</td>\n",
       "      <td>4.35</td>\n",
       "      <td>2.75</td>\n",
       "      <td>False</td>\n",
       "      <td>False</td>\n",
       "      <td>False</td>\n",
       "      <td>True</td>\n",
       "      <td>False</td>\n",
       "    </tr>\n",
       "    <tr>\n",
       "      <th>...</th>\n",
       "      <td>...</td>\n",
       "      <td>...</td>\n",
       "      <td>...</td>\n",
       "      <td>...</td>\n",
       "      <td>...</td>\n",
       "      <td>...</td>\n",
       "      <td>...</td>\n",
       "      <td>...</td>\n",
       "      <td>...</td>\n",
       "      <td>...</td>\n",
       "      <td>...</td>\n",
       "      <td>...</td>\n",
       "    </tr>\n",
       "    <tr>\n",
       "      <th>53935</th>\n",
       "      <td>0.72</td>\n",
       "      <td>60.8</td>\n",
       "      <td>57.0</td>\n",
       "      <td>2757.0</td>\n",
       "      <td>5.75</td>\n",
       "      <td>5.76</td>\n",
       "      <td>3.50</td>\n",
       "      <td>True</td>\n",
       "      <td>False</td>\n",
       "      <td>False</td>\n",
       "      <td>False</td>\n",
       "      <td>False</td>\n",
       "    </tr>\n",
       "    <tr>\n",
       "      <th>53936</th>\n",
       "      <td>0.72</td>\n",
       "      <td>63.1</td>\n",
       "      <td>55.0</td>\n",
       "      <td>2757.0</td>\n",
       "      <td>5.69</td>\n",
       "      <td>5.75</td>\n",
       "      <td>3.61</td>\n",
       "      <td>False</td>\n",
       "      <td>False</td>\n",
       "      <td>False</td>\n",
       "      <td>True</td>\n",
       "      <td>False</td>\n",
       "    </tr>\n",
       "    <tr>\n",
       "      <th>53937</th>\n",
       "      <td>0.70</td>\n",
       "      <td>62.8</td>\n",
       "      <td>60.0</td>\n",
       "      <td>2757.0</td>\n",
       "      <td>5.66</td>\n",
       "      <td>5.68</td>\n",
       "      <td>3.56</td>\n",
       "      <td>False</td>\n",
       "      <td>False</td>\n",
       "      <td>True</td>\n",
       "      <td>False</td>\n",
       "      <td>False</td>\n",
       "    </tr>\n",
       "    <tr>\n",
       "      <th>53938</th>\n",
       "      <td>0.86</td>\n",
       "      <td>61.0</td>\n",
       "      <td>58.0</td>\n",
       "      <td>2757.0</td>\n",
       "      <td>6.15</td>\n",
       "      <td>6.12</td>\n",
       "      <td>3.74</td>\n",
       "      <td>False</td>\n",
       "      <td>True</td>\n",
       "      <td>False</td>\n",
       "      <td>False</td>\n",
       "      <td>False</td>\n",
       "    </tr>\n",
       "    <tr>\n",
       "      <th>53939</th>\n",
       "      <td>0.75</td>\n",
       "      <td>62.2</td>\n",
       "      <td>55.0</td>\n",
       "      <td>2757.0</td>\n",
       "      <td>5.83</td>\n",
       "      <td>5.87</td>\n",
       "      <td>3.64</td>\n",
       "      <td>True</td>\n",
       "      <td>False</td>\n",
       "      <td>False</td>\n",
       "      <td>False</td>\n",
       "      <td>False</td>\n",
       "    </tr>\n",
       "  </tbody>\n",
       "</table>\n",
       "<p>53920 rows × 12 columns</p>\n",
       "</div>"
      ],
      "text/plain": [
       "       carat  depth  table   price     x     y     z  Ideal  Premium  \\\n",
       "0       0.23   61.5   55.0   326.0  3.95  3.98  2.43   True    False   \n",
       "1       0.21   59.8   61.0   326.0  3.89  3.84  2.31  False     True   \n",
       "2       0.23   56.9   65.0   327.0  4.05  4.07  2.31  False    False   \n",
       "3       0.29   62.4   58.0   334.0  4.20  4.23  2.63  False     True   \n",
       "4       0.31   63.3   58.0   335.0  4.34  4.35  2.75  False    False   \n",
       "...      ...    ...    ...     ...   ...   ...   ...    ...      ...   \n",
       "53935   0.72   60.8   57.0  2757.0  5.75  5.76  3.50   True    False   \n",
       "53936   0.72   63.1   55.0  2757.0  5.69  5.75  3.61  False    False   \n",
       "53937   0.70   62.8   60.0  2757.0  5.66  5.68  3.56  False    False   \n",
       "53938   0.86   61.0   58.0  2757.0  6.15  6.12  3.74  False     True   \n",
       "53939   0.75   62.2   55.0  2757.0  5.83  5.87  3.64   True    False   \n",
       "\n",
       "       Very Good   Good   Fair  \n",
       "0          False  False  False  \n",
       "1          False  False  False  \n",
       "2          False   True  False  \n",
       "3          False  False  False  \n",
       "4          False   True  False  \n",
       "...          ...    ...    ...  \n",
       "53935      False  False  False  \n",
       "53936      False   True  False  \n",
       "53937       True  False  False  \n",
       "53938      False  False  False  \n",
       "53939      False  False  False  \n",
       "\n",
       "[53920 rows x 12 columns]"
      ]
     },
     "execution_count": 26,
     "metadata": {},
     "output_type": "execute_result"
    }
   ],
   "source": [
    "df"
   ]
  },
  {
   "cell_type": "code",
   "execution_count": 27,
   "id": "dd819010",
   "metadata": {},
   "outputs": [
    {
     "name": "stdout",
     "output_type": "stream",
     "text": [
      "<class 'pandas.core.frame.DataFrame'>\n",
      "Index: 53920 entries, 0 to 53939\n",
      "Data columns (total 12 columns):\n",
      " #   Column     Non-Null Count  Dtype  \n",
      "---  ------     --------------  -----  \n",
      " 0   carat      53920 non-null  float64\n",
      " 1   depth      53920 non-null  float64\n",
      " 2   table      53920 non-null  float64\n",
      " 3   price      53920 non-null  float64\n",
      " 4   x          53920 non-null  float64\n",
      " 5   y          53920 non-null  float64\n",
      " 6   z          53920 non-null  float64\n",
      " 7   Ideal      53920 non-null  bool   \n",
      " 8   Premium    53920 non-null  bool   \n",
      " 9   Very Good  53920 non-null  bool   \n",
      " 10  Good       53920 non-null  bool   \n",
      " 11  Fair       53920 non-null  bool   \n",
      "dtypes: bool(5), float64(7)\n",
      "memory usage: 3.5 MB\n"
     ]
    }
   ],
   "source": [
    "df.info()"
   ]
  },
  {
   "cell_type": "markdown",
   "id": "2da44510",
   "metadata": {},
   "source": [
    "#### Splitting the data"
   ]
  },
  {
   "cell_type": "code",
   "execution_count": 28,
   "id": "b604e1e7",
   "metadata": {},
   "outputs": [],
   "source": [
    "train_df, test_df = train_test_split(df, test_size = 0.3, random_state = 32)"
   ]
  },
  {
   "cell_type": "code",
   "execution_count": 29,
   "id": "cec7a87f",
   "metadata": {},
   "outputs": [],
   "source": [
    "Y_test = test_df[\"price\"]\n",
    "\n",
    "X_test = test_df.drop(columns = [\"price\"], axis = 1)\n",
    "\n",
    "Y_train = train_df[\"price\"]\n",
    "\n",
    "X_train = train_df.drop(columns = [\"price\"], axis = 1)"
   ]
  },
  {
   "cell_type": "markdown",
   "id": "0bd1f0d0",
   "metadata": {},
   "source": [
    "#### our evaluation function "
   ]
  },
  {
   "cell_type": "code",
   "execution_count": 30,
   "id": "c277aa31",
   "metadata": {},
   "outputs": [],
   "source": [
    "def error_metrics(y_true, y_pred):\n",
    "    mean_abs = \"Mean Absolute Error: {}\".format(mean_absolute_error(y_true, y_pred))\n",
    "    mean_squared = \"Mean Square Error: {}\".format(mean_squared_error(y_true, y_pred))\n",
    "    r2 = \"r2 score: {}\".format(r2_score(y_true, y_pred))\n",
    "    return mean_abs, mean_squared, r2"
   ]
  },
  {
   "cell_type": "markdown",
   "id": "ff8e74ab",
   "metadata": {},
   "source": [
    "#### Linear Regression"
   ]
  },
  {
   "cell_type": "code",
   "execution_count": 31,
   "id": "cf64e1d0",
   "metadata": {},
   "outputs": [],
   "source": [
    "linear_regression = LinearRegression()"
   ]
  },
  {
   "cell_type": "markdown",
   "id": "71fad894",
   "metadata": {},
   "source": [
    "#### fit it"
   ]
  },
  {
   "cell_type": "code",
   "execution_count": 32,
   "id": "ffbb215a",
   "metadata": {},
   "outputs": [
    {
     "data": {
      "text/html": [
       "<style>#sk-container-id-1 {color: black;}#sk-container-id-1 pre{padding: 0;}#sk-container-id-1 div.sk-toggleable {background-color: white;}#sk-container-id-1 label.sk-toggleable__label {cursor: pointer;display: block;width: 100%;margin-bottom: 0;padding: 0.3em;box-sizing: border-box;text-align: center;}#sk-container-id-1 label.sk-toggleable__label-arrow:before {content: \"▸\";float: left;margin-right: 0.25em;color: #696969;}#sk-container-id-1 label.sk-toggleable__label-arrow:hover:before {color: black;}#sk-container-id-1 div.sk-estimator:hover label.sk-toggleable__label-arrow:before {color: black;}#sk-container-id-1 div.sk-toggleable__content {max-height: 0;max-width: 0;overflow: hidden;text-align: left;background-color: #f0f8ff;}#sk-container-id-1 div.sk-toggleable__content pre {margin: 0.2em;color: black;border-radius: 0.25em;background-color: #f0f8ff;}#sk-container-id-1 input.sk-toggleable__control:checked~div.sk-toggleable__content {max-height: 200px;max-width: 100%;overflow: auto;}#sk-container-id-1 input.sk-toggleable__control:checked~label.sk-toggleable__label-arrow:before {content: \"▾\";}#sk-container-id-1 div.sk-estimator input.sk-toggleable__control:checked~label.sk-toggleable__label {background-color: #d4ebff;}#sk-container-id-1 div.sk-label input.sk-toggleable__control:checked~label.sk-toggleable__label {background-color: #d4ebff;}#sk-container-id-1 input.sk-hidden--visually {border: 0;clip: rect(1px 1px 1px 1px);clip: rect(1px, 1px, 1px, 1px);height: 1px;margin: -1px;overflow: hidden;padding: 0;position: absolute;width: 1px;}#sk-container-id-1 div.sk-estimator {font-family: monospace;background-color: #f0f8ff;border: 1px dotted black;border-radius: 0.25em;box-sizing: border-box;margin-bottom: 0.5em;}#sk-container-id-1 div.sk-estimator:hover {background-color: #d4ebff;}#sk-container-id-1 div.sk-parallel-item::after {content: \"\";width: 100%;border-bottom: 1px solid gray;flex-grow: 1;}#sk-container-id-1 div.sk-label:hover label.sk-toggleable__label {background-color: #d4ebff;}#sk-container-id-1 div.sk-serial::before {content: \"\";position: absolute;border-left: 1px solid gray;box-sizing: border-box;top: 0;bottom: 0;left: 50%;z-index: 0;}#sk-container-id-1 div.sk-serial {display: flex;flex-direction: column;align-items: center;background-color: white;padding-right: 0.2em;padding-left: 0.2em;position: relative;}#sk-container-id-1 div.sk-item {position: relative;z-index: 1;}#sk-container-id-1 div.sk-parallel {display: flex;align-items: stretch;justify-content: center;background-color: white;position: relative;}#sk-container-id-1 div.sk-item::before, #sk-container-id-1 div.sk-parallel-item::before {content: \"\";position: absolute;border-left: 1px solid gray;box-sizing: border-box;top: 0;bottom: 0;left: 50%;z-index: -1;}#sk-container-id-1 div.sk-parallel-item {display: flex;flex-direction: column;z-index: 1;position: relative;background-color: white;}#sk-container-id-1 div.sk-parallel-item:first-child::after {align-self: flex-end;width: 50%;}#sk-container-id-1 div.sk-parallel-item:last-child::after {align-self: flex-start;width: 50%;}#sk-container-id-1 div.sk-parallel-item:only-child::after {width: 0;}#sk-container-id-1 div.sk-dashed-wrapped {border: 1px dashed gray;margin: 0 0.4em 0.5em 0.4em;box-sizing: border-box;padding-bottom: 0.4em;background-color: white;}#sk-container-id-1 div.sk-label label {font-family: monospace;font-weight: bold;display: inline-block;line-height: 1.2em;}#sk-container-id-1 div.sk-label-container {text-align: center;}#sk-container-id-1 div.sk-container {/* jupyter's `normalize.less` sets `[hidden] { display: none; }` but bootstrap.min.css set `[hidden] { display: none !important; }` so we also need the `!important` here to be able to override the default hidden behavior on the sphinx rendered scikit-learn.org. See: https://github.com/scikit-learn/scikit-learn/issues/21755 */display: inline-block !important;position: relative;}#sk-container-id-1 div.sk-text-repr-fallback {display: none;}</style><div id=\"sk-container-id-1\" class=\"sk-top-container\"><div class=\"sk-text-repr-fallback\"><pre>LinearRegression()</pre><b>In a Jupyter environment, please rerun this cell to show the HTML representation or trust the notebook. <br />On GitHub, the HTML representation is unable to render, please try loading this page with nbviewer.org.</b></div><div class=\"sk-container\" hidden><div class=\"sk-item\"><div class=\"sk-estimator sk-toggleable\"><input class=\"sk-toggleable__control sk-hidden--visually\" id=\"sk-estimator-id-1\" type=\"checkbox\" checked><label for=\"sk-estimator-id-1\" class=\"sk-toggleable__label sk-toggleable__label-arrow\">LinearRegression</label><div class=\"sk-toggleable__content\"><pre>LinearRegression()</pre></div></div></div></div></div>"
      ],
      "text/plain": [
       "LinearRegression()"
      ]
     },
     "execution_count": 32,
     "metadata": {},
     "output_type": "execute_result"
    }
   ],
   "source": [
    "linear_regression.fit(X_train, Y_train) "
   ]
  },
  {
   "cell_type": "code",
   "execution_count": 33,
   "id": "b1d4251c",
   "metadata": {},
   "outputs": [
    {
     "name": "stdout",
     "output_type": "stream",
     "text": [
      "10181.915587137742\n"
     ]
    }
   ],
   "source": [
    "#intercept\n",
    "print(linear_regression.intercept_)"
   ]
  },
  {
   "cell_type": "code",
   "execution_count": 34,
   "id": "d63a622a",
   "metadata": {},
   "outputs": [
    {
     "name": "stdout",
     "output_type": "stream",
     "text": [
      "[ 1.08607980e+04 -8.47180814e+01 -4.47995132e+01 -9.32136938e+02\n",
      "  8.58589044e+01 -7.16093794e+02  4.72284373e+02  2.09546016e+02\n",
      "  2.81136549e+02  7.02304221e+00 -9.69989981e+02]\n"
     ]
    }
   ],
   "source": [
    "#coeficient\n",
    "print(linear_regression.coef_)"
   ]
  },
  {
   "cell_type": "markdown",
   "id": "348866b1",
   "metadata": {},
   "source": [
    "#### Building Predictions"
   ]
  },
  {
   "cell_type": "code",
   "execution_count": 35,
   "id": "e1dd046a",
   "metadata": {},
   "outputs": [],
   "source": [
    "Y_pred_linear = linear_regression.predict(X_test)"
   ]
  },
  {
   "cell_type": "code",
   "execution_count": 36,
   "id": "347f1e63",
   "metadata": {},
   "outputs": [
    {
     "data": {
      "text/plain": [
       "array([3275.45726279,  736.6651985 , 4108.88179593, ..., 4087.19966186,\n",
       "       3003.15922589,  276.18091793])"
      ]
     },
     "execution_count": 36,
     "metadata": {},
     "output_type": "execute_result"
    }
   ],
   "source": [
    "Y_pred_linear"
   ]
  },
  {
   "cell_type": "code",
   "execution_count": 37,
   "id": "9ae7348a",
   "metadata": {},
   "outputs": [],
   "source": [
    "linear_comparison = pd.DataFrame({\"Actual\":Y_test, \"Predicted\":Y_pred_linear})"
   ]
  },
  {
   "cell_type": "code",
   "execution_count": 38,
   "id": "12cb7023",
   "metadata": {},
   "outputs": [
    {
     "data": {
      "text/html": [
       "<div>\n",
       "<style scoped>\n",
       "    .dataframe tbody tr th:only-of-type {\n",
       "        vertical-align: middle;\n",
       "    }\n",
       "\n",
       "    .dataframe tbody tr th {\n",
       "        vertical-align: top;\n",
       "    }\n",
       "\n",
       "    .dataframe thead th {\n",
       "        text-align: right;\n",
       "    }\n",
       "</style>\n",
       "<table border=\"1\" class=\"dataframe\">\n",
       "  <thead>\n",
       "    <tr style=\"text-align: right;\">\n",
       "      <th></th>\n",
       "      <th>Actual</th>\n",
       "      <th>Predicted</th>\n",
       "    </tr>\n",
       "  </thead>\n",
       "  <tbody>\n",
       "    <tr>\n",
       "      <th>870</th>\n",
       "      <td>2872.0</td>\n",
       "      <td>3275.457263</td>\n",
       "    </tr>\n",
       "    <tr>\n",
       "      <th>30111</th>\n",
       "      <td>720.0</td>\n",
       "      <td>736.665199</td>\n",
       "    </tr>\n",
       "    <tr>\n",
       "      <th>7191</th>\n",
       "      <td>4187.0</td>\n",
       "      <td>4108.881796</td>\n",
       "    </tr>\n",
       "    <tr>\n",
       "      <th>2152</th>\n",
       "      <td>3127.0</td>\n",
       "      <td>3399.928777</td>\n",
       "    </tr>\n",
       "    <tr>\n",
       "      <th>1612</th>\n",
       "      <td>3012.0</td>\n",
       "      <td>3344.339693</td>\n",
       "    </tr>\n",
       "    <tr>\n",
       "      <th>...</th>\n",
       "      <td>...</td>\n",
       "      <td>...</td>\n",
       "    </tr>\n",
       "    <tr>\n",
       "      <th>46361</th>\n",
       "      <td>1760.0</td>\n",
       "      <td>2218.596421</td>\n",
       "    </tr>\n",
       "    <tr>\n",
       "      <th>15399</th>\n",
       "      <td>6169.0</td>\n",
       "      <td>5943.141659</td>\n",
       "    </tr>\n",
       "    <tr>\n",
       "      <th>51624</th>\n",
       "      <td>2396.0</td>\n",
       "      <td>4087.199662</td>\n",
       "    </tr>\n",
       "    <tr>\n",
       "      <th>46355</th>\n",
       "      <td>1760.0</td>\n",
       "      <td>3003.159226</td>\n",
       "    </tr>\n",
       "    <tr>\n",
       "      <th>18710</th>\n",
       "      <td>620.0</td>\n",
       "      <td>276.180918</td>\n",
       "    </tr>\n",
       "  </tbody>\n",
       "</table>\n",
       "<p>16176 rows × 2 columns</p>\n",
       "</div>"
      ],
      "text/plain": [
       "       Actual    Predicted\n",
       "870    2872.0  3275.457263\n",
       "30111   720.0   736.665199\n",
       "7191   4187.0  4108.881796\n",
       "2152   3127.0  3399.928777\n",
       "1612   3012.0  3344.339693\n",
       "...       ...          ...\n",
       "46361  1760.0  2218.596421\n",
       "15399  6169.0  5943.141659\n",
       "51624  2396.0  4087.199662\n",
       "46355  1760.0  3003.159226\n",
       "18710   620.0   276.180918\n",
       "\n",
       "[16176 rows x 2 columns]"
      ]
     },
     "execution_count": 38,
     "metadata": {},
     "output_type": "execute_result"
    }
   ],
   "source": [
    "linear_comparison"
   ]
  },
  {
   "cell_type": "markdown",
   "id": "2b56684c",
   "metadata": {},
   "source": [
    "#### accuracy"
   ]
  },
  {
   "cell_type": "code",
   "execution_count": 39,
   "id": "b13cd35d",
   "metadata": {},
   "outputs": [
    {
     "data": {
      "text/plain": [
       "('Mean Absolute Error: 868.7838263415291',\n",
       " 'Mean Square Error: 2128771.9965016167',\n",
       " 'r2 score: 0.8664657601803931')"
      ]
     },
     "execution_count": 39,
     "metadata": {},
     "output_type": "execute_result"
    }
   ],
   "source": [
    "error_metrics(Y_test, Y_pred_linear)"
   ]
  },
  {
   "cell_type": "markdown",
   "id": "f3d89a67",
   "metadata": {},
   "source": [
    "#### another method"
   ]
  },
  {
   "cell_type": "code",
   "execution_count": 40,
   "id": "38b91ab7",
   "metadata": {},
   "outputs": [],
   "source": [
    "linear_comparison[\"Diff\"] = np.abs(linear_comparison[\"Actual\"] - linear_comparison[\"Predicted\"])"
   ]
  },
  {
   "cell_type": "code",
   "execution_count": 41,
   "id": "d5a0cdb9",
   "metadata": {},
   "outputs": [
    {
     "data": {
      "text/html": [
       "<div>\n",
       "<style scoped>\n",
       "    .dataframe tbody tr th:only-of-type {\n",
       "        vertical-align: middle;\n",
       "    }\n",
       "\n",
       "    .dataframe tbody tr th {\n",
       "        vertical-align: top;\n",
       "    }\n",
       "\n",
       "    .dataframe thead th {\n",
       "        text-align: right;\n",
       "    }\n",
       "</style>\n",
       "<table border=\"1\" class=\"dataframe\">\n",
       "  <thead>\n",
       "    <tr style=\"text-align: right;\">\n",
       "      <th></th>\n",
       "      <th>Actual</th>\n",
       "      <th>Predicted</th>\n",
       "      <th>Diff</th>\n",
       "    </tr>\n",
       "  </thead>\n",
       "  <tbody>\n",
       "    <tr>\n",
       "      <th>870</th>\n",
       "      <td>2872.0</td>\n",
       "      <td>3275.457263</td>\n",
       "      <td>403.457263</td>\n",
       "    </tr>\n",
       "    <tr>\n",
       "      <th>30111</th>\n",
       "      <td>720.0</td>\n",
       "      <td>736.665199</td>\n",
       "      <td>16.665199</td>\n",
       "    </tr>\n",
       "    <tr>\n",
       "      <th>7191</th>\n",
       "      <td>4187.0</td>\n",
       "      <td>4108.881796</td>\n",
       "      <td>78.118204</td>\n",
       "    </tr>\n",
       "    <tr>\n",
       "      <th>2152</th>\n",
       "      <td>3127.0</td>\n",
       "      <td>3399.928777</td>\n",
       "      <td>272.928777</td>\n",
       "    </tr>\n",
       "    <tr>\n",
       "      <th>1612</th>\n",
       "      <td>3012.0</td>\n",
       "      <td>3344.339693</td>\n",
       "      <td>332.339693</td>\n",
       "    </tr>\n",
       "  </tbody>\n",
       "</table>\n",
       "</div>"
      ],
      "text/plain": [
       "       Actual    Predicted        Diff\n",
       "870    2872.0  3275.457263  403.457263\n",
       "30111   720.0   736.665199   16.665199\n",
       "7191   4187.0  4108.881796   78.118204\n",
       "2152   3127.0  3399.928777  272.928777\n",
       "1612   3012.0  3344.339693  332.339693"
      ]
     },
     "execution_count": 41,
     "metadata": {},
     "output_type": "execute_result"
    }
   ],
   "source": [
    "linear_comparison.head(5)"
   ]
  },
  {
   "cell_type": "code",
   "execution_count": 42,
   "id": "873990a6",
   "metadata": {},
   "outputs": [],
   "source": [
    "#check how the dataframe works\n",
    "linear_comparison[\"Dist100\"] = [\"Yes\" if x <= 100.00 else \"No\" for x in linear_comparison[\"Diff\"]]\n",
    "\n",
    "linear_comparison[\"Dist500\"] = [\"Yes\" if x <= 500.00 else \"No\" for x in linear_comparison[\"Diff\"]]"
   ]
  },
  {
   "cell_type": "code",
   "execution_count": 43,
   "id": "bd4d5f94",
   "metadata": {},
   "outputs": [
    {
     "data": {
      "text/html": [
       "<div>\n",
       "<style scoped>\n",
       "    .dataframe tbody tr th:only-of-type {\n",
       "        vertical-align: middle;\n",
       "    }\n",
       "\n",
       "    .dataframe tbody tr th {\n",
       "        vertical-align: top;\n",
       "    }\n",
       "\n",
       "    .dataframe thead th {\n",
       "        text-align: right;\n",
       "    }\n",
       "</style>\n",
       "<table border=\"1\" class=\"dataframe\">\n",
       "  <thead>\n",
       "    <tr style=\"text-align: right;\">\n",
       "      <th></th>\n",
       "      <th>Actual</th>\n",
       "      <th>Predicted</th>\n",
       "      <th>Diff</th>\n",
       "      <th>Dist100</th>\n",
       "      <th>Dist500</th>\n",
       "    </tr>\n",
       "  </thead>\n",
       "  <tbody>\n",
       "    <tr>\n",
       "      <th>870</th>\n",
       "      <td>2872.0</td>\n",
       "      <td>3275.457263</td>\n",
       "      <td>403.457263</td>\n",
       "      <td>No</td>\n",
       "      <td>Yes</td>\n",
       "    </tr>\n",
       "    <tr>\n",
       "      <th>30111</th>\n",
       "      <td>720.0</td>\n",
       "      <td>736.665199</td>\n",
       "      <td>16.665199</td>\n",
       "      <td>Yes</td>\n",
       "      <td>Yes</td>\n",
       "    </tr>\n",
       "    <tr>\n",
       "      <th>7191</th>\n",
       "      <td>4187.0</td>\n",
       "      <td>4108.881796</td>\n",
       "      <td>78.118204</td>\n",
       "      <td>Yes</td>\n",
       "      <td>Yes</td>\n",
       "    </tr>\n",
       "    <tr>\n",
       "      <th>2152</th>\n",
       "      <td>3127.0</td>\n",
       "      <td>3399.928777</td>\n",
       "      <td>272.928777</td>\n",
       "      <td>No</td>\n",
       "      <td>Yes</td>\n",
       "    </tr>\n",
       "    <tr>\n",
       "      <th>1612</th>\n",
       "      <td>3012.0</td>\n",
       "      <td>3344.339693</td>\n",
       "      <td>332.339693</td>\n",
       "      <td>No</td>\n",
       "      <td>Yes</td>\n",
       "    </tr>\n",
       "  </tbody>\n",
       "</table>\n",
       "</div>"
      ],
      "text/plain": [
       "       Actual    Predicted        Diff Dist100 Dist500\n",
       "870    2872.0  3275.457263  403.457263      No     Yes\n",
       "30111   720.0   736.665199   16.665199     Yes     Yes\n",
       "7191   4187.0  4108.881796   78.118204     Yes     Yes\n",
       "2152   3127.0  3399.928777  272.928777      No     Yes\n",
       "1612   3012.0  3344.339693  332.339693      No     Yes"
      ]
     },
     "execution_count": 43,
     "metadata": {},
     "output_type": "execute_result"
    }
   ],
   "source": [
    "linear_comparison.head(5)"
   ]
  },
  {
   "cell_type": "code",
   "execution_count": 44,
   "id": "250451a8",
   "metadata": {},
   "outputs": [
    {
     "data": {
      "text/plain": [
       "Dist100\n",
       "No     13982\n",
       "Yes     2194\n",
       "Name: count, dtype: int64"
      ]
     },
     "execution_count": 44,
     "metadata": {},
     "output_type": "execute_result"
    }
   ],
   "source": [
    "#count Dist100\n",
    "linear_comparison[\"Dist100\"].value_counts()"
   ]
  },
  {
   "cell_type": "code",
   "execution_count": 45,
   "id": "30f5c3fb",
   "metadata": {},
   "outputs": [
    {
     "data": {
      "text/plain": [
       "0.13563303659742829"
      ]
     },
     "execution_count": 45,
     "metadata": {},
     "output_type": "execute_result"
    }
   ],
   "source": [
    "#pretty low at 13,5% accuracy\n",
    "2194/(13982+2194)"
   ]
  },
  {
   "cell_type": "code",
   "execution_count": 46,
   "id": "064b3b16",
   "metadata": {},
   "outputs": [
    {
     "data": {
      "text/plain": [
       "Dist500\n",
       "Yes    8549\n",
       "No     7627\n",
       "Name: count, dtype: int64"
      ]
     },
     "execution_count": 46,
     "metadata": {},
     "output_type": "execute_result"
    }
   ],
   "source": [
    "#count Dist500\n",
    "linear_comparison[\"Dist500\"].value_counts()"
   ]
  },
  {
   "cell_type": "code",
   "execution_count": 47,
   "id": "e9a48b16",
   "metadata": {},
   "outputs": [
    {
     "data": {
      "text/plain": [
       "0.5284990108803165"
      ]
     },
     "execution_count": 47,
     "metadata": {},
     "output_type": "execute_result"
    }
   ],
   "source": [
    "#a little over 50%....thats not a very good advertising pitch here\n",
    "8549/(8549+7627)"
   ]
  },
  {
   "cell_type": "markdown",
   "id": "96a81f3c",
   "metadata": {},
   "source": [
    "#### Statsmodels Version"
   ]
  },
  {
   "cell_type": "code",
   "execution_count": 48,
   "id": "3bae3ad5",
   "metadata": {},
   "outputs": [
    {
     "name": "stdout",
     "output_type": "stream",
     "text": [
      "float64\n",
      "carat        float64\n",
      "depth        float64\n",
      "table        float64\n",
      "x            float64\n",
      "y            float64\n",
      "z            float64\n",
      "Ideal           bool\n",
      "Premium         bool\n",
      "Very Good       bool\n",
      "Good            bool\n",
      "Fair            bool\n",
      "dtype: object\n",
      "                            OLS Regression Results                            \n",
      "==============================================================================\n",
      "Dep. Variable:                  price   R-squared:                       0.860\n",
      "Model:                            OLS   Adj. R-squared:                  0.860\n",
      "Method:                 Least Squares   F-statistic:                 2.326e+04\n",
      "Date:                Tue, 29 Aug 2023   Prob (F-statistic):               0.00\n",
      "Time:                        20:22:38   Log-Likelihood:            -3.2930e+05\n",
      "No. Observations:               37744   AIC:                         6.586e+05\n",
      "Df Residuals:                   37733   BIC:                         6.587e+05\n",
      "Df Model:                          10                                         \n",
      "Covariance Type:            nonrobust                                         \n",
      "==============================================================================\n",
      "                 coef    std err          t      P>|t|      [0.025      0.975]\n",
      "------------------------------------------------------------------------------\n",
      "carat       1.086e+04     80.207    135.410      0.000    1.07e+04     1.1e+04\n",
      "depth        -84.7181     13.965     -6.066      0.000    -112.090     -57.346\n",
      "table        -44.7995      4.607     -9.724      0.000     -53.829     -35.770\n",
      "x           -932.1369    120.341     -7.746      0.000   -1168.008    -696.266\n",
      "y             85.8589     29.999      2.862      0.004      27.061     144.657\n",
      "z           -716.0938    213.387     -3.356      0.001   -1134.338    -297.850\n",
      "Ideal       1.065e+04    953.351     11.176      0.000    8785.606    1.25e+04\n",
      "Premium     1.039e+04    959.147     10.834      0.000    8511.509    1.23e+04\n",
      "Very Good   1.046e+04    956.971     10.934      0.000    8587.363    1.23e+04\n",
      "Good        1.019e+04    961.830     10.593      0.000    8303.726    1.21e+04\n",
      "Fair        9211.9256    968.691      9.510      0.000    7313.266    1.11e+04\n",
      "==============================================================================\n",
      "Omnibus:                    10006.937   Durbin-Watson:                   1.993\n",
      "Prob(Omnibus):                  0.000   Jarque-Bera (JB):           267084.635\n",
      "Skew:                           0.691   Prob(JB):                         0.00\n",
      "Kurtosis:                      15.958   Cond. No.                     2.38e+04\n",
      "==============================================================================\n",
      "\n",
      "Notes:\n",
      "[1] Standard Errors assume that the covariance matrix of the errors is correctly specified.\n",
      "[2] The condition number is large, 2.38e+04. This might indicate that there are\n",
      "strong multicollinearity or other numerical problems.\n"
     ]
    }
   ],
   "source": [
    "# Verify the data types of the columns in Y_train and X_train\n",
    "print(Y_train.dtypes)\n",
    "print(X_train.dtypes)\n",
    "\n",
    "# Convert columns to numeric type if required\n",
    "Y_train = Y_train.astype(float)\n",
    "X_train = X_train.astype(float)\n",
    "\n",
    "# Continue with the original code\n",
    "model_linear = sm.OLS(Y_train, X_train)\n",
    "linear_stats_model = model_linear.fit()\n",
    "print(linear_stats_model.summary())"
   ]
  },
  {
   "cell_type": "markdown",
   "id": "9b2e6da6",
   "metadata": {},
   "source": [
    "#### Linear ping"
   ]
  },
  {
   "cell_type": "code",
   "execution_count": 49,
   "id": "940698ec",
   "metadata": {},
   "outputs": [
    {
     "data": {
      "text/html": [
       "<div>\n",
       "<style scoped>\n",
       "    .dataframe tbody tr th:only-of-type {\n",
       "        vertical-align: middle;\n",
       "    }\n",
       "\n",
       "    .dataframe tbody tr th {\n",
       "        vertical-align: top;\n",
       "    }\n",
       "\n",
       "    .dataframe thead th {\n",
       "        text-align: right;\n",
       "    }\n",
       "</style>\n",
       "<table border=\"1\" class=\"dataframe\">\n",
       "  <thead>\n",
       "    <tr style=\"text-align: right;\">\n",
       "      <th></th>\n",
       "      <th>names</th>\n",
       "      <th>coef</th>\n",
       "      <th>se</th>\n",
       "      <th>T</th>\n",
       "      <th>pval</th>\n",
       "      <th>r2</th>\n",
       "      <th>adj_r2</th>\n",
       "      <th>CI[2.5%]</th>\n",
       "      <th>CI[97.5%]</th>\n",
       "    </tr>\n",
       "  </thead>\n",
       "  <tbody>\n",
       "    <tr>\n",
       "      <th>0</th>\n",
       "      <td>Intercept</td>\n",
       "      <td>-14194.266287</td>\n",
       "      <td>49.514073</td>\n",
       "      <td>-286.671352</td>\n",
       "      <td>0.000000e+00</td>\n",
       "      <td>0.786796</td>\n",
       "      <td>0.786779</td>\n",
       "      <td>-14291.315199</td>\n",
       "      <td>-14097.217374</td>\n",
       "    </tr>\n",
       "    <tr>\n",
       "      <th>1</th>\n",
       "      <td>x</td>\n",
       "      <td>2541.628533</td>\n",
       "      <td>64.601138</td>\n",
       "      <td>39.343402</td>\n",
       "      <td>0.000000e+00</td>\n",
       "      <td>0.786796</td>\n",
       "      <td>0.786779</td>\n",
       "      <td>2415.008569</td>\n",
       "      <td>2668.248497</td>\n",
       "    </tr>\n",
       "    <tr>\n",
       "      <th>2</th>\n",
       "      <td>y</td>\n",
       "      <td>83.975036</td>\n",
       "      <td>32.279599</td>\n",
       "      <td>2.601489</td>\n",
       "      <td>9.285614e-03</td>\n",
       "      <td>0.786796</td>\n",
       "      <td>0.786779</td>\n",
       "      <td>20.706156</td>\n",
       "      <td>147.243916</td>\n",
       "    </tr>\n",
       "    <tr>\n",
       "      <th>3</th>\n",
       "      <td>z</td>\n",
       "      <td>869.335212</td>\n",
       "      <td>102.839365</td>\n",
       "      <td>8.453331</td>\n",
       "      <td>2.931102e-17</td>\n",
       "      <td>0.786796</td>\n",
       "      <td>0.786779</td>\n",
       "      <td>667.767295</td>\n",
       "      <td>1070.903128</td>\n",
       "    </tr>\n",
       "  </tbody>\n",
       "</table>\n",
       "</div>"
      ],
      "text/plain": [
       "       names          coef          se           T          pval        r2  \\\n",
       "0  Intercept -14194.266287   49.514073 -286.671352  0.000000e+00  0.786796   \n",
       "1          x   2541.628533   64.601138   39.343402  0.000000e+00  0.786796   \n",
       "2          y     83.975036   32.279599    2.601489  9.285614e-03  0.786796   \n",
       "3          z    869.335212  102.839365    8.453331  2.931102e-17  0.786796   \n",
       "\n",
       "     adj_r2      CI[2.5%]     CI[97.5%]  \n",
       "0  0.786779 -14291.315199 -14097.217374  \n",
       "1  0.786779   2415.008569   2668.248497  \n",
       "2  0.786779     20.706156    147.243916  \n",
       "3  0.786779    667.767295   1070.903128  "
      ]
     },
     "execution_count": 49,
     "metadata": {},
     "output_type": "execute_result"
    }
   ],
   "source": [
    "linear_ping = pg.linear_regression(X_train[[\"x\",\"y\",\"z\"]], Y_train)\n",
    "linear_ping"
   ]
  },
  {
   "cell_type": "markdown",
   "id": "c1b5d827",
   "metadata": {},
   "source": [
    "### Polynomial Regression"
   ]
  },
  {
   "cell_type": "code",
   "execution_count": 50,
   "id": "cb3dd563",
   "metadata": {},
   "outputs": [],
   "source": [
    "rng = np.random.RandomState(1)\n",
    "\n",
    "x = 7 * rng.rand(50)\n",
    "    \n",
    "y = np.sin(x) + 0.3 * rng.randn(50)"
   ]
  },
  {
   "cell_type": "code",
   "execution_count": 51,
   "id": "8ee43525",
   "metadata": {},
   "outputs": [],
   "source": [
    "x = x[:, np.newaxis]\n",
    "y = y[:, np.newaxis]\n",
    "\n",
    "inds = y.ravel().argsort()\n",
    "x = x.ravel()[inds].reshape(-1,1)\n",
    "y = y[inds]"
   ]
  },
  {
   "cell_type": "code",
   "execution_count": 52,
   "id": "ddbccefb",
   "metadata": {},
   "outputs": [
    {
     "data": {
      "image/png": "[encoded data removed]",
      "text/plain": [
       "<Figure size 432x288 with 1 Axes>"
      ]
     },
     "metadata": {},
     "output_type": "display_data"
    }
   ],
   "source": [
    "sns.set(color_codes=True)\n",
    "plt.scatter(x,y)\n",
    "plt.show()"
   ]
  },
  {
   "cell_type": "code",
   "execution_count": 53,
   "id": "59cf2e11",
   "metadata": {},
   "outputs": [],
   "source": [
    "#checking the model\n",
    "model = sm.OLS(y,x).fit()"
   ]
  },
  {
   "cell_type": "markdown",
   "id": "a8546370",
   "metadata": {},
   "source": [
    "#### Prediction"
   ]
  },
  {
   "cell_type": "code",
   "execution_count": 54,
   "id": "4bbd2cfe",
   "metadata": {},
   "outputs": [],
   "source": [
    "y_pred = model.predict(x)"
   ]
  },
  {
   "cell_type": "code",
   "execution_count": 55,
   "id": "12dfa708",
   "metadata": {},
   "outputs": [
    {
     "data": {
      "image/png": "[encoded data removed]",
      "text/plain": [
       "<Figure size 432x288 with 1 Axes>"
      ]
     },
     "metadata": {},
     "output_type": "display_data"
    }
   ],
   "source": [
    "plt.scatter(x,y)\n",
    "plt.plot(x, y_pred)\n",
    "plt.show()"
   ]
  },
  {
   "cell_type": "markdown",
   "id": "36e0f48f",
   "metadata": {},
   "source": [
    "#### Polynomial Features"
   ]
  },
  {
   "cell_type": "markdown",
   "id": "133308cd",
   "metadata": {},
   "source": [
    "* Link info: https://scikit-learn.org/stable/modules/generated/sklearn.preprocessing.PolynomialFeatures.html\n",
    "* Link info: https://machinelearningmastery.com/polynomial-features-transforms-for-machine-learning/"
   ]
  },
  {
   "cell_type": "code",
   "execution_count": 56,
   "id": "d52dd594",
   "metadata": {},
   "outputs": [
    {
     "data": {
      "text/plain": [
       "(50, 6)"
      ]
     },
     "execution_count": 56,
     "metadata": {},
     "output_type": "execute_result"
    }
   ],
   "source": [
    "poly_feat = PolynomialFeatures(degree = 5)\n",
    "xp5 = poly_feat.fit_transform(x)\n",
    "xp5.shape"
   ]
  },
  {
   "cell_type": "code",
   "execution_count": 57,
   "id": "7146fa5c",
   "metadata": {},
   "outputs": [],
   "source": [
    "model = sm.OLS(y, xp5).fit()\n",
    "y_pred = model.predict(xp5)"
   ]
  },
  {
   "cell_type": "code",
   "execution_count": 58,
   "id": "d4f3972a",
   "metadata": {},
   "outputs": [
    {
     "data": {
      "image/png": "[encoded data removed]",
      "text/plain": [
       "<Figure size 432x288 with 1 Axes>"
      ]
     },
     "metadata": {},
     "output_type": "display_data"
    }
   ],
   "source": [
    "plt.scatter(x,y)\n",
    "plt.plot(x, y_pred)\n",
    "plt.show()"
   ]
  },
  {
   "cell_type": "code",
   "execution_count": 59,
   "id": "f9ee9e6a",
   "metadata": {},
   "outputs": [
    {
     "name": "stdout",
     "output_type": "stream",
     "text": [
      "                            OLS Regression Results                            \n",
      "==============================================================================\n",
      "Dep. Variable:                      y   R-squared:                       0.856\n",
      "Model:                            OLS   Adj. R-squared:                  0.840\n",
      "Method:                 Least Squares   F-statistic:                     52.38\n",
      "Date:                Tue, 29 Aug 2023   Prob (F-statistic):           2.01e-17\n",
      "Time:                        20:22:39   Log-Likelihood:                -4.1724\n",
      "No. Observations:                  50   AIC:                             20.34\n",
      "Df Residuals:                      44   BIC:                             31.82\n",
      "Df Model:                           5                                         \n",
      "Covariance Type:            nonrobust                                         \n",
      "==============================================================================\n",
      "                 coef    std err          t      P>|t|      [0.025      0.975]\n",
      "------------------------------------------------------------------------------\n",
      "const         -0.2000      0.186     -1.078      0.287      -0.574       0.174\n",
      "x1             1.6535      0.554      2.983      0.005       0.536       2.770\n",
      "x2            -0.4999      0.513     -0.974      0.335      -1.534       0.535\n",
      "x3            -0.0843      0.194     -0.436      0.665      -0.475       0.306\n",
      "x4             0.0345      0.032      1.095      0.280      -0.029       0.098\n",
      "x5            -0.0024      0.002     -1.294      0.202      -0.006       0.001\n",
      "==============================================================================\n",
      "Omnibus:                        0.290   Durbin-Watson:                   0.894\n",
      "Prob(Omnibus):                  0.865   Jarque-Bera (JB):                0.475\n",
      "Skew:                           0.002   Prob(JB):                        0.789\n",
      "Kurtosis:                       2.523   Cond. No.                     1.00e+05\n",
      "==============================================================================\n",
      "\n",
      "Notes:\n",
      "[1] Standard Errors assume that the covariance matrix of the errors is correctly specified.\n",
      "[2] The condition number is large,  1e+05. This might indicate that there are\n",
      "strong multicollinearity or other numerical problems.\n"
     ]
    }
   ],
   "source": [
    "print(model.summary())"
   ]
  },
  {
   "cell_type": "markdown",
   "id": "5f888ca6",
   "metadata": {},
   "source": [
    "### Ridge Regression"
   ]
  },
  {
   "cell_type": "markdown",
   "id": "0171df94",
   "metadata": {},
   "source": [
    "* link info : https://scikit-learn.org/stable/modules/generated/sklearn.linear_model.Ridge.html"
   ]
  },
  {
   "cell_type": "markdown",
   "id": "63ec243b",
   "metadata": {},
   "source": [
    "#### data processing to keep our data set consistent\n"
   ]
  },
  {
   "cell_type": "code",
   "execution_count": 60,
   "id": "db3c697f",
   "metadata": {},
   "outputs": [],
   "source": [
    "df_diamonds = sns.load_dataset(\"diamonds\")\n",
    "weird_zeros = df_diamonds[(df_diamonds[\"x\"] == 0) | (df_diamonds[\"y\"] == 0) | (df_diamonds[\"z\"] == 0)]\n",
    "\n",
    "df_diamondsX = df_diamonds.copy()\n",
    "df_diamondsX = df_diamondsX[~df_diamondsX.isin(weird_zeros)].dropna(how= \"all\")\n",
    "\n",
    "new_cols = pd.get_dummies(df_diamondsX[\"cut\"])\n",
    "df_diamondsX = df_diamondsX.drop([\"color\",\"clarity\",\"cut\"], axis = 1)\n",
    "\n",
    "df = pd.concat([df_diamondsX, new_cols], axis = 1)"
   ]
  },
  {
   "cell_type": "code",
   "execution_count": 61,
   "id": "4a3064b6",
   "metadata": {},
   "outputs": [],
   "source": [
    "train_df, test_df = train_test_split(df, test_size = 0.3, random_state = 32)\n",
    "\n",
    "Y_test = test_df[\"price\"]\n",
    "\n",
    "X_test = test_df.drop(columns = [\"price\"], axis = 1)\n",
    "\n",
    "Y_train = train_df[\"price\"]\n",
    "\n",
    "X_train = train_df.drop(columns = [\"price\"], axis = 1)"
   ]
  },
  {
   "cell_type": "code",
   "execution_count": 62,
   "id": "3dc9e1a4",
   "metadata": {},
   "outputs": [],
   "source": [
    "def error_metrics(y_true, y_pred):\n",
    "    mean_abs = \"Mean Absolute Error: {}\".format(mean_absolute_error(y_true, y_pred))\n",
    "    mean_squared = \"Mean Square Error: {}\".format(mean_squared_error(y_true, y_pred))\n",
    "    r2 = \"r2 score: {}\".format(r2_score(y_true, y_pred))\n",
    "    return mean_abs, mean_squared, r2"
   ]
  },
  {
   "cell_type": "markdown",
   "id": "e51a1841",
   "metadata": {},
   "source": [
    "#### common alpha for ridge"
   ]
  },
  {
   "cell_type": "code",
   "execution_count": 63,
   "id": "39406d20",
   "metadata": {},
   "outputs": [],
   "source": [
    "alphas = [.01, .1, 1, 10, 100, 1000, 10000]"
   ]
  },
  {
   "cell_type": "code",
   "execution_count": 64,
   "id": "7c2af7e3",
   "metadata": {},
   "outputs": [],
   "source": [
    "ridge = RidgeCV(alphas = alphas, cv = 5)\n",
    "ridge_fit = ridge.fit(X_train, Y_train)"
   ]
  },
  {
   "cell_type": "code",
   "execution_count": 65,
   "id": "adf073b1",
   "metadata": {},
   "outputs": [],
   "source": [
    "yhat_ridge = ridge_fit.predict(X_test)"
   ]
  },
  {
   "cell_type": "code",
   "execution_count": 66,
   "id": "72d07429",
   "metadata": {},
   "outputs": [
    {
     "data": {
      "text/plain": [
       "('Mean Absolute Error: 869.4967618952699',\n",
       " 'Mean Square Error: 2128126.7148374883',\n",
       " 'r2 score: 0.8665062375995956')"
      ]
     },
     "execution_count": 66,
     "metadata": {},
     "output_type": "execute_result"
    }
   ],
   "source": [
    "error_metrics(Y_test, yhat_ridge)"
   ]
  },
  {
   "cell_type": "markdown",
   "id": "bca198e7",
   "metadata": {},
   "source": [
    "### Lasso Regression"
   ]
  },
  {
   "cell_type": "code",
   "execution_count": 67,
   "id": "995a1bbb",
   "metadata": {},
   "outputs": [],
   "source": [
    "#common alpha for Lasso\n",
    "alphas = [.01, .1, 1, 10, 100, 1000, 10000]"
   ]
  },
  {
   "cell_type": "code",
   "execution_count": 68,
   "id": "92b1bd18",
   "metadata": {},
   "outputs": [],
   "source": [
    "lasso = LassoCV(cv = 5, random_state=32, alphas=alphas)"
   ]
  },
  {
   "cell_type": "code",
   "execution_count": 69,
   "id": "1a3ecdb9",
   "metadata": {},
   "outputs": [],
   "source": [
    "lasso_fit = lasso.fit(X_train, Y_train)"
   ]
  },
  {
   "cell_type": "code",
   "execution_count": 70,
   "id": "db4c7726",
   "metadata": {},
   "outputs": [],
   "source": [
    "yhat_lasso = lasso_fit.predict(X_test)"
   ]
  },
  {
   "cell_type": "code",
   "execution_count": 71,
   "id": "2340be16",
   "metadata": {},
   "outputs": [
    {
     "data": {
      "text/plain": [
       "('Mean Absolute Error: 871.9132066552804',\n",
       " 'Mean Square Error: 2108584.0182046457',\n",
       " 'r2 score: 0.8677321176577608')"
      ]
     },
     "execution_count": 71,
     "metadata": {},
     "output_type": "execute_result"
    }
   ],
   "source": [
    "#lasso\n",
    "error_metrics(Y_test, yhat_lasso)"
   ]
  },
  {
   "cell_type": "code",
   "execution_count": 72,
   "id": "f6b26c6b",
   "metadata": {},
   "outputs": [
    {
     "data": {
      "text/plain": [
       "('Mean Absolute Error: 869.4967618952699',\n",
       " 'Mean Square Error: 2128126.7148374883',\n",
       " 'r2 score: 0.8665062375995956')"
      ]
     },
     "execution_count": 72,
     "metadata": {},
     "output_type": "execute_result"
    }
   ],
   "source": [
    "#ridge\n",
    "error_metrics(Y_test, yhat_ridge)"
   ]
  },
  {
   "cell_type": "code",
   "execution_count": 73,
   "id": "9cbb3354",
   "metadata": {},
   "outputs": [],
   "source": [
    "#compare it \n",
    "lasso_ridge_comp = pd.DataFrame({\"Actual\":Y_test, \"Pred Lasso\": yhat_lasso, \" Pred Ridge\":yhat_ridge})"
   ]
  },
  {
   "cell_type": "code",
   "execution_count": 74,
   "id": "7c3bacb4",
   "metadata": {},
   "outputs": [],
   "source": [
    "# Eliminate blank spaces in column names\n",
    "lasso_ridge_comp.columns = lasso_ridge_comp.columns.str.strip()"
   ]
  },
  {
   "cell_type": "code",
   "execution_count": 75,
   "id": "164a8f27",
   "metadata": {},
   "outputs": [
    {
     "name": "stdout",
     "output_type": "stream",
     "text": [
      "Index(['Actual', 'Pred Lasso', 'Pred Ridge'], dtype='object')\n"
     ]
    }
   ],
   "source": [
    "print(lasso_ridge_comp.columns)"
   ]
  },
  {
   "cell_type": "code",
   "execution_count": 76,
   "id": "8f2a09ae",
   "metadata": {},
   "outputs": [],
   "source": [
    "lasso_ridge_comp[\"Diff\"] = np.abs(lasso_ridge_comp[\"Pred Lasso\"] - lasso_ridge_comp[\"Pred Ridge\"])"
   ]
  },
  {
   "cell_type": "code",
   "execution_count": 77,
   "id": "9c4eec4c",
   "metadata": {},
   "outputs": [
    {
     "data": {
      "text/html": [
       "<div>\n",
       "<style scoped>\n",
       "    .dataframe tbody tr th:only-of-type {\n",
       "        vertical-align: middle;\n",
       "    }\n",
       "\n",
       "    .dataframe tbody tr th {\n",
       "        vertical-align: top;\n",
       "    }\n",
       "\n",
       "    .dataframe thead th {\n",
       "        text-align: right;\n",
       "    }\n",
       "</style>\n",
       "<table border=\"1\" class=\"dataframe\">\n",
       "  <thead>\n",
       "    <tr style=\"text-align: right;\">\n",
       "      <th></th>\n",
       "      <th>Actual</th>\n",
       "      <th>Pred Lasso</th>\n",
       "      <th>Pred Ridge</th>\n",
       "      <th>Diff</th>\n",
       "    </tr>\n",
       "  </thead>\n",
       "  <tbody>\n",
       "    <tr>\n",
       "      <th>870</th>\n",
       "      <td>2872.0</td>\n",
       "      <td>3288.554037</td>\n",
       "      <td>3277.867690</td>\n",
       "      <td>10.686347</td>\n",
       "    </tr>\n",
       "    <tr>\n",
       "      <th>30111</th>\n",
       "      <td>720.0</td>\n",
       "      <td>721.853822</td>\n",
       "      <td>734.593069</td>\n",
       "      <td>12.739247</td>\n",
       "    </tr>\n",
       "    <tr>\n",
       "      <th>7191</th>\n",
       "      <td>4187.0</td>\n",
       "      <td>4127.045467</td>\n",
       "      <td>4110.224924</td>\n",
       "      <td>16.820543</td>\n",
       "    </tr>\n",
       "    <tr>\n",
       "      <th>2152</th>\n",
       "      <td>3127.0</td>\n",
       "      <td>3409.458428</td>\n",
       "      <td>3402.693732</td>\n",
       "      <td>6.764696</td>\n",
       "    </tr>\n",
       "    <tr>\n",
       "      <th>1612</th>\n",
       "      <td>3012.0</td>\n",
       "      <td>3357.582353</td>\n",
       "      <td>3347.003460</td>\n",
       "      <td>10.578893</td>\n",
       "    </tr>\n",
       "    <tr>\n",
       "      <th>...</th>\n",
       "      <td>...</td>\n",
       "      <td>...</td>\n",
       "      <td>...</td>\n",
       "      <td>...</td>\n",
       "    </tr>\n",
       "    <tr>\n",
       "      <th>46361</th>\n",
       "      <td>1760.0</td>\n",
       "      <td>2223.750141</td>\n",
       "      <td>2220.791981</td>\n",
       "      <td>2.958160</td>\n",
       "    </tr>\n",
       "    <tr>\n",
       "      <th>15399</th>\n",
       "      <td>6169.0</td>\n",
       "      <td>5954.043109</td>\n",
       "      <td>5945.534524</td>\n",
       "      <td>8.508585</td>\n",
       "    </tr>\n",
       "    <tr>\n",
       "      <th>51624</th>\n",
       "      <td>2396.0</td>\n",
       "      <td>4117.537696</td>\n",
       "      <td>4089.910975</td>\n",
       "      <td>27.626721</td>\n",
       "    </tr>\n",
       "    <tr>\n",
       "      <th>46355</th>\n",
       "      <td>1760.0</td>\n",
       "      <td>3008.184899</td>\n",
       "      <td>3004.929664</td>\n",
       "      <td>3.255234</td>\n",
       "    </tr>\n",
       "    <tr>\n",
       "      <th>18710</th>\n",
       "      <td>620.0</td>\n",
       "      <td>267.129409</td>\n",
       "      <td>272.557178</td>\n",
       "      <td>5.427769</td>\n",
       "    </tr>\n",
       "  </tbody>\n",
       "</table>\n",
       "<p>16176 rows × 4 columns</p>\n",
       "</div>"
      ],
      "text/plain": [
       "       Actual   Pred Lasso   Pred Ridge       Diff\n",
       "870    2872.0  3288.554037  3277.867690  10.686347\n",
       "30111   720.0   721.853822   734.593069  12.739247\n",
       "7191   4187.0  4127.045467  4110.224924  16.820543\n",
       "2152   3127.0  3409.458428  3402.693732   6.764696\n",
       "1612   3012.0  3357.582353  3347.003460  10.578893\n",
       "...       ...          ...          ...        ...\n",
       "46361  1760.0  2223.750141  2220.791981   2.958160\n",
       "15399  6169.0  5954.043109  5945.534524   8.508585\n",
       "51624  2396.0  4117.537696  4089.910975  27.626721\n",
       "46355  1760.0  3008.184899  3004.929664   3.255234\n",
       "18710   620.0   267.129409   272.557178   5.427769\n",
       "\n",
       "[16176 rows x 4 columns]"
      ]
     },
     "execution_count": 77,
     "metadata": {},
     "output_type": "execute_result"
    }
   ],
   "source": [
    "lasso_ridge_comp"
   ]
  },
  {
   "cell_type": "code",
   "execution_count": 78,
   "id": "c744b3da",
   "metadata": {},
   "outputs": [
    {
     "data": {
      "text/html": [
       "<div>\n",
       "<style scoped>\n",
       "    .dataframe tbody tr th:only-of-type {\n",
       "        vertical-align: middle;\n",
       "    }\n",
       "\n",
       "    .dataframe tbody tr th {\n",
       "        vertical-align: top;\n",
       "    }\n",
       "\n",
       "    .dataframe thead th {\n",
       "        text-align: right;\n",
       "    }\n",
       "</style>\n",
       "<table border=\"1\" class=\"dataframe\">\n",
       "  <thead>\n",
       "    <tr style=\"text-align: right;\">\n",
       "      <th></th>\n",
       "      <th>Actual</th>\n",
       "      <th>Pred Lasso</th>\n",
       "      <th>Pred Ridge</th>\n",
       "      <th>Diff</th>\n",
       "    </tr>\n",
       "  </thead>\n",
       "  <tbody>\n",
       "    <tr>\n",
       "      <th>count</th>\n",
       "      <td>16176.000000</td>\n",
       "      <td>16176.000000</td>\n",
       "      <td>16176.000000</td>\n",
       "      <td>16176.000000</td>\n",
       "    </tr>\n",
       "    <tr>\n",
       "      <th>mean</th>\n",
       "      <td>3932.071464</td>\n",
       "      <td>3935.855004</td>\n",
       "      <td>3935.166396</td>\n",
       "      <td>12.635336</td>\n",
       "    </tr>\n",
       "    <tr>\n",
       "      <th>std</th>\n",
       "      <td>3992.837903</td>\n",
       "      <td>3706.922000</td>\n",
       "      <td>3713.114919</td>\n",
       "      <td>94.314600</td>\n",
       "    </tr>\n",
       "    <tr>\n",
       "      <th>min</th>\n",
       "      <td>337.000000</td>\n",
       "      <td>-6611.429582</td>\n",
       "      <td>-18454.037151</td>\n",
       "      <td>0.005221</td>\n",
       "    </tr>\n",
       "    <tr>\n",
       "      <th>25%</th>\n",
       "      <td>945.000000</td>\n",
       "      <td>926.790724</td>\n",
       "      <td>929.523984</td>\n",
       "      <td>4.967496</td>\n",
       "    </tr>\n",
       "    <tr>\n",
       "      <th>50%</th>\n",
       "      <td>2415.500000</td>\n",
       "      <td>2945.765528</td>\n",
       "      <td>2934.398999</td>\n",
       "      <td>9.110106</td>\n",
       "    </tr>\n",
       "    <tr>\n",
       "      <th>75%</th>\n",
       "      <td>5290.000000</td>\n",
       "      <td>5668.376917</td>\n",
       "      <td>5660.275746</td>\n",
       "      <td>14.778766</td>\n",
       "    </tr>\n",
       "    <tr>\n",
       "      <th>max</th>\n",
       "      <td>18803.000000</td>\n",
       "      <td>36255.708739</td>\n",
       "      <td>36382.286588</td>\n",
       "      <td>11842.607569</td>\n",
       "    </tr>\n",
       "  </tbody>\n",
       "</table>\n",
       "</div>"
      ],
      "text/plain": [
       "             Actual    Pred Lasso    Pred Ridge          Diff\n",
       "count  16176.000000  16176.000000  16176.000000  16176.000000\n",
       "mean    3932.071464   3935.855004   3935.166396     12.635336\n",
       "std     3992.837903   3706.922000   3713.114919     94.314600\n",
       "min      337.000000  -6611.429582 -18454.037151      0.005221\n",
       "25%      945.000000    926.790724    929.523984      4.967496\n",
       "50%     2415.500000   2945.765528   2934.398999      9.110106\n",
       "75%     5290.000000   5668.376917   5660.275746     14.778766\n",
       "max    18803.000000  36255.708739  36382.286588  11842.607569"
      ]
     },
     "execution_count": 78,
     "metadata": {},
     "output_type": "execute_result"
    }
   ],
   "source": [
    "lasso_ridge_comp.describe()"
   ]
  },
  {
   "cell_type": "markdown",
   "id": "620ad0af",
   "metadata": {},
   "source": [
    "### ElasticNet Regression"
   ]
  },
  {
   "cell_type": "code",
   "execution_count": 79,
   "id": "cfe54aa2",
   "metadata": {},
   "outputs": [],
   "source": [
    "#common alpha for ElasticNet Regression\n",
    "alphas = [.01, .1, 1, 10, 100, 1000, 10000]"
   ]
  },
  {
   "cell_type": "code",
   "execution_count": 80,
   "id": "80f4046c",
   "metadata": {},
   "outputs": [],
   "source": [
    "elasticnet = ElasticNetCV(cv =5, random_state = 32, l1_ratio = 0.5, alphas=alphas)\n",
    "elastic_fit = elasticnet.fit(X_train, Y_train)\n",
    "yhat_elastic = elastic_fit.predict(X_test)"
   ]
  },
  {
   "cell_type": "code",
   "execution_count": 81,
   "id": "fed4f33a",
   "metadata": {},
   "outputs": [
    {
     "data": {
      "text/plain": [
       "('Mean Absolute Error: 993.2119707667915',\n",
       " 'Mean Square Error: 2259096.9942142875',\n",
       " 'r2 score: 0.8582906951533948')"
      ]
     },
     "execution_count": 81,
     "metadata": {},
     "output_type": "execute_result"
    }
   ],
   "source": [
    "error_metrics(Y_test, yhat_elastic)"
   ]
  },
  {
   "cell_type": "markdown",
   "id": "92148148",
   "metadata": {},
   "source": [
    "### Random Forest Regression"
   ]
  },
  {
   "cell_type": "code",
   "execution_count": 82,
   "id": "1d160a6d",
   "metadata": {},
   "outputs": [],
   "source": [
    "rf = RandomForestRegressor(n_estimators=1000, random_state=32)"
   ]
  },
  {
   "cell_type": "code",
   "execution_count": 83,
   "id": "b1f23053",
   "metadata": {},
   "outputs": [],
   "source": [
    "rf_fit = rf.fit(X_train, Y_train)"
   ]
  },
  {
   "cell_type": "code",
   "execution_count": 84,
   "id": "c9ced55b",
   "metadata": {},
   "outputs": [],
   "source": [
    "yhat_rf = rf_fit.predict(X_test)"
   ]
  },
  {
   "cell_type": "code",
   "execution_count": 85,
   "id": "bf93775e",
   "metadata": {},
   "outputs": [
    {
     "data": {
      "text/plain": [
       "('Mean Absolute Error: 772.850469132363',\n",
       " 'Mean Square Error: 1845091.053929659',\n",
       " 'r2 score: 0.8842605823031516')"
      ]
     },
     "execution_count": 85,
     "metadata": {},
     "output_type": "execute_result"
    }
   ],
   "source": [
    "#1000\n",
    "error_metrics(Y_test, yhat_rf)"
   ]
  },
  {
   "cell_type": "markdown",
   "id": "e48d7ad8",
   "metadata": {},
   "source": [
    "### Model Comparison Tool"
   ]
  },
  {
   "cell_type": "markdown",
   "id": "61ef76e2",
   "metadata": {},
   "source": [
    "#### rename some things, makes our work more understandable and transferable"
   ]
  },
  {
   "cell_type": "code",
   "execution_count": 86,
   "id": "c63ea405",
   "metadata": {},
   "outputs": [],
   "source": [
    "features = X_train.copy()\n",
    "targets = Y_train.copy()"
   ]
  },
  {
   "cell_type": "markdown",
   "id": "c114e0bf",
   "metadata": {},
   "source": [
    "#### defining models we want to compare"
   ]
  },
  {
   "cell_type": "code",
   "execution_count": 87,
   "id": "26703d3e",
   "metadata": {},
   "outputs": [],
   "source": [
    "models = [\n",
    "    \tLinearRegression(),\n",
    "    RidgeCV(),\n",
    "    LassoCV(),\n",
    "    #ElasticNetCV(),\n",
    "    RandomForestRegressor()\n",
    "]"
   ]
  },
  {
   "cell_type": "markdown",
   "id": "5145be18",
   "metadata": {},
   "source": [
    "#### Number of cross validation, 5 is standard... lets go 10"
   ]
  },
  {
   "cell_type": "code",
   "execution_count": 88,
   "id": "d40f03eb",
   "metadata": {},
   "outputs": [],
   "source": [
    "CV = 10\n",
    "cv_df = pd.DataFrame(index=range(CV * len(models)))\n",
    "entries = []"
   ]
  },
  {
   "cell_type": "markdown",
   "id": "6009a9cd",
   "metadata": {},
   "source": [
    "#### Outer for loop to execute our cross validation on the above models "
   ]
  },
  {
   "cell_type": "code",
   "execution_count": 89,
   "id": "84cd1727",
   "metadata": {},
   "outputs": [],
   "source": [
    "for model in models: \n",
    "    #accesing model information class\n",
    "    model_name = model.__class__.__name__\n",
    "    #get our parameters of model to calculate R2\n",
    "    accuracies = cross_val_score(model, features, targets, scoring=\"r2\", cv=CV)\n",
    "    #inner for loop to fill in the entries\n",
    "    for fold_idx, accuracy in enumerate(accuracies):\n",
    "        entries.append((model_name, fold_idx, accuracy))\n",
    "#finalizing the dataframe\n",
    "cv_df = pd.DataFrame(entries, columns=[\"model_name\", 'fold_idx', 'r2'])"
   ]
  },
  {
   "cell_type": "code",
   "execution_count": 90,
   "id": "50a4fa02",
   "metadata": {},
   "outputs": [
    {
     "data": {
      "image/png": "[encoded data removed]",
      "text/plain": [
       "<Figure size 432x288 with 1 Axes>"
      ]
     },
     "metadata": {},
     "output_type": "display_data"
    }
   ],
   "source": [
    "sns.set(color_codes=True)\n",
    "sns.boxplot(x=\"model_name\", y=\"r2\", data=cv_df)\n",
    "sns.stripplot(x=\"model_name\", y=\"r2\", data=cv_df, size = 7, jitter=True, edgecolor=\"gray\", linewidth=2)\n",
    "plt.title(\"Regression Models\", fontsize=20)\n",
    "plt.ylabel(\"R Squared\", fontsize = 15)\n",
    "plt.xlabel(\"\")\n",
    "plt.xticks(fontsize = 12, rotation=90)\n",
    "plt.yticks(fontsize = 12, rotation=0)\n",
    "plt.show()"
   ]
  },
  {
   "cell_type": "code",
   "execution_count": 91,
   "id": "ac2f1c13",
   "metadata": {},
   "outputs": [
    {
     "data": {
      "image/png": "[encoded data removed]",
      "text/plain": [
       "<Figure size 432x288 with 1 Axes>"
      ]
     },
     "metadata": {},
     "output_type": "display_data"
    }
   ],
   "source": [
    "sns.set(color_codes=True)\n",
    "sns.boxplot(x=\"model_name\", y=\"r2\", data=cv_df)\n",
    "sns.stripplot(x=\"model_name\", y=\"r2\", data=cv_df, size = 7, jitter=True, edgecolor=\"gray\", linewidth=2)\n",
    "plt.title(\"Regression Models\", fontsize=20)\n",
    "plt.ylabel(\"R Squared\", fontsize = 15)\n",
    "plt.xlabel(\"\")\n",
    "plt.xticks(fontsize = 12, rotation=90)\n",
    "plt.yticks(fontsize = 12, rotation=0)\n",
    "plt.show()"
   ]
  },
  {
   "cell_type": "code",
   "execution_count": 92,
   "id": "99fba489",
   "metadata": {},
   "outputs": [
    {
     "data": {
      "text/html": [
       "<div>\n",
       "<style scoped>\n",
       "    .dataframe tbody tr th:only-of-type {\n",
       "        vertical-align: middle;\n",
       "    }\n",
       "\n",
       "    .dataframe tbody tr th {\n",
       "        vertical-align: top;\n",
       "    }\n",
       "\n",
       "    .dataframe thead th {\n",
       "        text-align: right;\n",
       "    }\n",
       "</style>\n",
       "<table border=\"1\" class=\"dataframe\">\n",
       "  <thead>\n",
       "    <tr style=\"text-align: right;\">\n",
       "      <th></th>\n",
       "      <th>model_name</th>\n",
       "      <th>fold_idx</th>\n",
       "      <th>r2</th>\n",
       "    </tr>\n",
       "  </thead>\n",
       "  <tbody>\n",
       "    <tr>\n",
       "      <th>0</th>\n",
       "      <td>LinearRegression</td>\n",
       "      <td>0</td>\n",
       "      <td>0.865969</td>\n",
       "    </tr>\n",
       "    <tr>\n",
       "      <th>1</th>\n",
       "      <td>LinearRegression</td>\n",
       "      <td>1</td>\n",
       "      <td>0.857969</td>\n",
       "    </tr>\n",
       "    <tr>\n",
       "      <th>2</th>\n",
       "      <td>LinearRegression</td>\n",
       "      <td>2</td>\n",
       "      <td>0.863323</td>\n",
       "    </tr>\n",
       "    <tr>\n",
       "      <th>3</th>\n",
       "      <td>LinearRegression</td>\n",
       "      <td>3</td>\n",
       "      <td>0.870118</td>\n",
       "    </tr>\n",
       "    <tr>\n",
       "      <th>4</th>\n",
       "      <td>LinearRegression</td>\n",
       "      <td>4</td>\n",
       "      <td>0.849908</td>\n",
       "    </tr>\n",
       "  </tbody>\n",
       "</table>\n",
       "</div>"
      ],
      "text/plain": [
       "         model_name  fold_idx        r2\n",
       "0  LinearRegression         0  0.865969\n",
       "1  LinearRegression         1  0.857969\n",
       "2  LinearRegression         2  0.863323\n",
       "3  LinearRegression         3  0.870118\n",
       "4  LinearRegression         4  0.849908"
      ]
     },
     "execution_count": 92,
     "metadata": {},
     "output_type": "execute_result"
    }
   ],
   "source": [
    "cv_df.head(5)"
   ]
  },
  {
   "cell_type": "code",
   "execution_count": 93,
   "id": "4f0ec150",
   "metadata": {},
   "outputs": [
    {
     "data": {
      "text/html": [
       "<div>\n",
       "<style scoped>\n",
       "    .dataframe tbody tr th:only-of-type {\n",
       "        vertical-align: middle;\n",
       "    }\n",
       "\n",
       "    .dataframe tbody tr th {\n",
       "        vertical-align: top;\n",
       "    }\n",
       "\n",
       "    .dataframe thead th {\n",
       "        text-align: right;\n",
       "    }\n",
       "</style>\n",
       "<table border=\"1\" class=\"dataframe\">\n",
       "  <thead>\n",
       "    <tr style=\"text-align: right;\">\n",
       "      <th></th>\n",
       "      <th>model_name</th>\n",
       "      <th>r2</th>\n",
       "    </tr>\n",
       "  </thead>\n",
       "  <tbody>\n",
       "    <tr>\n",
       "      <th>2</th>\n",
       "      <td>RandomForestRegressor</td>\n",
       "      <td>0.878321</td>\n",
       "    </tr>\n",
       "    <tr>\n",
       "      <th>0</th>\n",
       "      <td>LassoCV</td>\n",
       "      <td>0.859946</td>\n",
       "    </tr>\n",
       "    <tr>\n",
       "      <th>3</th>\n",
       "      <td>RidgeCV</td>\n",
       "      <td>0.859886</td>\n",
       "    </tr>\n",
       "    <tr>\n",
       "      <th>1</th>\n",
       "      <td>LinearRegression</td>\n",
       "      <td>0.859882</td>\n",
       "    </tr>\n",
       "  </tbody>\n",
       "</table>\n",
       "</div>"
      ],
      "text/plain": [
       "              model_name        r2\n",
       "2  RandomForestRegressor  0.878321\n",
       "0                LassoCV  0.859946\n",
       "3                RidgeCV  0.859886\n",
       "1       LinearRegression  0.859882"
      ]
     },
     "execution_count": 93,
     "metadata": {},
     "output_type": "execute_result"
    }
   ],
   "source": [
    "final_comp = cv_df.groupby(\"model_name\").r2.mean().reset_index().sort_values(by = \"r2\", ascending = False)\n",
    "final_comp"
   ]
  },
  {
   "cell_type": "code",
   "execution_count": null,
   "id": "5fc282ca",
   "metadata": {},
   "outputs": [],
   "source": []
  }
 ],
 "metadata": {
  "kernelspec": {
   "display_name": "Python 3 (ipykernel)",
   "language": "python",
   "name": "python3"
  },
  "language_info": {
   "codemirror_mode": {
    "name": "ipython",
    "version": 3
   },
   "file_extension": ".py",
   "mimetype": "text/x-python",
   "name": "python",
   "nbconvert_exporter": "python",
   "pygments_lexer": "ipython3",
   "version": "3.9.13"
  }
 },
 "nbformat": 4,
 "nbformat_minor": 5
}
