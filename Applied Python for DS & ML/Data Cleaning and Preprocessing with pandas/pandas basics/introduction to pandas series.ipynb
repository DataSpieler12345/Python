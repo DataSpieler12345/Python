{
 "cells": [
  {
   "cell_type": "markdown",
   "id": "d45fe67e",
   "metadata": {},
   "source": [
    "<center><h1><b><font size=\"5\">Introduction to pandas Series</font></b></h1></center>"
   ]
  },
  {
   "cell_type": "markdown",
   "id": "e3106a7b",
   "metadata": {},
   "source": [
    "#### Import pandas"
   ]
  },
  {
   "cell_type": "code",
   "execution_count": 1,
   "id": "17be536d",
   "metadata": {},
   "outputs": [],
   "source": [
    "import pandas as pd"
   ]
  },
  {
   "cell_type": "markdown",
   "id": "3c3d361a",
   "metadata": {},
   "source": [
    "#### List"
   ]
  },
  {
   "cell_type": "code",
   "execution_count": 2,
   "id": "133f18c8",
   "metadata": {},
   "outputs": [],
   "source": [
    "products = ['A','B','C','D']"
   ]
  },
  {
   "cell_type": "code",
   "execution_count": 3,
   "id": "84159449",
   "metadata": {},
   "outputs": [
    {
     "data": {
      "text/plain": [
       "['A', 'B', 'C', 'D']"
      ]
     },
     "execution_count": 3,
     "metadata": {},
     "output_type": "execute_result"
    }
   ],
   "source": [
    "products"
   ]
  },
  {
   "cell_type": "markdown",
   "id": "eb2b9c2f",
   "metadata": {},
   "source": [
    "#### List to Series"
   ]
  },
  {
   "cell_type": "code",
   "execution_count": 4,
   "id": "2cfd3095",
   "metadata": {},
   "outputs": [],
   "source": [
    "product_categories = pd.Series(products)"
   ]
  },
  {
   "cell_type": "code",
   "execution_count": 5,
   "id": "0ec2add5",
   "metadata": {},
   "outputs": [
    {
     "data": {
      "text/plain": [
       "0    A\n",
       "1    B\n",
       "2    C\n",
       "3    D\n",
       "dtype: object"
      ]
     },
     "execution_count": 5,
     "metadata": {},
     "output_type": "execute_result"
    }
   ],
   "source": [
    "product_categories"
   ]
  },
  {
   "cell_type": "code",
   "execution_count": 6,
   "id": "83ca02b6",
   "metadata": {},
   "outputs": [
    {
     "data": {
      "text/plain": [
       "pandas.core.series.Series"
      ]
     },
     "execution_count": 6,
     "metadata": {},
     "output_type": "execute_result"
    }
   ],
   "source": [
    "type(product_categories)"
   ]
  },
  {
   "cell_type": "code",
   "execution_count": 8,
   "id": "eae1e3d3",
   "metadata": {},
   "outputs": [
    {
     "data": {
      "text/plain": [
       "pandas.core.series.Series"
      ]
     },
     "execution_count": 8,
     "metadata": {},
     "output_type": "execute_result"
    }
   ],
   "source": [
    "type(pd.Series(products))"
   ]
  },
  {
   "cell_type": "markdown",
   "id": "9066d478",
   "metadata": {},
   "source": [
    "#### storing the data into a new variables as Series"
   ]
  },
  {
   "cell_type": "code",
   "execution_count": 9,
   "id": "d8d80b5c",
   "metadata": {},
   "outputs": [
    {
     "data": {
      "text/plain": [
       "0    40\n",
       "1    45\n",
       "2    50\n",
       "3    60\n",
       "dtype: int64"
      ]
     },
     "execution_count": 9,
     "metadata": {},
     "output_type": "execute_result"
    }
   ],
   "source": [
    "daily_rates_dollars = pd.Series([40, 45, 50, 60])\n",
    "daily_rates_dollars"
   ]
  },
  {
   "cell_type": "markdown",
   "id": "a9b22d34",
   "metadata": {},
   "source": [
    "#### print daily_rates_dollars"
   ]
  },
  {
   "cell_type": "code",
   "execution_count": 10,
   "id": "1db19ebc",
   "metadata": {},
   "outputs": [
    {
     "name": "stdout",
     "output_type": "stream",
     "text": [
      "0    40\n",
      "1    45\n",
      "2    50\n",
      "3    60\n",
      "dtype: int64\n"
     ]
    }
   ],
   "source": [
    "print(daily_rates_dollars)"
   ]
  },
  {
   "cell_type": "markdown",
   "id": "0e8dff1c",
   "metadata": {},
   "source": [
    "####  Numpy Arrays"
   ]
  },
  {
   "cell_type": "code",
   "execution_count": 11,
   "id": "536fb815",
   "metadata": {},
   "outputs": [],
   "source": [
    "import numpy as np "
   ]
  },
  {
   "cell_type": "code",
   "execution_count": 12,
   "id": "05bf87f9",
   "metadata": {},
   "outputs": [
    {
     "data": {
      "text/plain": [
       "array([10, 20, 30, 40, 50])"
      ]
     },
     "execution_count": 12,
     "metadata": {},
     "output_type": "execute_result"
    }
   ],
   "source": [
    "array_a = np.array([10, 20, 30, 40, 50])\n",
    "array_a"
   ]
  },
  {
   "cell_type": "code",
   "execution_count": 13,
   "id": "26f12aa2",
   "metadata": {},
   "outputs": [
    {
     "data": {
      "text/plain": [
       "numpy.ndarray"
      ]
     },
     "execution_count": 13,
     "metadata": {},
     "output_type": "execute_result"
    }
   ],
   "source": [
    "type(array_a)"
   ]
  },
  {
   "cell_type": "code",
   "execution_count": 14,
   "id": "38328f8b",
   "metadata": {},
   "outputs": [
    {
     "data": {
      "text/plain": [
       "0    10\n",
       "1    20\n",
       "2    30\n",
       "3    40\n",
       "4    50\n",
       "dtype: int32"
      ]
     },
     "execution_count": 14,
     "metadata": {},
     "output_type": "execute_result"
    }
   ],
   "source": [
    "series_a = pd.Series(array_a)\n",
    "series_a"
   ]
  },
  {
   "cell_type": "code",
   "execution_count": 15,
   "id": "1375b5d2",
   "metadata": {},
   "outputs": [
    {
     "name": "stdout",
     "output_type": "stream",
     "text": [
      "0    10\n",
      "1    20\n",
      "2    30\n",
      "3    40\n",
      "4    50\n",
      "dtype: int32\n"
     ]
    }
   ],
   "source": [
    "print(series_a)"
   ]
  },
  {
   "cell_type": "code",
   "execution_count": 16,
   "id": "1c8f5a7a",
   "metadata": {},
   "outputs": [
    {
     "data": {
      "text/plain": [
       "pandas.core.series.Series"
      ]
     },
     "execution_count": 16,
     "metadata": {},
     "output_type": "execute_result"
    }
   ],
   "source": [
    "type(series_a)"
   ]
  }
 ],
 "metadata": {
  "kernelspec": {
   "display_name": "Python 3 (ipykernel)",
   "language": "python",
   "name": "python3"
  },
  "language_info": {
   "codemirror_mode": {
    "name": "ipython",
    "version": 3
   },
   "file_extension": ".py",
   "mimetype": "text/x-python",
   "name": "python",
   "nbconvert_exporter": "python",
   "pygments_lexer": "ipython3",
   "version": "3.9.13"
  }
 },
 "nbformat": 4,
 "nbformat_minor": 5
}
