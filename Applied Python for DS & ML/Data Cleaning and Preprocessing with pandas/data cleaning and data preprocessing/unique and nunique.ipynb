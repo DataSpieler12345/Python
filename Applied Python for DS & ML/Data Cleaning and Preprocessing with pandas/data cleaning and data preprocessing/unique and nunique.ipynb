{
 "cells": [
  {
   "cell_type": "markdown",
   "id": "fa1d87a2",
   "metadata": {},
   "source": [
    "<center><h1><b><font size=\"6\">Pandas Series: .unique() & .nunique()</font></b></h1></center>"
   ]
  },
  {
   "cell_type": "markdown",
   "id": "c22e9506",
   "metadata": {},
   "source": [
    "#### Import pandas "
   ]
  },
  {
   "cell_type": "code",
   "execution_count": 1,
   "id": "8dac1832",
   "metadata": {},
   "outputs": [],
   "source": [
    "import pandas as pd"
   ]
  },
  {
   "cell_type": "markdown",
   "id": "9b3c19dc",
   "metadata": {},
   "source": [
    "#### Load the data"
   ]
  },
  {
   "cell_type": "code",
   "execution_count": 3,
   "id": "73575bc3",
   "metadata": {},
   "outputs": [
    {
     "data": {
      "text/html": [
       "<div>\n",
       "<style scoped>\n",
       "    .dataframe tbody tr th:only-of-type {\n",
       "        vertical-align: middle;\n",
       "    }\n",
       "\n",
       "    .dataframe tbody tr th {\n",
       "        vertical-align: top;\n",
       "    }\n",
       "\n",
       "    .dataframe thead th {\n",
       "        text-align: right;\n",
       "    }\n",
       "</style>\n",
       "<table border=\"1\" class=\"dataframe\">\n",
       "  <thead>\n",
       "    <tr style=\"text-align: right;\">\n",
       "      <th></th>\n",
       "      <th>Location</th>\n",
       "    </tr>\n",
       "  </thead>\n",
       "  <tbody>\n",
       "    <tr>\n",
       "      <th>0</th>\n",
       "      <td>Location 3</td>\n",
       "    </tr>\n",
       "    <tr>\n",
       "      <th>1</th>\n",
       "      <td>Location 6</td>\n",
       "    </tr>\n",
       "    <tr>\n",
       "      <th>2</th>\n",
       "      <td>Location 8</td>\n",
       "    </tr>\n",
       "    <tr>\n",
       "      <th>3</th>\n",
       "      <td>Location 26</td>\n",
       "    </tr>\n",
       "    <tr>\n",
       "      <th>4</th>\n",
       "      <td>Location 34</td>\n",
       "    </tr>\n",
       "  </tbody>\n",
       "</table>\n",
       "</div>"
      ],
      "text/plain": [
       "      Location\n",
       "0   Location 3\n",
       "1   Location 6\n",
       "2   Location 8\n",
       "3  Location 26\n",
       "4  Location 34"
      ]
     },
     "execution_count": 3,
     "metadata": {},
     "output_type": "execute_result"
    }
   ],
   "source": [
    "data = pd.read_csv('./data/Location.csv')\n",
    "location_data = data.copy()\n",
    "location_data.head()"
   ]
  },
  {
   "cell_type": "code",
   "execution_count": 4,
   "id": "a1679c1e",
   "metadata": {},
   "outputs": [
    {
     "data": {
      "text/plain": [
       "pandas.core.frame.DataFrame"
      ]
     },
     "execution_count": 4,
     "metadata": {},
     "output_type": "execute_result"
    }
   ],
   "source": [
    "type(location_data)"
   ]
  },
  {
   "cell_type": "code",
   "execution_count": 5,
   "id": "b6cec10f",
   "metadata": {},
   "outputs": [
    {
     "data": {
      "text/html": [
       "<div>\n",
       "<style scoped>\n",
       "    .dataframe tbody tr th:only-of-type {\n",
       "        vertical-align: middle;\n",
       "    }\n",
       "\n",
       "    .dataframe tbody tr th {\n",
       "        vertical-align: top;\n",
       "    }\n",
       "\n",
       "    .dataframe thead th {\n",
       "        text-align: right;\n",
       "    }\n",
       "</style>\n",
       "<table border=\"1\" class=\"dataframe\">\n",
       "  <thead>\n",
       "    <tr style=\"text-align: right;\">\n",
       "      <th></th>\n",
       "      <th>Location</th>\n",
       "    </tr>\n",
       "  </thead>\n",
       "  <tbody>\n",
       "    <tr>\n",
       "      <th>count</th>\n",
       "      <td>1043</td>\n",
       "    </tr>\n",
       "    <tr>\n",
       "      <th>unique</th>\n",
       "      <td>296</td>\n",
       "    </tr>\n",
       "    <tr>\n",
       "      <th>top</th>\n",
       "      <td>Location 25</td>\n",
       "    </tr>\n",
       "    <tr>\n",
       "      <th>freq</th>\n",
       "      <td>31</td>\n",
       "    </tr>\n",
       "  </tbody>\n",
       "</table>\n",
       "</div>"
      ],
      "text/plain": [
       "           Location\n",
       "count          1043\n",
       "unique          296\n",
       "top     Location 25\n",
       "freq             31"
      ]
     },
     "execution_count": 5,
     "metadata": {},
     "output_type": "execute_result"
    }
   ],
   "source": [
    "location_data.describe()"
   ]
  },
  {
   "cell_type": "code",
   "execution_count": 6,
   "id": "9f36254d",
   "metadata": {},
   "outputs": [
    {
     "data": {
      "text/plain": [
       "1043"
      ]
     },
     "execution_count": 6,
     "metadata": {},
     "output_type": "execute_result"
    }
   ],
   "source": [
    "len(location_data)"
   ]
  },
  {
   "cell_type": "code",
   "execution_count": 7,
   "id": "9a82fd6d",
   "metadata": {},
   "outputs": [
    {
     "data": {
      "text/plain": [
       "Location    296\n",
       "dtype: int64"
      ]
     },
     "execution_count": 7,
     "metadata": {},
     "output_type": "execute_result"
    }
   ],
   "source": [
    "location_data.nunique()"
   ]
  },
  {
   "cell_type": "code",
   "execution_count": 8,
   "id": "3cf26a27",
   "metadata": {},
   "outputs": [
    {
     "data": {
      "text/plain": [
       "pandas.core.series.Series"
      ]
     },
     "execution_count": 8,
     "metadata": {},
     "output_type": "execute_result"
    }
   ],
   "source": [
    "type(location_data.nunique())"
   ]
  },
  {
   "cell_type": "code",
   "execution_count": 14,
   "id": "ccfe32b9",
   "metadata": {},
   "outputs": [],
   "source": [
    "unique_values = location_data['Location'].unique()"
   ]
  },
  {
   "cell_type": "code",
   "execution_count": 15,
   "id": "95b1ff68",
   "metadata": {},
   "outputs": [
    {
     "name": "stdout",
     "output_type": "stream",
     "text": [
      "Unique values in Location: ['Location 3' 'Location 6' 'Location 8' 'Location 26' 'Location 34'\n",
      " 'Location 25' 'Location 46' 'Location 156' 'Location 21' 'Location 13'\n",
      " 'Location 579' 'Location 602' 'Location 10' 'Location 44' 'Location 30'\n",
      " 'Location 48' 'Location 196' 'Location 64' 'Location 91' 'Location 62'\n",
      " 'Location 75' 'Location 42' 'Location 233' 'Location 95' 'Location 78'\n",
      " 'Location 61' 'Location 87' 'Location 19' 'Location 115' 'Location 350'\n",
      " 'Location 377' 'Location 17' 'Location 113' 'Location 81' 'Location 58'\n",
      " 'Location 212' 'Location 53' 'Location 337' 'Location 41' 'Location 632'\n",
      " 'Location 73' 'Location 214' 'Location 218' 'Location 38' 'Location 172'\n",
      " 'Location 197' 'Location 101' 'Location 185' 'Location 129'\n",
      " 'Location 235' 'Location 142' 'Location 50' 'Location 76' 'Location 11'\n",
      " 'Location 33' 'Location 22' 'Location 145' 'Location 203' 'Location 94'\n",
      " 'Location 573' 'Location 27' 'Location 186' 'Location 4' 'Location 70'\n",
      " 'Location 45' 'Location 262' 'Location 111' 'Location 84' 'Location 108'\n",
      " 'Location 7' 'Location 74' 'Location 450' 'Location 47' 'Location 37'\n",
      " 'Location 43' 'Location 286' 'Location 89' 'Location 24' 'Location 97'\n",
      " 'Location 144' 'Location 40' 'Location 128' 'Location 169' 'Location 399'\n",
      " 'Location 23' 'Location 191' 'Location 178' 'Location 510' 'Location 600'\n",
      " 'Location 188' 'Location 67' 'Location 49' 'Location 29' 'Location 222'\n",
      " 'Location 386' 'Location 88' 'Location 104' 'Location 405' 'Location 114'\n",
      " 'Location 259' 'Location 182' 'Location 12' 'Location 228' 'Location 149'\n",
      " 'Location 90' 'Location 109' 'Location 441' 'Location 421' 'Location 641'\n",
      " 'Location 195' 'Location 20' 'Location 161' 'Location 117' 'Location 200'\n",
      " 'Location 106' 'Location 31' 'Location 122' 'Location 541' 'Location 495'\n",
      " 'Location 193' 'Location 39' 'Location 9' 'Location 86' 'Location 107'\n",
      " 'Location 198' 'Location 318' 'Location 135' 'Location 177' 'Location 32'\n",
      " 'Location 591' 'Location 488' 'Location 418' 'Location 587'\n",
      " 'Location 454' 'Location 543' 'Location 489' 'Location 60' 'Location 52'\n",
      " 'Location 548' 'Location 15' 'Location 240' 'Location 658' 'Location 209'\n",
      " 'Location 151' 'Location 192' 'Location 364' 'Location 18' 'Location 503'\n",
      " 'Location 482' 'Location 460' 'Location 71' 'Location 69' 'Location 258'\n",
      " 'Location 204' 'Location 124' 'Location 168' 'Location 35' 'Location 296'\n",
      " 'Location 136' 'Location 28' 'Location 153' 'Location 99' 'Location 132'\n",
      " 'Location 427' 'Location 118' 'Location 127' 'Location 159'\n",
      " 'Location 154' 'Location 175' 'Location 120' 'Location 82' 'Location 152'\n",
      " 'Location 56' 'Location 282' 'Location 566' 'Location 365' 'Location 353'\n",
      " 'Location 66' 'Location 2' 'Location 323' 'Location 473' 'Location 206'\n",
      " 'Location 57' 'Location 68' 'Location 166' 'Location 1' 'Location 227'\n",
      " 'Location 79' 'Location 642' 'Location 105' 'Location 644' 'Location 547'\n",
      " 'Location 637' 'Location 59' 'Location 574' 'Location 529' 'Location 554'\n",
      " 'Location 275' 'Location 589' 'Location 160' 'Location 410'\n",
      " 'Location 146' 'Location 221' 'Location 265' 'Location 569'\n",
      " 'Location 157' 'Location 648' 'Location 165' 'Location 651'\n",
      " 'Location 266' 'Location 77' 'Location 158' 'Location 336' 'Location 72'\n",
      " 'Location 463' 'Location 253' 'Location 5' 'Location 431' 'Location 515'\n",
      " 'Location 226' 'Location 140' 'Location 110' 'Location 202'\n",
      " 'Location 634' 'Location 138' 'Location 217' 'Location 443'\n",
      " 'Location 627' 'Location 123' 'Location 528' 'Location 357'\n",
      " 'Location 187' 'Location 315' 'Location 112' 'Location 302'\n",
      " 'Location 194' 'Location 332' 'Location 208' 'Location 179'\n",
      " 'Location 199' 'Location 201' 'Location 174' 'Location 474'\n",
      " 'Location 184' 'Location 63' 'Location 512' 'Location 403' 'Location 436'\n",
      " 'Location 210' 'Location 468' 'Location 464' 'Location 98' 'Location 102'\n",
      " 'Location 325' 'Location 267' 'Location 173' 'Location 617'\n",
      " 'Location 141' 'Location 300' 'Location 216' 'Location 506'\n",
      " 'Location 647' 'Location 402' 'Location 239' 'Location 54' 'Location 137'\n",
      " 'Location 477' 'Location 586' 'Location 472' 'Location 374'\n",
      " 'Location 458' 'Location 180' 'Location 653' 'Location 16' 'Location 612'\n",
      " 'Location 505' 'Location 631' 'Location 299' 'Location 65' 'Location 342'\n",
      " 'Location 155' 'Location 511' 'Location 461' 'Location 244'\n",
      " 'Location 207' 'Location 597' 'Location 352' 'Location 533'\n",
      " 'Location 384' 'Location 80' 'Location 171' 'Location 143' 'Location 576'\n",
      " 'Location 139' 'Location 125' 'Location 181']\n"
     ]
    }
   ],
   "source": [
    "for Location in location_data.columns:\n",
    "    unique_values = location_data[Location].unique()\n",
    "    print(f\"Unique values in {Location}: {unique_values}\")"
   ]
  }
 ],
 "metadata": {
  "kernelspec": {
   "display_name": "Python 3 (ipykernel)",
   "language": "python",
   "name": "python3"
  },
  "language_info": {
   "codemirror_mode": {
    "name": "ipython",
    "version": 3
   },
   "file_extension": ".py",
   "mimetype": "text/x-python",
   "name": "python",
   "nbconvert_exporter": "python",
   "pygments_lexer": "ipython3",
   "version": "3.9.13"
  }
 },
 "nbformat": 4,
 "nbformat_minor": 5
}
