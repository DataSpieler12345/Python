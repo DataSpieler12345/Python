{
 "cells": [
  {
   "cell_type": "markdown",
   "id": "9a80a5db",
   "metadata": {},
   "source": [
    "<center><h1><b><font size=\"5\">Pandas DataFrames: Data Selection in pandas DataFrames</font></b></h1></center>"
   ]
  },
  {
   "cell_type": "markdown",
   "id": "f731059f",
   "metadata": {},
   "source": [
    "#### Import libraries"
   ]
  },
  {
   "cell_type": "code",
   "execution_count": 1,
   "id": "8965bbd2",
   "metadata": {},
   "outputs": [],
   "source": [
    "import pandas as pd"
   ]
  },
  {
   "cell_type": "markdown",
   "id": "5fdb9407",
   "metadata": {},
   "source": [
    "#### Load the data"
   ]
  },
  {
   "cell_type": "code",
   "execution_count": 2,
   "id": "db7227e3",
   "metadata": {},
   "outputs": [
    {
     "data": {
      "text/html": [
       "<div>\n",
       "<style scoped>\n",
       "    .dataframe tbody tr th:only-of-type {\n",
       "        vertical-align: middle;\n",
       "    }\n",
       "\n",
       "    .dataframe tbody tr th {\n",
       "        vertical-align: top;\n",
       "    }\n",
       "\n",
       "    .dataframe thead th {\n",
       "        text-align: right;\n",
       "    }\n",
       "</style>\n",
       "<table border=\"1\" class=\"dataframe\">\n",
       "  <thead>\n",
       "    <tr style=\"text-align: right;\">\n",
       "      <th></th>\n",
       "      <th>StringID</th>\n",
       "      <th>Product</th>\n",
       "      <th>CustomerGender</th>\n",
       "      <th>Location</th>\n",
       "      <th>Region</th>\n",
       "      <th>TotalPrice</th>\n",
       "      <th>StartDate</th>\n",
       "      <th>Deposit</th>\n",
       "      <th>DailyRate</th>\n",
       "      <th>TotalDaysYr</th>\n",
       "      <th>AmtPaid36</th>\n",
       "      <th>AmtPaid60</th>\n",
       "      <th>AmtPaid360</th>\n",
       "      <th>LoanStatus</th>\n",
       "    </tr>\n",
       "    <tr>\n",
       "      <th>LoanID</th>\n",
       "      <th></th>\n",
       "      <th></th>\n",
       "      <th></th>\n",
       "      <th></th>\n",
       "      <th></th>\n",
       "      <th></th>\n",
       "      <th></th>\n",
       "      <th></th>\n",
       "      <th></th>\n",
       "      <th></th>\n",
       "      <th></th>\n",
       "      <th></th>\n",
       "      <th></th>\n",
       "      <th></th>\n",
       "    </tr>\n",
       "  </thead>\n",
       "  <tbody>\n",
       "    <tr>\n",
       "      <th>1</th>\n",
       "      <td>LoanID_1</td>\n",
       "      <td>Product B</td>\n",
       "      <td>Female</td>\n",
       "      <td>Location 3</td>\n",
       "      <td>Region 2</td>\n",
       "      <td>17600.0</td>\n",
       "      <td>04/07/2018</td>\n",
       "      <td>2200</td>\n",
       "      <td>45</td>\n",
       "      <td>365</td>\n",
       "      <td>3221</td>\n",
       "      <td>4166</td>\n",
       "      <td>14621</td>\n",
       "      <td>Active</td>\n",
       "    </tr>\n",
       "    <tr>\n",
       "      <th>2</th>\n",
       "      <td>LoanID_2</td>\n",
       "      <td>Product D</td>\n",
       "      <td>Female</td>\n",
       "      <td>Location 6</td>\n",
       "      <td>Region 6</td>\n",
       "      <td>NaN</td>\n",
       "      <td>02/01/2019</td>\n",
       "      <td>2200</td>\n",
       "      <td>45</td>\n",
       "      <td>365</td>\n",
       "      <td>3161</td>\n",
       "      <td>4096</td>\n",
       "      <td>16041</td>\n",
       "      <td>Active</td>\n",
       "    </tr>\n",
       "    <tr>\n",
       "      <th>3</th>\n",
       "      <td>LoanID_3</td>\n",
       "      <td>Product B</td>\n",
       "      <td>Male</td>\n",
       "      <td>Location 8</td>\n",
       "      <td>Region 3</td>\n",
       "      <td>16600.0</td>\n",
       "      <td>08/12/2016</td>\n",
       "      <td>1000</td>\n",
       "      <td>45</td>\n",
       "      <td>365</td>\n",
       "      <td>2260</td>\n",
       "      <td>3205</td>\n",
       "      <td>16340</td>\n",
       "      <td>NaN</td>\n",
       "    </tr>\n",
       "    <tr>\n",
       "      <th>4</th>\n",
       "      <td>LoanID_4</td>\n",
       "      <td>Product A</td>\n",
       "      <td>Male</td>\n",
       "      <td>Location 26</td>\n",
       "      <td>Region 2</td>\n",
       "      <td>17600.0</td>\n",
       "      <td>NaN</td>\n",
       "      <td>2200</td>\n",
       "      <td>45</td>\n",
       "      <td>365</td>\n",
       "      <td>3141</td>\n",
       "      <td>4166</td>\n",
       "      <td>16321</td>\n",
       "      <td>Active</td>\n",
       "    </tr>\n",
       "    <tr>\n",
       "      <th>5</th>\n",
       "      <td>LoanID_5</td>\n",
       "      <td>Product B</td>\n",
       "      <td>Female</td>\n",
       "      <td>Location 34</td>\n",
       "      <td>Region 3</td>\n",
       "      <td>21250.0</td>\n",
       "      <td>28/10/2017</td>\n",
       "      <td>2200</td>\n",
       "      <td>55</td>\n",
       "      <td>365</td>\n",
       "      <td>3570</td>\n",
       "      <td>4745</td>\n",
       "      <td>14720</td>\n",
       "      <td>Active</td>\n",
       "    </tr>\n",
       "  </tbody>\n",
       "</table>\n",
       "</div>"
      ],
      "text/plain": [
       "        StringID    Product CustomerGender     Location    Region  TotalPrice  \\\n",
       "LoanID                                                                          \n",
       "1       LoanID_1  Product B         Female   Location 3  Region 2     17600.0   \n",
       "2       LoanID_2  Product D         Female   Location 6  Region 6         NaN   \n",
       "3       LoanID_3  Product B           Male   Location 8  Region 3     16600.0   \n",
       "4       LoanID_4  Product A           Male  Location 26  Region 2     17600.0   \n",
       "5       LoanID_5  Product B         Female  Location 34  Region 3     21250.0   \n",
       "\n",
       "         StartDate  Deposit  DailyRate  TotalDaysYr  AmtPaid36  AmtPaid60  \\\n",
       "LoanID                                                                      \n",
       "1       04/07/2018     2200         45          365       3221       4166   \n",
       "2       02/01/2019     2200         45          365       3161       4096   \n",
       "3       08/12/2016     1000         45          365       2260       3205   \n",
       "4              NaN     2200         45          365       3141       4166   \n",
       "5       28/10/2017     2200         55          365       3570       4745   \n",
       "\n",
       "        AmtPaid360 LoanStatus  \n",
       "LoanID                         \n",
       "1            14621     Active  \n",
       "2            16041     Active  \n",
       "3            16340        NaN  \n",
       "4            16321     Active  \n",
       "5            14720     Active  "
      ]
     },
     "execution_count": 2,
     "metadata": {},
     "output_type": "execute_result"
    }
   ],
   "source": [
    "data = pd.read_csv('./data/Lending-company.csv', index_col = 'LoanID')\n",
    "lending_co_data = data.copy()\n",
    "lending_co_data.head()"
   ]
  },
  {
   "cell_type": "code",
   "execution_count": 6,
   "id": "557ebad4",
   "metadata": {},
   "outputs": [
    {
     "data": {
      "text/plain": [
       "LoanID\n",
       "1       Product B\n",
       "2       Product D\n",
       "3       Product B\n",
       "4       Product A\n",
       "5       Product B\n",
       "          ...    \n",
       "1039    Product B\n",
       "1040    Product A\n",
       "1041    Product A\n",
       "1042    Product B\n",
       "1043    Product A\n",
       "Name: Product, Length: 1043, dtype: object"
      ]
     },
     "execution_count": 6,
     "metadata": {},
     "output_type": "execute_result"
    }
   ],
   "source": [
    "#type of acces attribute\n",
    "lending_co_data.Product"
   ]
  },
  {
   "cell_type": "code",
   "execution_count": 7,
   "id": "3ea1ee6a",
   "metadata": {},
   "outputs": [
    {
     "data": {
      "text/plain": [
       "LoanID\n",
       "1        Location 3\n",
       "2        Location 6\n",
       "3        Location 8\n",
       "4       Location 26\n",
       "5       Location 34\n",
       "           ...     \n",
       "1039    Location 73\n",
       "1040    Location 82\n",
       "1041    Location 11\n",
       "1042    Location 26\n",
       "1043    Location 94\n",
       "Name: Location, Length: 1043, dtype: object"
      ]
     },
     "execution_count": 7,
     "metadata": {},
     "output_type": "execute_result"
    }
   ],
   "source": [
    "lending_co_data.Location"
   ]
  },
  {
   "cell_type": "code",
   "execution_count": 8,
   "id": "6900d9ee",
   "metadata": {},
   "outputs": [
    {
     "data": {
      "text/plain": [
       "LoanID\n",
       "1       Product B\n",
       "2       Product D\n",
       "3       Product B\n",
       "4       Product A\n",
       "5       Product B\n",
       "          ...    \n",
       "1039    Product B\n",
       "1040    Product A\n",
       "1041    Product A\n",
       "1042    Product B\n",
       "1043    Product A\n",
       "Name: Product, Length: 1043, dtype: object"
      ]
     },
     "execution_count": 8,
     "metadata": {},
     "output_type": "execute_result"
    }
   ],
   "source": [
    "lending_co_data['Product']"
   ]
  },
  {
   "cell_type": "code",
   "execution_count": 9,
   "id": "41154fc4",
   "metadata": {},
   "outputs": [
    {
     "data": {
      "text/plain": [
       "LoanID\n",
       "1        Location 3\n",
       "2        Location 6\n",
       "3        Location 8\n",
       "4       Location 26\n",
       "5       Location 34\n",
       "           ...     \n",
       "1039    Location 73\n",
       "1040    Location 82\n",
       "1041    Location 11\n",
       "1042    Location 26\n",
       "1043    Location 94\n",
       "Name: Location, Length: 1043, dtype: object"
      ]
     },
     "execution_count": 9,
     "metadata": {},
     "output_type": "execute_result"
    }
   ],
   "source": [
    "lending_co_data['Location']"
   ]
  },
  {
   "cell_type": "code",
   "execution_count": null,
   "id": "45353363",
   "metadata": {},
   "outputs": [],
   "source": [
    "lending_co_data['location'] # error = 'location' and not 'Location'"
   ]
  },
  {
   "cell_type": "code",
   "execution_count": 11,
   "id": "729f03ed",
   "metadata": {},
   "outputs": [
    {
     "data": {
      "text/plain": [
       "pandas.core.series.Series"
      ]
     },
     "execution_count": 11,
     "metadata": {},
     "output_type": "execute_result"
    }
   ],
   "source": [
    "type(lending_co_data['Location'])"
   ]
  },
  {
   "cell_type": "code",
   "execution_count": 12,
   "id": "11c4eca8",
   "metadata": {},
   "outputs": [
    {
     "data": {
      "text/html": [
       "<div>\n",
       "<style scoped>\n",
       "    .dataframe tbody tr th:only-of-type {\n",
       "        vertical-align: middle;\n",
       "    }\n",
       "\n",
       "    .dataframe tbody tr th {\n",
       "        vertical-align: top;\n",
       "    }\n",
       "\n",
       "    .dataframe thead th {\n",
       "        text-align: right;\n",
       "    }\n",
       "</style>\n",
       "<table border=\"1\" class=\"dataframe\">\n",
       "  <thead>\n",
       "    <tr style=\"text-align: right;\">\n",
       "      <th></th>\n",
       "      <th>Location</th>\n",
       "    </tr>\n",
       "    <tr>\n",
       "      <th>LoanID</th>\n",
       "      <th></th>\n",
       "    </tr>\n",
       "  </thead>\n",
       "  <tbody>\n",
       "    <tr>\n",
       "      <th>1</th>\n",
       "      <td>Location 3</td>\n",
       "    </tr>\n",
       "    <tr>\n",
       "      <th>2</th>\n",
       "      <td>Location 6</td>\n",
       "    </tr>\n",
       "    <tr>\n",
       "      <th>3</th>\n",
       "      <td>Location 8</td>\n",
       "    </tr>\n",
       "    <tr>\n",
       "      <th>4</th>\n",
       "      <td>Location 26</td>\n",
       "    </tr>\n",
       "    <tr>\n",
       "      <th>5</th>\n",
       "      <td>Location 34</td>\n",
       "    </tr>\n",
       "    <tr>\n",
       "      <th>...</th>\n",
       "      <td>...</td>\n",
       "    </tr>\n",
       "    <tr>\n",
       "      <th>1039</th>\n",
       "      <td>Location 73</td>\n",
       "    </tr>\n",
       "    <tr>\n",
       "      <th>1040</th>\n",
       "      <td>Location 82</td>\n",
       "    </tr>\n",
       "    <tr>\n",
       "      <th>1041</th>\n",
       "      <td>Location 11</td>\n",
       "    </tr>\n",
       "    <tr>\n",
       "      <th>1042</th>\n",
       "      <td>Location 26</td>\n",
       "    </tr>\n",
       "    <tr>\n",
       "      <th>1043</th>\n",
       "      <td>Location 94</td>\n",
       "    </tr>\n",
       "  </tbody>\n",
       "</table>\n",
       "<p>1043 rows × 1 columns</p>\n",
       "</div>"
      ],
      "text/plain": [
       "           Location\n",
       "LoanID             \n",
       "1        Location 3\n",
       "2        Location 6\n",
       "3        Location 8\n",
       "4       Location 26\n",
       "5       Location 34\n",
       "...             ...\n",
       "1039    Location 73\n",
       "1040    Location 82\n",
       "1041    Location 11\n",
       "1042    Location 26\n",
       "1043    Location 94\n",
       "\n",
       "[1043 rows x 1 columns]"
      ]
     },
     "execution_count": 12,
     "metadata": {},
     "output_type": "execute_result"
    }
   ],
   "source": [
    "# a nested list containing a single element\n",
    "lending_co_data[['Location']]"
   ]
  },
  {
   "cell_type": "code",
   "execution_count": 13,
   "id": "cffba202",
   "metadata": {},
   "outputs": [
    {
     "data": {
      "text/plain": [
       "pandas.core.frame.DataFrame"
      ]
     },
     "execution_count": 13,
     "metadata": {},
     "output_type": "execute_result"
    }
   ],
   "source": [
    "type(lending_co_data[['Location']])"
   ]
  },
  {
   "cell_type": "code",
   "execution_count": 14,
   "id": "52ec5cbf",
   "metadata": {},
   "outputs": [
    {
     "data": {
      "text/html": [
       "<div>\n",
       "<style scoped>\n",
       "    .dataframe tbody tr th:only-of-type {\n",
       "        vertical-align: middle;\n",
       "    }\n",
       "\n",
       "    .dataframe tbody tr th {\n",
       "        vertical-align: top;\n",
       "    }\n",
       "\n",
       "    .dataframe thead th {\n",
       "        text-align: right;\n",
       "    }\n",
       "</style>\n",
       "<table border=\"1\" class=\"dataframe\">\n",
       "  <thead>\n",
       "    <tr style=\"text-align: right;\">\n",
       "      <th></th>\n",
       "      <th>Location</th>\n",
       "      <th>Product</th>\n",
       "    </tr>\n",
       "    <tr>\n",
       "      <th>LoanID</th>\n",
       "      <th></th>\n",
       "      <th></th>\n",
       "    </tr>\n",
       "  </thead>\n",
       "  <tbody>\n",
       "    <tr>\n",
       "      <th>1</th>\n",
       "      <td>Location 3</td>\n",
       "      <td>Product B</td>\n",
       "    </tr>\n",
       "    <tr>\n",
       "      <th>2</th>\n",
       "      <td>Location 6</td>\n",
       "      <td>Product D</td>\n",
       "    </tr>\n",
       "    <tr>\n",
       "      <th>3</th>\n",
       "      <td>Location 8</td>\n",
       "      <td>Product B</td>\n",
       "    </tr>\n",
       "    <tr>\n",
       "      <th>4</th>\n",
       "      <td>Location 26</td>\n",
       "      <td>Product A</td>\n",
       "    </tr>\n",
       "    <tr>\n",
       "      <th>5</th>\n",
       "      <td>Location 34</td>\n",
       "      <td>Product B</td>\n",
       "    </tr>\n",
       "  </tbody>\n",
       "</table>\n",
       "</div>"
      ],
      "text/plain": [
       "           Location    Product\n",
       "LoanID                        \n",
       "1        Location 3  Product B\n",
       "2        Location 6  Product D\n",
       "3        Location 8  Product B\n",
       "4       Location 26  Product A\n",
       "5       Location 34  Product B"
      ]
     },
     "execution_count": 14,
     "metadata": {},
     "output_type": "execute_result"
    }
   ],
   "source": [
    "lending_co_data[['Location', 'Product']].head()"
   ]
  }
 ],
 "metadata": {
  "kernelspec": {
   "display_name": "Python 3 (ipykernel)",
   "language": "python",
   "name": "python3"
  },
  "language_info": {
   "codemirror_mode": {
    "name": "ipython",
    "version": 3
   },
   "file_extension": ".py",
   "mimetype": "text/x-python",
   "name": "python",
   "nbconvert_exporter": "python",
   "pygments_lexer": "ipython3",
   "version": "3.9.13"
  }
 },
 "nbformat": 4,
 "nbformat_minor": 5
}
