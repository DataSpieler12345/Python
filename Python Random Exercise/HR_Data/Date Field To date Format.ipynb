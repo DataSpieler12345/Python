{
 "cells": [
  {
   "cell_type": "markdown",
   "id": "10553d50",
   "metadata": {},
   "source": [
    "**Importamos pandas para leer la data en csv formato**"
   ]
  },
  {
   "cell_type": "code",
   "execution_count": 68,
   "id": "ed22a9ea",
   "metadata": {},
   "outputs": [],
   "source": [
    "import pandas as pd"
   ]
  },
  {
   "cell_type": "code",
   "execution_count": null,
   "id": "2f202440",
   "metadata": {},
   "outputs": [],
   "source": [
    "**Ruta donde se encuentra el csv "
   ]
  },
  {
   "cell_type": "code",
   "execution_count": 76,
   "id": "e36e1985",
   "metadata": {},
   "outputs": [],
   "source": [
    "ruta = \"USEYOURDISC:/PATH1/....2/....3/HR_DATA.csv\""
   ]
  },
  {
   "cell_type": "code",
   "execution_count": 77,
   "id": "e31c5203",
   "metadata": {},
   "outputs": [
    {
     "name": "stdout",
     "output_type": "stream",
     "text": [
      "   Employee ID         DOB  Emp Age    Surname     Name Gender Marital Status  \\\n",
      "0        10005  28/10/1953       69    Jackson   Noelia      F         Single   \n",
      "1        10007  28/04/1953       69      Carey  Rodrigo      M         Single   \n",
      "2        10009  06/02/1968       55       Chan    Lucas      M         Single   \n",
      "3        10015  10/11/1983       39   Ferreira   Daiana      F         Single   \n",
      "4        10040  01/05/1961       61  Bernstein    Ruben      M         Single   \n",
      "\n",
      "         Branch            Hire Date Leave Date  ...  Status  Department  \\\n",
      "0  Buenos Aires  2014-01-25 00:00:00        NaN  ...  Active  Production   \n",
      "1          Lima  2014-02-04 00:00:00        NaN  ...  Active  Production   \n",
      "2  Buenos Aires  2014-02-09 00:00:00        NaN  ...  Active  Production   \n",
      "3          Lima  2014-05-02 00:00:00        NaN  ...  Active  Production   \n",
      "4          Lima  2014-10-07 00:00:00        NaN  ...  Active  Production   \n",
      "\n",
      "  Employee Satisfaction  Annual Salary ($)  Bonus ($)  Total Compensation  \\\n",
      "0                     3              43241       4757               47998   \n",
      "1                     3              51009       7141               58150   \n",
      "2                     4              42034       6305               48339   \n",
      "3                     4              44391       2663               47054   \n",
      "4                     3              43361       8239               51600   \n",
      "\n",
      "                 Job Title Job Description Manager (Y/N)  Performance  \n",
      "0  Production Technician I      Technician            No  Fully Meets  \n",
      "1  Production Technician I      Technician            No  Fully Meets  \n",
      "2  Production Technician I      Technician            No  Fully Meets  \n",
      "3  Production Technician I      Technician            No  Fully Meets  \n",
      "4  Production Technician I      Technician            No  Fully Meets  \n",
      "\n",
      "[5 rows x 21 columns]\n"
     ]
    }
   ],
   "source": [
    "data = pd.read_csv(ruta)\n",
    "print(data.head())"
   ]
  },
  {
   "cell_type": "code",
   "execution_count": 78,
   "id": "28829e08",
   "metadata": {},
   "outputs": [],
   "source": [
    "data['Hire Date'] = pd.to_datetime(data['Hire Date'])"
   ]
  },
  {
   "cell_type": "markdown",
   "id": "6a05eccd",
   "metadata": {},
   "source": [
    "**Seleccionando la columna hire Date para dar formato de fecha requerido**"
   ]
  },
  {
   "cell_type": "code",
   "execution_count": 79,
   "id": "ac70e68b",
   "metadata": {},
   "outputs": [],
   "source": [
    "data['Hire Date'] = data['Hire Date'].dt.strftime('%d/%m/%Y')"
   ]
  },
  {
   "cell_type": "code",
   "execution_count": 80,
   "id": "b4441e58",
   "metadata": {},
   "outputs": [
    {
     "name": "stdout",
     "output_type": "stream",
     "text": [
      "   Employee ID         DOB  Emp Age    Surname     Name Gender Marital Status  \\\n",
      "0        10005  28/10/1953       69    Jackson   Noelia      F         Single   \n",
      "1        10007  28/04/1953       69      Carey  Rodrigo      M         Single   \n",
      "2        10009  06/02/1968       55       Chan    Lucas      M         Single   \n",
      "3        10015  10/11/1983       39   Ferreira   Daiana      F         Single   \n",
      "4        10040  01/05/1961       61  Bernstein    Ruben      M         Single   \n",
      "\n",
      "         Branch   Hire Date Leave Date  ...  Status  Department  \\\n",
      "0  Buenos Aires  25/01/2014        NaN  ...  Active  Production   \n",
      "1          Lima  04/02/2014        NaN  ...  Active  Production   \n",
      "2  Buenos Aires  09/02/2014        NaN  ...  Active  Production   \n",
      "3          Lima  02/05/2014        NaN  ...  Active  Production   \n",
      "4          Lima  07/10/2014        NaN  ...  Active  Production   \n",
      "\n",
      "  Employee Satisfaction  Annual Salary ($)  Bonus ($)  Total Compensation  \\\n",
      "0                     3              43241       4757               47998   \n",
      "1                     3              51009       7141               58150   \n",
      "2                     4              42034       6305               48339   \n",
      "3                     4              44391       2663               47054   \n",
      "4                     3              43361       8239               51600   \n",
      "\n",
      "                 Job Title Job Description Manager (Y/N)  Performance  \n",
      "0  Production Technician I      Technician            No  Fully Meets  \n",
      "1  Production Technician I      Technician            No  Fully Meets  \n",
      "2  Production Technician I      Technician            No  Fully Meets  \n",
      "3  Production Technician I      Technician            No  Fully Meets  \n",
      "4  Production Technician I      Technician            No  Fully Meets  \n",
      "\n",
      "[5 rows x 21 columns]\n"
     ]
    }
   ],
   "source": [
    "print(data.head())"
   ]
  },
  {
   "cell_type": "code",
   "execution_count": null,
   "id": "16564904",
   "metadata": {},
   "outputs": [],
   "source": []
  },
  {
   "cell_type": "markdown",
   "id": "5c630456",
   "metadata": {},
   "source": [
    "**Guardando datos de csv a excel**"
   ]
  },
  {
   "cell_type": "code",
   "execution_count": null,
   "id": "1a74f61d",
   "metadata": {},
   "outputs": [],
   "source": [
    "ruta_excel = \"USEYOURDISC:/PATH1/....2/....3/data.xlsx\""
   ]
  },
  {
   "cell_type": "code",
   "execution_count": 82,
   "id": "25247d52",
   "metadata": {},
   "outputs": [],
   "source": [
    "data.to_excel(ruta_excel, index=False)"
   ]
  }
 ],
 "metadata": {
  "kernelspec": {
   "display_name": "Python 3 (ipykernel)",
   "language": "python",
   "name": "python3"
  },
  "language_info": {
   "codemirror_mode": {
    "name": "ipython",
    "version": 3
   },
   "file_extension": ".py",
   "mimetype": "text/x-python",
   "name": "python",
   "nbconvert_exporter": "python",
   "pygments_lexer": "ipython3",
   "version": "3.9.13"
  }
 },
 "nbformat": 4,
 "nbformat_minor": 5
}
