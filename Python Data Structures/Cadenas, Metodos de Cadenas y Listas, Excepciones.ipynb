{
 "cells": [
  {
   "cell_type": "markdown",
   "id": "f9dbd92a",
   "metadata": {},
   "source": [
    "1. Algunos de los métodos que ofrecen las cadenas son:\n",
    "\n",
    "capitalize(): cambia todas las letras de la cadena a mayúsculas.\n",
    "center(): centra la cadena dentro de una longitud conocida.\n",
    "count(): cuenta las ocurrencias de un carácter dado.\n",
    "join(): une todos los elementos de una tupla/lista en una cadena.\n",
    "lower(): convierte todas las letras de la cadena en minúsculas.\n",
    "lstrip(): elimina los caracteres en blanco al principio de la cadena.\n",
    "replace(): reemplaza una subcadena dada con otra.\n",
    "rfind(): encuentra una subcadena comenzando por el final de la cadena.\n",
    "rstrip(): elimina los caracteres en blanco al final de la cadena.\n",
    "split(): divide la cadena en una subcadena usando un delimitador dado.\n",
    "strip(): elimina los espacios en blanco iniciales y finales.\n",
    "swapcase(): intercambia las mayúsculas y minúsculas de las letras.\n",
    "title(): hace que la primera letra de cada palabra sea mayúscula.\n",
    "upper(): convierte todas las letras de la cadena en mayúsculas.\n",
    "\n",
    "2. El contenido de las cadenas se puede determinar mediante los siguientes métodos (todos devuelven valores booleanos):\n",
    "\n",
    "endswith(): ¿La cadena termina con una subcadena determinada?\n",
    "isalnum(): ¿La cadena consta solo de letras y dígitos?\n",
    "isalpha(): ¿La cadena consta solo de letras?\n",
    "islower(): ¿La cadena consta solo de letras minúsculas?\n",
    "isspace(): ¿La cadena consta solo de espacios en blanco?\n",
    "isupper(): ¿La cadena consta solo de letras mayúsculas?\n",
    "startswith(): ¿La cadena consta solo de letras mayúsculas?\n"
   ]
  },
  {
   "cell_type": "code",
   "execution_count": 1,
   "id": "e2187ac3",
   "metadata": {},
   "outputs": [
    {
     "name": "stdout",
     "output_type": "stream",
     "text": [
      "1\n"
     ]
    }
   ],
   "source": [
    "import math\n",
    " \n",
    "result = math.e != math.pow(2, 4)\n",
    "print(int(result))"
   ]
  },
  {
   "cell_type": "code",
   "execution_count": 28,
   "id": "cb2ae5b4",
   "metadata": {},
   "outputs": [
    {
     "name": "stdout",
     "output_type": "stream",
     "text": [
      "12"
     ]
    }
   ],
   "source": [
    "from random import randint\n",
    "    \n",
    "for i in range(2):\n",
    "   print(randint(1, 2), end='')"
   ]
  },
  {
   "cell_type": "code",
   "execution_count": 26,
   "id": "b90fa311",
   "metadata": {},
   "outputs": [
    {
     "name": "stdout",
     "output_type": "stream",
     "text": [
      "17\n"
     ]
    }
   ],
   "source": [
    "multiline = '''Línea #1\n",
    "Línea #2'''\n",
    "\n",
    "print(len(multiline))"
   ]
  },
  {
   "cell_type": "code",
   "execution_count": 29,
   "id": "e99bbc2d",
   "metadata": {},
   "outputs": [
    {
     "name": "stdout",
     "output_type": "stream",
     "text": [
      "s i l l y   w a l k s \n"
     ]
    }
   ],
   "source": [
    "the_string = 'silly walks'\n",
    "\n",
    "for ix in range(len(the_string)):\n",
    "    print(the_string[ix], end=' ')\n",
    "\n",
    "print()"
   ]
  },
  {
   "cell_type": "code",
   "execution_count": 30,
   "id": "b26f2281",
   "metadata": {},
   "outputs": [
    {
     "name": "stdout",
     "output_type": "stream",
     "text": [
      "abcdefghijklmnopqrstuvwxyz\n"
     ]
    }
   ],
   "source": [
    "alphabet = \"bcdefghijklmnopqrstuvwxy\"\n",
    "\n",
    "alphabet = \"a\" + alphabet\n",
    "alphabet = alphabet + \"z\"\n",
    "\n",
    "print(alphabet)\n"
   ]
  },
  {
   "cell_type": "code",
   "execution_count": 31,
   "id": "051bd5c0",
   "metadata": {},
   "outputs": [
    {
     "name": "stdout",
     "output_type": "stream",
     "text": [
      "A\n",
      "[ ]\n",
      "0\n"
     ]
    }
   ],
   "source": [
    "# Demonstración de min() - Ejemplo 1:\n",
    "print(min(\"aAbByYzZ\"))\n",
    "\n",
    "\n",
    "# Demonstración de min() - Ejemplos 2 y 3:\n",
    "t = 'Los Caballeros Que Dicen \"Ni!\"'\n",
    "print('[' + min(t) + ']')\n",
    "\n",
    "t = [0, 1, 2]\n",
    "print(min(t))\n"
   ]
  },
  {
   "cell_type": "code",
   "execution_count": 32,
   "id": "1f2e6b4e",
   "metadata": {},
   "outputs": [
    {
     "name": "stdout",
     "output_type": "stream",
     "text": [
      "z\n",
      "[u]\n",
      "2\n"
     ]
    }
   ],
   "source": [
    "# Demostración de max() - Ejemplo 1:\n",
    "print(max(\"aAbByYzZ\"))\n",
    "\n",
    "\n",
    "# Demostración de max() - Ejemplo 2 y 3:\n",
    "t = 'Los Caballeros Que Dicen \"Ni!\"'\n",
    "print('[' + max(t) + ']')\n",
    "\n",
    "t = [0, 1, 2]\n",
    "print(max(t))"
   ]
  },
  {
   "cell_type": "code",
   "execution_count": 33,
   "id": "86f7f931",
   "metadata": {},
   "outputs": [
    {
     "name": "stdout",
     "output_type": "stream",
     "text": [
      "2\n",
      "7\n",
      "1\n"
     ]
    }
   ],
   "source": [
    "# Demonstración del método index() method:\n",
    "print(\"aAbByYzZaA\".index(\"b\"))\n",
    "print(\"aAbByYzZaA\".index(\"Z\"))\n",
    "print(\"aAbByYzZaA\".index(\"A\"))"
   ]
  },
  {
   "cell_type": "code",
   "execution_count": 34,
   "id": "f1972d9d",
   "metadata": {},
   "outputs": [
    {
     "name": "stdout",
     "output_type": "stream",
     "text": [
      "['a', 'b', 'c', 'a', 'b', 'c']\n"
     ]
    }
   ],
   "source": [
    "# Demostración de la función list():\n",
    "print(list(\"abcabc\"))\n"
   ]
  },
  {
   "cell_type": "code",
   "execution_count": 35,
   "id": "8c8aa04e",
   "metadata": {},
   "outputs": [
    {
     "name": "stdout",
     "output_type": "stream",
     "text": [
      "2\n",
      "0\n"
     ]
    }
   ],
   "source": [
    "# Demostración del método count():\n",
    "print(\"abcabc\".count(\"b\"))\n",
    "print('abcabc'.count(\"d\"))\n"
   ]
  },
  {
   "cell_type": "code",
   "execution_count": 36,
   "id": "caed0ee0",
   "metadata": {},
   "outputs": [
    {
     "name": "stdout",
     "output_type": "stream",
     "text": [
      "2\n"
     ]
    }
   ],
   "source": [
    "print(len(\"\\n\\n\"))"
   ]
  },
  {
   "cell_type": "code",
   "execution_count": 37,
   "id": "94f46ce7",
   "metadata": {},
   "outputs": [
    {
     "name": "stdout",
     "output_type": "stream",
     "text": [
      "*+*+*+*+*\n"
     ]
    }
   ],
   "source": [
    "asterisk = '*'\n",
    "plus = \"+\"\n",
    "decoration = (asterisk + plus) * 4 + asterisk\n",
    "print(decoration)"
   ]
  },
  {
   "cell_type": "code",
   "execution_count": 38,
   "id": "f8e26491",
   "metadata": {},
   "outputs": [
    {
     "name": "stdout",
     "output_type": "stream",
     "text": [
      "['t', 'e', 'r']\n"
     ]
    }
   ],
   "source": [
    "s = 'yesteryears'\n",
    "the_list = list(s)\n",
    "print(the_list[3:6])"
   ]
  },
  {
   "cell_type": "code",
   "execution_count": 39,
   "id": "9f168ee2",
   "metadata": {},
   "outputs": [
    {
     "name": "stdout",
     "output_type": "stream",
     "text": [
      "bcd"
     ]
    }
   ],
   "source": [
    "for ch in \"abc\":\n",
    "    print(chr(ord(ch) + 1), end='')"
   ]
  },
  {
   "cell_type": "code",
   "execution_count": 40,
   "id": "d50e68b5",
   "metadata": {},
   "outputs": [
    {
     "name": "stdout",
     "output_type": "stream",
     "text": [
      "Abcd\n"
     ]
    }
   ],
   "source": [
    "# Demostración del método capitalize():\n",
    "print('aBcD'.capitalize())"
   ]
  },
  {
   "cell_type": "code",
   "execution_count": 41,
   "id": "355579a7",
   "metadata": {},
   "outputs": [
    {
     "name": "stdout",
     "output_type": "stream",
     "text": [
      "Alpha\n",
      "Alpha\n",
      " alpha\n",
      "123\n",
      "Αβγδ\n"
     ]
    }
   ],
   "source": [
    "print(\"Alpha\".capitalize())\n",
    "print('ALPHA'.capitalize())\n",
    "print(' Alpha'.capitalize())\n",
    "print('123'.capitalize())\n",
    "print(\"αβγδ\".capitalize())\n",
    "    "
   ]
  },
  {
   "cell_type": "code",
   "execution_count": 42,
   "id": "82967dc9",
   "metadata": {},
   "outputs": [
    {
     "name": "stdout",
     "output_type": "stream",
     "text": [
      "[  alpha   ]\n"
     ]
    }
   ],
   "source": [
    "# Demostración del método center():\n",
    "print('[' + 'alpha'.center(10) + ']')"
   ]
  },
  {
   "cell_type": "code",
   "execution_count": 43,
   "id": "99f9fd45",
   "metadata": {},
   "outputs": [
    {
     "name": "stdout",
     "output_type": "stream",
     "text": [
      "[Beta]\n",
      "[Beta]\n",
      "[ Beta ]\n"
     ]
    }
   ],
   "source": [
    "print('[' + 'Beta'.center(2) + ']')\n",
    "print('[' + 'Beta'.center(4) + ']')\n",
    "print('[' + 'Beta'.center(6) + ']')"
   ]
  },
  {
   "cell_type": "code",
   "execution_count": 44,
   "id": "f084288a",
   "metadata": {},
   "outputs": [
    {
     "name": "stdout",
     "output_type": "stream",
     "text": [
      "[*******gamma********]\n"
     ]
    }
   ],
   "source": [
    "print('[' + 'gamma'.center(20, '*') + ']')"
   ]
  },
  {
   "cell_type": "code",
   "execution_count": 45,
   "id": "29f605a5",
   "metadata": {},
   "outputs": [
    {
     "name": "stdout",
     "output_type": "stream",
     "text": [
      "si\n"
     ]
    }
   ],
   "source": [
    "# Demostración del método endswith():\n",
    "if \"epsilon\".endswith(\"on\"):\n",
    "    print(\"si\")\n",
    "else:\n",
    "    print(\"no\")\n"
   ]
  },
  {
   "cell_type": "code",
   "execution_count": 46,
   "id": "40e46f8f",
   "metadata": {},
   "outputs": [
    {
     "name": "stdout",
     "output_type": "stream",
     "text": [
      "True\n",
      "False\n",
      "False\n",
      "True\n"
     ]
    }
   ],
   "source": [
    "t = \"zeta\"\n",
    "print(t.endswith(\"a\"))\n",
    "print(t.endswith(\"A\"))\n",
    "print(t.endswith(\"et\"))\n",
    "print(t.endswith(\"eta\"))\n"
   ]
  },
  {
   "cell_type": "code",
   "execution_count": 47,
   "id": "fa5299d5",
   "metadata": {},
   "outputs": [
    {
     "name": "stdout",
     "output_type": "stream",
     "text": [
      "1\n",
      "-1\n"
     ]
    }
   ],
   "source": [
    "# Demostración del método find():\n",
    "print(\"Eta\".find(\"ta\"))\n",
    "print(\"Eta\".find(\"mma\"))"
   ]
  },
  {
   "cell_type": "code",
   "execution_count": 48,
   "id": "016f2568",
   "metadata": {},
   "outputs": [
    {
     "name": "stdout",
     "output_type": "stream",
     "text": [
      "2\n",
      "2\n",
      "0\n",
      "-1\n"
     ]
    }
   ],
   "source": [
    "t = 'theta'\n",
    "print(t.find('eta'))\n",
    "print(t.find('et'))\n",
    "print(t.find('the'))\n",
    "print(t.find('ha'))\n"
   ]
  },
  {
   "cell_type": "code",
   "execution_count": 49,
   "id": "ef3e0ce6",
   "metadata": {},
   "outputs": [
    {
     "name": "stdout",
     "output_type": "stream",
     "text": [
      "4\n"
     ]
    }
   ],
   "source": [
    "print('kappa'.find('a', 2))"
   ]
  },
  {
   "cell_type": "code",
   "execution_count": 50,
   "id": "539443e1",
   "metadata": {},
   "outputs": [
    {
     "name": "stdout",
     "output_type": "stream",
     "text": [
      "15\n",
      "80\n",
      "198\n",
      "221\n",
      "238\n"
     ]
    }
   ],
   "source": [
    "the_text = \"\"\"A variation of the ordinary lorem ipsum\n",
    "text has been used in typesetting since the 1960s \n",
    "or earlier, when it was popularized by advertisements \n",
    "for Letraset transfer sheets. It was introduced to \n",
    "the Information Age in the mid-1980s by the Aldus Corporation, \n",
    "which employed it in graphics and word-processing templates\n",
    "for its desktop publishing program PageMaker (from Wikipedia)\"\"\"\n",
    "\n",
    "fnd = the_text.find('the')\n",
    "while fnd != -1:\n",
    "    print(fnd)\n",
    "    fnd = the_text.find('the', fnd + 1)"
   ]
  },
  {
   "cell_type": "code",
   "execution_count": 51,
   "id": "821e971b",
   "metadata": {},
   "outputs": [
    {
     "name": "stdout",
     "output_type": "stream",
     "text": [
      "1\n",
      "-1\n"
     ]
    }
   ],
   "source": [
    "print('kappa'.find('a', 1, 4))\n",
    "print('kappa'.find('a', 2, 4))"
   ]
  },
  {
   "cell_type": "code",
   "execution_count": 52,
   "id": "d4b08b40",
   "metadata": {},
   "outputs": [
    {
     "name": "stdout",
     "output_type": "stream",
     "text": [
      "True\n",
      "True\n",
      "True\n",
      "False\n",
      "False\n",
      "False\n"
     ]
    }
   ],
   "source": [
    "# Demostración del método isalnum():\n",
    "print('lambda30'.isalnum())\n",
    "print('lambda'.isalnum())\n",
    "print('30'.isalnum())\n",
    "print('@'.isalnum())\n",
    "print('lambda_30'.isalnum())\n",
    "print(''.isalnum())\n"
   ]
  },
  {
   "cell_type": "code",
   "execution_count": 53,
   "id": "a07b503c",
   "metadata": {},
   "outputs": [
    {
     "name": "stdout",
     "output_type": "stream",
     "text": [
      "False\n",
      "False\n",
      "True\n"
     ]
    }
   ],
   "source": [
    "t = 'Six lambdas'\n",
    "print(t.isalnum())\n",
    "\n",
    "t = '&Alpha;&beta;&Gamma;&delta;'\n",
    "print(t.isalnum())\n",
    "\n",
    "t = '20E1'\n",
    "print(t.isalnum())"
   ]
  },
  {
   "cell_type": "code",
   "execution_count": 54,
   "id": "0e986aa1",
   "metadata": {},
   "outputs": [
    {
     "name": "stdout",
     "output_type": "stream",
     "text": [
      "True\n",
      "False\n"
     ]
    }
   ],
   "source": [
    "# Ejemplo: Demostración del método isalpha():\n",
    "print(\"Moooo\".isalpha())\n",
    "print('Mu40'.isalpha())\n",
    "    "
   ]
  },
  {
   "cell_type": "code",
   "execution_count": 55,
   "id": "ea819654",
   "metadata": {},
   "outputs": [
    {
     "name": "stdout",
     "output_type": "stream",
     "text": [
      "True\n",
      "False\n"
     ]
    }
   ],
   "source": [
    "# Ejemplo: Demostración del método isdigit():\n",
    "print('2018'.isdigit())\n",
    "print(\"Year2019\".isdigit())\n"
   ]
  },
  {
   "cell_type": "code",
   "execution_count": 56,
   "id": "7922d2d4",
   "metadata": {},
   "outputs": [
    {
     "name": "stdout",
     "output_type": "stream",
     "text": [
      "False\n",
      "True\n"
     ]
    }
   ],
   "source": [
    "# Ejemplo: Demostración del método islower():\n",
    "print(\"Moooo\".islower())\n",
    "print('moooo'.islower())"
   ]
  },
  {
   "cell_type": "code",
   "execution_count": 57,
   "id": "f1a284a4",
   "metadata": {},
   "outputs": [
    {
     "name": "stdout",
     "output_type": "stream",
     "text": [
      "True\n",
      "True\n",
      "False\n"
     ]
    }
   ],
   "source": [
    "# Ejemplo: Demostración del método isspace():\n",
    "print(' \\n '.isspace())\n",
    "print(\" \".isspace())\n",
    "print(\"mooo mooo mooo\".isspace())\n"
   ]
  },
  {
   "cell_type": "code",
   "execution_count": 58,
   "id": "942fd9e5",
   "metadata": {},
   "outputs": [
    {
     "name": "stdout",
     "output_type": "stream",
     "text": [
      "False\n",
      "False\n",
      "True\n"
     ]
    }
   ],
   "source": [
    "# Ejemplo: Demostración del método isupper():\n",
    "print(\"Moooo\".isupper())\n",
    "print('moooo'.isupper())\n",
    "print('MOOOO'.isupper())"
   ]
  },
  {
   "cell_type": "code",
   "execution_count": 59,
   "id": "0f24d72f",
   "metadata": {},
   "outputs": [
    {
     "name": "stdout",
     "output_type": "stream",
     "text": [
      "omicron,pi,rho\n"
     ]
    }
   ],
   "source": [
    "# Demostración del método join():\n",
    "print(\",\".join([\"omicron\", \"pi\", \"rho\"]))\n"
   ]
  },
  {
   "cell_type": "code",
   "execution_count": 60,
   "id": "efb257ce",
   "metadata": {},
   "outputs": [
    {
     "name": "stdout",
     "output_type": "stream",
     "text": [
      "sigma=60\n"
     ]
    }
   ],
   "source": [
    "# Demostración del método lower():\n",
    "print(\"SiGmA=60\".lower())"
   ]
  },
  {
   "cell_type": "code",
   "execution_count": 61,
   "id": "89d2b10d",
   "metadata": {},
   "outputs": [
    {
     "name": "stdout",
     "output_type": "stream",
     "text": [
      "[tau ]\n"
     ]
    }
   ],
   "source": [
    "# Demostración del método lstrip():\n",
    "print(\"[\" + \" tau \".lstrip() + \"]\")"
   ]
  },
  {
   "cell_type": "code",
   "execution_count": 62,
   "id": "74205085",
   "metadata": {},
   "outputs": [
    {
     "name": "stdout",
     "output_type": "stream",
     "text": [
      "cisco.com\n"
     ]
    }
   ],
   "source": [
    "print(\"www.cisco.com\".lstrip(\"w.\"))"
   ]
  },
  {
   "cell_type": "code",
   "execution_count": 63,
   "id": "5742a2a9",
   "metadata": {},
   "outputs": [
    {
     "name": "stdout",
     "output_type": "stream",
     "text": [
      "pythoninstitute.org\n"
     ]
    }
   ],
   "source": [
    "print(\"pythoninstitute.org\".lstrip(\".org\"))"
   ]
  },
  {
   "cell_type": "code",
   "execution_count": 64,
   "id": "a42973ee",
   "metadata": {},
   "outputs": [
    {
     "name": "stdout",
     "output_type": "stream",
     "text": [
      "www.pythoninstitute.org\n",
      "Thare are it!\n",
      "Apple \n"
     ]
    }
   ],
   "source": [
    "# Demostración del método replace():\n",
    "print(\"www.netacad.com\".replace(\"netacad.com\", \"pythoninstitute.org\"))\n",
    "print(\"This is it!\".replace(\"is\", \"are\"))\n",
    "print(\"Apple juice\".replace(\"juice\", \"\"))"
   ]
  },
  {
   "cell_type": "code",
   "execution_count": 65,
   "id": "88e20853",
   "metadata": {},
   "outputs": [
    {
     "name": "stdout",
     "output_type": "stream",
     "text": [
      "Thare is it!\n",
      "Thare are it!\n"
     ]
    }
   ],
   "source": [
    "print(\"This is it!\".replace(\"is\", \"are\", 1))\n",
    "print(\"This is it!\".replace(\"is\", \"are\", 2))\n",
    "    "
   ]
  },
  {
   "cell_type": "code",
   "execution_count": 66,
   "id": "39c90a05",
   "metadata": {},
   "outputs": [
    {
     "name": "stdout",
     "output_type": "stream",
     "text": [
      "8\n",
      "-1\n",
      "4\n"
     ]
    }
   ],
   "source": [
    "# Demostración del método rfind():\n",
    "print(\"tau tau tau\".rfind(\"ta\"))\n",
    "print(\"tau tau tau\".rfind(\"ta\", 9))\n",
    "print(\"tau tau tau\".rfind(\"ta\", 3, 9))"
   ]
  },
  {
   "cell_type": "code",
   "execution_count": 67,
   "id": "5ed04c3a",
   "metadata": {},
   "outputs": [
    {
     "name": "stdout",
     "output_type": "stream",
     "text": [
      "[ upsilon]\n",
      "cis\n"
     ]
    }
   ],
   "source": [
    "# Demostración del método rstrip():\n",
    "print(\"[\" + \" upsilon \".rstrip() + \"]\")\n",
    "print(\"cisco.com\".rstrip(\".com\"))"
   ]
  },
  {
   "cell_type": "code",
   "execution_count": 68,
   "id": "82b92a6b",
   "metadata": {},
   "outputs": [
    {
     "name": "stdout",
     "output_type": "stream",
     "text": [
      "['phi', 'chi', 'psi']\n"
     ]
    }
   ],
   "source": [
    "# Demostración del método split():\n",
    "print(\"phi       chi\\npsi\".split())\n"
   ]
  },
  {
   "cell_type": "code",
   "execution_count": 69,
   "id": "1cd34957",
   "metadata": {},
   "outputs": [
    {
     "name": "stdout",
     "output_type": "stream",
     "text": [
      "False\n",
      "True\n",
      "\n"
     ]
    }
   ],
   "source": [
    "# Demostración del método startswith():\n",
    "print(\"omega\".startswith(\"meg\"))\n",
    "print(\"omega\".startswith(\"om\"))\n",
    "\n",
    "print()\n"
   ]
  },
  {
   "cell_type": "code",
   "execution_count": 70,
   "id": "91610b6e",
   "metadata": {},
   "outputs": [
    {
     "name": "stdout",
     "output_type": "stream",
     "text": [
      "[aleph]\n"
     ]
    }
   ],
   "source": [
    "# Demostración del método strip():\n",
    "print(\"[\" + \"   aleph   \".strip() + \"]\")\n"
   ]
  },
  {
   "cell_type": "code",
   "execution_count": 71,
   "id": "952db58b",
   "metadata": {},
   "outputs": [
    {
     "name": "stdout",
     "output_type": "stream",
     "text": [
      "yO SOLO SÉ QUE NO SÉ NADA\n",
      "\n"
     ]
    }
   ],
   "source": [
    "# Demostración del método swapcase():\n",
    "print(\"Yo solo sé que no sé nada\".swapcase())\n",
    "\n",
    "print()\n"
   ]
  },
  {
   "cell_type": "code",
   "execution_count": 72,
   "id": "300ad536",
   "metadata": {},
   "outputs": [
    {
     "name": "stdout",
     "output_type": "stream",
     "text": [
      "Yo Solo Sé Que No Sé Nada. Parte 1.\n",
      "\n"
     ]
    }
   ],
   "source": [
    "# Demostración del método title():\n",
    "print(\"Yo solo sé que no sé nada. Parte 1.\".title())\n",
    "\n",
    "print()\n"
   ]
  },
  {
   "cell_type": "code",
   "execution_count": 73,
   "id": "fc98e6ee",
   "metadata": {},
   "outputs": [
    {
     "name": "stdout",
     "output_type": "stream",
     "text": [
      "YO SOLO SÉ QUE NO SÉ NADA. PARTE 2.\n"
     ]
    }
   ],
   "source": [
    "# Demostración del método upper():\n",
    "print(\"Yo solo sé que no sé nada. Parte 2.\".upper())"
   ]
  },
  {
   "cell_type": "code",
   "execution_count": 74,
   "id": "3b5bf8e7",
   "metadata": {},
   "outputs": [
    {
     "name": "stdout",
     "output_type": "stream",
     "text": [
      "ABC123xyx"
     ]
    }
   ],
   "source": [
    "for ch in \"abc123XYX\":\n",
    "    if ch.isupper():\n",
    "        print(ch.lower(), end='')\n",
    "    elif ch.islower():\n",
    "        print(ch.upper(), end='')\n",
    "    else:\n",
    "        print(ch, end='')"
   ]
  },
  {
   "cell_type": "code",
   "execution_count": 75,
   "id": "33da6588",
   "metadata": {},
   "outputs": [
    {
     "name": "stdout",
     "output_type": "stream",
     "text": [
      "de\n"
     ]
    }
   ],
   "source": [
    "s1 = '¿Dónde están las nieves de antaño?'\n",
    "s2 = s1.split()\n",
    "print(s2[-2])"
   ]
  },
  {
   "cell_type": "code",
   "execution_count": 76,
   "id": "09b12819",
   "metadata": {},
   "outputs": [
    {
     "name": "stdout",
     "output_type": "stream",
     "text": [
      "Where*are*the*snows?\n"
     ]
    }
   ],
   "source": [
    "the_list = ['Where', 'are', 'the', 'snows?']\n",
    "s = '*'.join(the_list)\n",
    "print(s)"
   ]
  },
  {
   "cell_type": "code",
   "execution_count": 77,
   "id": "616798e0",
   "metadata": {},
   "outputs": [
    {
     "name": "stdout",
     "output_type": "stream",
     "text": [
      "It is either hard or possible\n"
     ]
    }
   ],
   "source": [
    "s = 'It is either easy or impossible'\n",
    "s = s.replace('easy', 'hard').replace('im', '')\n",
    "print(s)"
   ]
  },
  {
   "cell_type": "markdown",
   "id": "e1462750",
   "metadata": {},
   "source": [
    "Ya conoces como funiona el método split(). Ahora queremos que lo pruebes.\n",
    "\n",
    "Tu tarea es escribir tu propia función, que se comporte casi como el método original split(), por ejemplo:\n",
    "\n",
    "Debe aceptar únicamente un argumento: una cadena.\n",
    "Debe devolver una lista de palabras creadas a partir de la cadena, dividida en los lugares donde la cadena contiene espacios en blanco.\n",
    "Si la cadena está vacía, la función debería devolver una lista vacía.\n",
    "Su nombre debe ser mysplit()."
   ]
  },
  {
   "cell_type": "markdown",
   "id": "a017f043",
   "metadata": {},
   "source": [
    "Salida Esperada\n",
    "['A', 'ser', 'o', 'no', 'a', 'ser', 'eso', 'es', 'el', 'pregunta']\n",
    "['A', 'ser', 'o', 'no', 'a', 'ser, eso', 'es', 'el', 'pregunta']\n",
    "[]\n",
    "['a B C']\n",
    "[]"
   ]
  },
  {
   "cell_type": "code",
   "execution_count": 78,
   "id": "8c5e6893",
   "metadata": {},
   "outputs": [
    {
     "name": "stdout",
     "output_type": "stream",
     "text": [
      "['Ser', 'o', 'no', 'ser,', 'esa', 'es', 'la', 'cuestión']\n",
      "['Ser', 'o', 'no', 'ser,', 'esa', 'es', 'la', 'cuestión']\n",
      "[]\n",
      "['abc']\n",
      "[]\n"
     ]
    }
   ],
   "source": [
    "def mysplit(strng):\n",
    "    # devolver [] si la cadena está vacía o solo contiene espacios en blanco\n",
    "    if strng == '' or strng.isspace():\n",
    "        return [ ]\n",
    "    # preparar una lista a devolver\n",
    "    lst = []\n",
    "    # preparar una palabra para construir palabras subsecuentes\n",
    "    word = ''\n",
    "    # verificar si actualmente estamos dentro de una palabra (es decir, si la cadena comienza con una palabra)\n",
    "    inword = not strng[0].isspace()\n",
    "    # iterar a través de todos los caracteres en cadena\n",
    "    for x in strng:\n",
    "        # si actualmente estamos dentro de una cadena...\n",
    "        if inword:\n",
    "            # ... y el carácter actual no es un espacio...\n",
    "            if not x.isspace():\n",
    "                # ... actualizar palabra actual\n",
    "                word = word + x\n",
    "            else:\n",
    "                # ... de lo contrario, llegamos al final de la palabra, por lo que debemos agregarla a la lista...\n",
    "                lst.append(word)\n",
    "                # ... y señalar que estamos ahora fuera de la palabra\n",
    "                inword = False\n",
    "        else:\n",
    "            # si estamos fuera de la palabra y llegamos a un carácter no que no es un espacio en blanco...\n",
    "            if not x.isspace():\n",
    "                # ... significa que ha comenzado una nueva palabra, por lo que debemos recordarla y...\n",
    "                inword = True\n",
    "                # ... almacenar la primera letra de la nueva palabra\n",
    "                word = x\n",
    "            else:\n",
    "                pass\n",
    "    # si hemos dejado la cadena y hay una cadena no vacía en la variable word, necesitamos actualizar la lista\n",
    "    if inword:\n",
    "        lst.append(word)\n",
    "    # devolver la lista al invocador\n",
    "    return lst\n",
    "\n",
    "\n",
    "print(mysplit(\"Ser o no ser, esa es la cuestión\"))\n",
    "print(mysplit(\"Ser o no ser, esa es la cuestión\"))\n",
    "print(mysplit(\"   \"))\n",
    "print(mysplit(\" abc \"))\n",
    "print(mysplit(\"\"))"
   ]
  },
  {
   "cell_type": "code",
   "execution_count": null,
   "id": "4745da11",
   "metadata": {},
   "outputs": [],
   "source": []
  }
 ],
 "metadata": {
  "kernelspec": {
   "display_name": "Python 3 (ipykernel)",
   "language": "python",
   "name": "python3"
  },
  "language_info": {
   "codemirror_mode": {
    "name": "ipython",
    "version": 3
   },
   "file_extension": ".py",
   "mimetype": "text/x-python",
   "name": "python",
   "nbconvert_exporter": "python",
   "pygments_lexer": "ipython3",
   "version": "3.8.3"
  }
 },
 "nbformat": 4,
 "nbformat_minor": 5
}
