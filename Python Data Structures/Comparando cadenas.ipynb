{
 "cells": [
  {
   "cell_type": "markdown",
   "id": "3cd7db3c",
   "metadata": {},
   "source": [
    "Dos cadenas son iguales cuando consisten de los mismos caracteres en el mismo orden. Del mismo modo, dos cadenas no son iguales cuando no consisten de los mismos caracteres en el mismo orden."
   ]
  },
  {
   "cell_type": "code",
   "execution_count": 1,
   "id": "bac6d41b",
   "metadata": {},
   "outputs": [
    {
     "data": {
      "text/plain": [
       "True"
      ]
     },
     "execution_count": 1,
     "metadata": {},
     "output_type": "execute_result"
    }
   ],
   "source": [
    "'alpha' == 'alpha'\n",
    "'alpha' != 'Alpha'"
   ]
  },
  {
   "cell_type": "code",
   "execution_count": 2,
   "id": "3b17aff3",
   "metadata": {},
   "outputs": [
    {
     "data": {
      "text/plain": [
       "True"
      ]
     },
     "execution_count": 2,
     "metadata": {},
     "output_type": "execute_result"
    }
   ],
   "source": [
    "'alpha' < 'alphabet'"
   ]
  },
  {
   "cell_type": "code",
   "execution_count": 3,
   "id": "ae6ddf8d",
   "metadata": {},
   "outputs": [
    {
     "data": {
      "text/plain": [
       "True"
      ]
     },
     "execution_count": 3,
     "metadata": {},
     "output_type": "execute_result"
    }
   ],
   "source": [
    "'beta' > 'Beta'"
   ]
  },
  {
   "cell_type": "code",
   "execution_count": 4,
   "id": "c8a63c2e",
   "metadata": {},
   "outputs": [
    {
     "data": {
      "text/plain": [
       "True"
      ]
     },
     "execution_count": 4,
     "metadata": {},
     "output_type": "execute_result"
    }
   ],
   "source": [
    "'10' == '010'\n",
    "'10' > '010'\n",
    "'10' > '8'\n",
    "'20' < '8'\n",
    "'20' < '80'\n",
    "    "
   ]
  },
  {
   "cell_type": "markdown",
   "id": "c49d1202",
   "metadata": {},
   "source": [
    "'10' == 10\n",
    "'10' != 10\n",
    "'10' == 1\n",
    "'10' != 1\n",
    "'10' > 10"
   ]
  },
  {
   "cell_type": "markdown",
   "id": "23cbd497",
   "metadata": {},
   "source": [
    "### Ordenamiento"
   ]
  },
  {
   "cell_type": "code",
   "execution_count": 8,
   "id": "50a8a832",
   "metadata": {},
   "outputs": [
    {
     "name": "stdout",
     "output_type": "stream",
     "text": [
      "['omega', 'alpha', 'pi', 'gamma']\n",
      "['alpha', 'gamma', 'omega', 'pi']\n",
      "\n"
     ]
    }
   ],
   "source": [
    "# Demostración de la función sorted():\n",
    "first_greek = ['omega', 'alpha', 'pi', 'gamma']\n",
    "first_greek_2 = sorted(first_greek)\n",
    "\n",
    "print(first_greek)\n",
    "print(first_greek_2)\n",
    "\n",
    "print()"
   ]
  },
  {
   "cell_type": "code",
   "execution_count": 9,
   "id": "39941c98",
   "metadata": {},
   "outputs": [
    {
     "name": "stdout",
     "output_type": "stream",
     "text": [
      "['omega', 'alpha', 'pi', 'gamma']\n",
      "['alpha', 'gamma', 'omega', 'pi']\n"
     ]
    }
   ],
   "source": [
    "# Demostración del método sort():\n",
    "second_greek = ['omega', 'alpha', 'pi', 'gamma']\n",
    "print(second_greek)\n",
    "\n",
    "second_greek.sort()\n",
    "print(second_greek)\n",
    "    "
   ]
  },
  {
   "cell_type": "markdown",
   "id": "64c6510d",
   "metadata": {},
   "source": [
    "### Cadenas versus números"
   ]
  },
  {
   "cell_type": "code",
   "execution_count": 10,
   "id": "9096183b",
   "metadata": {},
   "outputs": [
    {
     "name": "stdout",
     "output_type": "stream",
     "text": [
      "13 1.3\n"
     ]
    }
   ],
   "source": [
    "itg = 13\n",
    "flt = 1.3\n",
    "si = str(itg)\n",
    "sf = str(flt)\n",
    "\n",
    "print(si + ' ' + sf)"
   ]
  },
  {
   "cell_type": "code",
   "execution_count": 11,
   "id": "cef4767b",
   "metadata": {},
   "outputs": [
    {
     "name": "stdout",
     "output_type": "stream",
     "text": [
      "14.3\n"
     ]
    }
   ],
   "source": [
    "si = '13'\n",
    "sf = '1.3'\n",
    "itg = int(si)\n",
    "flt = float(sf)\n",
    "\n",
    "print(itg + flt)"
   ]
  },
  {
   "cell_type": "code",
   "execution_count": 13,
   "id": "de563c14",
   "metadata": {},
   "outputs": [
    {
     "data": {
      "text/plain": [
       "True"
      ]
     },
     "execution_count": 13,
     "metadata": {},
     "output_type": "execute_result"
    }
   ],
   "source": [
    "'11' < '8'"
   ]
  },
  {
   "cell_type": "code",
   "execution_count": 14,
   "id": "48de7544",
   "metadata": {},
   "outputs": [
    {
     "data": {
      "text/plain": [
       "True"
      ]
     },
     "execution_count": 14,
     "metadata": {},
     "output_type": "execute_result"
    }
   ],
   "source": [
    "'smith' > 'Smith'"
   ]
  },
  {
   "cell_type": "code",
   "execution_count": 15,
   "id": "20c66a44",
   "metadata": {},
   "outputs": [
    {
     "data": {
      "text/plain": [
       "False"
      ]
     },
     "execution_count": 15,
     "metadata": {},
     "output_type": "execute_result"
    }
   ],
   "source": [
    "'Smiths' < 'Smith'"
   ]
  },
  {
   "cell_type": "code",
   "execution_count": 16,
   "id": "19108a66",
   "metadata": {},
   "outputs": [
    {
     "data": {
      "text/plain": [
       "True"
      ]
     },
     "execution_count": 16,
     "metadata": {},
     "output_type": "execute_result"
    }
   ],
   "source": [
    "'Smith' > '1000'"
   ]
  },
  {
   "cell_type": "code",
   "execution_count": 18,
   "id": "ca885787",
   "metadata": {},
   "outputs": [
    {
     "name": "stdout",
     "output_type": "stream",
     "text": [
      "de\n"
     ]
    }
   ],
   "source": [
    "s1 = '¿Dónde están las nieves de antaño?'\n",
    "s2 = s1.split()\n",
    "s3 = sorted(s2)\n",
    "print(s3[1])"
   ]
  },
  {
   "cell_type": "code",
   "execution_count": 19,
   "id": "7d25c4b4",
   "metadata": {},
   "outputs": [
    {
     "ename": "ValueError",
     "evalue": "invalid literal for int() with base 10: '12.8'",
     "output_type": "error",
     "traceback": [
      "\u001b[1;31m---------------------------------------------------------------------------\u001b[0m",
      "\u001b[1;31mValueError\u001b[0m                                Traceback (most recent call last)",
      "Input \u001b[1;32mIn [19]\u001b[0m, in \u001b[0;36m<cell line: 2>\u001b[1;34m()\u001b[0m\n\u001b[0;32m      1\u001b[0m s1 \u001b[38;5;241m=\u001b[39m \u001b[38;5;124m'\u001b[39m\u001b[38;5;124m12.8\u001b[39m\u001b[38;5;124m'\u001b[39m\n\u001b[1;32m----> 2\u001b[0m i \u001b[38;5;241m=\u001b[39m \u001b[38;5;28;43mint\u001b[39;49m\u001b[43m(\u001b[49m\u001b[43ms1\u001b[49m\u001b[43m)\u001b[49m\n\u001b[0;32m      3\u001b[0m s2 \u001b[38;5;241m=\u001b[39m \u001b[38;5;28mstr\u001b[39m(i)\n\u001b[0;32m      4\u001b[0m f \u001b[38;5;241m=\u001b[39m \u001b[38;5;28mfloat\u001b[39m(s2)\n",
      "\u001b[1;31mValueError\u001b[0m: invalid literal for int() with base 10: '12.8'"
     ]
    }
   ],
   "source": [
    "s1 = '12.8'\n",
    "i = int(s1) #ValueError\n",
    "s2 = str(i)\n",
    "f = float(s2)\n",
    "print(s1 == s2)"
   ]
  },
  {
   "cell_type": "markdown",
   "id": "4941929a",
   "metadata": {},
   "source": [
    "Tu tarea es escribir un programa que puede simular el funcionamiento de un display de siete segmentos, aunque vas a usar LEDs individuales en lugar de segmentos.\n",
    "\n",
    "Cada dígito es construido con 13 LEDs (algunos iluminados, otros apagados, por supuesto), así es como lo imaginamos:\n",
    "\n",
    "# ### ### # # ### ### ### ### ### ###\n",
    "  #   #   # # # #   #     # # # # # # # \n",
    "  # ### ### ### ### ###   # ### ### # # \n",
    "  # #     #   #   # # #   # # #   # # # \n",
    "  # ### ###   # ### ###   # ### ### ###\n",
    "  \n",
    "  \n",
    " Nota: el número 8 muestra todas las luces LED encendidas.\n",
    "\n",
    "Tu código debe mostrar cualquier número entero no negativo ingresado por el usuario.\n",
    "\n",
    "Consejo: puede ser muy útil usar una lista que contenga patrones de los diez dígitos.\n",
    "\n",
    "Entrada de muestra:\n",
    "\n",
    "9081726354\n",
    "\n",
    "\n",
    "Salida de muestra:\n",
    "\n",
    "### ### ###   # ### ### ### ### ### # # \n",
    "# # # # # #   #   #   # #     # #   # # \n",
    "### # # ###   #   # ### ### ### ### ### \n",
    "  # # # # #   #   # #   # #   #   #   # \n",
    "### ### ###   #   # ### ### ### ###   # "
   ]
  },
  {
   "cell_type": "code",
   "execution_count": 20,
   "id": "e3a09ed9",
   "metadata": {},
   "outputs": [
    {
     "name": "stdout",
     "output_type": "stream",
     "text": [
      "Ingrese un número entero no negativo: 9081726354\n",
      "### ### ###   # ### ### ### ### ### # # \n",
      "# # # # # #   #   #   # #     # #   # # \n",
      "### # # ###   #   # ### ### ### ### ### \n",
      "  # # # # #   #   # #   # #   #   #   # \n",
      "### ### ###   #   # ### ### ### ###   # \n"
     ]
    }
   ],
   "source": [
    "digits = [\n",
    "    ['###', '# #', '# #', '# #', '###'],  # 0\n",
    "    ['  #', '  #', '  #', '  #', '  #'],  # 1\n",
    "    ['###', '  #', '###', '#  ', '###'],  # 2\n",
    "    ['###', '  #', '###', '  #', '###'],  # 3\n",
    "    ['# #', '# #', '###', '  #', '  #'],  # 4\n",
    "    ['###', '#  ', '###', '  #', '###'],  # 5\n",
    "    ['###', '#  ', '###', '# #', '###'],  # 6\n",
    "    ['###', '  #', '  #', '  #', '  #'],  # 7\n",
    "    ['###', '# #', '###', '# #', '###'],  # 8\n",
    "    ['###', '# #', '###', '  #', '###']   # 9\n",
    "]\n",
    "\n",
    "number = input(\"Ingrese un número entero no negativo: \")\n",
    "\n",
    "digits_list = [int(d) for d in number]\n",
    "\n",
    "for row in range(5):\n",
    "    for digit in digits_list:\n",
    "        print(digits[digit][row], end=' ')\n",
    "    print()"
   ]
  },
  {
   "cell_type": "code",
   "execution_count": null,
   "id": "c4c06275",
   "metadata": {},
   "outputs": [],
   "source": []
  }
 ],
 "metadata": {
  "kernelspec": {
   "display_name": "Python 3 (ipykernel)",
   "language": "python",
   "name": "python3"
  },
  "language_info": {
   "codemirror_mode": {
    "name": "ipython",
    "version": 3
   },
   "file_extension": ".py",
   "mimetype": "text/x-python",
   "name": "python",
   "nbconvert_exporter": "python",
   "pygments_lexer": "ipython3",
   "version": "3.8.3"
  }
 },
 "nbformat": 4,
 "nbformat_minor": 5
}
