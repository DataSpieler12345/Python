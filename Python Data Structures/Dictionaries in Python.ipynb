{
 "cells": [
  {
   "cell_type": "markdown",
   "id": "f005e66e",
   "metadata": {},
   "source": [
    "# Dictionaries in Python\n",
    "\n",
    "<b>Developer:</b> DataSpieler12345"
   ]
  },
  {
   "cell_type": "markdown",
   "id": "1cc41ae3",
   "metadata": {},
   "source": [
    "Lest practice...."
   ]
  },
  {
   "cell_type": "markdown",
   "id": "17066d11",
   "metadata": {},
   "source": [
    "You will need the dictionary <code>D</code>:"
   ]
  },
  {
   "cell_type": "code",
   "execution_count": 1,
   "id": "833ae3c5",
   "metadata": {},
   "outputs": [],
   "source": [
    "D={'a':0,'b':1,'c':2}"
   ]
  },
  {
   "cell_type": "code",
   "execution_count": 2,
   "id": "5b093c29",
   "metadata": {},
   "outputs": [
    {
     "data": {
      "text/plain": [
       "dict"
      ]
     },
     "execution_count": 2,
     "metadata": {},
     "output_type": "execute_result"
    }
   ],
   "source": [
    "type(D)"
   ]
  },
  {
   "cell_type": "markdown",
   "id": "11fe61bb",
   "metadata": {},
   "source": [
    "<h3>Find the Value of a Key</h3> "
   ]
  },
  {
   "cell_type": "markdown",
   "id": "0fd7b754",
   "metadata": {},
   "source": [
    "Find the value for the key <code>'a'</code>:"
   ]
  },
  {
   "cell_type": "code",
   "execution_count": 3,
   "id": "eb2cc39b",
   "metadata": {},
   "outputs": [
    {
     "data": {
      "text/plain": [
       "0"
      ]
     },
     "execution_count": 3,
     "metadata": {},
     "output_type": "execute_result"
    }
   ],
   "source": [
    "D[\"a\"]"
   ]
  },
  {
   "cell_type": "markdown",
   "id": "68730c71",
   "metadata": {},
   "source": [
    "<h3>Keys of a Dictionary</h3> "
   ]
  },
  {
   "cell_type": "code",
   "execution_count": 4,
   "id": "f72b73ec",
   "metadata": {},
   "outputs": [
    {
     "data": {
      "text/plain": [
       "dict_keys(['a', 'b', 'c'])"
      ]
     },
     "execution_count": 4,
     "metadata": {},
     "output_type": "execute_result"
    }
   ],
   "source": [
    "D.keys()"
   ]
  },
  {
   "cell_type": "code",
   "execution_count": null,
   "id": "2aa48548",
   "metadata": {},
   "outputs": [],
   "source": []
  }
 ],
 "metadata": {
  "kernelspec": {
   "display_name": "Python 3 (ipykernel)",
   "language": "python",
   "name": "python3"
  },
  "language_info": {
   "codemirror_mode": {
    "name": "ipython",
    "version": 3
   },
   "file_extension": ".py",
   "mimetype": "text/x-python",
   "name": "python",
   "nbconvert_exporter": "python",
   "pygments_lexer": "ipython3",
   "version": "3.8.3"
  }
 },
 "nbformat": 4,
 "nbformat_minor": 5
}
