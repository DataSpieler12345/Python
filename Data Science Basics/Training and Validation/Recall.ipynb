{
 "cells": [
  {
   "cell_type": "markdown",
   "id": "e473c25b",
   "metadata": {},
   "source": [
    "## Calculate Recall using sklearn"
   ]
  },
  {
   "cell_type": "code",
   "execution_count": 1,
   "id": "0efc67e0",
   "metadata": {},
   "outputs": [
    {
     "name": "stdout",
     "output_type": "stream",
     "text": [
      "Recall: 0.900\n"
     ]
    }
   ],
   "source": [
    "# calculates recall for 1:100 dataset with 90 tp and 10 fn\n",
    "from sklearn.metrics import recall_score\n",
    "# define actual\n",
    "act_pos = [1 for _ in range(100)]\n",
    "act_neg = [0 for _ in range(10000)]\n",
    "y_true = act_pos + act_neg\n",
    "# define predictions\n",
    "pred_pos = [0 for _ in range(10)] + [1 for _ in range(90)]\n",
    "pred_neg = [0 for _ in range(10000)]\n",
    "y_pred = pred_pos + pred_neg\n",
    "# calculate recall\n",
    "recall = recall_score(y_true, y_pred, average='binary')\n",
    "print('Recall: %.3f' % recall)"
   ]
  }
 ],
 "metadata": {
  "kernelspec": {
   "display_name": "Python 3 (ipykernel)",
   "language": "python",
   "name": "python3"
  },
  "language_info": {
   "codemirror_mode": {
    "name": "ipython",
    "version": 3
   },
   "file_extension": ".py",
   "mimetype": "text/x-python",
   "name": "python",
   "nbconvert_exporter": "python",
   "pygments_lexer": "ipython3",
   "version": "3.9.13"
  }
 },
 "nbformat": 4,
 "nbformat_minor": 5
}
