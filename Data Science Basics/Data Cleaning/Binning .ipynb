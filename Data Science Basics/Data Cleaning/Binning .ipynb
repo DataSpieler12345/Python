{
 "cells": [
  {
   "cell_type": "markdown",
   "id": "ac0cda11",
   "metadata": {},
   "source": [
    "### Binning "
   ]
  },
  {
   "cell_type": "markdown",
   "id": "8a5ec9d2",
   "metadata": {},
   "source": [
    "#### using pandas.cut"
   ]
  },
  {
   "cell_type": "code",
   "execution_count": 1,
   "id": "deb587af",
   "metadata": {},
   "outputs": [],
   "source": [
    "import pandas as pd\n",
    "import numpy as np"
   ]
  },
  {
   "cell_type": "code",
   "execution_count": 2,
   "id": "bcf6d05a",
   "metadata": {},
   "outputs": [
    {
     "data": {
      "text/plain": [
       "[(0.994, 3.0], (5.0, 7.0], (3.0, 5.0], (3.0, 5.0], (5.0, 7.0], (0.994, 3.0]]\n",
       "Categories (3, interval[float64, right]): [(0.994, 3.0] < (3.0, 5.0] < (5.0, 7.0]]"
      ]
     },
     "execution_count": 2,
     "metadata": {},
     "output_type": "execute_result"
    }
   ],
   "source": [
    "#Discretize into three equal-sized bins.\n",
    "pd.cut(np.array([1, 7, 5, 4, 6, 3]), 3)"
   ]
  },
  {
   "cell_type": "code",
   "execution_count": 3,
   "id": "1d6712a9",
   "metadata": {},
   "outputs": [
    {
     "data": {
      "text/plain": [
       "([(0.994, 3.0], (5.0, 7.0], (3.0, 5.0], (3.0, 5.0], (5.0, 7.0], (0.994, 3.0]]\n",
       " Categories (3, interval[float64, right]): [(0.994, 3.0] < (3.0, 5.0] < (5.0, 7.0]],\n",
       " array([0.994, 3.   , 5.   , 7.   ]))"
      ]
     },
     "execution_count": 3,
     "metadata": {},
     "output_type": "execute_result"
    }
   ],
   "source": [
    "#Whether to return the bins or not. \n",
    "#Useful when bins is provided as a scalar\n",
    "\n",
    "pd.cut(np.array([1, 7, 5, 4, 6, 3]), 3, retbins=True)"
   ]
  },
  {
   "cell_type": "code",
   "execution_count": 4,
   "id": "78385438",
   "metadata": {},
   "outputs": [
    {
     "data": {
      "text/plain": [
       "['bad', 'good', 'medium', 'medium', 'good', 'bad']\n",
       "Categories (3, object): ['bad' < 'medium' < 'good']"
      ]
     },
     "execution_count": 4,
     "metadata": {},
     "output_type": "execute_result"
    }
   ],
   "source": [
    "#assign bins specific labels\n",
    "pd.cut(np.array([1, 7, 5, 4, 6, 3]),\n",
    "       3, labels=[\"bad\", \"medium\", \"good\"])"
   ]
  },
  {
   "cell_type": "code",
   "execution_count": 5,
   "id": "9fc2bd45",
   "metadata": {},
   "outputs": [
    {
     "data": {
      "text/plain": [
       "a    (1.992, 4.667]\n",
       "b    (1.992, 4.667]\n",
       "c    (4.667, 7.333]\n",
       "d     (7.333, 10.0]\n",
       "e     (7.333, 10.0]\n",
       "dtype: category\n",
       "Categories (3, interval[float64, right]): [(1.992, 4.667] < (4.667, 7.333] < (7.333, 10.0]]"
      ]
     },
     "execution_count": 5,
     "metadata": {},
     "output_type": "execute_result"
    }
   ],
   "source": [
    "#Passing a Series as an input returns a Series with categorical dtype\n",
    "s = pd.Series(np.array([2, 4, 6, 8, 10]),index=['a', 'b', 'c', 'd', 'e'])\n",
    "pd.cut(s, 3)"
   ]
  }
 ],
 "metadata": {
  "kernelspec": {
   "display_name": "Python 3 (ipykernel)",
   "language": "python",
   "name": "python3"
  },
  "language_info": {
   "codemirror_mode": {
    "name": "ipython",
    "version": 3
   },
   "file_extension": ".py",
   "mimetype": "text/x-python",
   "name": "python",
   "nbconvert_exporter": "python",
   "pygments_lexer": "ipython3",
   "version": "3.9.13"
  }
 },
 "nbformat": 4,
 "nbformat_minor": 5
}
