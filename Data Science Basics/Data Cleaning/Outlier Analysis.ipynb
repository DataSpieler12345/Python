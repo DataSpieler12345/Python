{
 "cells": [
  {
   "cell_type": "markdown",
   "id": "06c3d08f",
   "metadata": {},
   "source": [
    "## Outlier Analysis "
   ]
  },
  {
   "cell_type": "code",
   "execution_count": 1,
   "id": "16f7daa5",
   "metadata": {},
   "outputs": [
    {
     "ename": "ImportError",
     "evalue": "\n`load_boston` has been removed from scikit-learn since version 1.2.\n\nThe Boston housing prices dataset has an ethical problem: as\ninvestigated in [1], the authors of this dataset engineered a\nnon-invertible variable \"B\" assuming that racial self-segregation had a\npositive impact on house prices [2]. Furthermore the goal of the\nresearch that led to the creation of this dataset was to study the\nimpact of air quality but it did not give adequate demonstration of the\nvalidity of this assumption.\n\nThe scikit-learn maintainers therefore strongly discourage the use of\nthis dataset unless the purpose of the code is to study and educate\nabout ethical issues in data science and machine learning.\n\nIn this special case, you can fetch the dataset from the original\nsource::\n\n    import pandas as pd\n    import numpy as np\n\n    data_url = \"http://lib.stat.cmu.edu/datasets/boston\"\n    raw_df = pd.read_csv(data_url, sep=\"\\s+\", skiprows=22, header=None)\n    data = np.hstack([raw_df.values[::2, :], raw_df.values[1::2, :2]])\n    target = raw_df.values[1::2, 2]\n\nAlternative datasets include the California housing dataset and the\nAmes housing dataset. You can load the datasets as follows::\n\n    from sklearn.datasets import fetch_california_housing\n    housing = fetch_california_housing()\n\nfor the California housing dataset and::\n\n    from sklearn.datasets import fetch_openml\n    housing = fetch_openml(name=\"house_prices\", as_frame=True)\n\nfor the Ames housing dataset.\n\n[1] M Carlisle.\n\"Racist data destruction?\"\n<https://medium.com/@docintangible/racist-data-destruction-113e3eff54a8>\n\n[2] Harrison Jr, David, and Daniel L. Rubinfeld.\n\"Hedonic housing prices and the demand for clean air.\"\nJournal of environmental economics and management 5.1 (1978): 81-102.\n<https://www.researchgate.net/publication/4974606_Hedonic_housing_prices_and_the_demand_for_clean_air>\n",
     "output_type": "error",
     "traceback": [
      "\u001b[1;31m---------------------------------------------------------------------------\u001b[0m",
      "\u001b[1;31mImportError\u001b[0m                               Traceback (most recent call last)",
      "Cell \u001b[1;32mIn[1], line 1\u001b[0m\n\u001b[1;32m----> 1\u001b[0m \u001b[38;5;28;01mfrom\u001b[39;00m \u001b[38;5;21;01msklearn\u001b[39;00m\u001b[38;5;21;01m.\u001b[39;00m\u001b[38;5;21;01mdatasets\u001b[39;00m \u001b[38;5;28;01mimport\u001b[39;00m load_boston\n\u001b[0;32m      2\u001b[0m boston \u001b[38;5;241m=\u001b[39m load_boston()\n\u001b[0;32m      3\u001b[0m x \u001b[38;5;241m=\u001b[39m boston\u001b[38;5;241m.\u001b[39mdata\n",
      "File \u001b[1;32m~\\AppData\\Local\\Packages\\PythonSoftwareFoundation.Python.3.9_qbz5n2kfra8p0\\LocalCache\\local-packages\\Python39\\site-packages\\sklearn\\datasets\\__init__.py:157\u001b[0m, in \u001b[0;36m__getattr__\u001b[1;34m(name)\u001b[0m\n\u001b[0;32m    108\u001b[0m \u001b[38;5;28;01mif\u001b[39;00m name \u001b[38;5;241m==\u001b[39m \u001b[38;5;124m\"\u001b[39m\u001b[38;5;124mload_boston\u001b[39m\u001b[38;5;124m\"\u001b[39m:\n\u001b[0;32m    109\u001b[0m     msg \u001b[38;5;241m=\u001b[39m textwrap\u001b[38;5;241m.\u001b[39mdedent(\u001b[38;5;124m\"\"\"\u001b[39m\n\u001b[0;32m    110\u001b[0m \u001b[38;5;124m        `load_boston` has been removed from scikit-learn since version 1.2.\u001b[39m\n\u001b[0;32m    111\u001b[0m \n\u001b[1;32m   (...)\u001b[0m\n\u001b[0;32m    155\u001b[0m \u001b[38;5;124m        <https://www.researchgate.net/publication/4974606_Hedonic_housing_prices_and_the_demand_for_clean_air>\u001b[39m\n\u001b[0;32m    156\u001b[0m \u001b[38;5;124m        \u001b[39m\u001b[38;5;124m\"\"\"\u001b[39m)\n\u001b[1;32m--> 157\u001b[0m     \u001b[38;5;28;01mraise\u001b[39;00m \u001b[38;5;167;01mImportError\u001b[39;00m(msg)\n\u001b[0;32m    158\u001b[0m \u001b[38;5;28;01mtry\u001b[39;00m:\n\u001b[0;32m    159\u001b[0m     \u001b[38;5;28;01mreturn\u001b[39;00m \u001b[38;5;28mglobals\u001b[39m()[name]\n",
      "\u001b[1;31mImportError\u001b[0m: \n`load_boston` has been removed from scikit-learn since version 1.2.\n\nThe Boston housing prices dataset has an ethical problem: as\ninvestigated in [1], the authors of this dataset engineered a\nnon-invertible variable \"B\" assuming that racial self-segregation had a\npositive impact on house prices [2]. Furthermore the goal of the\nresearch that led to the creation of this dataset was to study the\nimpact of air quality but it did not give adequate demonstration of the\nvalidity of this assumption.\n\nThe scikit-learn maintainers therefore strongly discourage the use of\nthis dataset unless the purpose of the code is to study and educate\nabout ethical issues in data science and machine learning.\n\nIn this special case, you can fetch the dataset from the original\nsource::\n\n    import pandas as pd\n    import numpy as np\n\n    data_url = \"http://lib.stat.cmu.edu/datasets/boston\"\n    raw_df = pd.read_csv(data_url, sep=\"\\s+\", skiprows=22, header=None)\n    data = np.hstack([raw_df.values[::2, :], raw_df.values[1::2, :2]])\n    target = raw_df.values[1::2, 2]\n\nAlternative datasets include the California housing dataset and the\nAmes housing dataset. You can load the datasets as follows::\n\n    from sklearn.datasets import fetch_california_housing\n    housing = fetch_california_housing()\n\nfor the California housing dataset and::\n\n    from sklearn.datasets import fetch_openml\n    housing = fetch_openml(name=\"house_prices\", as_frame=True)\n\nfor the Ames housing dataset.\n\n[1] M Carlisle.\n\"Racist data destruction?\"\n<https://medium.com/@docintangible/racist-data-destruction-113e3eff54a8>\n\n[2] Harrison Jr, David, and Daniel L. Rubinfeld.\n\"Hedonic housing prices and the demand for clean air.\"\nJournal of environmental economics and management 5.1 (1978): 81-102.\n<https://www.researchgate.net/publication/4974606_Hedonic_housing_prices_and_the_demand_for_clean_air>\n"
     ]
    }
   ],
   "source": [
    "from sklearn.datasets import load_boston\n",
    "boston = load_boston()\n",
    "x = boston.data\n",
    "y = boston.target\n",
    "columns = boston.feature_names"
   ]
  },
  {
   "cell_type": "code",
   "execution_count": 5,
   "id": "205503d7",
   "metadata": {},
   "outputs": [
    {
     "name": "stdout",
     "output_type": "stream",
     "text": [
      "Column Names:\n",
      "['CRIM', 'ZN', 'INDUS', 'CHAS', 'NOX', 'RM', 'AGE', 'DIS', 'RAD', 'TAX', 'PTRATIO', 'B', 'LSTAT', 'MEDV']\n",
      "\n",
      "Data:\n",
      "           CRIM     ZN  INDUS  CHAS    NOX     RM   AGE     DIS  RAD    TAX  \\\n",
      "0       0.00632  18.00   2.31   0.0  0.538  6.575  65.2  4.0900  1.0  296.0   \n",
      "1     396.90000   4.98  24.00   NaN    NaN    NaN   NaN     NaN  NaN    NaN   \n",
      "2       0.02731   0.00   7.07   0.0  0.469  6.421  78.9  4.9671  2.0  242.0   \n",
      "3     396.90000   9.14  21.60   NaN    NaN    NaN   NaN     NaN  NaN    NaN   \n",
      "4       0.02729   0.00   7.07   0.0  0.469  7.185  61.1  4.9671  2.0  242.0   \n",
      "...         ...    ...    ...   ...    ...    ...   ...     ...  ...    ...   \n",
      "1007  396.90000   5.64  23.90   NaN    NaN    NaN   NaN     NaN  NaN    NaN   \n",
      "1008    0.10959   0.00  11.93   0.0  0.573  6.794  89.3  2.3889  1.0  273.0   \n",
      "1009  393.45000   6.48  22.00   NaN    NaN    NaN   NaN     NaN  NaN    NaN   \n",
      "1010    0.04741   0.00  11.93   0.0  0.573  6.030  80.8  2.5050  1.0  273.0   \n",
      "1011  396.90000   7.88  11.90   NaN    NaN    NaN   NaN     NaN  NaN    NaN   \n",
      "\n",
      "      PTRATIO   B  LSTAT  MEDV  \n",
      "0        15.3 NaN    NaN   NaN  \n",
      "1         NaN NaN    NaN   NaN  \n",
      "2        17.8 NaN    NaN   NaN  \n",
      "3         NaN NaN    NaN   NaN  \n",
      "4        17.8 NaN    NaN   NaN  \n",
      "...       ...  ..    ...   ...  \n",
      "1007      NaN NaN    NaN   NaN  \n",
      "1008     21.0 NaN    NaN   NaN  \n",
      "1009      NaN NaN    NaN   NaN  \n",
      "1010     21.0 NaN    NaN   NaN  \n",
      "1011      NaN NaN    NaN   NaN  \n",
      "\n",
      "[1012 rows x 14 columns]\n"
     ]
    }
   ],
   "source": [
    "import pandas as pd\n",
    "import numpy as np\n",
    "\n",
    "data_url = \"http://lib.stat.cmu.edu/datasets/boston\"\n",
    "column_names = [\"CRIM\", \"ZN\", \"INDUS\", \"CHAS\", \"NOX\", \"RM\", \"AGE\", \"DIS\", \"RAD\", \"TAX\", \"PTRATIO\", \"B\", \"LSTAT\", \"MEDV\"]\n",
    "\n",
    "raw_df = pd.read_csv(data_url, sep=\"\\s+\", skiprows=22, header=None, names=column_names)\n",
    "data = np.hstack([raw_df.values[::2, :], raw_df.values[1::2, :2]])\n",
    "target = raw_df.values[1::2, 2]\n",
    "\n",
    "print(\"Column Names:\")\n",
    "print(column_names)\n",
    "print(\"\\nData:\")\n",
    "print(raw_df)"
   ]
  },
  {
   "cell_type": "code",
   "execution_count": 7,
   "id": "a4220f6d",
   "metadata": {},
   "outputs": [
    {
     "data": {
      "text/html": [
       "<div>\n",
       "<style scoped>\n",
       "    .dataframe tbody tr th:only-of-type {\n",
       "        vertical-align: middle;\n",
       "    }\n",
       "\n",
       "    .dataframe tbody tr th {\n",
       "        vertical-align: top;\n",
       "    }\n",
       "\n",
       "    .dataframe thead th {\n",
       "        text-align: right;\n",
       "    }\n",
       "</style>\n",
       "<table border=\"1\" class=\"dataframe\">\n",
       "  <thead>\n",
       "    <tr style=\"text-align: right;\">\n",
       "      <th></th>\n",
       "      <th>CRIM</th>\n",
       "      <th>ZN</th>\n",
       "      <th>INDUS</th>\n",
       "      <th>CHAS</th>\n",
       "      <th>NOX</th>\n",
       "      <th>RM</th>\n",
       "      <th>AGE</th>\n",
       "      <th>DIS</th>\n",
       "      <th>RAD</th>\n",
       "      <th>TAX</th>\n",
       "      <th>PTRATIO</th>\n",
       "      <th>B</th>\n",
       "      <th>LSTAT</th>\n",
       "      <th>MEDV</th>\n",
       "    </tr>\n",
       "  </thead>\n",
       "  <tbody>\n",
       "    <tr>\n",
       "      <th>0</th>\n",
       "      <td>0.00632</td>\n",
       "      <td>18.00</td>\n",
       "      <td>2.31</td>\n",
       "      <td>0.0</td>\n",
       "      <td>0.538</td>\n",
       "      <td>6.575</td>\n",
       "      <td>65.2</td>\n",
       "      <td>4.0900</td>\n",
       "      <td>1.0</td>\n",
       "      <td>296.0</td>\n",
       "      <td>15.3</td>\n",
       "      <td>NaN</td>\n",
       "      <td>NaN</td>\n",
       "      <td>NaN</td>\n",
       "    </tr>\n",
       "    <tr>\n",
       "      <th>1</th>\n",
       "      <td>396.90000</td>\n",
       "      <td>4.98</td>\n",
       "      <td>24.00</td>\n",
       "      <td>NaN</td>\n",
       "      <td>NaN</td>\n",
       "      <td>NaN</td>\n",
       "      <td>NaN</td>\n",
       "      <td>NaN</td>\n",
       "      <td>NaN</td>\n",
       "      <td>NaN</td>\n",
       "      <td>NaN</td>\n",
       "      <td>NaN</td>\n",
       "      <td>NaN</td>\n",
       "      <td>NaN</td>\n",
       "    </tr>\n",
       "    <tr>\n",
       "      <th>2</th>\n",
       "      <td>0.02731</td>\n",
       "      <td>0.00</td>\n",
       "      <td>7.07</td>\n",
       "      <td>0.0</td>\n",
       "      <td>0.469</td>\n",
       "      <td>6.421</td>\n",
       "      <td>78.9</td>\n",
       "      <td>4.9671</td>\n",
       "      <td>2.0</td>\n",
       "      <td>242.0</td>\n",
       "      <td>17.8</td>\n",
       "      <td>NaN</td>\n",
       "      <td>NaN</td>\n",
       "      <td>NaN</td>\n",
       "    </tr>\n",
       "    <tr>\n",
       "      <th>3</th>\n",
       "      <td>396.90000</td>\n",
       "      <td>9.14</td>\n",
       "      <td>21.60</td>\n",
       "      <td>NaN</td>\n",
       "      <td>NaN</td>\n",
       "      <td>NaN</td>\n",
       "      <td>NaN</td>\n",
       "      <td>NaN</td>\n",
       "      <td>NaN</td>\n",
       "      <td>NaN</td>\n",
       "      <td>NaN</td>\n",
       "      <td>NaN</td>\n",
       "      <td>NaN</td>\n",
       "      <td>NaN</td>\n",
       "    </tr>\n",
       "    <tr>\n",
       "      <th>4</th>\n",
       "      <td>0.02729</td>\n",
       "      <td>0.00</td>\n",
       "      <td>7.07</td>\n",
       "      <td>0.0</td>\n",
       "      <td>0.469</td>\n",
       "      <td>7.185</td>\n",
       "      <td>61.1</td>\n",
       "      <td>4.9671</td>\n",
       "      <td>2.0</td>\n",
       "      <td>242.0</td>\n",
       "      <td>17.8</td>\n",
       "      <td>NaN</td>\n",
       "      <td>NaN</td>\n",
       "      <td>NaN</td>\n",
       "    </tr>\n",
       "  </tbody>\n",
       "</table>\n",
       "</div>"
      ],
      "text/plain": [
       "        CRIM     ZN  INDUS  CHAS    NOX     RM   AGE     DIS  RAD    TAX  \\\n",
       "0    0.00632  18.00   2.31   0.0  0.538  6.575  65.2  4.0900  1.0  296.0   \n",
       "1  396.90000   4.98  24.00   NaN    NaN    NaN   NaN     NaN  NaN    NaN   \n",
       "2    0.02731   0.00   7.07   0.0  0.469  6.421  78.9  4.9671  2.0  242.0   \n",
       "3  396.90000   9.14  21.60   NaN    NaN    NaN   NaN     NaN  NaN    NaN   \n",
       "4    0.02729   0.00   7.07   0.0  0.469  7.185  61.1  4.9671  2.0  242.0   \n",
       "\n",
       "   PTRATIO   B  LSTAT  MEDV  \n",
       "0     15.3 NaN    NaN   NaN  \n",
       "1      NaN NaN    NaN   NaN  \n",
       "2     17.8 NaN    NaN   NaN  \n",
       "3      NaN NaN    NaN   NaN  \n",
       "4     17.8 NaN    NaN   NaN  "
      ]
     },
     "execution_count": 7,
     "metadata": {},
     "output_type": "execute_result"
    }
   ],
   "source": [
    "raw_df.head()"
   ]
  },
  {
   "cell_type": "markdown",
   "id": "2d0bd845",
   "metadata": {},
   "source": [
    "### Discover outlier with vistualization tools "
   ]
  },
  {
   "cell_type": "markdown",
   "id": "9c902c9a",
   "metadata": {},
   "source": [
    "#### Using Boxplot"
   ]
  },
  {
   "cell_type": "code",
   "execution_count": 8,
   "id": "3962cbc1",
   "metadata": {},
   "outputs": [
    {
     "data": {
      "text/plain": [
       "<Axes: xlabel='DIS'>"
      ]
     },
     "execution_count": 8,
     "metadata": {},
     "output_type": "execute_result"
    },
    {
     "data": {
      "image/png": "[encoded data removed]",
      "text/plain": [
       "<Figure size 432x288 with 1 Axes>"
      ]
     },
     "metadata": {
      "needs_background": "light"
     },
     "output_type": "display_data"
    }
   ],
   "source": [
    "import seaborn as sns \n",
    "sns.boxplot(x=raw_df['DIS'])\n",
    "#point between 10 to 12, these are outliers"
   ]
  },
  {
   "cell_type": "markdown",
   "id": "4b4448df",
   "metadata": {},
   "source": [
    "#### Using Scatter plot"
   ]
  },
  {
   "cell_type": "code",
   "execution_count": 9,
   "id": "225f397f",
   "metadata": {},
   "outputs": [
    {
     "data": {
      "image/png": "[encoded data removed]",
      "text/plain": [
       "<Figure size 1152x576 with 1 Axes>"
      ]
     },
     "metadata": {
      "needs_background": "light"
     },
     "output_type": "display_data"
    }
   ],
   "source": [
    "#import matplotlib module for ploting scatterplot\n",
    "import matplotlib.pyplot as plt\n",
    "fig, ax = plt.subplots(figsize=(16,8))\n",
    "ax.scatter(raw_df['INDUS'], raw_df['TAX'])\n",
    "ax.set_xlabel('Proportion of non-retail business acres per town')\n",
    "ax.set_ylabel('Full-value property-tax rate per $10,000')\n",
    "plt.show()\n",
    "\n",
    "#points which are far from the population  are outliers"
   ]
  },
  {
   "cell_type": "markdown",
   "id": "4d3bf793",
   "metadata": {},
   "source": [
    "#### Discover outliers with mathematical function"
   ]
  },
  {
   "cell_type": "markdown",
   "id": "df17b491",
   "metadata": {},
   "source": [
    "##### Using Z-score"
   ]
  },
  {
   "cell_type": "code",
   "execution_count": 11,
   "id": "d28cd89b",
   "metadata": {},
   "outputs": [
    {
     "name": "stdout",
     "output_type": "stream",
     "text": [
      "          CRIM        ZN     INDUS  CHAS  NOX  RM  AGE  DIS  RAD  TAX  \\\n",
      "0     0.957975  0.347499  1.466008   NaN  NaN NaN  NaN  NaN  NaN  NaN   \n",
      "1     1.152714  0.407625  0.723195   NaN  NaN NaN  NaN  NaN  NaN  NaN   \n",
      "2     0.957863  0.696451  0.985574   NaN  NaN NaN  NaN  NaN  NaN  NaN   \n",
      "3     1.152714  0.166356  0.480959   NaN  NaN NaN  NaN  NaN  NaN  NaN   \n",
      "4     0.957863  0.696451  0.985574   NaN  NaN NaN  NaN  NaN  NaN  NaN   \n",
      "...        ...       ...       ...   ...  ...  ..  ...  ...  ...  ...   \n",
      "1007  1.152714  0.369347  0.713101   NaN  NaN NaN  NaN  NaN  NaN  NaN   \n",
      "1008  0.957426  0.696451  0.495048   NaN  NaN NaN  NaN  NaN  NaN  NaN   \n",
      "1009  1.134367  0.320629  0.521332   NaN  NaN NaN  NaN  NaN  NaN  NaN   \n",
      "1010  0.957756  0.696451  0.495048   NaN  NaN NaN  NaN  NaN  NaN  NaN   \n",
      "1011  1.152714  0.239433  0.498076   NaN  NaN NaN  NaN  NaN  NaN  NaN   \n",
      "\n",
      "      PTRATIO   B  LSTAT  MEDV  \n",
      "0         NaN NaN    NaN   NaN  \n",
      "1         NaN NaN    NaN   NaN  \n",
      "2         NaN NaN    NaN   NaN  \n",
      "3         NaN NaN    NaN   NaN  \n",
      "4         NaN NaN    NaN   NaN  \n",
      "...       ...  ..    ...   ...  \n",
      "1007      NaN NaN    NaN   NaN  \n",
      "1008      NaN NaN    NaN   NaN  \n",
      "1009      NaN NaN    NaN   NaN  \n",
      "1010      NaN NaN    NaN   NaN  \n",
      "1011      NaN NaN    NaN   NaN  \n",
      "\n",
      "[1012 rows x 14 columns]\n"
     ]
    }
   ],
   "source": [
    "from scipy import stats\n",
    "import numpy as np\n",
    "z = np.abs(stats.zscore(raw_df))\n",
    "print(z)"
   ]
  },
  {
   "cell_type": "code",
   "execution_count": 12,
   "id": "a2e4586a",
   "metadata": {
    "scrolled": true
   },
   "outputs": [
    {
     "name": "stdout",
     "output_type": "stream",
     "text": [
      "(array([ 78,  80, 108, 110, 112, 114, 130, 132, 323, 325, 327, 333, 373,\n",
      "       390, 391, 392, 394, 396, 398, 400, 402, 404, 406, 407, 408, 409,\n",
      "       451, 457, 467, 508, 510, 512, 515, 525, 535, 566, 567, 568, 572,\n",
      "       580, 582, 584, 596, 598, 600, 694, 696, 706, 708, 710, 737, 739,\n",
      "       741, 743, 745], dtype=int64), array([1, 1, 1, 1, 1, 1, 1, 1, 2, 2, 2, 2, 2, 1, 2, 1, 1, 1, 1, 1, 1, 1,\n",
      "       1, 2, 1, 2, 2, 2, 2, 1, 1, 1, 2, 2, 2, 1, 2, 1, 1, 1, 1, 1, 1, 1,\n",
      "       1, 1, 1, 1, 1, 1, 2, 2, 2, 2, 2], dtype=int64))\n"
     ]
    }
   ],
   "source": [
    "#define a threshold to identify an outlier\n",
    "threshold = 3\n",
    "print(np.where(z > 3))"
   ]
  },
  {
   "cell_type": "code",
   "execution_count": null,
   "id": "8b3669b7",
   "metadata": {},
   "outputs": [],
   "source": [
    "#The first array contains the list of row numbers and second array \n",
    "#respective column numbers, which mean z[78][1] have a Z-score higher than 3"
   ]
  },
  {
   "cell_type": "markdown",
   "id": "c5161630",
   "metadata": {},
   "source": [
    "##### Using IQR score"
   ]
  },
  {
   "cell_type": "code",
   "execution_count": 24,
   "id": "d4c2fe1a",
   "metadata": {},
   "outputs": [
    {
     "name": "stdout",
     "output_type": "stream",
     "text": [
      "CRIM       391.17717\n",
      "ZN          16.78000\n",
      "INDUS       13.51500\n",
      "CHAS         0.00000\n",
      "NOX          0.17500\n",
      "RM           0.73800\n",
      "AGE         49.05000\n",
      "DIS          3.08825\n",
      "RAD         20.00000\n",
      "TAX        387.00000\n",
      "PTRATIO      2.80000\n",
      "B                NaN\n",
      "LSTAT            NaN\n",
      "MEDV             NaN\n",
      "dtype: float64\n"
     ]
    }
   ],
   "source": [
    "#find quantile\n",
    "Q1 = raw_df.quantile(0.25)\n",
    "Q3 = raw_df.quantile(0.75)\n",
    "#formula for interquartile range \n",
    "IQR = Q3 - Q1\n",
    "print(IQR)"
   ]
  },
  {
   "cell_type": "markdown",
   "id": "47a3ae77",
   "metadata": {},
   "source": [
    "##### Working with Outliers: Correcting, Removing"
   ]
  },
  {
   "cell_type": "code",
   "execution_count": null,
   "id": "ea5bf2c6",
   "metadata": {},
   "outputs": [],
   "source": [
    "raw_df_o = raw_df[(z < 3).all(axis=1)]"
   ]
  },
  {
   "cell_type": "code",
   "execution_count": 27,
   "id": "7381dc94",
   "metadata": {},
   "outputs": [
    {
     "data": {
      "text/plain": [
       "(1012, 14)"
      ]
     },
     "execution_count": 27,
     "metadata": {},
     "output_type": "execute_result"
    }
   ],
   "source": [
    "#result with outlier\n",
    "raw_df.shape"
   ]
  }
 ],
 "metadata": {
  "kernelspec": {
   "display_name": "Python 3 (ipykernel)",
   "language": "python",
   "name": "python3"
  },
  "language_info": {
   "codemirror_mode": {
    "name": "ipython",
    "version": 3
   },
   "file_extension": ".py",
   "mimetype": "text/x-python",
   "name": "python",
   "nbconvert_exporter": "python",
   "pygments_lexer": "ipython3",
   "version": "3.9.13"
  }
 },
 "nbformat": 4,
 "nbformat_minor": 5
}
