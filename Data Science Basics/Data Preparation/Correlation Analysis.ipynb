{
 "cells": [
  {
   "cell_type": "markdown",
   "id": "3b0a4aae",
   "metadata": {},
   "source": [
    "## Correlation Analysis "
   ]
  },
  {
   "cell_type": "code",
   "execution_count": 5,
   "id": "731276eb",
   "metadata": {},
   "outputs": [],
   "source": [
    "import pandas as pd\n",
    "import numpy as np"
   ]
  },
  {
   "cell_type": "code",
   "execution_count": 2,
   "id": "e3ff708a",
   "metadata": {},
   "outputs": [
    {
     "data": {
      "text/html": [
       "<div>\n",
       "<style scoped>\n",
       "    .dataframe tbody tr th:only-of-type {\n",
       "        vertical-align: middle;\n",
       "    }\n",
       "\n",
       "    .dataframe tbody tr th {\n",
       "        vertical-align: top;\n",
       "    }\n",
       "\n",
       "    .dataframe thead th {\n",
       "        text-align: right;\n",
       "    }\n",
       "</style>\n",
       "<table border=\"1\" class=\"dataframe\">\n",
       "  <thead>\n",
       "    <tr style=\"text-align: right;\">\n",
       "      <th></th>\n",
       "      <th>name</th>\n",
       "      <th>tenure</th>\n",
       "      <th>employees</th>\n",
       "      <th>inventory</th>\n",
       "    </tr>\n",
       "  </thead>\n",
       "  <tbody>\n",
       "    <tr>\n",
       "      <th>0</th>\n",
       "      <td>jack</td>\n",
       "      <td>42</td>\n",
       "      <td>4</td>\n",
       "      <td>25</td>\n",
       "    </tr>\n",
       "    <tr>\n",
       "      <th>1</th>\n",
       "      <td>mason</td>\n",
       "      <td>52</td>\n",
       "      <td>24</td>\n",
       "      <td>94</td>\n",
       "    </tr>\n",
       "    <tr>\n",
       "      <th>2</th>\n",
       "      <td>tanya</td>\n",
       "      <td>36</td>\n",
       "      <td>31</td>\n",
       "      <td>57</td>\n",
       "    </tr>\n",
       "    <tr>\n",
       "      <th>3</th>\n",
       "      <td>jim</td>\n",
       "      <td>24</td>\n",
       "      <td>2</td>\n",
       "      <td>62</td>\n",
       "    </tr>\n",
       "    <tr>\n",
       "      <th>4</th>\n",
       "      <td>amelia</td>\n",
       "      <td>73</td>\n",
       "      <td>3</td>\n",
       "      <td>70</td>\n",
       "    </tr>\n",
       "  </tbody>\n",
       "</table>\n",
       "</div>"
      ],
      "text/plain": [
       "     name  tenure  employees  inventory\n",
       "0    jack      42          4         25\n",
       "1   mason      52         24         94\n",
       "2   tanya      36         31         57\n",
       "3     jim      24          2         62\n",
       "4  amelia      73          3         70"
      ]
     },
     "execution_count": 2,
     "metadata": {},
     "output_type": "execute_result"
    }
   ],
   "source": [
    "#Create a dictionary\n",
    "data = {'name':['jack', 'mason','tanya','jim','amelia'],\n",
    "       'tenure': [42,52,36,24,73],\n",
    "       'employees': [4,24,31,2,3 ],\n",
    "       'inventory': [25,94,57,62,70]}\n",
    "\n",
    "df = pd.DataFrame(data, columns = ['name','tenure','employees','inventory'])\n",
    "df"
   ]
  },
  {
   "cell_type": "code",
   "execution_count": 10,
   "id": "5d7b75d7",
   "metadata": {},
   "outputs": [
    {
     "name": "stdout",
     "output_type": "stream",
     "text": [
      "             tenure  employees  inventory\n",
      "tenure     1.000000  -0.105651   0.328852\n",
      "employees -0.105651   1.000000   0.378039\n",
      "inventory  0.328852   0.378039   1.000000\n"
     ]
    }
   ],
   "source": [
    "df = pd.DataFrame(data, columns=['name', 'tenure', 'employees', 'inventory'])\n",
    "\n",
    "# Select only numeric columns\n",
    "numeric_columns = df.select_dtypes(include=np.number).columns\n",
    "\n",
    "# Calculate correlation matrix\n",
    "correlation_matrix = df[numeric_columns].corr()\n",
    "\n",
    "print(correlation_matrix)"
   ]
  },
  {
   "cell_type": "code",
   "execution_count": 13,
   "id": "9fd39693",
   "metadata": {},
   "outputs": [],
   "source": [
    "# Select only numeric columns\n",
    "numeric_columns = df.select_dtypes(include=np.number).columns"
   ]
  },
  {
   "cell_type": "code",
   "execution_count": 14,
   "id": "bb6da47a",
   "metadata": {},
   "outputs": [],
   "source": [
    "# Exclude non-numeric columns\n",
    "numeric_df = df[numeric_columns]"
   ]
  },
  {
   "cell_type": "code",
   "execution_count": 15,
   "id": "c19ef5dc",
   "metadata": {},
   "outputs": [
    {
     "name": "stdout",
     "output_type": "stream",
     "text": [
      "Pearson Correlation:\n",
      "             tenure  employees  inventory\n",
      "tenure     1.000000  -0.105651   0.328852\n",
      "employees -0.105651   1.000000   0.378039\n",
      "inventory  0.328852   0.378039   1.000000\n",
      "\n"
     ]
    }
   ],
   "source": [
    "# Calculate correlation using Pearson method\n",
    "pearson_corr = numeric_df.corr(method='pearson')\n",
    "print(\"Pearson Correlation:\")\n",
    "print(pearson_corr)\n",
    "print()"
   ]
  },
  {
   "cell_type": "code",
   "execution_count": 16,
   "id": "914d3e8c",
   "metadata": {},
   "outputs": [
    {
     "name": "stdout",
     "output_type": "stream",
     "text": [
      "Kendall Correlation:\n",
      "           tenure  employees  inventory\n",
      "tenure        1.0        0.0        0.2\n",
      "employees     0.0        1.0        0.0\n",
      "inventory     0.2        0.0        1.0\n",
      "\n"
     ]
    }
   ],
   "source": [
    "# Calculate correlation using Kendall method\n",
    "kendall_corr = numeric_df.corr(method='kendall')\n",
    "print(\"Kendall Correlation:\")\n",
    "print(kendall_corr)\n",
    "print()"
   ]
  },
  {
   "cell_type": "code",
   "execution_count": 17,
   "id": "ade6ffd5",
   "metadata": {},
   "outputs": [
    {
     "name": "stdout",
     "output_type": "stream",
     "text": [
      "Spearman Correlation:\n",
      "           tenure  employees  inventory\n",
      "tenure        1.0        0.1        0.5\n",
      "employees     0.1        1.0       -0.1\n",
      "inventory     0.5       -0.1        1.0\n"
     ]
    }
   ],
   "source": [
    "# Calculate correlation using Spearman method\n",
    "spearman_corr = numeric_df.corr(method='spearman')\n",
    "print(\"Spearman Correlation:\")\n",
    "print(spearman_corr)"
   ]
  },
  {
   "cell_type": "code",
   "execution_count": null,
   "id": "f2564179",
   "metadata": {},
   "outputs": [],
   "source": []
  }
 ],
 "metadata": {
  "kernelspec": {
   "display_name": "Python 3 (ipykernel)",
   "language": "python",
   "name": "python3"
  },
  "language_info": {
   "codemirror_mode": {
    "name": "ipython",
    "version": 3
   },
   "file_extension": ".py",
   "mimetype": "text/x-python",
   "name": "python",
   "nbconvert_exporter": "python",
   "pygments_lexer": "ipython3",
   "version": "3.9.13"
  }
 },
 "nbformat": 4,
 "nbformat_minor": 5
}
