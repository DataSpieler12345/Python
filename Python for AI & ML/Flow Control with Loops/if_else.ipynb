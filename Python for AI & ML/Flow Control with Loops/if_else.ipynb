{
 "cells": [
  {
   "cell_type": "markdown",
   "id": "7cdc9736-36f6-43cd-a62d-18189c9ff91d",
   "metadata": {},
   "source": [
    "<div align=\"center\">\n",
    "    <h4 style=\"font-size: 50;\">If/Else</h4>\n",
    "</div>"
   ]
  },
  {
   "cell_type": "markdown",
   "id": "89cb90ef-ba8e-46d8-9586-b389c93224bf",
   "metadata": {},
   "source": [
    "#### printing characteristics of a number \n",
    "#### determining of a number if positive or negative "
   ]
  },
  {
   "cell_type": "code",
   "execution_count": 3,
   "id": "cc8b7003-751d-4383-942a-5509fc836191",
   "metadata": {},
   "outputs": [
    {
     "name": "stdout",
     "output_type": "stream",
     "text": [
      "positive number\n"
     ]
    }
   ],
   "source": [
    "number = 7\n",
    "\n",
    "if number >=0:\n",
    "    print(\"positive number\")\n",
    "else:\n",
    "    print(\"negative number\")\n",
    "    "
   ]
  },
  {
   "cell_type": "code",
   "execution_count": 5,
   "id": "6b0c1309-3976-4fc8-b729-8c1de8ced879",
   "metadata": {},
   "outputs": [
    {
     "name": "stdin",
     "output_type": "stream",
     "text": [
      "Please enter your number 3.258\n"
     ]
    },
    {
     "name": "stdout",
     "output_type": "stream",
     "text": [
      "positive number\n"
     ]
    }
   ],
   "source": [
    "number = float(input(\"Please enter your number\"))\n",
    "\n",
    "if number >=0:\n",
    "    print(\"positive number\")\n",
    "else:\n",
    "    print(\"negative number\")"
   ]
  },
  {
   "cell_type": "code",
   "execution_count": 6,
   "id": "1730087d-6231-4809-a36a-4c64a3203bd8",
   "metadata": {},
   "outputs": [
    {
     "name": "stdin",
     "output_type": "stream",
     "text": [
      "Please enter your number 0\n"
     ]
    },
    {
     "name": "stdout",
     "output_type": "stream",
     "text": [
      "positive number\n"
     ]
    }
   ],
   "source": [
    "number = float(input(\"Please enter your number\"))\n",
    "\n",
    "if number >=0:\n",
    "    print(\"positive number\")\n",
    "else:\n",
    "    print(\"negative number\")"
   ]
  },
  {
   "cell_type": "code",
   "execution_count": 7,
   "id": "4d4a7d3e-d4b8-4e70-a27e-b97ea70eb5f9",
   "metadata": {},
   "outputs": [
    {
     "name": "stdin",
     "output_type": "stream",
     "text": [
      "Please enter your number -9.5\n"
     ]
    },
    {
     "name": "stdout",
     "output_type": "stream",
     "text": [
      "negative number\n"
     ]
    }
   ],
   "source": [
    "number = float(input(\"Please enter your number\"))\n",
    "\n",
    "if number >=0:\n",
    "    print(\"positive number\")\n",
    "else:\n",
    "    print(\"negative number\")"
   ]
  },
  {
   "cell_type": "code",
   "execution_count": 8,
   "id": "17eb858f-8f7a-49c4-aeb3-838460e64b9b",
   "metadata": {},
   "outputs": [
    {
     "name": "stdin",
     "output_type": "stream",
     "text": [
      "Please enter your number -8\n"
     ]
    },
    {
     "name": "stdout",
     "output_type": "stream",
     "text": [
      "negative number\n"
     ]
    }
   ],
   "source": [
    "number = float(input(\"Please enter your number\"))\n",
    "\n",
    "if number >=0:\n",
    "    squared = number**2\n",
    "    print(squared)\n",
    "else:\n",
    "    print(\"negative number\")"
   ]
  },
  {
   "cell_type": "code",
   "execution_count": 9,
   "id": "bef22b35-f76e-4cc0-b176-3ac9241e5b8c",
   "metadata": {},
   "outputs": [
    {
     "name": "stdin",
     "output_type": "stream",
     "text": [
      "Please enter your number 4\n"
     ]
    },
    {
     "name": "stdout",
     "output_type": "stream",
     "text": [
      "16.0\n"
     ]
    }
   ],
   "source": [
    "number = float(input(\"Please enter your number\"))\n",
    "\n",
    "if number >=0:\n",
    "    squared = number**2\n",
    "    print(squared)\n",
    "else:\n",
    "    print(\"negative number\")"
   ]
  }
 ],
 "metadata": {
  "kernelspec": {
   "display_name": "Python 3 (ipykernel)",
   "language": "python",
   "name": "python3"
  },
  "language_info": {
   "codemirror_mode": {
    "name": "ipython",
    "version": 3
   },
   "file_extension": ".py",
   "mimetype": "text/x-python",
   "name": "python",
   "nbconvert_exporter": "python",
   "pygments_lexer": "ipython3",
   "version": "3.10.7"
  }
 },
 "nbformat": 4,
 "nbformat_minor": 5
}
