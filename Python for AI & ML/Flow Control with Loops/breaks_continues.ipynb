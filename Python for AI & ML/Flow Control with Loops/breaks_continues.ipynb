{
 "cells": [
  {
   "cell_type": "markdown",
   "id": "4fc4be33-b5d8-4e00-830b-3ac7fcebe317",
   "metadata": {},
   "source": [
    "<div align=\"center\">\n",
    "    <h4 style=\"font-size: 50;\">Breaks & Continues</h4>\n",
    "</div>"
   ]
  },
  {
   "cell_type": "code",
   "execution_count": 2,
   "id": "33e43503-09e9-448c-8ff7-fc740d0545a0",
   "metadata": {},
   "outputs": [
    {
     "name": "stdout",
     "output_type": "stream",
     "text": [
      "t\n",
      "this ends our programm\n"
     ]
    }
   ],
   "source": [
    "for x in \"this string here\":\n",
    "    if x == \"h\":\n",
    "        break\n",
    "    print(x)\n",
    "print(\"this ends our programm\")"
   ]
  },
  {
   "cell_type": "code",
   "execution_count": 3,
   "id": "c440dc62-52da-497a-aa8f-ec8e800d3155",
   "metadata": {},
   "outputs": [
    {
     "name": "stdout",
     "output_type": "stream",
     "text": [
      "t\n",
      "h\n",
      "i\n",
      "s\n",
      " \n",
      "s\n",
      "t\n",
      "r\n",
      "i\n",
      "n\n",
      "g\n",
      " \n",
      "h\n",
      "this ends our programm\n"
     ]
    }
   ],
   "source": [
    "for x in \"this string here\":\n",
    "    if x == \"e\":\n",
    "        break\n",
    "    print(x)\n",
    "print(\"this ends our programm\")"
   ]
  },
  {
   "cell_type": "code",
   "execution_count": 4,
   "id": "b7fe9333-cbcf-4ba6-8cfe-07935b63d69f",
   "metadata": {},
   "outputs": [
    {
     "name": "stdout",
     "output_type": "stream",
     "text": [
      "t\n",
      "h\n",
      "i\n",
      "s\n",
      " \n",
      "s\n",
      "t\n",
      "r\n",
      "i\n",
      "n\n",
      "this ends our programm\n"
     ]
    }
   ],
   "source": [
    "for x in \"this string here\":\n",
    "    if x == \"g\":\n",
    "        break\n",
    "    print(x)\n",
    "print(\"this ends our programm\")"
   ]
  },
  {
   "cell_type": "code",
   "execution_count": 5,
   "id": "e4928c56-59e2-45dd-b25c-e142a0cbbeac",
   "metadata": {},
   "outputs": [
    {
     "name": "stdout",
     "output_type": "stream",
     "text": [
      "t\n",
      "i\n",
      "s\n",
      " \n",
      "s\n",
      "t\n",
      "r\n",
      "i\n",
      "n\n",
      "g\n",
      " \n",
      "e\n",
      "r\n",
      "e\n",
      "this ends our programm\n"
     ]
    }
   ],
   "source": [
    "for x in \"this string here\":\n",
    "    if x == \"h\":\n",
    "        continue\n",
    "    print(x)\n",
    "print(\"this ends our programm\")"
   ]
  }
 ],
 "metadata": {
  "kernelspec": {
   "display_name": "Python 3 (ipykernel)",
   "language": "python",
   "name": "python3"
  },
  "language_info": {
   "codemirror_mode": {
    "name": "ipython",
    "version": 3
   },
   "file_extension": ".py",
   "mimetype": "text/x-python",
   "name": "python",
   "nbconvert_exporter": "python",
   "pygments_lexer": "ipython3",
   "version": "3.10.7"
  }
 },
 "nbformat": 4,
 "nbformat_minor": 5
}
