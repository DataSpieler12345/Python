{
 "cells": [
  {
   "cell_type": "markdown",
   "id": "bfc27e53-ddba-4bf8-92be-4cae28fa085e",
   "metadata": {},
   "source": [
    "<div align=\"center\">\n",
    "    <h4 style=\"font-size: 50;\">While Loops</h4>\n",
    "</div>"
   ]
  },
  {
   "cell_type": "code",
   "execution_count": 1,
   "id": "460d2736-dc36-4457-9c61-259a4b7fb1bf",
   "metadata": {},
   "outputs": [
    {
     "name": "stdin",
     "output_type": "stream",
     "text": [
      "Enter your N value here: -8\n"
     ]
    },
    {
     "name": "stdout",
     "output_type": "stream",
     "text": [
      "Our summation is equal to 0\n"
     ]
    }
   ],
   "source": [
    "# sum the number 1 through N\n",
    "\n",
    "N = int(input(\"Enter your N value here:\"))\n",
    "\n",
    "summation = 0\n",
    "j = 1 \n",
    "\n",
    "while j <= N:\n",
    "    summation = summation + j\n",
    "    j = j + 1\n",
    "\n",
    "print(\"Our summation is equal to\", summation)"
   ]
  },
  {
   "cell_type": "code",
   "execution_count": 2,
   "id": "c77648b8-0e34-47d8-a328-fc1ffa0ce560",
   "metadata": {},
   "outputs": [
    {
     "name": "stdin",
     "output_type": "stream",
     "text": [
      "Enter your N value here: 0\n"
     ]
    },
    {
     "name": "stdout",
     "output_type": "stream",
     "text": [
      "Our summation is equal to 0\n"
     ]
    }
   ],
   "source": [
    "# sum the number 1 through N\n",
    "\n",
    "N = int(input(\"Enter your N value here:\"))\n",
    "\n",
    "summation = 0\n",
    "j = 1 \n",
    "\n",
    "while j <= N:\n",
    "    summation = summation + j\n",
    "    j = j + 1\n",
    "\n",
    "print(\"Our summation is equal to\", summation)"
   ]
  },
  {
   "cell_type": "code",
   "execution_count": 3,
   "id": "45ce4022-06fb-462c-ac71-bd11291e0f9b",
   "metadata": {},
   "outputs": [
    {
     "name": "stdin",
     "output_type": "stream",
     "text": [
      "Enter your N value here: 54\n"
     ]
    },
    {
     "name": "stdout",
     "output_type": "stream",
     "text": [
      "Our summation is equal to 1485\n"
     ]
    }
   ],
   "source": [
    "# sum the number 1 through N\n",
    "\n",
    "N = int(input(\"Enter your N value here:\"))\n",
    "\n",
    "summation = 0\n",
    "j = 1 \n",
    "\n",
    "while j <= N:\n",
    "    summation = summation + j\n",
    "    j = j + 1\n",
    "\n",
    "print(\"Our summation is equal to\", summation)"
   ]
  },
  {
   "cell_type": "code",
   "execution_count": 5,
   "id": "d3f4d179-5d14-456e-8b0f-df77e9d575b0",
   "metadata": {},
   "outputs": [
    {
     "name": "stdout",
     "output_type": "stream",
     "text": [
      "Interior loop value\n",
      "Interior loop value\n",
      "Interior loop value\n",
      "Interior loop value\n",
      "Interior loop value\n",
      "exterior loop value\n"
     ]
    }
   ],
   "source": [
    "# another example\n",
    "\n",
    "counter = 0\n",
    "\n",
    "while counter < 5:\n",
    "    print(\"Interior loop value\")\n",
    "    counter = counter + 1\n",
    "else:\n",
    "    print(\"exterior loop value\")"
   ]
  }
 ],
 "metadata": {
  "kernelspec": {
   "display_name": "Python 3 (ipykernel)",
   "language": "python",
   "name": "python3"
  },
  "language_info": {
   "codemirror_mode": {
    "name": "ipython",
    "version": 3
   },
   "file_extension": ".py",
   "mimetype": "text/x-python",
   "name": "python",
   "nbconvert_exporter": "python",
   "pygments_lexer": "ipython3",
   "version": "3.10.7"
  }
 },
 "nbformat": 4,
 "nbformat_minor": 5
}
