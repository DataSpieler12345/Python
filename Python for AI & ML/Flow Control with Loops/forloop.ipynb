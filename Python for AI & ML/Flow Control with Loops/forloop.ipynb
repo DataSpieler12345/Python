{
 "cells": [
  {
   "cell_type": "markdown",
   "id": "b85b802e-1ab4-4bbc-b1e6-852ed6d975e3",
   "metadata": {},
   "source": [
    "<div align=\"center\">\n",
    "    <h4 style=\"font-size: 50;\">For Loops</h4>\n",
    "</div>"
   ]
  },
  {
   "cell_type": "code",
   "execution_count": 1,
   "id": "380bce11-cfe0-46d9-b8bf-24232a36b042",
   "metadata": {},
   "outputs": [
    {
     "name": "stdout",
     "output_type": "stream",
     "text": [
      "Our summation is... 15\n"
     ]
    }
   ],
   "source": [
    "# list of some numbers\n",
    "list1 = [1,2,3,4,5]\n",
    "\n",
    "summed_list = 0\n",
    "\n",
    "for x in list1:\n",
    "    summed_list = summed_list+x\n",
    "\n",
    "print(\"Our summation is...\", summed_list)"
   ]
  },
  {
   "cell_type": "code",
   "execution_count": 2,
   "id": "58f6c9e3-5493-4d73-8d4a-b6d9a7a887ee",
   "metadata": {},
   "outputs": [
    {
     "name": "stdout",
     "output_type": "stream",
     "text": [
      "Profits after taxes are: 1203.75\n"
     ]
    }
   ],
   "source": [
    "# list of some numbers\n",
    "list1 = [100,200,300,400,5]\n",
    "\n",
    "summed_list = 450\n",
    "\n",
    "for x in list1:\n",
    "    summed_list = summed_list+ 0.75*x\n",
    "\n",
    "print(\"Profits after taxes are:\", summed_list)"
   ]
  }
 ],
 "metadata": {
  "kernelspec": {
   "display_name": "Python 3 (ipykernel)",
   "language": "python",
   "name": "python3"
  },
  "language_info": {
   "codemirror_mode": {
    "name": "ipython",
    "version": 3
   },
   "file_extension": ".py",
   "mimetype": "text/x-python",
   "name": "python",
   "nbconvert_exporter": "python",
   "pygments_lexer": "ipython3",
   "version": "3.10.7"
  }
 },
 "nbformat": 4,
 "nbformat_minor": 5
}
