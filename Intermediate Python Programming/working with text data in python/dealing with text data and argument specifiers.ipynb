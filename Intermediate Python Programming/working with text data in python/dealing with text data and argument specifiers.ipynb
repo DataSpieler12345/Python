{
 "cells": [
  {
   "cell_type": "markdown",
   "id": "1ef0aadf",
   "metadata": {},
   "source": [
    "<center><h1><b><font size=\"5\">Dealing with Text Data and Argument Specifiers</font></b></h1></center>"
   ]
  },
  {
   "cell_type": "code",
   "execution_count": 1,
   "id": "847e20ee",
   "metadata": {},
   "outputs": [
    {
     "name": "stdout",
     "output_type": "stream",
     "text": [
      "This item is from product category \"A\".\n"
     ]
    }
   ],
   "source": [
    "product_category = 'A'\n",
    "print('This item is from product category \"%s\".' % product_category)"
   ]
  },
  {
   "cell_type": "code",
   "execution_count": 2,
   "id": "c3ed60e6",
   "metadata": {},
   "outputs": [
    {
     "name": "stdout",
     "output_type": "stream",
     "text": [
      "This item is from product category \"B\".\n"
     ]
    }
   ],
   "source": [
    "product_category = 'B'\n",
    "print('This item is from product category \"%s\".' % product_category)"
   ]
  },
  {
   "cell_type": "code",
   "execution_count": 3,
   "id": "63983c9c",
   "metadata": {},
   "outputs": [
    {
     "name": "stdout",
     "output_type": "stream",
     "text": [
      "This item is from product category \"['A', 'B']\".\n"
     ]
    }
   ],
   "source": [
    "#list string values\n",
    "product_category = ['A','B']\n",
    "print('This item is from product category \"%s\".' % product_category)"
   ]
  },
  {
   "cell_type": "code",
   "execution_count": 4,
   "id": "6b66aad8",
   "metadata": {},
   "outputs": [
    {
     "name": "stdout",
     "output_type": "stream",
     "text": [
      "This item is from product category \"A\".\n"
     ]
    }
   ],
   "source": [
    "#list string values\n",
    "product_category = ['A','B']\n",
    "print('This item is from product category \"%s\".' % product_category[0])"
   ]
  },
  {
   "cell_type": "code",
   "execution_count": 5,
   "id": "19b5d310",
   "metadata": {},
   "outputs": [
    {
     "name": "stdout",
     "output_type": "stream",
     "text": [
      "This item is from product category \"B\".\n"
     ]
    }
   ],
   "source": [
    "#list string values\n",
    "product_category = ['A','B']\n",
    "print('This item is from product category \"%s\".' % product_category[1])"
   ]
  },
  {
   "cell_type": "markdown",
   "id": "8aca7d2f",
   "metadata": {},
   "source": [
    "#### another example"
   ]
  },
  {
   "cell_type": "code",
   "execution_count": 6,
   "id": "1f76fcc5",
   "metadata": {},
   "outputs": [
    {
     "name": "stdout",
     "output_type": "stream",
     "text": [
      "This item is from product category \"600\".\n"
     ]
    }
   ],
   "source": [
    "quantities = [500,600]\n",
    "print('This item is from product category \"%s\".' % quantities[1])"
   ]
  },
  {
   "cell_type": "code",
   "execution_count": 7,
   "id": "ed9a4957",
   "metadata": {},
   "outputs": [
    {
     "name": "stdout",
     "output_type": "stream",
     "text": [
      "This item is from product category \"500\".\n"
     ]
    }
   ],
   "source": [
    "quantities = [500,600]\n",
    "print('This item is from product category \"%s\".' % quantities[0])"
   ]
  },
  {
   "cell_type": "code",
   "execution_count": 8,
   "id": "cb0d5b88",
   "metadata": {},
   "outputs": [
    {
     "name": "stdout",
     "output_type": "stream",
     "text": [
      "We currently have 500 available units of this item.\n"
     ]
    }
   ],
   "source": [
    "print(\"We currently have %d available units of this item.\" % quantities[0])"
   ]
  },
  {
   "cell_type": "code",
   "execution_count": 9,
   "id": "bbbecd7d",
   "metadata": {},
   "outputs": [
    {
     "name": "stdout",
     "output_type": "stream",
     "text": [
      "We currently have 600 available units of this item.\n"
     ]
    }
   ],
   "source": [
    "print(\"We currently have %d available units of this item.\" % quantities[1])"
   ]
  },
  {
   "cell_type": "markdown",
   "id": "d2bb8c7d",
   "metadata": {},
   "source": [
    "#### another example"
   ]
  },
  {
   "cell_type": "code",
   "execution_count": 10,
   "id": "4c386671",
   "metadata": {},
   "outputs": [
    {
     "name": "stdout",
     "output_type": "stream",
     "text": [
      "This stock costs $6.35 per share.\n"
     ]
    }
   ],
   "source": [
    "stock_share_price_list = [40.50,6.35]\n",
    "print(\"This stock costs $%.2f per share.\" % stock_share_price_list[1])"
   ]
  },
  {
   "cell_type": "code",
   "execution_count": 11,
   "id": "1f3d4262",
   "metadata": {},
   "outputs": [
    {
     "name": "stdout",
     "output_type": "stream",
     "text": [
      "This stock costs $40.50 per share.\n"
     ]
    }
   ],
   "source": [
    "stock_share_price_list = [40.50,6.35]\n",
    "print(\"This stock costs $%.2f per share.\" % stock_share_price_list[0])"
   ]
  },
  {
   "cell_type": "code",
   "execution_count": 14,
   "id": "7e3a5d8e",
   "metadata": {},
   "outputs": [
    {
     "name": "stdout",
     "output_type": "stream",
     "text": [
      "Currently, we have 500 units of category \"A\" products in store.\n"
     ]
    }
   ],
   "source": [
    "i = 0\n",
    "print(\"Currently, we have %d units of category \\\"%s\\\" products in store.\" % (quantities[i], product_category[i]))"
   ]
  }
 ],
 "metadata": {
  "kernelspec": {
   "display_name": "Python 3 (ipykernel)",
   "language": "python",
   "name": "python3"
  },
  "language_info": {
   "codemirror_mode": {
    "name": "ipython",
    "version": 3
   },
   "file_extension": ".py",
   "mimetype": "text/x-python",
   "name": "python",
   "nbconvert_exporter": "python",
   "pygments_lexer": "ipython3",
   "version": "3.9.13"
  }
 },
 "nbformat": 4,
 "nbformat_minor": 5
}
