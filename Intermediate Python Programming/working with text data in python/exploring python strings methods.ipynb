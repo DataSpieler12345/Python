{
 "cells": [
  {
   "cell_type": "markdown",
   "id": "ed1dedf3",
   "metadata": {},
   "source": [
    "<center><h1><b><font size=\"5\">Exploring Python String Methods</font></b></h1></center>"
   ]
  },
  {
   "cell_type": "code",
   "execution_count": 1,
   "id": "75fe75b6",
   "metadata": {},
   "outputs": [
    {
     "data": {
      "text/plain": [
       "'Price per unit'"
      ]
     },
     "execution_count": 1,
     "metadata": {},
     "output_type": "execute_result"
    }
   ],
   "source": [
    "s = 'Price per unit'\n",
    "s"
   ]
  },
  {
   "cell_type": "code",
   "execution_count": 11,
   "id": "c8503c1a",
   "metadata": {},
   "outputs": [
    {
     "data": {
      "text/plain": [
       "'Cost per unit'"
      ]
     },
     "execution_count": 11,
     "metadata": {},
     "output_type": "execute_result"
    }
   ],
   "source": [
    "s1 = s.replace('Price', 'Cost')\n",
    "s1"
   ]
  },
  {
   "cell_type": "code",
   "execution_count": 12,
   "id": "4fa9dee3",
   "metadata": {},
   "outputs": [
    {
     "data": {
      "text/plain": [
       "True"
      ]
     },
     "execution_count": 12,
     "metadata": {},
     "output_type": "execute_result"
    }
   ],
   "source": [
    "s1.startswith('Cost')"
   ]
  },
  {
   "cell_type": "code",
   "execution_count": 13,
   "id": "f137ca26",
   "metadata": {},
   "outputs": [
    {
     "data": {
      "text/plain": [
       "False"
      ]
     },
     "execution_count": 13,
     "metadata": {},
     "output_type": "execute_result"
    }
   ],
   "source": [
    "s1.startswith('cost')"
   ]
  },
  {
   "cell_type": "code",
   "execution_count": 14,
   "id": "f74e1f24",
   "metadata": {},
   "outputs": [
    {
     "data": {
      "text/plain": [
       "False"
      ]
     },
     "execution_count": 14,
     "metadata": {},
     "output_type": "execute_result"
    }
   ],
   "source": [
    "s1.startswith('Price')"
   ]
  },
  {
   "cell_type": "code",
   "execution_count": 15,
   "id": "cf0b5a6a",
   "metadata": {},
   "outputs": [
    {
     "data": {
      "text/plain": [
       "True"
      ]
     },
     "execution_count": 15,
     "metadata": {},
     "output_type": "execute_result"
    }
   ],
   "source": [
    "s1.endswith('nit')"
   ]
  },
  {
   "cell_type": "code",
   "execution_count": 16,
   "id": "5ff57bd0",
   "metadata": {},
   "outputs": [
    {
     "data": {
      "text/plain": [
       "False"
      ]
     },
     "execution_count": 16,
     "metadata": {},
     "output_type": "execute_result"
    }
   ],
   "source": [
    "s1.endswith('nits')"
   ]
  },
  {
   "cell_type": "code",
   "execution_count": 17,
   "id": "8ac77f28",
   "metadata": {},
   "outputs": [
    {
     "data": {
      "text/plain": [
       "'Cost per unit'"
      ]
     },
     "execution_count": 17,
     "metadata": {},
     "output_type": "execute_result"
    }
   ],
   "source": [
    "s1"
   ]
  },
  {
   "cell_type": "code",
   "execution_count": 18,
   "id": "0a55c71a",
   "metadata": {},
   "outputs": [
    {
     "data": {
      "text/plain": [
       "['Cost', 'per', 'unit']"
      ]
     },
     "execution_count": 18,
     "metadata": {},
     "output_type": "execute_result"
    }
   ],
   "source": [
    "s1.split()"
   ]
  },
  {
   "cell_type": "code",
   "execution_count": 19,
   "id": "a5b7d0df",
   "metadata": {},
   "outputs": [
    {
     "data": {
      "text/plain": [
       "3"
      ]
     },
     "execution_count": 19,
     "metadata": {},
     "output_type": "execute_result"
    }
   ],
   "source": [
    "len(s1.split())"
   ]
  },
  {
   "cell_type": "code",
   "execution_count": 20,
   "id": "b8dcebb4",
   "metadata": {},
   "outputs": [
    {
     "data": {
      "text/plain": [
       "['Cost', 'per', 'unit']"
      ]
     },
     "execution_count": 20,
     "metadata": {},
     "output_type": "execute_result"
    }
   ],
   "source": [
    "s1.split(' ')"
   ]
  },
  {
   "cell_type": "code",
   "execution_count": 23,
   "id": "b8f96a54",
   "metadata": {},
   "outputs": [
    {
     "data": {
      "text/plain": [
       "['Cost', 'per', 'unit']"
      ]
     },
     "execution_count": 23,
     "metadata": {},
     "output_type": "execute_result"
    }
   ],
   "source": [
    "s1.split(\" \")"
   ]
  },
  {
   "cell_type": "code",
   "execution_count": 25,
   "id": "42cacbe3",
   "metadata": {},
   "outputs": [
    {
     "ename": "ValueError",
     "evalue": "empty separator",
     "output_type": "error",
     "traceback": [
      "\u001b[1;31m---------------------------------------------------------------------------\u001b[0m",
      "\u001b[1;31mValueError\u001b[0m                                Traceback (most recent call last)",
      "Cell \u001b[1;32mIn[25], line 1\u001b[0m\n\u001b[1;32m----> 1\u001b[0m \u001b[43ms1\u001b[49m\u001b[38;5;241;43m.\u001b[39;49m\u001b[43msplit\u001b[49m\u001b[43m(\u001b[49m\u001b[38;5;124;43m'\u001b[39;49m\u001b[38;5;124;43m'\u001b[39;49m\u001b[43m)\u001b[49m\n",
      "\u001b[1;31mValueError\u001b[0m: empty separator"
     ]
    }
   ],
   "source": [
    "#valueError = empty separator\n",
    "s1.split('')"
   ]
  },
  {
   "cell_type": "code",
   "execution_count": 27,
   "id": "1022fe3c",
   "metadata": {},
   "outputs": [
    {
     "data": {
      "text/plain": [
       "['Cost ', ' unit']"
      ]
     },
     "execution_count": 27,
     "metadata": {},
     "output_type": "execute_result"
    }
   ],
   "source": [
    "s1.split('per')"
   ]
  },
  {
   "cell_type": "code",
   "execution_count": 28,
   "id": "752fc8c7",
   "metadata": {},
   "outputs": [
    {
     "data": {
      "text/plain": [
       "['Cost per unit']"
      ]
     },
     "execution_count": 28,
     "metadata": {},
     "output_type": "execute_result"
    }
   ],
   "source": [
    "s1.split(' ', maxsplit = 0)"
   ]
  },
  {
   "cell_type": "code",
   "execution_count": 34,
   "id": "0de8466e",
   "metadata": {},
   "outputs": [
    {
     "data": {
      "text/plain": [
       "['Cost per unit']"
      ]
     },
     "execution_count": 34,
     "metadata": {},
     "output_type": "execute_result"
    }
   ],
   "source": [
    "s1.split(' ', 0)"
   ]
  },
  {
   "cell_type": "code",
   "execution_count": 35,
   "id": "71f1f84b",
   "metadata": {},
   "outputs": [
    {
     "data": {
      "text/plain": [
       "['Cost', 'per unit']"
      ]
     },
     "execution_count": 35,
     "metadata": {},
     "output_type": "execute_result"
    }
   ],
   "source": [
    "s1.split(' ', 1)"
   ]
  },
  {
   "cell_type": "code",
   "execution_count": 36,
   "id": "89fc7336",
   "metadata": {},
   "outputs": [
    {
     "data": {
      "text/plain": [
       "['Cost', 'per', 'unit']"
      ]
     },
     "execution_count": 36,
     "metadata": {},
     "output_type": "execute_result"
    }
   ],
   "source": [
    "s1.split(' ', 2)"
   ]
  },
  {
   "cell_type": "code",
   "execution_count": 37,
   "id": "70852e2f",
   "metadata": {},
   "outputs": [
    {
     "data": {
      "text/plain": [
       "['Cost', 'per', 'unit']"
      ]
     },
     "execution_count": 37,
     "metadata": {},
     "output_type": "execute_result"
    }
   ],
   "source": [
    "s1.split(' ', 3)"
   ]
  },
  {
   "cell_type": "code",
   "execution_count": 29,
   "id": "b671dbd4",
   "metadata": {},
   "outputs": [],
   "source": [
    "s2 = 'Mr., John, Wilson'"
   ]
  },
  {
   "cell_type": "code",
   "execution_count": 30,
   "id": "71d0b208",
   "metadata": {},
   "outputs": [
    {
     "data": {
      "text/plain": [
       "['Mr.', ' John', ' Wilson']"
      ]
     },
     "execution_count": 30,
     "metadata": {},
     "output_type": "execute_result"
    }
   ],
   "source": [
    "s2.split(',')"
   ]
  },
  {
   "cell_type": "code",
   "execution_count": 31,
   "id": "191fddfe",
   "metadata": {},
   "outputs": [
    {
     "data": {
      "text/plain": [
       "'Mr.'"
      ]
     },
     "execution_count": 31,
     "metadata": {},
     "output_type": "execute_result"
    }
   ],
   "source": [
    "s2.split(',')[0]"
   ]
  },
  {
   "cell_type": "code",
   "execution_count": 32,
   "id": "aafe190b",
   "metadata": {},
   "outputs": [
    {
     "data": {
      "text/plain": [
       "' John'"
      ]
     },
     "execution_count": 32,
     "metadata": {},
     "output_type": "execute_result"
    }
   ],
   "source": [
    "s2.split(',')[1]"
   ]
  },
  {
   "cell_type": "code",
   "execution_count": 33,
   "id": "31922c76",
   "metadata": {},
   "outputs": [
    {
     "data": {
      "text/plain": [
       "' Wilson'"
      ]
     },
     "execution_count": 33,
     "metadata": {},
     "output_type": "execute_result"
    }
   ],
   "source": [
    "s2.split(',')[2]"
   ]
  },
  {
   "cell_type": "markdown",
   "id": "fb19a78b",
   "metadata": {},
   "source": [
    "#### another string methods"
   ]
  },
  {
   "cell_type": "code",
   "execution_count": 38,
   "id": "dcede65e",
   "metadata": {},
   "outputs": [],
   "source": [
    "s3 = 'Mrs. Amy Moore'"
   ]
  },
  {
   "cell_type": "code",
   "execution_count": 39,
   "id": "7ae1ef16",
   "metadata": {},
   "outputs": [
    {
     "data": {
      "text/plain": [
       "'MRS. AMY MOORE'"
      ]
     },
     "execution_count": 39,
     "metadata": {},
     "output_type": "execute_result"
    }
   ],
   "source": [
    "s3.upper()"
   ]
  },
  {
   "cell_type": "code",
   "execution_count": 40,
   "id": "5a964afd",
   "metadata": {},
   "outputs": [
    {
     "data": {
      "text/plain": [
       "'mrs. amy moore'"
      ]
     },
     "execution_count": 40,
     "metadata": {},
     "output_type": "execute_result"
    }
   ],
   "source": [
    "s3.lower()"
   ]
  },
  {
   "cell_type": "code",
   "execution_count": 41,
   "id": "963b17ef",
   "metadata": {},
   "outputs": [
    {
     "data": {
      "text/plain": [
       "'Mrs. amy moore'"
      ]
     },
     "execution_count": 41,
     "metadata": {},
     "output_type": "execute_result"
    }
   ],
   "source": [
    "s3.capitalize()"
   ]
  },
  {
   "cell_type": "code",
   "execution_count": 42,
   "id": "61102fb1",
   "metadata": {},
   "outputs": [
    {
     "data": {
      "text/plain": [
       "'Mrs. Amy Moore'"
      ]
     },
     "execution_count": 42,
     "metadata": {},
     "output_type": "execute_result"
    }
   ],
   "source": [
    "s3.title()"
   ]
  },
  {
   "cell_type": "code",
   "execution_count": 43,
   "id": "d3bb0da1",
   "metadata": {},
   "outputs": [
    {
     "data": {
      "text/plain": [
       "True"
      ]
     },
     "execution_count": 43,
     "metadata": {},
     "output_type": "execute_result"
    }
   ],
   "source": [
    "s3 == s3.title()"
   ]
  },
  {
   "cell_type": "code",
   "execution_count": 44,
   "id": "e878704e",
   "metadata": {},
   "outputs": [
    {
     "data": {
      "text/plain": [
       "'Cost Per Unit'"
      ]
     },
     "execution_count": 44,
     "metadata": {},
     "output_type": "execute_result"
    }
   ],
   "source": [
    "'Cost per unit'.title()"
   ]
  },
  {
   "cell_type": "markdown",
   "id": "de5bac89",
   "metadata": {},
   "source": [
    "### another example"
   ]
  },
  {
   "cell_type": "code",
   "execution_count": 45,
   "id": "2605cc95",
   "metadata": {},
   "outputs": [],
   "source": [
    "s4 = '  quarterly earnings report   '"
   ]
  },
  {
   "cell_type": "code",
   "execution_count": 46,
   "id": "6139bbcb",
   "metadata": {},
   "outputs": [
    {
     "data": {
      "text/plain": [
       "'quarterly earnings report'"
      ]
     },
     "execution_count": 46,
     "metadata": {},
     "output_type": "execute_result"
    }
   ],
   "source": [
    "s4.strip()"
   ]
  },
  {
   "cell_type": "code",
   "execution_count": 47,
   "id": "582a720e",
   "metadata": {},
   "outputs": [
    {
     "data": {
      "text/plain": [
       "'quarterly earnings report'"
      ]
     },
     "execution_count": 47,
     "metadata": {},
     "output_type": "execute_result"
    }
   ],
   "source": [
    "s4.strip(' ')"
   ]
  },
  {
   "cell_type": "code",
   "execution_count": 48,
   "id": "2ee0c8cb",
   "metadata": {},
   "outputs": [
    {
     "data": {
      "text/plain": [
       "'quarterly earnings report'"
      ]
     },
     "execution_count": 48,
     "metadata": {},
     "output_type": "execute_result"
    }
   ],
   "source": [
    "s4.strip(' r')"
   ]
  },
  {
   "cell_type": "code",
   "execution_count": 49,
   "id": "d2a91580",
   "metadata": {},
   "outputs": [
    {
     "data": {
      "text/plain": [
       "'uarterly earnings repor'"
      ]
     },
     "execution_count": 49,
     "metadata": {},
     "output_type": "execute_result"
    }
   ],
   "source": [
    "s4.strip(' qt')"
   ]
  },
  {
   "cell_type": "code",
   "execution_count": 50,
   "id": "625c394f",
   "metadata": {},
   "outputs": [
    {
     "data": {
      "text/plain": [
       "'  quarterly earnings report   '"
      ]
     },
     "execution_count": 50,
     "metadata": {},
     "output_type": "execute_result"
    }
   ],
   "source": [
    "s4.strip('qt')"
   ]
  },
  {
   "cell_type": "code",
   "execution_count": 51,
   "id": "4eafc286",
   "metadata": {},
   "outputs": [
    {
     "data": {
      "text/plain": [
       "'quarterly earnings report   '"
      ]
     },
     "execution_count": 51,
     "metadata": {},
     "output_type": "execute_result"
    }
   ],
   "source": [
    "s4.lstrip()"
   ]
  },
  {
   "cell_type": "code",
   "execution_count": 53,
   "id": "64613bc3",
   "metadata": {},
   "outputs": [
    {
     "data": {
      "text/plain": [
       "'  quarterly earnings report'"
      ]
     },
     "execution_count": 53,
     "metadata": {},
     "output_type": "execute_result"
    }
   ],
   "source": [
    "s4.rstrip()"
   ]
  },
  {
   "cell_type": "code",
   "execution_count": 54,
   "id": "a6e80c51",
   "metadata": {},
   "outputs": [
    {
     "data": {
      "text/plain": [
       "'nings repo'"
      ]
     },
     "execution_count": 54,
     "metadata": {},
     "output_type": "execute_result"
    }
   ],
   "source": [
    "s4.strip(' quarterly')"
   ]
  },
  {
   "cell_type": "code",
   "execution_count": 55,
   "id": "45fa2e84",
   "metadata": {},
   "outputs": [
    {
     "data": {
      "text/plain": [
       "'nings report   '"
      ]
     },
     "execution_count": 55,
     "metadata": {},
     "output_type": "execute_result"
    }
   ],
   "source": [
    "s4.lstrip('  quarterly')"
   ]
  },
  {
   "cell_type": "code",
   "execution_count": 60,
   "id": "b75a71ea",
   "metadata": {},
   "outputs": [
    {
     "data": {
      "text/plain": [
       "'quarterly earnings report'"
      ]
     },
     "execution_count": 60,
     "metadata": {},
     "output_type": "execute_result"
    }
   ],
   "source": [
    "s5 = s4.strip()\n",
    "s5"
   ]
  },
  {
   "cell_type": "code",
   "execution_count": 62,
   "id": "86f87c8d",
   "metadata": {},
   "outputs": [
    {
     "data": {
      "text/plain": [
       "' earnings report'"
      ]
     },
     "execution_count": 62,
     "metadata": {},
     "output_type": "execute_result"
    }
   ],
   "source": [
    "s5.lstrip('quarterly')"
   ]
  },
  {
   "cell_type": "code",
   "execution_count": 63,
   "id": "06d9fc83",
   "metadata": {},
   "outputs": [
    {
     "data": {
      "text/plain": [
       "'quarterly earnings '"
      ]
     },
     "execution_count": 63,
     "metadata": {},
     "output_type": "execute_result"
    }
   ],
   "source": [
    "s5.rstrip('report')"
   ]
  },
  {
   "cell_type": "code",
   "execution_count": 64,
   "id": "6eb4bd17",
   "metadata": {},
   "outputs": [],
   "source": [
    "s6 = ' %&!quarterly earnings report *'"
   ]
  },
  {
   "cell_type": "code",
   "execution_count": 65,
   "id": "4cc4eca5",
   "metadata": {},
   "outputs": [
    {
     "data": {
      "text/plain": [
       "'quarterly earnings report'"
      ]
     },
     "execution_count": 65,
     "metadata": {},
     "output_type": "execute_result"
    }
   ],
   "source": [
    "s6.strip(' !@#$%^&*()')"
   ]
  }
 ],
 "metadata": {
  "kernelspec": {
   "display_name": "Python 3 (ipykernel)",
   "language": "python",
   "name": "python3"
  },
  "language_info": {
   "codemirror_mode": {
    "name": "ipython",
    "version": 3
   },
   "file_extension": ".py",
   "mimetype": "text/x-python",
   "name": "python",
   "nbconvert_exporter": "python",
   "pygments_lexer": "ipython3",
   "version": "3.9.13"
  }
 },
 "nbformat": 4,
 "nbformat_minor": 5
}
