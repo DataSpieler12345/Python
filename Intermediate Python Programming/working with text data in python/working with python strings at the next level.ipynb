{
 "cells": [
  {
   "cell_type": "markdown",
   "id": "3930ca7a",
   "metadata": {},
   "source": [
    "<center><h1><b><font size=\"5\">Working with Python Strings at the Next Level</font></b></h1></center>"
   ]
  },
  {
   "cell_type": "code",
   "execution_count": 3,
   "id": "885e9810",
   "metadata": {},
   "outputs": [
    {
     "name": "stdout",
     "output_type": "stream",
     "text": [
      "This product is from \n",
      "Category \"A\".\n"
     ]
    }
   ],
   "source": [
    "print('This product is from \\nCategory \"A\".')"
   ]
  },
  {
   "cell_type": "code",
   "execution_count": 5,
   "id": "f7c23ca0",
   "metadata": {},
   "outputs": [
    {
     "name": "stdout",
     "output_type": "stream",
     "text": [
      "This product is from \n",
      " Category \"A\".\n"
     ]
    }
   ],
   "source": [
    "print('This product is from \\n Category \"A\".')"
   ]
  },
  {
   "cell_type": "code",
   "execution_count": 6,
   "id": "5ee2dfed",
   "metadata": {},
   "outputs": [
    {
     "name": "stdout",
     "output_type": "stream",
     "text": [
      "This product is from \n",
      "\n",
      "Category \"A\".\n"
     ]
    }
   ],
   "source": [
    "print('This product is from \\n\\nCategory \"A\".')"
   ]
  },
  {
   "cell_type": "code",
   "execution_count": 4,
   "id": "fc983b00",
   "metadata": {},
   "outputs": [
    {
     "name": "stdout",
     "output_type": "stream",
     "text": [
      "This product is from Category \"A\".\n"
     ]
    }
   ],
   "source": [
    "print('This product is from Category \"A\".')"
   ]
  },
  {
   "cell_type": "code",
   "execution_count": 7,
   "id": "a800461f",
   "metadata": {},
   "outputs": [
    {
     "name": "stdout",
     "output_type": "stream",
     "text": [
      "This product is from Category \"A\". That product is from Category \"B\".\n"
     ]
    }
   ],
   "source": [
    "print('This product is from Category \"A\". ' + 'That product is from Category \"B\".')"
   ]
  },
  {
   "cell_type": "code",
   "execution_count": 8,
   "id": "9ea6a7cc",
   "metadata": {},
   "outputs": [
    {
     "name": "stdout",
     "output_type": "stream",
     "text": [
      "This product is from Category \"A\". \tThat product is from Category \"B\".\n"
     ]
    }
   ],
   "source": [
    "print('This product is from Category \"A\". \\t' + 'That product is from Category \"B\".')"
   ]
  },
  {
   "cell_type": "code",
   "execution_count": 9,
   "id": "3a06834c",
   "metadata": {},
   "outputs": [
    {
     "name": "stdout",
     "output_type": "stream",
     "text": [
      "This product is from Category \"A\". \tThat product is from Category \"B\".\n"
     ]
    }
   ],
   "source": [
    "print('This product is from Category \"A\". \\tThat product is from Category \"B\".')"
   ]
  },
  {
   "cell_type": "code",
   "execution_count": 10,
   "id": "c708fb9d",
   "metadata": {},
   "outputs": [
    {
     "name": "stdout",
     "output_type": "stream",
     "text": [
      "This product is from Category \"A\". \t\t\tThat product is from Category \"B\".\n"
     ]
    }
   ],
   "source": [
    "print('This product is from Category \"A\". \\t\\t\\tThat product is from Category \"B\".')"
   ]
  },
  {
   "cell_type": "code",
   "execution_count": 11,
   "id": "687fa9f1",
   "metadata": {},
   "outputs": [
    {
     "name": "stdout",
     "output_type": "stream",
     "text": [
      "This product is from Category \"A\". \t\t\t That product is from Category \"B\".\n"
     ]
    }
   ],
   "source": [
    "print('This product is from Category \"A\". \\t\\t\\t That product is from Category \"B\".')"
   ]
  },
  {
   "cell_type": "code",
   "execution_count": 12,
   "id": "f54ab760",
   "metadata": {},
   "outputs": [
    {
     "name": "stdout",
     "output_type": "stream",
     "text": [
      "This product is from Category \"A\". \r",
      "Product 01\n"
     ]
    }
   ],
   "source": [
    "print('This product is from Category \"A\". \\rProduct 01')"
   ]
  },
  {
   "cell_type": "code",
   "execution_count": 13,
   "id": "e4f247ff",
   "metadata": {},
   "outputs": [
    {
     "name": "stdout",
     "output_type": "stream",
     "text": [
      "This product is from Category \"A\". \r",
      "Product 0001\n"
     ]
    }
   ],
   "source": [
    "print('This product is from Category \"A\". \\rProduct 0001')"
   ]
  }
 ],
 "metadata": {
  "kernelspec": {
   "display_name": "Python 3 (ipykernel)",
   "language": "python",
   "name": "python3"
  },
  "language_info": {
   "codemirror_mode": {
    "name": "ipython",
    "version": 3
   },
   "file_extension": ".py",
   "mimetype": "text/x-python",
   "name": "python",
   "nbconvert_exporter": "python",
   "pygments_lexer": "ipython3",
   "version": "3.9.13"
  }
 },
 "nbformat": 4,
 "nbformat_minor": 5
}
