{
 "cells": [
  {
   "cell_type": "markdown",
   "id": "0469780a",
   "metadata": {},
   "source": [
    "<center><h1><b><font size=\"5\">Working with Triple Nested for Loops</font></b></h1></center>"
   ]
  },
  {
   "cell_type": "code",
   "execution_count": 4,
   "id": "f1c6bd96",
   "metadata": {},
   "outputs": [],
   "source": [
    "products = [\"Product A\", \"Product B\"] #products\n",
    "exp_sales = [10000, 11000, 12000, 13000, 14000] #monthly expected sales"
   ]
  },
  {
   "cell_type": "code",
   "execution_count": 2,
   "id": "326c643d",
   "metadata": {},
   "outputs": [],
   "source": [
    "time_horizon = (1,3,12) # monthly, quarterly, and annual expected sales revenue"
   ]
  },
  {
   "cell_type": "code",
   "execution_count": 5,
   "id": "7f246c84",
   "metadata": {},
   "outputs": [
    {
     "name": "stdout",
     "output_type": "stream",
     "text": [
      "['Product A', 10000]\n",
      "['Product A', 11000]\n",
      "['Product A', 12000]\n",
      "['Product A', 13000]\n",
      "['Product A', 14000]\n",
      "['Product B', 10000]\n",
      "['Product B', 11000]\n",
      "['Product B', 12000]\n",
      "['Product B', 13000]\n",
      "['Product B', 14000]\n"
     ]
    }
   ],
   "source": [
    "for i in products:\n",
    "    for j in exp_sales:\n",
    "        print([i,j])"
   ]
  },
  {
   "cell_type": "code",
   "execution_count": 7,
   "id": "0081f6a6",
   "metadata": {},
   "outputs": [
    {
     "name": "stdout",
     "output_type": "stream",
     "text": [
      "['Product A', 10000]\n",
      "['Product A', 30000]\n",
      "['Product A', 120000]\n",
      "['Product A', 11000]\n",
      "['Product A', 33000]\n",
      "['Product A', 132000]\n",
      "['Product A', 12000]\n",
      "['Product A', 36000]\n",
      "['Product A', 144000]\n",
      "['Product A', 13000]\n",
      "['Product A', 39000]\n",
      "['Product A', 156000]\n",
      "['Product A', 14000]\n",
      "['Product A', 42000]\n",
      "['Product A', 168000]\n",
      "['Product B', 10000]\n",
      "['Product B', 30000]\n",
      "['Product B', 120000]\n",
      "['Product B', 11000]\n",
      "['Product B', 33000]\n",
      "['Product B', 132000]\n",
      "['Product B', 12000]\n",
      "['Product B', 36000]\n",
      "['Product B', 144000]\n",
      "['Product B', 13000]\n",
      "['Product B', 39000]\n",
      "['Product B', 156000]\n",
      "['Product B', 14000]\n",
      "['Product B', 42000]\n",
      "['Product B', 168000]\n"
     ]
    }
   ],
   "source": [
    "for i in products:\n",
    "    for j in exp_sales:\n",
    "        for k in time_horizon: #triple nested loop\n",
    "            print([i,j*k])"
   ]
  },
  {
   "cell_type": "code",
   "execution_count": 8,
   "id": "d0d8441b",
   "metadata": {},
   "outputs": [
    {
     "name": "stdout",
     "output_type": "stream",
     "text": [
      "['Product A', 10000]\n",
      "['Product A', 30000]\n",
      "['Product A', 120000]\n",
      "['Product A', 11000]\n",
      "['Product A', 33000]\n",
      "['Product A', 132000]\n",
      "['Product A', 12000]\n",
      "['Product A', 36000]\n",
      "['Product A', 144000]\n",
      "['Product A', 13000]\n",
      "['Product A', 39000]\n",
      "['Product A', 156000]\n",
      "['Product A', 14000]\n",
      "['Product A', 42000]\n",
      "['Product A', 168000]\n",
      "['Product B', 10000]\n",
      "['Product B', 30000]\n",
      "['Product B', 120000]\n",
      "['Product B', 11000]\n",
      "['Product B', 33000]\n",
      "['Product B', 132000]\n",
      "['Product B', 12000]\n",
      "['Product B', 36000]\n",
      "['Product B', 144000]\n",
      "['Product B', 13000]\n",
      "['Product B', 39000]\n",
      "['Product B', 156000]\n",
      "['Product B', 14000]\n",
      "['Product B', 42000]\n",
      "['Product B', 168000]\n"
     ]
    }
   ],
   "source": [
    "for prod in products:# products: prod\n",
    "    for sale in exp_sales: #exp_sales: sale\n",
    "        for t_hor in time_horizon: #time_horizon:t_hor\n",
    "            print([prod, sale*t_hor])"
   ]
  },
  {
   "cell_type": "code",
   "execution_count": 11,
   "id": "0df195ca",
   "metadata": {
    "scrolled": false
   },
   "outputs": [
    {
     "name": "stdout",
     "output_type": "stream",
     "text": [
      "Expected sales for a period of 1 month for Product A: $10000\n",
      "Expected sales for a period of 3 months for Product A: $30000\n",
      "Expected sales for a period of 12 months for Product A: $120000\n",
      "Expected sales for a period of 1 month for Product A: $11000\n",
      "Expected sales for a period of 3 months for Product A: $33000\n",
      "Expected sales for a period of 12 months for Product A: $132000\n",
      "Expected sales for a period of 1 month for Product A: $12000\n",
      "Expected sales for a period of 3 months for Product A: $36000\n",
      "Expected sales for a period of 12 months for Product A: $144000\n",
      "Expected sales for a period of 1 month for Product A: $13000\n",
      "Expected sales for a period of 3 months for Product A: $39000\n",
      "Expected sales for a period of 12 months for Product A: $156000\n",
      "Expected sales for a period of 1 month for Product A: $14000\n",
      "Expected sales for a period of 3 months for Product A: $42000\n",
      "Expected sales for a period of 12 months for Product A: $168000\n",
      "Expected sales for a period of 1 month for Product B: $10000\n",
      "Expected sales for a period of 3 months for Product B: $30000\n",
      "Expected sales for a period of 12 months for Product B: $120000\n",
      "Expected sales for a period of 1 month for Product B: $11000\n",
      "Expected sales for a period of 3 months for Product B: $33000\n",
      "Expected sales for a period of 12 months for Product B: $132000\n",
      "Expected sales for a period of 1 month for Product B: $12000\n",
      "Expected sales for a period of 3 months for Product B: $36000\n",
      "Expected sales for a period of 12 months for Product B: $144000\n",
      "Expected sales for a period of 1 month for Product B: $13000\n",
      "Expected sales for a period of 3 months for Product B: $39000\n",
      "Expected sales for a period of 12 months for Product B: $156000\n",
      "Expected sales for a period of 1 month for Product B: $14000\n",
      "Expected sales for a period of 3 months for Product B: $42000\n",
      "Expected sales for a period of 12 months for Product B: $168000\n"
     ]
    }
   ],
   "source": [
    "for prod in products:# products: prod\n",
    "    for sale in exp_sales: #exp_sales: sale\n",
    "        for t_hor in time_horizon: #time_horizon:t_hor\n",
    "            print('Expected sales for a period of {0} month{1} for {2}: ${sales}'.format(t_hor, 's' if t_hor != 1 else '', prod, sales=sale * t_hor))"
   ]
  },
  {
   "cell_type": "code",
   "execution_count": null,
   "id": "7a753553",
   "metadata": {},
   "outputs": [],
   "source": []
  }
 ],
 "metadata": {
  "kernelspec": {
   "display_name": "Python 3 (ipykernel)",
   "language": "python",
   "name": "python3"
  },
  "language_info": {
   "codemirror_mode": {
    "name": "ipython",
    "version": 3
   },
   "file_extension": ".py",
   "mimetype": "text/x-python",
   "name": "python",
   "nbconvert_exporter": "python",
   "pygments_lexer": "ipython3",
   "version": "3.9.13"
  }
 },
 "nbformat": 4,
 "nbformat_minor": 5
}
