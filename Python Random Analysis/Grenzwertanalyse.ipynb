{
 "cells": [
  {
   "cell_type": "markdown",
   "id": "d7f5d71f",
   "metadata": {},
   "source": [
    "## L: Grenzwertanalyse durchführen "
   ]
  },
  {
   "cell_type": "markdown",
   "id": "44a0a008",
   "metadata": {},
   "source": [
    "Für ein Zeiterfassungsprogramm soll eine Python-Funktion entwickelt werden, die aus eingegebener Stundenzahl und einem Stundensatz die entstandenen Kosten berechnet: berechne_lohn(wochenarbeitszeit, stundenlohnInEuro) \n",
    "\n",
    "Die angefallenen Zeiten werden wöchentlich erfasst. Die Regelarbeitzeit pro Tag beträgt 8 Stunden. In einer Woche darf die Regelarbeitzeit um maximal 10% überschritten werden. Jede angefangene Stunde wird dabei als volle Stunde gezählt. \n",
    "\n",
    "Führen Sie eine Grenzwertanalyse für den Parameter wochenarbeitszeit durch und notieren Sie mögliche Testwerte inkl. erwartetem Ergebnis. Gehen Sie davon aus, dass der Stundenlohn bei jedem Test 10,00 beträgt.   \n",
    "\n",
    "• Ziel ist - wie immer - eine möglichst robuste Funktion zu verfassen. \n",
    "\n",
    "• Die Anzahl der Zeilen gibt keinen Aufschluss darüber, wie viele Testfälle mindestens nötig sind. "
   ]
  },
  {
   "cell_type": "markdown",
   "id": "c92ff520",
   "metadata": {},
   "source": [
    "### Grenzwertanalyse \n",
    "\n",
    "Die Grenzwertanalyse, auch als Grenzwertprüfung oder Grenzanalyse bekannt, ist eine Technik, die im Bereich der Softwaretechnik und Softwaretests eingesetzt wird. Ihr Ziel ist es, die Eingabe- und Ausgabegrenzen eines Systems oder Softwarekomponente zu identifizieren und zu testen.\n",
    "\n",
    "Bei der Grenzwertanalyse werden spezifische Testfälle ausgewählt, die nahe an den Grenzen der gültigen Werte für die Systemeingaben liegen. Dies geschieht, da Fehler und unerwartetes Verhalten oft an diesen Grenzen auftreten.\n",
    "\n",
    "Die Technik basiert auf der Annahme, dass Fehler häufiger an oder in der Nähe der Grenzen der gültigen Eingabebereiche auftreten. Durch das Testen dieser Grenzen können Fehler entdeckt werden, die in allgemeineren Tests möglicherweise übersehen worden wären.\n",
    "\n",
    "Zum Beispiel nehmen wir an, dass eine Inventarverwaltungssoftware entwickelt wird, die Produktmengen zwischen 0 und 100 akzeptiert. Anstatt willkürliche Werte im gesamten Bereich zu testen, konzentriert sich die Grenzwertanalyse auf spezifische Grenzwerte wie 0, 1, 99 und 100. Dadurch können potenzielle Fehler oder unerwartetes Verhalten entdeckt werden, die auftreten könnten, wenn die Werte nahe an den festgelegten Grenzen liegen.\n",
    "\n",
    "Durch die Anwendung der Grenzwertanalyse können Testfälle entworfen werden, die die unteren und oberen Grenzen, Toleranzgrenzen, Kapazitätsgrenzen, Geschwindigkeitsgrenzen oder andere relevante Grenzen des Systems oder der Softwarekomponente abdecken.\n",
    "\n",
    "Zusammenfassend ist die Grenzwertanalyse eine Testtechnik, die sich auf die Grenzen oder Schwellenwerte gültiger Werte konzentriert, um Fehler und unerwartetes Verhalten zu identifizieren. Sie trägt dazu bei sicherzustellen, dass das System oder die Softwarekomponente unter extremen Bedingungen oder nahe an den festgelegten Grenzen korrekt funktioniert."
   ]
  },
  {
   "cell_type": "markdown",
   "id": "e9bc584c",
   "metadata": {},
   "source": [
    "#### Notiz: \n",
    "\n",
    "Die Funktion berechne_lohn nimmt zwei Parameter entgegen: wochenarbeitszeit und stundenlohnInEuro.\n",
    "\n",
    "Die *try-Anweisung* gibt an, dass Operationen ausgeführt werden, die Ausnahmen auslösen können, und es wird ein Codeblock bereitgestellt, um diese Ausnahmen abzufangen und zu behandeln.\n",
    "\n",
    "Innerhalb des try-Blocks werden folgende Validierungen und Berechnungen durchgeführt:\n",
    "\n",
    "Wenn wochenarbeitszeit oder stundenlohnInEuro kleiner als Null sind, wird eine ValueError-Ausnahme mit einer Nachricht ausgelöst, die darauf hinweist, dass das untere Grenzwert unterschritten wurde.\n",
    "\n",
    "Wenn wochenarbeitszeit größer 44 ist, wird eine ValueError-Ausnahme mit einer Nachricht ausgelöst, die darauf hinweist, dass das obere Grenzwert überschritten wurde (40 Stunden plus 10 %).\n",
    "\n",
    "Wenn wochenarbeitszeit kleiner als -1 ist, wird eine ValueError-Ausnahme mit einer Nachricht ausgelöst, die darauf hinweist, dass das untere Grenzwert unterschritten wurde.\n",
    "\n",
    "Wenn wochenarbeitszeit vom Typ str ist, wird eine TypeError-Ausnahme mit einer Nachricht ausgelöst, die darauf hinweist, dass ein anderer Typ erwartet wird und eine zusätzliche Erklärung bereitgestellt wird.\n",
    "\n",
    "Wenn alle Validierungen erfolgreich sind, wird der Lohn berechnet, indem wochenarbeitszeit mit stundenlohnInEuro multipliziert und in der Variablen result gespeichert wird.\n",
    "\n",
    "Der Wert von result wird mit der Nachricht \"Resultat:\" ausgegeben.\n",
    "\n",
    "Schließlich wird result zurückgegeben.\n",
    "\n",
    "Wenn eine ValueError-Ausnahme auftritt, wird sie abgefangen und eine entsprechende Fehlermeldung mit dem spezifischen Ausnahmemessage (ValueError) ausgegeben.\n",
    "\n",
    "Wenn eine TypeError-Ausnahme auftritt, wird sie abgefangen und eine entsprechende Fehlermeldung mit dem spezifischen Ausnahmemessage (TypeError) ausgegeben.\n",
    "\n",
    "Zusammenfassend überprüft die Funktion berechne_lohn verschiedene Fehlerfälle und behandelt sie, um sicherzustellen, dass die Eingabewerte gültig sind. Anschließend wird der Lohn berechnet und zurückgegeben. Tritt eine Ausnahme auf, wird sie abgefangen und eine entsprechende Fehlermeldung ausgegeben."
   ]
  },
  {
   "cell_type": "markdown",
   "id": "1cd3acf8",
   "metadata": {},
   "source": [
    "### Try Statement \n",
    "\n",
    "Die try-Anweisung in Python wird verwendet, um Ausnahmen in einem Codeblock zu kontrollieren und zu behandeln. Sie bietet eine Möglichkeit, Fehler abzufangen und zu handhaben, die während der Ausführung des Codes auftreten können, und verhindert, dass das Programm abrupt abbricht.\n",
    "\n",
    "Die Logik hinter der try-Anweisung basiert auf der Idee, dass bestimmte Teile eines Programms Ausnahmen, d.h. unerwartete Situationen oder Fehler, auslösen können. Durch Verwendung von try wird ein Codeblock in eine kontrollierte Umgebung eingebettet.\n",
    "\n",
    "Wenn ein Codeblock innerhalb eines try-Blocks ausgeführt wird, überwacht der Python-Interpreter, ob eine Ausnahme auftritt. Wenn eine Ausnahme auftritt, wird der Programmfluss sofort zu einem entsprechenden except-Block umgeleitet, der diese spezielle Ausnahme behandelt. Dies ermöglicht es dem Programm, spezifische Maßnahmen als Reaktion auf die Ausnahme zu ergreifen, wie z.B. das Anzeigen einer Fehlermeldung, das Durchführen von Wiederherstellungsvorgängen oder das Treffen alternativer Entscheidungen.\n",
    "\n",
    "Die grundlegende Struktur der try-Anweisung ist wie folgt:\n",
    "\n",
    "\n",
    "try:\n",
    "\n",
    "    # Code, der Ausnahmen auslösen kann\n",
    "    \n",
    "except AusnahmeTyp1:\n",
    "\n",
    "    # Behandlung der Ausnahme vom Typ 1\n",
    "    \n",
    "except AusnahmeTyp2:\n",
    "\n",
    "    # Behandlung der Ausnahme vom Typ 2\n",
    "    \n",
    "...\n",
    "\n",
    "except:\n",
    "\n",
    "    # Behandlung einer beliebigen anderen Ausnahme\n",
    "    \n"
   ]
  },
  {
   "cell_type": "markdown",
   "id": "d7294e35",
   "metadata": {},
   "source": [
    "Der try-Block enthält den Code, der ausgeführt und auf Ausnahmen überwacht werden soll. Die except-Blöcke geben an, wie jede Art von Ausnahme behandelt werden soll, die auftreten kann. Optional kann ein finally-Block verwendet werden, um Code für Aufräumarbeiten auszuführen, der sicherstellt, dass bestimmte Aktionen unabhängig davon, ob eine Ausnahme auftritt oder nicht, durchgeführt werden.\n",
    "\n",
    "Die Logik hinter der try-Anweisung besteht darin, außergewöhnliche Situationen vorherzusehen und zu behandeln, um das Programm robuster und fehlertoleranter zu machen. Durch das Erfassen und angemessene Behandlung von Ausnahmen können spezifische Maßnahmen ergriffen werden, um Fehler zu behandeln, das Programm nicht abzubrechen und dem Benutzer eine kontrolliertere Erfahrung zu bieten.\n",
    "\n",
    "Zusammenfassend bietet die try-Anweisung in Python einen Mechanismus zum Kontrollieren und Behandeln von Ausnahmen, der es dem Programm ermöglicht, spezifische Maßnahmen als Reaktion auf außergewöhnliche Situationen zu ergreifen. Ihre Logik beruht auf der Vorwegnahme und kontrollierten Behandlung von Fehlern, um die Robustheit und Benutzererfahrung zu verbessern."
   ]
  },
  {
   "cell_type": "code",
   "execution_count": 2,
   "id": "35db5d4a",
   "metadata": {},
   "outputs": [],
   "source": [
    "def berechne_lohn(wochenarbeitszeit, stundenlohnInEuro):\n",
    "    try:\n",
    "        if wochenarbeitszeit < 0 or stundenlohnInEuro < 0:        \n",
    "            raise ValueError('Untergrenze unterschritten.')          \n",
    "        \n",
    "        if wochenarbeitszeit > 44:        \n",
    "            raise ValueError('Obergrenze überschritten (40 Stunden + 10%)')\n",
    "        \n",
    "        if wochenarbeitszeit < -1:        \n",
    "            raise ValueError('Unterschreitung der Untergrenze') \n",
    "    \n",
    "        if isinstance(wochenarbeitszeit, str):      \n",
    "            raise TypeError('Einmaliger Test für Typ sollte ausreichen, denn wenn die Entwicklung auf Typenfehler hingewiesen wird, sollte Sie überprüfen ob der erwartete Typ vorliegt wodurch alle anderen Typen unmöglich würden')\n",
    "        \n",
    "        result = wochenarbeitszeit * stundenlohnInEuro\n",
    "        print(\"Result:\", result)\n",
    "        return result\n",
    "    except ValueError as ve:\n",
    "        print(\"ValueError:\", str(ve))\n",
    "    except TypeError as te:\n",
    "        print(\"TypeError:\", str(te))"
   ]
  },
  {
   "cell_type": "code",
   "execution_count": 3,
   "id": "83d7c076",
   "metadata": {},
   "outputs": [
    {
     "name": "stdout",
     "output_type": "stream",
     "text": [
      "Result: 0\n"
     ]
    },
    {
     "data": {
      "text/plain": [
       "0"
      ]
     },
     "execution_count": 3,
     "metadata": {},
     "output_type": "execute_result"
    }
   ],
   "source": [
    "berechne_lohn(0,10)"
   ]
  },
  {
   "cell_type": "code",
   "execution_count": 4,
   "id": "fafaa4b5",
   "metadata": {},
   "outputs": [
    {
     "name": "stdout",
     "output_type": "stream",
     "text": [
      "Result: 440\n"
     ]
    },
    {
     "data": {
      "text/plain": [
       "440"
      ]
     },
     "execution_count": 4,
     "metadata": {},
     "output_type": "execute_result"
    }
   ],
   "source": [
    "berechne_lohn(44,10)"
   ]
  },
  {
   "cell_type": "code",
   "execution_count": 24,
   "id": "4d486e32",
   "metadata": {},
   "outputs": [
    {
     "name": "stdout",
     "output_type": "stream",
     "text": [
      "ValueError: Untergrenze unterschritten.\n"
     ]
    }
   ],
   "source": [
    "berechne_lohn(-1,10)"
   ]
  },
  {
   "cell_type": "code",
   "execution_count": 6,
   "id": "38c24a88",
   "metadata": {},
   "outputs": [
    {
     "name": "stdout",
     "output_type": "stream",
     "text": [
      "ValueError: Obergrenze überschritten (40 Stunden + 10%)\n"
     ]
    }
   ],
   "source": [
    "berechne_lohn(45,10)"
   ]
  },
  {
   "cell_type": "code",
   "execution_count": 26,
   "id": "feb5c44b",
   "metadata": {},
   "outputs": [
    {
     "name": "stdout",
     "output_type": "stream",
     "text": [
      "TypeError: '<' not supported between instances of 'str' and 'int'\n"
     ]
    }
   ],
   "source": [
    "berechne_lohn(str('a'),10)"
   ]
  },
  {
   "cell_type": "markdown",
   "id": "fb4fa712",
   "metadata": {},
   "source": [
    "## TypeError\n",
    "('Einmaliger Test für Typ sollte ausreichen, denn wenn die Entwicklung auf Typenfehler hingewiesen wird, sollte Sie überprüfen ob der erwartete Typ vorliegt wodurch alle anderen Typen unmöglich würden')"
   ]
  },
  {
   "cell_type": "markdown",
   "id": "aaa57d33",
   "metadata": {},
   "source": [
    "#### testing the function "
   ]
  },
  {
   "cell_type": "code",
   "execution_count": 7,
   "id": "715db4ff",
   "metadata": {},
   "outputs": [
    {
     "name": "stdout",
     "output_type": "stream",
     "text": [
      "Result: 430\n"
     ]
    },
    {
     "data": {
      "text/plain": [
       "430"
      ]
     },
     "execution_count": 7,
     "metadata": {},
     "output_type": "execute_result"
    }
   ],
   "source": [
    "berechne_lohn(43,10)"
   ]
  },
  {
   "cell_type": "code",
   "execution_count": 8,
   "id": "60de0abd",
   "metadata": {},
   "outputs": [
    {
     "name": "stdout",
     "output_type": "stream",
     "text": [
      "Result: 420\n"
     ]
    },
    {
     "data": {
      "text/plain": [
       "420"
      ]
     },
     "execution_count": 8,
     "metadata": {},
     "output_type": "execute_result"
    }
   ],
   "source": [
    "berechne_lohn(42,10)"
   ]
  },
  {
   "cell_type": "code",
   "execution_count": 29,
   "id": "8eeb3b1f",
   "metadata": {},
   "outputs": [
    {
     "name": "stdout",
     "output_type": "stream",
     "text": [
      "Result: 410\n"
     ]
    },
    {
     "data": {
      "text/plain": [
       "410"
      ]
     },
     "execution_count": 29,
     "metadata": {},
     "output_type": "execute_result"
    }
   ],
   "source": [
    "berechne_lohn(41,10)"
   ]
  },
  {
   "cell_type": "markdown",
   "id": "30daf208",
   "metadata": {},
   "source": [
    "### Python training \n",
    "\n",
    "Hier sind einige Websites, auf denen du mit Python-Funktionsübungen arbeiten und üben kannst:\n",
    "\n",
    "Exercism (https://exercism.io/tracks/python): Exercism bietet eine Vielzahl von Programmierübungen in Python an, einschließlich spezifischer Übungen zu Funktionen. Du kannst die Probleme lösen und Feedback von der Community erhalten.\n",
    "\n",
    "CodingBat (https://codingbat.com/python): CodingBat bietet Programmierübungen in Python an, darunter einen speziellen Abschnitt für Funktionen. Du kannst verschiedene Konzepte und Herausforderungen im Zusammenhang mit Funktionen üben.\n",
    "\n",
    "HackerRank (https://www.hackerrank.com/domains/tutorials/10-days-of-statistics): HackerRank bietet eine Vielzahl von Programmieraufgaben in Python an, einschließlich Herausforderungen im Zusammenhang mit Funktionen. Du kannst Probleme lösen und deine Lösungen mit anderen Programmierern vergleichen.\n",
    "\n",
    "Project Euler (https://projecteuler.net/archives): Project Euler ist ein Projekt, das mathematische und programmierbezogene Herausforderungen bietet. Obwohl es nicht speziell auf Funktionen ausgerichtet ist, erfordern viele der Probleme die Implementierung von Funktionen, um sie zu lösen.\n",
    "\n",
    "LeetCode (https://leetcode.com/problemset/all/): LeetCode ist eine Plattform für Programmieraufgaben, die auch Probleme in Python enthält. Du kannst üben und deine Programmierfähigkeiten verbessern, einschließlich dem Einsatz von Funktionen.\n",
    "\n",
    "Dies sind nur einige Optionen, aber es gibt viele weitere online verfügbare Ressourcen. Durchsuche diese Websites und wähle diejenige aus, die am besten zu deinen Bedürfnissen und deinem Kenntnisstand passt. Viel Spaß beim Lösen von Problemen und beim Verbessern deiner Programmierfähigkeiten mit Funktionen in Python!"
   ]
  },
  {
   "cell_type": "markdown",
   "id": "e1a163bb",
   "metadata": {},
   "source": [
    "#### KI support \n",
    "\n",
    "https://poe.com/login\n",
    "\n",
    "https://heypi.com/es/talk"
   ]
  },
  {
   "cell_type": "markdown",
   "id": "8b35c76c",
   "metadata": {},
   "source": [
    "#### Education \n",
    "\n",
    "https://skillsforall.com/"
   ]
  },
  {
   "cell_type": "markdown",
   "id": "d8c767aa",
   "metadata": {},
   "source": [
    "#### viel Erfolg!!!"
   ]
  }
 ],
 "metadata": {
  "kernelspec": {
   "display_name": "Python 3 (ipykernel)",
   "language": "python",
   "name": "python3"
  },
  "language_info": {
   "codemirror_mode": {
    "name": "ipython",
    "version": 3
   },
   "file_extension": ".py",
   "mimetype": "text/x-python",
   "name": "python",
   "nbconvert_exporter": "python",
   "pygments_lexer": "ipython3",
   "version": "3.9.13"
  }
 },
 "nbformat": 4,
 "nbformat_minor": 5
}
