{
 "cells": [
  {
   "cell_type": "markdown",
   "id": "8c9e82cf",
   "metadata": {},
   "source": [
    "## Ü: Rekursive Analyse  \n",
    "    \n",
    "Ihnen steht die nachfolgende Python-Funktion zur Verfügung: "
   ]
  },
  {
   "cell_type": "code",
   "execution_count": 2,
   "id": "e2fdaef6",
   "metadata": {},
   "outputs": [],
   "source": [
    "def bunnyEars(bunnies:int): \n",
    "    if bunnies == 0:              \n",
    "        return 0      \n",
    "    return 2 + bunnyEars(bunnies-1) "
   ]
  },
  {
   "cell_type": "code",
   "execution_count": null,
   "id": "65f10a2e",
   "metadata": {},
   "outputs": [],
   "source": [
    "#seudo code? was es bedeutet?"
   ]
  },
  {
   "cell_type": "markdown",
   "id": "05de631a",
   "metadata": {},
   "source": [
    "### die Funktion\n",
    "\n",
    "Die Funktion bunnyEars ist eine rekursive Funktion, die die Gesamtanzahl der Ohren in einer Gruppe von Hasen berechnet, basierend auf der Anzahl der Hasen in der Gruppe.\n",
    "\n",
    "So funktioniert es:\n",
    "\n",
    "Die Funktion bunnyEars hat einen Parameter bunnies, der die Anzahl der Hasen in der Gruppe repräsentiert.\n",
    "\n",
    "Die erste Zeile der Funktion überprüft, ob bunnies gleich 0 ist. Wenn dies der Fall ist, bedeutet dies, dass es keine Hasen in der Gruppe gibt, und die Funktion gibt 0 zurück, da es keine Ohren gibt.\n",
    "\n",
    "Wenn bunnies nicht gleich 0 ist, wird der nächste Schritt ausgeführt. Die Funktion ruft sich selbst rekursiv mit dem Argument bunnies-1 auf. Dies bedeutet, dass die Funktion bunnyEars erneut aufgerufen wird, diesmal jedoch mit einem Hasen weniger.\n",
    "\n",
    "Bei jedem rekursiven Aufruf wird 2 zur Rückgabe von bunnyEars(bunnies-1) addiert. Dies liegt daran, dass jeder Hase zwei Ohren hat.\n",
    "\n",
    "Die Rekursion geht weiter, bis bunnies gleich 0 ist. Bei jedem rekursiven Aufruf wird die Anzahl der Hasen um 1 reduziert, sodass schließlich der Basisfall erreicht wird, in dem bunnies 0 ist und die Funktion aufhört, sich selbst aufzurufen.\n",
    "\n",
    "Schließlich, wenn bunnies gleich 0 ist, wird die kumulierte Summe von 2 in jedem rekursiven Aufruf zurückgegeben, was die Gesamtanzahl der Ohren in der Hasengruppe darstellt.\n",
    "\n",
    "Zusammenfassend verwendet die Funktion bunnyEars Rekursion, um die Gesamtanzahl der Ohren in einer Gruppe von Hasen zu berechnen. Es werden 2 Ohren pro Hase gezählt, und die Funktion ruft sich selbst mit einem Hasen weniger auf, bis der Basisfall erreicht ist, in dem keine Hasen vorhanden sind."
   ]
  },
  {
   "cell_type": "markdown",
   "id": "8f4197f4",
   "metadata": {},
   "source": [
    "### Rekursive Analyse\n",
    "\n",
    "Die rekursive Analyse ist ein Ansatz in der Informatik und Mathematik, bei dem ein Problem oder eine Funktion durch wiederholtes Anwenden derselben Funktion auf kleinere Teilprobleme gelöst wird. Es basiert auf dem Konzept der Rekursion, bei dem eine Funktion sich selbst aufruft, um eine Aufgabe zu erledigen.\n",
    "\n",
    "Bei der rekursiven Analyse wird das Problem in kleinere Teilprobleme zerlegt, die sich leichter lösen lassen. Die Funktion wird dann auf jedes Teilproblem angewendet, bis ein Basisfall erreicht ist, der direkt gelöst werden kann. Die Ergebnisse der Teilprobleme werden dann kombiniert, um das Gesamtproblem zu lösen.\n",
    "\n",
    "Der Schlüssel zur rekursiven Analyse liegt in der Definition der rekursiven Funktion und der Identifizierung des Basisfalls. Die rekursive Funktion muss so definiert sein, dass sie sich selbst mit kleineren Eingaben aufruft, um schließlich den Basisfall zu erreichen. Der Basisfall ist der Punkt, an dem das Problem so klein ist, dass es direkt gelöst werden kann, ohne einen weiteren rekursiven Aufruf.\n",
    "\n",
    "Die rekursive Analyse kann in vielen Bereichen der Informatik nützlich sein, insbesondere bei der Lösung von Problemen, die sich in kleinere Teilprobleme zerlegen lassen. Sie wird häufig zur Implementierung von Algorithmen verwendet, z.B. bei der Sortierung (z.B. Quicksort oder Mergesort), der Baumtraversierung (z.B. Tiefensuche oder Breitensuche) und der Berechnung von Fibonacci-Zahlen.\n",
    "\n",
    "Es ist wichtig, bei der Verwendung der rekursiven Analyse darauf zu achten, dass die rekursive Funktion korrekt definiert ist und dass es eine geeignete Abbruchbedingung gibt, um unendliche Rekursionen zu vermeiden. Wenn dies nicht beachtet wird, kann es zu Fehlern wie Endlosschleifen oder Speicherüberlauf kommen.\n",
    "\n",
    "Insgesamt ermöglicht die rekursive Analyse eine elegante und effektive Lösung komplexer Probleme, indem sie diese in kleinere und leichter zu lösende Teilprobleme zerlegt. Durch die Anwendung der Funktion auf diese Teilprobleme und die Kombination der Ergebnisse kann das Gesamtproblem gelöst werden."
   ]
  },
  {
   "cell_type": "markdown",
   "id": "63efc5dc",
   "metadata": {},
   "source": [
    "### a) Rekursive Analyse "
   ]
  },
  {
   "cell_type": "code",
   "execution_count": 3,
   "id": "b51ce37c",
   "metadata": {},
   "outputs": [
    {
     "data": {
      "text/plain": [
       "8"
      ]
     },
     "execution_count": 3,
     "metadata": {},
     "output_type": "execute_result"
    }
   ],
   "source": [
    "#4\n",
    "bunnyEars(4)"
   ]
  },
  {
   "cell_type": "code",
   "execution_count": 6,
   "id": "87961558",
   "metadata": {},
   "outputs": [
    {
     "data": {
      "text/plain": [
       "2"
      ]
     },
     "execution_count": 6,
     "metadata": {},
     "output_type": "execute_result"
    }
   ],
   "source": [
    "bunnyEars(1)"
   ]
  },
  {
   "cell_type": "code",
   "execution_count": 4,
   "id": "9e1e8062",
   "metadata": {},
   "outputs": [
    {
     "data": {
      "text/plain": [
       "4"
      ]
     },
     "execution_count": 4,
     "metadata": {},
     "output_type": "execute_result"
    }
   ],
   "source": [
    "#2\n",
    "bunnyEars(2)"
   ]
  },
  {
   "cell_type": "code",
   "execution_count": 5,
   "id": "8f0f0b5a",
   "metadata": {},
   "outputs": [
    {
     "data": {
      "text/plain": [
       "2"
      ]
     },
     "execution_count": 5,
     "metadata": {},
     "output_type": "execute_result"
    }
   ],
   "source": [
    "#1\n",
    "bunnyEars(1)"
   ]
  },
  {
   "cell_type": "markdown",
   "id": "45ed7ec9",
   "metadata": {},
   "source": [
    "Wie viele Stackframes werden durch den Aufruf erzeugt?"
   ]
  },
  {
   "cell_type": "code",
   "execution_count": null,
   "id": "ef27042f",
   "metadata": {},
   "outputs": [],
   "source": [
    "# unter Berücksichtigung der Tatsache, dass Null die Position Nummer 1 ist\n",
    "\n",
    "# bunnyEars(9) = 10 times\n",
    "\n",
    "# bunnyEars(4) = 5 times\n",
    "# bunnyEars(2) = 3 times\n",
    "# bunnyEars(1) = 2 times"
   ]
  },
  {
   "cell_type": "markdown",
   "id": "3f9e9f8b",
   "metadata": {},
   "source": [
    "#### Beispiel"
   ]
  },
  {
   "cell_type": "code",
   "execution_count": 7,
   "id": "8b241bba",
   "metadata": {},
   "outputs": [],
   "source": [
    "# Create a list of 10 numbers\n",
    "numbers = [1, 2, 3, 4, 5, 6, 7, 8, 9, 10]"
   ]
  },
  {
   "cell_type": "code",
   "execution_count": 8,
   "id": "cc28f091",
   "metadata": {},
   "outputs": [],
   "source": [
    "# Select from the first to the last element\n",
    "selection = numbers[0:len(numbers)]"
   ]
  },
  {
   "cell_type": "code",
   "execution_count": 9,
   "id": "efee2414",
   "metadata": {},
   "outputs": [
    {
     "name": "stdout",
     "output_type": "stream",
     "text": [
      "[1, 2, 3, 4, 5, 6, 7, 8, 9, 10]\n"
     ]
    }
   ],
   "source": [
    "# print out the selection\n",
    "print(selection)"
   ]
  },
  {
   "cell_type": "code",
   "execution_count": 1,
   "id": "f19a3696",
   "metadata": {},
   "outputs": [],
   "source": [
    "tuple = (1,2,3,4,5,6)\n",
    "# mutable oder unmutable zu sein"
   ]
  },
  {
   "cell_type": "code",
   "execution_count": 2,
   "id": "6ecb9957",
   "metadata": {},
   "outputs": [
    {
     "data": {
      "text/plain": [
       "2"
      ]
     },
     "execution_count": 2,
     "metadata": {},
     "output_type": "execute_result"
    }
   ],
   "source": [
    "tuple[1]"
   ]
  },
  {
   "cell_type": "code",
   "execution_count": 20,
   "id": "83e2eaff",
   "metadata": {},
   "outputs": [
    {
     "data": {
      "text/plain": [
       "1"
      ]
     },
     "execution_count": 20,
     "metadata": {},
     "output_type": "execute_result"
    }
   ],
   "source": [
    "#select the first elemento of the list\n",
    "numbers[0]"
   ]
  },
  {
   "cell_type": "code",
   "execution_count": 21,
   "id": "272769c6",
   "metadata": {},
   "outputs": [
    {
     "data": {
      "text/plain": [
       "2"
      ]
     },
     "execution_count": 21,
     "metadata": {},
     "output_type": "execute_result"
    }
   ],
   "source": [
    "numbers[1]"
   ]
  },
  {
   "cell_type": "code",
   "execution_count": 22,
   "id": "a72838fb",
   "metadata": {},
   "outputs": [
    {
     "data": {
      "text/plain": [
       "3"
      ]
     },
     "execution_count": 22,
     "metadata": {},
     "output_type": "execute_result"
    }
   ],
   "source": [
    "numbers[2]"
   ]
  },
  {
   "cell_type": "code",
   "execution_count": 23,
   "id": "6da6197c",
   "metadata": {},
   "outputs": [
    {
     "data": {
      "text/plain": [
       "4"
      ]
     },
     "execution_count": 23,
     "metadata": {},
     "output_type": "execute_result"
    }
   ],
   "source": [
    "numbers[3]"
   ]
  },
  {
   "cell_type": "code",
   "execution_count": 24,
   "id": "e3f5704c",
   "metadata": {},
   "outputs": [
    {
     "data": {
      "text/plain": [
       "5"
      ]
     },
     "execution_count": 24,
     "metadata": {},
     "output_type": "execute_result"
    }
   ],
   "source": [
    "numbers[4]"
   ]
  },
  {
   "cell_type": "code",
   "execution_count": 25,
   "id": "10888f91",
   "metadata": {},
   "outputs": [
    {
     "data": {
      "text/plain": [
       "6"
      ]
     },
     "execution_count": 25,
     "metadata": {},
     "output_type": "execute_result"
    }
   ],
   "source": [
    "numbers[5]"
   ]
  },
  {
   "cell_type": "code",
   "execution_count": 26,
   "id": "f0ff5038",
   "metadata": {},
   "outputs": [
    {
     "data": {
      "text/plain": [
       "7"
      ]
     },
     "execution_count": 26,
     "metadata": {},
     "output_type": "execute_result"
    }
   ],
   "source": [
    "numbers[6]"
   ]
  },
  {
   "cell_type": "code",
   "execution_count": 27,
   "id": "5a6c06e4",
   "metadata": {},
   "outputs": [
    {
     "data": {
      "text/plain": [
       "8"
      ]
     },
     "execution_count": 27,
     "metadata": {},
     "output_type": "execute_result"
    }
   ],
   "source": [
    "numbers[7]"
   ]
  },
  {
   "cell_type": "code",
   "execution_count": 28,
   "id": "8bd3e114",
   "metadata": {},
   "outputs": [
    {
     "data": {
      "text/plain": [
       "9"
      ]
     },
     "execution_count": 28,
     "metadata": {},
     "output_type": "execute_result"
    }
   ],
   "source": [
    "numbers[8]"
   ]
  },
  {
   "cell_type": "code",
   "execution_count": 29,
   "id": "8f0df73c",
   "metadata": {},
   "outputs": [
    {
     "data": {
      "text/plain": [
       "10"
      ]
     },
     "execution_count": 29,
     "metadata": {},
     "output_type": "execute_result"
    }
   ],
   "source": [
    "numbers[9]"
   ]
  },
  {
   "cell_type": "markdown",
   "id": "4c765da1",
   "metadata": {},
   "source": [
    "### b) Übertragen Sie den Rekursiven Algorithmus in einen Iterativen Algorithmus: "
   ]
  },
  {
   "cell_type": "markdown",
   "id": "67a3b403",
   "metadata": {},
   "source": [
    "### Notiz: \n",
    "\n",
    "Die while-Schleifen werden verwendet, um einen Codeblock zu wiederholen, solange eine bestimmte Bedingung erfüllt ist. "
   ]
  },
  {
   "cell_type": "code",
   "execution_count": 31,
   "id": "691beeb0",
   "metadata": {},
   "outputs": [],
   "source": [
    "def bunnyEars_iterativ(bunnies:int):\n",
    "    ears = 0\n",
    "    while(bunnies > 0):\n",
    "        ears = ears + 2         \n",
    "        bunnies = bunnies - 1              \n",
    "        return ears "
   ]
  },
  {
   "cell_type": "markdown",
   "id": "d6a7f56b",
   "metadata": {},
   "source": [
    "### die Function \n",
    "\n",
    "Die Funktion bunnyEars_iterativ ist eine iterative Version der Funktion bunnyEars, die die Gesamtanzahl der Ohren in einer Gruppe von Hasen berechnet, basierend auf der Anzahl der Hasen in der Gruppe. Im Gegensatz zur rekursiven Funktion verwendet diese Funktion einen iterativen Ansatz mit einer while-Schleife.\n",
    "\n",
    "Hier ist, wie es funktioniert:\n",
    "\n",
    "Die Funktion bunnyEars_iterativ nimmt ein Argument bunnies entgegen, das die Anzahl der Hasen in der Gruppe darstellt.\n",
    "\n",
    "Eine Variable ears wird mit 0 initialisiert, um die Gesamtanzahl der Ohren zu zählen.\n",
    "\n",
    "Es wird eine while-Schleife gestartet, die solange ausgeführt wird, wie bunnies größer als 0 ist.\n",
    "\n",
    "Bei jedem Durchlauf der Schleife wird ears um 2 erhöht, da jeder Hase zwei Ohren hat.\n",
    "\n",
    "Anschließend wird bunnies um 1 verringert, da ein Hase gezählt wurde.\n",
    "\n",
    "Nachdem ears und bunnies aktualisiert wurden, wird zur Anfang der while-Schleife zurückgekehrt, um zu überprüfen, ob bunnies immer noch größer als 0 ist. Wenn dies der Fall ist, wird der Vorgang wiederholt. Wenn bunnies gleich oder kleiner als 0 ist, wird die Schleife verlassen.\n",
    "\n",
    "Schließlich wird der Wert von ears zurückgegeben, der die Gesamtanzahl der Ohren in der Hasengruppe repräsentiert.\n",
    "\n",
    "Zusammenfassend berechnet die Funktion bunnyEars_iterativ die Gesamtanzahl der Ohren in einer Hasengruppe mithilfe eines iterativen Ansatzes. Sie durchläuft die Hasen, während sie den Ohrenzähler und die verbleibende Anzahl der Hasen in jeder Iteration aktualisiert. Am Ende wird die Gesamtzahl der Ohren zurückgegeben."
   ]
  },
  {
   "cell_type": "code",
   "execution_count": 32,
   "id": "ca70d8df",
   "metadata": {},
   "outputs": [
    {
     "name": "stdout",
     "output_type": "stream",
     "text": [
      "2\n",
      "2\n",
      "2\n"
     ]
    }
   ],
   "source": [
    "# Test the function with different inputs\n",
    "print(bunnyEars_iterativ(4))  # Output: 4\n",
    "print(bunnyEars_iterativ(2))  # Output: 2\n",
    "print(bunnyEars_iterativ(1))  # Output: 1"
   ]
  },
  {
   "cell_type": "markdown",
   "id": "a215686b",
   "metadata": {},
   "source": [
    "### Notiz: \n",
    "\n",
    "Das Ergebnis dieser while-Schleife wird immer 2 sein, unabhängig vom anfänglichen Wert von bunnies. Dies liegt daran, dass die return-Anweisung innerhalb der Schleife steht, was dazu führt, dass die Schleife nur einmal durchlaufen wird und dann endet.\n",
    "\n",
    "Wenn die Schleife zum ersten Mal durchlaufen wird, wird ears um 2 erhöht und bunnies um 1 verringert. Anschließend wird die return-Anweisung erreicht, was bedeutet, dass der aktuelle Wert von ears zurückgegeben wird und die Funktion bunnyEars_iterativ() endet.\n",
    "\n",
    "Da die return-Anweisung innerhalb der Schleife steht, wird die Schleife nur einmal durchlaufen und der aktualisierte Wert von ears zurückgegeben. Daher wird das Ergebnis immer 2 sein, unabhängig vom anfänglichen Wert von bunnies."
   ]
  },
  {
   "cell_type": "code",
   "execution_count": null,
   "id": "6b0bb819",
   "metadata": {},
   "outputs": [],
   "source": [
    "#individual"
   ]
  },
  {
   "cell_type": "code",
   "execution_count": 33,
   "id": "363b8d29",
   "metadata": {},
   "outputs": [
    {
     "data": {
      "text/plain": [
       "2"
      ]
     },
     "execution_count": 33,
     "metadata": {},
     "output_type": "execute_result"
    }
   ],
   "source": [
    "bunnyEars_iterativ(4)"
   ]
  },
  {
   "cell_type": "code",
   "execution_count": 34,
   "id": "bcc5086b",
   "metadata": {},
   "outputs": [
    {
     "data": {
      "text/plain": [
       "2"
      ]
     },
     "execution_count": 34,
     "metadata": {},
     "output_type": "execute_result"
    }
   ],
   "source": [
    "bunnyEars_iterativ(3)"
   ]
  },
  {
   "cell_type": "code",
   "execution_count": 35,
   "id": "9cec314b",
   "metadata": {},
   "outputs": [
    {
     "data": {
      "text/plain": [
       "2"
      ]
     },
     "execution_count": 35,
     "metadata": {},
     "output_type": "execute_result"
    }
   ],
   "source": [
    "bunnyEars_iterativ(2)"
   ]
  },
  {
   "cell_type": "code",
   "execution_count": 36,
   "id": "ac0ac4ff",
   "metadata": {},
   "outputs": [
    {
     "data": {
      "text/plain": [
       "2"
      ]
     },
     "execution_count": 36,
     "metadata": {},
     "output_type": "execute_result"
    }
   ],
   "source": [
    "bunnyEars_iterativ(1)"
   ]
  },
  {
   "cell_type": "code",
   "execution_count": 37,
   "id": "8f2717fa",
   "metadata": {},
   "outputs": [],
   "source": [
    "#zero ist raus weil the condition is > 0 und nicht >=0\n",
    "bunnyEars_iterativ(0)"
   ]
  },
  {
   "cell_type": "markdown",
   "id": "c3ec8bc6",
   "metadata": {},
   "source": [
    "### Python training \n",
    "\n",
    "Hier sind einige Websites, auf denen du mit Python-Funktionsübungen arbeiten und üben kannst:\n",
    "\n",
    "Exercism (https://exercism.io/tracks/python): Exercism bietet eine Vielzahl von Programmierübungen in Python an, einschließlich spezifischer Übungen zu Funktionen. Du kannst die Probleme lösen und Feedback von der Community erhalten.\n",
    "\n",
    "CodingBat (https://codingbat.com/python): CodingBat bietet Programmierübungen in Python an, darunter einen speziellen Abschnitt für Funktionen. Du kannst verschiedene Konzepte und Herausforderungen im Zusammenhang mit Funktionen üben.\n",
    "\n",
    "HackerRank (https://www.hackerrank.com/domains/tutorials/10-days-of-statistics): HackerRank bietet eine Vielzahl von Programmieraufgaben in Python an, einschließlich Herausforderungen im Zusammenhang mit Funktionen. Du kannst Probleme lösen und deine Lösungen mit anderen Programmierern vergleichen.\n",
    "\n",
    "Project Euler (https://projecteuler.net/archives): Project Euler ist ein Projekt, das mathematische und programmierbezogene Herausforderungen bietet. Obwohl es nicht speziell auf Funktionen ausgerichtet ist, erfordern viele der Probleme die Implementierung von Funktionen, um sie zu lösen.\n",
    "\n",
    "LeetCode (https://leetcode.com/problemset/all/): LeetCode ist eine Plattform für Programmieraufgaben, die auch Probleme in Python enthält. Du kannst üben und deine Programmierfähigkeiten verbessern, einschließlich dem Einsatz von Funktionen.\n",
    "\n",
    "Dies sind nur einige Optionen, aber es gibt viele weitere online verfügbare Ressourcen. Durchsuche diese Websites und wähle diejenige aus, die am besten zu deinen Bedürfnissen und deinem Kenntnisstand passt. Viel Spaß beim Lösen von Problemen und beim Verbessern deiner Programmierfähigkeiten mit Funktionen in Python!"
   ]
  },
  {
   "cell_type": "markdown",
   "id": "3a2f719f",
   "metadata": {},
   "source": [
    "#### KI support \n",
    "\n",
    "https://poe.com/login\n",
    "\n",
    "https://heypi.com/es/talk"
   ]
  },
  {
   "cell_type": "markdown",
   "id": "0a538700",
   "metadata": {},
   "source": [
    "#### viel Erfolg!!!"
   ]
  }
 ],
 "metadata": {
  "kernelspec": {
   "display_name": "Python 3 (ipykernel)",
   "language": "python",
   "name": "python3"
  },
  "language_info": {
   "codemirror_mode": {
    "name": "ipython",
    "version": 3
   },
   "file_extension": ".py",
   "mimetype": "text/x-python",
   "name": "python",
   "nbconvert_exporter": "python",
   "pygments_lexer": "ipython3",
   "version": "3.9.13"
  }
 },
 "nbformat": 4,
 "nbformat_minor": 5
}
