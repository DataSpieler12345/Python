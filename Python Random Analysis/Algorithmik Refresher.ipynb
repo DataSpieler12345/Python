{
 "cells": [
  {
   "cell_type": "markdown",
   "id": "ccdde457",
   "metadata": {},
   "source": [
    "![](teil_2.JPG)"
   ]
  },
  {
   "cell_type": "code",
   "execution_count": null,
   "id": "762e6747",
   "metadata": {},
   "outputs": [],
   "source": [
    "void Umrechnung(dezimalzahl: int)\n",
    "BEGIN\n",
    "    rest: int\n",
    "    rest = dezimalzahl modulo 2\n",
    "    AUSGABE(rest)\n",
    "    dezimalzahl = dezimalzahl div 2  # // führt eine Ganzzahldivision durch\n",
    "    WENN dezimalzahl > 0 DANN\n",
    "        Umrechnung(dezimalzahl)\n",
    "    ENDE\n",
    "ENDE\n",
    "\n",
    "# Schreibtischtest\n",
    "# Testfall 1:\n",
    "# Dezimalzahl: 7\n",
    "# Erwartetes Ergebnis: 111\n",
    "# Ergebnis Schreibtischtest: 111\n",
    "Umrechnung(7)  # Ausgabe: 1 1 1\n",
    "\n",
    "# Testfall 2:\n",
    "# Dezimalzahl: 11\n",
    "# Erwartetes Ergebnis: 1011\n",
    "# Ergebnis Schreibtischtest: 1011\n",
    "Umrechnung(11)  # Ausgabe: 1 0 1 1"
   ]
  },
  {
   "cell_type": "code",
   "execution_count": 2,
   "id": "38c51db4",
   "metadata": {},
   "outputs": [
    {
     "data": {
      "text/plain": [
       "3"
      ]
     },
     "execution_count": 2,
     "metadata": {},
     "output_type": "execute_result"
    }
   ],
   "source": [
    "7//2"
   ]
  },
  {
   "cell_type": "code",
   "execution_count": 3,
   "id": "c6470644",
   "metadata": {},
   "outputs": [
    {
     "data": {
      "text/plain": [
       "7"
      ]
     },
     "execution_count": 3,
     "metadata": {},
     "output_type": "execute_result"
    }
   ],
   "source": [
    "15//2"
   ]
  },
  {
   "cell_type": "code",
   "execution_count": 4,
   "id": "ad6c242a",
   "metadata": {},
   "outputs": [
    {
     "data": {
      "text/plain": [
       "1"
      ]
     },
     "execution_count": 4,
     "metadata": {},
     "output_type": "execute_result"
    }
   ],
   "source": [
    "15%2"
   ]
  },
  {
   "cell_type": "code",
   "execution_count": 5,
   "id": "9d7d746c",
   "metadata": {},
   "outputs": [
    {
     "data": {
      "text/plain": [
       "5"
      ]
     },
     "execution_count": 5,
     "metadata": {},
     "output_type": "execute_result"
    }
   ],
   "source": [
    "11//2"
   ]
  },
  {
   "cell_type": "code",
   "execution_count": 6,
   "id": "520b165e",
   "metadata": {},
   "outputs": [
    {
     "data": {
      "text/plain": [
       "1"
      ]
     },
     "execution_count": 6,
     "metadata": {},
     "output_type": "execute_result"
    }
   ],
   "source": [
    "11%2"
   ]
  },
  {
   "cell_type": "code",
   "execution_count": 7,
   "id": "cb2724ae",
   "metadata": {},
   "outputs": [
    {
     "data": {
      "text/plain": [
       "1"
      ]
     },
     "execution_count": 7,
     "metadata": {},
     "output_type": "execute_result"
    }
   ],
   "source": [
    "7%2"
   ]
  },
  {
   "cell_type": "markdown",
   "id": "e1771396",
   "metadata": {},
   "source": [
    "Dieser **Pseudocode** beschreibt eine Funktion namens \"Umrechnung\", die ein Argument \"dezimalzahl\" vom Typ Ganzzahl (int) akzeptiert. Die Funktion hat die Aufgabe, eine Dezimalzahl in ihre binäre Darstellung unter Verwendung der Rekursion umzuwandeln. Im Folgenden wird Schritt für Schritt erläutert, was dieser Code macht:\n",
    "\n",
    "Die **Funktion** \"Umrechnung\" wird mit einem Argument \"dezimalzahl\" vom Typ Ganzzahl **definiert**.\n",
    "\n",
    "Es wird eine **lokale Variable** namens \"rest\" vom Typ Ganzzahl **deklariert**.\n",
    "\n",
    "Der Rest der Division von \"dezimalzahl\" durch 2 wird berechnet (dies erfolgt unter Verwendung des Modulo-Operators, der in vielen Programmiersprachen mit \"%\" dargestellt wird). Das Ergebnis wird in der **Variable** \"rest\" **gespeichert**.\n",
    "\n",
    "Der Wert von \"rest\", der ein binärer Ziffer ist, wird in der Ausgabe angezeigt (wahrscheinlich bedeutet dies, dass er in der Konsole gedruckt wird).\n",
    "\n",
    "Anschließend erfolgt eine Ganzzahldivision von \"dezimalzahl\" durch 2 (dies geschieht mit \"dezimalzahl div 2\"). Diese Operation verschiebt im Wesentlichen die Ziffern in der binären Darstellung der **Dezimalzahl nach rechts**.\n",
    "\n",
    "Es wird überprüft, ob \"dezimalzahl\" größer als 0 ist. Wenn dies der Fall ist, wird die Funktion \"Umrechnung\" rekursiv mit dem neuen Wert von \"dezimalzahl\" aufgerufen. **Dies bedeutet, dass der Umwandlungsprozess fortgesetzt wird, bis \"dezimalzahl\" zu 0 wird**.\n",
    "\n",
    "Die Funktion wird rekursiv wiederholt, **bis \"dezimalzahl\" 0 ist**. In jeder Iteration wird eine binäre Ziffer berechnet und angezeigt.\n",
    "\n",
    "Zusammenfassend stellt dieser Pseudocode einen rekursiven Algorithmus zur Umwandlung einer Dezimalzahl in ihre binäre Darstellung dar, **wobei die binären Ziffern einzeln in absteigender Reihenfolge von den signifikantesten (links) zu den weniger signifikanten (rechts)** berechnet und angezeigt werden."
   ]
  },
  {
   "cell_type": "markdown",
   "id": "4ff39574",
   "metadata": {},
   "source": [
    "#### Python Code  | Ergebnis des Schreibtischtests:"
   ]
  },
  {
   "cell_type": "code",
   "execution_count": 1,
   "id": "5be467ed",
   "metadata": {},
   "outputs": [
    {
     "name": "stdout",
     "output_type": "stream",
     "text": [
      "1\n",
      "1\n",
      "1\n",
      "1\n",
      "1\n",
      "0\n",
      "1\n"
     ]
    }
   ],
   "source": [
    "def Umrechnung(dezimalzahl):\n",
    "    rest = dezimalzahl % 2\n",
    "    print(rest)\n",
    "    dezimalzahl = dezimalzahl // 2  # // führt eine ganzzahlige Division durch\n",
    "    if dezimalzahl > 0:\n",
    "        Umrechnung(dezimalzahl)\n",
    "\n",
    "# Schreibtischtest\n",
    "# Testfall 1:\n",
    "# Dezimalzahl: 7\n",
    "# Erwartetes Ergebnis: 111\n",
    "# Ergebnis Schreibtischtest: 111\n",
    "Umrechnung(7)  # Ausgabe: 1 1 1\n",
    "\n",
    "# Testfall 2:\n",
    "# Dezimalzahl: 11\n",
    "# Erwartetes Ergebnis: 1011\n",
    "# Ergebnis Schreibtischtest: 1011\n",
    "Umrechnung(11)  # Ausgabe: 1 0 1 1"
   ]
  },
  {
   "cell_type": "code",
   "execution_count": 2,
   "id": "f88295c7",
   "metadata": {},
   "outputs": [
    {
     "name": "stdout",
     "output_type": "stream",
     "text": [
      "1\n",
      "1\n",
      "1\n"
     ]
    }
   ],
   "source": [
    "Umrechnung(7)"
   ]
  },
  {
   "cell_type": "code",
   "execution_count": 3,
   "id": "5a056745",
   "metadata": {},
   "outputs": [
    {
     "name": "stdout",
     "output_type": "stream",
     "text": [
      "1\n",
      "1\n",
      "0\n",
      "1\n"
     ]
    }
   ],
   "source": [
    "Umrechnung(11)"
   ]
  },
  {
   "cell_type": "markdown",
   "id": "c6baa3a9",
   "metadata": {},
   "source": [
    "#### Korrekt Function Python"
   ]
  },
  {
   "cell_type": "code",
   "execution_count": 4,
   "id": "6a74e932",
   "metadata": {},
   "outputs": [
    {
     "name": "stdout",
     "output_type": "stream",
     "text": [
      "1111011"
     ]
    }
   ],
   "source": [
    "def Umrechnung(dezimalzahl):\n",
    "    if dezimalzahl > 1:\n",
    "        Umrechnung(dezimalzahl // 2)\n",
    "    rest = dezimalzahl % 2\n",
    "    print(rest, end='')\n",
    "\n",
    "# Schreibtischtest\n",
    "# Testfall 1:\n",
    "# Dezimalzahl: 7\n",
    "# Erwartetes Ergebnis: 111\n",
    "Umrechnung(7)  # Ausgabe: 111\n",
    "\n",
    "# Testfall 2:\n",
    "# Dezimalzahl: 11\n",
    "# Erwartetes Ergebnis: 1011\n",
    "Umrechnung(11)  # Ausgabe: 1011\n"
   ]
  },
  {
   "cell_type": "markdown",
   "id": "242370c3",
   "metadata": {},
   "source": [
    "####   if dezimalzahl > 1:"
   ]
  },
  {
   "cell_type": "code",
   "execution_count": 5,
   "id": "e20d4327",
   "metadata": {},
   "outputs": [
    {
     "name": "stdout",
     "output_type": "stream",
     "text": [
      "111"
     ]
    }
   ],
   "source": [
    "#7\n",
    "Umrechnung(7)"
   ]
  },
  {
   "cell_type": "code",
   "execution_count": 6,
   "id": "cca8551d",
   "metadata": {},
   "outputs": [
    {
     "name": "stdout",
     "output_type": "stream",
     "text": [
      "1011"
     ]
    }
   ],
   "source": [
    "Umrechnung(11)"
   ]
  },
  {
   "cell_type": "markdown",
   "id": "3742213f",
   "metadata": {},
   "source": [
    "Angenommen, wir rufen die Funktion **Umrechnung(7)** auf.\n",
    "\n",
    "Im ersten Aufruf ist dezimalzahl gleich **7**.\n",
    "\n",
    "Es berechnet den Rest von dezimalzahl geteilt durch **2 (7 % 2)**, was 1 ergibt, und speichert ihn in der Variablen rest.\n",
    "\n",
    "rest, welches 1 ist, wird ausgegeben.\n",
    "\n",
    "Dann führt es eine Ganzzahldivision von dezimalzahl durch **2 durch (7 // 2)**, was 3 ergibt. dezimalzahl ist jetzt 3.\n",
    "\n",
    "Es überprüft, ob **dezimalzahl größer als 0 ist**. Da **3 größer als 0 ist**, erfolgt ein rekursiver Aufruf von Umrechnung(dezimalzahl) mit dezimalzahl gleich 3.\n",
    "\n",
    "Jetzt befinden wir uns in einem neuen Aufruf mit dezimalzahl gleich 3.\n",
    "\n",
    "In diesem neuen Aufruf werden **die Schritte 2 bis 5 wiederholt**. Der Rest von **3 % 2 wird berechnet**, was 1 ist, und dann wird **3 // 2 durchgeführt**, was 1 ergibt. Erneut ist dezimalzahl größer als 0, daher erfolgt ein weiterer rekursiver Aufruf mit dezimalzahl gleich 1.\n",
    "\n",
    "Jetzt befinden wir uns in einem dritten Aufruf mit **dezimalzahl gleich 1**.\n",
    "\n",
    "In diesem dritten Aufruf werden die Schritte **2 bis 5 wiederholt**. Der Rest von **1 % 2 wird berechnet**, was 1 ist, und dann wird 1 // 2 durchgeführt, was 0 ergibt. An diesem Punkt ist dezimalzahl gleich 0, daher erfolgt kein weiterer rekursiver Aufruf.\n",
    "\n",
    "Der Prozess der rekursiven Aufrufe endet hier, und Sie erhalten die gedruckte Restfolge: **1 1 1**. Diese Sequenz stellt die binäre Darstellung von 7 dar.\n",
    "\n",
    "Derselbe Prozess wird angewendet, wenn Sie **Umrechnung(11)** aufrufen, und Sie erhalten die korrekte binäre Darstellung von 11: **1011**.\n",
    "\n",
    "Zusammengefasst funktioniert der Code durch rekursive Aufrufe, bei denen die ursprüngliche Dezimalzahl in jedem Schritt durch 2 geteilt wird, der Rest berechnet und gedruckt wird, bis die Dezimalzahl 0 wird. Das Ergebnis ist die binäre Darstellung der ursprünglichen Zahl."
   ]
  },
  {
   "cell_type": "code",
   "execution_count": null,
   "id": "2adf7a3a",
   "metadata": {},
   "outputs": [],
   "source": [
    "Umrechnung(7) "
   ]
  },
  {
   "cell_type": "code",
   "execution_count": null,
   "id": "3a2d65e4",
   "metadata": {},
   "outputs": [],
   "source": [
    "Umrechnung(11) "
   ]
  },
  {
   "cell_type": "markdown",
   "id": "cbb49487",
   "metadata": {},
   "source": [
    "#### Das Ergebnis des Schreibtischtests:\n",
    "\n",
    "das Ergebnis\n",
    "\n",
    "für den **Testfall 1** (Dezimalzahl 7) ist **111**, \n",
    "\n",
    "und  \n",
    "\n",
    "für den **Testfall 2** (Dezimalzahl 11) ist **1011**. \n",
    "\n",
    "Der **Algorithmus** gibt die entsprechenden Binärzahlen korrekt aus."
   ]
  },
  {
   "cell_type": "markdown",
   "id": "5e2f77b1",
   "metadata": {},
   "source": [
    "### Resume"
   ]
  },
  {
   "cell_type": "markdown",
   "id": "a94b8f52",
   "metadata": {},
   "source": [
    "Dieser Code implementiert eine Funktion namens Umrechnung, die eine Dezimalzahl in ihre binäre Darstellung umwandelt. Hier ist, wie es funktioniert:\n",
    "\n",
    "**Die Funktion Umrechnung** erhält einen Parameter dezimalzahl, der die zu konvertierende Dezimalzahl ist.\n",
    "\n",
    "**Zuerst wird der Rest der Division von dezimalzahl durch 2 mit dem Modulo-Operator % berechnet**. Das Ergebnis wird in der Variablen rest gespeichert.\n",
    "\n",
    "**Dann** wird der Wert von rest ausgegeben, der das am wenigsten signifikante Bit in der binären Darstellung repräsentiert.\n",
    "\n",
    "Als nächstes **wird der Wert von dezimalzahl durch 2 mit dem Floor-Divisionsoperator // geteilt**, um die nächste Umrechnungsstufe vorzubereiten. Dies wird gemacht, um den nächsten Schritt der Umwandlung vorzubereiten.\n",
    "\n",
    "Danach **wird überprüft, ob dezimalzahl größer als 0 ist**. Wenn dies der Fall ist, wird die Funktion Umrechnung rekursiv mit dezimalzahl als Argument aufgerufen. Dadurch wird der Umwandlungsprozess für die restlichen Bits fortgesetzt.\n",
    "\n",
    "**Die Funktion wird rekursiv aufgerufen, bis dezimalzahl 0 ist**. Zu diesem Zeitpunkt wird die Rekursion beendet und die Funktion beendet sich.\n",
    "\n",
    "**Der Code enthält auch einen Schreibtischtest, der verwendet wird, um die Funktionsweise des Algorithmus durch manuelle Überprüfung zu überprüfen**.\n",
    "\n",
    "Im Schreibtischtest werden zwei Testfälle durchgeführt:\n",
    "\n",
    "**Testfall 1**: Die Funktion Umrechnung wird mit dezimalzahl gleich 7 aufgerufen. Das erwartete Ergebnis ist die binäre Darstellung von 7, also 111. Das Ergebnis des Schreibtischtests zeigt, dass die Funktion die Bits 1, 1 und 1 korrekt ausgibt.\n",
    "\n",
    "**Testfall 2**: Die Funktion Umrechnung wird mit dezimalzahl gleich 11 aufgerufen. Das erwartete Ergebnis ist die binäre Darstellung von 11, also 1011. Das Ergebnis des Schreibtischtests zeigt, dass die Funktion die Bits 1, 0, 1 und 1 korrekt ausgibt.\n",
    "\n",
    "Zusammenfassend implementiert der Code eine rekursive Funktion, die eine Dezimalzahl in ihre binäre Darstellung umwandelt, indem sie die Bits nacheinander ausgibt."
   ]
  },
  {
   "cell_type": "markdown",
   "id": "6bdf17bf",
   "metadata": {},
   "source": [
    "### b)  Beschreiben Sie den Fehler und eine Korrekturmöglichkeit. "
   ]
  },
  {
   "cell_type": "markdown",
   "id": "027e64a1",
   "metadata": {},
   "source": [
    "![](teil_3.JPG)"
   ]
  },
  {
   "cell_type": "markdown",
   "id": "f7680346",
   "metadata": {},
   "source": [
    "Der Fehler im **Pseudocode** liegt darin, dass die Bedingung für den rekursiven Aufruf des Algorithmus **\"WENN dezimalzahl > 0 DANN\" lautet**. Dadurch wird die Rekursion auch dann weitergeführt, **wenn** dezimalzahl den Wert 0 erreicht hat. Dies führt zu einer Endlosschleife, da die Bedingung für den rekursiven Aufruf immer wahr bleibt.\n",
    "\n",
    "Um den Fehler zu **korrigieren**, sollte die Bedingung für den rekursiven Aufruf geändert werden, um sicherzustellen, dass der Algorithmus nur aufgerufen wird, wenn dezimalzahl größer als 0 ist. Hier ist der korrigierte Pseudocode:"
   ]
  },
  {
   "cell_type": "code",
   "execution_count": 10,
   "id": "6e2411d6",
   "metadata": {},
   "outputs": [
    {
     "name": "stdout",
     "output_type": "stream",
     "text": [
      "1\n",
      "1\n",
      "1\n",
      "1\n",
      "1\n",
      "0\n",
      "1\n"
     ]
    }
   ],
   "source": [
    "def Umrechnung(dezimalzahl):\n",
    "    rest = dezimalzahl % 2\n",
    "    print(rest)\n",
    "    dezimalzahl = dezimalzahl // 2\n",
    "    if dezimalzahl > 0:\n",
    "        Umrechnung(dezimalzahl)\n",
    "\n",
    "# Schreibtischtest\n",
    "Umrechnung(7)  # Ausgabe: 1 1 1\n",
    "Umrechnung(11)  # Ausgabe: 1 0 1 1"
   ]
  },
  {
   "cell_type": "code",
   "execution_count": 11,
   "id": "599e36ea",
   "metadata": {},
   "outputs": [
    {
     "name": "stdout",
     "output_type": "stream",
     "text": [
      "1\n",
      "1\n",
      "0\n",
      "1\n"
     ]
    }
   ],
   "source": [
    "#den Fehler\n",
    "Umrechnung(11) # Ausgabe: 1 0 1 1"
   ]
  },
  {
   "cell_type": "code",
   "execution_count": 12,
   "id": "42c99e6b",
   "metadata": {},
   "outputs": [
    {
     "name": "stdout",
     "output_type": "stream",
     "text": [
      "1\n",
      "1\n",
      "1\n"
     ]
    }
   ],
   "source": [
    "Umrechnung(7)  # Ausgabe: 1 1 1"
   ]
  },
  {
   "cell_type": "markdown",
   "id": "a8995420",
   "metadata": {},
   "source": [
    "### Korrekt Alternative"
   ]
  },
  {
   "cell_type": "code",
   "execution_count": 7,
   "id": "495957f5",
   "metadata": {},
   "outputs": [
    {
     "name": "stdout",
     "output_type": "stream",
     "text": [
      "1111011"
     ]
    }
   ],
   "source": [
    "def Umrechnung(dezimalzahl):\n",
    "    if dezimalzahl > 1:\n",
    "        Umrechnung(dezimalzahl // 2)\n",
    "    rest = dezimalzahl % 2\n",
    "    print(rest, end='')\n",
    "\n",
    "# Schreibtischtest\n",
    "# Testfall 1:\n",
    "# Dezimalzahl: 7\n",
    "# Erwartetes Ergebnis: 111\n",
    "Umrechnung(7)  # Ausgabe: 111\n",
    "\n",
    "# Testfall 2:\n",
    "# Dezimalzahl: 11\n",
    "# Erwartetes Ergebnis: 1011\n",
    "Umrechnung(11)  # Ausgabe: 1011"
   ]
  },
  {
   "cell_type": "code",
   "execution_count": 9,
   "id": "7dea02e7",
   "metadata": {},
   "outputs": [
    {
     "name": "stdout",
     "output_type": "stream",
     "text": [
      "1011"
     ]
    }
   ],
   "source": [
    "Umrechnung(11)"
   ]
  },
  {
   "cell_type": "code",
   "execution_count": 8,
   "id": "8ccb9959",
   "metadata": {},
   "outputs": [
    {
     "name": "stdout",
     "output_type": "stream",
     "text": [
      "111"
     ]
    }
   ],
   "source": [
    "Umrechnung(7)"
   ]
  },
  {
   "cell_type": "markdown",
   "id": "ecb0fb44",
   "metadata": {},
   "source": [
    "![](teil_4.JPG)"
   ]
  },
  {
   "cell_type": "markdown",
   "id": "47d50be8",
   "metadata": {},
   "source": [
    "**Die Anzahl der Stackframes**, die durch den Aufruf des Algorithmus erzeugt werden, entspricht der Anzahl der rekursiven Aufrufe plus dem initialen Aufruf. Jeder rekursive Aufruf erzeugt einen neuen Stackframe.\n",
    "\n",
    "Für die gegebenen Testfälle ergibt sich folgendes:\n",
    "\n",
    "**Testfall 1**: \n",
    "\n",
    "Dezimalzahl = 7\n",
    "\n",
    "Erwartetes Ergebnis: 111\n",
    "\n",
    "Anzahl der Stackframes: **4** (1 initialer Aufruf + 3 rekursive Aufrufe)\n",
    "\n",
    "**Testfall 2**: \n",
    "\n",
    "Dezimalzahl = 11\n",
    "\n",
    "Erwartetes Ergebnis: 1011\n",
    "\n",
    "Anzahl der Stackframes: **5** (1 initialer Aufruf + 4 rekursive Aufrufe)\n",
    "\n",
    "In **beiden Fällen** werden rekursive Aufrufe basierend auf dem Wert von dezimalzahl durchgeführt. Jeder rekursive Aufruf erzeugt einen zusätzlichen Stackframe, da die Funktion nicht beendet wird, sondern sich selbst aufruft, um den Rest der Umwandlung zu bearbeiten."
   ]
  },
  {
   "cell_type": "markdown",
   "id": "dd52ac33",
   "metadata": {},
   "source": [
    "**Testfall 1**: \n",
    "\n",
    "Dezimalzahl = 7\n",
    "\n",
    "Erwartetes Ergebnis: 111\n",
    "\n",
    "Anzahl der Stackframes: **4** (1 initialer Aufruf + 3 rekursive Aufrufe)\n",
    "\n",
    "#### Notiz:\n",
    "\n",
    "Wenn die Funktion Umrechnung mit dem Wert dezimalzahl gleich **7 aufgerufen wird**, werden aufgrund der rekursiven Aufrufe mehrere Stapelrahmen erzeugt. Schauen wir uns an, wie jeder Stapelrahmen erzeugt wird:\n",
    "\n",
    "**Initialer Aufruf**: Zu Beginn wird der initiale Aufruf der Funktion **Umrechnung(7)** durchgeführt. Dadurch wird der **erste** Stapelrahmen erzeugt.\n",
    "\n",
    "**Erster rekursiver Aufruf**: Innerhalb der Funktion wird ein rekursiver Aufruf von Umrechnung mit einem neuen Wert für dezimalzahl durchgeführt. In diesem Fall wird **Umrechnung(3)** aufgerufen. Dadurch wird der **zweite** Stapelrahmen erzeugt.\n",
    "\n",
    "**Zweiter rekursiver Aufruf**: Innerhalb der Funktion wird erneut ein rekursiver Aufruf von Umrechnung mit einem neuen Wert für dezimalzahl durchgeführt. In diesem Fall wird **Umrechnung(1)** aufgerufen. Dadurch wird der **dritte** Stapelrahmen erzeugt.\n",
    "\n",
    "**Dritter rekursiver Aufruf**: Nochmals wird ein rekursiver Aufruf von Umrechnung mit einem neuen Wert für dezimalzahl durchgeführt. In diesem Fall wird **Umrechnung(0**) aufgerufen. Dadurch wird der **vierte** Stapelrahmen erzeugt.\n",
    "\n",
    "Zusammenfassend werden beim Ausführen des Testfalls mit dezimalzahl gleich 7 insgesamt **4 Stapelrahmen** erzeugt. Dies beinhaltet den initialen Aufruf und die drei rekursiven Aufrufe, die innerhalb der Funktion erfolgen.\n",
    "\n",
    "**Es ist wichtig zu beachten**, dass jeder Stapelrahmen die erforderlichen Informationen zur Ausführung einer bestimmten Instanz der Funktion Umrechnung enthält. Wenn die rekursiven Aufrufe aufgelöst werden und der Basisfall erreicht wird, werden die Stapelrahmen in umgekehrter Reihenfolge freigegeben, wodurch die Ausführung zu den vorherigen Stapelrahmen zurückkehrt, bis der initiale Aufruf abgeschlossen ist.\n"
   ]
  },
  {
   "cell_type": "markdown",
   "id": "154695b5",
   "metadata": {},
   "source": [
    "**Testfall 2**: \n",
    "\n",
    "Dezimalzahl = 11\n",
    "\n",
    "Erwartetes Ergebnis: 1011\n",
    "\n",
    "Anzahl der Stackframes: **5** (1 initialer Aufruf + 4 rekursive Aufrufe)\n",
    "\n",
    "\n",
    "#### Notiz:\n",
    "\n",
    "Wenn die Funktion Umrechnung mit dem Wert dezimalzahl gleich **11 aufgerufen wird**, werden aufgrund der rekursiven Aufrufe mehrere Stapelrahmen erzeugt. Schauen wir uns an, wie jeder Stapelrahmen erzeugt wird:\n",
    "\n",
    "**Initialer Aufruf**: Zu Beginn wird der initiale Aufruf der Funktion **Umrechnung(11)** durchgeführt. Dadurch wird der **erste** Stapelrahmen erzeugt.\n",
    "\n",
    "**Erster rekursiver Aufruf**: Innerhalb der Funktion wird ein rekursiver Aufruf von Umrechnung mit einem neuen Wert für dezimalzahl durchgeführt. In diesem Fall wird **Umrechnung(5)** aufgerufen. Dadurch wird der **zweite** Stapelrahmen erzeugt.\n",
    "\n",
    "**Zweiter rekursiver Aufruf**: Innerhalb der Funktion wird erneut ein rekursiver Aufruf von Umrechnung mit einem neuen Wert für dezimalzahl durchgeführt. In diesem Fall wird **Umrechnung(2)** aufgerufen. Dadurch wird der **dritte** Stapelrahmen erzeugt.\n",
    "\n",
    "**Dritter rekursiver Aufruf**: Nochmals wird ein rekursiver Aufruf von Umrechnung mit einem neuen Wert für dezimalzahl durchgeführt. In diesem Fall wird **Umrechnung(1)** aufgerufen. Dadurch wird der **vierte**  Stapelrahmen erzeugt.\n",
    "\n",
    "**Vierter rekursiver Aufruf**: Schließlich wird ein weiterer rekursiver Aufruf von Umrechnung mit einem neuen Wert für dezimalzahl durchgeführt. In diesem Fall wird **Umrechnung(0)** aufgerufen. Dadurch wird der **fünfte** Stapelrahmen erzeugt.\n",
    "\n",
    "Zusammenfassend werden beim Ausführen des Testfalls mit dezimalzahl gleich **11 insgesamt 5 Stapelrahmen erzeugt**. Dies beinhaltet den initialen Aufruf und die vier rekursiven Aufrufe, die innerhalb der Funktion erfolgen.\n",
    "\n",
    "Jeder Stapelrahmen speichert die Informationen, die zur Ausführung einer bestimmten Instanz der Funktion Umrechnung erforderlich sind. Wenn die rekursiven Aufrufe aufgelöst werden und der Basisfall erreicht wird, werden die Stapelrahmen in umgekehrter Reihenfolge freigegeben, wodurch die Ausführung zu den vorherigen Stapelrahmen zurückkehrt, bis der initiale Aufruf abgeschlossen ist."
   ]
  },
  {
   "cell_type": "markdown",
   "id": "675074d0",
   "metadata": {},
   "source": [
    "![](teil_5.JPG)"
   ]
  },
  {
   "cell_type": "markdown",
   "id": "822112e2",
   "metadata": {},
   "source": [
    "**a) Vorteil der rekursiven Lösung**:\n",
    "\n",
    "**Klarere und kompaktere Darstellung des Problems**: Rekursive Lösungen spiegeln oft die natürliche Struktur des Problems wider und können dadurch einfacher zu verstehen und zu implementieren sein. Sie ermöglichen eine elegante und intuitive Lösung, indem sie das Problem in kleinere Teilprobleme zerlegen.\n",
    "\n",
    "\n",
    "**b) Nachteil der rekursiven Lösung**:\n",
    "\n",
    "**Potenzielle Gefahr von Stapelüberlauf (Stack Overflow)**: Bei tiefen Rekursionen oder großen Eingabedaten könnte es zu einem Stapelüberlauf kommen, wenn nicht genügend Speicherplatz im Stapel vorhanden ist. Dies kann zu einem Abbruch des Programms führen. Bei iterativen Lösungen tritt dieses Problem normalerweise nicht auf.\n",
    "\n",
    "\n",
    "**c) Vorteil der iterativen Lösung**:\n",
    "\n",
    "**Bessere Kontrolle über den Speicherbedarf**: Iterative Lösungen verwenden in der Regel weniger Speicher, da sie keine zusätzlichen Stapelrahmen erzeugen. Dies kann besonders wichtig sein, wenn große Eingabedaten oder eine begrenzte Speicherressource vorliegen.\n",
    "\n",
    "\n",
    "**d) Nachteil der iterativen Lösung**:\n",
    "\n",
    "**Möglicherweise komplexere Implementierung**: Im Vergleich zur rekursiven Lösung erfordert die iterative Lösung oft mehr Code und eine detailliertere Verwaltung von Schleifen, Indizes und Zwischenvariablen. Dies kann zu einem erhöhten Implementierungsaufwand führen und die Lesbarkeit des Codes beeinträchtigen.\n",
    "\n",
    "Es ist wichtig zu beachten, dass die Wahl zwischen einer rekursiven und einer iterativen Lösung von mehreren Faktoren abhängt, einschließlich der Natur des Problems, der Eingabedaten, der Effizienzanforderungen und der verfügbaren Ressourcen. Es gibt keine eindeutige **\"richtige\" oder \"falsche\"** Lösungsmethode, und die Entscheidung sollte basierend auf den spezifischen Anforderungen und Einschränkungen getroffen werden."
   ]
  },
  {
   "cell_type": "markdown",
   "id": "c2450680",
   "metadata": {},
   "source": [
    "![](teil_7.JPG)"
   ]
  },
  {
   "cell_type": "markdown",
   "id": "1b6df433",
   "metadata": {},
   "source": [
    "![](teil_6.JPG)"
   ]
  },
  {
   "cell_type": "markdown",
   "id": "3007c5d1",
   "metadata": {},
   "source": [
    "##### option_pseudocode_1"
   ]
  },
  {
   "cell_type": "code",
   "execution_count": null,
   "id": "181dec31",
   "metadata": {},
   "outputs": [],
   "source": [
    "void Umrechnung(dezimalzahl: int)\n",
    "BEGIN\n",
    "    rest: int\n",
    "    rest = dezimalzahl modulo 2\n",
    "    AUSGABE(rest)\n",
    "    dezimalzahl = dezimalzahl div 2  # // führt eine Ganzzahldivision durch\n",
    "    WENN dezimalzahl > 0 DANN\n",
    "        Umrechnung(dezimalzahl)\n",
    "    ENDE\n",
    "ENDE\n",
    "\n",
    "# Schreibtischtest\n",
    "# Testfall 1:\n",
    "# Dezimalzahl: 7\n",
    "# Erwartetes Ergebnis: 111\n",
    "# Ergebnis Schreibtischtest: 111\n",
    "Umrechnung(7)  # Ausgabe: 1 1 1\n",
    "\n",
    "# Testfall 2:\n",
    "# Dezimalzahl: 11\n",
    "# Erwartetes Ergebnis: 1011\n",
    "# Ergebnis Schreibtischtest: 1011\n",
    "Umrechnung(11)  # Ausgabe: 1 0 1 1"
   ]
  },
  {
   "cell_type": "markdown",
   "id": "7f0047ed",
   "metadata": {},
   "source": [
    "##### option_pseudocode_2"
   ]
  },
  {
   "cell_type": "code",
   "execution_count": null,
   "id": "4f359407",
   "metadata": {},
   "outputs": [],
   "source": [
    "Klasse Liste:\n",
    "    Prozedur Initialisieren():\n",
    "        Elemente = LeereListe\n",
    "\n",
    "    Prozedur Einfügen(Wert):\n",
    "        Füge Wert zu Elemente hinzu\n",
    "\n",
    "    Funktion Größe():\n",
    "        Gib Länge von Elemente zurück\n",
    "\n",
    "    Funktion Element(Pos):\n",
    "        Gib Element an Position Pos in Elemente zurück\n",
    "\n",
    "Prozedur Umrechnung(dezimalzahl):\n",
    "    liste = Neue Instanz von Liste()\n",
    "\n",
    "    Während dezimalzahl > 0 Mache:\n",
    "        rest = dezimalzahl modulo 2\n",
    "        liste.Einfügen(rest)\n",
    "        dezimalzahl = dezimalzahl div 2\n",
    "\n",
    "    # Gibt die binären Ziffern in umgekehrter Reihenfolge aus (von der letzten zur ersten)\n",
    "    Für i von liste.Größe() - 1 bis 0 in Schritten von -1 Mache:\n",
    "        Schreibe liste.Element(i)\n",
    "\n",
    "# Beispiel für die Verwendung\n",
    "dezimalzahl = 10\n",
    "Umrechnung(dezimalzahl)\n"
   ]
  },
  {
   "cell_type": "markdown",
   "id": "7061ecc7",
   "metadata": {},
   "source": [
    "### My Py Code"
   ]
  },
  {
   "cell_type": "code",
   "execution_count": 15,
   "id": "dc8e1dd4",
   "metadata": {},
   "outputs": [
    {
     "name": "stdout",
     "output_type": "stream",
     "text": [
      "1\n",
      "1\n",
      "1\n",
      "1\n",
      "0\n",
      "1\n",
      "1\n"
     ]
    }
   ],
   "source": [
    "class List:\n",
    "    def __init__(self):\n",
    "        self.elements = []\n",
    "\n",
    "    def insert(self, Wert):\n",
    "        self.elements.append(Wert)\n",
    "\n",
    "    def size(self):\n",
    "        return len(self.elements)\n",
    "\n",
    "    def element(self, Pos):\n",
    "        return self.elements[Pos]\n",
    "\n",
    "def Umrechnung(dezimalzahl):\n",
    "    rest = 0\n",
    "    i = 0\n",
    "    lista = List()\n",
    "    \n",
    "    while dezimalzahl > 0:\n",
    "        rest = dezimalzahl % 2\n",
    "        lista.insert(rest)\n",
    "        dezimalzahl = dezimalzahl // 2\n",
    "    \n",
    "    for i in range(lista.size() - 1, -1, -1):\n",
    "        print(lista.element(i))\n",
    "\n",
    "# Schreibtischtest\n",
    "# Testfall 1:\n",
    "# Dezimalzahl: 7\n",
    "# Erwartetes Ergebnis: 111\n",
    "Umrechnung(7)  # Ausgabe: 111\n",
    "\n",
    "# Testfall 2:\n",
    "# Dezimalzahl: 11\n",
    "# Erwartetes Ergebnis: 1011\n",
    "Umrechnung(11)  # Ausgabe: 1011"
   ]
  },
  {
   "cell_type": "markdown",
   "id": "2597e347",
   "metadata": {},
   "source": [
    "#### f) Implementieren Sie beide Algorithmen in Python, um Ihre Lösungen zu überprüfen. * "
   ]
  },
  {
   "cell_type": "code",
   "execution_count": null,
   "id": "3f72a718",
   "metadata": {},
   "outputs": [],
   "source": [
    "class List:\n",
    "    def __init__(self):\n",
    "        self.elements = []\n",
    "\n",
    "    def Insert(self, Wert):\n",
    "        self.elements.append(Wert)\n",
    "\n",
    "    def size(self):\n",
    "        return len(self.elements)\n",
    "\n",
    "    def Element(self, Pos):\n",
    "        return self.elements[Pos]\n",
    "\n",
    "def Umrechnung(dezimalzahl):\n",
    "    lista = List()\n",
    "\n",
    "    while dezimalzahl > 0:\n",
    "        rest = dezimalzahl % 2\n",
    "        lista.Insert(rest)\n",
    "        dezimalzahl = dezimalzahl // 2\n",
    "\n",
    "    # Druckt die binären Ziffern in umgekehrter Reihenfolge (von der letzten zur ersten)\n",
    "    for i in range(lista.size() - 1, -1, -1):\n",
    "        print(lista.Element(i))\n",
    "\n",
    "# Beispiel für die Verwendung\n",
    "dezimalzahl = 10\n",
    "Umrechnung(dezimalzahl)\n"
   ]
  },
  {
   "cell_type": "markdown",
   "id": "41c8f0f0",
   "metadata": {},
   "source": [
    "#### Notiz"
   ]
  },
  {
   "cell_type": "markdown",
   "id": "cc90bd15",
   "metadata": {},
   "source": [
    "**7 % 2** ergibt 1 als Ergebnis, weil es sich um eine Modulo- oder Restoperation handelt. Bei dieser Operation wird die Zahl 7 durch 2 geteilt, und der Rest der Division wird berechnet.\n",
    "\n",
    "Wenn man 7 durch 2 teilt, erhält man einen Quotienten von 3 und einen Rest von 1. Das bedeutet:\n",
    "\n",
    "**7 geteilt durch 2 ergibt 3 mit einem Rest von 1**.\n",
    "\n",
    "Der Rest ist das Ergebnis der Operation 7 % 2, und in diesem Fall beträgt dieser Rest 1. Zusammengefasst, **7 % 2 ergibt 1**, weil bei der Division von 7 durch 2 ein Rest von 1 bleibt."
   ]
  },
  {
   "cell_type": "code",
   "execution_count": null,
   "id": "46c2245d",
   "metadata": {},
   "outputs": [],
   "source": [
    "7%2"
   ]
  },
  {
   "cell_type": "code",
   "execution_count": null,
   "id": "fa5b7123",
   "metadata": {},
   "outputs": [],
   "source": [
    "7//2"
   ]
  },
  {
   "cell_type": "markdown",
   "id": "b06a44a1",
   "metadata": {},
   "source": [
    "#### Resume: \n",
    "\n",
    "**Algorithmus** für die Klasse **\"List\"**: Dieser Algorithmus definiert eine Klasse namens \"List\" mit Methoden zur Initialisierung einer Liste, zum Einfügen von Elementen, zum Ermitteln der Größe der Liste und zum Abrufen eines Elements an einer bestimmten Position. Obwohl es sich um mehrere Methoden handelt, wird es als ein einziger Algorithmus betrachtet, da alle mit der Funktionalität der Klasse \"List\" zusammenhängen.\n",
    "\n",
    "**Algorithmus** für die binäre Umrechnung **(\"Umrechnung\")**: Dieser Algorithmus akzeptiert eine Dezimalzahl als Eingabe und wandelt diese Zahl in ihre binäre Darstellung um. Er verwendet Schleifen, darunter while und for, um diese Umwandlung durchzuführen, und gibt dann die binären Ziffern in umgekehrter Reihenfolge aus.\n",
    "\n",
    "**Zusammengefasst gibt es zwei Algorithmen im Code**: einen im Zusammenhang mit der Definition der Klasse \"List\" und einen im Zusammenhang mit der Umwandlung von Dezimalzahlen in Binärzahlen."
   ]
  },
  {
   "cell_type": "markdown",
   "id": "64c0cce1",
   "metadata": {},
   "source": [
    "### Pseudo-Beispiele"
   ]
  },
  {
   "cell_type": "markdown",
   "id": "b6b34801",
   "metadata": {},
   "source": [
    "**seudocode** (Pseudocode auf Deutsch oder Pseudocódigo en español) ist eine informelle, halbformale Darstellung eines Algorithmus oder Computerprogramms. Es ist eine Art menschenlesbare Beschreibung des Ablaufs von Aufgaben oder Prozessen, die einem Computer verständlich gemacht werden sollen, bevor sie in einer bestimmten Programmiersprache implementiert werden.\n",
    "\n",
    "**Pseudocode** wird verwendet, um den Algorithmus in einer strukturierten und leicht verständlichen Form zu beschreiben, ohne sich auf die spezifische Syntax einer Programmiersprache festzulegen. Es ist eine Brücke zwischen der menschlichen Denkweise und der Programmierung. Es ermöglicht Programmierern, Probleme zu planen, zu analysieren und zu diskutieren, bevor sie mit der eigentlichen Codierung beginnen.\n",
    "\n",
    "Typischerweise verwendet **Pseudocode** natürliche Sprache, mathematische Notation und einfache Konzepte aus der Programmierung, um den Algorithmus zu beschreiben. Es kann Schlüsselwörter wie \"IF\" (wenn), \"FOR\" (für), \"WHILE\" (solange), \"BEGIN\" (Anfang), \"END\" (Ende) und andere verwenden, um die Struktur des Algorithmus darzustellen.\n",
    "\n",
    "**Pseudocode ist nicht für die Ausführung gedacht, sondern dient dazu, den Ablauf und die Logik eines Algorithmus zu planen und zu kommunizieren**. Es ist ein nützliches Werkzeug für die Entwicklerzusammenarbeit, die Dokumentation von Programmen und die Schulung von Programmieranfängern. Es ermöglicht Entwicklern, Ideen zu skizzieren und zu verfeinern, bevor sie den eigentlichen Code schreiben."
   ]
  },
  {
   "cell_type": "markdown",
   "id": "4a2b313c",
   "metadata": {},
   "source": [
    "![](pseudo_1.PNG)"
   ]
  },
  {
   "cell_type": "markdown",
   "id": "504280ff",
   "metadata": {},
   "source": [
    "![](pseudo_2.PNG)"
   ]
  },
  {
   "cell_type": "markdown",
   "id": "2cb3a057",
   "metadata": {},
   "source": [
    "![](pseudo_3.PNG)"
   ]
  },
  {
   "cell_type": "markdown",
   "id": "fabcc2b9",
   "metadata": {},
   "source": [
    "![](pseudo_4.PNG)"
   ]
  },
  {
   "cell_type": "markdown",
   "id": "813781fa",
   "metadata": {},
   "source": [
    "![](pseudo_py_linked.PNG)"
   ]
  },
  {
   "cell_type": "markdown",
   "id": "b9c8a3b4",
   "metadata": {},
   "source": [
    "![](pseudo_py_linked_1.PNG)"
   ]
  },
  {
   "cell_type": "markdown",
   "id": "b2e0632c",
   "metadata": {},
   "source": [
    "#### Media support "
   ]
  },
  {
   "cell_type": "markdown",
   "id": "c36d12ad",
   "metadata": {},
   "source": [
    "https://www.youtube.com/watch?v=BwQNKiG86Gs"
   ]
  },
  {
   "cell_type": "markdown",
   "id": "254e4ee9",
   "metadata": {},
   "source": [
    "#### Was ist pseudocode?"
   ]
  },
  {
   "cell_type": "markdown",
   "id": "39b1c143",
   "metadata": {},
   "source": [
    "**Pseudocode** ist eine informelle Beschreibung eines Algorithmus, die Elemente aus natürlicher Sprache und Programmiersprachen kombiniert. Es ist eine Möglichkeit, den Algorithmus in einer allgemein verständlichen Form zu skizzieren, ohne auf die spezifische Syntax einer bestimmten Programmiersprache eingehen zu müssen.\n",
    "\n",
    "**Pseudocode** verwendet einfache Konstruktionen, um die Funktionalität des Algorithmus zu beschreiben, wie zum Beispiel Zuweisungen, Schleifen, Bedingungen und Unterprogramme. Es dient dazu, den grundlegenden Ablauf des Algorithmus zu vermitteln und die Logik und Schritte zu verdeutlichen, ohne sich um die Details der tatsächlichen Implementierung in einer bestimmten Programmiersprache zu kümmern.\n",
    "\n",
    "**Pseudocode** ist flexibel und kann an die Bedürfnisse und Präferenzen des Schreibenden angepasst werden. Es ist ein nützliches Werkzeug, um zu planen, zu entwerfen und Algorithmen zu kommunizieren, bevor sie in einer bestimmten Programmiersprache implementiert werden. Pseudocode kann von Entwicklern, Programmierern oder anderen Personen verwendet werden, um einen Algorithmus zu verstehen, zu überprüfen oder zu dokumentieren, ohne auf spezifische Syntaxdetails eingehen zu müssen."
   ]
  },
  {
   "cell_type": "markdown",
   "id": "1e8de147",
   "metadata": {},
   "source": [
    "#### Viel spass!!!"
   ]
  }
 ],
 "metadata": {
  "kernelspec": {
   "display_name": "Python 3 (ipykernel)",
   "language": "python",
   "name": "python3"
  },
  "language_info": {
   "codemirror_mode": {
    "name": "ipython",
    "version": 3
   },
   "file_extension": ".py",
   "mimetype": "text/x-python",
   "name": "python",
   "nbconvert_exporter": "python",
   "pygments_lexer": "ipython3",
   "version": "3.9.13"
  }
 },
 "nbformat": 4,
 "nbformat_minor": 5
}
