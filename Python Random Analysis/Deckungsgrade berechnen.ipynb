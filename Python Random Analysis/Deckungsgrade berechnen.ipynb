{
 "cells": [
  {
   "cell_type": "markdown",
   "id": "de3c3cf7",
   "metadata": {},
   "source": [
    "## L: Deckungsgrade berechnen"
   ]
  },
  {
   "cell_type": "markdown",
   "id": "560245ae",
   "metadata": {},
   "source": [
    " Für ein Zeiterfassungsprogramm soll eine Python-Funktion entwickelt werden, die aus eingegebener Stundenzahl und einem Stundensatz die entstandenen Kosten berechnet: berechne_lohn(wochenarbeitszeit, stundenlohnInEuro) \n",
    "\n",
    "Die angefallenen Zeiten werden wöchentlich erfasst. Die Regelarbeitzeit pro Tag beträgt 8 Stunden. In einer Woche darf die Regelarbeitzeit um maximal 10% überschritten werden. Jede angefangene Stunde wird dabei als volle Stunde gezählt. \n",
    "\n",
    "Eine Ihrere Kolleginnen hat die folgende Python-Funktion auf Basis der Aufgabenbeschreibung implementiert: "
   ]
  },
  {
   "cell_type": "markdown",
   "id": "446282a3",
   "metadata": {},
   "source": [
    "### Deckungsgrade \n",
    "\n",
    "Der Begriff \"Deckungsgrad\" wird im Finanz- und Managementbereich verwendet, um das Maß der Abdeckung oder des Beitrags einer Variablen oder Komponente zu einem Ziel oder zur Rentabilität eines Unternehmens zu beschreiben. Allerdings kann ich ohne weitere spezifische Informationen über ein konkretes Konzept namens \"Deckungsgrad-Analyse\" keine detaillierten Informationen liefern.\n",
    "\n",
    "Im Allgemeinen beinhaltet die Analyse von \"Deckungsgraden\" die Bewertung und Messung, wie verschiedene Komponenten oder Faktoren zur Erreichung eines Ziels oder zur Gesamtrentabilität eines Unternehmens beitragen. Dies kann die Analyse von Einnahmen, Ausgaben, Gewinnmargen, Produktionskosten, Kostenstrukturen und anderen relevanten Aspekten umfassen, um die Abdeckung oder den Beitrag jeder Komponente zu bestimmen.\n",
    "\n",
    "Es ist möglich, dass der Begriff \"Deckungsgrad-Analyse\" in einem spezifischen Kontext oder in Bezug auf einen bestimmten Geschäftsbereich oder eine bestimmte Branche verwendet wird. Wenn du weitere Details oder einen spezifischen Kontext hast, in dem dieser Begriff verwendet wird, kann ich eine präzisere Antwort geben."
   ]
  },
  {
   "cell_type": "markdown",
   "id": "ca8913fa",
   "metadata": {},
   "source": [
    "### Business cases\n",
    "\n",
    "Deckungsgrad im Vertrieb: In einem Vertriebsunternehmen kann der Deckungsgrad dazu verwendet werden, den Beitrag einzelner Produkte oder Produktkategorien zum Gesamtumsatz oder Gewinn zu analysieren. Indem man den Umsatz oder Gewinn eines bestimmten Produkts durch den Gesamtumsatz oder Gewinn des Unternehmens teilt und mit 100 multipliziert, erhält man den Deckungsgrad in Prozent. Dies ermöglicht es, Produkte zu identifizieren, die einen hohen Deckungsgrad haben und somit einen großen Beitrag zur Rentabilität des Unternehmens leisten.\n",
    "\n",
    "\n",
    "\n",
    "Deckungsgrad in der Kostenrechnung: In der Kostenrechnung kann der Deckungsgrad dazu verwendet werden, die Beziehung zwischen den variablen Kosten und den Gesamtkosten eines Produkts oder einer Produktionslinie zu analysieren. Der Deckungsgrad wird berechnet, indem man die Differenz zwischen den Verkaufserlösen und den variablen Kosten durch die Verkaufserlöse dividiert und mit 100 multipliziert. Ein hoher Deckungsgrad zeigt an, dass die Verkaufserlöse die variablen Kosten gut abdecken und somit zur Deckung der Fixkosten und zur Erzielung eines Gewinns beitragen.\n",
    "\n",
    "\n",
    "\n",
    "Diese Beispiele veranschaulichen, wie der Deckungsgrad dazu verwendet werden kann, die Abdeckung oder den Beitrag von Komponenten wie Produkten, Produktkategorien oder Kosten zu analysieren und zu bewerten. Die konkrete Anwendung kann je nach Branche, Unternehmen und Zielsetzung variieren.\n"
   ]
  },
  {
   "cell_type": "code",
   "execution_count": 18,
   "id": "986fe8cb",
   "metadata": {},
   "outputs": [],
   "source": [
    "def berechne_lohn(wochenarbeitszeit, stundenlohnInEuro):\n",
    "    if wochenarbeitszeit < 0 or stundenlohnInEuro < 0:        \n",
    "        raise ValueError('Werte dürfen nicht negativ sein.')          \n",
    "        \n",
    "    if wochenarbeitszeit > 44:        \n",
    "        raise ValueError('Wochenarbeitszeit darf Regelarbeitszeit nicht mehr als 10% übersteigen')  \n",
    "        \n",
    "    if(wochenarbeitszeit > 0 and wochenarbeitszeit < 44):         \n",
    "        return wochenarbeitszeit * stundenlohnInEuro        \n",
    "    \n",
    "    return -1 "
   ]
  },
  {
   "cell_type": "markdown",
   "id": "148ff206",
   "metadata": {},
   "source": [
    "### raise Statement "
   ]
  },
  {
   "cell_type": "markdown",
   "id": "9429be77",
   "metadata": {},
   "source": [
    "In Python wird die Anweisung raise verwendet, um eine Ausnahme (exception) explizit zu erzeugen. Es ermöglicht dem Programmierer, anzugeben, dass eine außergewöhnliche Situation oder ein Fehler im Programm aufgetreten ist und eine entsprechende Ausnahme ausgelöst wird. Das raise wird normalerweise in Verbindung mit der Erstellung von Ausnahmeobjekten verwendet.\n",
    "\n",
    "Die grundlegende Syntax der raise-Anweisung lautet wie folgt:\n",
    "    \n",
    "    raise [Ausnahme]\n",
    "    \n",
    "    "
   ]
  },
  {
   "cell_type": "markdown",
   "id": "ea5c8d68",
   "metadata": {},
   "source": [
    "Hier bezieht sich [Ausnahme] auf den Typ der zu erzeugenden Ausnahme. Es kann sich um ein Objekt handeln, das von der Klasse BaseException oder einer ihrer Unterklassen erbt. Zum Beispiel sind ValueError, TypeError und ZeroDivisionError Beispiele für in Python integrierte Ausnahmen.\n",
    "\n",
    "Es kann auch eine optionale Nachricht bereitgestellt werden, um die spezifische Ausnahme zu beschreiben:\n",
    "\n",
    "\traise [Ausnahme](Nachricht)\n",
    "\n"
   ]
  },
  {
   "cell_type": "markdown",
   "id": "9ee8983a",
   "metadata": {},
   "source": [
    "Hier ist Nachricht ein String, der zusätzliche Informationen über die Ausnahme bereitstellt.\n",
    "\n",
    "Wenn die raise-Anweisung ausgeführt wird, wird eine Ausnahme ausgelöst und der normale Programmfluss wird unterbrochen. Abhängig davon, wie Ausnahmen im Code behandelt werden, wird nach einem entsprechenden try-except-Block gesucht, um die Ausnahme abzufangen und zu behandeln. Wenn kein geeigneter try-except-Block gefunden wird, wird das Programm gestoppt und ein Traceback angezeigt, der die Aufrufsequenz zeigt, die zur Ausnahme geführt hat.\n",
    "\n",
    "Hier ist ein Beispiel für die Verwendung der raise-Anweisung:\n",
    "    \n",
    "def division(a, b):\n",
    "\n",
    "    if b == 0:\n",
    "        raise ValueError(\"Der Divisor darf nicht Null sein.\")\n",
    "    return a / b\n",
    "\n",
    "try:\n",
    "    ergebnis = division(10, 0)\n",
    "    \n",
    "    print(ergebnis)\n",
    "    \n",
    "except ValueError as fehler:\n",
    "\n",
    "    print(\"Fehler:\", str(fehler))\n",
    "    \n",
    "    \n",
    "In diesem Beispiel wird, wenn der Divisor b Null ist, eine ValueError-Ausnahme mit der Nachricht \"Der Divisor darf nicht Null sein.\" ausgelöst. Anschließend wird die Ausnahme im except-Block abgefangen und die entsprechende Fehlermeldung ausgegeben.\n",
    "\n",
    "Die korrekte Verwendung der raise-Anweisung ermöglicht es dem Programmierer, Ausnahmen in seinem Code gezielt und individuell zu steuern und zu behandeln.   \n",
    "    \n",
    "    "
   ]
  },
  {
   "cell_type": "markdown",
   "id": "cb3f61fa",
   "metadata": {},
   "source": [
    "a) Bestimmen Sie die notwendigen Funktionsaufrufe, um eine Anweisungsüberdeckung (C0) von 100% zu erreichen!"
   ]
  },
  {
   "cell_type": "code",
   "execution_count": 4,
   "id": "d8042a41",
   "metadata": {},
   "outputs": [
    {
     "ename": "ValueError",
     "evalue": "Werte dürfen nicht negativ sein.",
     "output_type": "error",
     "traceback": [
      "\u001b[1;31m---------------------------------------------------------------------------\u001b[0m",
      "\u001b[1;31mValueError\u001b[0m                                Traceback (most recent call last)",
      "Cell \u001b[1;32mIn[4], line 3\u001b[0m\n\u001b[0;32m      1\u001b[0m \u001b[38;5;66;03m# if wochenarbeitszeit < 0 or stundenlohnInEuro < 0:        \u001b[39;00m\n\u001b[0;32m      2\u001b[0m \u001b[38;5;66;03m# raise ValueError('Werte dürfen nicht negativ sein.')\u001b[39;00m\n\u001b[1;32m----> 3\u001b[0m \u001b[43mberechne_lohn\u001b[49m\u001b[43m(\u001b[49m\u001b[38;5;241;43m-\u001b[39;49m\u001b[38;5;241;43m1\u001b[39;49m\u001b[43m,\u001b[49m\u001b[38;5;241;43m10.0\u001b[39;49m\u001b[43m)\u001b[49m\n",
      "Cell \u001b[1;32mIn[3], line 3\u001b[0m, in \u001b[0;36mberechne_lohn\u001b[1;34m(wochenarbeitszeit, stundenlohnInEuro)\u001b[0m\n\u001b[0;32m      1\u001b[0m \u001b[38;5;28;01mdef\u001b[39;00m \u001b[38;5;21mberechne_lohn\u001b[39m(wochenarbeitszeit, stundenlohnInEuro):\n\u001b[0;32m      2\u001b[0m     \u001b[38;5;28;01mif\u001b[39;00m wochenarbeitszeit \u001b[38;5;241m<\u001b[39m \u001b[38;5;241m0\u001b[39m \u001b[38;5;129;01mor\u001b[39;00m stundenlohnInEuro \u001b[38;5;241m<\u001b[39m \u001b[38;5;241m0\u001b[39m:        \n\u001b[1;32m----> 3\u001b[0m         \u001b[38;5;28;01mraise\u001b[39;00m \u001b[38;5;167;01mValueError\u001b[39;00m(\u001b[38;5;124m'\u001b[39m\u001b[38;5;124mWerte dürfen nicht negativ sein.\u001b[39m\u001b[38;5;124m'\u001b[39m)          \n\u001b[0;32m      5\u001b[0m     \u001b[38;5;28;01mif\u001b[39;00m wochenarbeitszeit \u001b[38;5;241m>\u001b[39m \u001b[38;5;241m44\u001b[39m:        \n\u001b[0;32m      6\u001b[0m         \u001b[38;5;28;01mraise\u001b[39;00m \u001b[38;5;167;01mValueError\u001b[39;00m(\u001b[38;5;124m'\u001b[39m\u001b[38;5;124mWochenarbeitszeit darf Regelarbeitszeit nicht mehr als 10\u001b[39m\u001b[38;5;124m%\u001b[39m\u001b[38;5;124m übersteigen\u001b[39m\u001b[38;5;124m'\u001b[39m)  \n",
      "\u001b[1;31mValueError\u001b[0m: Werte dürfen nicht negativ sein."
     ]
    }
   ],
   "source": [
    "# if wochenarbeitszeit < 0 or stundenlohnInEuro < 0:        \n",
    "# raise ValueError('Werte dürfen nicht negativ sein.')\n",
    "berechne_lohn(-1,10.0)"
   ]
  },
  {
   "cell_type": "code",
   "execution_count": 5,
   "id": "571ca9c5",
   "metadata": {},
   "outputs": [
    {
     "ename": "ValueError",
     "evalue": "Wochenarbeitszeit darf Regelarbeitszeit nicht mehr als 10% übersteigen",
     "output_type": "error",
     "traceback": [
      "\u001b[1;31m---------------------------------------------------------------------------\u001b[0m",
      "\u001b[1;31mValueError\u001b[0m                                Traceback (most recent call last)",
      "Cell \u001b[1;32mIn[5], line 3\u001b[0m\n\u001b[0;32m      1\u001b[0m \u001b[38;5;66;03m# if wochenarbeitszeit > 44:        \u001b[39;00m\n\u001b[0;32m      2\u001b[0m \u001b[38;5;66;03m# raise ValueError('Wochenarbeitszeit darf Regelarbeitszeit nicht mehr als 10% übersteigen')  \u001b[39;00m\n\u001b[1;32m----> 3\u001b[0m \u001b[43mberechne_lohn\u001b[49m\u001b[43m(\u001b[49m\u001b[38;5;241;43m45\u001b[39;49m\u001b[43m,\u001b[49m\u001b[38;5;241;43m10.0\u001b[39;49m\u001b[43m)\u001b[49m\n",
      "Cell \u001b[1;32mIn[3], line 6\u001b[0m, in \u001b[0;36mberechne_lohn\u001b[1;34m(wochenarbeitszeit, stundenlohnInEuro)\u001b[0m\n\u001b[0;32m      3\u001b[0m     \u001b[38;5;28;01mraise\u001b[39;00m \u001b[38;5;167;01mValueError\u001b[39;00m(\u001b[38;5;124m'\u001b[39m\u001b[38;5;124mWerte dürfen nicht negativ sein.\u001b[39m\u001b[38;5;124m'\u001b[39m)          \n\u001b[0;32m      5\u001b[0m \u001b[38;5;28;01mif\u001b[39;00m wochenarbeitszeit \u001b[38;5;241m>\u001b[39m \u001b[38;5;241m44\u001b[39m:        \n\u001b[1;32m----> 6\u001b[0m     \u001b[38;5;28;01mraise\u001b[39;00m \u001b[38;5;167;01mValueError\u001b[39;00m(\u001b[38;5;124m'\u001b[39m\u001b[38;5;124mWochenarbeitszeit darf Regelarbeitszeit nicht mehr als 10\u001b[39m\u001b[38;5;124m%\u001b[39m\u001b[38;5;124m übersteigen\u001b[39m\u001b[38;5;124m'\u001b[39m)  \n\u001b[0;32m      8\u001b[0m \u001b[38;5;28;01mif\u001b[39;00m(wochenarbeitszeit \u001b[38;5;241m>\u001b[39m \u001b[38;5;241m0\u001b[39m \u001b[38;5;129;01mand\u001b[39;00m wochenarbeitszeit \u001b[38;5;241m<\u001b[39m \u001b[38;5;241m44\u001b[39m):         \n\u001b[0;32m      9\u001b[0m     \u001b[38;5;28;01mreturn\u001b[39;00m wochenarbeitszeit \u001b[38;5;241m*\u001b[39m stundenlohnInEuro        \n",
      "\u001b[1;31mValueError\u001b[0m: Wochenarbeitszeit darf Regelarbeitszeit nicht mehr als 10% übersteigen"
     ]
    }
   ],
   "source": [
    "# if wochenarbeitszeit > 44:        \n",
    "# raise ValueError('Wochenarbeitszeit darf Regelarbeitszeit nicht mehr als 10% übersteigen')  \n",
    "berechne_lohn(45,10.0)"
   ]
  },
  {
   "cell_type": "code",
   "execution_count": 6,
   "id": "39fa6196",
   "metadata": {},
   "outputs": [
    {
     "data": {
      "text/plain": [
       "100.0"
      ]
     },
     "execution_count": 6,
     "metadata": {},
     "output_type": "execute_result"
    }
   ],
   "source": [
    "berechne_lohn(10,10.0)"
   ]
  },
  {
   "cell_type": "code",
   "execution_count": 7,
   "id": "7442c883",
   "metadata": {},
   "outputs": [
    {
     "data": {
      "text/plain": [
       "-1"
      ]
     },
     "execution_count": 7,
     "metadata": {},
     "output_type": "execute_result"
    }
   ],
   "source": [
    "#gibt sie -1 zurück, wenn die Bedingung wahr ist.\n",
    "berechne_lohn(44,10.0)"
   ]
  },
  {
   "cell_type": "markdown",
   "id": "042594c4",
   "metadata": {},
   "source": [
    "#### Notiz: \n",
    "\n",
    "Die Funktion berechne_lohn hat einen Fehler in der Bedingung wochenarbeitszeit > 0 and wochenarbeitszeit < 44. Anstatt das Ergebnis der Berechnung wochenarbeitszeit * stundenlohnInEuro zurückzugeben, gibt sie -1 zurück, wenn die Bedingung wahr ist.\n",
    "\n",
    "def berechne_lohn(wochenarbeitszeit, stundenlohnInEuro):\n",
    "\n",
    "    if wochenarbeitszeit < 0 or stundenlohnInEuro < 0:\n",
    "        raise ValueError('Werte dürfen nicht negativ sein.')\n",
    "\n",
    "    if wochenarbeitszeit > 44:\n",
    "        raise ValueError('Wochenarbeitszeit darf Regelarbeitszeit nicht mehr als 10% übersteigen')\n",
    "\n",
    "    return wochenarbeitszeit * stundenlohnInEuro"
   ]
  },
  {
   "cell_type": "code",
   "execution_count": 8,
   "id": "219a606c",
   "metadata": {},
   "outputs": [
    {
     "data": {
      "text/plain": [
       "430.0"
      ]
     },
     "execution_count": 8,
     "metadata": {},
     "output_type": "execute_result"
    }
   ],
   "source": [
    "# Letzte Anweisung ist zwar sinnlos, aber im Sinne der Anweisungsüberdckung muss nur bewiesen werden, dass sie erreichbar ist. \n",
    "berechne_lohn(43,10.0)"
   ]
  },
  {
   "cell_type": "markdown",
   "id": "fec47f95",
   "metadata": {},
   "source": [
    "b) Um die Anweisungsüberduck automatisch zu testen, soll das Python-Packet \"coverage\" eigesetzt werden. Leider kann damit die Abdeckung von Fehlermeldungen nicht geprüft werden, weil das Programm - wie erwartet - mit einem Fehler abstürzt. Als Lösung sollen die Aufrufe in Unit-Tests verpackt werden und mit Hilfe von Pytest ausgeführt werden. Coverage könnte dadurhc die Testüberdeckung messen."
   ]
  },
  {
   "cell_type": "markdown",
   "id": "9451e16b",
   "metadata": {},
   "source": [
    "#### Notiz"
   ]
  },
  {
   "cell_type": "markdown",
   "id": "2121d1f5",
   "metadata": {},
   "source": [
    "The error message indicates that the XML-RPC search method is no longer supported by PyPI. Instead, it suggests using the website's search functionality at https://pypi.org/search. The XML-RPC API has been deprecated, and you should refer to the documentation at https://warehouse.pypa.io/api-reference/xml-rpc.html#deprecated-methods for more details on the deprecated methods and their alternatives."
   ]
  },
  {
   "cell_type": "code",
   "execution_count": 9,
   "id": "18c49f7e",
   "metadata": {},
   "outputs": [
    {
     "ename": "ModuleNotFoundError",
     "evalue": "No module named 'lohnberechnung'",
     "output_type": "error",
     "traceback": [
      "\u001b[1;31m---------------------------------------------------------------------------\u001b[0m",
      "\u001b[1;31mModuleNotFoundError\u001b[0m                       Traceback (most recent call last)",
      "Cell \u001b[1;32mIn[9], line 1\u001b[0m\n\u001b[1;32m----> 1\u001b[0m \u001b[38;5;28;01mfrom\u001b[39;00m \u001b[38;5;21;01mlohnberechnung\u001b[39;00m \u001b[38;5;28;01mimport\u001b[39;00m berechne_lohn \n",
      "\u001b[1;31mModuleNotFoundError\u001b[0m: No module named 'lohnberechnung'"
     ]
    }
   ],
   "source": [
    "from lohnberechnung import berechne_lohn "
   ]
  },
  {
   "cell_type": "code",
   "execution_count": 10,
   "id": "23f34459",
   "metadata": {},
   "outputs": [],
   "source": [
    "import pytest "
   ]
  },
  {
   "cell_type": "markdown",
   "id": "f851be49",
   "metadata": {},
   "source": [
    "Formulieren Sie bespielhaft - einen Positiv- und  - einen Negativtest!  "
   ]
  },
  {
   "cell_type": "markdown",
   "id": "0e478554",
   "metadata": {},
   "source": [
    "#### positiv"
   ]
  },
  {
   "cell_type": "code",
   "execution_count": 11,
   "id": "24c37a66",
   "metadata": {},
   "outputs": [],
   "source": [
    "def test_berechne_lohn__wird_korrekt_berechnet():\n",
    "    # Arrange    \n",
    "    wochenarbeitszeit = 10     \n",
    "    stundenlohnInEuro = 10.0  \n",
    "    \n",
    "    # Act     \n",
    "    ergebnis = berechne_lohn(wochenarbeitszeit, stundenlohnInEuro) \n",
    "    \n",
    "    # Assert     \n",
    "    assert ergebnis == 100.00 "
   ]
  },
  {
   "cell_type": "code",
   "execution_count": 12,
   "id": "33c37ac4",
   "metadata": {},
   "outputs": [
    {
     "name": "stdout",
     "output_type": "stream",
     "text": [
      "Positive test successful.\n"
     ]
    }
   ],
   "source": [
    "# test the function | no error than is correct! \n",
    "test_berechne_lohn__wird_korrekt_berechnet()\n",
    "print(\"Positive test successful.\")"
   ]
  },
  {
   "cell_type": "markdown",
   "id": "3236cd97",
   "metadata": {},
   "source": [
    "### Test"
   ]
  },
  {
   "cell_type": "markdown",
   "id": "a44229ec",
   "metadata": {},
   "source": [
    "Wenn die Funktion \"berechne_lohn\" korrekt definiert ist und die Parameter \"wochenarbeitszeit\" und \"stundenlohnInEuro\" Standardwerte haben, ist es nicht erforderlich, die Parameter bei Aufruf der Funktion anzugeben.\n",
    "\n",
    "Wenn die Parameter Standardwerte haben, verwendet die Funktion diese Werte, wenn keine Argumente beim Aufruf übergeben werden. In diesem Fall werden die Standardwerte stattdessen verwendet."
   ]
  },
  {
   "cell_type": "code",
   "execution_count": 13,
   "id": "b41c5da7",
   "metadata": {},
   "outputs": [
    {
     "ename": "TypeError",
     "evalue": "test_berechne_lohn__wird_korrekt_berechnet() takes 0 positional arguments but 2 were given",
     "output_type": "error",
     "traceback": [
      "\u001b[1;31m---------------------------------------------------------------------------\u001b[0m",
      "\u001b[1;31mTypeError\u001b[0m                                 Traceback (most recent call last)",
      "Cell \u001b[1;32mIn[13], line 1\u001b[0m\n\u001b[1;32m----> 1\u001b[0m \u001b[43mtest_berechne_lohn__wird_korrekt_berechnet\u001b[49m\u001b[43m(\u001b[49m\u001b[38;5;241;43m10\u001b[39;49m\u001b[43m,\u001b[49m\u001b[38;5;241;43m10\u001b[39;49m\u001b[43m)\u001b[49m\n",
      "\u001b[1;31mTypeError\u001b[0m: test_berechne_lohn__wird_korrekt_berechnet() takes 0 positional arguments but 2 were given"
     ]
    }
   ],
   "source": [
    "test_berechne_lohn__wird_korrekt_berechnet(10,10)"
   ]
  },
  {
   "cell_type": "markdown",
   "id": "19d2b888",
   "metadata": {},
   "source": [
    "### Notiz\n",
    "\n",
    "Je nach Testfall kann es Sinn machen, das erwartete Ergebnis in den Arrange-Block zu schieben.  Hier habe ich mich dagegen entschieden, denn es hätte die Sache nur unnötig kompliziert. "
   ]
  },
  {
   "cell_type": "markdown",
   "id": "1471543f",
   "metadata": {},
   "source": [
    "#### negativ"
   ]
  },
  {
   "cell_type": "code",
   "execution_count": 14,
   "id": "62565d34",
   "metadata": {},
   "outputs": [],
   "source": [
    "def test_berechne_lohn__negative_Eingabe_unmoeglich():     \n",
    "    # Arrange     \n",
    "    wochenarbeitszeit = -1     \n",
    "    stundenlohnInEuro = 10.0          \n",
    "    \n",
    "    # Act     with pytest.raises(ValueError):         \n",
    "    ergebnis = berechne_lohn(wochenarbeitszeit, stundenlohnInEuro)"
   ]
  },
  {
   "cell_type": "code",
   "execution_count": 15,
   "id": "ee1ee6b4",
   "metadata": {},
   "outputs": [
    {
     "ename": "ValueError",
     "evalue": "Werte dürfen nicht negativ sein.",
     "output_type": "error",
     "traceback": [
      "\u001b[1;31m---------------------------------------------------------------------------\u001b[0m",
      "\u001b[1;31mValueError\u001b[0m                                Traceback (most recent call last)",
      "Cell \u001b[1;32mIn[15], line 2\u001b[0m\n\u001b[0;32m      1\u001b[0m \u001b[38;5;66;03m# test the function | no error than is correct! \u001b[39;00m\n\u001b[1;32m----> 2\u001b[0m \u001b[43mtest_berechne_lohn__negative_Eingabe_unmoeglich\u001b[49m\u001b[43m(\u001b[49m\u001b[43m)\u001b[49m\n\u001b[0;32m      3\u001b[0m \u001b[38;5;28mprint\u001b[39m(\u001b[38;5;124m\"\u001b[39m\u001b[38;5;124mNegative test successful.\u001b[39m\u001b[38;5;124m\"\u001b[39m)\n",
      "Cell \u001b[1;32mIn[14], line 7\u001b[0m, in \u001b[0;36mtest_berechne_lohn__negative_Eingabe_unmoeglich\u001b[1;34m()\u001b[0m\n\u001b[0;32m      4\u001b[0m stundenlohnInEuro \u001b[38;5;241m=\u001b[39m \u001b[38;5;241m10.0\u001b[39m          \n\u001b[0;32m      6\u001b[0m \u001b[38;5;66;03m# Act     with pytest.raises(ValueError):         \u001b[39;00m\n\u001b[1;32m----> 7\u001b[0m ergebnis \u001b[38;5;241m=\u001b[39m \u001b[43mberechne_lohn\u001b[49m\u001b[43m(\u001b[49m\u001b[43mwochenarbeitszeit\u001b[49m\u001b[43m,\u001b[49m\u001b[43m \u001b[49m\u001b[43mstundenlohnInEuro\u001b[49m\u001b[43m)\u001b[49m\n",
      "Cell \u001b[1;32mIn[3], line 3\u001b[0m, in \u001b[0;36mberechne_lohn\u001b[1;34m(wochenarbeitszeit, stundenlohnInEuro)\u001b[0m\n\u001b[0;32m      1\u001b[0m \u001b[38;5;28;01mdef\u001b[39;00m \u001b[38;5;21mberechne_lohn\u001b[39m(wochenarbeitszeit, stundenlohnInEuro):\n\u001b[0;32m      2\u001b[0m     \u001b[38;5;28;01mif\u001b[39;00m wochenarbeitszeit \u001b[38;5;241m<\u001b[39m \u001b[38;5;241m0\u001b[39m \u001b[38;5;129;01mor\u001b[39;00m stundenlohnInEuro \u001b[38;5;241m<\u001b[39m \u001b[38;5;241m0\u001b[39m:        \n\u001b[1;32m----> 3\u001b[0m         \u001b[38;5;28;01mraise\u001b[39;00m \u001b[38;5;167;01mValueError\u001b[39;00m(\u001b[38;5;124m'\u001b[39m\u001b[38;5;124mWerte dürfen nicht negativ sein.\u001b[39m\u001b[38;5;124m'\u001b[39m)          \n\u001b[0;32m      5\u001b[0m     \u001b[38;5;28;01mif\u001b[39;00m wochenarbeitszeit \u001b[38;5;241m>\u001b[39m \u001b[38;5;241m44\u001b[39m:        \n\u001b[0;32m      6\u001b[0m         \u001b[38;5;28;01mraise\u001b[39;00m \u001b[38;5;167;01mValueError\u001b[39;00m(\u001b[38;5;124m'\u001b[39m\u001b[38;5;124mWochenarbeitszeit darf Regelarbeitszeit nicht mehr als 10\u001b[39m\u001b[38;5;124m%\u001b[39m\u001b[38;5;124m übersteigen\u001b[39m\u001b[38;5;124m'\u001b[39m)  \n",
      "\u001b[1;31mValueError\u001b[0m: Werte dürfen nicht negativ sein."
     ]
    }
   ],
   "source": [
    "# test the function | no error than is correct! \n",
    "test_berechne_lohn__negative_Eingabe_unmoeglich()\n",
    "print(\"Negative test successful.\")"
   ]
  },
  {
   "cell_type": "markdown",
   "id": "385fa7e7",
   "metadata": {},
   "source": [
    "### Notiz: \n",
    "Negativtests benötigen nicht zwingend einen Assert-Block.  Wir könnten einen Assert-Block nutzen, um z.B. die exakte Fehlermeldung vorzugeben.Bsp:  with pytest.raises(ValueError) as fehlerinfo: ...     raise ValueError(\"value must be 42\")    assert fehlerinfo.type is ValueError   assert fehlerinfo.value.args[0] == \"value must be 42\" "
   ]
  },
  {
   "cell_type": "markdown",
   "id": "67054dfe",
   "metadata": {},
   "source": [
    "### Python training \n",
    "\n",
    "Hier sind einige Websites, auf denen du mit Python-Funktionsübungen arbeiten und üben kannst:\n",
    "\n",
    "Exercism (https://exercism.io/tracks/python): Exercism bietet eine Vielzahl von Programmierübungen in Python an, einschließlich spezifischer Übungen zu Funktionen. Du kannst die Probleme lösen und Feedback von der Community erhalten.\n",
    "\n",
    "CodingBat (https://codingbat.com/python): CodingBat bietet Programmierübungen in Python an, darunter einen speziellen Abschnitt für Funktionen. Du kannst verschiedene Konzepte und Herausforderungen im Zusammenhang mit Funktionen üben.\n",
    "\n",
    "HackerRank (https://www.hackerrank.com/domains/tutorials/10-days-of-statistics): HackerRank bietet eine Vielzahl von Programmieraufgaben in Python an, einschließlich Herausforderungen im Zusammenhang mit Funktionen. Du kannst Probleme lösen und deine Lösungen mit anderen Programmierern vergleichen.\n",
    "\n",
    "Project Euler (https://projecteuler.net/archives): Project Euler ist ein Projekt, das mathematische und programmierbezogene Herausforderungen bietet. Obwohl es nicht speziell auf Funktionen ausgerichtet ist, erfordern viele der Probleme die Implementierung von Funktionen, um sie zu lösen.\n",
    "\n",
    "LeetCode (https://leetcode.com/problemset/all/): LeetCode ist eine Plattform für Programmieraufgaben, die auch Probleme in Python enthält. Du kannst üben und deine Programmierfähigkeiten verbessern, einschließlich dem Einsatz von Funktionen.\n",
    "\n",
    "Dies sind nur einige Optionen, aber es gibt viele weitere online verfügbare Ressourcen. Durchsuche diese Websites und wähle diejenige aus, die am besten zu deinen Bedürfnissen und deinem Kenntnisstand passt. Viel Spaß beim Lösen von Problemen und beim Verbessern deiner Programmierfähigkeiten mit Funktionen in Python!"
   ]
  },
  {
   "cell_type": "markdown",
   "id": "3f3524ad",
   "metadata": {},
   "source": [
    "### Certification\n",
    "\n",
    "https://info.credly.com/"
   ]
  },
  {
   "cell_type": "markdown",
   "id": "8daef10b",
   "metadata": {},
   "source": [
    "#### KI support \n",
    "\n",
    "https://poe.com/login\n",
    "\n",
    "https://heypi.com/es/talk"
   ]
  },
  {
   "cell_type": "markdown",
   "id": "775fc6fd",
   "metadata": {},
   "source": [
    "#### viel Erfolg!!!"
   ]
  }
 ],
 "metadata": {
  "kernelspec": {
   "display_name": "Python 3 (ipykernel)",
   "language": "python",
   "name": "python3"
  },
  "language_info": {
   "codemirror_mode": {
    "name": "ipython",
    "version": 3
   },
   "file_extension": ".py",
   "mimetype": "text/x-python",
   "name": "python",
   "nbconvert_exporter": "python",
   "pygments_lexer": "ipython3",
   "version": "3.9.13"
  }
 },
 "nbformat": 4,
 "nbformat_minor": 5
}
