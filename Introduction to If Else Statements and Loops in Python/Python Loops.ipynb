{
 "cells": [
  {
   "cell_type": "markdown",
   "id": "358d41b0",
   "metadata": {},
   "source": [
    "# What are loops?\n",
    "\n",
    "**A loop is an instruction that repeats multiple times as long as some condition is met**\n",
    "\n",
    "**while loop** (is used to repeat a section of code an unknow number of time until a specific condition is met)\n",
    "\n",
    "**for loop** (is used to iterate over a sequence, which could be a list, tuple, array or a string)\n",
    "\n",
    "**nested loop** (Python allows loops to be nested in loops)\n",
    "\t\n",
    "    \t* for in for\n",
    "        \tfor var1 in seq1\n",
    "            \tf or var2 in seq2\n",
    "                \tstatement(s)\n",
    "                    \n",
    "                    \n",
    "        * for in while\n",
    "        \twhile condition1:\n",
    "            \tfor var1 in seq1:\n",
    "                \tstatement(s)\n",
    "                    \n",
    "                       \n",
    "         * while in while\n",
    "         \twhile condition1:\n",
    "              while condition2:\n",
    "              \tstatement(s)\n",
    "                \n",
    "                \n",
    "         * while in for\n",
    "         \tfor var1 in seq1:\n",
    "            \twhile condition1:\n",
    "                \tstatement(s)\n",
    "                \n",
    " \n",
    " \n",
    " \n",
    " \n",
    " \n",
    "**Example**                    \n",
    "                    \n",
    "Jake wants to print his name 10 times.\n",
    "\n",
    "option1:\n",
    "\n",
    "PRINT(\"JAKE\")\n",
    "\n",
    "PRINT(\"JAKE\")\n",
    "\n",
    "PRINT(\"JAKE\")\n",
    "\n",
    "PRINT(\"JAKE\")\n",
    "\n",
    "PRINT(\"JAKE\")\n",
    "\n",
    "PRINT(\"JAKE\")\n",
    "\n",
    "PRINT(\"JAKE\")\n",
    "\n",
    "PRINT(\"JAKE\")\n",
    "\n",
    "PRINT(\"JAKE\")\n",
    "\n",
    "PRINT(\"JAKE\")\n",
    "\n",
    "OR\n",
    "\n",
    "PRINT(\"JAKE\") loop option."
   ]
  },
  {
   "cell_type": "markdown",
   "id": "7f7322f6",
   "metadata": {},
   "source": [
    "### How while loops works"
   ]
  },
  {
   "cell_type": "code",
   "execution_count": 13,
   "id": "f2e54518",
   "metadata": {},
   "outputs": [
    {
     "name": "stdout",
     "output_type": "stream",
     "text": [
      "Enter a multiple of 7 9\n",
      "Enter a multiple of 76\n",
      "Enter a multiple of 78\n",
      "Enter a multiple of 75\n",
      "Enter a multiple of 74\n",
      "Enter a multiple of 73\n",
      "Enter a multiple of 77\n",
      "7 is a multiple os 7\n"
     ]
    }
   ],
   "source": [
    "val= int(input(\"Enter a multiple of 7 \" ))\n",
    "while val%7 !=0:\n",
    "\tval= int(input(\"Enter a multiple of 7\"))\n",
    "else:\n",
    "    print(\"%d is a multiple os 7\" %val)"
   ]
  },
  {
   "cell_type": "markdown",
   "id": "75a01822",
   "metadata": {},
   "source": [
    "### How for loop works"
   ]
  },
  {
   "cell_type": "code",
   "execution_count": 14,
   "id": "4a17edf8",
   "metadata": {},
   "outputs": [
    {
     "name": "stdout",
     "output_type": "stream",
     "text": [
      "1\n",
      "6\n",
      "LearningPython\n"
     ]
    }
   ],
   "source": [
    "x = [1,6,\"LearningPython\"]\n",
    "for i in x:\n",
    "    print(i)"
   ]
  },
  {
   "cell_type": "code",
   "execution_count": 15,
   "id": "df90ca56",
   "metadata": {},
   "outputs": [
    {
     "name": "stdout",
     "output_type": "stream",
     "text": [
      "L\n",
      "e\n",
      "a\n",
      "r\n",
      "n\n",
      "i\n",
      "n\n",
      "g\n",
      "P\n",
      "y\n",
      "t\n",
      "h\n",
      "o\n",
      "n\n"
     ]
    }
   ],
   "source": [
    "x = \"LearningPython\" #secuence\n",
    "for i in x:\n",
    "    print(i)"
   ]
  },
  {
   "cell_type": "code",
   "execution_count": 16,
   "id": "252060c4",
   "metadata": {},
   "outputs": [
    {
     "name": "stdout",
     "output_type": "stream",
     "text": [
      "1\n",
      "2\n",
      "3\n",
      "a\n",
      "b\n",
      "c\n"
     ]
    }
   ],
   "source": [
    "y = [[1,2,3], [\"a\",\"b\",\"c\"]]\n",
    "for i in y:\n",
    "    for j in i:\n",
    "        print(j)"
   ]
  },
  {
   "cell_type": "code",
   "execution_count": 17,
   "id": "f26c4f15",
   "metadata": {},
   "outputs": [
    {
     "name": "stdout",
     "output_type": "stream",
     "text": [
      "123abc"
     ]
    }
   ],
   "source": [
    "y = [[1,2,3], [\"a\",\"b\",\"c\"]]\n",
    "for i in y:\n",
    "    for j in i:\n",
    "        print(j, end=\"\")"
   ]
  },
  {
   "cell_type": "code",
   "execution_count": 18,
   "id": "0c5b06b4",
   "metadata": {},
   "outputs": [
    {
     "name": "stdout",
     "output_type": "stream",
     "text": [
      "123\n",
      "abc\n"
     ]
    }
   ],
   "source": [
    "y = [[1,2,3], [\"a\",\"b\",\"c\"]]\n",
    "for i in y:\n",
    "    for j in i:\n",
    "        print(j, end=\"\")\n",
    "    print()"
   ]
  },
  {
   "cell_type": "markdown",
   "id": "04cfdaf8",
   "metadata": {},
   "source": [
    "**Loop control statements** (control statements alter the regular flow of a loop)\n",
    "\t\n",
    "**BREAK**: Transfers control to the statement right after the loop\n",
    "    "
   ]
  },
  {
   "cell_type": "code",
   "execution_count": 19,
   "id": "59745dae",
   "metadata": {},
   "outputs": [
    {
     "name": "stdout",
     "output_type": "stream",
     "text": [
      "H\n",
      "e\n",
      "y\n",
      " \n",
      "D\n",
      "u\n"
     ]
    }
   ],
   "source": [
    "Z = \"Hey Du, wie geht es Dir?\"\n",
    "for i in Z:\n",
    "    if i == \",\":\n",
    "        break\n",
    "    print(i)"
   ]
  },
  {
   "cell_type": "code",
   "execution_count": 20,
   "id": "88700372",
   "metadata": {},
   "outputs": [
    {
     "name": "stdout",
     "output_type": "stream",
     "text": [
      "Hey Du"
     ]
    }
   ],
   "source": [
    "Z = \"Hey Du, wie geht es Dir?\"\n",
    "for i in Z:\n",
    "    if i == \",\":\n",
    "        break\n",
    "    print(i, end=\"\")"
   ]
  },
  {
   "cell_type": "code",
   "execution_count": 21,
   "id": "6cb28b43",
   "metadata": {},
   "outputs": [
    {
     "name": "stdout",
     "output_type": "stream",
     "text": [
      "Hey Du, wie geht es Dir"
     ]
    }
   ],
   "source": [
    "Z = \"Hey Du, wie geht es Dir?\"\n",
    "for i in Z:\n",
    "    if i == \"?\":\n",
    "        break\n",
    "    print(i, end=\"\")"
   ]
  },
  {
   "cell_type": "markdown",
   "id": "c68aeba5",
   "metadata": {},
   "source": [
    "**Loop control statements** (control statements alter the regular flow of a loop)\n",
    "\n",
    "**CONTINUE** (SKIPS the statements following it and return control to the beginning of the loops)"
   ]
  },
  {
   "cell_type": "code",
   "execution_count": 33,
   "id": "9cfd9ecc",
   "metadata": {},
   "outputs": [
    {
     "name": "stdout",
     "output_type": "stream",
     "text": [
      "1\n",
      "4\n",
      "6\n"
     ]
    }
   ],
   "source": [
    "for i in [1,13,56,4,6]:\n",
    "\tif i>10:\n",
    "\t\tcontinue\n",
    "\tprint(i)"
   ]
  },
  {
   "cell_type": "code",
   "execution_count": 34,
   "id": "cd78cd69",
   "metadata": {},
   "outputs": [
    {
     "name": "stdout",
     "output_type": "stream",
     "text": [
      "146"
     ]
    }
   ],
   "source": [
    "for i in [1,13,56,4,6]:\n",
    "\tif i>10:\n",
    "\t\tcontinue\n",
    "\tprint(i, end=\"\")"
   ]
  },
  {
   "cell_type": "code",
   "execution_count": null,
   "id": "67c2d60c",
   "metadata": {},
   "outputs": [],
   "source": []
  },
  {
   "cell_type": "code",
   "execution_count": null,
   "id": "c85f69ee",
   "metadata": {},
   "outputs": [],
   "source": []
  }
 ],
 "metadata": {
  "kernelspec": {
   "display_name": "Python 3 (ipykernel)",
   "language": "python",
   "name": "python3"
  },
  "language_info": {
   "codemirror_mode": {
    "name": "ipython",
    "version": 3
   },
   "file_extension": ".py",
   "mimetype": "text/x-python",
   "name": "python",
   "nbconvert_exporter": "python",
   "pygments_lexer": "ipython3",
   "version": "3.8.3"
  }
 },
 "nbformat": 4,
 "nbformat_minor": 5
}
