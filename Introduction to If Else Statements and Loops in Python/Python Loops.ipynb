{
 "cells": [
  {
   "cell_type": "markdown",
   "id": "57192996",
   "metadata": {},
   "source": [
    "# For loop  \n",
    "\n",
    "* Is used to iterate over a sequence, which could be a list, tuple, array or a string "
   ]
  },
  {
   "cell_type": "code",
   "execution_count": 1,
   "id": "8abf38cc",
   "metadata": {},
   "outputs": [
    {
     "name": "stdout",
     "output_type": "stream",
     "text": [
      "1 4.2 LearningPython\n"
     ]
    }
   ],
   "source": [
    "x = [1,4.2,\"LearningPython\"]\n",
    "print(x[0],x[1],x[2])\n"
   ]
  },
  {
   "cell_type": "markdown",
   "id": "0b6fe321",
   "metadata": {},
   "source": [
    "#### same but with for loop"
   ]
  },
  {
   "cell_type": "code",
   "execution_count": 2,
   "id": "ecd7bb50",
   "metadata": {},
   "outputs": [
    {
     "name": "stdout",
     "output_type": "stream",
     "text": [
      "1\n",
      "4.2\n",
      "LearningPython\n"
     ]
    }
   ],
   "source": [
    "# 1 Example\n",
    "x = [1,4.2,\"LearningPython\"]\n",
    "\n",
    "for i in x:\n",
    "    print(i)"
   ]
  },
  {
   "cell_type": "code",
   "execution_count": 3,
   "id": "3c069b5b",
   "metadata": {},
   "outputs": [
    {
     "name": "stdout",
     "output_type": "stream",
     "text": [
      "L\n",
      "e\n",
      "a\n",
      "r\n",
      "n\n",
      "i\n",
      "n\n",
      "g\n",
      "P\n",
      "y\n",
      "t\n",
      "h\n",
      "o\n",
      "n\n"
     ]
    }
   ],
   "source": [
    "# 2 Example\n",
    "y = \"LearningPython\"\n",
    "\n",
    "for i in y:\n",
    "    print(i)"
   ]
  },
  {
   "cell_type": "code",
   "execution_count": 4,
   "id": "06f79338",
   "metadata": {},
   "outputs": [
    {
     "name": "stdout",
     "output_type": "stream",
     "text": [
      "LearningPython"
     ]
    }
   ],
   "source": [
    "# 3 Example\n",
    "y = \"LearningPython\"\n",
    "for i in y:\n",
    "    print(i, end='')"
   ]
  },
  {
   "cell_type": "code",
   "execution_count": 5,
   "id": "5db023cb",
   "metadata": {},
   "outputs": [
    {
     "name": "stdout",
     "output_type": "stream",
     "text": [
      "0\n",
      "1\n",
      "2\n",
      "3\n",
      "4\n",
      "5\n",
      "6\n",
      "7\n",
      "8\n",
      "9\n",
      "10\n",
      "11\n",
      "12\n",
      "13\n",
      "14\n",
      "15\n",
      "16\n",
      "17\n",
      "18\n",
      "19\n",
      "20\n"
     ]
    }
   ],
   "source": [
    "# 4 Example\n",
    "for i in range(0,21): #f we want 20 include it? then 21 \n",
    "\tprint(i)\n"
   ]
  },
  {
   "cell_type": "code",
   "execution_count": 6,
   "id": "c9531845",
   "metadata": {},
   "outputs": [
    {
     "name": "stdout",
     "output_type": "stream",
     "text": [
      "0\n",
      "2\n",
      "4\n",
      "6\n",
      "8\n",
      "10\n",
      "12\n",
      "14\n",
      "16\n",
      "18\n",
      "20\n"
     ]
    }
   ],
   "source": [
    "# 5 example\n",
    "for i in range(0,21,2): #values multiplos of 2 / even numbers\n",
    "    print(i)\n",
    "    "
   ]
  },
  {
   "cell_type": "code",
   "execution_count": 7,
   "id": "8d1e1ab7",
   "metadata": {},
   "outputs": [
    {
     "name": "stdout",
     "output_type": "stream",
     "text": [
      "110\n"
     ]
    }
   ],
   "source": [
    "# 6 example\n",
    "sum=0\n",
    "\n",
    "for i in range(0,21):\n",
    "\tif i%2==0:\n",
    "\t\tsum=sum+i\n",
    "print(sum)\n",
    "       "
   ]
  },
  {
   "cell_type": "code",
   "execution_count": 8,
   "id": "e41f95fb",
   "metadata": {},
   "outputs": [
    {
     "name": "stdout",
     "output_type": "stream",
     "text": [
      "Enter a number 4\n",
      "\n",
      "1\n",
      "12\n",
      "123\n"
     ]
    }
   ],
   "source": [
    "# 7 Example\n",
    "\n",
    "#    1\n",
    "\n",
    "#    12\n",
    "#    123\n",
    "#    1234\n",
    "#    12345\n",
    "\n",
    "n= int(input(\"Enter a number \" ))\n",
    "for i in range(1,n+1):\n",
    "    for j in range(1,i):\n",
    "        print(j,end='')\n",
    "    print()"
   ]
  },
  {
   "cell_type": "code",
   "execution_count": 9,
   "id": "a87debb5",
   "metadata": {},
   "outputs": [
    {
     "name": "stdout",
     "output_type": "stream",
     "text": [
      "Enter number of rows2\n",
      "Enter number of columns2\n",
      "Enter the 0 * 0 element1\n",
      "Enter the 0 * 1 element2\n",
      "Enter the 1 * 0 element3\n",
      "Enter the 1 * 1 element4\n",
      "Enter the 0 * 0 element5\n",
      "Enter the 0 * 1 element6\n",
      "Enter the 1 * 0 element7\n",
      "Enter the 1 * 1 element8\n",
      "[[6, 8], [10, 12]]\n"
     ]
    }
   ],
   "source": [
    "# 8 Example\n",
    "\n",
    "r = int(input(\"Enter number of rows\"))\n",
    "c = int(input(\"Enter number of columns\"))\n",
    "\n",
    "#empty list\n",
    "x = []\n",
    "val=[]\n",
    "\n",
    "# for loop\n",
    "for i in range(0,r):\n",
    "    for j in range(0,c):\n",
    "        val.insert(j,int(input(\"Enter the %d * %d element\" %(i,j))))\n",
    "    x.insert(i,val)\n",
    "    val=[]\n",
    "\n",
    "e = []\n",
    "\n",
    "# for loop\n",
    "for i in range(0,r):\n",
    "    for j in range(0,c):\n",
    "        val.insert(j,int(input(\"Enter the %d * %d element\" %(i,j))))\n",
    "    e.insert(i,val)\n",
    "    val=[]\n",
    "sum=[]\n",
    "\n",
    "for i in range(0,r):\n",
    "    for j in range(0,c):\n",
    "        val.insert(j, x[i][j] + e[i][j])\n",
    "    sum.insert(i,val)\n",
    "    val=[]\n",
    "print(sum)"
   ]
  },
  {
   "cell_type": "code",
   "execution_count": null,
   "id": "c0ca88f9",
   "metadata": {},
   "outputs": [],
   "source": []
  }
 ],
 "metadata": {
  "kernelspec": {
   "display_name": "Python 3 (ipykernel)",
   "language": "python",
   "name": "python3"
  },
  "language_info": {
   "codemirror_mode": {
    "name": "ipython",
    "version": 3
   },
   "file_extension": ".py",
   "mimetype": "text/x-python",
   "name": "python",
   "nbconvert_exporter": "python",
   "pygments_lexer": "ipython3",
   "version": "3.8.3"
  }
 },
 "nbformat": 4,
 "nbformat_minor": 5
}
