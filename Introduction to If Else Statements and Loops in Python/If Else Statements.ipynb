{
 "cells": [
  {
   "cell_type": "markdown",
   "id": "10617579",
   "metadata": {},
   "source": [
    "# If Statements"
   ]
  },
  {
   "cell_type": "code",
   "execution_count": 1,
   "id": "25fbb2f8",
   "metadata": {},
   "outputs": [
    {
     "name": "stdout",
     "output_type": "stream",
     "text": [
      "This is outside the if block\n"
     ]
    }
   ],
   "source": [
    "a = 20\n",
    "if a>50:\n",
    "    print(\"This is the if body\")\n",
    "print(\"This is outside the if block\")"
   ]
  },
  {
   "cell_type": "code",
   "execution_count": 2,
   "id": "bed21afa",
   "metadata": {},
   "outputs": [
    {
     "name": "stdout",
     "output_type": "stream",
     "text": [
      "This is the if body\n",
      "This is outside the if block\n"
     ]
    }
   ],
   "source": [
    "a = 60\n",
    "if a>50:\n",
    "    print(\"This is the if body\")\n",
    "print(\"This is outside the if block\")"
   ]
  },
  {
   "cell_type": "markdown",
   "id": "5dd4ce00",
   "metadata": {},
   "source": [
    "# If Else Statement"
   ]
  },
  {
   "cell_type": "code",
   "execution_count": 3,
   "id": "0f1ca94f",
   "metadata": {},
   "outputs": [
    {
     "name": "stdout",
     "output_type": "stream",
     "text": [
      "This is the if block\n",
      "i is an even number\n"
     ]
    }
   ],
   "source": [
    "i = 20\n",
    "if i%2==0:\n",
    "    print(\"This is the if block\")\n",
    "    print(\"i is an even number\")\n",
    "else:\n",
    "    print(\"This is the else block\")\n",
    "    print(\"i is an odd number\")"
   ]
  },
  {
   "cell_type": "code",
   "execution_count": 4,
   "id": "8f3e8b3e",
   "metadata": {},
   "outputs": [
    {
     "name": "stdout",
     "output_type": "stream",
     "text": [
      "This is the else block\n",
      "i is an odd number\n"
     ]
    }
   ],
   "source": [
    "i = 23\n",
    "if i%2==0:\n",
    "    print(\"This is the if block\")\n",
    "    print(\"i is an even number\")\n",
    "else:\n",
    "    print(\"This is the else block\")\n",
    "    print(\"i is an odd number\")"
   ]
  },
  {
   "cell_type": "markdown",
   "id": "e4958387",
   "metadata": {},
   "source": [
    "# Nested if Statement"
   ]
  },
  {
   "cell_type": "code",
   "execution_count": 5,
   "id": "2942f585",
   "metadata": {},
   "outputs": [
    {
     "name": "stdout",
     "output_type": "stream",
     "text": [
      "c is an odd number less than 25\n"
     ]
    }
   ],
   "source": [
    "c = 21\n",
    "if c<25:\n",
    "    if c%2==0:\n",
    "        print(\"c is an even number less than 25\")\n",
    "    else:\n",
    "        print(\"c is an odd number less than 25\")\n",
    "else:\n",
    "    print(\"c is greater than 25\")\n",
    "      "
   ]
  },
  {
   "cell_type": "code",
   "execution_count": 6,
   "id": "0890e870",
   "metadata": {},
   "outputs": [
    {
     "name": "stdout",
     "output_type": "stream",
     "text": [
      "c is an even number less than 25\n"
     ]
    }
   ],
   "source": [
    "c = 22\n",
    "if c<25:\n",
    "    if c%2==0:\n",
    "        print(\"c is an even number less than 25\")\n",
    "    else:\n",
    "        print(\"c is an odd number less than 25\")\n",
    "else:\n",
    "    print(\"c is greater than 25\")"
   ]
  },
  {
   "cell_type": "code",
   "execution_count": 7,
   "id": "059e16c6",
   "metadata": {},
   "outputs": [
    {
     "name": "stdout",
     "output_type": "stream",
     "text": [
      "c is greater than 25\n"
     ]
    }
   ],
   "source": [
    "c = 50\n",
    "if c<25:\n",
    "    if c%2==0:\n",
    "        print(\"c is an even number less than 25\")\n",
    "    else:\n",
    "        print(\"c is an odd number less than 25\")\n",
    "else:\n",
    "    print(\"c is greater than 25\")"
   ]
  },
  {
   "cell_type": "markdown",
   "id": "75d53cdc",
   "metadata": {},
   "source": [
    "# If-Elif-Else ladder"
   ]
  },
  {
   "cell_type": "code",
   "execution_count": 9,
   "id": "228e18e7",
   "metadata": {},
   "outputs": [
    {
     "name": "stdout",
     "output_type": "stream",
     "text": [
      "This is a consonant\n"
     ]
    }
   ],
   "source": [
    "var = \"z\"\n",
    "if var=='a':\n",
    "    print(\"This is the vowel a\")\n",
    "elif var=='e':\n",
    "    print(\"This is the vowel e\")\n",
    "elif var=='i':\n",
    "    print(\"This is the vowel i\")\n",
    "elif var=='o':\n",
    "    print(\"This is the vowel o\")\n",
    "elif var=='u':\n",
    "    print(\"This is the vowel u\")\n",
    "else:\n",
    "    print(\"This is a consonant\")"
   ]
  },
  {
   "cell_type": "code",
   "execution_count": 10,
   "id": "da8e4e7b",
   "metadata": {},
   "outputs": [
    {
     "name": "stdout",
     "output_type": "stream",
     "text": [
      "This is the vowel a\n"
     ]
    }
   ],
   "source": [
    "var = \"a\"\n",
    "if var=='a':\n",
    "    print(\"This is the vowel a\")\n",
    "elif var=='e':\n",
    "    print(\"This is the vowel e\")\n",
    "elif var=='i':\n",
    "    print(\"This is the vowel i\")\n",
    "elif var=='o':\n",
    "    print(\"This is the vowel o\")\n",
    "elif var=='u':\n",
    "    print(\"This is the vowel u\")\n",
    "else:\n",
    "    print(\"This is a consonant\")"
   ]
  },
  {
   "cell_type": "code",
   "execution_count": 11,
   "id": "783629ad",
   "metadata": {},
   "outputs": [
    {
     "name": "stdout",
     "output_type": "stream",
     "text": [
      "This is the vowel e\n"
     ]
    }
   ],
   "source": [
    "var = \"e\"\n",
    "if var=='a':\n",
    "    print(\"This is the vowel a\")\n",
    "elif var=='e':\n",
    "    print(\"This is the vowel e\")\n",
    "elif var=='i':\n",
    "    print(\"This is the vowel i\")\n",
    "elif var=='o':\n",
    "    print(\"This is the vowel o\")\n",
    "elif var=='u':\n",
    "    print(\"This is the vowel u\")\n",
    "else:\n",
    "    print(\"This is a consonant\")"
   ]
  },
  {
   "cell_type": "code",
   "execution_count": 12,
   "id": "e06323d0",
   "metadata": {},
   "outputs": [
    {
     "name": "stdout",
     "output_type": "stream",
     "text": [
      "This is the vowel i\n"
     ]
    }
   ],
   "source": [
    "var = \"i\"\n",
    "if var=='a':\n",
    "    print(\"This is the vowel a\")\n",
    "elif var=='e':\n",
    "    print(\"This is the vowel e\")\n",
    "elif var=='i':\n",
    "    print(\"This is the vowel i\")\n",
    "elif var=='o':\n",
    "    print(\"This is the vowel o\")\n",
    "elif var=='u':\n",
    "    print(\"This is the vowel u\")\n",
    "else:\n",
    "    print(\"This is a consonant\")"
   ]
  },
  {
   "cell_type": "code",
   "execution_count": 13,
   "id": "80661f3d",
   "metadata": {},
   "outputs": [
    {
     "name": "stdout",
     "output_type": "stream",
     "text": [
      "This is the vowel o\n"
     ]
    }
   ],
   "source": [
    "var = \"o\"\n",
    "if var=='a':\n",
    "    print(\"This is the vowel a\")\n",
    "elif var=='e':\n",
    "    print(\"This is the vowel e\")\n",
    "elif var=='i':\n",
    "    print(\"This is the vowel i\")\n",
    "elif var=='o':\n",
    "    print(\"This is the vowel o\")\n",
    "elif var=='u':\n",
    "    print(\"This is the vowel u\")\n",
    "else:\n",
    "    print(\"This is a consonant\")"
   ]
  },
  {
   "cell_type": "code",
   "execution_count": 14,
   "id": "b1188919",
   "metadata": {},
   "outputs": [
    {
     "name": "stdout",
     "output_type": "stream",
     "text": [
      "This is the vowel u\n"
     ]
    }
   ],
   "source": [
    "var = \"u\"\n",
    "if var=='a':\n",
    "    print(\"This is the vowel a\")\n",
    "elif var=='e':\n",
    "    print(\"This is the vowel e\")\n",
    "elif var=='i':\n",
    "    print(\"This is the vowel i\")\n",
    "elif var=='o':\n",
    "    print(\"This is the vowel o\")\n",
    "elif var=='u':\n",
    "    print(\"This is the vowel u\")\n",
    "else:\n",
    "    print(\"This is a consonant\")"
   ]
  }
 ],
 "metadata": {
  "kernelspec": {
   "display_name": "Python 3 (ipykernel)",
   "language": "python",
   "name": "python3"
  },
  "language_info": {
   "codemirror_mode": {
    "name": "ipython",
    "version": 3
   },
   "file_extension": ".py",
   "mimetype": "text/x-python",
   "name": "python",
   "nbconvert_exporter": "python",
   "pygments_lexer": "ipython3",
   "version": "3.8.3"
  }
 },
 "nbformat": 4,
 "nbformat_minor": 5
}
