{
 "cells": [
  {
   "cell_type": "markdown",
   "id": "87951a72",
   "metadata": {},
   "source": [
    "# While loop\n",
    "\n",
    "**while loop** is used to repeat a section of code unknown number of times until a specific conditioßn is met "
   ]
  },
  {
   "cell_type": "markdown",
   "id": "f253a192",
   "metadata": {},
   "source": [
    "**Scenario**: Try to print 10 times this statement: \"WhileloopDemoPython\""
   ]
  },
  {
   "cell_type": "code",
   "execution_count": 1,
   "id": "785b2950",
   "metadata": {},
   "outputs": [
    {
     "name": "stdout",
     "output_type": "stream",
     "text": [
      "WhileloopDemoPython\n",
      "WhileloopDemoPython\n",
      "WhileloopDemoPython\n",
      "WhileloopDemoPython\n",
      "WhileloopDemoPython\n",
      "WhileloopDemoPython\n",
      "WhileloopDemoPython\n",
      "WhileloopDemoPython\n",
      "WhileloopDemoPython\n",
      "WhileloopDemoPython\n"
     ]
    }
   ],
   "source": [
    "i = 1 #counter / start point\n",
    "\n",
    "while i <=10:\n",
    "    print(\"WhileloopDemoPython\")\n",
    "    i =i+1 "
   ]
  },
  {
   "cell_type": "code",
   "execution_count": 2,
   "id": "0a38dd83",
   "metadata": {},
   "outputs": [
    {
     "name": "stdout",
     "output_type": "stream",
     "text": [
      "WhileloopDemoPython\n",
      "WhileloopDemoPython\n",
      "WhileloopDemoPython\n",
      "WhileloopDemoPython\n",
      "WhileloopDemoPython\n",
      "WhileloopDemoPython\n",
      "WhileloopDemoPython\n",
      "WhileloopDemoPython\n",
      "WhileloopDemoPython\n",
      "WhileloopDemoPython\n"
     ]
    }
   ],
   "source": [
    "i = 1 #counter / start point\n",
    "\n",
    "while i <=10:\n",
    "    print(\"WhileloopDemoPython\")\n",
    "    i+=1 "
   ]
  },
  {
   "cell_type": "code",
   "execution_count": 3,
   "id": "5a4b7bd2",
   "metadata": {},
   "outputs": [
    {
     "name": "stdout",
     "output_type": "stream",
     "text": [
      "WhileloopDemoPython\n",
      "WhileloopDemoPython\n",
      "WhileloopDemoPython\n",
      "WhileloopDemoPython\n",
      "WhileloopDemoPython\n",
      "WhileloopDemoPython\n",
      "WhileloopDemoPython\n",
      "WhileloopDemoPython\n",
      "WhileloopDemoPython\n"
     ]
    }
   ],
   "source": [
    "i = 10 #counter / start point\n",
    "\n",
    "while i >1:\n",
    "    print(\"WhileloopDemoPython\")\n",
    "    i-=1 "
   ]
  },
  {
   "cell_type": "code",
   "execution_count": 4,
   "id": "c0e86b57",
   "metadata": {},
   "outputs": [
    {
     "name": "stdout",
     "output_type": "stream",
     "text": [
      "WhileloopDemoPython\n",
      "WhileloopDemoPython\n",
      "WhileloopDemoPython\n",
      "WhileloopDemoPython\n",
      "WhileloopDemoPython\n",
      "WhileloopDemoPython\n",
      "WhileloopDemoPython\n",
      "WhileloopDemoPython\n",
      "WhileloopDemoPython\n",
      "WhileloopDemoPython\n"
     ]
    }
   ],
   "source": [
    "i = 10 #counter / start point\n",
    "\n",
    "while i >=1:\n",
    "    print(\"WhileloopDemoPython\")\n",
    "    i-=1 "
   ]
  },
  {
   "cell_type": "code",
   "execution_count": 5,
   "id": "b58f7b18",
   "metadata": {},
   "outputs": [
    {
     "name": "stdout",
     "output_type": "stream",
     "text": [
      "55\n"
     ]
    }
   ],
   "source": [
    "i = 1 #counter / start point\n",
    "sum=0 # counter / start point\n",
    "\n",
    "while i <=10:\n",
    "    sum=sum+i\n",
    "    i+=1\n",
    "print(sum)"
   ]
  },
  {
   "cell_type": "code",
   "execution_count": 6,
   "id": "9eb0b74c",
   "metadata": {},
   "outputs": [
    {
     "name": "stdout",
     "output_type": "stream",
     "text": [
      "30\n"
     ]
    }
   ],
   "source": [
    "i = 1 #counter / start point\n",
    "sum=0 # counter / start point\n",
    "\n",
    "while i <=10:\n",
    "    if i%2==0: #to check if it is divisible\n",
    "    \tsum=sum+i\n",
    "    i+=1\n",
    "print(sum)"
   ]
  },
  {
   "cell_type": "markdown",
   "id": "0777cbdc",
   "metadata": {},
   "source": [
    "**another example**"
   ]
  },
  {
   "cell_type": "code",
   "execution_count": 7,
   "id": "5e828d84",
   "metadata": {},
   "outputs": [
    {
     "name": "stdout",
     "output_type": "stream",
     "text": [
      "Enter a number 6253\n",
      "3526\n"
     ]
    }
   ],
   "source": [
    "n = int(input(\"Enter a number \"))\n",
    "nr = 0\n",
    "\n",
    "while n%10!=0:\n",
    "    c=n%10\n",
    "    nr=nr*10 +c\n",
    "    n=n//10\n",
    "print(nr)"
   ]
  },
  {
   "cell_type": "markdown",
   "id": "49e5e008",
   "metadata": {},
   "source": [
    "**another example** we want to calculate the length of a list"
   ]
  },
  {
   "cell_type": "code",
   "execution_count": 8,
   "id": "b03ca216",
   "metadata": {},
   "outputs": [
    {
     "name": "stdout",
     "output_type": "stream",
     "text": [
      "3\n"
     ]
    }
   ],
   "source": [
    "Y = [1,2.3,\"WhileloopanotherDemo\"]\n",
    "length=0\n",
    "i=0\n",
    "try:\n",
    "    while Y[i]: \n",
    "        length+=1\n",
    "        i+=1\n",
    "except IndexError:\n",
    "\tprint(length)\n",
    "    "
   ]
  },
  {
   "cell_type": "markdown",
   "id": "fdcc981a",
   "metadata": {},
   "source": [
    "**another example** While nested"
   ]
  },
  {
   "cell_type": "code",
   "execution_count": 9,
   "id": "417129c8",
   "metadata": {},
   "outputs": [
    {
     "name": "stdout",
     "output_type": "stream",
     "text": [
      "Enter a Number  5\n",
      "1\n",
      "22\n",
      "333\n",
      "4444\n",
      "55555\n"
     ]
    }
   ],
   "source": [
    "#1 (times print out)\n",
    "#22 (2)\n",
    "#333 (3)\n",
    "#4444 (4)\n",
    "#55555 (5)\n",
    "\n",
    "n = int(input(\"Enter a Number  \"))\n",
    "i=1\n",
    "while i<=n:\n",
    "    j=1\n",
    "    while j <=i:\n",
    "        print(i,end='')\n",
    "        j+=1\n",
    "    i+=1\n",
    "    print()"
   ]
  },
  {
   "cell_type": "markdown",
   "id": "247d30e5",
   "metadata": {},
   "source": [
    "**another example** while with rundom function (one digit printerd correct at the right position)"
   ]
  },
  {
   "cell_type": "code",
   "execution_count": 10,
   "id": "9be79fb2",
   "metadata": {},
   "outputs": [],
   "source": [
    "import random"
   ]
  },
  {
   "cell_type": "code",
   "execution_count": 11,
   "id": "205664e1",
   "metadata": {},
   "outputs": [
    {
     "name": "stdout",
     "output_type": "stream",
     "text": [
      "4679\n",
      "Enter a 4 digit number6732\n",
      "0 digits were guessed right\n",
      "Enter a 4 digit number3976\n",
      "0 digits were guessed right\n",
      "Enter a 4 digit number10\n",
      "You quit the game\n"
     ]
    }
   ],
   "source": [
    "nump = random.randint(1000,9999)\n",
    "print(nump)\n",
    "n = int(input(\"Enter a 4 digit number\"))\n",
    "while n!=10:\n",
    "    num=nump\n",
    "    cor=0\n",
    "    while num%10:\n",
    "        numc=num%10\n",
    "        nc= n%10\n",
    "        num=num//10\n",
    "        n=n//10\n",
    "        if numc==nc:\n",
    "            cpr=cor+1\n",
    "    if cor==4:\n",
    "        print(\"Congrats! you guessed it right\")\n",
    "        break\n",
    "    else:\n",
    "        print(\"%d digits were guessed right\"%cor)\n",
    "        n = int(input(\"Enter a 4 digit number\"))\n",
    "else:\n",
    "    print(\"You quit the game\")\n",
    "        "
   ]
  },
  {
   "cell_type": "code",
   "execution_count": null,
   "id": "7f14c021",
   "metadata": {},
   "outputs": [],
   "source": []
  }
 ],
 "metadata": {
  "kernelspec": {
   "display_name": "Python 3 (ipykernel)",
   "language": "python",
   "name": "python3"
  },
  "language_info": {
   "codemirror_mode": {
    "name": "ipython",
    "version": 3
   },
   "file_extension": ".py",
   "mimetype": "text/x-python",
   "name": "python",
   "nbconvert_exporter": "python",
   "pygments_lexer": "ipython3",
   "version": "3.8.3"
  }
 },
 "nbformat": 4,
 "nbformat_minor": 5
}
