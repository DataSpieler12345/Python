{
 "cells": [
  {
   "cell_type": "code",
   "execution_count": 1,
   "id": "9dcc4c23",
   "metadata": {},
   "outputs": [],
   "source": [
    "import numpy as np\n",
    "import pandas as pd\n"
   ]
  },
  {
   "cell_type": "code",
   "execution_count": 2,
   "id": "3ef1b298",
   "metadata": {},
   "outputs": [
    {
     "data": {
      "text/plain": [
       "2"
      ]
     },
     "execution_count": 2,
     "metadata": {},
     "output_type": "execute_result"
    }
   ],
   "source": [
    "l1 = [2,5,8,6,8,9,4,6]\n",
    "l1[0]"
   ]
  },
  {
   "cell_type": "code",
   "execution_count": 3,
   "id": "d0d4317b",
   "metadata": {},
   "outputs": [],
   "source": [
    "d1 = {'a':2,'b':5} #rename index"
   ]
  },
  {
   "cell_type": "code",
   "execution_count": 4,
   "id": "59e45382",
   "metadata": {},
   "outputs": [
    {
     "name": "stdout",
     "output_type": "stream",
     "text": [
      "(0, 2)\n",
      "(1, 5)\n",
      "(2, 8)\n",
      "(3, 6)\n",
      "(4, 8)\n",
      "(5, 9)\n",
      "(6, 4)\n",
      "(7, 6)\n"
     ]
    }
   ],
   "source": [
    "for i in enumerate(l1):\n",
    "    print(i)"
   ]
  },
  {
   "cell_type": "code",
   "execution_count": 5,
   "id": "1269e2d9",
   "metadata": {
    "scrolled": true
   },
   "outputs": [
    {
     "data": {
      "text/plain": [
       "0    2\n",
       "1    5\n",
       "2    8\n",
       "3    6\n",
       "4    8\n",
       "5    9\n",
       "6    4\n",
       "7    6\n",
       "dtype: int64"
      ]
     },
     "execution_count": 5,
     "metadata": {},
     "output_type": "execute_result"
    }
   ],
   "source": [
    "pd.Series(l1)"
   ]
  },
  {
   "cell_type": "code",
   "execution_count": 12,
   "id": "f38b9fc8",
   "metadata": {},
   "outputs": [],
   "source": [
    "dt = {'a':3,'b':4,'c':5}"
   ]
  },
  {
   "cell_type": "code",
   "execution_count": 13,
   "id": "eb0df571",
   "metadata": {},
   "outputs": [],
   "source": [
    "t1 = (3,4,5)"
   ]
  },
  {
   "cell_type": "code",
   "execution_count": 14,
   "id": "510d6fa9",
   "metadata": {},
   "outputs": [
    {
     "data": {
      "text/plain": [
       "a    3\n",
       "b    4\n",
       "c    5\n",
       "dtype: int64"
      ]
     },
     "execution_count": 14,
     "metadata": {},
     "output_type": "execute_result"
    }
   ],
   "source": [
    "#series using tuples\n",
    "s1 = pd.Series(t1, index=['a','b','c'])\n",
    "s1"
   ]
  },
  {
   "cell_type": "code",
   "execution_count": 16,
   "id": "ac7e3b62",
   "metadata": {},
   "outputs": [
    {
     "data": {
      "text/plain": [
       "h        4\n",
       "i       hi\n",
       "j    hello\n",
       "k        8\n",
       "l       45\n",
       "dtype: object"
      ]
     },
     "execution_count": 16,
     "metadata": {},
     "output_type": "execute_result"
    }
   ],
   "source": [
    "#using list\n",
    "lt = [4,'hi','hello',8,45]\n",
    "s2 =  pd.Series(lt,index = ['h', 'i', 'j', 'k', 'l']) #index same lenght of the created list\n",
    "s2"
   ]
  },
  {
   "cell_type": "code",
   "execution_count": 21,
   "id": "44f571f6",
   "metadata": {},
   "outputs": [],
   "source": [
    "t1 = pd.Series([3,4,5], index=['a','b','c'])\n",
    "t2 = pd.Series([3,5,8], index=['a','b','c'])"
   ]
  },
  {
   "cell_type": "code",
   "execution_count": 22,
   "id": "61b48c5c",
   "metadata": {},
   "outputs": [
    {
     "data": {
      "text/plain": [
       "a     6\n",
       "b     9\n",
       "c    13\n",
       "dtype: int64"
      ]
     },
     "execution_count": 22,
     "metadata": {},
     "output_type": "execute_result"
    }
   ],
   "source": [
    "t1+t2"
   ]
  },
  {
   "cell_type": "code",
   "execution_count": 23,
   "id": "76ecc826",
   "metadata": {},
   "outputs": [],
   "source": [
    "u1 = pd.Series([3,4,5], index=['a','b','c'])# diff index\n",
    "u2 = pd.Series([3,5,8], index=['a','b','d'])# diff index"
   ]
  },
  {
   "cell_type": "code",
   "execution_count": 24,
   "id": "882352cb",
   "metadata": {},
   "outputs": [
    {
     "data": {
      "text/plain": [
       "a    6.0\n",
       "b    9.0\n",
       "c    NaN\n",
       "d    NaN\n",
       "dtype: float64"
      ]
     },
     "execution_count": 24,
     "metadata": {},
     "output_type": "execute_result"
    }
   ],
   "source": [
    "u1+u2"
   ]
  },
  {
   "cell_type": "code",
   "execution_count": 25,
   "id": "2a0c91f5",
   "metadata": {},
   "outputs": [
    {
     "data": {
      "text/plain": [
       "3"
      ]
     },
     "execution_count": 25,
     "metadata": {},
     "output_type": "execute_result"
    }
   ],
   "source": [
    "# position based indexing\n",
    "t1[0]"
   ]
  },
  {
   "cell_type": "code",
   "execution_count": 26,
   "id": "5a356c8c",
   "metadata": {},
   "outputs": [
    {
     "data": {
      "text/plain": [
       "4"
      ]
     },
     "execution_count": 26,
     "metadata": {},
     "output_type": "execute_result"
    }
   ],
   "source": [
    "t1[1]"
   ]
  },
  {
   "cell_type": "code",
   "execution_count": 27,
   "id": "4e1b0812",
   "metadata": {},
   "outputs": [
    {
     "data": {
      "text/plain": [
       "5"
      ]
     },
     "execution_count": 27,
     "metadata": {},
     "output_type": "execute_result"
    }
   ],
   "source": [
    "t1[2]"
   ]
  },
  {
   "cell_type": "code",
   "execution_count": 28,
   "id": "7c21b8de",
   "metadata": {},
   "outputs": [
    {
     "data": {
      "text/plain": [
       "5"
      ]
     },
     "execution_count": 28,
     "metadata": {},
     "output_type": "execute_result"
    }
   ],
   "source": [
    "# label based indexing \n",
    "t1['c'] # index = 5"
   ]
  },
  {
   "cell_type": "code",
   "execution_count": 29,
   "id": "78ca399b",
   "metadata": {},
   "outputs": [
    {
     "data": {
      "text/plain": [
       "a    3\n",
       "b    4\n",
       "dtype: int64"
      ]
     },
     "execution_count": 29,
     "metadata": {},
     "output_type": "execute_result"
    }
   ],
   "source": [
    "t1[0:2] # last range is exclude in position based indexing "
   ]
  },
  {
   "cell_type": "code",
   "execution_count": 30,
   "id": "02d6f2e6",
   "metadata": {},
   "outputs": [
    {
     "data": {
      "text/plain": [
       "a    3\n",
       "b    4\n",
       "dtype: int64"
      ]
     },
     "execution_count": 30,
     "metadata": {},
     "output_type": "execute_result"
    }
   ],
   "source": [
    "t1['a':'b'] # last range is included in label based indexing "
   ]
  },
  {
   "cell_type": "code",
   "execution_count": 31,
   "id": "553b79f4",
   "metadata": {},
   "outputs": [
    {
     "data": {
      "text/plain": [
       "a    3\n",
       "b    4\n",
       "c    5\n",
       "dtype: int64"
      ]
     },
     "execution_count": 31,
     "metadata": {},
     "output_type": "execute_result"
    }
   ],
   "source": [
    "t1[['a','b','c']] #all indexes"
   ]
  }
 ],
 "metadata": {
  "kernelspec": {
   "display_name": "Python 3 (ipykernel)",
   "language": "python",
   "name": "python3"
  },
  "language_info": {
   "codemirror_mode": {
    "name": "ipython",
    "version": 3
   },
   "file_extension": ".py",
   "mimetype": "text/x-python",
   "name": "python",
   "nbconvert_exporter": "python",
   "pygments_lexer": "ipython3",
   "version": "3.8.3"
  }
 },
 "nbformat": 4,
 "nbformat_minor": 5
}
