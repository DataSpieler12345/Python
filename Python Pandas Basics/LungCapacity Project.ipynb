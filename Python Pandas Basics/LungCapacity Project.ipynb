{
 "cells": [
  {
   "cell_type": "markdown",
   "id": "6a29f8c4",
   "metadata": {},
   "source": [
    "### Import  Standard Library "
   ]
  },
  {
   "cell_type": "code",
   "execution_count": 1,
   "id": "0c3a62ef",
   "metadata": {},
   "outputs": [],
   "source": [
    "import numpy as np\n",
    "import pandas as pd"
   ]
  },
  {
   "cell_type": "markdown",
   "id": "3f2b4100",
   "metadata": {},
   "source": [
    "### Import the DataSet into Jupyter Notebook"
   ]
  },
  {
   "cell_type": "code",
   "execution_count": 4,
   "id": "9c68a3f8",
   "metadata": {},
   "outputs": [
    {
     "name": "stdout",
     "output_type": "stream",
     "text": [
      "Data Loaded\n"
     ]
    },
    {
     "data": {
      "text/html": [
       "<div>\n",
       "<style scoped>\n",
       "    .dataframe tbody tr th:only-of-type {\n",
       "        vertical-align: middle;\n",
       "    }\n",
       "\n",
       "    .dataframe tbody tr th {\n",
       "        vertical-align: top;\n",
       "    }\n",
       "\n",
       "    .dataframe thead th {\n",
       "        text-align: right;\n",
       "    }\n",
       "</style>\n",
       "<table border=\"1\" class=\"dataframe\">\n",
       "  <thead>\n",
       "    <tr style=\"text-align: right;\">\n",
       "      <th></th>\n",
       "      <th>LungCap(cc)</th>\n",
       "      <th>Age( years)</th>\n",
       "      <th>Height(inches)</th>\n",
       "      <th>Smoke</th>\n",
       "      <th>Gender</th>\n",
       "      <th>Caesarean</th>\n",
       "    </tr>\n",
       "  </thead>\n",
       "  <tbody>\n",
       "    <tr>\n",
       "      <th>0</th>\n",
       "      <td>6.475</td>\n",
       "      <td>6</td>\n",
       "      <td>62.1</td>\n",
       "      <td>no</td>\n",
       "      <td>male</td>\n",
       "      <td>no</td>\n",
       "    </tr>\n",
       "    <tr>\n",
       "      <th>1</th>\n",
       "      <td>10.125</td>\n",
       "      <td>18</td>\n",
       "      <td>74.7</td>\n",
       "      <td>yes</td>\n",
       "      <td>female</td>\n",
       "      <td>no</td>\n",
       "    </tr>\n",
       "    <tr>\n",
       "      <th>2</th>\n",
       "      <td>9.550</td>\n",
       "      <td>16</td>\n",
       "      <td>69.7</td>\n",
       "      <td>no</td>\n",
       "      <td>female</td>\n",
       "      <td>yes</td>\n",
       "    </tr>\n",
       "    <tr>\n",
       "      <th>3</th>\n",
       "      <td>11.125</td>\n",
       "      <td>14</td>\n",
       "      <td>71.0</td>\n",
       "      <td>no</td>\n",
       "      <td>male</td>\n",
       "      <td>no</td>\n",
       "    </tr>\n",
       "    <tr>\n",
       "      <th>4</th>\n",
       "      <td>4.800</td>\n",
       "      <td>5</td>\n",
       "      <td>56.9</td>\n",
       "      <td>no</td>\n",
       "      <td>male</td>\n",
       "      <td>no</td>\n",
       "    </tr>\n",
       "    <tr>\n",
       "      <th>...</th>\n",
       "      <td>...</td>\n",
       "      <td>...</td>\n",
       "      <td>...</td>\n",
       "      <td>...</td>\n",
       "      <td>...</td>\n",
       "      <td>...</td>\n",
       "    </tr>\n",
       "    <tr>\n",
       "      <th>720</th>\n",
       "      <td>5.725</td>\n",
       "      <td>9</td>\n",
       "      <td>56.0</td>\n",
       "      <td>no</td>\n",
       "      <td>female</td>\n",
       "      <td>no</td>\n",
       "    </tr>\n",
       "    <tr>\n",
       "      <th>721</th>\n",
       "      <td>9.050</td>\n",
       "      <td>18</td>\n",
       "      <td>72.0</td>\n",
       "      <td>yes</td>\n",
       "      <td>male</td>\n",
       "      <td>yes</td>\n",
       "    </tr>\n",
       "    <tr>\n",
       "      <th>722</th>\n",
       "      <td>3.850</td>\n",
       "      <td>11</td>\n",
       "      <td>60.5</td>\n",
       "      <td>yes</td>\n",
       "      <td>female</td>\n",
       "      <td>no</td>\n",
       "    </tr>\n",
       "    <tr>\n",
       "      <th>723</th>\n",
       "      <td>9.825</td>\n",
       "      <td>15</td>\n",
       "      <td>64.9</td>\n",
       "      <td>no</td>\n",
       "      <td>female</td>\n",
       "      <td>no</td>\n",
       "    </tr>\n",
       "    <tr>\n",
       "      <th>724</th>\n",
       "      <td>7.100</td>\n",
       "      <td>10</td>\n",
       "      <td>67.7</td>\n",
       "      <td>no</td>\n",
       "      <td>male</td>\n",
       "      <td>no</td>\n",
       "    </tr>\n",
       "  </tbody>\n",
       "</table>\n",
       "<p>725 rows × 6 columns</p>\n",
       "</div>"
      ],
      "text/plain": [
       "     LungCap(cc)  Age( years)  Height(inches) Smoke  Gender Caesarean\n",
       "0          6.475            6            62.1    no    male        no\n",
       "1         10.125           18            74.7   yes  female        no\n",
       "2          9.550           16            69.7    no  female       yes\n",
       "3         11.125           14            71.0    no    male        no\n",
       "4          4.800            5            56.9    no    male        no\n",
       "..           ...          ...             ...   ...     ...       ...\n",
       "720        5.725            9            56.0    no  female        no\n",
       "721        9.050           18            72.0   yes    male       yes\n",
       "722        3.850           11            60.5   yes  female        no\n",
       "723        9.825           15            64.9    no  female        no\n",
       "724        7.100           10            67.7    no    male        no\n",
       "\n",
       "[725 rows x 6 columns]"
      ]
     },
     "execution_count": 4,
     "metadata": {},
     "output_type": "execute_result"
    }
   ],
   "source": [
    "df =  pd.read_excel('LungCap.xls')\n",
    "print('Data Loaded')\n",
    "df"
   ]
  },
  {
   "cell_type": "markdown",
   "id": "52a5925f",
   "metadata": {},
   "source": [
    "### Check the first 5 rows of the dataset"
   ]
  },
  {
   "cell_type": "code",
   "execution_count": 3,
   "id": "eace7914",
   "metadata": {},
   "outputs": [
    {
     "data": {
      "text/html": [
       "<div>\n",
       "<style scoped>\n",
       "    .dataframe tbody tr th:only-of-type {\n",
       "        vertical-align: middle;\n",
       "    }\n",
       "\n",
       "    .dataframe tbody tr th {\n",
       "        vertical-align: top;\n",
       "    }\n",
       "\n",
       "    .dataframe thead th {\n",
       "        text-align: right;\n",
       "    }\n",
       "</style>\n",
       "<table border=\"1\" class=\"dataframe\">\n",
       "  <thead>\n",
       "    <tr style=\"text-align: right;\">\n",
       "      <th></th>\n",
       "      <th>LungCap(cc)</th>\n",
       "      <th>Age( years)</th>\n",
       "      <th>Height(inches)</th>\n",
       "      <th>Smoke</th>\n",
       "      <th>Gender</th>\n",
       "      <th>Caesarean</th>\n",
       "    </tr>\n",
       "  </thead>\n",
       "  <tbody>\n",
       "    <tr>\n",
       "      <th>0</th>\n",
       "      <td>6.475</td>\n",
       "      <td>6</td>\n",
       "      <td>62.1</td>\n",
       "      <td>no</td>\n",
       "      <td>male</td>\n",
       "      <td>no</td>\n",
       "    </tr>\n",
       "    <tr>\n",
       "      <th>1</th>\n",
       "      <td>10.125</td>\n",
       "      <td>18</td>\n",
       "      <td>74.7</td>\n",
       "      <td>yes</td>\n",
       "      <td>female</td>\n",
       "      <td>no</td>\n",
       "    </tr>\n",
       "    <tr>\n",
       "      <th>2</th>\n",
       "      <td>9.550</td>\n",
       "      <td>16</td>\n",
       "      <td>69.7</td>\n",
       "      <td>no</td>\n",
       "      <td>female</td>\n",
       "      <td>yes</td>\n",
       "    </tr>\n",
       "    <tr>\n",
       "      <th>3</th>\n",
       "      <td>11.125</td>\n",
       "      <td>14</td>\n",
       "      <td>71.0</td>\n",
       "      <td>no</td>\n",
       "      <td>male</td>\n",
       "      <td>no</td>\n",
       "    </tr>\n",
       "    <tr>\n",
       "      <th>4</th>\n",
       "      <td>4.800</td>\n",
       "      <td>5</td>\n",
       "      <td>56.9</td>\n",
       "      <td>no</td>\n",
       "      <td>male</td>\n",
       "      <td>no</td>\n",
       "    </tr>\n",
       "  </tbody>\n",
       "</table>\n",
       "</div>"
      ],
      "text/plain": [
       "   LungCap(cc)  Age( years)  Height(inches) Smoke  Gender Caesarean\n",
       "0        6.475            6            62.1    no    male        no\n",
       "1       10.125           18            74.7   yes  female        no\n",
       "2        9.550           16            69.7    no  female       yes\n",
       "3       11.125           14            71.0    no    male        no\n",
       "4        4.800            5            56.9    no    male        no"
      ]
     },
     "execution_count": 3,
     "metadata": {},
     "output_type": "execute_result"
    }
   ],
   "source": [
    "df.head()"
   ]
  },
  {
   "cell_type": "code",
   "execution_count": 6,
   "id": "77e5d608",
   "metadata": {},
   "outputs": [
    {
     "data": {
      "text/html": [
       "<div>\n",
       "<style scoped>\n",
       "    .dataframe tbody tr th:only-of-type {\n",
       "        vertical-align: middle;\n",
       "    }\n",
       "\n",
       "    .dataframe tbody tr th {\n",
       "        vertical-align: top;\n",
       "    }\n",
       "\n",
       "    .dataframe thead th {\n",
       "        text-align: right;\n",
       "    }\n",
       "</style>\n",
       "<table border=\"1\" class=\"dataframe\">\n",
       "  <thead>\n",
       "    <tr style=\"text-align: right;\">\n",
       "      <th></th>\n",
       "      <th>LungCap(cc)</th>\n",
       "      <th>Age( years)</th>\n",
       "      <th>Height(inches)</th>\n",
       "      <th>Smoke</th>\n",
       "      <th>Gender</th>\n",
       "      <th>Caesarean</th>\n",
       "    </tr>\n",
       "  </thead>\n",
       "  <tbody>\n",
       "    <tr>\n",
       "      <th>20</th>\n",
       "      <td>3.975</td>\n",
       "      <td>6</td>\n",
       "      <td>57.3</td>\n",
       "      <td>no</td>\n",
       "      <td>male</td>\n",
       "      <td>no</td>\n",
       "    </tr>\n",
       "    <tr>\n",
       "      <th>21</th>\n",
       "      <td>5.325</td>\n",
       "      <td>8</td>\n",
       "      <td>59.7</td>\n",
       "      <td>no</td>\n",
       "      <td>female</td>\n",
       "      <td>no</td>\n",
       "    </tr>\n",
       "    <tr>\n",
       "      <th>22</th>\n",
       "      <td>10.025</td>\n",
       "      <td>16</td>\n",
       "      <td>72.4</td>\n",
       "      <td>no</td>\n",
       "      <td>male</td>\n",
       "      <td>no</td>\n",
       "    </tr>\n",
       "    <tr>\n",
       "      <th>23</th>\n",
       "      <td>8.725</td>\n",
       "      <td>11</td>\n",
       "      <td>68.0</td>\n",
       "      <td>no</td>\n",
       "      <td>male</td>\n",
       "      <td>yes</td>\n",
       "    </tr>\n",
       "    <tr>\n",
       "      <th>24</th>\n",
       "      <td>9.375</td>\n",
       "      <td>11</td>\n",
       "      <td>65.7</td>\n",
       "      <td>no</td>\n",
       "      <td>female</td>\n",
       "      <td>no</td>\n",
       "    </tr>\n",
       "    <tr>\n",
       "      <th>25</th>\n",
       "      <td>8.350</td>\n",
       "      <td>12</td>\n",
       "      <td>61.3</td>\n",
       "      <td>no</td>\n",
       "      <td>male</td>\n",
       "      <td>yes</td>\n",
       "    </tr>\n",
       "    <tr>\n",
       "      <th>26</th>\n",
       "      <td>6.750</td>\n",
       "      <td>12</td>\n",
       "      <td>60.7</td>\n",
       "      <td>no</td>\n",
       "      <td>female</td>\n",
       "      <td>no</td>\n",
       "    </tr>\n",
       "    <tr>\n",
       "      <th>27</th>\n",
       "      <td>9.025</td>\n",
       "      <td>9</td>\n",
       "      <td>65.6</td>\n",
       "      <td>no</td>\n",
       "      <td>male</td>\n",
       "      <td>no</td>\n",
       "    </tr>\n",
       "    <tr>\n",
       "      <th>28</th>\n",
       "      <td>1.125</td>\n",
       "      <td>4</td>\n",
       "      <td>48.7</td>\n",
       "      <td>no</td>\n",
       "      <td>female</td>\n",
       "      <td>no</td>\n",
       "    </tr>\n",
       "    <tr>\n",
       "      <th>29</th>\n",
       "      <td>10.475</td>\n",
       "      <td>18</td>\n",
       "      <td>72.0</td>\n",
       "      <td>yes</td>\n",
       "      <td>female</td>\n",
       "      <td>no</td>\n",
       "    </tr>\n",
       "    <tr>\n",
       "      <th>30</th>\n",
       "      <td>4.650</td>\n",
       "      <td>4</td>\n",
       "      <td>53.7</td>\n",
       "      <td>no</td>\n",
       "      <td>female</td>\n",
       "      <td>no</td>\n",
       "    </tr>\n",
       "    <tr>\n",
       "      <th>31</th>\n",
       "      <td>7.725</td>\n",
       "      <td>13</td>\n",
       "      <td>64.7</td>\n",
       "      <td>no</td>\n",
       "      <td>male</td>\n",
       "      <td>no</td>\n",
       "    </tr>\n",
       "    <tr>\n",
       "      <th>32</th>\n",
       "      <td>10.600</td>\n",
       "      <td>13</td>\n",
       "      <td>69.3</td>\n",
       "      <td>no</td>\n",
       "      <td>male</td>\n",
       "      <td>no</td>\n",
       "    </tr>\n",
       "    <tr>\n",
       "      <th>33</th>\n",
       "      <td>11.025</td>\n",
       "      <td>13</td>\n",
       "      <td>65.6</td>\n",
       "      <td>no</td>\n",
       "      <td>male</td>\n",
       "      <td>yes</td>\n",
       "    </tr>\n",
       "    <tr>\n",
       "      <th>34</th>\n",
       "      <td>8.650</td>\n",
       "      <td>12</td>\n",
       "      <td>67.8</td>\n",
       "      <td>no</td>\n",
       "      <td>male</td>\n",
       "      <td>no</td>\n",
       "    </tr>\n",
       "    <tr>\n",
       "      <th>35</th>\n",
       "      <td>8.825</td>\n",
       "      <td>10</td>\n",
       "      <td>65.5</td>\n",
       "      <td>no</td>\n",
       "      <td>male</td>\n",
       "      <td>no</td>\n",
       "    </tr>\n",
       "  </tbody>\n",
       "</table>\n",
       "</div>"
      ],
      "text/plain": [
       "    LungCap(cc)  Age( years)  Height(inches) Smoke  Gender Caesarean\n",
       "20        3.975            6            57.3    no    male        no\n",
       "21        5.325            8            59.7    no  female        no\n",
       "22       10.025           16            72.4    no    male        no\n",
       "23        8.725           11            68.0    no    male       yes\n",
       "24        9.375           11            65.7    no  female        no\n",
       "25        8.350           12            61.3    no    male       yes\n",
       "26        6.750           12            60.7    no  female        no\n",
       "27        9.025            9            65.6    no    male        no\n",
       "28        1.125            4            48.7    no  female        no\n",
       "29       10.475           18            72.0   yes  female        no\n",
       "30        4.650            4            53.7    no  female        no\n",
       "31        7.725           13            64.7    no    male        no\n",
       "32       10.600           13            69.3    no    male        no\n",
       "33       11.025           13            65.6    no    male       yes\n",
       "34        8.650           12            67.8    no    male        no\n",
       "35        8.825           10            65.5    no    male        no"
      ]
     },
     "execution_count": 6,
     "metadata": {},
     "output_type": "execute_result"
    }
   ],
   "source": [
    "#Display row no 20:35\n",
    "df[20:36]"
   ]
  },
  {
   "cell_type": "markdown",
   "id": "b5f66725",
   "metadata": {},
   "source": [
    "### Check the las 5 rows of the dataset"
   ]
  },
  {
   "cell_type": "code",
   "execution_count": 5,
   "id": "5a9d7098",
   "metadata": {},
   "outputs": [
    {
     "data": {
      "text/html": [
       "<div>\n",
       "<style scoped>\n",
       "    .dataframe tbody tr th:only-of-type {\n",
       "        vertical-align: middle;\n",
       "    }\n",
       "\n",
       "    .dataframe tbody tr th {\n",
       "        vertical-align: top;\n",
       "    }\n",
       "\n",
       "    .dataframe thead th {\n",
       "        text-align: right;\n",
       "    }\n",
       "</style>\n",
       "<table border=\"1\" class=\"dataframe\">\n",
       "  <thead>\n",
       "    <tr style=\"text-align: right;\">\n",
       "      <th></th>\n",
       "      <th>LungCap(cc)</th>\n",
       "      <th>Age( years)</th>\n",
       "      <th>Height(inches)</th>\n",
       "      <th>Smoke</th>\n",
       "      <th>Gender</th>\n",
       "      <th>Caesarean</th>\n",
       "    </tr>\n",
       "  </thead>\n",
       "  <tbody>\n",
       "    <tr>\n",
       "      <th>720</th>\n",
       "      <td>5.725</td>\n",
       "      <td>9</td>\n",
       "      <td>56.0</td>\n",
       "      <td>no</td>\n",
       "      <td>female</td>\n",
       "      <td>no</td>\n",
       "    </tr>\n",
       "    <tr>\n",
       "      <th>721</th>\n",
       "      <td>9.050</td>\n",
       "      <td>18</td>\n",
       "      <td>72.0</td>\n",
       "      <td>yes</td>\n",
       "      <td>male</td>\n",
       "      <td>yes</td>\n",
       "    </tr>\n",
       "    <tr>\n",
       "      <th>722</th>\n",
       "      <td>3.850</td>\n",
       "      <td>11</td>\n",
       "      <td>60.5</td>\n",
       "      <td>yes</td>\n",
       "      <td>female</td>\n",
       "      <td>no</td>\n",
       "    </tr>\n",
       "    <tr>\n",
       "      <th>723</th>\n",
       "      <td>9.825</td>\n",
       "      <td>15</td>\n",
       "      <td>64.9</td>\n",
       "      <td>no</td>\n",
       "      <td>female</td>\n",
       "      <td>no</td>\n",
       "    </tr>\n",
       "    <tr>\n",
       "      <th>724</th>\n",
       "      <td>7.100</td>\n",
       "      <td>10</td>\n",
       "      <td>67.7</td>\n",
       "      <td>no</td>\n",
       "      <td>male</td>\n",
       "      <td>no</td>\n",
       "    </tr>\n",
       "  </tbody>\n",
       "</table>\n",
       "</div>"
      ],
      "text/plain": [
       "     LungCap(cc)  Age( years)  Height(inches) Smoke  Gender Caesarean\n",
       "720        5.725            9            56.0    no  female        no\n",
       "721        9.050           18            72.0   yes    male       yes\n",
       "722        3.850           11            60.5   yes  female        no\n",
       "723        9.825           15            64.9    no  female        no\n",
       "724        7.100           10            67.7    no    male        no"
      ]
     },
     "execution_count": 5,
     "metadata": {},
     "output_type": "execute_result"
    }
   ],
   "source": [
    "df.tail()"
   ]
  },
  {
   "cell_type": "markdown",
   "id": "f55fa8bf",
   "metadata": {},
   "source": [
    "### Check the information of the dataset"
   ]
  },
  {
   "cell_type": "code",
   "execution_count": 7,
   "id": "10a44f9a",
   "metadata": {},
   "outputs": [
    {
     "name": "stdout",
     "output_type": "stream",
     "text": [
      "<class 'pandas.core.frame.DataFrame'>\n",
      "RangeIndex: 725 entries, 0 to 724\n",
      "Data columns (total 6 columns):\n",
      " #   Column          Non-Null Count  Dtype  \n",
      "---  ------          --------------  -----  \n",
      " 0   LungCap(cc)     725 non-null    float64\n",
      " 1   Age( years)     725 non-null    int64  \n",
      " 2   Height(inches)  725 non-null    float64\n",
      " 3   Smoke           725 non-null    object \n",
      " 4   Gender          725 non-null    object \n",
      " 5   Caesarean       725 non-null    object \n",
      "dtypes: float64(2), int64(1), object(3)\n",
      "memory usage: 34.1+ KB\n"
     ]
    }
   ],
   "source": [
    "df.info()"
   ]
  },
  {
   "cell_type": "markdown",
   "id": "a5a0ca55",
   "metadata": {},
   "source": [
    "### Check the description of the dataset"
   ]
  },
  {
   "cell_type": "code",
   "execution_count": 8,
   "id": "1641ec4c",
   "metadata": {},
   "outputs": [
    {
     "data": {
      "text/html": [
       "<div>\n",
       "<style scoped>\n",
       "    .dataframe tbody tr th:only-of-type {\n",
       "        vertical-align: middle;\n",
       "    }\n",
       "\n",
       "    .dataframe tbody tr th {\n",
       "        vertical-align: top;\n",
       "    }\n",
       "\n",
       "    .dataframe thead th {\n",
       "        text-align: right;\n",
       "    }\n",
       "</style>\n",
       "<table border=\"1\" class=\"dataframe\">\n",
       "  <thead>\n",
       "    <tr style=\"text-align: right;\">\n",
       "      <th></th>\n",
       "      <th>LungCap(cc)</th>\n",
       "      <th>Age( years)</th>\n",
       "      <th>Height(inches)</th>\n",
       "    </tr>\n",
       "  </thead>\n",
       "  <tbody>\n",
       "    <tr>\n",
       "      <th>count</th>\n",
       "      <td>725.000000</td>\n",
       "      <td>725.000000</td>\n",
       "      <td>725.000000</td>\n",
       "    </tr>\n",
       "    <tr>\n",
       "      <th>mean</th>\n",
       "      <td>7.863148</td>\n",
       "      <td>12.326897</td>\n",
       "      <td>64.836276</td>\n",
       "    </tr>\n",
       "    <tr>\n",
       "      <th>std</th>\n",
       "      <td>2.662008</td>\n",
       "      <td>4.004750</td>\n",
       "      <td>7.202144</td>\n",
       "    </tr>\n",
       "    <tr>\n",
       "      <th>min</th>\n",
       "      <td>0.507000</td>\n",
       "      <td>3.000000</td>\n",
       "      <td>45.300000</td>\n",
       "    </tr>\n",
       "    <tr>\n",
       "      <th>25%</th>\n",
       "      <td>6.150000</td>\n",
       "      <td>9.000000</td>\n",
       "      <td>59.900000</td>\n",
       "    </tr>\n",
       "    <tr>\n",
       "      <th>50%</th>\n",
       "      <td>8.000000</td>\n",
       "      <td>13.000000</td>\n",
       "      <td>65.400000</td>\n",
       "    </tr>\n",
       "    <tr>\n",
       "      <th>75%</th>\n",
       "      <td>9.800000</td>\n",
       "      <td>15.000000</td>\n",
       "      <td>70.300000</td>\n",
       "    </tr>\n",
       "    <tr>\n",
       "      <th>max</th>\n",
       "      <td>14.675000</td>\n",
       "      <td>19.000000</td>\n",
       "      <td>81.800000</td>\n",
       "    </tr>\n",
       "  </tbody>\n",
       "</table>\n",
       "</div>"
      ],
      "text/plain": [
       "       LungCap(cc)  Age( years)  Height(inches)\n",
       "count   725.000000   725.000000      725.000000\n",
       "mean      7.863148    12.326897       64.836276\n",
       "std       2.662008     4.004750        7.202144\n",
       "min       0.507000     3.000000       45.300000\n",
       "25%       6.150000     9.000000       59.900000\n",
       "50%       8.000000    13.000000       65.400000\n",
       "75%       9.800000    15.000000       70.300000\n",
       "max      14.675000    19.000000       81.800000"
      ]
     },
     "execution_count": 8,
     "metadata": {},
     "output_type": "execute_result"
    }
   ],
   "source": [
    "df.describe()"
   ]
  },
  {
   "cell_type": "markdown",
   "id": "c78e8dc6",
   "metadata": {},
   "source": [
    "### Check the names of columns in the dataset"
   ]
  },
  {
   "cell_type": "code",
   "execution_count": 9,
   "id": "fcd0dc13",
   "metadata": {},
   "outputs": [
    {
     "data": {
      "text/plain": [
       "Index(['LungCap(cc)', 'Age( years)', 'Height(inches)', 'Smoke', 'Gender',\n",
       "       'Caesarean'],\n",
       "      dtype='object')"
      ]
     },
     "execution_count": 9,
     "metadata": {},
     "output_type": "execute_result"
    }
   ],
   "source": [
    "df.columns #option_1"
   ]
  },
  {
   "cell_type": "code",
   "execution_count": 10,
   "id": "4a45e222",
   "metadata": {},
   "outputs": [
    {
     "data": {
      "text/plain": [
       "['LungCap(cc)',\n",
       " 'Age( years)',\n",
       " 'Height(inches)',\n",
       " 'Smoke',\n",
       " 'Gender',\n",
       " 'Caesarean']"
      ]
     },
     "execution_count": 10,
     "metadata": {},
     "output_type": "execute_result"
    }
   ],
   "source": [
    "list(df.columns) # option_2"
   ]
  },
  {
   "cell_type": "code",
   "execution_count": 11,
   "id": "008a11d0",
   "metadata": {},
   "outputs": [
    {
     "name": "stdout",
     "output_type": "stream",
     "text": [
      "LungCap(cc)\n",
      "Age( years)\n",
      "Height(inches)\n",
      "Smoke\n",
      "Gender\n",
      "Caesarean\n"
     ]
    }
   ],
   "source": [
    "for i in df.columns:\n",
    "    print(i)"
   ]
  },
  {
   "cell_type": "markdown",
   "id": "0fda7fcc",
   "metadata": {},
   "source": [
    "### Check the number of males and the number of females under the Gender column in the dataset"
   ]
  },
  {
   "cell_type": "code",
   "execution_count": 12,
   "id": "48b45367",
   "metadata": {},
   "outputs": [
    {
     "data": {
      "text/plain": [
       "Gender\n",
       "female    358\n",
       "male      367\n",
       "dtype: int64"
      ]
     },
     "execution_count": 12,
     "metadata": {},
     "output_type": "execute_result"
    }
   ],
   "source": [
    "df.groupby(['Gender']).size()"
   ]
  },
  {
   "cell_type": "markdown",
   "id": "61d8666f",
   "metadata": {},
   "source": [
    "### Check for missing values in the dataset"
   ]
  },
  {
   "cell_type": "code",
   "execution_count": 13,
   "id": "e9497cec",
   "metadata": {},
   "outputs": [
    {
     "data": {
      "text/plain": [
       "LungCap(cc)       0\n",
       "Age( years)       0\n",
       "Height(inches)    0\n",
       "Smoke             0\n",
       "Gender            0\n",
       "Caesarean         0\n",
       "dtype: int64"
      ]
     },
     "execution_count": 13,
     "metadata": {},
     "output_type": "execute_result"
    }
   ],
   "source": [
    "df.isnull().sum()"
   ]
  },
  {
   "cell_type": "code",
   "execution_count": 15,
   "id": "a8433e52",
   "metadata": {},
   "outputs": [
    {
     "data": {
      "text/plain": [
       "False"
      ]
     },
     "execution_count": 15,
     "metadata": {},
     "output_type": "execute_result"
    }
   ],
   "source": [
    "# another way to check mimssing values:\n",
    "df.isnull().values.any()"
   ]
  }
 ],
 "metadata": {
  "kernelspec": {
   "display_name": "Python 3 (ipykernel)",
   "language": "python",
   "name": "python3"
  },
  "language_info": {
   "codemirror_mode": {
    "name": "ipython",
    "version": 3
   },
   "file_extension": ".py",
   "mimetype": "text/x-python",
   "name": "python",
   "nbconvert_exporter": "python",
   "pygments_lexer": "ipython3",
   "version": "3.8.3"
  }
 },
 "nbformat": 4,
 "nbformat_minor": 5
}
