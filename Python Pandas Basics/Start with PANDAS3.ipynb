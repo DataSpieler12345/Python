{
 "cells": [
  {
   "cell_type": "code",
   "execution_count": 1,
   "id": "d9786e3f",
   "metadata": {},
   "outputs": [],
   "source": [
    "import pandas as pd"
   ]
  },
  {
   "cell_type": "code",
   "execution_count": 2,
   "id": "cfb6398b",
   "metadata": {},
   "outputs": [
    {
     "data": {
      "text/plain": [
       "potato      3\n",
       "tomato      6\n",
       "chilly      2\n",
       "pumpkin     8\n",
       "carrot     10\n",
       "radish      4\n",
       "dtype: int64"
      ]
     },
     "execution_count": 2,
     "metadata": {},
     "output_type": "execute_result"
    }
   ],
   "source": [
    "# create a new Series dictionary\n",
    "veg = pd.Series({'potato':3,'tomato':6,'chilly':2,'pumpkin':8,'carrot':10,'radish':4})\n",
    "veg"
   ]
  },
  {
   "cell_type": "code",
   "execution_count": 3,
   "id": "68a562bf",
   "metadata": {},
   "outputs": [
    {
     "data": {
      "text/plain": [
       "array([ 3,  6,  2,  8, 10,  4], dtype=int64)"
      ]
     },
     "execution_count": 3,
     "metadata": {},
     "output_type": "execute_result"
    }
   ],
   "source": [
    "# extracting all the values\n",
    "veg.values"
   ]
  },
  {
   "cell_type": "code",
   "execution_count": 4,
   "id": "dae68ee5",
   "metadata": {},
   "outputs": [
    {
     "data": {
      "text/plain": [
       "Index(['potato', 'tomato', 'chilly', 'pumpkin', 'carrot', 'radish'], dtype='object')"
      ]
     },
     "execution_count": 4,
     "metadata": {},
     "output_type": "execute_result"
    }
   ],
   "source": [
    "# we need all the indexes that we have\n",
    "veg.index"
   ]
  },
  {
   "cell_type": "code",
   "execution_count": 5,
   "id": "5467bdff",
   "metadata": {},
   "outputs": [
    {
     "data": {
      "text/plain": [
       "(6,)"
      ]
     },
     "execution_count": 5,
     "metadata": {},
     "output_type": "execute_result"
    }
   ],
   "source": [
    "#shape (total number of record/element we have)\n",
    "veg.shape"
   ]
  },
  {
   "cell_type": "code",
   "execution_count": 6,
   "id": "9b6c2ec8",
   "metadata": {},
   "outputs": [
    {
     "data": {
      "text/plain": [
       "3"
      ]
     },
     "execution_count": 6,
     "metadata": {},
     "output_type": "execute_result"
    }
   ],
   "source": [
    "# subset series\n",
    "\n",
    "#option_1\n",
    "veg[0] # we call the first element using position/index"
   ]
  },
  {
   "cell_type": "code",
   "execution_count": 7,
   "id": "b510595b",
   "metadata": {},
   "outputs": [
    {
     "data": {
      "text/plain": [
       "10"
      ]
     },
     "execution_count": 7,
     "metadata": {},
     "output_type": "execute_result"
    }
   ],
   "source": [
    "#option_2 \n",
    "veg['carrot'] #we call back the value with the label"
   ]
  },
  {
   "cell_type": "code",
   "execution_count": 8,
   "id": "e99ee228",
   "metadata": {},
   "outputs": [
    {
     "data": {
      "text/plain": [
       "pumpkin     8\n",
       "carrot     10\n",
       "radish      4\n",
       "dtype: int64"
      ]
     },
     "execution_count": 8,
     "metadata": {},
     "output_type": "execute_result"
    }
   ],
   "source": [
    "veg['pumpkin':'radish'] #range of records"
   ]
  },
  {
   "cell_type": "code",
   "execution_count": 9,
   "id": "c4d90a66",
   "metadata": {},
   "outputs": [
    {
     "data": {
      "text/plain": [
       "tomato     6\n",
       "chilly     2\n",
       "pumpkin    8\n",
       "dtype: int64"
      ]
     },
     "execution_count": 9,
     "metadata": {},
     "output_type": "execute_result"
    }
   ],
   "source": [
    "veg[1:4] #from 1 to 3 / last range is excluded it will got till 3 index only \n"
   ]
  },
  {
   "cell_type": "code",
   "execution_count": 10,
   "id": "d3907733",
   "metadata": {},
   "outputs": [
    {
     "data": {
      "text/plain": [
       "tomato     6\n",
       "radish     4\n",
       "pumpkin    8\n",
       "dtype: int64"
      ]
     },
     "execution_count": 10,
     "metadata": {},
     "output_type": "execute_result"
    }
   ],
   "source": [
    "veg[['tomato','radish','pumpkin']]"
   ]
  },
  {
   "cell_type": "code",
   "execution_count": 11,
   "id": "231defb4",
   "metadata": {},
   "outputs": [
    {
     "data": {
      "text/plain": [
       "tomato      6\n",
       "chilly      2\n",
       "pumpkin     8\n",
       "carrot     10\n",
       "radish      4\n",
       "dtype: int64"
      ]
     },
     "execution_count": 11,
     "metadata": {},
     "output_type": "execute_result"
    }
   ],
   "source": [
    "veg['tomato':] #from tomate to the last element"
   ]
  },
  {
   "cell_type": "code",
   "execution_count": 12,
   "id": "944efb26",
   "metadata": {},
   "outputs": [
    {
     "data": {
      "text/plain": [
       "potato     3\n",
       "tomato     6\n",
       "chilly     2\n",
       "pumpkin    8\n",
       "dtype: int64"
      ]
     },
     "execution_count": 12,
     "metadata": {},
     "output_type": "execute_result"
    }
   ],
   "source": [
    "veg[ :'pumpkin'] #from potato to pumpkin"
   ]
  },
  {
   "cell_type": "code",
   "execution_count": 13,
   "id": "2353c9a0",
   "metadata": {},
   "outputs": [
    {
     "data": {
      "text/plain": [
       "tomato     6\n",
       "chilly     2\n",
       "pumpkin    8\n",
       "dtype: int64"
      ]
     },
     "execution_count": 13,
     "metadata": {},
     "output_type": "execute_result"
    }
   ],
   "source": [
    "veg[1:4] #start by 1 till 3"
   ]
  },
  {
   "cell_type": "code",
   "execution_count": 14,
   "id": "3ba11dad",
   "metadata": {},
   "outputs": [
    {
     "data": {
      "text/plain": [
       "tomato     6\n",
       "pumpkin    8\n",
       "radish     4\n",
       "dtype: int64"
      ]
     },
     "execution_count": 14,
     "metadata": {},
     "output_type": "execute_result"
    }
   ],
   "source": [
    "veg[1::2] #extract every second element"
   ]
  },
  {
   "cell_type": "code",
   "execution_count": 15,
   "id": "a9bc2e40",
   "metadata": {},
   "outputs": [
    {
     "data": {
      "text/plain": [
       "tomato     6\n",
       "carrot    10\n",
       "dtype: int64"
      ]
     },
     "execution_count": 15,
     "metadata": {},
     "output_type": "execute_result"
    }
   ],
   "source": [
    "veg[1::3] #extract every third element"
   ]
  },
  {
   "cell_type": "code",
   "execution_count": 16,
   "id": "00985bdb",
   "metadata": {},
   "outputs": [
    {
     "data": {
      "text/plain": [
       "potato      3\n",
       "tomato      6\n",
       "chilly      2\n",
       "pumpkin     8\n",
       "carrot     10\n",
       "radish      4\n",
       "dtype: int64"
      ]
     },
     "execution_count": 16,
     "metadata": {},
     "output_type": "execute_result"
    }
   ],
   "source": [
    "veg"
   ]
  },
  {
   "cell_type": "code",
   "execution_count": 17,
   "id": "136e1f51",
   "metadata": {},
   "outputs": [],
   "source": [
    "#iloc/loc\n",
    "#loc: label based indexing\n",
    "#iloc: position based indexing"
   ]
  },
  {
   "cell_type": "code",
   "execution_count": 18,
   "id": "b930c0e6",
   "metadata": {},
   "outputs": [
    {
     "data": {
      "text/plain": [
       "tomato      6\n",
       "chilly      2\n",
       "pumpkin     8\n",
       "carrot     10\n",
       "dtype: int64"
      ]
     },
     "execution_count": 18,
     "metadata": {},
     "output_type": "execute_result"
    }
   ],
   "source": [
    "#veg.loc['tomato':'carrot']\n",
    "veg['tomato':'carrot']"
   ]
  },
  {
   "cell_type": "code",
   "execution_count": 19,
   "id": "59875e91",
   "metadata": {},
   "outputs": [
    {
     "data": {
      "text/plain": [
       "potato     3\n",
       "tomato     6\n",
       "chilly     2\n",
       "pumpkin    8\n",
       "dtype: int64"
      ]
     },
     "execution_count": 19,
     "metadata": {},
     "output_type": "execute_result"
    }
   ],
   "source": [
    "#veg.iloc[0:4]\n",
    "veg[0:4] # potato to pumpking position"
   ]
  },
  {
   "cell_type": "code",
   "execution_count": 20,
   "id": "d176a21a",
   "metadata": {},
   "outputs": [
    {
     "data": {
      "text/plain": [
       "potato      True\n",
       "tomato      True\n",
       "chilly     False\n",
       "pumpkin     True\n",
       "carrot      True\n",
       "radish      True\n",
       "dtype: bool"
      ]
     },
     "execution_count": 20,
     "metadata": {},
     "output_type": "execute_result"
    }
   ],
   "source": [
    "veg>2 #boolean output / chilly = 2"
   ]
  },
  {
   "cell_type": "code",
   "execution_count": 21,
   "id": "c2fc676a",
   "metadata": {},
   "outputs": [
    {
     "data": {
      "text/plain": [
       "potato     False\n",
       "tomato     False\n",
       "chilly     False\n",
       "pumpkin    False\n",
       "carrot     False\n",
       "radish     False\n",
       "dtype: bool"
      ]
     },
     "execution_count": 21,
     "metadata": {},
     "output_type": "execute_result"
    }
   ],
   "source": [
    "veg<2 #boolean output / chilly = 2"
   ]
  },
  {
   "cell_type": "code",
   "execution_count": 22,
   "id": "c954cc53",
   "metadata": {},
   "outputs": [
    {
     "data": {
      "text/plain": [
       "potato     True\n",
       "tomato     True\n",
       "chilly     True\n",
       "pumpkin    True\n",
       "carrot     True\n",
       "radish     True\n",
       "dtype: bool"
      ]
     },
     "execution_count": 22,
     "metadata": {},
     "output_type": "execute_result"
    }
   ],
   "source": [
    "veg>=2 #boolean output / chilly = 2"
   ]
  },
  {
   "cell_type": "code",
   "execution_count": 23,
   "id": "6d3fcada",
   "metadata": {},
   "outputs": [
    {
     "data": {
      "text/plain": [
       "potato     False\n",
       "tomato     False\n",
       "chilly      True\n",
       "pumpkin    False\n",
       "carrot     False\n",
       "radish     False\n",
       "dtype: bool"
      ]
     },
     "execution_count": 23,
     "metadata": {},
     "output_type": "execute_result"
    }
   ],
   "source": [
    "veg<=2 #chilly =2"
   ]
  },
  {
   "cell_type": "code",
   "execution_count": 24,
   "id": "9ac66aaa",
   "metadata": {},
   "outputs": [
    {
     "data": {
      "text/plain": [
       "potato      3\n",
       "tomato      6\n",
       "pumpkin     8\n",
       "carrot     10\n",
       "radish      4\n",
       "dtype: int64"
      ]
     },
     "execution_count": 24,
     "metadata": {},
     "output_type": "execute_result"
    }
   ],
   "source": [
    "veg[veg>2] #filtered output"
   ]
  },
  {
   "cell_type": "code",
   "execution_count": 25,
   "id": "1a69739b",
   "metadata": {},
   "outputs": [
    {
     "data": {
      "text/plain": [
       "potato      3\n",
       "tomato      6\n",
       "chilly      2\n",
       "pumpkin     8\n",
       "carrot     10\n",
       "radish      4\n",
       "dtype: int64"
      ]
     },
     "execution_count": 25,
     "metadata": {},
     "output_type": "execute_result"
    }
   ],
   "source": [
    "veg"
   ]
  },
  {
   "cell_type": "code",
   "execution_count": 26,
   "id": "64e035e4",
   "metadata": {},
   "outputs": [
    {
     "data": {
      "text/plain": [
       "potato      3\n",
       "tomato      6\n",
       "chilly      2\n",
       "pumpkin     8\n",
       "carrot     10\n",
       "dtype: int64"
      ]
     },
     "execution_count": 26,
     "metadata": {},
     "output_type": "execute_result"
    }
   ],
   "source": [
    "veg.head() #for top 5 elements"
   ]
  },
  {
   "cell_type": "code",
   "execution_count": 27,
   "id": "b1621163",
   "metadata": {},
   "outputs": [
    {
     "data": {
      "text/plain": [
       "potato    3\n",
       "tomato    6\n",
       "dtype: int64"
      ]
     },
     "execution_count": 27,
     "metadata": {},
     "output_type": "execute_result"
    }
   ],
   "source": [
    "veg.head(2) #for top 2 elements"
   ]
  },
  {
   "cell_type": "code",
   "execution_count": 28,
   "id": "7020ec71",
   "metadata": {},
   "outputs": [
    {
     "data": {
      "text/plain": [
       "tomato      6\n",
       "chilly      2\n",
       "pumpkin     8\n",
       "carrot     10\n",
       "radish      4\n",
       "dtype: int64"
      ]
     },
     "execution_count": 28,
     "metadata": {},
     "output_type": "execute_result"
    }
   ],
   "source": [
    "veg.tail() #5 from bottom"
   ]
  },
  {
   "cell_type": "code",
   "execution_count": 29,
   "id": "a3b47068",
   "metadata": {},
   "outputs": [
    {
     "data": {
      "text/plain": [
       "radish    4\n",
       "dtype: int64"
      ]
     },
     "execution_count": 29,
     "metadata": {},
     "output_type": "execute_result"
    }
   ],
   "source": [
    "veg.tail(1) #last element"
   ]
  },
  {
   "cell_type": "code",
   "execution_count": 30,
   "id": "3bd7bf05",
   "metadata": {},
   "outputs": [
    {
     "data": {
      "text/plain": [
       "chilly      2\n",
       "pumpkin     8\n",
       "carrot     10\n",
       "dtype: int64"
      ]
     },
     "execution_count": 30,
     "metadata": {},
     "output_type": "execute_result"
    }
   ],
   "source": [
    "veg[2:5]"
   ]
  },
  {
   "cell_type": "code",
   "execution_count": 31,
   "id": "9a2731f7",
   "metadata": {},
   "outputs": [
    {
     "data": {
      "text/plain": [
       "potato     False\n",
       "tomato     False\n",
       "chilly     False\n",
       "pumpkin    False\n",
       "carrot     False\n",
       "radish     False\n",
       "dtype: bool"
      ]
     },
     "execution_count": 31,
     "metadata": {},
     "output_type": "execute_result"
    }
   ],
   "source": [
    "#check any values belongs to the series \n",
    "veg.isin([50])"
   ]
  },
  {
   "cell_type": "code",
   "execution_count": 32,
   "id": "209a1463",
   "metadata": {},
   "outputs": [
    {
     "data": {
      "text/plain": [
       "potato     False\n",
       "tomato     False\n",
       "chilly      True\n",
       "pumpkin    False\n",
       "carrot     False\n",
       "radish     False\n",
       "dtype: bool"
      ]
     },
     "execution_count": 32,
     "metadata": {},
     "output_type": "execute_result"
    }
   ],
   "source": [
    "veg.isin([2]) #we compare the values"
   ]
  },
  {
   "cell_type": "code",
   "execution_count": 33,
   "id": "1c33dd1f",
   "metadata": {},
   "outputs": [
    {
     "data": {
      "text/plain": [
       "chilly    2\n",
       "radish    4\n",
       "dtype: int64"
      ]
     },
     "execution_count": 33,
     "metadata": {},
     "output_type": "execute_result"
    }
   ],
   "source": [
    "veg[veg.isin([2,4])]"
   ]
  },
  {
   "cell_type": "code",
   "execution_count": 34,
   "id": "2dcd9c37",
   "metadata": {},
   "outputs": [
    {
     "data": {
      "text/plain": [
       "0     a\n",
       "1     b\n",
       "2     c\n",
       "3     d\n",
       "4     a\n",
       "5     b\n",
       "6     c\n",
       "7     d\n",
       "8     a\n",
       "9     b\n",
       "10    c\n",
       "11    d\n",
       "12    a\n",
       "13    b\n",
       "14    c\n",
       "15    d\n",
       "dtype: object"
      ]
     },
     "execution_count": 34,
     "metadata": {},
     "output_type": "execute_result"
    }
   ],
   "source": [
    "# find unique values and their frequencies\n",
    "new = pd.Series(list('abcd'*4))\n",
    "new"
   ]
  },
  {
   "cell_type": "code",
   "execution_count": 35,
   "id": "4a695d67",
   "metadata": {},
   "outputs": [],
   "source": [
    "#unique() : name of all unique records\n",
    "#nunique() : count of unique records\n",
    "#value_counts() : name of uniques records with their occurences"
   ]
  },
  {
   "cell_type": "code",
   "execution_count": 36,
   "id": "a536963a",
   "metadata": {},
   "outputs": [
    {
     "data": {
      "text/plain": [
       "0     a\n",
       "1     b\n",
       "2     c\n",
       "3     d\n",
       "4     a\n",
       "5     b\n",
       "6     c\n",
       "7     d\n",
       "8     a\n",
       "9     b\n",
       "10    c\n",
       "11    d\n",
       "12    a\n",
       "13    b\n",
       "14    c\n",
       "15    d\n",
       "dtype: object"
      ]
     },
     "execution_count": 36,
     "metadata": {},
     "output_type": "execute_result"
    }
   ],
   "source": [
    "new\n"
   ]
  },
  {
   "cell_type": "code",
   "execution_count": 37,
   "id": "036885ac",
   "metadata": {},
   "outputs": [
    {
     "data": {
      "text/plain": [
       "array(['a', 'b', 'c', 'd'], dtype=object)"
      ]
     },
     "execution_count": 37,
     "metadata": {},
     "output_type": "execute_result"
    }
   ],
   "source": [
    "new.unique()"
   ]
  },
  {
   "cell_type": "code",
   "execution_count": 38,
   "id": "e6d369c7",
   "metadata": {},
   "outputs": [
    {
     "data": {
      "text/plain": [
       "4"
      ]
     },
     "execution_count": 38,
     "metadata": {},
     "output_type": "execute_result"
    }
   ],
   "source": [
    "new.nunique()"
   ]
  },
  {
   "cell_type": "code",
   "execution_count": 39,
   "id": "116391bf",
   "metadata": {},
   "outputs": [
    {
     "data": {
      "text/plain": [
       "a    4\n",
       "b    4\n",
       "c    4\n",
       "d    4\n",
       "dtype: int64"
      ]
     },
     "execution_count": 39,
     "metadata": {},
     "output_type": "execute_result"
    }
   ],
   "source": [
    "new.value_counts()"
   ]
  },
  {
   "cell_type": "code",
   "execution_count": 40,
   "id": "d785fdbb",
   "metadata": {},
   "outputs": [
    {
     "data": {
      "text/plain": [
       "0     a\n",
       "1     b\n",
       "2     c\n",
       "3     d\n",
       "4     a\n",
       "5     b\n",
       "6     c\n",
       "7     d\n",
       "8     a\n",
       "9     b\n",
       "10    c\n",
       "11    d\n",
       "12    a\n",
       "13    b\n",
       "14    c\n",
       "15    d\n",
       "dtype: object"
      ]
     },
     "execution_count": 40,
     "metadata": {},
     "output_type": "execute_result"
    }
   ],
   "source": [
    "# dealing with duplicates\n",
    "new"
   ]
  },
  {
   "cell_type": "code",
   "execution_count": 41,
   "id": "fa8e4dae",
   "metadata": {},
   "outputs": [
    {
     "data": {
      "text/plain": [
       "0     False\n",
       "1     False\n",
       "2     False\n",
       "3     False\n",
       "4      True\n",
       "5      True\n",
       "6      True\n",
       "7      True\n",
       "8      True\n",
       "9      True\n",
       "10     True\n",
       "11     True\n",
       "12     True\n",
       "13     True\n",
       "14     True\n",
       "15     True\n",
       "dtype: bool"
      ]
     },
     "execution_count": 41,
     "metadata": {},
     "output_type": "execute_result"
    }
   ],
   "source": [
    "new.duplicated()"
   ]
  },
  {
   "cell_type": "code",
   "execution_count": 42,
   "id": "45fa8285",
   "metadata": {},
   "outputs": [
    {
     "data": {
      "text/plain": [
       "4     a\n",
       "5     b\n",
       "6     c\n",
       "7     d\n",
       "8     a\n",
       "9     b\n",
       "10    c\n",
       "11    d\n",
       "12    a\n",
       "13    b\n",
       "14    c\n",
       "15    d\n",
       "dtype: object"
      ]
     },
     "execution_count": 42,
     "metadata": {},
     "output_type": "execute_result"
    }
   ],
   "source": [
    "new[new.duplicated()]"
   ]
  },
  {
   "cell_type": "code",
   "execution_count": 43,
   "id": "455cf45c",
   "metadata": {},
   "outputs": [
    {
     "data": {
      "text/plain": [
       "0    a\n",
       "1    b\n",
       "2    c\n",
       "3    d\n",
       "dtype: object"
      ]
     },
     "execution_count": 43,
     "metadata": {},
     "output_type": "execute_result"
    }
   ],
   "source": [
    "new.drop_duplicates() # drop the duplicated values from the list"
   ]
  },
  {
   "cell_type": "code",
   "execution_count": 44,
   "id": "131fd2e7",
   "metadata": {},
   "outputs": [],
   "source": [
    "#sorting the data\n",
    "#sort_values, sort_index"
   ]
  },
  {
   "cell_type": "code",
   "execution_count": 45,
   "id": "c05cc5b9",
   "metadata": {},
   "outputs": [
    {
     "data": {
      "text/plain": [
       "<bound method Series.sort_values of potato      3\n",
       "tomato      6\n",
       "chilly      2\n",
       "pumpkin     8\n",
       "carrot     10\n",
       "radish      4\n",
       "dtype: int64>"
      ]
     },
     "execution_count": 45,
     "metadata": {},
     "output_type": "execute_result"
    }
   ],
   "source": [
    "veg.sort_values"
   ]
  },
  {
   "cell_type": "code",
   "execution_count": 46,
   "id": "f18c119a",
   "metadata": {},
   "outputs": [
    {
     "data": {
      "text/plain": [
       "<bound method Series.sort_index of potato      3\n",
       "tomato      6\n",
       "chilly      2\n",
       "pumpkin     8\n",
       "carrot     10\n",
       "radish      4\n",
       "dtype: int64>"
      ]
     },
     "execution_count": 46,
     "metadata": {},
     "output_type": "execute_result"
    }
   ],
   "source": [
    "veg.sort_index"
   ]
  },
  {
   "cell_type": "code",
   "execution_count": 47,
   "id": "3c5ae108",
   "metadata": {},
   "outputs": [
    {
     "data": {
      "text/plain": [
       "<bound method Series.sort_values of 0     a\n",
       "1     b\n",
       "2     c\n",
       "3     d\n",
       "4     a\n",
       "5     b\n",
       "6     c\n",
       "7     d\n",
       "8     a\n",
       "9     b\n",
       "10    c\n",
       "11    d\n",
       "12    a\n",
       "13    b\n",
       "14    c\n",
       "15    d\n",
       "dtype: object>"
      ]
     },
     "execution_count": 47,
     "metadata": {},
     "output_type": "execute_result"
    }
   ],
   "source": [
    "new.sort_values"
   ]
  },
  {
   "cell_type": "code",
   "execution_count": 48,
   "id": "05936718",
   "metadata": {},
   "outputs": [
    {
     "data": {
      "text/plain": [
       "<bound method Series.sort_index of 0     a\n",
       "1     b\n",
       "2     c\n",
       "3     d\n",
       "4     a\n",
       "5     b\n",
       "6     c\n",
       "7     d\n",
       "8     a\n",
       "9     b\n",
       "10    c\n",
       "11    d\n",
       "12    a\n",
       "13    b\n",
       "14    c\n",
       "15    d\n",
       "dtype: object>"
      ]
     },
     "execution_count": 48,
     "metadata": {},
     "output_type": "execute_result"
    }
   ],
   "source": [
    "new.sort_index"
   ]
  },
  {
   "cell_type": "code",
   "execution_count": 50,
   "id": "b54f0641",
   "metadata": {},
   "outputs": [
    {
     "data": {
      "text/plain": [
       "0    2.0\n",
       "1    4.0\n",
       "2    5.0\n",
       "3    3.0\n",
       "4    NaN\n",
       "5    3.0\n",
       "6    NaN\n",
       "dtype: float64"
      ]
     },
     "execution_count": 50,
     "metadata": {},
     "output_type": "execute_result"
    }
   ],
   "source": [
    "#dealing with missing data\n",
    "#create a new series\n",
    "import numpy as np\n",
    "x = pd.Series([2,4,5,3,np.nan,3,np.nan])\n",
    "x"
   ]
  },
  {
   "cell_type": "code",
   "execution_count": 51,
   "id": "73373ba1",
   "metadata": {},
   "outputs": [
    {
     "data": {
      "text/plain": [
       "<bound method NDFrame._add_numeric_operations.<locals>.sum of 0    False\n",
       "1    False\n",
       "2    False\n",
       "3    False\n",
       "4     True\n",
       "5    False\n",
       "6     True\n",
       "dtype: bool>"
      ]
     },
     "execution_count": 51,
     "metadata": {},
     "output_type": "execute_result"
    }
   ],
   "source": [
    "x.isnull().sum"
   ]
  },
  {
   "cell_type": "code",
   "execution_count": 52,
   "id": "aa5dcbad",
   "metadata": {},
   "outputs": [
    {
     "data": {
      "text/plain": [
       "0    False\n",
       "1    False\n",
       "2    False\n",
       "3    False\n",
       "4     True\n",
       "5    False\n",
       "6     True\n",
       "dtype: bool"
      ]
     },
     "execution_count": 52,
     "metadata": {},
     "output_type": "execute_result"
    }
   ],
   "source": [
    "x.isnull()"
   ]
  },
  {
   "cell_type": "code",
   "execution_count": 54,
   "id": "c9a3cc63",
   "metadata": {},
   "outputs": [
    {
     "data": {
      "text/plain": [
       "0    2.0\n",
       "1    4.0\n",
       "2    5.0\n",
       "3    3.0\n",
       "4    2.5\n",
       "5    3.0\n",
       "6    2.5\n",
       "dtype: float64"
      ]
     },
     "execution_count": 54,
     "metadata": {},
     "output_type": "execute_result"
    }
   ],
   "source": [
    "x.fillna(2.5) #fill out missing records"
   ]
  },
  {
   "cell_type": "code",
   "execution_count": 55,
   "id": "068cd6fa",
   "metadata": {},
   "outputs": [
    {
     "data": {
      "text/plain": [
       "0    2.0\n",
       "1    4.0\n",
       "2    5.0\n",
       "3    3.0\n",
       "4    3.4\n",
       "5    3.0\n",
       "6    3.4\n",
       "dtype: float64"
      ]
     },
     "execution_count": 55,
     "metadata": {},
     "output_type": "execute_result"
    }
   ],
   "source": [
    "x.fillna(x.mean())"
   ]
  },
  {
   "cell_type": "code",
   "execution_count": 56,
   "id": "7929512f",
   "metadata": {},
   "outputs": [
    {
     "data": {
      "text/plain": [
       "0    2.0\n",
       "1    4.0\n",
       "2    5.0\n",
       "3    3.0\n",
       "4    3.0\n",
       "5    3.0\n",
       "6    3.0\n",
       "dtype: float64"
      ]
     },
     "execution_count": 56,
     "metadata": {},
     "output_type": "execute_result"
    }
   ],
   "source": [
    "#ffill() bfill()\n",
    "x.ffill()"
   ]
  },
  {
   "cell_type": "code",
   "execution_count": 57,
   "id": "c1e697bc",
   "metadata": {},
   "outputs": [
    {
     "data": {
      "text/plain": [
       "0    2.0\n",
       "1    4.0\n",
       "2    5.0\n",
       "3    3.0\n",
       "4    3.0\n",
       "5    3.0\n",
       "6    NaN\n",
       "dtype: float64"
      ]
     },
     "execution_count": 57,
     "metadata": {},
     "output_type": "execute_result"
    }
   ],
   "source": [
    "x.bfill()"
   ]
  },
  {
   "cell_type": "code",
   "execution_count": 58,
   "id": "1b45c552",
   "metadata": {},
   "outputs": [
    {
     "data": {
      "text/plain": [
       "0    2.0\n",
       "1    4.0\n",
       "2    5.0\n",
       "3    3.0\n",
       "5    3.0\n",
       "dtype: float64"
      ]
     },
     "execution_count": 58,
     "metadata": {},
     "output_type": "execute_result"
    }
   ],
   "source": [
    "# drop the Nan values\n",
    "x.dropna()"
   ]
  },
  {
   "cell_type": "code",
   "execution_count": 59,
   "id": "f9fa2f2f",
   "metadata": {},
   "outputs": [
    {
     "data": {
      "text/plain": [
       "0       alex\n",
       "1    mathhew\n",
       "2       john\n",
       "3      Franz\n",
       "dtype: object"
      ]
     },
     "execution_count": 59,
     "metadata": {},
     "output_type": "execute_result"
    }
   ],
   "source": [
    "check = pd.Series(['alex','mathhew','john','Franz'])\n",
    "check"
   ]
  },
  {
   "cell_type": "code",
   "execution_count": 60,
   "id": "202fe371",
   "metadata": {},
   "outputs": [
    {
     "data": {
      "text/plain": [
       "0    4\n",
       "1    7\n",
       "2    4\n",
       "3    5\n",
       "dtype: int64"
      ]
     },
     "execution_count": 60,
     "metadata": {},
     "output_type": "execute_result"
    }
   ],
   "source": [
    "check.map(lambda x:len(x)) #calculating the length of x"
   ]
  },
  {
   "cell_type": "code",
   "execution_count": null,
   "id": "622ce7e1",
   "metadata": {},
   "outputs": [],
   "source": [
    "#Series: one dimension\n",
    "#DataFrame: 2 dimensional, tabular, sql table, csv/excel etc"
   ]
  },
  {
   "cell_type": "code",
   "execution_count": 62,
   "id": "03c2d2ec",
   "metadata": {},
   "outputs": [
    {
     "data": {
      "text/html": [
       "<div>\n",
       "<style scoped>\n",
       "    .dataframe tbody tr th:only-of-type {\n",
       "        vertical-align: middle;\n",
       "    }\n",
       "\n",
       "    .dataframe tbody tr th {\n",
       "        vertical-align: top;\n",
       "    }\n",
       "\n",
       "    .dataframe thead th {\n",
       "        text-align: right;\n",
       "    }\n",
       "</style>\n",
       "<table border=\"1\" class=\"dataframe\">\n",
       "  <thead>\n",
       "    <tr style=\"text-align: right;\">\n",
       "      <th></th>\n",
       "    </tr>\n",
       "  </thead>\n",
       "  <tbody>\n",
       "  </tbody>\n",
       "</table>\n",
       "</div>"
      ],
      "text/plain": [
       "Empty DataFrame\n",
       "Columns: []\n",
       "Index: []"
      ]
     },
     "execution_count": 62,
     "metadata": {},
     "output_type": "execute_result"
    }
   ],
   "source": [
    "dt = pd.DataFrame() #empty dataframe\n",
    "dt"
   ]
  },
  {
   "cell_type": "code",
   "execution_count": 64,
   "id": "7f063890",
   "metadata": {},
   "outputs": [
    {
     "data": {
      "text/html": [
       "<div>\n",
       "<style scoped>\n",
       "    .dataframe tbody tr th:only-of-type {\n",
       "        vertical-align: middle;\n",
       "    }\n",
       "\n",
       "    .dataframe tbody tr th {\n",
       "        vertical-align: top;\n",
       "    }\n",
       "\n",
       "    .dataframe thead th {\n",
       "        text-align: right;\n",
       "    }\n",
       "</style>\n",
       "<table border=\"1\" class=\"dataframe\">\n",
       "  <thead>\n",
       "    <tr style=\"text-align: right;\">\n",
       "      <th></th>\n",
       "      <th>0</th>\n",
       "    </tr>\n",
       "  </thead>\n",
       "  <tbody>\n",
       "    <tr>\n",
       "      <th>0</th>\n",
       "      <td>5</td>\n",
       "    </tr>\n",
       "    <tr>\n",
       "      <th>1</th>\n",
       "      <td>3</td>\n",
       "    </tr>\n",
       "    <tr>\n",
       "      <th>2</th>\n",
       "      <td>7</td>\n",
       "    </tr>\n",
       "    <tr>\n",
       "      <th>3</th>\n",
       "      <td>6</td>\n",
       "    </tr>\n",
       "    <tr>\n",
       "      <th>4</th>\n",
       "      <td>5</td>\n",
       "    </tr>\n",
       "    <tr>\n",
       "      <th>5</th>\n",
       "      <td>4</td>\n",
       "    </tr>\n",
       "  </tbody>\n",
       "</table>\n",
       "</div>"
      ],
      "text/plain": [
       "   0\n",
       "0  5\n",
       "1  3\n",
       "2  7\n",
       "3  6\n",
       "4  5\n",
       "5  4"
      ]
     },
     "execution_count": 64,
     "metadata": {},
     "output_type": "execute_result"
    }
   ],
   "source": [
    "dt1 = [5,3,7,6,5,4] # a data frame\n",
    "dt2 = pd.DataFrame(dt1) #copy from dt1 data Frame\n",
    "dt2"
   ]
  },
  {
   "cell_type": "code",
   "execution_count": 65,
   "id": "b9315232",
   "metadata": {},
   "outputs": [
    {
     "data": {
      "text/html": [
       "<div>\n",
       "<style scoped>\n",
       "    .dataframe tbody tr th:only-of-type {\n",
       "        vertical-align: middle;\n",
       "    }\n",
       "\n",
       "    .dataframe tbody tr th {\n",
       "        vertical-align: top;\n",
       "    }\n",
       "\n",
       "    .dataframe thead th {\n",
       "        text-align: right;\n",
       "    }\n",
       "</style>\n",
       "<table border=\"1\" class=\"dataframe\">\n",
       "  <thead>\n",
       "    <tr style=\"text-align: right;\">\n",
       "      <th></th>\n",
       "      <th>name</th>\n",
       "      <th>age</th>\n",
       "    </tr>\n",
       "  </thead>\n",
       "  <tbody>\n",
       "    <tr>\n",
       "      <th>0</th>\n",
       "      <td>alex</td>\n",
       "      <td>30</td>\n",
       "    </tr>\n",
       "    <tr>\n",
       "      <th>1</th>\n",
       "      <td>mathhew</td>\n",
       "      <td>45</td>\n",
       "    </tr>\n",
       "    <tr>\n",
       "      <th>2</th>\n",
       "      <td>romain</td>\n",
       "      <td>56</td>\n",
       "    </tr>\n",
       "  </tbody>\n",
       "</table>\n",
       "</div>"
      ],
      "text/plain": [
       "      name  age\n",
       "0     alex   30\n",
       "1  mathhew   45\n",
       "2   romain   56"
      ]
     },
     "execution_count": 65,
     "metadata": {},
     "output_type": "execute_result"
    }
   ],
   "source": [
    "data = [['alex',30],['mathhew',45],['romain',56]]\n",
    "dt3 = pd.DataFrame(data,columns=['name','age'])\n",
    "dt3"
   ]
  },
  {
   "cell_type": "code",
   "execution_count": 73,
   "id": "470020ad",
   "metadata": {},
   "outputs": [
    {
     "data": {
      "text/html": [
       "<div>\n",
       "<style scoped>\n",
       "    .dataframe tbody tr th:only-of-type {\n",
       "        vertical-align: middle;\n",
       "    }\n",
       "\n",
       "    .dataframe tbody tr th {\n",
       "        vertical-align: top;\n",
       "    }\n",
       "\n",
       "    .dataframe thead th {\n",
       "        text-align: right;\n",
       "    }\n",
       "</style>\n",
       "<table border=\"1\" class=\"dataframe\">\n",
       "  <thead>\n",
       "    <tr style=\"text-align: right;\">\n",
       "      <th></th>\n",
       "      <th>name</th>\n",
       "      <th>age</th>\n",
       "    </tr>\n",
       "  </thead>\n",
       "  <tbody>\n",
       "    <tr>\n",
       "      <th>rank1</th>\n",
       "      <td>tom</td>\n",
       "      <td>34</td>\n",
       "    </tr>\n",
       "    <tr>\n",
       "      <th>rank2</th>\n",
       "      <td>alan</td>\n",
       "      <td>76</td>\n",
       "    </tr>\n",
       "    <tr>\n",
       "      <th>rank3</th>\n",
       "      <td>jack</td>\n",
       "      <td>34</td>\n",
       "    </tr>\n",
       "    <tr>\n",
       "      <th>rank4</th>\n",
       "      <td>rosy</td>\n",
       "      <td>67</td>\n",
       "    </tr>\n",
       "    <tr>\n",
       "      <th>rank5</th>\n",
       "      <td>jess</td>\n",
       "      <td>40</td>\n",
       "    </tr>\n",
       "    <tr>\n",
       "      <th>rank6</th>\n",
       "      <td>lilly</td>\n",
       "      <td>70</td>\n",
       "    </tr>\n",
       "  </tbody>\n",
       "</table>\n",
       "</div>"
      ],
      "text/plain": [
       "        name  age\n",
       "rank1    tom   34\n",
       "rank2   alan   76\n",
       "rank3   jack   34\n",
       "rank4   rosy   67\n",
       "rank5   jess   40\n",
       "rank6  lilly   70"
      ]
     },
     "execution_count": 73,
     "metadata": {},
     "output_type": "execute_result"
    }
   ],
   "source": [
    "data ={'name':['tom','alan','jack','rosy','jess','lilly'],'age':[34,76,34,67,40,70]} #how to rename the columns\n",
    "dt4 = pd.DataFrame(data,index=['rank1','rank2','rank3','rank4','rank5','rank6']) #how to get the index\n",
    "dt4"
   ]
  },
  {
   "cell_type": "code",
   "execution_count": 74,
   "id": "e2b639c3",
   "metadata": {},
   "outputs": [
    {
     "data": {
      "text/plain": [
       "Index(['rank1', 'rank2', 'rank3', 'rank4', 'rank5', 'rank6'], dtype='object')"
      ]
     },
     "execution_count": 74,
     "metadata": {},
     "output_type": "execute_result"
    }
   ],
   "source": [
    "#dataframe attributes\n",
    "dt4.index #index in the dataframe"
   ]
  },
  {
   "cell_type": "code",
   "execution_count": 75,
   "id": "fcd39141",
   "metadata": {},
   "outputs": [
    {
     "data": {
      "text/plain": [
       "Index(['name', 'age'], dtype='object')"
      ]
     },
     "execution_count": 75,
     "metadata": {},
     "output_type": "execute_result"
    }
   ],
   "source": [
    "dt4.columns #columns in the dataframe"
   ]
  },
  {
   "cell_type": "code",
   "execution_count": 76,
   "id": "5a68146c",
   "metadata": {},
   "outputs": [
    {
     "data": {
      "text/plain": [
       "name    object\n",
       "age      int64\n",
       "dtype: object"
      ]
     },
     "execution_count": 76,
     "metadata": {},
     "output_type": "execute_result"
    }
   ],
   "source": [
    "dt4.dtypes #type"
   ]
  },
  {
   "cell_type": "code",
   "execution_count": 77,
   "id": "fc28b177",
   "metadata": {},
   "outputs": [
    {
     "data": {
      "text/plain": [
       "(6, 2)"
      ]
     },
     "execution_count": 77,
     "metadata": {},
     "output_type": "execute_result"
    }
   ],
   "source": [
    "dt4.shape"
   ]
  },
  {
   "cell_type": "code",
   "execution_count": 78,
   "id": "dd6cfe15",
   "metadata": {},
   "outputs": [
    {
     "data": {
      "text/html": [
       "<div>\n",
       "<style scoped>\n",
       "    .dataframe tbody tr th:only-of-type {\n",
       "        vertical-align: middle;\n",
       "    }\n",
       "\n",
       "    .dataframe tbody tr th {\n",
       "        vertical-align: top;\n",
       "    }\n",
       "\n",
       "    .dataframe thead th {\n",
       "        text-align: right;\n",
       "    }\n",
       "</style>\n",
       "<table border=\"1\" class=\"dataframe\">\n",
       "  <thead>\n",
       "    <tr style=\"text-align: right;\">\n",
       "      <th></th>\n",
       "      <th>name</th>\n",
       "      <th>age</th>\n",
       "    </tr>\n",
       "  </thead>\n",
       "  <tbody>\n",
       "    <tr>\n",
       "      <th>rank1</th>\n",
       "      <td>tom</td>\n",
       "      <td>34</td>\n",
       "    </tr>\n",
       "    <tr>\n",
       "      <th>rank2</th>\n",
       "      <td>alan</td>\n",
       "      <td>76</td>\n",
       "    </tr>\n",
       "    <tr>\n",
       "      <th>rank3</th>\n",
       "      <td>jack</td>\n",
       "      <td>34</td>\n",
       "    </tr>\n",
       "    <tr>\n",
       "      <th>rank4</th>\n",
       "      <td>rosy</td>\n",
       "      <td>67</td>\n",
       "    </tr>\n",
       "    <tr>\n",
       "      <th>rank5</th>\n",
       "      <td>jess</td>\n",
       "      <td>40</td>\n",
       "    </tr>\n",
       "  </tbody>\n",
       "</table>\n",
       "</div>"
      ],
      "text/plain": [
       "       name  age\n",
       "rank1   tom   34\n",
       "rank2  alan   76\n",
       "rank3  jack   34\n",
       "rank4  rosy   67\n",
       "rank5  jess   40"
      ]
     },
     "execution_count": 78,
     "metadata": {},
     "output_type": "execute_result"
    }
   ],
   "source": [
    "dt4.head() #first 5 rows"
   ]
  },
  {
   "cell_type": "code",
   "execution_count": 79,
   "id": "4367e96e",
   "metadata": {},
   "outputs": [
    {
     "data": {
      "text/html": [
       "<div>\n",
       "<style scoped>\n",
       "    .dataframe tbody tr th:only-of-type {\n",
       "        vertical-align: middle;\n",
       "    }\n",
       "\n",
       "    .dataframe tbody tr th {\n",
       "        vertical-align: top;\n",
       "    }\n",
       "\n",
       "    .dataframe thead th {\n",
       "        text-align: right;\n",
       "    }\n",
       "</style>\n",
       "<table border=\"1\" class=\"dataframe\">\n",
       "  <thead>\n",
       "    <tr style=\"text-align: right;\">\n",
       "      <th></th>\n",
       "      <th>name</th>\n",
       "      <th>age</th>\n",
       "    </tr>\n",
       "  </thead>\n",
       "  <tbody>\n",
       "    <tr>\n",
       "      <th>rank2</th>\n",
       "      <td>alan</td>\n",
       "      <td>76</td>\n",
       "    </tr>\n",
       "    <tr>\n",
       "      <th>rank3</th>\n",
       "      <td>jack</td>\n",
       "      <td>34</td>\n",
       "    </tr>\n",
       "    <tr>\n",
       "      <th>rank4</th>\n",
       "      <td>rosy</td>\n",
       "      <td>67</td>\n",
       "    </tr>\n",
       "    <tr>\n",
       "      <th>rank5</th>\n",
       "      <td>jess</td>\n",
       "      <td>40</td>\n",
       "    </tr>\n",
       "    <tr>\n",
       "      <th>rank6</th>\n",
       "      <td>lilly</td>\n",
       "      <td>70</td>\n",
       "    </tr>\n",
       "  </tbody>\n",
       "</table>\n",
       "</div>"
      ],
      "text/plain": [
       "        name  age\n",
       "rank2   alan   76\n",
       "rank3   jack   34\n",
       "rank4   rosy   67\n",
       "rank5   jess   40\n",
       "rank6  lilly   70"
      ]
     },
     "execution_count": 79,
     "metadata": {},
     "output_type": "execute_result"
    }
   ],
   "source": [
    "dt4.tail() # 5last rows"
   ]
  },
  {
   "cell_type": "code",
   "execution_count": 80,
   "id": "26732aaf",
   "metadata": {},
   "outputs": [
    {
     "data": {
      "text/html": [
       "<div>\n",
       "<style scoped>\n",
       "    .dataframe tbody tr th:only-of-type {\n",
       "        vertical-align: middle;\n",
       "    }\n",
       "\n",
       "    .dataframe tbody tr th {\n",
       "        vertical-align: top;\n",
       "    }\n",
       "\n",
       "    .dataframe thead th {\n",
       "        text-align: right;\n",
       "    }\n",
       "</style>\n",
       "<table border=\"1\" class=\"dataframe\">\n",
       "  <thead>\n",
       "    <tr style=\"text-align: right;\">\n",
       "      <th></th>\n",
       "      <th>name</th>\n",
       "      <th>age</th>\n",
       "    </tr>\n",
       "  </thead>\n",
       "  <tbody>\n",
       "    <tr>\n",
       "      <th>rank5</th>\n",
       "      <td>jess</td>\n",
       "      <td>40</td>\n",
       "    </tr>\n",
       "    <tr>\n",
       "      <th>rank6</th>\n",
       "      <td>lilly</td>\n",
       "      <td>70</td>\n",
       "    </tr>\n",
       "  </tbody>\n",
       "</table>\n",
       "</div>"
      ],
      "text/plain": [
       "        name  age\n",
       "rank5   jess   40\n",
       "rank6  lilly   70"
      ]
     },
     "execution_count": 80,
     "metadata": {},
     "output_type": "execute_result"
    }
   ],
   "source": [
    "dt4.tail(2)"
   ]
  },
  {
   "cell_type": "code",
   "execution_count": 81,
   "id": "ddc28c3b",
   "metadata": {},
   "outputs": [
    {
     "data": {
      "text/html": [
       "<div>\n",
       "<style scoped>\n",
       "    .dataframe tbody tr th:only-of-type {\n",
       "        vertical-align: middle;\n",
       "    }\n",
       "\n",
       "    .dataframe tbody tr th {\n",
       "        vertical-align: top;\n",
       "    }\n",
       "\n",
       "    .dataframe thead th {\n",
       "        text-align: right;\n",
       "    }\n",
       "</style>\n",
       "<table border=\"1\" class=\"dataframe\">\n",
       "  <thead>\n",
       "    <tr style=\"text-align: right;\">\n",
       "      <th></th>\n",
       "      <th>name</th>\n",
       "      <th>age</th>\n",
       "    </tr>\n",
       "  </thead>\n",
       "  <tbody>\n",
       "    <tr>\n",
       "      <th>rank3</th>\n",
       "      <td>jack</td>\n",
       "      <td>34</td>\n",
       "    </tr>\n",
       "    <tr>\n",
       "      <th>rank4</th>\n",
       "      <td>rosy</td>\n",
       "      <td>67</td>\n",
       "    </tr>\n",
       "    <tr>\n",
       "      <th>rank5</th>\n",
       "      <td>jess</td>\n",
       "      <td>40</td>\n",
       "    </tr>\n",
       "  </tbody>\n",
       "</table>\n",
       "</div>"
      ],
      "text/plain": [
       "       name  age\n",
       "rank3  jack   34\n",
       "rank4  rosy   67\n",
       "rank5  jess   40"
      ]
     },
     "execution_count": 81,
     "metadata": {},
     "output_type": "execute_result"
    }
   ],
   "source": [
    "dt4[2:5] #last range will be excluded last-1 (5-1=4)"
   ]
  },
  {
   "cell_type": "code",
   "execution_count": 82,
   "id": "1155a01e",
   "metadata": {},
   "outputs": [
    {
     "data": {
      "text/plain": [
       "rank1      tom\n",
       "rank2     alan\n",
       "rank3     jack\n",
       "rank4     rosy\n",
       "rank5     jess\n",
       "rank6    lilly\n",
       "Name: name, dtype: object"
      ]
     },
     "execution_count": 82,
     "metadata": {},
     "output_type": "execute_result"
    }
   ],
   "source": [
    "dt4['name'] #extract columns from df"
   ]
  },
  {
   "cell_type": "code",
   "execution_count": 83,
   "id": "1bd05fca",
   "metadata": {},
   "outputs": [
    {
     "data": {
      "text/plain": [
       "rank1      tom\n",
       "rank2     alan\n",
       "rank3     jack\n",
       "rank4     rosy\n",
       "rank5     jess\n",
       "rank6    lilly\n",
       "Name: name, dtype: object"
      ]
     },
     "execution_count": 83,
     "metadata": {},
     "output_type": "execute_result"
    }
   ],
   "source": [
    "#another way\n",
    "dt4.name"
   ]
  },
  {
   "cell_type": "code",
   "execution_count": 85,
   "id": "ea0ed3f3",
   "metadata": {},
   "outputs": [
    {
     "data": {
      "text/html": [
       "<div>\n",
       "<style scoped>\n",
       "    .dataframe tbody tr th:only-of-type {\n",
       "        vertical-align: middle;\n",
       "    }\n",
       "\n",
       "    .dataframe tbody tr th {\n",
       "        vertical-align: top;\n",
       "    }\n",
       "\n",
       "    .dataframe thead th {\n",
       "        text-align: right;\n",
       "    }\n",
       "</style>\n",
       "<table border=\"1\" class=\"dataframe\">\n",
       "  <thead>\n",
       "    <tr style=\"text-align: right;\">\n",
       "      <th></th>\n",
       "      <th>p</th>\n",
       "      <th>q</th>\n",
       "      <th>r</th>\n",
       "      <th>s</th>\n",
       "    </tr>\n",
       "  </thead>\n",
       "  <tbody>\n",
       "    <tr>\n",
       "      <th>a</th>\n",
       "      <td>4</td>\n",
       "      <td>49</td>\n",
       "      <td>47</td>\n",
       "      <td>32</td>\n",
       "    </tr>\n",
       "    <tr>\n",
       "      <th>b</th>\n",
       "      <td>26</td>\n",
       "      <td>30</td>\n",
       "      <td>12</td>\n",
       "      <td>42</td>\n",
       "    </tr>\n",
       "    <tr>\n",
       "      <th>c</th>\n",
       "      <td>17</td>\n",
       "      <td>23</td>\n",
       "      <td>47</td>\n",
       "      <td>23</td>\n",
       "    </tr>\n",
       "    <tr>\n",
       "      <th>d</th>\n",
       "      <td>29</td>\n",
       "      <td>13</td>\n",
       "      <td>21</td>\n",
       "      <td>11</td>\n",
       "    </tr>\n",
       "    <tr>\n",
       "      <th>e</th>\n",
       "      <td>38</td>\n",
       "      <td>23</td>\n",
       "      <td>37</td>\n",
       "      <td>3</td>\n",
       "    </tr>\n",
       "  </tbody>\n",
       "</table>\n",
       "</div>"
      ],
      "text/plain": [
       "    p   q   r   s\n",
       "a   4  49  47  32\n",
       "b  26  30  12  42\n",
       "c  17  23  47  23\n",
       "d  29  13  21  11\n",
       "e  38  23  37   3"
      ]
     },
     "execution_count": 85,
     "metadata": {},
     "output_type": "execute_result"
    }
   ],
   "source": [
    "#extracting more then 2 columns\n",
    "df = pd.DataFrame(np.random.randint(0,50,20).reshape(5,4),index=list('abcde'),columns=list('pqrs'))\n",
    "df"
   ]
  },
  {
   "cell_type": "code",
   "execution_count": 88,
   "id": "8428c2ff",
   "metadata": {},
   "outputs": [
    {
     "data": {
      "text/plain": [
       "['a', 'b', 'c', 'd', 'e']"
      ]
     },
     "execution_count": 88,
     "metadata": {},
     "output_type": "execute_result"
    }
   ],
   "source": [
    "list('abcde')"
   ]
  },
  {
   "cell_type": "code",
   "execution_count": 89,
   "id": "deadfedb",
   "metadata": {},
   "outputs": [
    {
     "data": {
      "text/plain": [
       "a     4\n",
       "b    26\n",
       "c    17\n",
       "d    29\n",
       "e    38\n",
       "Name: p, dtype: int32"
      ]
     },
     "execution_count": 89,
     "metadata": {},
     "output_type": "execute_result"
    }
   ],
   "source": [
    "#df['p'] #another way to extract particular column\n",
    "df.p"
   ]
  },
  {
   "cell_type": "code",
   "execution_count": 90,
   "id": "9bccb443",
   "metadata": {},
   "outputs": [
    {
     "data": {
      "text/html": [
       "<div>\n",
       "<style scoped>\n",
       "    .dataframe tbody tr th:only-of-type {\n",
       "        vertical-align: middle;\n",
       "    }\n",
       "\n",
       "    .dataframe tbody tr th {\n",
       "        vertical-align: top;\n",
       "    }\n",
       "\n",
       "    .dataframe thead th {\n",
       "        text-align: right;\n",
       "    }\n",
       "</style>\n",
       "<table border=\"1\" class=\"dataframe\">\n",
       "  <thead>\n",
       "    <tr style=\"text-align: right;\">\n",
       "      <th></th>\n",
       "      <th>p</th>\n",
       "      <th>q</th>\n",
       "      <th>r</th>\n",
       "      <th>s</th>\n",
       "    </tr>\n",
       "  </thead>\n",
       "  <tbody>\n",
       "  </tbody>\n",
       "</table>\n",
       "</div>"
      ],
      "text/plain": [
       "Empty DataFrame\n",
       "Columns: [p, q, r, s]\n",
       "Index: []"
      ]
     },
     "execution_count": 90,
     "metadata": {},
     "output_type": "execute_result"
    }
   ],
   "source": [
    "df['q':'r']"
   ]
  },
  {
   "cell_type": "code",
   "execution_count": null,
   "id": "20ca558b",
   "metadata": {},
   "outputs": [],
   "source": [
    "#loc: label based index\n",
    "#iloc position based index"
   ]
  },
  {
   "cell_type": "code",
   "execution_count": 93,
   "id": "fc1488c1",
   "metadata": {},
   "outputs": [
    {
     "data": {
      "text/html": [
       "<div>\n",
       "<style scoped>\n",
       "    .dataframe tbody tr th:only-of-type {\n",
       "        vertical-align: middle;\n",
       "    }\n",
       "\n",
       "    .dataframe tbody tr th {\n",
       "        vertical-align: top;\n",
       "    }\n",
       "\n",
       "    .dataframe thead th {\n",
       "        text-align: right;\n",
       "    }\n",
       "</style>\n",
       "<table border=\"1\" class=\"dataframe\">\n",
       "  <thead>\n",
       "    <tr style=\"text-align: right;\">\n",
       "      <th></th>\n",
       "      <th>p</th>\n",
       "      <th>q</th>\n",
       "      <th>r</th>\n",
       "    </tr>\n",
       "  </thead>\n",
       "  <tbody>\n",
       "    <tr>\n",
       "      <th>a</th>\n",
       "      <td>4</td>\n",
       "      <td>49</td>\n",
       "      <td>47</td>\n",
       "    </tr>\n",
       "    <tr>\n",
       "      <th>b</th>\n",
       "      <td>26</td>\n",
       "      <td>30</td>\n",
       "      <td>12</td>\n",
       "    </tr>\n",
       "    <tr>\n",
       "      <th>c</th>\n",
       "      <td>17</td>\n",
       "      <td>23</td>\n",
       "      <td>47</td>\n",
       "    </tr>\n",
       "    <tr>\n",
       "      <th>d</th>\n",
       "      <td>29</td>\n",
       "      <td>13</td>\n",
       "      <td>21</td>\n",
       "    </tr>\n",
       "  </tbody>\n",
       "</table>\n",
       "</div>"
      ],
      "text/plain": [
       "    p   q   r\n",
       "a   4  49  47\n",
       "b  26  30  12\n",
       "c  17  23  47\n",
       "d  29  13  21"
      ]
     },
     "execution_count": 93,
     "metadata": {},
     "output_type": "execute_result"
    }
   ],
   "source": [
    "#df.loc[row,col]\n",
    "df.loc['a':'d','p':'r']"
   ]
  },
  {
   "cell_type": "code",
   "execution_count": 94,
   "id": "daf86446",
   "metadata": {},
   "outputs": [
    {
     "data": {
      "text/html": [
       "<div>\n",
       "<style scoped>\n",
       "    .dataframe tbody tr th:only-of-type {\n",
       "        vertical-align: middle;\n",
       "    }\n",
       "\n",
       "    .dataframe tbody tr th {\n",
       "        vertical-align: top;\n",
       "    }\n",
       "\n",
       "    .dataframe thead th {\n",
       "        text-align: right;\n",
       "    }\n",
       "</style>\n",
       "<table border=\"1\" class=\"dataframe\">\n",
       "  <thead>\n",
       "    <tr style=\"text-align: right;\">\n",
       "      <th></th>\n",
       "      <th>p</th>\n",
       "      <th>q</th>\n",
       "      <th>r</th>\n",
       "    </tr>\n",
       "  </thead>\n",
       "  <tbody>\n",
       "    <tr>\n",
       "      <th>a</th>\n",
       "      <td>4</td>\n",
       "      <td>49</td>\n",
       "      <td>47</td>\n",
       "    </tr>\n",
       "    <tr>\n",
       "      <th>b</th>\n",
       "      <td>26</td>\n",
       "      <td>30</td>\n",
       "      <td>12</td>\n",
       "    </tr>\n",
       "    <tr>\n",
       "      <th>c</th>\n",
       "      <td>17</td>\n",
       "      <td>23</td>\n",
       "      <td>47</td>\n",
       "    </tr>\n",
       "    <tr>\n",
       "      <th>d</th>\n",
       "      <td>29</td>\n",
       "      <td>13</td>\n",
       "      <td>21</td>\n",
       "    </tr>\n",
       "  </tbody>\n",
       "</table>\n",
       "</div>"
      ],
      "text/plain": [
       "    p   q   r\n",
       "a   4  49  47\n",
       "b  26  30  12\n",
       "c  17  23  47\n",
       "d  29  13  21"
      ]
     },
     "execution_count": 94,
     "metadata": {},
     "output_type": "execute_result"
    }
   ],
   "source": [
    "#df.iloc[] / start position and go to, start position and go to...\n",
    "df.iloc[0:4,0:3]"
   ]
  },
  {
   "cell_type": "code",
   "execution_count": null,
   "id": "8ebb6cb0",
   "metadata": {},
   "outputs": [],
   "source": []
  }
 ],
 "metadata": {
  "kernelspec": {
   "display_name": "Python 3 (ipykernel)",
   "language": "python",
   "name": "python3"
  },
  "language_info": {
   "codemirror_mode": {
    "name": "ipython",
    "version": 3
   },
   "file_extension": ".py",
   "mimetype": "text/x-python",
   "name": "python",
   "nbconvert_exporter": "python",
   "pygments_lexer": "ipython3",
   "version": "3.8.3"
  }
 },
 "nbformat": 4,
 "nbformat_minor": 5
}
