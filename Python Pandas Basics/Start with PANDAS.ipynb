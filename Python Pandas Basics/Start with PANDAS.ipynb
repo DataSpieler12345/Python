{
 "cells": [
  {
   "cell_type": "code",
   "execution_count": 1,
   "id": "f0754722",
   "metadata": {},
   "outputs": [],
   "source": [
    "import pandas as pd"
   ]
  },
  {
   "cell_type": "code",
   "execution_count": 11,
   "id": "0a0e137d",
   "metadata": {},
   "outputs": [
    {
     "data": {
      "text/plain": [
       "potato      3\n",
       "tomato      6\n",
       "chilly      2\n",
       "pumpkin     8\n",
       "carrot     10\n",
       "radish      4\n",
       "dtype: int64"
      ]
     },
     "execution_count": 11,
     "metadata": {},
     "output_type": "execute_result"
    }
   ],
   "source": [
    "# create a new Series dictionary\n",
    "veg = pd.Series({'potato':3,'tomato':6,'chilly':2,'pumpkin':8,'carrot':10,'radish':4})\n",
    "veg"
   ]
  },
  {
   "cell_type": "code",
   "execution_count": 12,
   "id": "283a7f51",
   "metadata": {},
   "outputs": [
    {
     "data": {
      "text/plain": [
       "array([ 3,  6,  2,  8, 10,  4], dtype=int64)"
      ]
     },
     "execution_count": 12,
     "metadata": {},
     "output_type": "execute_result"
    }
   ],
   "source": [
    "# extracting all the values\n",
    "veg.values"
   ]
  },
  {
   "cell_type": "code",
   "execution_count": 13,
   "id": "aa23599a",
   "metadata": {},
   "outputs": [
    {
     "data": {
      "text/plain": [
       "Index(['potato', 'tomato', 'chilly', 'pumpkin', 'carrot', 'radish'], dtype='object')"
      ]
     },
     "execution_count": 13,
     "metadata": {},
     "output_type": "execute_result"
    }
   ],
   "source": [
    "# we need all the indexes that we have\n",
    "veg.index"
   ]
  },
  {
   "cell_type": "code",
   "execution_count": 14,
   "id": "de360e3c",
   "metadata": {},
   "outputs": [
    {
     "data": {
      "text/plain": [
       "(6,)"
      ]
     },
     "execution_count": 14,
     "metadata": {},
     "output_type": "execute_result"
    }
   ],
   "source": [
    "#shape (total number of record/element we have)\n",
    "veg.shape"
   ]
  },
  {
   "cell_type": "code",
   "execution_count": 15,
   "id": "a767e63a",
   "metadata": {},
   "outputs": [
    {
     "data": {
      "text/plain": [
       "3"
      ]
     },
     "execution_count": 15,
     "metadata": {},
     "output_type": "execute_result"
    }
   ],
   "source": [
    "# subset series\n",
    "\n",
    "#option_1\n",
    "veg[0] # we call the first element using position/index"
   ]
  },
  {
   "cell_type": "code",
   "execution_count": 16,
   "id": "c05aeb8f",
   "metadata": {},
   "outputs": [
    {
     "data": {
      "text/plain": [
       "10"
      ]
     },
     "execution_count": 16,
     "metadata": {},
     "output_type": "execute_result"
    }
   ],
   "source": [
    "#option_2 \n",
    "veg['carrot'] #we call back the value with the label"
   ]
  },
  {
   "cell_type": "code",
   "execution_count": 17,
   "id": "e8fb113f",
   "metadata": {},
   "outputs": [
    {
     "data": {
      "text/plain": [
       "pumpkin     8\n",
       "carrot     10\n",
       "radish      4\n",
       "dtype: int64"
      ]
     },
     "execution_count": 17,
     "metadata": {},
     "output_type": "execute_result"
    }
   ],
   "source": [
    "veg['pumpkin':'radish'] #range of records"
   ]
  },
  {
   "cell_type": "code",
   "execution_count": 18,
   "id": "40fcb670",
   "metadata": {},
   "outputs": [
    {
     "data": {
      "text/plain": [
       "tomato     6\n",
       "chilly     2\n",
       "pumpkin    8\n",
       "dtype: int64"
      ]
     },
     "execution_count": 18,
     "metadata": {},
     "output_type": "execute_result"
    }
   ],
   "source": [
    "veg[1:4] #from 1 to 3 / last range is excluded it will got till 3 index only \n"
   ]
  },
  {
   "cell_type": "code",
   "execution_count": 19,
   "id": "b45021f2",
   "metadata": {},
   "outputs": [
    {
     "data": {
      "text/plain": [
       "tomato     6\n",
       "radish     4\n",
       "pumpkin    8\n",
       "dtype: int64"
      ]
     },
     "execution_count": 19,
     "metadata": {},
     "output_type": "execute_result"
    }
   ],
   "source": [
    "veg[['tomato','radish','pumpkin']]"
   ]
  },
  {
   "cell_type": "code",
   "execution_count": 21,
   "id": "9c3d825f",
   "metadata": {},
   "outputs": [
    {
     "data": {
      "text/plain": [
       "tomato      6\n",
       "chilly      2\n",
       "pumpkin     8\n",
       "carrot     10\n",
       "radish      4\n",
       "dtype: int64"
      ]
     },
     "execution_count": 21,
     "metadata": {},
     "output_type": "execute_result"
    }
   ],
   "source": [
    "veg['tomato':] #from tomate to the last element"
   ]
  },
  {
   "cell_type": "code",
   "execution_count": 23,
   "id": "5b6a16f9",
   "metadata": {},
   "outputs": [
    {
     "data": {
      "text/plain": [
       "potato     3\n",
       "tomato     6\n",
       "chilly     2\n",
       "pumpkin    8\n",
       "dtype: int64"
      ]
     },
     "execution_count": 23,
     "metadata": {},
     "output_type": "execute_result"
    }
   ],
   "source": [
    "veg[ :'pumpkin'] #from potato to pumpkin"
   ]
  },
  {
   "cell_type": "code",
   "execution_count": 24,
   "id": "a649dcaf",
   "metadata": {},
   "outputs": [
    {
     "data": {
      "text/plain": [
       "tomato     6\n",
       "chilly     2\n",
       "pumpkin    8\n",
       "dtype: int64"
      ]
     },
     "execution_count": 24,
     "metadata": {},
     "output_type": "execute_result"
    }
   ],
   "source": [
    "veg[1:4] #start by 1 till 3"
   ]
  },
  {
   "cell_type": "code",
   "execution_count": 25,
   "id": "6a01ba1d",
   "metadata": {},
   "outputs": [
    {
     "data": {
      "text/plain": [
       "tomato     6\n",
       "pumpkin    8\n",
       "radish     4\n",
       "dtype: int64"
      ]
     },
     "execution_count": 25,
     "metadata": {},
     "output_type": "execute_result"
    }
   ],
   "source": [
    "veg[1::2] #extract every second element"
   ]
  },
  {
   "cell_type": "code",
   "execution_count": 26,
   "id": "e10539f1",
   "metadata": {},
   "outputs": [
    {
     "data": {
      "text/plain": [
       "tomato     6\n",
       "carrot    10\n",
       "dtype: int64"
      ]
     },
     "execution_count": 26,
     "metadata": {},
     "output_type": "execute_result"
    }
   ],
   "source": [
    "veg[1::3] #extract every third element"
   ]
  },
  {
   "cell_type": "code",
   "execution_count": 27,
   "id": "3647005f",
   "metadata": {},
   "outputs": [
    {
     "data": {
      "text/plain": [
       "potato      3\n",
       "tomato      6\n",
       "chilly      2\n",
       "pumpkin     8\n",
       "carrot     10\n",
       "radish      4\n",
       "dtype: int64"
      ]
     },
     "execution_count": 27,
     "metadata": {},
     "output_type": "execute_result"
    }
   ],
   "source": [
    "veg"
   ]
  },
  {
   "cell_type": "code",
   "execution_count": null,
   "id": "dd12f840",
   "metadata": {},
   "outputs": [],
   "source": [
    "#iloc/loc\n",
    "#loc: label based indexing\n",
    "#iloc: position based indexing"
   ]
  },
  {
   "cell_type": "code",
   "execution_count": 28,
   "id": "8a2f62a0",
   "metadata": {},
   "outputs": [
    {
     "data": {
      "text/plain": [
       "tomato      6\n",
       "chilly      2\n",
       "pumpkin     8\n",
       "carrot     10\n",
       "dtype: int64"
      ]
     },
     "execution_count": 28,
     "metadata": {},
     "output_type": "execute_result"
    }
   ],
   "source": [
    "#veg.loc['tomato':'carrot']\n",
    "veg['tomato':'carrot']"
   ]
  },
  {
   "cell_type": "code",
   "execution_count": 30,
   "id": "7353676b",
   "metadata": {},
   "outputs": [
    {
     "data": {
      "text/plain": [
       "potato     3\n",
       "tomato     6\n",
       "chilly     2\n",
       "pumpkin    8\n",
       "dtype: int64"
      ]
     },
     "execution_count": 30,
     "metadata": {},
     "output_type": "execute_result"
    }
   ],
   "source": [
    "#veg.iloc[0:4]\n",
    "veg[0:4] # potato to pumpking position"
   ]
  },
  {
   "cell_type": "code",
   "execution_count": 31,
   "id": "1c0de19f",
   "metadata": {},
   "outputs": [
    {
     "data": {
      "text/plain": [
       "potato      True\n",
       "tomato      True\n",
       "chilly     False\n",
       "pumpkin     True\n",
       "carrot      True\n",
       "radish      True\n",
       "dtype: bool"
      ]
     },
     "execution_count": 31,
     "metadata": {},
     "output_type": "execute_result"
    }
   ],
   "source": [
    "veg>2 #boolean output / chilly = 2"
   ]
  },
  {
   "cell_type": "code",
   "execution_count": 32,
   "id": "d21c520a",
   "metadata": {},
   "outputs": [
    {
     "data": {
      "text/plain": [
       "potato     False\n",
       "tomato     False\n",
       "chilly     False\n",
       "pumpkin    False\n",
       "carrot     False\n",
       "radish     False\n",
       "dtype: bool"
      ]
     },
     "execution_count": 32,
     "metadata": {},
     "output_type": "execute_result"
    }
   ],
   "source": [
    "veg<2 #boolean output / chilly = 2"
   ]
  },
  {
   "cell_type": "code",
   "execution_count": 33,
   "id": "1fdd983d",
   "metadata": {},
   "outputs": [
    {
     "data": {
      "text/plain": [
       "potato     True\n",
       "tomato     True\n",
       "chilly     True\n",
       "pumpkin    True\n",
       "carrot     True\n",
       "radish     True\n",
       "dtype: bool"
      ]
     },
     "execution_count": 33,
     "metadata": {},
     "output_type": "execute_result"
    }
   ],
   "source": [
    "veg>=2 #boolean output / chilly = 2"
   ]
  },
  {
   "cell_type": "code",
   "execution_count": 34,
   "id": "08c0eab9",
   "metadata": {},
   "outputs": [
    {
     "data": {
      "text/plain": [
       "potato     False\n",
       "tomato     False\n",
       "chilly      True\n",
       "pumpkin    False\n",
       "carrot     False\n",
       "radish     False\n",
       "dtype: bool"
      ]
     },
     "execution_count": 34,
     "metadata": {},
     "output_type": "execute_result"
    }
   ],
   "source": [
    "veg<=2 #chilly =2"
   ]
  },
  {
   "cell_type": "code",
   "execution_count": 35,
   "id": "b0a55677",
   "metadata": {},
   "outputs": [
    {
     "data": {
      "text/plain": [
       "potato      3\n",
       "tomato      6\n",
       "pumpkin     8\n",
       "carrot     10\n",
       "radish      4\n",
       "dtype: int64"
      ]
     },
     "execution_count": 35,
     "metadata": {},
     "output_type": "execute_result"
    }
   ],
   "source": [
    "veg[veg>2] #filtered output"
   ]
  },
  {
   "cell_type": "code",
   "execution_count": 36,
   "id": "55af73b6",
   "metadata": {},
   "outputs": [
    {
     "data": {
      "text/plain": [
       "potato      3\n",
       "tomato      6\n",
       "chilly      2\n",
       "pumpkin     8\n",
       "carrot     10\n",
       "radish      4\n",
       "dtype: int64"
      ]
     },
     "execution_count": 36,
     "metadata": {},
     "output_type": "execute_result"
    }
   ],
   "source": [
    "veg"
   ]
  },
  {
   "cell_type": "code",
   "execution_count": 37,
   "id": "5912074f",
   "metadata": {},
   "outputs": [
    {
     "data": {
      "text/plain": [
       "potato      3\n",
       "tomato      6\n",
       "chilly      2\n",
       "pumpkin     8\n",
       "carrot     10\n",
       "dtype: int64"
      ]
     },
     "execution_count": 37,
     "metadata": {},
     "output_type": "execute_result"
    }
   ],
   "source": [
    "veg.head() #for top 5 elements"
   ]
  },
  {
   "cell_type": "code",
   "execution_count": 38,
   "id": "6d448327",
   "metadata": {},
   "outputs": [
    {
     "data": {
      "text/plain": [
       "potato    3\n",
       "tomato    6\n",
       "dtype: int64"
      ]
     },
     "execution_count": 38,
     "metadata": {},
     "output_type": "execute_result"
    }
   ],
   "source": [
    "veg.head(2) #for top 2 elements"
   ]
  },
  {
   "cell_type": "code",
   "execution_count": 39,
   "id": "b950e80c",
   "metadata": {},
   "outputs": [
    {
     "data": {
      "text/plain": [
       "tomato      6\n",
       "chilly      2\n",
       "pumpkin     8\n",
       "carrot     10\n",
       "radish      4\n",
       "dtype: int64"
      ]
     },
     "execution_count": 39,
     "metadata": {},
     "output_type": "execute_result"
    }
   ],
   "source": [
    "veg.tail() #5 from bottom"
   ]
  },
  {
   "cell_type": "code",
   "execution_count": 40,
   "id": "3f9a4415",
   "metadata": {},
   "outputs": [
    {
     "data": {
      "text/plain": [
       "radish    4\n",
       "dtype: int64"
      ]
     },
     "execution_count": 40,
     "metadata": {},
     "output_type": "execute_result"
    }
   ],
   "source": [
    "veg.tail(1) #last element"
   ]
  },
  {
   "cell_type": "code",
   "execution_count": 41,
   "id": "57bc46b6",
   "metadata": {},
   "outputs": [
    {
     "data": {
      "text/plain": [
       "chilly      2\n",
       "pumpkin     8\n",
       "carrot     10\n",
       "dtype: int64"
      ]
     },
     "execution_count": 41,
     "metadata": {},
     "output_type": "execute_result"
    }
   ],
   "source": [
    "veg[2:5]"
   ]
  },
  {
   "cell_type": "code",
   "execution_count": 45,
   "id": "bf2608cd",
   "metadata": {},
   "outputs": [
    {
     "data": {
      "text/plain": [
       "potato     False\n",
       "tomato     False\n",
       "chilly     False\n",
       "pumpkin    False\n",
       "carrot     False\n",
       "radish     False\n",
       "dtype: bool"
      ]
     },
     "execution_count": 45,
     "metadata": {},
     "output_type": "execute_result"
    }
   ],
   "source": [
    "#check any values belongs to the series \n",
    "veg.isin([50])"
   ]
  },
  {
   "cell_type": "code",
   "execution_count": 44,
   "id": "e1439e2c",
   "metadata": {},
   "outputs": [
    {
     "data": {
      "text/plain": [
       "potato     False\n",
       "tomato     False\n",
       "chilly      True\n",
       "pumpkin    False\n",
       "carrot     False\n",
       "radish     False\n",
       "dtype: bool"
      ]
     },
     "execution_count": 44,
     "metadata": {},
     "output_type": "execute_result"
    }
   ],
   "source": [
    "veg.isin([2]) #we compare the values"
   ]
  },
  {
   "cell_type": "code",
   "execution_count": 46,
   "id": "e2e06006",
   "metadata": {},
   "outputs": [
    {
     "data": {
      "text/plain": [
       "chilly    2\n",
       "radish    4\n",
       "dtype: int64"
      ]
     },
     "execution_count": 46,
     "metadata": {},
     "output_type": "execute_result"
    }
   ],
   "source": [
    "veg[veg.isin([2,4])]"
   ]
  },
  {
   "cell_type": "code",
   "execution_count": 48,
   "id": "15d33946",
   "metadata": {},
   "outputs": [
    {
     "data": {
      "text/plain": [
       "0     a\n",
       "1     b\n",
       "2     c\n",
       "3     d\n",
       "4     a\n",
       "5     b\n",
       "6     c\n",
       "7     d\n",
       "8     a\n",
       "9     b\n",
       "10    c\n",
       "11    d\n",
       "12    a\n",
       "13    b\n",
       "14    c\n",
       "15    d\n",
       "dtype: object"
      ]
     },
     "execution_count": 48,
     "metadata": {},
     "output_type": "execute_result"
    }
   ],
   "source": [
    "# find unique values and their frequencies\n",
    "new = pd.Series(list('abcd'*4))\n",
    "new"
   ]
  },
  {
   "cell_type": "code",
   "execution_count": null,
   "id": "12d27f7f",
   "metadata": {},
   "outputs": [],
   "source": [
    "#unique() : name of all unique records\n",
    "#nunique() : count of unique records\n",
    "#value_counts() : name of uniques records with their occurences"
   ]
  },
  {
   "cell_type": "code",
   "execution_count": 49,
   "id": "b7c6e5c5",
   "metadata": {},
   "outputs": [
    {
     "data": {
      "text/plain": [
       "0     a\n",
       "1     b\n",
       "2     c\n",
       "3     d\n",
       "4     a\n",
       "5     b\n",
       "6     c\n",
       "7     d\n",
       "8     a\n",
       "9     b\n",
       "10    c\n",
       "11    d\n",
       "12    a\n",
       "13    b\n",
       "14    c\n",
       "15    d\n",
       "dtype: object"
      ]
     },
     "execution_count": 49,
     "metadata": {},
     "output_type": "execute_result"
    }
   ],
   "source": [
    "new\n"
   ]
  },
  {
   "cell_type": "code",
   "execution_count": 50,
   "id": "adbe7ca6",
   "metadata": {},
   "outputs": [
    {
     "data": {
      "text/plain": [
       "array(['a', 'b', 'c', 'd'], dtype=object)"
      ]
     },
     "execution_count": 50,
     "metadata": {},
     "output_type": "execute_result"
    }
   ],
   "source": [
    "new.unique()"
   ]
  },
  {
   "cell_type": "code",
   "execution_count": 51,
   "id": "7a8b068a",
   "metadata": {},
   "outputs": [
    {
     "data": {
      "text/plain": [
       "4"
      ]
     },
     "execution_count": 51,
     "metadata": {},
     "output_type": "execute_result"
    }
   ],
   "source": [
    "new.nunique()"
   ]
  },
  {
   "cell_type": "code",
   "execution_count": 52,
   "id": "fa7021f1",
   "metadata": {},
   "outputs": [
    {
     "data": {
      "text/plain": [
       "a    4\n",
       "b    4\n",
       "c    4\n",
       "d    4\n",
       "dtype: int64"
      ]
     },
     "execution_count": 52,
     "metadata": {},
     "output_type": "execute_result"
    }
   ],
   "source": [
    "new.value_counts()"
   ]
  },
  {
   "cell_type": "code",
   "execution_count": 53,
   "id": "35497fdb",
   "metadata": {},
   "outputs": [
    {
     "data": {
      "text/plain": [
       "0     a\n",
       "1     b\n",
       "2     c\n",
       "3     d\n",
       "4     a\n",
       "5     b\n",
       "6     c\n",
       "7     d\n",
       "8     a\n",
       "9     b\n",
       "10    c\n",
       "11    d\n",
       "12    a\n",
       "13    b\n",
       "14    c\n",
       "15    d\n",
       "dtype: object"
      ]
     },
     "execution_count": 53,
     "metadata": {},
     "output_type": "execute_result"
    }
   ],
   "source": [
    "# dealing with duplicates\n",
    "new"
   ]
  },
  {
   "cell_type": "code",
   "execution_count": 54,
   "id": "9aaf5ae7",
   "metadata": {},
   "outputs": [
    {
     "data": {
      "text/plain": [
       "0     False\n",
       "1     False\n",
       "2     False\n",
       "3     False\n",
       "4      True\n",
       "5      True\n",
       "6      True\n",
       "7      True\n",
       "8      True\n",
       "9      True\n",
       "10     True\n",
       "11     True\n",
       "12     True\n",
       "13     True\n",
       "14     True\n",
       "15     True\n",
       "dtype: bool"
      ]
     },
     "execution_count": 54,
     "metadata": {},
     "output_type": "execute_result"
    }
   ],
   "source": [
    "new.duplicated()"
   ]
  },
  {
   "cell_type": "code",
   "execution_count": 55,
   "id": "c74fd870",
   "metadata": {},
   "outputs": [
    {
     "data": {
      "text/plain": [
       "4     a\n",
       "5     b\n",
       "6     c\n",
       "7     d\n",
       "8     a\n",
       "9     b\n",
       "10    c\n",
       "11    d\n",
       "12    a\n",
       "13    b\n",
       "14    c\n",
       "15    d\n",
       "dtype: object"
      ]
     },
     "execution_count": 55,
     "metadata": {},
     "output_type": "execute_result"
    }
   ],
   "source": [
    "new[new.duplicated()]"
   ]
  },
  {
   "cell_type": "code",
   "execution_count": 56,
   "id": "f39aa8ca",
   "metadata": {},
   "outputs": [
    {
     "data": {
      "text/plain": [
       "0    a\n",
       "1    b\n",
       "2    c\n",
       "3    d\n",
       "dtype: object"
      ]
     },
     "execution_count": 56,
     "metadata": {},
     "output_type": "execute_result"
    }
   ],
   "source": [
    "new.drop_duplicates() # drop the duplicated values from the list"
   ]
  },
  {
   "cell_type": "code",
   "execution_count": null,
   "id": "fc1838d7",
   "metadata": {},
   "outputs": [],
   "source": [
    "#sorting the data\n",
    "#sort_values, sort_index"
   ]
  },
  {
   "cell_type": "code",
   "execution_count": 57,
   "id": "95b66e83",
   "metadata": {},
   "outputs": [
    {
     "data": {
      "text/plain": [
       "<bound method Series.sort_values of potato      3\n",
       "tomato      6\n",
       "chilly      2\n",
       "pumpkin     8\n",
       "carrot     10\n",
       "radish      4\n",
       "dtype: int64>"
      ]
     },
     "execution_count": 57,
     "metadata": {},
     "output_type": "execute_result"
    }
   ],
   "source": [
    "veg.sort_values"
   ]
  },
  {
   "cell_type": "code",
   "execution_count": 59,
   "id": "58fe571f",
   "metadata": {},
   "outputs": [
    {
     "data": {
      "text/plain": [
       "<bound method Series.sort_index of potato      3\n",
       "tomato      6\n",
       "chilly      2\n",
       "pumpkin     8\n",
       "carrot     10\n",
       "radish      4\n",
       "dtype: int64>"
      ]
     },
     "execution_count": 59,
     "metadata": {},
     "output_type": "execute_result"
    }
   ],
   "source": [
    "veg.sort_index"
   ]
  },
  {
   "cell_type": "code",
   "execution_count": 58,
   "id": "a6955cc3",
   "metadata": {},
   "outputs": [
    {
     "data": {
      "text/plain": [
       "<bound method Series.sort_values of 0     a\n",
       "1     b\n",
       "2     c\n",
       "3     d\n",
       "4     a\n",
       "5     b\n",
       "6     c\n",
       "7     d\n",
       "8     a\n",
       "9     b\n",
       "10    c\n",
       "11    d\n",
       "12    a\n",
       "13    b\n",
       "14    c\n",
       "15    d\n",
       "dtype: object>"
      ]
     },
     "execution_count": 58,
     "metadata": {},
     "output_type": "execute_result"
    }
   ],
   "source": [
    "new.sort_values"
   ]
  },
  {
   "cell_type": "code",
   "execution_count": 60,
   "id": "2ae4643e",
   "metadata": {},
   "outputs": [
    {
     "data": {
      "text/plain": [
       "<bound method Series.sort_index of 0     a\n",
       "1     b\n",
       "2     c\n",
       "3     d\n",
       "4     a\n",
       "5     b\n",
       "6     c\n",
       "7     d\n",
       "8     a\n",
       "9     b\n",
       "10    c\n",
       "11    d\n",
       "12    a\n",
       "13    b\n",
       "14    c\n",
       "15    d\n",
       "dtype: object>"
      ]
     },
     "execution_count": 60,
     "metadata": {},
     "output_type": "execute_result"
    }
   ],
   "source": [
    "new.sort_index"
   ]
  },
  {
   "cell_type": "code",
   "execution_count": 64,
   "id": "78587ff8",
   "metadata": {},
   "outputs": [
    {
     "data": {
      "text/plain": [
       "0    2.0\n",
       "1    4.0\n",
       "2    5.0\n",
       "3    3.0\n",
       "4    NaN\n",
       "5    3.0\n",
       "6    NaN\n",
       "dtype: float64"
      ]
     },
     "execution_count": 64,
     "metadata": {},
     "output_type": "execute_result"
    }
   ],
   "source": [
    "#dealing with missing data\n",
    "#create a new series\n",
    "\n",
    "x = pd.Series([2,4,5,3,np.nan,3,np.nan])\n",
    "x"
   ]
  },
  {
   "cell_type": "code",
   "execution_count": null,
   "id": "f051d81f",
   "metadata": {},
   "outputs": [],
   "source": [
    "x."
   ]
  }
 ],
 "metadata": {
  "kernelspec": {
   "display_name": "Python 3 (ipykernel)",
   "language": "python",
   "name": "python3"
  },
  "language_info": {
   "codemirror_mode": {
    "name": "ipython",
    "version": 3
   },
   "file_extension": ".py",
   "mimetype": "text/x-python",
   "name": "python",
   "nbconvert_exporter": "python",
   "pygments_lexer": "ipython3",
   "version": "3.8.3"
  }
 },
 "nbformat": 4,
 "nbformat_minor": 5
}
