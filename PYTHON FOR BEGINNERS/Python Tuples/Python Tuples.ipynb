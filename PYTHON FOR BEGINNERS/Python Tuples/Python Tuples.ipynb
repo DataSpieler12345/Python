{
 "cells": [
  {
   "cell_type": "markdown",
   "id": "b9187219",
   "metadata": {},
   "source": [
    "# Creating tuples\n"
   ]
  },
  {
   "cell_type": "code",
   "execution_count": 1,
   "id": "00e21d54",
   "metadata": {},
   "outputs": [
    {
     "name": "stdout",
     "output_type": "stream",
     "text": [
      "<class 'tuple'>\n"
     ]
    }
   ],
   "source": [
    "emp=()\n",
    "print(type(emp))"
   ]
  },
  {
   "cell_type": "code",
   "execution_count": 2,
   "id": "bc35055e",
   "metadata": {},
   "outputs": [
    {
     "name": "stdout",
     "output_type": "stream",
     "text": [
      "()\n"
     ]
    }
   ],
   "source": [
    "print(emp)"
   ]
  },
  {
   "cell_type": "code",
   "execution_count": 3,
   "id": "5dfd1136",
   "metadata": {},
   "outputs": [],
   "source": [
    "city= \"Managua\","
   ]
  },
  {
   "cell_type": "code",
   "execution_count": 4,
   "id": "a66165f1",
   "metadata": {},
   "outputs": [
    {
     "data": {
      "text/plain": [
       "tuple"
      ]
     },
     "execution_count": 4,
     "metadata": {},
     "output_type": "execute_result"
    }
   ],
   "source": [
    "type(city)"
   ]
  },
  {
   "cell_type": "code",
   "execution_count": 5,
   "id": "40aafd4e",
   "metadata": {},
   "outputs": [
    {
     "data": {
      "text/plain": [
       "'Managua'"
      ]
     },
     "execution_count": 5,
     "metadata": {},
     "output_type": "execute_result"
    }
   ],
   "source": [
    "city=(\"Managua\")\n",
    "city"
   ]
  },
  {
   "cell_type": "code",
   "execution_count": 6,
   "id": "e4e76910",
   "metadata": {},
   "outputs": [
    {
     "data": {
      "text/plain": [
       "('Managua',)"
      ]
     },
     "execution_count": 6,
     "metadata": {},
     "output_type": "execute_result"
    }
   ],
   "source": [
    "city=(\"Managua\",)\n",
    "city"
   ]
  },
  {
   "cell_type": "code",
   "execution_count": 7,
   "id": "e09a6497",
   "metadata": {},
   "outputs": [
    {
     "data": {
      "text/plain": [
       "('Managua', 'Granada', 'Jinotega', 'Matagalpa')"
      ]
     },
     "execution_count": 7,
     "metadata": {},
     "output_type": "execute_result"
    }
   ],
   "source": [
    "city= (\"Managua\",\"Granada\",\"Jinotega\",\"Matagalpa\")\n",
    "city"
   ]
  },
  {
   "cell_type": "code",
   "execution_count": 8,
   "id": "8525fbe6",
   "metadata": {},
   "outputs": [
    {
     "data": {
      "text/plain": [
       "tuple"
      ]
     },
     "execution_count": 8,
     "metadata": {},
     "output_type": "execute_result"
    }
   ],
   "source": [
    "type(city)"
   ]
  },
  {
   "cell_type": "code",
   "execution_count": 9,
   "id": "77ece302",
   "metadata": {},
   "outputs": [
    {
     "name": "stdout",
     "output_type": "stream",
     "text": [
      "[1, 2, 3, 4, 5]\n"
     ]
    }
   ],
   "source": [
    "list1=[1,2,3,4]\n",
    "tuple1=(1,2,3,4)\n",
    "list1.append(5)\n",
    "print(list1) #mutable"
   ]
  },
  {
   "cell_type": "code",
   "execution_count": 10,
   "id": "944a9386",
   "metadata": {},
   "outputs": [
    {
     "ename": "AttributeError",
     "evalue": "'tuple' object has no attribute 'append'",
     "output_type": "error",
     "traceback": [
      "\u001b[1;31m---------------------------------------------------------------------------\u001b[0m",
      "\u001b[1;31mAttributeError\u001b[0m                            Traceback (most recent call last)",
      "Cell \u001b[1;32mIn[10], line 1\u001b[0m\n\u001b[1;32m----> 1\u001b[0m \u001b[43mtuple1\u001b[49m\u001b[38;5;241;43m.\u001b[39;49m\u001b[43mappend\u001b[49m(\u001b[38;5;241m1\u001b[39m)\n",
      "\u001b[1;31mAttributeError\u001b[0m: 'tuple' object has no attribute 'append'"
     ]
    }
   ],
   "source": [
    "tuple1.append(1) #unmutable"
   ]
  },
  {
   "cell_type": "code",
   "execution_count": 11,
   "id": "4f30e8dc",
   "metadata": {},
   "outputs": [
    {
     "name": "stdout",
     "output_type": "stream",
     "text": [
      "('Managua', 'Granada', 'Jinotega', 'Matagalpa')\n"
     ]
    }
   ],
   "source": [
    "print(city)"
   ]
  },
  {
   "cell_type": "code",
   "execution_count": 13,
   "id": "bb11898b",
   "metadata": {},
   "outputs": [
    {
     "data": {
      "text/plain": [
       "'Managua'"
      ]
     },
     "execution_count": 13,
     "metadata": {},
     "output_type": "execute_result"
    }
   ],
   "source": [
    "city[0]"
   ]
  },
  {
   "cell_type": "code",
   "execution_count": 15,
   "id": "7b908c70",
   "metadata": {},
   "outputs": [
    {
     "data": {
      "text/plain": [
       "'Matagalpa'"
      ]
     },
     "execution_count": 15,
     "metadata": {},
     "output_type": "execute_result"
    }
   ],
   "source": [
    "city[-1]"
   ]
  },
  {
   "cell_type": "markdown",
   "id": "2e4b0d1c",
   "metadata": {},
   "source": [
    "# Concatenation"
   ]
  },
  {
   "cell_type": "code",
   "execution_count": 16,
   "id": "8aaf917a",
   "metadata": {},
   "outputs": [
    {
     "name": "stdout",
     "output_type": "stream",
     "text": [
      "('Managua', 'Granada', 'Jinotega', 'Matagalpa')\n"
     ]
    }
   ],
   "source": [
    "print(city)"
   ]
  },
  {
   "cell_type": "code",
   "execution_count": 17,
   "id": "c53a34db",
   "metadata": {},
   "outputs": [],
   "source": [
    "num=1,2,3,4"
   ]
  },
  {
   "cell_type": "code",
   "execution_count": 18,
   "id": "85b5d07b",
   "metadata": {},
   "outputs": [
    {
     "name": "stdout",
     "output_type": "stream",
     "text": [
      "('Managua', 'Granada', 'Jinotega', 'Matagalpa', 1, 2, 3, 4)\n"
     ]
    }
   ],
   "source": [
    "print(city+num)"
   ]
  },
  {
   "cell_type": "markdown",
   "id": "8c568435",
   "metadata": {},
   "source": [
    "# Nesting"
   ]
  },
  {
   "cell_type": "code",
   "execution_count": 19,
   "id": "23920f28",
   "metadata": {},
   "outputs": [],
   "source": [
    "nest=(city,num)"
   ]
  },
  {
   "cell_type": "code",
   "execution_count": 20,
   "id": "4c721215",
   "metadata": {},
   "outputs": [
    {
     "name": "stdout",
     "output_type": "stream",
     "text": [
      "(('Managua', 'Granada', 'Jinotega', 'Matagalpa'), (1, 2, 3, 4))\n"
     ]
    }
   ],
   "source": [
    "print(nest)"
   ]
  },
  {
   "cell_type": "markdown",
   "id": "9fc19b2f",
   "metadata": {},
   "source": [
    "# Repetiton"
   ]
  },
  {
   "cell_type": "code",
   "execution_count": 21,
   "id": "b1fb50b0",
   "metadata": {},
   "outputs": [
    {
     "data": {
      "text/plain": [
       "('Python', 'Python', 'Python', 'Python', 'Python')"
      ]
     },
     "execution_count": 21,
     "metadata": {},
     "output_type": "execute_result"
    }
   ],
   "source": [
    "rep=(\"Python\",)*5\n",
    "rep"
   ]
  },
  {
   "cell_type": "code",
   "execution_count": 22,
   "id": "54d36636",
   "metadata": {},
   "outputs": [
    {
     "name": "stdout",
     "output_type": "stream",
     "text": [
      "('Python', 'Python', 'Python', 'Python', 'Python', 'Python', 'Python', 'Python', 'Python', 'Python')\n"
     ]
    }
   ],
   "source": [
    "rep=(\"Python\",)\n",
    "print(rep*10)"
   ]
  },
  {
   "cell_type": "code",
   "execution_count": 23,
   "id": "2a58c5d3",
   "metadata": {},
   "outputs": [
    {
     "data": {
      "text/plain": [
       "('Python',)"
      ]
     },
     "execution_count": 23,
     "metadata": {},
     "output_type": "execute_result"
    }
   ],
   "source": [
    "rep"
   ]
  },
  {
   "cell_type": "markdown",
   "id": "ad80a4b7",
   "metadata": {},
   "source": [
    "# Slicing in tuples\n"
   ]
  },
  {
   "cell_type": "code",
   "execution_count": 24,
   "id": "4afd2e5a",
   "metadata": {},
   "outputs": [
    {
     "data": {
      "text/plain": [
       "(1, 2, 3, 4)"
      ]
     },
     "execution_count": 24,
     "metadata": {},
     "output_type": "execute_result"
    }
   ],
   "source": [
    "num"
   ]
  },
  {
   "cell_type": "code",
   "execution_count": 25,
   "id": "5bc9984b",
   "metadata": {},
   "outputs": [
    {
     "data": {
      "text/plain": [
       "(2, 3, 4)"
      ]
     },
     "execution_count": 25,
     "metadata": {},
     "output_type": "execute_result"
    }
   ],
   "source": [
    "num[1:]"
   ]
  },
  {
   "cell_type": "code",
   "execution_count": 26,
   "id": "65ec1b72",
   "metadata": {},
   "outputs": [
    {
     "data": {
      "text/plain": [
       "(1,)"
      ]
     },
     "execution_count": 26,
     "metadata": {},
     "output_type": "execute_result"
    }
   ],
   "source": [
    "num[:1]"
   ]
  },
  {
   "cell_type": "code",
   "execution_count": 27,
   "id": "5f07b5e9",
   "metadata": {},
   "outputs": [
    {
     "data": {
      "text/plain": [
       "(4, 3, 2, 1)"
      ]
     },
     "execution_count": 27,
     "metadata": {},
     "output_type": "execute_result"
    }
   ],
   "source": [
    "num[::-1]"
   ]
  },
  {
   "cell_type": "markdown",
   "id": "a19cefc3",
   "metadata": {},
   "source": [
    "# Unpacking"
   ]
  },
  {
   "cell_type": "code",
   "execution_count": 28,
   "id": "40c6335d",
   "metadata": {},
   "outputs": [
    {
     "data": {
      "text/plain": [
       "('R',\n",
       " 'e',\n",
       " 'f',\n",
       " 'r',\n",
       " 'e',\n",
       " 's',\n",
       " 'h',\n",
       " 'o',\n",
       " 'f',\n",
       " 'P',\n",
       " 'y',\n",
       " 'S',\n",
       " 'k',\n",
       " 'i',\n",
       " 'l',\n",
       " 'l',\n",
       " 's')"
      ]
     },
     "execution_count": 28,
     "metadata": {},
     "output_type": "execute_result"
    }
   ],
   "source": [
    "tuple(\"RefreshofPySkills\")"
   ]
  },
  {
   "cell_type": "code",
   "execution_count": 29,
   "id": "275e9729",
   "metadata": {},
   "outputs": [
    {
     "name": "stdout",
     "output_type": "stream",
     "text": [
      "(1, 2, 3, 4)\n"
     ]
    }
   ],
   "source": [
    "print(num)"
   ]
  },
  {
   "cell_type": "code",
   "execution_count": 30,
   "id": "64e08fd3",
   "metadata": {},
   "outputs": [],
   "source": [
    "a,b,c,d=num"
   ]
  },
  {
   "cell_type": "code",
   "execution_count": 31,
   "id": "9e01fd7f",
   "metadata": {},
   "outputs": [
    {
     "name": "stdout",
     "output_type": "stream",
     "text": [
      "1 2 3 4\n"
     ]
    }
   ],
   "source": [
    "print(a,b,c,d)"
   ]
  },
  {
   "cell_type": "code",
   "execution_count": 32,
   "id": "b9a2ac32",
   "metadata": {},
   "outputs": [
    {
     "name": "stdout",
     "output_type": "stream",
     "text": [
      "1 [2, 3] 4\n"
     ]
    }
   ],
   "source": [
    "a,*b,c= num\n",
    "print(a,b,c)"
   ]
  },
  {
   "cell_type": "markdown",
   "id": "7294c3a6",
   "metadata": {},
   "source": [
    "# Deleting a tuple"
   ]
  },
  {
   "cell_type": "code",
   "execution_count": 33,
   "id": "f6c0a974",
   "metadata": {},
   "outputs": [
    {
     "name": "stdout",
     "output_type": "stream",
     "text": [
      "(1, 2, 3, 4)\n"
     ]
    }
   ],
   "source": [
    "tuple1=(1,2,3,4)\n",
    "print(tuple1)"
   ]
  },
  {
   "cell_type": "code",
   "execution_count": 34,
   "id": "46bf23ce",
   "metadata": {},
   "outputs": [],
   "source": [
    "del tuple1"
   ]
  },
  {
   "cell_type": "code",
   "execution_count": 35,
   "id": "ef71263d",
   "metadata": {},
   "outputs": [
    {
     "ename": "NameError",
     "evalue": "name 'tuple1' is not defined",
     "output_type": "error",
     "traceback": [
      "\u001b[1;31m---------------------------------------------------------------------------\u001b[0m",
      "\u001b[1;31mNameError\u001b[0m                                 Traceback (most recent call last)",
      "Cell \u001b[1;32mIn[35], line 1\u001b[0m\n\u001b[1;32m----> 1\u001b[0m \u001b[38;5;28mprint\u001b[39m(\u001b[43mtuple1\u001b[49m)\n",
      "\u001b[1;31mNameError\u001b[0m: name 'tuple1' is not defined"
     ]
    }
   ],
   "source": [
    "print(tuple1) #tuple deleted"
   ]
  },
  {
   "cell_type": "markdown",
   "id": "9ce9a173",
   "metadata": {},
   "source": [
    "# Built in function"
   ]
  },
  {
   "cell_type": "code",
   "execution_count": 36,
   "id": "c40ec14f",
   "metadata": {},
   "outputs": [],
   "source": [
    "num1=(3,5,2,2,2,6,5,8)"
   ]
  },
  {
   "cell_type": "code",
   "execution_count": 38,
   "id": "69e39f17",
   "metadata": {},
   "outputs": [
    {
     "data": {
      "text/plain": [
       "3"
      ]
     },
     "execution_count": 38,
     "metadata": {},
     "output_type": "execute_result"
    }
   ],
   "source": [
    "num1.count(2)"
   ]
  },
  {
   "cell_type": "code",
   "execution_count": 39,
   "id": "ebc87aff",
   "metadata": {},
   "outputs": [
    {
     "data": {
      "text/plain": [
       "33"
      ]
     },
     "execution_count": 39,
     "metadata": {},
     "output_type": "execute_result"
    }
   ],
   "source": [
    "sum(num1)"
   ]
  },
  {
   "cell_type": "code",
   "execution_count": 40,
   "id": "1da907a3",
   "metadata": {},
   "outputs": [
    {
     "data": {
      "text/plain": [
       "8"
      ]
     },
     "execution_count": 40,
     "metadata": {},
     "output_type": "execute_result"
    }
   ],
   "source": [
    "len(num1)"
   ]
  },
  {
   "cell_type": "code",
   "execution_count": 41,
   "id": "c7b725d0",
   "metadata": {},
   "outputs": [
    {
     "data": {
      "text/plain": [
       "8"
      ]
     },
     "execution_count": 41,
     "metadata": {},
     "output_type": "execute_result"
    }
   ],
   "source": [
    "max(num1)"
   ]
  },
  {
   "cell_type": "code",
   "execution_count": 42,
   "id": "3923089c",
   "metadata": {},
   "outputs": [
    {
     "data": {
      "text/plain": [
       "2"
      ]
     },
     "execution_count": 42,
     "metadata": {},
     "output_type": "execute_result"
    }
   ],
   "source": [
    "min(num1)"
   ]
  },
  {
   "cell_type": "markdown",
   "id": "6290f34d",
   "metadata": {},
   "source": [
    "# Converting list to tuple"
   ]
  },
  {
   "cell_type": "code",
   "execution_count": 43,
   "id": "a200596b",
   "metadata": {},
   "outputs": [
    {
     "name": "stdout",
     "output_type": "stream",
     "text": [
      "<class 'list'>\n"
     ]
    }
   ],
   "source": [
    "lst =[1,2,3,4]\n",
    "print(type(lst))"
   ]
  },
  {
   "cell_type": "code",
   "execution_count": 45,
   "id": "90422959",
   "metadata": {},
   "outputs": [],
   "source": [
    "tpl=tuple(lst)"
   ]
  },
  {
   "cell_type": "code",
   "execution_count": 46,
   "id": "75b6982e",
   "metadata": {},
   "outputs": [
    {
     "name": "stdout",
     "output_type": "stream",
     "text": [
      "<class 'tuple'>\n"
     ]
    }
   ],
   "source": [
    "print(type(tpl))"
   ]
  },
  {
   "cell_type": "code",
   "execution_count": 47,
   "id": "35919d5b",
   "metadata": {},
   "outputs": [
    {
     "name": "stdout",
     "output_type": "stream",
     "text": [
      "(1, 2, 3, 4)\n"
     ]
    }
   ],
   "source": [
    "print(tpl)"
   ]
  },
  {
   "cell_type": "markdown",
   "id": "012fdd26",
   "metadata": {},
   "source": [
    "# Nesting tuples in a list"
   ]
  },
  {
   "cell_type": "code",
   "execution_count": 48,
   "id": "5d1af38e",
   "metadata": {},
   "outputs": [],
   "source": [
    "lst =[(1,2,3),(4,5,6)]"
   ]
  },
  {
   "cell_type": "code",
   "execution_count": 50,
   "id": "ccf24bd1",
   "metadata": {},
   "outputs": [
    {
     "name": "stdout",
     "output_type": "stream",
     "text": [
      "<class 'list'>\n"
     ]
    }
   ],
   "source": [
    "print(type(lst))"
   ]
  },
  {
   "cell_type": "code",
   "execution_count": 51,
   "id": "d3011069",
   "metadata": {},
   "outputs": [
    {
     "name": "stdout",
     "output_type": "stream",
     "text": [
      "[(1, 2, 3), (4, 5, 6)]\n"
     ]
    }
   ],
   "source": [
    "print(lst)"
   ]
  },
  {
   "cell_type": "code",
   "execution_count": 52,
   "id": "0ce1ffcc",
   "metadata": {},
   "outputs": [],
   "source": [
    "lst.append((\"Tuple\",\"Inside\",\"List\"))"
   ]
  },
  {
   "cell_type": "code",
   "execution_count": 53,
   "id": "17e627c2",
   "metadata": {},
   "outputs": [
    {
     "name": "stdout",
     "output_type": "stream",
     "text": [
      "[(1, 2, 3), (4, 5, 6), ('Tuple', 'Inside', 'List')]\n"
     ]
    }
   ],
   "source": [
    "print(lst)"
   ]
  },
  {
   "cell_type": "code",
   "execution_count": 54,
   "id": "ada7f824",
   "metadata": {},
   "outputs": [],
   "source": [
    "lst.remove((1,2,3))"
   ]
  },
  {
   "cell_type": "code",
   "execution_count": 55,
   "id": "23662397",
   "metadata": {},
   "outputs": [
    {
     "name": "stdout",
     "output_type": "stream",
     "text": [
      "[(4, 5, 6), ('Tuple', 'Inside', 'List')]\n"
     ]
    }
   ],
   "source": [
    "print(lst)"
   ]
  },
  {
   "cell_type": "markdown",
   "id": "99b2aaac",
   "metadata": {},
   "source": [
    "# Nesting Lists within tuples"
   ]
  },
  {
   "cell_type": "code",
   "execution_count": 56,
   "id": "627ec3a9",
   "metadata": {},
   "outputs": [],
   "source": [
    "tpl = (['a','b','c'],['d','e','f'])"
   ]
  },
  {
   "cell_type": "code",
   "execution_count": 57,
   "id": "6104e04a",
   "metadata": {},
   "outputs": [
    {
     "name": "stdout",
     "output_type": "stream",
     "text": [
      "(['a', 'b', 'c'], ['d', 'e', 'f'])\n"
     ]
    }
   ],
   "source": [
    "print(tpl)"
   ]
  },
  {
   "cell_type": "code",
   "execution_count": 58,
   "id": "84dc4d61",
   "metadata": {},
   "outputs": [],
   "source": [
    "tpl[0].append('AKA')"
   ]
  },
  {
   "cell_type": "code",
   "execution_count": 59,
   "id": "e1daa097",
   "metadata": {},
   "outputs": [
    {
     "name": "stdout",
     "output_type": "stream",
     "text": [
      "(['a', 'b', 'c', 'AKA'], ['d', 'e', 'f'])\n"
     ]
    }
   ],
   "source": [
    "print(tpl)"
   ]
  },
  {
   "cell_type": "code",
   "execution_count": 60,
   "id": "4f41bed5",
   "metadata": {},
   "outputs": [],
   "source": [
    "tpl[0].remove('AKA')"
   ]
  },
  {
   "cell_type": "code",
   "execution_count": 61,
   "id": "c21eb5c1",
   "metadata": {},
   "outputs": [
    {
     "name": "stdout",
     "output_type": "stream",
     "text": [
      "(['a', 'b', 'c'], ['d', 'e', 'f'])\n"
     ]
    }
   ],
   "source": [
    "print(tpl)"
   ]
  },
  {
   "cell_type": "code",
   "execution_count": null,
   "id": "ebcb05fd",
   "metadata": {},
   "outputs": [],
   "source": []
  },
  {
   "cell_type": "code",
   "execution_count": null,
   "id": "e771f680",
   "metadata": {},
   "outputs": [],
   "source": []
  },
  {
   "cell_type": "code",
   "execution_count": null,
   "id": "1f9a4b33",
   "metadata": {},
   "outputs": [],
   "source": []
  },
  {
   "cell_type": "code",
   "execution_count": null,
   "id": "c1aaa7c3",
   "metadata": {},
   "outputs": [],
   "source": []
  },
  {
   "cell_type": "code",
   "execution_count": null,
   "id": "68454009",
   "metadata": {},
   "outputs": [],
   "source": []
  },
  {
   "cell_type": "code",
   "execution_count": null,
   "id": "11afb965",
   "metadata": {},
   "outputs": [],
   "source": []
  },
  {
   "cell_type": "code",
   "execution_count": null,
   "id": "b0c0533f",
   "metadata": {},
   "outputs": [],
   "source": []
  },
  {
   "cell_type": "code",
   "execution_count": null,
   "id": "9e523f26",
   "metadata": {},
   "outputs": [],
   "source": []
  },
  {
   "cell_type": "code",
   "execution_count": null,
   "id": "bdc2c9ae",
   "metadata": {},
   "outputs": [],
   "source": []
  },
  {
   "cell_type": "code",
   "execution_count": null,
   "id": "ca221c2b",
   "metadata": {},
   "outputs": [],
   "source": []
  },
  {
   "cell_type": "code",
   "execution_count": null,
   "id": "4b8d91dc",
   "metadata": {},
   "outputs": [],
   "source": []
  },
  {
   "cell_type": "code",
   "execution_count": null,
   "id": "973ef8a9",
   "metadata": {},
   "outputs": [],
   "source": []
  },
  {
   "cell_type": "code",
   "execution_count": null,
   "id": "5b73ce8d",
   "metadata": {},
   "outputs": [],
   "source": []
  },
  {
   "cell_type": "code",
   "execution_count": null,
   "id": "2657e62f",
   "metadata": {},
   "outputs": [],
   "source": []
  },
  {
   "cell_type": "code",
   "execution_count": null,
   "id": "7e9b3291",
   "metadata": {},
   "outputs": [],
   "source": []
  }
 ],
 "metadata": {
  "kernelspec": {
   "display_name": "Python 3 (ipykernel)",
   "language": "python",
   "name": "python3"
  },
  "language_info": {
   "codemirror_mode": {
    "name": "ipython",
    "version": 3
   },
   "file_extension": ".py",
   "mimetype": "text/x-python",
   "name": "python",
   "nbconvert_exporter": "python",
   "pygments_lexer": "ipython3",
   "version": "3.9.13"
  }
 },
 "nbformat": 4,
 "nbformat_minor": 5
}
