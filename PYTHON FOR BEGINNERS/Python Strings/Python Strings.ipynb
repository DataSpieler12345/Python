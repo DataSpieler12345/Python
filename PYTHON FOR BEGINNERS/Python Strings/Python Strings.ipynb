{
 "cells": [
  {
   "cell_type": "code",
   "execution_count": 1,
   "id": "d886b8c2",
   "metadata": {},
   "outputs": [
    {
     "name": "stdout",
     "output_type": "stream",
     "text": [
      "Tim's birthday\n"
     ]
    }
   ],
   "source": [
    "stg = \"Tim's birthday\"\n",
    "print(stg)"
   ]
  },
  {
   "cell_type": "code",
   "execution_count": 10,
   "id": "b2472afe",
   "metadata": {},
   "outputs": [
    {
     "name": "stdout",
     "output_type": "stream",
     "text": [
      "8\n"
     ]
    }
   ],
   "source": [
    "sts = 'PYSkills'\n",
    "print(len(sts))"
   ]
  },
  {
   "cell_type": "code",
   "execution_count": 12,
   "id": "013117e5",
   "metadata": {},
   "outputs": [
    {
     "name": "stdout",
     "output_type": "stream",
     "text": [
      "1111111111111"
     ]
    }
   ],
   "source": [
    "sta = \"Cerotontonton\"\n",
    "for i in sta:\n",
    "    print(1, end=\"\")"
   ]
  },
  {
   "cell_type": "code",
   "execution_count": 13,
   "id": "6de0dcf8",
   "metadata": {},
   "outputs": [
    {
     "name": "stdout",
     "output_type": "stream",
     "text": [
      "Ce\n"
     ]
    }
   ],
   "source": [
    "print(sta[:2])"
   ]
  },
  {
   "cell_type": "code",
   "execution_count": 14,
   "id": "d4b9c2cb",
   "metadata": {},
   "outputs": [
    {
     "name": "stdout",
     "output_type": "stream",
     "text": [
      "Cero\n"
     ]
    }
   ],
   "source": [
    "print(sta[:4])"
   ]
  },
  {
   "cell_type": "code",
   "execution_count": 15,
   "id": "89452129",
   "metadata": {},
   "outputs": [
    {
     "name": "stdout",
     "output_type": "stream",
     "text": [
      "Ceroto\n"
     ]
    }
   ],
   "source": [
    "print(sta[:6])"
   ]
  },
  {
   "cell_type": "code",
   "execution_count": 16,
   "id": "fc651574",
   "metadata": {},
   "outputs": [
    {
     "name": "stdout",
     "output_type": "stream",
     "text": [
      "Cerotont\n"
     ]
    }
   ],
   "source": [
    "print(sta[:8])"
   ]
  },
  {
   "cell_type": "code",
   "execution_count": 17,
   "id": "b3548722",
   "metadata": {},
   "outputs": [
    {
     "name": "stdout",
     "output_type": "stream",
     "text": [
      "Cerotonton\n"
     ]
    }
   ],
   "source": [
    "print(sta[:10])"
   ]
  },
  {
   "cell_type": "code",
   "execution_count": 18,
   "id": "aaf1263e",
   "metadata": {},
   "outputs": [],
   "source": [
    "mi = \"Bienvenido a mi mundo\""
   ]
  },
  {
   "cell_type": "code",
   "execution_count": 19,
   "id": "e1040487",
   "metadata": {},
   "outputs": [
    {
     "name": "stdout",
     "output_type": "stream",
     "text": [
      "BIENVENIDO A MI MUNDO\n"
     ]
    }
   ],
   "source": [
    "print(mi.upper())"
   ]
  },
  {
   "cell_type": "code",
   "execution_count": 20,
   "id": "cf522fcc",
   "metadata": {},
   "outputs": [
    {
     "name": "stdout",
     "output_type": "stream",
     "text": [
      "bienvenido a mi mundo\n"
     ]
    }
   ],
   "source": [
    "print(mi.lower())"
   ]
  },
  {
   "cell_type": "code",
   "execution_count": 21,
   "id": "206c0816",
   "metadata": {},
   "outputs": [
    {
     "name": "stdout",
     "output_type": "stream",
     "text": [
      "2\n"
     ]
    }
   ],
   "source": [
    "print(mi.find('e'))"
   ]
  },
  {
   "cell_type": "code",
   "execution_count": 22,
   "id": "7512ec68",
   "metadata": {},
   "outputs": [
    {
     "name": "stdout",
     "output_type": "stream",
     "text": [
      "1\n"
     ]
    }
   ],
   "source": [
    "print(mi.index('i'))"
   ]
  },
  {
   "cell_type": "code",
   "execution_count": 23,
   "id": "ae860237",
   "metadata": {},
   "outputs": [
    {
     "name": "stdout",
     "output_type": "stream",
     "text": [
      "['Bienvenido', 'a', 'mi', 'mundo']\n"
     ]
    }
   ],
   "source": [
    "print(mi.split())"
   ]
  },
  {
   "cell_type": "code",
   "execution_count": 24,
   "id": "1b6a37e7",
   "metadata": {},
   "outputs": [
    {
     "name": "stdout",
     "output_type": "stream",
     "text": [
      "['Bienvenido', 'a', 'mi', 'mundo']\n"
     ]
    }
   ],
   "source": [
    "print(mi.split(\" \"))"
   ]
  },
  {
   "cell_type": "code",
   "execution_count": 26,
   "id": "813080d2",
   "metadata": {},
   "outputs": [
    {
     "name": "stdout",
     "output_type": "stream",
     "text": [
      "PythonRefreshtutorial\n"
     ]
    }
   ],
   "source": [
    "print(mi.replace(\"Bienvenido a mi mundo\",\"PythonRefreshtutorial\"))"
   ]
  },
  {
   "cell_type": "code",
   "execution_count": 28,
   "id": "b0cb01ff",
   "metadata": {},
   "outputs": [
    {
     "name": "stdout",
     "output_type": "stream",
     "text": [
      "('Bienvenido', ' a ', 'mi mundo')\n"
     ]
    }
   ],
   "source": [
    "print(mi.rpartition(\" a \"))"
   ]
  },
  {
   "cell_type": "code",
   "execution_count": 31,
   "id": "3bc9aeb4",
   "metadata": {},
   "outputs": [
    {
     "name": "stdout",
     "output_type": "stream",
     "text": [
      "good morning\n",
      "saasi1 ++saasi2\n",
      "good morning\n"
     ]
    }
   ],
   "source": [
    "saasi1 = \"good\"\n",
    "saasi2 = \"morning\"\n",
    "\n",
    "sason = saasi1 +\" \"+saasi2\n",
    "print(sason)\n",
    "print(\"saasi1 +\" \"+saasi2\")\n",
    "print(saasi1 +\" \"+saasi2)"
   ]
  },
  {
   "cell_type": "code",
   "execution_count": 33,
   "id": "1d006add",
   "metadata": {},
   "outputs": [
    {
     "name": "stdout",
     "output_type": "stream",
     "text": [
      "Hey Tu, all!\n"
     ]
    }
   ],
   "source": [
    "sas1=\"Hey\"\n",
    "sas2=\"Tu\"\n",
    "sas4=\"all\"\n",
    "sall= \"{} {}, {}!\".format(sas1,sas2,sas4)\n",
    "print(sall)"
   ]
  },
  {
   "cell_type": "code",
   "execution_count": null,
   "id": "329814c5",
   "metadata": {},
   "outputs": [],
   "source": []
  }
 ],
 "metadata": {
  "kernelspec": {
   "display_name": "Python 3 (ipykernel)",
   "language": "python",
   "name": "python3"
  },
  "language_info": {
   "codemirror_mode": {
    "name": "ipython",
    "version": 3
   },
   "file_extension": ".py",
   "mimetype": "text/x-python",
   "name": "python",
   "nbconvert_exporter": "python",
   "pygments_lexer": "ipython3",
   "version": "3.9.13"
  }
 },
 "nbformat": 4,
 "nbformat_minor": 5
}
