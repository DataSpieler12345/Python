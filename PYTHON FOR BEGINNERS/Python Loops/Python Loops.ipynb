{
 "cells": [
  {
   "cell_type": "markdown",
   "id": "82e95add",
   "metadata": {},
   "source": [
    "### While Loop"
   ]
  },
  {
   "cell_type": "code",
   "execution_count": 1,
   "id": "e8e4dfbf",
   "metadata": {},
   "outputs": [
    {
     "name": "stdout",
     "output_type": "stream",
     "text": [
      "Enter a multiple of 7: 49\n",
      "49 is a multiple of 7\n"
     ]
    }
   ],
   "source": [
    "val = int(input(\"Enter a multiple of 7: \"))\n",
    "while val % 7 != 0:\n",
    "    val = int(input(\"Enter a multiple of 7: \"))\n",
    "else:\n",
    "    print(\"%d is a multiple of 7\" % val)"
   ]
  },
  {
   "cell_type": "code",
   "execution_count": 2,
   "id": "462f85b8",
   "metadata": {},
   "outputs": [],
   "source": [
    "#\"Until the defined condition is met, the while loop will continue.\""
   ]
  },
  {
   "cell_type": "markdown",
   "id": "d455d934",
   "metadata": {},
   "source": [
    "### For Loop\n",
    "\n",
    "* is used to iterate over a sequence, which could be a list, tuple, array or a string"
   ]
  },
  {
   "cell_type": "code",
   "execution_count": 3,
   "id": "d795a681",
   "metadata": {},
   "outputs": [
    {
     "name": "stdout",
     "output_type": "stream",
     "text": [
      "1\n",
      "6\n",
      "Pythonlearning\n"
     ]
    }
   ],
   "source": [
    "X = [1,6,\"Pythonlearning\"]\n",
    "\n",
    "for i in X:\n",
    "    print(i)"
   ]
  },
  {
   "cell_type": "markdown",
   "id": "ed693119",
   "metadata": {},
   "source": [
    "## Nested Loops"
   ]
  },
  {
   "cell_type": "code",
   "execution_count": 4,
   "id": "1c587f2f",
   "metadata": {},
   "outputs": [
    {
     "name": "stdout",
     "output_type": "stream",
     "text": [
      "1\n",
      "2\n",
      "3\n",
      "a\n",
      "b\n",
      "c\n"
     ]
    }
   ],
   "source": [
    "Y= [[1,2,3], [\"a\",\"b\",\"c\"]]\n",
    "\n",
    "for i in Y:\n",
    "    for z in i:\n",
    "        print(z)"
   ]
  },
  {
   "cell_type": "code",
   "execution_count": 5,
   "id": "4ebd29c6",
   "metadata": {},
   "outputs": [
    {
     "name": "stdout",
     "output_type": "stream",
     "text": [
      "123\n",
      "abc\n"
     ]
    }
   ],
   "source": [
    "Y= [[1,2,3], [\"a\",\"b\",\"c\"]]\n",
    "\n",
    "for i in Y:\n",
    "    for z in i:\n",
    "        print(z, end=\"\")\n",
    "    print()"
   ]
  },
  {
   "cell_type": "markdown",
   "id": "7970b00f",
   "metadata": {},
   "source": [
    "## Loop Control Statements"
   ]
  },
  {
   "cell_type": "markdown",
   "id": "10662260",
   "metadata": {},
   "source": [
    "#### BREAK\n",
    "\n",
    "* Transfer control to the statement right after the loop"
   ]
  },
  {
   "cell_type": "code",
   "execution_count": 6,
   "id": "fa5b362f",
   "metadata": {},
   "outputs": [
    {
     "name": "stdout",
     "output_type": "stream",
     "text": [
      "H\n",
      "e\n",
      "y\n",
      " \n",
      "t\n",
      "h\n",
      "e\n",
      "r\n",
      "e\n"
     ]
    }
   ],
   "source": [
    "A = \"Hey there. how are you?\"\n",
    "\n",
    "for i in A:\n",
    "    if i == \".\":\n",
    "        break\n",
    "    print(i)"
   ]
  },
  {
   "cell_type": "code",
   "execution_count": 7,
   "id": "fbca6989",
   "metadata": {},
   "outputs": [
    {
     "name": "stdout",
     "output_type": "stream",
     "text": [
      "Hey there"
     ]
    }
   ],
   "source": [
    "A = \"Hey there. how are you?\"\n",
    "\n",
    "for i in A:\n",
    "    if i == \".\":\n",
    "        break\n",
    "    print(i, end=\"\")"
   ]
  },
  {
   "cell_type": "markdown",
   "id": "c82d6fd8",
   "metadata": {},
   "source": [
    "#### CONTINUE\n",
    "\n",
    "* Skips the statements following it and returns control to the beginning of the loops "
   ]
  },
  {
   "cell_type": "code",
   "execution_count": 8,
   "id": "11af582d",
   "metadata": {},
   "outputs": [
    {
     "name": "stdout",
     "output_type": "stream",
     "text": [
      "1\n",
      "4\n",
      "6\n"
     ]
    }
   ],
   "source": [
    "for i in [1,13,56,4,6]:\n",
    "    if i>10:\n",
    "        continue\n",
    "    print(i)"
   ]
  },
  {
   "cell_type": "markdown",
   "id": "2cbf86ee",
   "metadata": {},
   "source": [
    "#### What is for loop?\n",
    "\n",
    "* is used to iterate over a sequence, which could be a list, tuple, array, or a string"
   ]
  },
  {
   "cell_type": "code",
   "execution_count": 9,
   "id": "5560f7ac",
   "metadata": {},
   "outputs": [
    {
     "name": "stdout",
     "output_type": "stream",
     "text": [
      "1 4.2 Pythonlearning\n"
     ]
    }
   ],
   "source": [
    "B = [1,4.2, \"Pythonlearning\"]\n",
    "print(B[0],B[1],B[2])"
   ]
  },
  {
   "cell_type": "code",
   "execution_count": 10,
   "id": "ff4c2f5c",
   "metadata": {},
   "outputs": [
    {
     "name": "stdout",
     "output_type": "stream",
     "text": [
      "1\n",
      "4.2\n",
      "Pythonlearning\n"
     ]
    }
   ],
   "source": [
    "B = [1,4.2, \"Pythonlearning\"]\n",
    "\n",
    "for i in B:\n",
    "    print(i)"
   ]
  },
  {
   "cell_type": "code",
   "execution_count": 11,
   "id": "14c3bb29",
   "metadata": {},
   "outputs": [
    {
     "name": "stdout",
     "output_type": "stream",
     "text": [
      "P\n",
      "y\n",
      "t\n",
      "h\n",
      "o\n",
      "n\n",
      "l\n",
      "e\n",
      "a\n",
      "r\n",
      "n\n",
      "i\n",
      "n\n",
      "g\n"
     ]
    }
   ],
   "source": [
    "C = \"Pythonlearning\"\n",
    "\n",
    "for i in C:\n",
    "    print(i)"
   ]
  },
  {
   "cell_type": "code",
   "execution_count": 12,
   "id": "0adf3c8a",
   "metadata": {},
   "outputs": [
    {
     "name": "stdout",
     "output_type": "stream",
     "text": [
      "Pythonlearning"
     ]
    }
   ],
   "source": [
    "C = \"Pythonlearning\"\n",
    "\n",
    "for i in C:\n",
    "    print(i, end=\"\")"
   ]
  },
  {
   "cell_type": "markdown",
   "id": "dc33a329",
   "metadata": {},
   "source": [
    "### another example"
   ]
  },
  {
   "cell_type": "code",
   "execution_count": 13,
   "id": "8a05de99",
   "metadata": {},
   "outputs": [
    {
     "name": "stdout",
     "output_type": "stream",
     "text": [
      "0\n",
      "1\n",
      "2\n",
      "3\n",
      "4\n",
      "5\n",
      "6\n",
      "7\n",
      "8\n",
      "9\n",
      "10\n",
      "11\n",
      "12\n",
      "13\n",
      "14\n",
      "15\n",
      "16\n",
      "17\n",
      "18\n",
      "19\n",
      "20\n"
     ]
    }
   ],
   "source": [
    "# print out the first 20 elements\n",
    "for i in range(0,21):\n",
    "\tprint(i)"
   ]
  },
  {
   "cell_type": "code",
   "execution_count": 14,
   "id": "23a35212",
   "metadata": {},
   "outputs": [
    {
     "name": "stdout",
     "output_type": "stream",
     "text": [
      "0\n",
      "2\n",
      "4\n",
      "6\n",
      "8\n",
      "10\n",
      "12\n",
      "14\n",
      "16\n",
      "18\n",
      "20\n"
     ]
    }
   ],
   "source": [
    "# print out the first 20 elements (just paar)\n",
    "for i in range(0,21,2):\n",
    "\tprint(i)"
   ]
  },
  {
   "cell_type": "code",
   "execution_count": 15,
   "id": "6b4c8f23",
   "metadata": {},
   "outputs": [
    {
     "name": "stdout",
     "output_type": "stream",
     "text": [
      "0\n",
      "1\n",
      "2\n",
      "3\n",
      "4\n",
      "5\n",
      "6\n",
      "7\n",
      "8\n",
      "9\n",
      "10\n",
      "11\n",
      "12\n",
      "13\n",
      "14\n",
      "15\n",
      "16\n",
      "17\n",
      "18\n",
      "19\n",
      "20\n",
      "The sum of even numbers from 0 to 20 is: 110\n"
     ]
    }
   ],
   "source": [
    "sum = 0\n",
    "for i in range(0, 21):\n",
    "    if i % 2 == 0:\n",
    "        sum = sum + i\n",
    "    print(i)\n",
    "\n",
    "print(\"The sum of even numbers from 0 to 20 is:\", sum)"
   ]
  },
  {
   "cell_type": "code",
   "execution_count": 16,
   "id": "72c1e9de",
   "metadata": {},
   "outputs": [
    {
     "name": "stdout",
     "output_type": "stream",
     "text": [
      "Enter a positive integer: 10\n",
      "1 \n",
      "1 2 \n",
      "1 2 3 \n",
      "1 2 3 4 \n",
      "1 2 3 4 5 \n",
      "1 2 3 4 5 6 \n",
      "1 2 3 4 5 6 7 \n",
      "1 2 3 4 5 6 7 8 \n",
      "1 2 3 4 5 6 7 8 9 \n",
      "1 2 3 4 5 6 7 8 9 10 \n"
     ]
    }
   ],
   "source": [
    "#12\n",
    "#123\n",
    "#1234\n",
    "#12345\n",
    "\n",
    "n = int(input(\"Enter a positive integer: \"))\n",
    "for i in range(1,n+1):\n",
    "    for j in range(1, i+1):\n",
    "        print(j, end=' ')\n",
    "    print()"
   ]
  },
  {
   "cell_type": "code",
   "execution_count": 17,
   "id": "7c56c91c",
   "metadata": {},
   "outputs": [
    {
     "name": "stdout",
     "output_type": "stream",
     "text": [
      "Enter number of rows: 2\n",
      "Enter number of columns: 2\n",
      "Enter the element at row 0 and column 0 of X: 1\n",
      "Enter the element at row 0 and column 1 of X: 2\n",
      "Enter the element at row 1 and column 0 of X: 3\n",
      "Enter the element at row 1 and column 1 of X: 4\n",
      "Enter the element at row 0 and column 0 of Y: 5\n",
      "Enter the element at row 0 and column 1 of Y: 6\n",
      "Enter the element at row 1 and column 0 of Y: 7\n",
      "Enter the element at row 1 and column 1 of Y: 8\n",
      "The sum of X and Y is:\n",
      "[6, 8]\n",
      "[10, 12]\n"
     ]
    }
   ],
   "source": [
    "r = int(input(\"Enter number of rows: \"))\n",
    "c = int(input(\"Enter number of columns: \"))\n",
    "\n",
    "X = []\n",
    "for i in range(r):\n",
    "    val = []\n",
    "    for j in range(c):\n",
    "        val.append(int(input(\"Enter the element at row %d and column %d of X: \" % (i, j))))\n",
    "    X.append(val)\n",
    "\n",
    "Y = []\n",
    "for i in range(r):\n",
    "    val = []\n",
    "    for j in range(c):\n",
    "        val.append(int(input(\"Enter the element at row %d and column %d of Y: \" % (i, j))))\n",
    "    Y.append(val)\n",
    "\n",
    "sum = []\n",
    "for i in range(r):\n",
    "    val = []\n",
    "    for j in range(c):\n",
    "        val.append(X[i][j] + Y[i][j])\n",
    "    sum.append(val)\n",
    "\n",
    "print(\"The sum of X and Y is:\")\n",
    "for row in sum:\n",
    "    print(row)"
   ]
  },
  {
   "cell_type": "markdown",
   "id": "63f83835",
   "metadata": {},
   "source": [
    "\n"
   ]
  },
  {
   "cell_type": "code",
   "execution_count": null,
   "id": "8f1f49bf",
   "metadata": {},
   "outputs": [],
   "source": []
  }
 ],
 "metadata": {
  "kernelspec": {
   "display_name": "Python 3 (ipykernel)",
   "language": "python",
   "name": "python3"
  },
  "language_info": {
   "codemirror_mode": {
    "name": "ipython",
    "version": 3
   },
   "file_extension": ".py",
   "mimetype": "text/x-python",
   "name": "python",
   "nbconvert_exporter": "python",
   "pygments_lexer": "ipython3",
   "version": "3.9.13"
  }
 },
 "nbformat": 4,
 "nbformat_minor": 5
}
