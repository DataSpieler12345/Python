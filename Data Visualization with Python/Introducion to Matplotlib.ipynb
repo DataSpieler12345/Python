{
 "cells": [
  {
   "cell_type": "markdown",
   "id": "ae64b1ac",
   "metadata": {},
   "source": [
    "# Introduction to Matplotlib\n",
    "\n",
    "\n",
    "**Matplotlib** is one of the most widely used, if not the most popular data visualization library in Python. It was created by John Hunter, who was a neurobiologist and was part of a research team that was working on analyzing Electrocorticography signals, ECoG for short. The team was using a proprietary software for the analysis.\n",
    "\n",
    "**Matplotlib's architecture** is composed of three main layers: the back-end layer, the artist layer where much of the heavy\n",
    "lifting happens and is usually the appropriate programming paradigm when writing a web application server, or a UI application, or perhaps a script to be shared with other developers, and the scripting layer, which is the appropriate layer for everyday purposes and is considered a lighter scripting interface to simplify common tasks and for a quick and easy generation of graphics and plots. \n",
    "\n",
    "\n",
    "#### the back-end layer has three built-in abstract interface classes: \n",
    "\n",
    "**FigureCanvas**, which defines and encompasses the area on which the figure is drawn. \n",
    "\n",
    "\t* matplotlib.backend_bases.FigureCanvas\n",
    "    \n",
    "    \t*  Encompasses the area onto which the figure is drawn\n",
    "\n",
    "**Renderer**, an instance of the renderer class knows how to draw on the figure canvas. And finally, \n",
    "\n",
    "\t* matplotlib.backend_bases.Renderer\n",
    "    \n",
    "    \t* Knows how to draw on the FigureCanvas\n",
    "\n",
    "**Event**, which handles user inputs such as keyboard strokes and mouse clicks. Moving on to the artist layer. It is composed of one main object, which is the Artist.\n",
    "\n",
    "\t* matplotlib.backend_bases.Event\n",
    "    \n",
    "    \t* handles user inputs such as keyboward strokes and mouse clicks\n",
    "\n",
    "\n",
    "#### the Artist layer: The Artist is the object that knows how to take the **Renderer** and use it to put ink on the canvas. Everything you see on a Matplotlib figure is an Artist instance. The title, the lines, the tick labels, the images, and so on, all correspond to an individual Artist.\n",
    "\n",
    "* Comprised of one main object - **Artist**:\n",
    "\n",
    "\t* Knows how to use the **Render** to draw on the canvas\n",
    "    \n",
    "    * Title, lines, tick labels, and images, all correspond to individual **Artist** instances.\n",
    "    \n",
    "    \n",
    "**Types of Artist objects**: Thre are two types of Artist objects.\n",
    "\n",
    "\n",
    "1. The first type is the primitive type, such as a line2D, a Rectangle, a Circle, or Text. \n",
    "\n",
    "\n",
    "2. the second type is the composite type, such as the figure or the axes. The top-level Matplotlib object that contains and\n",
    "manages all of the elements in a given graphic is the **figure** Artist, and the most important composite artist is the **axes** because it is where most of the Matplotlib API plotting methods are defined, including methods to create and manipulate the ticks, the axis lines, the grid or the plot background. \n",
    "\n",
    "**Note**: is important to note that each composite artist may contain other composite artists as well as primitive artists. So a figure artist for example would contain an axis artist as well as a rectangle or text artists.\n",
    "\n",
    "\n"
   ]
  },
  {
   "cell_type": "markdown",
   "id": "81d127d5",
   "metadata": {},
   "source": [
    "# Putting the Artist Layer to Use"
   ]
  },
  {
   "cell_type": "code",
   "execution_count": 3,
   "id": "13d1f1cd",
   "metadata": {},
   "outputs": [],
   "source": [
    "from matplotlib.backends.backend_agg import FigureCanvasAgg as FigureCanvas # Import FigureCanvas\n",
    "from matplotlib.figure import Figure # Import Figure artist\n",
    "fig = Figure()\n",
    "canvas = FigureCanvas(fig)\n",
    "\n",
    "# create 10000 random numbers using numpy\n",
    "import numpy as np\n",
    "x = np.random.randn(10000)\n",
    "\n",
    "ax = fig.add_subplot(111) # create an axes artist\n",
    "\n",
    "ax.hist(x, 100) # generate a histogram of the 10000 numbers\n",
    "\n",
    "# add a title to the figure and save it\n",
    "ax.set_title('Normal distribution with $\\mu=0, \\sigma=1$')\n",
    "fig.savefig('matplotlib_histogram.png')"
   ]
  },
  {
   "cell_type": "code",
   "execution_count": 4,
   "id": "1c31a441",
   "metadata": {},
   "outputs": [
    {
     "name": "stdout",
     "output_type": "stream",
     "text": [
      "Figure(640x480)\n"
     ]
    }
   ],
   "source": [
    "print(fig)"
   ]
  },
  {
   "cell_type": "markdown",
   "id": "2d7c8317",
   "metadata": {},
   "source": [
    "# Scripting Layer\n",
    "\n",
    "it was developed for scientists who are not professional programmers and I'm sure you agree with me based on the histogram that we just created that the artist layer is syntactically heavy as it is meant for developers and not for individuals whose goal is to perform quick exploratory analysis of some data. \n",
    "\n",
    "**Matplotlib's scripting layer** is essentially the Matplotlib.pyplot interface, which automates the process of defining a canvas and defining a figure artist instance and connecting them.\n",
    "\n",
    "\t* Comprised mainly of  **pyplot**, a scripting interface that is lighter that the **Artist** layer.\n",
    "    \n",
    "    * let's see how the same code that we used earlier using the artist layer to generate a histogram of 10,000 random \n",
    "    numbers would now look like."
   ]
  },
  {
   "cell_type": "code",
   "execution_count": 7,
   "id": "859ac9a6",
   "metadata": {},
   "outputs": [
    {
     "data": {
      "image/png": "[encoded data removed]",
      "text/plain": [
       "<Figure size 432x288 with 1 Axes>"
      ]
     },
     "metadata": {
      "needs_background": "light"
     },
     "output_type": "display_data"
    }
   ],
   "source": [
    "import matplotlib.pyplot as plt\n",
    "import numpy as np \n",
    "\n",
    "x = np.random.randn(10000) # create random data\n",
    "plt.hist(x, 100) # create a histogram\n",
    "\n",
    "# Add labels and titles\n",
    "plt.title(r'Normal distribution with $\\mu=0, \\sigma=1$')\n",
    "plt.savefig('matplotlib_histogram.png')\n",
    "plt.show()"
   ]
  },
  {
   "cell_type": "code",
   "execution_count": null,
   "id": "e3126d7c",
   "metadata": {},
   "outputs": [],
   "source": []
  }
 ],
 "metadata": {
  "kernelspec": {
   "display_name": "Python 3 (ipykernel)",
   "language": "python",
   "name": "python3"
  },
  "language_info": {
   "codemirror_mode": {
    "name": "ipython",
    "version": 3
   },
   "file_extension": ".py",
   "mimetype": "text/x-python",
   "name": "python",
   "nbconvert_exporter": "python",
   "pygments_lexer": "ipython3",
   "version": "3.8.3"
  }
 },
 "nbformat": 4,
 "nbformat_minor": 5
}
