{
 "cells": [
  {
   "cell_type": "markdown",
   "id": "bf2692d7",
   "metadata": {},
   "source": [
    "# What is Folium?\n",
    "\n",
    "1. Folium is a powerful data visualization library in Python that was built primarily to help people visualize geospatial data.\n",
    "\n",
    "\n",
    "2. With Folium, you can create a map of any location in the world as long as you know its latitude and longitude values. You can also create a map and superimpose markers as well as clusters of markers on top of the map for cool and very interesting visualizations. \n",
    "    \n",
    "    \n",
    "3. You can also create maps of different styles such as street level map, stamen map and, a couple others which we will look into in just a moment.\n",
    "\n",
    "\n",
    "4. Creating a world map with Folium is pretty straightforward. You simply call the map function and that is all. What is really interesting about the maps created by Folium is that they are interactive, so you can zoom in and out after the map is rendered, which is a super useful feature."
   ]
  },
  {
   "cell_type": "markdown",
   "id": "ffb99ac2",
   "metadata": {},
   "source": [
    "**Another amazing feature of Folium** \n",
    "\n",
    "1. Is that you can create different map styles using the tiles parameter.\n",
    "\n",
    "2. A´nother stuyle is stamen terrain.\n"
   ]
  },
  {
   "cell_type": "code",
   "execution_count": null,
   "id": "10ff2635",
   "metadata": {},
   "outputs": [],
   "source": []
  }
 ],
 "metadata": {
  "kernelspec": {
   "display_name": "Python 3 (ipykernel)",
   "language": "python",
   "name": "python3"
  },
  "language_info": {
   "codemirror_mode": {
    "name": "ipython",
    "version": 3
   },
   "file_extension": ".py",
   "mimetype": "text/x-python",
   "name": "python",
   "nbconvert_exporter": "python",
   "pygments_lexer": "ipython3",
   "version": "3.8.3"
  }
 },
 "nbformat": 4,
 "nbformat_minor": 5
}
