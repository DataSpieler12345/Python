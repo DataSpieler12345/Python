{
 "cells": [
  {
   "cell_type": "markdown",
   "id": "17f5103c",
   "metadata": {},
   "source": [
    "# Basic Plotting with Matplotlib\n",
    "\n",
    "\n"
   ]
  },
  {
   "cell_type": "markdown",
   "id": "7408384c",
   "metadata": {},
   "source": [
    "# Note"
   ]
  },
  {
   "cell_type": "code",
   "execution_count": 3,
   "id": "18bf7739",
   "metadata": {},
   "outputs": [],
   "source": [
    "%matplotlib inline # figure out always\n",
    "import matplotlib.pyplot as plt "
   ]
  },
  {
   "cell_type": "code",
   "execution_count": 5,
   "id": "334b6729",
   "metadata": {},
   "outputs": [
    {
     "data": {
      "image/png": "[encoded data removed]",
      "text/plain": [
       "<Figure size 432x288 with 1 Axes>"
      ]
     },
     "metadata": {
      "needs_background": "light"
     },
     "output_type": "display_data"
    }
   ],
   "source": [
    "plt.plot(5, 5)\n",
    "plt.show()"
   ]
  },
  {
   "cell_type": "markdown",
   "id": "3ff99e6c",
   "metadata": {},
   "source": [
    "# Another way - Matplotlib - Pandas"
   ]
  },
  {
   "cell_type": "code",
   "execution_count": 6,
   "id": "4c7a4115",
   "metadata": {},
   "outputs": [],
   "source": [
    "# Import pandas\n",
    "import pandas as pd"
   ]
  },
  {
   "cell_type": "code",
   "execution_count": 9,
   "id": "c9896418",
   "metadata": {},
   "outputs": [],
   "source": [
    "# Create a Dictionary with the Data \n",
    "\n",
    "data = {\n",
    "    'year': [1980, 1981, 1982, 1983, 1984],\n",
    "    'India': [8880, 8670, 8147, 7338, 5704],\n",
    "    'China': [5123, 6682, 3308, 1863, 1527]\n",
    "}"
   ]
  },
  {
   "cell_type": "code",
   "execution_count": 10,
   "id": "5483a0d4",
   "metadata": {},
   "outputs": [],
   "source": [
    "# Create the corresponding data frame: india_china_df\n",
    "india_china_df = pd.DataFrame(data)"
   ]
  },
  {
   "cell_type": "code",
   "execution_count": 11,
   "id": "7f0d193e",
   "metadata": {},
   "outputs": [],
   "source": [
    "# Reorder the Columns of the india_china_df\n",
    "india_china_df = india_china_df[['year', 'India', 'China']]"
   ]
  },
  {
   "cell_type": "code",
   "execution_count": 12,
   "id": "fe1b05fd",
   "metadata": {},
   "outputs": [
    {
     "name": "stdout",
     "output_type": "stream",
     "text": [
      "   year  India  China\n",
      "0  1980   8880   5123\n",
      "1  1981   8670   6682\n",
      "2  1982   8147   3308\n",
      "3  1983   7338   1863\n",
      "4  1984   5704   1527\n"
     ]
    }
   ],
   "source": [
    "# Show the india_china_df\n",
    "print(india_china_df)"
   ]
  },
  {
   "cell_type": "code",
   "execution_count": 19,
   "id": "8a340f97",
   "metadata": {},
   "outputs": [
    {
     "data": {
      "text/plain": [
       "<matplotlib.legend.Legend at 0x21ee91c6850>"
      ]
     },
     "execution_count": 19,
     "metadata": {},
     "output_type": "execute_result"
    },
    {
     "data": {
      "image/png": "[encoded data removed]",
      "text/plain": [
       "<Figure size 432x288 with 1 Axes>"
      ]
     },
     "metadata": {
      "needs_background": "light"
     },
     "output_type": "display_data"
    }
   ],
   "source": [
    "# Create the graphics line\n",
    "plt.plot(india_china_df['year'], india_china_df['India'], label='India')\n",
    "plt.plot(india_china_df['year'], india_china_df['China'], label = 'China')\n",
    "plt.legend() # a legend added"
   ]
  },
  {
   "cell_type": "code",
   "execution_count": null,
   "id": "4cdf62e4",
   "metadata": {},
   "outputs": [],
   "source": []
  }
 ],
 "metadata": {
  "kernelspec": {
   "display_name": "Python 3 (ipykernel)",
   "language": "python",
   "name": "python3"
  },
  "language_info": {
   "codemirror_mode": {
    "name": "ipython",
    "version": 3
   },
   "file_extension": ".py",
   "mimetype": "text/x-python",
   "name": "python",
   "nbconvert_exporter": "python",
   "pygments_lexer": "ipython3",
   "version": "3.8.3"
  }
 },
 "nbformat": 4,
 "nbformat_minor": 5
}
