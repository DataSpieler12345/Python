{
 "cells": [
  {
   "cell_type": "markdown",
   "id": "485e8a2f",
   "metadata": {},
   "source": [
    "# Dataset on immigration to Canada"
   ]
  },
  {
   "cell_type": "markdown",
   "id": "c2f829dd",
   "metadata": {},
   "source": [
    "*  The population division of the United Nations compiled immigration data pertaining to 45 countries.\n",
    "\t\n",
    "    \t* The data consist of the total number of immigrants from all over the world to each of the 45 countries as well as \n",
    "          ther metadata pertaining to the immigrants countries of origin.\n",
    "\n",
    "* For each country, annual data on the flows of international migrants is reported in addition to other metadata.\n",
    "\n",
    "* We will primarly work with a United Nations data on immigration to Canada.\n",
    "\n",
    "\t\t* excel file\n",
    "        \n",
    "        * 21 columns\n",
    "        \n",
    "        * Following that each row represents a country and contains metadata about the country such as what continent it \n",
    "          resides in, what region it belongs to, and whether the region is developing or developed.\n",
    "         \n",
    "        * Each row also contains the total number of immigrants from that country for the years 1980 all the way to 2013.\n"
   ]
  },
  {
   "cell_type": "code",
   "execution_count": null,
   "id": "c195428f",
   "metadata": {},
   "outputs": [],
   "source": []
  }
 ],
 "metadata": {
  "kernelspec": {
   "display_name": "Python 3 (ipykernel)",
   "language": "python",
   "name": "python3"
  },
  "language_info": {
   "codemirror_mode": {
    "name": "ipython",
    "version": 3
   },
   "file_extension": ".py",
   "mimetype": "text/x-python",
   "name": "python",
   "nbconvert_exporter": "python",
   "pygments_lexer": "ipython3",
   "version": "3.8.3"
  }
 },
 "nbformat": 4,
 "nbformat_minor": 5
}
