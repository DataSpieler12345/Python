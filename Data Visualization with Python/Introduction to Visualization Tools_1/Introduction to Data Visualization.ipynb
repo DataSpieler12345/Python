{
 "cells": [
  {
   "cell_type": "markdown",
   "id": "b515d99c",
   "metadata": {},
   "source": [
    "# Introduction to Data Visualization"
   ]
  },
  {
   "cell_type": "markdown",
   "id": "f8c3da44",
   "metadata": {},
   "source": [
    "##### Why Build Visuals?\n",
    "\n",
    "1. For exploratory data Analysis (EDA)\n",
    "\n",
    "2. Communicate data clearly\n",
    "\n",
    "3. Share unbiased representation of data \n",
    "\n",
    "4. Use thgem to support recommendations to different stakeholders\n",
    "\n",
    "* data visualization is a way to show a complex data in a form that is graphical and easy to understand.\n",
    "\n",
    "\n",
    "* This can be especially useful when one is trying to explore the data and getting acquainted with it. Also since a picture is   worth a thousand words, then plots and graphs can be very effective in conveying a clear description of the data especially when\n",
    "disclosing findings to an audience or sharing the data with other peer data scientists.\n"
   ]
  },
  {
   "cell_type": "markdown",
   "id": "bcedc80e",
   "metadata": {},
   "source": [
    "##### Best Practices"
   ]
  },
  {
   "cell_type": "markdown",
   "id": "7114ec1c",
   "metadata": {},
   "source": [
    "**When creating a visual, always remember:**\n",
    "    \n",
    "    1. Less is more effective \n",
    "    \n",
    "    2. Less is more attractive \n",
    "    \n",
    "    3. Less is more impactive \n",
    "    \n",
    "\n",
    "**In other words**:\n",
    "\n",
    "any feature or design you incorporate in your plot to make it more attractive or pleasing should support the message that the plot is meant to get across and not distract from it. Let's take a look at an example. So here is a pie chart of what looks like people's preferences when it comes to different types of pig meat. \n",
    "\n"
   ]
  },
  {
   "cell_type": "code",
   "execution_count": null,
   "id": "5be6dc66",
   "metadata": {},
   "outputs": [],
   "source": []
  }
 ],
 "metadata": {
  "kernelspec": {
   "display_name": "Python 3 (ipykernel)",
   "language": "python",
   "name": "python3"
  },
  "language_info": {
   "codemirror_mode": {
    "name": "ipython",
    "version": 3
   },
   "file_extension": ".py",
   "mimetype": "text/x-python",
   "name": "python",
   "nbconvert_exporter": "python",
   "pygments_lexer": "ipython3",
   "version": "3.8.3"
  }
 },
 "nbformat": 4,
 "nbformat_minor": 5
}
