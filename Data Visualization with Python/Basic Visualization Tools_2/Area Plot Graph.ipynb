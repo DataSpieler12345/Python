{
 "cells": [
  {
   "cell_type": "markdown",
   "id": "56d8beb9",
   "metadata": {},
   "source": [
    "# Basic Visualization Tools\n"
   ]
  },
  {
   "cell_type": "markdown",
   "id": "6ea039c0",
   "metadata": {},
   "source": [
    "##### Area Plot \n",
    "\n",
    "* Also known as area chart or area graph.\n",
    "\n",
    "* Commonly used to represent cumulated totals using numbers or precentages over time.\n",
    "\n",
    "* Is based on the line plot."
   ]
  },
  {
   "cell_type": "markdown",
   "id": "1454518e",
   "metadata": {},
   "source": [
    "#### Area Plots\n",
    "\n",
    "import matplotlib as mpl\n",
    "\n",
    "import matplotlib.pyplot as plt"
   ]
  },
  {
   "cell_type": "code",
   "execution_count": null,
   "id": "d858eecb",
   "metadata": {},
   "outputs": [],
   "source": []
  }
 ],
 "metadata": {
  "kernelspec": {
   "display_name": "Python 3 (ipykernel)",
   "language": "python",
   "name": "python3"
  },
  "language_info": {
   "codemirror_mode": {
    "name": "ipython",
    "version": 3
   },
   "file_extension": ".py",
   "mimetype": "text/x-python",
   "name": "python",
   "nbconvert_exporter": "python",
   "pygments_lexer": "ipython3",
   "version": "3.8.3"
  }
 },
 "nbformat": 4,
 "nbformat_minor": 5
}
