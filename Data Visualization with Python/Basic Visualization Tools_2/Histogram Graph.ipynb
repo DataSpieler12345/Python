{
 "cells": [
  {
   "cell_type": "markdown",
   "id": "5d0c6c4d",
   "metadata": {},
   "source": [
    "# Basic Visualization Tools"
   ]
  },
  {
   "cell_type": "markdown",
   "id": "5a734892",
   "metadata": {},
   "source": [
    "##### Histogram"
   ]
  },
  {
   "cell_type": "markdown",
   "id": "8c326eb3",
   "metadata": {},
   "source": [
    "*  A histogram is a way of representing the frequency distribution of a numeric dataset. \n",
    "\n",
    "\n",
    "*   The way it works is it partitions the spread of the numeric data into bins, assigns each datapoint in the dataset to a bin, and then counts the number of datapoints that have been assigned to each bin. \n",
    "\n",
    "\n",
    "\t* \tSo the vertical axis is actually the frequency or the number of datapoints in each bin.\n",
    "    \n",
    "\n",
    "* the first step in creating the histogram is partitioning the horizontal axis in, say, ten bins of equal width and then we construct the histogram by counting how many datapoints have a value that is between the limits of the first bin, the second bin, the third bin, and so on."
   ]
  },
  {
   "cell_type": "markdown",
   "id": "42cc63bd",
   "metadata": {},
   "source": [
    "# Histogram\n",
    "\n",
    "* import matplotlib as mpl\n",
    "\n",
    "* import matplotlib.pyplot as plt \n",
    "\n",
    "* import numpy as np "
   ]
  },
  {
   "cell_type": "code",
   "execution_count": null,
   "id": "90711608",
   "metadata": {},
   "outputs": [],
   "source": []
  }
 ],
 "metadata": {
  "kernelspec": {
   "display_name": "Python 3 (ipykernel)",
   "language": "python",
   "name": "python3"
  },
  "language_info": {
   "codemirror_mode": {
    "name": "ipython",
    "version": 3
   },
   "file_extension": ".py",
   "mimetype": "text/x-python",
   "name": "python",
   "nbconvert_exporter": "python",
   "pygments_lexer": "ipython3",
   "version": "3.8.3"
  }
 },
 "nbformat": 4,
 "nbformat_minor": 5
}
