{
 "cells": [
  {
   "cell_type": "markdown",
   "id": "c01ec349",
   "metadata": {},
   "source": [
    "# Basic Visualization Tools"
   ]
  },
  {
   "cell_type": "markdown",
   "id": "194c81ad",
   "metadata": {},
   "source": [
    "#### Bar Charts"
   ]
  },
  {
   "cell_type": "markdown",
   "id": "ebff8ece",
   "metadata": {},
   "source": [
    "* A bar chart is a very popular visualization tool.\n",
    "\n",
    "\n",
    "* Unlike a histogram, a bar chart also known as a bar graph is a type of plot where the length of each bar is proportional to \n",
    "  the value of the item that it represents.\n",
    "  \n",
    "* It is commonly used to compare the values of a variable at a given point in time. \n",
    "  For example, say we're interested invisualizing in a discrete fashion how immigration from Iceland to Canada\n",
    "  looked like from 1980 to 2013.\n",
    "  "
   ]
  },
  {
   "cell_type": "markdown",
   "id": "ec781693",
   "metadata": {},
   "source": [
    "##### Bar Chart\n",
    "\n",
    "import matplotlib as mpl\n",
    "\n",
    "import matplotlib.pyplot as plt"
   ]
  },
  {
   "cell_type": "code",
   "execution_count": null,
   "id": "a2430a2f",
   "metadata": {},
   "outputs": [],
   "source": []
  }
 ],
 "metadata": {
  "kernelspec": {
   "display_name": "Python 3 (ipykernel)",
   "language": "python",
   "name": "python3"
  },
  "language_info": {
   "codemirror_mode": {
    "name": "ipython",
    "version": 3
   },
   "file_extension": ".py",
   "mimetype": "text/x-python",
   "name": "python",
   "nbconvert_exporter": "python",
   "pygments_lexer": "ipython3",
   "version": "3.8.3"
  }
 },
 "nbformat": 4,
 "nbformat_minor": 5
}
