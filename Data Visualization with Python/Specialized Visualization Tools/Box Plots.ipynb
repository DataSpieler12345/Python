{
 "cells": [
  {
   "cell_type": "markdown",
   "id": "73ab1e01",
   "metadata": {},
   "source": [
    "#  What is a Box Plots\n",
    "\n",
    "* A box plot is a way of statistically representing the distribution of given data through five main dimensions.\n",
    "\n",
    "\n",
    "\t* The first dimension is minimum, which is the smallest number in the sorted data.\n",
    "    \n",
    "    * The second dimension is first quartile, which is the point 25% of the way through the sorted data. In other words, a   \tquarter of the datapoints are less than this value.\n",
    "    \n",
    "    * The third dimension is median, which is the median of the sorted data. \n",
    "        \n",
    "    * The fourth dimension is third quartile, which is the point 75% of the way through the sorted data. In other words, \n",
    "      three-quarters of the data points are less than this value.\n",
    "        \n",
    "    * the final dimension is maximum, which is the highest number in the sorted data.  \n",
    "    \n",
    " "
   ]
  },
  {
   "cell_type": "code",
   "execution_count": null,
   "id": "65d69028",
   "metadata": {},
   "outputs": [],
   "source": []
  }
 ],
 "metadata": {
  "kernelspec": {
   "display_name": "Python 3 (ipykernel)",
   "language": "python",
   "name": "python3"
  },
  "language_info": {
   "codemirror_mode": {
    "name": "ipython",
    "version": 3
   },
   "file_extension": ".py",
   "mimetype": "text/x-python",
   "name": "python",
   "nbconvert_exporter": "python",
   "pygments_lexer": "ipython3",
   "version": "3.8.3"
  }
 },
 "nbformat": 4,
 "nbformat_minor": 5
}
