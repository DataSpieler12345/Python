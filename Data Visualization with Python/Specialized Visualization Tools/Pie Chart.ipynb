{
 "cells": [
  {
   "cell_type": "markdown",
   "id": "a7490900",
   "metadata": {},
   "source": [
    "# what is a pie chart?\n",
    "\n",
    "* A pie chart is a circular statistical graphic divided into slices to illustrate numerical proportion.\n",
    "\n",
    "* A `pie chart` is a circular graphic that displays numeric proportions by dividing a circle (or pie) into proportional slices. You are most likely already familiar with pie charts as it is widely used in business and media. We can create pie charts in Matplotlib by passing in the `kind=pie` keyword."
   ]
  },
  {
   "cell_type": "code",
   "execution_count": null,
   "id": "fb8f7aa3",
   "metadata": {},
   "outputs": [],
   "source": []
  }
 ],
 "metadata": {
  "kernelspec": {
   "display_name": "Python 3 (ipykernel)",
   "language": "python",
   "name": "python3"
  },
  "language_info": {
   "codemirror_mode": {
    "name": "ipython",
    "version": 3
   },
   "file_extension": ".py",
   "mimetype": "text/x-python",
   "name": "python",
   "nbconvert_exporter": "python",
   "pygments_lexer": "ipython3",
   "version": "3.8.3"
  }
 },
 "nbformat": 4,
 "nbformat_minor": 5
}
