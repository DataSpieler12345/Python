{
 "cells": [
  {
   "cell_type": "markdown",
   "id": "b9481bab",
   "metadata": {},
   "source": [
    "# what is a scatter plot?\n",
    "\n",
    "* A scatter plot is a type of plot that displays values pertaining to typically two variables against each other. \n",
    "\n",
    "\n",
    "* Usually it is a dependent variable to be plotted against an independent variable in order to determine if any correlation between the two variables exists. \n",
    "\n"
   ]
  },
  {
   "cell_type": "code",
   "execution_count": null,
   "id": "57e1f679",
   "metadata": {},
   "outputs": [],
   "source": []
  }
 ],
 "metadata": {
  "kernelspec": {
   "display_name": "Python 3 (ipykernel)",
   "language": "python",
   "name": "python3"
  },
  "language_info": {
   "codemirror_mode": {
    "name": "ipython",
    "version": 3
   },
   "file_extension": ".py",
   "mimetype": "text/x-python",
   "name": "python",
   "nbconvert_exporter": "python",
   "pygments_lexer": "ipython3",
   "version": "3.8.3"
  }
 },
 "nbformat": 4,
 "nbformat_minor": 5
}
