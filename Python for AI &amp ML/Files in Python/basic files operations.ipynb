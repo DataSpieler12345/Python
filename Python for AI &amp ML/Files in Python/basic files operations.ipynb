{
 "cells": [
  {
   "cell_type": "markdown",
   "id": "fec80093-2124-4ca0-a2b6-04c32fe8a5ce",
   "metadata": {},
   "source": [
    "<div align=\"center\">\n",
    "    <h4 style=\"font-size: 50;\">Basic files operations</h4>\n",
    "</div>"
   ]
  },
  {
   "cell_type": "code",
   "execution_count": 1,
   "id": "2f2c1ade-1d02-4d25-b1ad-63507bf3a84a",
   "metadata": {},
   "outputs": [
    {
     "name": "stdout",
     "output_type": "stream",
     "text": [
      "Writing new.txt\n"
     ]
    }
   ],
   "source": [
    "%%writefile new.txt\n",
    "This is a text file\n",
    "here is another line\n",
    "more infirmation here "
   ]
  },
  {
   "cell_type": "code",
   "execution_count": 2,
   "id": "963e272a-4b01-498b-9b0e-4fa5d4fa43b0",
   "metadata": {},
   "outputs": [],
   "source": [
    "new = open(\"new.txt\")"
   ]
  },
  {
   "cell_type": "code",
   "execution_count": 4,
   "id": "3804957e-e1a9-42f5-8516-b15bea1f1f6d",
   "metadata": {},
   "outputs": [
    {
     "data": {
      "text/plain": [
       "_io.TextIOWrapper"
      ]
     },
     "execution_count": 4,
     "metadata": {},
     "output_type": "execute_result"
    }
   ],
   "source": [
    "type(new)"
   ]
  },
  {
   "cell_type": "code",
   "execution_count": 5,
   "id": "555348af-80e5-4592-be5f-ecf75a057920",
   "metadata": {},
   "outputs": [
    {
     "data": {
      "text/plain": [
       "'This is a text file\\nhere is another line\\nmore infirmation here \\n'"
      ]
     },
     "execution_count": 5,
     "metadata": {},
     "output_type": "execute_result"
    }
   ],
   "source": [
    "new.read()"
   ]
  },
  {
   "cell_type": "code",
   "execution_count": 6,
   "id": "f9e630ce-7a23-4dbf-989f-91018e0d607e",
   "metadata": {},
   "outputs": [
    {
     "data": {
      "text/plain": [
       "''"
      ]
     },
     "execution_count": 6,
     "metadata": {},
     "output_type": "execute_result"
    }
   ],
   "source": [
    "new.read()"
   ]
  },
  {
   "cell_type": "code",
   "execution_count": 17,
   "id": "44737abb-356c-4549-aed8-7b241f2df20f",
   "metadata": {},
   "outputs": [
    {
     "data": {
      "text/plain": [
       "0"
      ]
     },
     "execution_count": 17,
     "metadata": {},
     "output_type": "execute_result"
    }
   ],
   "source": [
    "new.seek(0)"
   ]
  },
  {
   "cell_type": "code",
   "execution_count": 14,
   "id": "de47d388-1bbc-457a-aca3-2c016cd6f7c9",
   "metadata": {},
   "outputs": [],
   "source": [
    "contents = new.read()"
   ]
  },
  {
   "cell_type": "code",
   "execution_count": 8,
   "id": "1fa0223b-0ea0-4150-b916-14a0f342abef",
   "metadata": {},
   "outputs": [
    {
     "data": {
      "text/plain": [
       "'This is a text file\\nhere is another line\\nmore infirmation here \\n'"
      ]
     },
     "execution_count": 8,
     "metadata": {},
     "output_type": "execute_result"
    }
   ],
   "source": [
    "new.read()"
   ]
  },
  {
   "cell_type": "code",
   "execution_count": 15,
   "id": "f83c8780-f234-4d73-a8ed-f04c3f6a1e23",
   "metadata": {},
   "outputs": [
    {
     "data": {
      "text/plain": [
       "'This is a text file\\nhere is another line\\nmore infirmation here \\n'"
      ]
     },
     "execution_count": 15,
     "metadata": {},
     "output_type": "execute_result"
    }
   ],
   "source": [
    "contents"
   ]
  },
  {
   "cell_type": "code",
   "execution_count": 18,
   "id": "5249d32a-9b6e-4b80-a64d-0dccc497c9c5",
   "metadata": {},
   "outputs": [
    {
     "data": {
      "text/plain": [
       "['This is a text file\\n', 'here is another line\\n', 'more infirmation here \\n']"
      ]
     },
     "execution_count": 18,
     "metadata": {},
     "output_type": "execute_result"
    }
   ],
   "source": [
    "new.readlines()"
   ]
  },
  {
   "cell_type": "code",
   "execution_count": 19,
   "id": "22e5cf16-c375-482e-b58b-6a005a4cee8a",
   "metadata": {},
   "outputs": [],
   "source": [
    "new.close() # always close it "
   ]
  }
 ],
 "metadata": {
  "kernelspec": {
   "display_name": "Python 3 (ipykernel)",
   "language": "python",
   "name": "python3"
  },
  "language_info": {
   "codemirror_mode": {
    "name": "ipython",
    "version": 3
   },
   "file_extension": ".py",
   "mimetype": "text/x-python",
   "name": "python",
   "nbconvert_exporter": "python",
   "pygments_lexer": "ipython3",
   "version": "3.10.7"
  }
 },
 "nbformat": 4,
 "nbformat_minor": 5
}
