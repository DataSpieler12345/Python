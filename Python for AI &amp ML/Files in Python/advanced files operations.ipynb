{
 "cells": [
  {
   "cell_type": "markdown",
   "id": "532d36fc-365f-45be-b12a-d31f99df79ae",
   "metadata": {},
   "source": [
    "<div align=\"center\">\n",
    "    <h4 style=\"font-size: 50;\">Advanced files operations</h4>\n",
    "</div>"
   ]
  },
  {
   "cell_type": "code",
   "execution_count": 1,
   "id": "2f9aabcf-7e8e-466b-b9ec-240b7e6f9a7e",
   "metadata": {},
   "outputs": [
    {
     "name": "stdout",
     "output_type": "stream",
     "text": [
      "Writing newer.txt\n"
     ]
    }
   ],
   "source": [
    "%%writefile newer.txt\n",
    "This is a text file\n",
    "here is another line\n",
    "more infirmation here "
   ]
  },
  {
   "cell_type": "code",
   "execution_count": 2,
   "id": "190c9c0d-2cf4-49ad-8fad-063d87089601",
   "metadata": {},
   "outputs": [],
   "source": [
    "# r = read, w = write, a = append, r+ = read & write, w+= writing and reading, - overwrite existing or create new!\n",
    "with open(\"newer.txt\", mode =\"a\") as new_file:\n",
    "    this = new_file.readlines()"
   ]
  },
  {
   "cell_type": "code",
   "execution_count": 3,
   "id": "0f3e1d83-9afb-439f-980b-ef9c1f04dbca",
   "metadata": {},
   "outputs": [
    {
     "data": {
      "text/plain": [
       "['This is a text file\\n', 'here is another line\\n', 'more infirmation here \\n']"
      ]
     },
     "execution_count": 3,
     "metadata": {},
     "output_type": "execute_result"
    }
   ],
   "source": [
    "this"
   ]
  },
  {
   "cell_type": "code",
   "execution_count": 4,
   "id": "bc2f7f2b-7c8b-4321-873c-4f7bd210ecec",
   "metadata": {},
   "outputs": [],
   "source": [
    "with open(\"newest.txt\", mode=\"w\") as newest:\n",
    "    newest.write(\"BRAND NEW LIFE\")"
   ]
  }
 ],
 "metadata": {
  "kernelspec": {
   "display_name": "Python 3 (ipykernel)",
   "language": "python",
   "name": "python3"
  },
  "language_info": {
   "codemirror_mode": {
    "name": "ipython",
    "version": 3
   },
   "file_extension": ".py",
   "mimetype": "text/x-python",
   "name": "python",
   "nbconvert_exporter": "python",
   "pygments_lexer": "ipython3",
   "version": "3.10.7"
  }
 },
 "nbformat": 4,
 "nbformat_minor": 5
}
