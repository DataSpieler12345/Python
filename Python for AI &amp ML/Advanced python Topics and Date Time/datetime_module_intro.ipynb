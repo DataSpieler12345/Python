{
 "cells": [
  {
   "cell_type": "markdown",
   "id": "3aa3f561-7194-43bc-8a4a-51b89274fb55",
   "metadata": {},
   "source": [
    "<div align=\"center\">\n",
    "    <h4 style=\"font-size: large;\">Datetime Module Intro</h4>\n",
    "</div>"
   ]
  },
  {
   "cell_type": "code",
   "execution_count": 1,
   "id": "24f431d3-19c1-4c24-97fa-5554e770faff",
   "metadata": {},
   "outputs": [],
   "source": [
    "import datetime"
   ]
  },
  {
   "cell_type": "code",
   "execution_count": 11,
   "id": "cfa3df21-f3a8-4a5a-afec-881a96cb2843",
   "metadata": {},
   "outputs": [
    {
     "name": "stdout",
     "output_type": "stream",
     "text": [
      "2024-03-11 15:56:27.228379\n"
     ]
    }
   ],
   "source": [
    "datetime_now = datetime.datetime.now() #now\n",
    "print(datetime_now)"
   ]
  },
  {
   "cell_type": "code",
   "execution_count": 12,
   "id": "5e3fb43b-fb11-4526-8da4-e4d24e721424",
   "metadata": {},
   "outputs": [
    {
     "name": "stdout",
     "output_type": "stream",
     "text": [
      "2024-03-11\n"
     ]
    }
   ],
   "source": [
    "datetime_today = datetime.date.today() #today date\n",
    "print(datetime_today)"
   ]
  },
  {
   "cell_type": "code",
   "execution_count": 13,
   "id": "96a41eee-8f8d-4644-bf93-187203b9999b",
   "metadata": {},
   "outputs": [
    {
     "name": "stdout",
     "output_type": "stream",
     "text": [
      "2024-03-11 15:57:18.581895\n"
     ]
    }
   ],
   "source": [
    "datetime_now = datetime.datetime.now() #now\n",
    "print(datetime_now)"
   ]
  }
 ],
 "metadata": {
  "kernelspec": {
   "display_name": "Python 3 (ipykernel)",
   "language": "python",
   "name": "python3"
  },
  "language_info": {
   "codemirror_mode": {
    "name": "ipython",
    "version": 3
   },
   "file_extension": ".py",
   "mimetype": "text/x-python",
   "name": "python",
   "nbconvert_exporter": "python",
   "pygments_lexer": "ipython3",
   "version": "3.10.7"
  }
 },
 "nbformat": 4,
 "nbformat_minor": 5
}
