{
 "cells": [
  {
   "cell_type": "markdown",
   "id": "22335dc9-dafb-4ee5-ba71-254b13cfbbbd",
   "metadata": {},
   "source": [
    "<div align=\"center\">\n",
    "    <h4 style=\"font-size: large;\">Datetime Module Applications</h4>\n",
    "</div>"
   ]
  },
  {
   "cell_type": "code",
   "execution_count": 1,
   "id": "89daeca7-c877-418a-a645-70f15b2878f9",
   "metadata": {},
   "outputs": [],
   "source": [
    "from datetime import datetime\n",
    "import pytz"
   ]
  },
  {
   "cell_type": "code",
   "execution_count": 2,
   "id": "a26bdc06-aea6-4110-b7ee-e861a3e29c4d",
   "metadata": {},
   "outputs": [
    {
     "name": "stdout",
     "output_type": "stream",
     "text": [
      "2024-03-11 16:02:40.975420\n"
     ]
    }
   ],
   "source": [
    "now = datetime.now()\n",
    "print(now)"
   ]
  },
  {
   "cell_type": "code",
   "execution_count": 5,
   "id": "84b9c9d7-6cb8-44ed-8919-154c9354a8fe",
   "metadata": {},
   "outputs": [
    {
     "name": "stdout",
     "output_type": "stream",
     "text": [
      "the time is: 16:02:40\n"
     ]
    }
   ],
   "source": [
    "new_time = now.strftime(\"%H:%M:%S\")\n",
    "print(\"the time is:\",new_time)"
   ]
  },
  {
   "cell_type": "code",
   "execution_count": 7,
   "id": "191e62f1-f919-49fb-9f0a-efce84f22949",
   "metadata": {},
   "outputs": [
    {
     "name": "stdout",
     "output_type": "stream",
     "text": [
      "the date and time are: 03/11/2024, 16:02:40\n"
     ]
    }
   ],
   "source": [
    "new_time1 = now.strftime(\"%m/%d/%Y, %H:%M:%S\")\n",
    "print(\"the date and time are:\",new_time1)"
   ]
  },
  {
   "cell_type": "code",
   "execution_count": 8,
   "id": "62ff0ad8-ade9-4dc3-801e-3d8379b8a55d",
   "metadata": {},
   "outputs": [
    {
     "name": "stdout",
     "output_type": "stream",
     "text": [
      "the date and time are: 03.11.2024, 16:02:40\n"
     ]
    }
   ],
   "source": [
    "new_time2 = now.strftime(\"%m.%d.%Y, %H:%M:%S\")\n",
    "print(\"the date and time are:\",new_time2)"
   ]
  },
  {
   "cell_type": "code",
   "execution_count": 9,
   "id": "e0bf78d0-09bb-4fa8-ac34-3e5744e6a288",
   "metadata": {},
   "outputs": [
    {
     "name": "stdout",
     "output_type": "stream",
     "text": [
      "the date and time are: 03-11-2024, 16:02:40\n"
     ]
    }
   ],
   "source": [
    "new_time3 = now.strftime(\"%m-%d-%Y, %H:%M:%S\")\n",
    "print(\"the date and time are:\",new_time3)"
   ]
  },
  {
   "cell_type": "code",
   "execution_count": 11,
   "id": "c70b911a-27b0-49c8-acf9-5756884c6e10",
   "metadata": {},
   "outputs": [
    {
     "name": "stdout",
     "output_type": "stream",
     "text": [
      "2024-03-11 11:12:04.889069-04:00\n"
     ]
    }
   ],
   "source": [
    "# local time\n",
    "\n",
    "tz_NY = pytz.timezone(\"America/New_York\")\n",
    "datetime_ny = datetime.now(tz_NY)\n",
    "print(datetime_ny)"
   ]
  }
 ],
 "metadata": {
  "kernelspec": {
   "display_name": "Python 3 (ipykernel)",
   "language": "python",
   "name": "python3"
  },
  "language_info": {
   "codemirror_mode": {
    "name": "ipython",
    "version": 3
   },
   "file_extension": ".py",
   "mimetype": "text/x-python",
   "name": "python",
   "nbconvert_exporter": "python",
   "pygments_lexer": "ipython3",
   "version": "3.10.7"
  }
 },
 "nbformat": 4,
 "nbformat_minor": 5
}
