{
 "cells": [
  {
   "cell_type": "markdown",
   "id": "85db2eb8-ab55-4bfe-9e56-405b7cea90a7",
   "metadata": {},
   "source": [
    "<div align=\"center\">\n",
    "    <h4 style=\"font-size: large;\">Generators</h4>\n",
    "</div>"
   ]
  },
  {
   "cell_type": "code",
   "execution_count": 8,
   "id": "32ca04e1-553a-4946-8ce4-8b7d0cf93370",
   "metadata": {},
   "outputs": [],
   "source": [
    "# my_generator\n",
    "\n",
    "def my_generator():\n",
    "    i = 1\n",
    "    print(\"First Line\")\n",
    "    yield i\n",
    "\n",
    "    i += 1\n",
    "    print(\"Second Line\")\n",
    "    yield i\n",
    "\n",
    "    i += 1\n",
    "    print(\"Last Line\")\n",
    "    yield i"
   ]
  },
  {
   "cell_type": "code",
   "execution_count": 2,
   "id": "6123a818-9379-4b89-ab9c-58b5ca66da3f",
   "metadata": {},
   "outputs": [
    {
     "name": "stdout",
     "output_type": "stream",
     "text": [
      "First Line\n",
      "1\n",
      "Second Line\n",
      "2\n",
      "Last Line\n",
      "3\n"
     ]
    }
   ],
   "source": [
    "for thing in my_generator():\n",
    "    print(thing)"
   ]
  },
  {
   "cell_type": "code",
   "execution_count": 3,
   "id": "1cfd5992-b3ec-44cc-8112-f4ee5b790b1d",
   "metadata": {},
   "outputs": [],
   "source": [
    "# reverse_string generator\n",
    "\n",
    "def reverse_string(some_string):\n",
    "    length_of_string = len(some_string)\n",
    "    for i in range(length_of_string -1, -1, -1):\n",
    "        yield some_string[i]"
   ]
  },
  {
   "cell_type": "code",
   "execution_count": 4,
   "id": "ece4a3ff-34cd-43e7-96c1-c443f7672c1d",
   "metadata": {},
   "outputs": [
    {
     "name": "stdout",
     "output_type": "stream",
     "text": [
      "n\n",
      "a\n",
      "m\n",
      "t\n",
      "a\n",
      "b\n"
     ]
    }
   ],
   "source": [
    "for letter in reverse_string(\"batman\"):\n",
    "    print(letter)"
   ]
  },
  {
   "cell_type": "code",
   "execution_count": 7,
   "id": "cdc5bc37-2715-4b5c-877b-fdda7e7e6c81",
   "metadata": {},
   "outputs": [
    {
     "name": "stdout",
     "output_type": "stream",
     "text": [
      "o\n",
      "r\n",
      "a\n",
      "i\n",
      "u\n",
      "q\n",
      "i\n",
      "m\n",
      "i\n",
      "r\n",
      "i\n",
      "u\n",
      "q\n",
      "u\n",
      "t\n",
      "a\n",
      "r\n",
      "a\n",
      "g\n",
      "n\n",
      "a\n",
      "r\n",
      "a\n",
      "p\n"
     ]
    }
   ],
   "source": [
    "for letter in reverse_string(\"parangaratuquirimiquiaro\"):\n",
    "    print(letter)"
   ]
  }
 ],
 "metadata": {
  "kernelspec": {
   "display_name": "Python 3 (ipykernel)",
   "language": "python",
   "name": "python3"
  },
  "language_info": {
   "codemirror_mode": {
    "name": "ipython",
    "version": 3
   },
   "file_extension": ".py",
   "mimetype": "text/x-python",
   "name": "python",
   "nbconvert_exporter": "python",
   "pygments_lexer": "ipython3",
   "version": "3.10.7"
  }
 },
 "nbformat": 4,
 "nbformat_minor": 5
}
