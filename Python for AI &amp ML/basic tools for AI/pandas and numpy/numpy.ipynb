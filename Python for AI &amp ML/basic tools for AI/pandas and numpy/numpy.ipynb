{
 "cells": [
  {
   "cell_type": "markdown",
   "id": "9f055744-4d1a-4705-988b-4b12a9c523c4",
   "metadata": {},
   "source": [
    "<div align=\"center\">\n",
    "    <h4 style=\"font-size: 50;\">Numpy</h4>\n",
    "</div>"
   ]
  },
  {
   "cell_type": "markdown",
   "id": "55758caf-ce14-4d3f-a70f-b9e003a62184",
   "metadata": {},
   "source": [
    "* Create 1D and 2D arrays, including some special arrays\n",
    "* Slice, index, reshape, sort an array\n",
    "* Perform numerical operations on arrays"
   ]
  },
  {
   "cell_type": "code",
   "execution_count": 2,
   "id": "3d0349d6-0c05-42f2-8a2c-d47a2b0b13dd",
   "metadata": {},
   "outputs": [],
   "source": [
    "# import package Numpy\n",
    "import numpy as np"
   ]
  },
  {
   "cell_type": "markdown",
   "id": "9edffc70-4a4d-4eeb-98f4-2ed6929630cc",
   "metadata": {},
   "source": [
    "#### Create 1D array (column vectors)"
   ]
  },
  {
   "cell_type": "code",
   "execution_count": 3,
   "id": "c5ea3545-2930-4dcc-a02c-29240f6bfacc",
   "metadata": {},
   "outputs": [],
   "source": [
    "x = np.array([1,2,10,2,1])"
   ]
  },
  {
   "cell_type": "code",
   "execution_count": 4,
   "id": "9776e884-a420-4cac-aec0-2beba53289c8",
   "metadata": {},
   "outputs": [
    {
     "data": {
      "text/plain": [
       "numpy.ndarray"
      ]
     },
     "execution_count": 4,
     "metadata": {},
     "output_type": "execute_result"
    }
   ],
   "source": [
    "type(x)"
   ]
  },
  {
   "cell_type": "code",
   "execution_count": 6,
   "id": "5864b863-80b7-4f96-8639-fdc305e76a62",
   "metadata": {},
   "outputs": [
    {
     "data": {
      "text/plain": [
       "array([ 1,  2, 10,  2,  1])"
      ]
     },
     "execution_count": 6,
     "metadata": {},
     "output_type": "execute_result"
    }
   ],
   "source": [
    "x"
   ]
  },
  {
   "cell_type": "code",
   "execution_count": 5,
   "id": "e606f929-efbc-4ebb-a791-dd05f19e8859",
   "metadata": {},
   "outputs": [
    {
     "data": {
      "text/plain": [
       "(5,)"
      ]
     },
     "execution_count": 5,
     "metadata": {},
     "output_type": "execute_result"
    }
   ],
   "source": [
    "# shape of the array, which shall be a 5 x 1 column vector \n",
    "x.shape"
   ]
  },
  {
   "cell_type": "code",
   "execution_count": 7,
   "id": "2acbbf89-9d48-48ac-aab7-50ef05f7c11b",
   "metadata": {},
   "outputs": [
    {
     "data": {
      "text/plain": [
       "5"
      ]
     },
     "execution_count": 7,
     "metadata": {},
     "output_type": "execute_result"
    }
   ],
   "source": [
    "# number of rows\n",
    "len(x)"
   ]
  },
  {
   "cell_type": "code",
   "execution_count": 8,
   "id": "98507706-64cc-4d3a-b9e0-a9b49dff28c2",
   "metadata": {},
   "outputs": [
    {
     "data": {
      "text/plain": [
       "1"
      ]
     },
     "execution_count": 8,
     "metadata": {},
     "output_type": "execute_result"
    }
   ],
   "source": [
    "# first element of the array x\n",
    "x[0]"
   ]
  },
  {
   "cell_type": "code",
   "execution_count": 9,
   "id": "5a06ae30-dd83-4f4a-85ac-6671ebc3a044",
   "metadata": {},
   "outputs": [
    {
     "data": {
      "text/plain": [
       "2"
      ]
     },
     "execution_count": 9,
     "metadata": {},
     "output_type": "execute_result"
    }
   ],
   "source": [
    "# second element of the array x\n",
    "x[1]"
   ]
  },
  {
   "cell_type": "code",
   "execution_count": 10,
   "id": "20d802ea-f2a6-49d1-89fd-c9306d7aa05d",
   "metadata": {},
   "outputs": [
    {
     "data": {
      "text/plain": [
       "1"
      ]
     },
     "execution_count": 10,
     "metadata": {},
     "output_type": "execute_result"
    }
   ],
   "source": [
    "# last element of the array x\n",
    "x[-1]"
   ]
  },
  {
   "cell_type": "code",
   "execution_count": 11,
   "id": "8aa2710f-1281-49fc-b495-66c6c1b90998",
   "metadata": {},
   "outputs": [
    {
     "data": {
      "text/plain": [
       "array([1, 2])"
      ]
     },
     "execution_count": 11,
     "metadata": {},
     "output_type": "execute_result"
    }
   ],
   "source": [
    "# first 2 elements of the array x\n",
    "x[:2]"
   ]
  },
  {
   "cell_type": "code",
   "execution_count": 12,
   "id": "fe8f13e5-f6ac-488e-851f-fa3552137e01",
   "metadata": {},
   "outputs": [
    {
     "data": {
      "text/plain": [
       "array([2, 1])"
      ]
     },
     "execution_count": 12,
     "metadata": {},
     "output_type": "execute_result"
    }
   ],
   "source": [
    "# last 2 elements of the array x\n",
    "x[-2:]"
   ]
  },
  {
   "cell_type": "code",
   "execution_count": 13,
   "id": "fc8cb69a-6d68-42b7-899d-f675e774c129",
   "metadata": {},
   "outputs": [
    {
     "data": {
      "text/plain": [
       "array([ 2, 10,  2])"
      ]
     },
     "execution_count": 13,
     "metadata": {},
     "output_type": "execute_result"
    }
   ],
   "source": [
    "# from the 2nd to the 4th elements of the array x\n",
    "x[1:4]"
   ]
  },
  {
   "cell_type": "code",
   "execution_count": 14,
   "id": "df292b38-ea09-47fe-95d8-3dabad982f24",
   "metadata": {},
   "outputs": [
    {
     "data": {
      "text/plain": [
       "1"
      ]
     },
     "execution_count": 14,
     "metadata": {},
     "output_type": "execute_result"
    }
   ],
   "source": [
    "# dimension of the array x\n",
    "x.ndim"
   ]
  },
  {
   "cell_type": "markdown",
   "id": "5353904c-6e7e-4e04-abdb-ed7e8f05c84b",
   "metadata": {},
   "source": [
    "#### Create 2D array (matrices)"
   ]
  },
  {
   "cell_type": "code",
   "execution_count": 15,
   "id": "a2a53e28-6c56-4180-9e2f-6ec2ed105d13",
   "metadata": {},
   "outputs": [],
   "source": [
    "y = np.array([[1,2], [3,4]])"
   ]
  },
  {
   "cell_type": "code",
   "execution_count": 16,
   "id": "b8ad6c59-465f-4f39-b3f6-7d4f222b458e",
   "metadata": {},
   "outputs": [
    {
     "data": {
      "text/plain": [
       "array([[1, 2],\n",
       "       [3, 4]])"
      ]
     },
     "execution_count": 16,
     "metadata": {},
     "output_type": "execute_result"
    }
   ],
   "source": [
    "y"
   ]
  },
  {
   "cell_type": "code",
   "execution_count": 17,
   "id": "6de5b1c2-6abb-47b9-820f-af269ec2a608",
   "metadata": {},
   "outputs": [],
   "source": [
    "# you can also use list to create a 2-dmin array\n",
    "n1 = [1,2,3]\n",
    "n2 = [4,5,6]\n",
    "n3 = [7,8,9]\n",
    "n4 = [10,11,12]\n",
    "m = np.array([n1, n2, n3, n4])"
   ]
  },
  {
   "cell_type": "code",
   "execution_count": 18,
   "id": "f63032a1-f5df-4474-a6d1-cceb38f280fc",
   "metadata": {},
   "outputs": [
    {
     "data": {
      "text/plain": [
       "array([[ 1,  2,  3],\n",
       "       [ 4,  5,  6],\n",
       "       [ 7,  8,  9],\n",
       "       [10, 11, 12]])"
      ]
     },
     "execution_count": 18,
     "metadata": {},
     "output_type": "execute_result"
    }
   ],
   "source": [
    "m"
   ]
  },
  {
   "cell_type": "code",
   "execution_count": 19,
   "id": "52d3ebee-8262-43b2-9ef2-eb4ef9814a8d",
   "metadata": {},
   "outputs": [
    {
     "data": {
      "text/plain": [
       "2"
      ]
     },
     "execution_count": 19,
     "metadata": {},
     "output_type": "execute_result"
    }
   ],
   "source": [
    "m.ndim"
   ]
  },
  {
   "cell_type": "code",
   "execution_count": 20,
   "id": "a919bd18-8fd7-4515-b0ce-e4768ea86a43",
   "metadata": {},
   "outputs": [
    {
     "data": {
      "text/plain": [
       "(4, 3)"
      ]
     },
     "execution_count": 20,
     "metadata": {},
     "output_type": "execute_result"
    }
   ],
   "source": [
    "m.shape # (# rows, # columns)"
   ]
  },
  {
   "cell_type": "code",
   "execution_count": 21,
   "id": "88b84161-4ddd-4d96-9863-231bec4c691a",
   "metadata": {},
   "outputs": [
    {
     "data": {
      "text/plain": [
       "4"
      ]
     },
     "execution_count": 21,
     "metadata": {},
     "output_type": "execute_result"
    }
   ],
   "source": [
    "len(m)"
   ]
  },
  {
   "cell_type": "code",
   "execution_count": 22,
   "id": "06e09c05-1731-49e8-ba95-d8a94629f5b6",
   "metadata": {},
   "outputs": [
    {
     "data": {
      "text/plain": [
       "array([1, 2, 3])"
      ]
     },
     "execution_count": 22,
     "metadata": {},
     "output_type": "execute_result"
    }
   ],
   "source": [
    "# the 1st row of matrix m\n",
    "m[0,:]"
   ]
  },
  {
   "cell_type": "code",
   "execution_count": 24,
   "id": "73e3ef4a-e7d1-4896-890d-1bc5d5c42551",
   "metadata": {},
   "outputs": [
    {
     "data": {
      "text/plain": [
       "array([[1, 2, 3],\n",
       "       [4, 5, 6]])"
      ]
     },
     "execution_count": 24,
     "metadata": {},
     "output_type": "execute_result"
    }
   ],
   "source": [
    "# the first two rows of matrix m\n",
    "m[:2,:]"
   ]
  },
  {
   "cell_type": "code",
   "execution_count": 25,
   "id": "162b1807-3f2b-493b-a28e-21078ba66293",
   "metadata": {},
   "outputs": [
    {
     "data": {
      "text/plain": [
       "array([ 1,  4,  7, 10])"
      ]
     },
     "execution_count": 25,
     "metadata": {},
     "output_type": "execute_result"
    }
   ],
   "source": [
    "# the 1st column of matrix m\n",
    "m[:,0]"
   ]
  },
  {
   "cell_type": "code",
   "execution_count": 26,
   "id": "0aee23a7-d1e4-4ad1-9fff-28684c83e3f8",
   "metadata": {},
   "outputs": [
    {
     "data": {
      "text/plain": [
       "array([[ 2,  3],\n",
       "       [ 5,  6],\n",
       "       [ 8,  9],\n",
       "       [11, 12]])"
      ]
     },
     "execution_count": 26,
     "metadata": {},
     "output_type": "execute_result"
    }
   ],
   "source": [
    "# the last two column of matrix m\n",
    "m[:,-2:]"
   ]
  },
  {
   "cell_type": "code",
   "execution_count": 27,
   "id": "71d42f9c-cc40-4bc9-a24c-9891e85ede73",
   "metadata": {},
   "outputs": [
    {
     "data": {
      "text/plain": [
       "11"
      ]
     },
     "execution_count": 27,
     "metadata": {},
     "output_type": "execute_result"
    }
   ],
   "source": [
    "# the 4th row and 2nd column element (answer shall be 11)\n",
    "m[3,1]"
   ]
  },
  {
   "cell_type": "code",
   "execution_count": 30,
   "id": "4a49456c-86f2-49b7-a92f-1ce9f8b5202d",
   "metadata": {},
   "outputs": [
    {
     "data": {
      "text/plain": [
       "10"
      ]
     },
     "execution_count": 30,
     "metadata": {},
     "output_type": "execute_result"
    }
   ],
   "source": [
    "# the 4th row and 1st column element (answer shall be 10)\n",
    "m[3,0]"
   ]
  },
  {
   "cell_type": "code",
   "execution_count": 29,
   "id": "98ed90ab-ce35-42db-90b6-5c70c4360962",
   "metadata": {},
   "outputs": [
    {
     "data": {
      "text/plain": [
       "12"
      ]
     },
     "execution_count": 29,
     "metadata": {},
     "output_type": "execute_result"
    }
   ],
   "source": [
    "# the 4th row and 3rd column element (answer shall be 12)\n",
    "m[3,2]"
   ]
  },
  {
   "cell_type": "markdown",
   "id": "cf3c7ef4-420d-43b2-9ea6-ca2400072be7",
   "metadata": {},
   "source": [
    "#### Create special 2-dimnesional arrays (ones, zeros, diag, eye, empty, random)"
   ]
  },
  {
   "cell_type": "code",
   "execution_count": 31,
   "id": "beb12a8a-c634-4085-8d4a-442dd1705785",
   "metadata": {},
   "outputs": [
    {
     "data": {
      "text/plain": [
       "array([[5, 0, 0, 0],\n",
       "       [0, 5, 0, 0],\n",
       "       [0, 0, 1, 0],\n",
       "       [0, 0, 0, 1]])"
      ]
     },
     "execution_count": 31,
     "metadata": {},
     "output_type": "execute_result"
    }
   ],
   "source": [
    "# diag matrix\n",
    "np.diag((5,5,1,1))"
   ]
  },
  {
   "cell_type": "code",
   "execution_count": 33,
   "id": "568ac18b-c855-497d-8d48-3cce852ddfd0",
   "metadata": {},
   "outputs": [
    {
     "data": {
      "text/plain": [
       "array([[1., 1., 1., 1.],\n",
       "       [1., 1., 1., 1.]])"
      ]
     },
     "execution_count": 33,
     "metadata": {},
     "output_type": "execute_result"
    }
   ],
   "source": [
    "# matrix with all entries equal to 1\n",
    "np.ones((2,4))"
   ]
  },
  {
   "cell_type": "code",
   "execution_count": 34,
   "id": "f534f75d-85fc-4946-90d3-5f37895bb0e8",
   "metadata": {},
   "outputs": [
    {
     "data": {
      "text/plain": [
       "array([[0., 0.],\n",
       "       [0., 0.]])"
      ]
     },
     "execution_count": 34,
     "metadata": {},
     "output_type": "execute_result"
    }
   ],
   "source": [
    "# zero matrix\n",
    "np.zeros((2,2))"
   ]
  },
  {
   "cell_type": "code",
   "execution_count": 35,
   "id": "b767cf1e-f61f-4d4a-a57a-41e332121b38",
   "metadata": {},
   "outputs": [
    {
     "data": {
      "text/plain": [
       "array([[1., 0., 0.],\n",
       "       [0., 1., 0.],\n",
       "       [0., 0., 1.]])"
      ]
     },
     "execution_count": 35,
     "metadata": {},
     "output_type": "execute_result"
    }
   ],
   "source": [
    "# identity matrix\n",
    "np.eye(3)"
   ]
  },
  {
   "cell_type": "code",
   "execution_count": 36,
   "id": "2c3b8602-7ac4-41b8-9c0f-8066a8cff22a",
   "metadata": {},
   "outputs": [
    {
     "data": {
      "text/plain": [
       "array([-1.96341785, -0.6467253 ,  1.02329083, -0.41674857])"
      ]
     },
     "execution_count": 36,
     "metadata": {},
     "output_type": "execute_result"
    }
   ],
   "source": [
    "# array of normally distributed values\n",
    "np.random.normal(size=4)"
   ]
  },
  {
   "cell_type": "code",
   "execution_count": 38,
   "id": "94b78cbc-ceb0-4327-8fff-b6d7cca3ea8b",
   "metadata": {},
   "outputs": [
    {
     "data": {
      "text/plain": [
       "array([[ 2.16867289, -0.24827687,  0.11648011,  0.08502524],\n",
       "       [ 0.42549435, -0.07146949,  1.49092271,  1.47348722],\n",
       "       [-2.55321542,  0.37334617, -0.31050236, -0.56342392],\n",
       "       [-0.61152675, -1.28911108, -0.81101183,  0.29803937]])"
      ]
     },
     "execution_count": 38,
     "metadata": {},
     "output_type": "execute_result"
    }
   ],
   "source": [
    "# array of normally distributed values \n",
    "np.random.normal(size=(4,4))"
   ]
  },
  {
   "cell_type": "markdown",
   "id": "aa4dc0bf-ad63-4096-bb0b-81df610d812d",
   "metadata": {},
   "source": [
    "#### Data Types"
   ]
  },
  {
   "cell_type": "code",
   "execution_count": 39,
   "id": "63904092-623f-4076-8064-ecb21973e5c1",
   "metadata": {},
   "outputs": [
    {
     "data": {
      "text/plain": [
       "dtype('int32')"
      ]
     },
     "execution_count": 39,
     "metadata": {},
     "output_type": "execute_result"
    }
   ],
   "source": [
    "x = np.array([1,2,3])\n",
    "x.dtype"
   ]
  },
  {
   "cell_type": "code",
   "execution_count": 40,
   "id": "757766fe-916c-4c70-b392-441b2e3712dd",
   "metadata": {},
   "outputs": [
    {
     "data": {
      "text/plain": [
       "array([1, 2, 3])"
      ]
     },
     "execution_count": 40,
     "metadata": {},
     "output_type": "execute_result"
    }
   ],
   "source": [
    "x"
   ]
  },
  {
   "cell_type": "code",
   "execution_count": 41,
   "id": "db08ea64-9012-4dde-ab1b-64e54787aa4a",
   "metadata": {},
   "outputs": [
    {
     "data": {
      "text/plain": [
       "dtype('float64')"
      ]
     },
     "execution_count": 41,
     "metadata": {},
     "output_type": "execute_result"
    }
   ],
   "source": [
    "x = np.array([1,2,3], dtype=float)\n",
    "x.dtype"
   ]
  },
  {
   "cell_type": "code",
   "execution_count": 42,
   "id": "e0bf0578-cb18-4c4d-92a4-9730d675b0ce",
   "metadata": {},
   "outputs": [
    {
     "data": {
      "text/plain": [
       "array([1., 2., 3.])"
      ]
     },
     "execution_count": 42,
     "metadata": {},
     "output_type": "execute_result"
    }
   ],
   "source": [
    "x = np.array([1,2,3])\n",
    "x = x.astype(float)\n",
    "x"
   ]
  },
  {
   "cell_type": "code",
   "execution_count": 44,
   "id": "70407f33-bb21-4202-b313-bd78c13347e1",
   "metadata": {},
   "outputs": [
    {
     "data": {
      "text/plain": [
       "array(['1.0', '1', 'oups'], dtype='<U32')"
      ]
     },
     "execution_count": 44,
     "metadata": {},
     "output_type": "execute_result"
    }
   ],
   "source": [
    "# If you mix types, the most complex type is used\n",
    "np.array([1.0, 1, \"oups\"])"
   ]
  },
  {
   "cell_type": "markdown",
   "id": "7e97a779-70b6-4e1f-b269-5fdd17563459",
   "metadata": {},
   "source": [
    "#### Indexing with boolean masks"
   ]
  },
  {
   "cell_type": "code",
   "execution_count": 45,
   "id": "85f742db-6ac8-4f1d-abeb-4163fa67641b",
   "metadata": {},
   "outputs": [],
   "source": [
    "x = np.array([-10,-5,-0.1,0,2,5,6,10000])"
   ]
  },
  {
   "cell_type": "code",
   "execution_count": 46,
   "id": "2cdd286e-d18c-459e-a567-4a37f8b9339f",
   "metadata": {},
   "outputs": [
    {
     "data": {
      "text/plain": [
       "array([ True,  True,  True, False, False, False, False, False])"
      ]
     },
     "execution_count": 46,
     "metadata": {},
     "output_type": "execute_result"
    }
   ],
   "source": [
    "# check each element in array x whether its less than 0 or not\n",
    "x<0"
   ]
  },
  {
   "cell_type": "code",
   "execution_count": 47,
   "id": "d75cd51b-290f-4f2a-8342-fa08cb98b96e",
   "metadata": {},
   "outputs": [
    {
     "data": {
      "text/plain": [
       "array([-10. ,  -5. ,  -0.1])"
      ]
     },
     "execution_count": 47,
     "metadata": {},
     "output_type": "execute_result"
    }
   ],
   "source": [
    "# pick all elements which are less than 0 in array x\n",
    "x[x<0]"
   ]
  },
  {
   "cell_type": "code",
   "execution_count": 49,
   "id": "0361b765-bd6c-48cb-8fd1-32956fcbbc87",
   "metadata": {},
   "outputs": [
    {
     "data": {
      "text/plain": [
       "array([ True, False, False,  True,  True, False,  True,  True])"
      ]
     },
     "execution_count": 49,
     "metadata": {},
     "output_type": "execute_result"
    }
   ],
   "source": [
    "# check each element in array x whether its even or not\n",
    "x % 2 == 0"
   ]
  },
  {
   "cell_type": "code",
   "execution_count": 50,
   "id": "06623a2e-50d9-4a8c-89b2-71bd520a824a",
   "metadata": {},
   "outputs": [
    {
     "data": {
      "text/plain": [
       "array([-1.e+01,  0.e+00,  2.e+00,  6.e+00,  1.e+04])"
      ]
     },
     "execution_count": 50,
     "metadata": {},
     "output_type": "execute_result"
    }
   ],
   "source": [
    "# pick all even elements in array x\n",
    "x[x % 2 == 0]"
   ]
  },
  {
   "cell_type": "code",
   "execution_count": 51,
   "id": "de862cde-4833-46cb-af11-97a92de824d6",
   "metadata": {},
   "outputs": [
    {
     "data": {
      "text/plain": [
       "array([  -10,     0,     2,     6, 10000])"
      ]
     },
     "execution_count": 51,
     "metadata": {},
     "output_type": "execute_result"
    }
   ],
   "source": [
    "# convert all even elements to integers\n",
    "x[x % 2 == 0].astype(int)"
   ]
  },
  {
   "cell_type": "markdown",
   "id": "5b629e1c-d8c6-44a8-9a73-877e282cdd93",
   "metadata": {},
   "source": [
    "#### Numerical operations"
   ]
  },
  {
   "cell_type": "code",
   "execution_count": 53,
   "id": "f2df06c2-71dc-4bd6-ba64-5869c8b45c18",
   "metadata": {},
   "outputs": [],
   "source": [
    "A = np.array([[4,7],\n",
    "             [2,6]])\n",
    "\n",
    "B = np.array([[0.6,-0.7],\n",
    "             [-0.2,0.4]])"
   ]
  },
  {
   "cell_type": "code",
   "execution_count": 54,
   "id": "6a74ff44-04f7-4809-9040-ad6fba543495",
   "metadata": {},
   "outputs": [
    {
     "data": {
      "text/plain": [
       "array([[4.6, 6.3],\n",
       "       [1.8, 6.4]])"
      ]
     },
     "execution_count": 54,
     "metadata": {},
     "output_type": "execute_result"
    }
   ],
   "source": [
    "A + B"
   ]
  },
  {
   "cell_type": "code",
   "execution_count": 55,
   "id": "2a861c47-c0ff-4d94-ae10-5ba99fb15ffe",
   "metadata": {},
   "outputs": [
    {
     "data": {
      "text/plain": [
       "array([[3.4, 7.7],\n",
       "       [2.2, 5.6]])"
      ]
     },
     "execution_count": 55,
     "metadata": {},
     "output_type": "execute_result"
    }
   ],
   "source": [
    "A - B"
   ]
  },
  {
   "cell_type": "code",
   "execution_count": 56,
   "id": "55bd2368-bf8a-40ca-950a-eb3bd8e546fa",
   "metadata": {},
   "outputs": [
    {
     "data": {
      "text/plain": [
       "array([[ 2.4, -4.9],\n",
       "       [-0.4,  2.4]])"
      ]
     },
     "execution_count": 56,
     "metadata": {},
     "output_type": "execute_result"
    }
   ],
   "source": [
    "# elementwise product\n",
    "A * B"
   ]
  },
  {
   "cell_type": "code",
   "execution_count": 57,
   "id": "324108c5-addd-4ee5-a620-b6f6404e2e80",
   "metadata": {},
   "outputs": [
    {
     "data": {
      "text/plain": [
       "array([[ 1.00000000e+00,  3.33066907e-16],\n",
       "       [-1.11022302e-16,  1.00000000e+00]])"
      ]
     },
     "execution_count": 57,
     "metadata": {},
     "output_type": "execute_result"
    }
   ],
   "source": [
    "# matrix product\n",
    "A.dot(B)"
   ]
  },
  {
   "cell_type": "code",
   "execution_count": 58,
   "id": "5753d8d0-7de4-4c04-bcbf-d2ccbc8b81d9",
   "metadata": {},
   "outputs": [
    {
     "data": {
      "text/plain": [
       "array([[ 1.,  0.],\n",
       "       [-0.,  1.]])"
      ]
     },
     "execution_count": 58,
     "metadata": {},
     "output_type": "execute_result"
    }
   ],
   "source": [
    "A.dot(B).round()"
   ]
  },
  {
   "cell_type": "code",
   "execution_count": 59,
   "id": "5398126d-24b9-47b7-8eb9-4fae2ee4ea70",
   "metadata": {},
   "outputs": [
    {
     "data": {
      "text/plain": [
       "array([[  6.66666667, -10.        ],\n",
       "       [-10.        ,  15.        ]])"
      ]
     },
     "execution_count": 59,
     "metadata": {},
     "output_type": "execute_result"
    }
   ],
   "source": [
    "# elementwise division\n",
    "A/B"
   ]
  },
  {
   "cell_type": "markdown",
   "id": "3d315ebd-3b7c-4a86-989b-da5dbf524ebf",
   "metadata": {},
   "source": [
    "#### reshape"
   ]
  },
  {
   "cell_type": "code",
   "execution_count": 60,
   "id": "419524d5-0a8d-46aa-8613-c62ff0aefe0f",
   "metadata": {},
   "outputs": [],
   "source": [
    "a = np.array([[1,2,3],[4,5,6]])"
   ]
  },
  {
   "cell_type": "code",
   "execution_count": 61,
   "id": "7dfb32b1-1a94-47e6-872a-1d0a12cf7472",
   "metadata": {},
   "outputs": [
    {
     "data": {
      "text/plain": [
       "array([[1, 2, 3],\n",
       "       [4, 5, 6]])"
      ]
     },
     "execution_count": 61,
     "metadata": {},
     "output_type": "execute_result"
    }
   ],
   "source": [
    "a"
   ]
  },
  {
   "cell_type": "code",
   "execution_count": 62,
   "id": "ce87a45f-75ae-41c6-bc0f-a0859d1186ec",
   "metadata": {},
   "outputs": [
    {
     "data": {
      "text/plain": [
       "(2, 3)"
      ]
     },
     "execution_count": 62,
     "metadata": {},
     "output_type": "execute_result"
    }
   ],
   "source": [
    "a.shape"
   ]
  },
  {
   "cell_type": "code",
   "execution_count": 63,
   "id": "1176d429-0479-43ef-a9f5-ddc262ad803d",
   "metadata": {},
   "outputs": [],
   "source": [
    "# reshape to a 3x2 array\n",
    "b = a.reshape(3,2)"
   ]
  },
  {
   "cell_type": "code",
   "execution_count": 64,
   "id": "a5f2b4db-f359-47e3-9381-3356dd943091",
   "metadata": {},
   "outputs": [
    {
     "data": {
      "text/plain": [
       "array([[1, 2],\n",
       "       [3, 4],\n",
       "       [5, 6]])"
      ]
     },
     "execution_count": 64,
     "metadata": {},
     "output_type": "execute_result"
    }
   ],
   "source": [
    "b"
   ]
  },
  {
   "cell_type": "code",
   "execution_count": 65,
   "id": "5e170b13-cc99-4811-9f67-0f448b1e58bc",
   "metadata": {},
   "outputs": [
    {
     "data": {
      "text/plain": [
       "(3, 2)"
      ]
     },
     "execution_count": 65,
     "metadata": {},
     "output_type": "execute_result"
    }
   ],
   "source": [
    "b.shape"
   ]
  },
  {
   "cell_type": "code",
   "execution_count": 66,
   "id": "238d9ce4-e083-4e33-8f36-628dd68d60b2",
   "metadata": {},
   "outputs": [],
   "source": [
    "# reshape to a 1x6 array\n",
    "c = a.reshape((1,6))"
   ]
  },
  {
   "cell_type": "code",
   "execution_count": 67,
   "id": "4660c79b-177d-4be3-9eb8-234a737f5b52",
   "metadata": {},
   "outputs": [
    {
     "data": {
      "text/plain": [
       "array([[1, 2, 3, 4, 5, 6]])"
      ]
     },
     "execution_count": 67,
     "metadata": {},
     "output_type": "execute_result"
    }
   ],
   "source": [
    "c"
   ]
  },
  {
   "cell_type": "code",
   "execution_count": 68,
   "id": "76027702-de1e-4e45-a5c1-8205394015e5",
   "metadata": {},
   "outputs": [
    {
     "data": {
      "text/plain": [
       "(1, 6)"
      ]
     },
     "execution_count": 68,
     "metadata": {},
     "output_type": "execute_result"
    }
   ],
   "source": [
    "c.shape"
   ]
  },
  {
   "cell_type": "markdown",
   "id": "768d3d56-3c9d-4eb0-a780-84e9c1c1b999",
   "metadata": {},
   "source": [
    "#### sorting"
   ]
  },
  {
   "cell_type": "code",
   "execution_count": 70,
   "id": "d8f0fa66-ad67-44fb-9f43-3fea947c97e7",
   "metadata": {},
   "outputs": [
    {
     "data": {
      "text/plain": [
       "array([ 5,  1, 10,  2,  7,  8])"
      ]
     },
     "execution_count": 70,
     "metadata": {},
     "output_type": "execute_result"
    }
   ],
   "source": [
    "X = np.array([5,1,10,2,7,8])\n",
    "x.sort() # inplace\n",
    "X"
   ]
  },
  {
   "cell_type": "code",
   "execution_count": 73,
   "id": "38b41c34-8ec2-4303-85f3-c980d130b75b",
   "metadata": {},
   "outputs": [
    {
     "data": {
      "text/plain": [
       "array([ 1,  2,  5,  8, 10])"
      ]
     },
     "execution_count": 73,
     "metadata": {},
     "output_type": "execute_result"
    }
   ],
   "source": [
    "X = np.array([5,1,10,2,8])\n",
    "np.sort(X)"
   ]
  },
  {
   "cell_type": "markdown",
   "id": "ac0cdeb5-61d0-469d-b572-dc9963a591ee",
   "metadata": {},
   "source": [
    "##### Summary"
   ]
  },
  {
   "cell_type": "markdown",
   "id": "86d186d0-e0c8-46c7-8c4f-92b9bbe2f9c3",
   "metadata": {},
   "source": [
    "1. How to create arrays with : array, ones, diag, zeros, ....\n",
    "2. How to check array's shape and dimensions\n",
    "3. Perform slicing and indexing arrays\n",
    "4. How to use operators. Keep in mind that * operator is an element-wise operation\n",
    "5. How to reshape and sort an array\n",
    "6. Reference: http:/numpy.org"
   ]
  },
  {
   "cell_type": "code",
   "execution_count": null,
   "id": "0d957237-65a1-476c-936c-0fe11b2bf7b2",
   "metadata": {},
   "outputs": [],
   "source": []
  }
 ],
 "metadata": {
  "kernelspec": {
   "display_name": "Python 3 (ipykernel)",
   "language": "python",
   "name": "python3"
  },
  "language_info": {
   "codemirror_mode": {
    "name": "ipython",
    "version": 3
   },
   "file_extension": ".py",
   "mimetype": "text/x-python",
   "name": "python",
   "nbconvert_exporter": "python",
   "pygments_lexer": "ipython3",
   "version": "3.10.7"
  }
 },
 "nbformat": 4,
 "nbformat_minor": 5
}
