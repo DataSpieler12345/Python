{
 "cells": [
  {
   "cell_type": "markdown",
   "id": "55b7dbbd-8c5c-4818-86e2-4c31d105bab6",
   "metadata": {},
   "source": [
    "<center>\n",
    "    \n",
    "# ScyPy\n",
    "\n",
    "</center>"
   ]
  },
  {
   "cell_type": "markdown",
   "id": "c0c3c7eb-2533-414c-9a0e-131404b1077f",
   "metadata": {},
   "source": [
    "# Objective: \n",
    "\n",
    "1. introduction to SciPy \n",
    "2. install SciPy\n",
    "3. application of SciPy in finding root, optimization and linear Interpolation "
   ]
  },
  {
   "cell_type": "markdown",
   "id": "f9d172ce-f039-4a7c-a97f-e871de1e6b0b",
   "metadata": {},
   "source": [
    "# What is SciPy?\n",
    "\n",
    "1. SciPy is a scientific computation library that uses NumPy underneath.\n",
    "\n",
    "2. SciPy stands for Scientific Python.\n",
    "\n",
    "3. It provides more utility functions for optimization, stats and signal processing."
   ]
  },
  {
   "cell_type": "markdown",
   "id": "fce459b9-b6cf-4208-9775-e2fa3ea776e8",
   "metadata": {},
   "source": [
    "### Installation of SciPy \n",
    "\n",
    "> pip install scipy\n"
   ]
  },
  {
   "cell_type": "code",
   "execution_count": 7,
   "id": "38eacde1-773a-49d0-ac32-4d1232131a24",
   "metadata": {},
   "outputs": [],
   "source": [
    "#wwarnings\n",
    "import warnings\n",
    "warnings.filterwarnings(\"ignore\")"
   ]
  },
  {
   "cell_type": "markdown",
   "id": "5cb1cb35-dc6e-4716-b046-051cd64aa2f1",
   "metadata": {},
   "source": [
    "## check if you have you successfully installed SciPy"
   ]
  },
  {
   "cell_type": "code",
   "execution_count": 1,
   "id": "bf9d5895-da21-41f8-9b7a-bd588404bb59",
   "metadata": {},
   "outputs": [
    {
     "name": "stdout",
     "output_type": "stream",
     "text": [
      "0.001\n"
     ]
    }
   ],
   "source": [
    "# example 1. how many cubic meters are in one liter? \n",
    "from scipy import constants\n",
    "print(constants.liter)"
   ]
  },
  {
   "cell_type": "code",
   "execution_count": 2,
   "id": "84a0aea1-644c-4e6b-aa1a-67b1f2ed4523",
   "metadata": {},
   "outputs": [
    {
     "name": "stdout",
     "output_type": "stream",
     "text": [
      "3.141592653589793\n"
     ]
    }
   ],
   "source": [
    "# example 2. print the constant value of PI \n",
    "from scipy import constants \n",
    "print(constants.pi)"
   ]
  },
  {
   "cell_type": "code",
   "execution_count": 3,
   "id": "5e42689e-46bd-4592-999f-9500213cda51",
   "metadata": {},
   "outputs": [
    {
     "name": "stdout",
     "output_type": "stream",
     "text": [
      "['Avogadro', 'Boltzmann', 'Btu', 'Btu_IT', 'Btu_th', 'ConstantWarning', 'G', 'Julian_year', 'N_A', 'Planck', 'R', 'Rydberg', 'Stefan_Boltzmann', 'Wien', '__all__', '__builtins__', '__cached__', '__doc__', '__file__', '__loader__', '__name__', '__package__', '__path__', '__spec__', '_codata', '_constants', '_obsolete_constants', 'acre', 'alpha', 'angstrom', 'arcmin', 'arcminute', 'arcsec', 'arcsecond', 'astronomical_unit', 'atm', 'atmosphere', 'atomic_mass', 'atto', 'au', 'bar', 'barrel', 'bbl', 'blob', 'c', 'calorie', 'calorie_IT', 'calorie_th', 'carat', 'centi', 'codata', 'constants', 'convert_temperature', 'day', 'deci', 'degree', 'degree_Fahrenheit', 'deka', 'dyn', 'dyne', 'e', 'eV', 'electron_mass', 'electron_volt', 'elementary_charge', 'epsilon_0', 'erg', 'exa', 'exbi', 'femto', 'fermi', 'find', 'fine_structure', 'fluid_ounce', 'fluid_ounce_US', 'fluid_ounce_imp', 'foot', 'g', 'gallon', 'gallon_US', 'gallon_imp', 'gas_constant', 'gibi', 'giga', 'golden', 'golden_ratio', 'grain', 'gram', 'gravitational_constant', 'h', 'hbar', 'hectare', 'hecto', 'horsepower', 'hour', 'hp', 'inch', 'k', 'kgf', 'kibi', 'kilo', 'kilogram_force', 'kmh', 'knot', 'lambda2nu', 'lb', 'lbf', 'light_year', 'liter', 'litre', 'long_ton', 'm_e', 'm_n', 'm_p', 'm_u', 'mach', 'mebi', 'mega', 'metric_ton', 'micro', 'micron', 'mil', 'mile', 'milli', 'minute', 'mmHg', 'mph', 'mu_0', 'nano', 'nautical_mile', 'neutron_mass', 'nu2lambda', 'ounce', 'oz', 'parsec', 'pebi', 'peta', 'physical_constants', 'pi', 'pico', 'point', 'pound', 'pound_force', 'precision', 'proton_mass', 'psi', 'pt', 'quecto', 'quetta', 'ronna', 'ronto', 'short_ton', 'sigma', 'slinch', 'slug', 'speed_of_light', 'speed_of_sound', 'stone', 'survey_foot', 'survey_mile', 'tebi', 'tera', 'test', 'ton_TNT', 'torr', 'troy_ounce', 'troy_pound', 'u', 'unit', 'value', 'week', 'yard', 'year', 'yobi', 'yocto', 'yotta', 'zebi', 'zepto', 'zero_Celsius', 'zetta']\n"
     ]
    }
   ],
   "source": [
    "# example 3.  List all constants by using dir() function \n",
    "from scipy import constants \n",
    "print(dir(constants))"
   ]
  },
  {
   "cell_type": "markdown",
   "id": "f11abbc2-46d0-4225-97c1-6bd6e9c6d85e",
   "metadata": {},
   "source": [
    "# Application 1. Find Roots of a nonlinear Equation\n",
    "NumPy is capable of finding roots for polynomials and linear equations, but it can not find roots for nonlinear equations, such as \n",
    "\n",
    "> x + cos(x) = 0\n",
    "\n",
    "Therefore, you have to use SciPy's optimze.root() function."
   ]
  },
  {
   "cell_type": "code",
   "execution_count": 5,
   "id": "55267088-20be-497f-a6c9-e80962c6bed1",
   "metadata": {},
   "outputs": [
    {
     "data": {
      "image/png": "[encoded data removed]",
      "text/plain": [
       "<Figure size 640x480 with 1 Axes>"
      ]
     },
     "metadata": {},
     "output_type": "display_data"
    }
   ],
   "source": [
    "import numpy as np\n",
    "import matplotlib.pyplot as plt\n",
    "\n",
    "x = np.linspace(-10, 10)\n",
    "y = x + np.cos(x)\n",
    "\n",
    "plt.axhline(y=0, color='r', linestyle='-')\n",
    "plt.plot(x,y)\n",
    "plt.xlabel('x')\n",
    "plt.ylabel('y')\n",
    "plt.title('x + cos(x) = 0')\n",
    "plt.show()"
   ]
  },
  {
   "cell_type": "code",
   "execution_count": 8,
   "id": "92906c80-6b9d-4475-b40c-e5a1e3d6d3a5",
   "metadata": {},
   "outputs": [],
   "source": [
    "# find root of the non-linear equation x + cos(x) = 0 \n",
    "\n",
    "from scipy.optimize import root \n",
    "from math import cos \n",
    "\n",
    "# define the fuction x + cos(x) = 0 \n",
    "def eqn(x):\n",
    "    return x + cos(x)\n",
    "\n",
    "myroot = root(eqn, 0)"
   ]
  },
  {
   "cell_type": "code",
   "execution_count": 9,
   "id": "03756b57-4a1d-4036-87fc-30db8748a0c8",
   "metadata": {},
   "outputs": [
    {
     "name": "stdout",
     "output_type": "stream",
     "text": [
      " message: The solution converged.\n",
      " success: True\n",
      "  status: 1\n",
      "     fun: [ 0.000e+00]\n",
      "       x: [-7.391e-01]\n",
      "  method: hybr\n",
      "    nfev: 9\n",
      "    fjac: [[-1.000e+00]]\n",
      "       r: [-1.674e+00]\n",
      "     qtf: [-2.668e-13]\n"
     ]
    }
   ],
   "source": [
    "# Print all information about the solution \n",
    "print(myroot)"
   ]
  },
  {
   "cell_type": "code",
   "execution_count": 10,
   "id": "b28761a1-3599-4f5f-96aa-f5ecc5c86c17",
   "metadata": {},
   "outputs": [
    {
     "name": "stdout",
     "output_type": "stream",
     "text": [
      "[-0.73908513]\n"
     ]
    }
   ],
   "source": [
    "# print the root x \n",
    "print(myroot.x)"
   ]
  },
  {
   "cell_type": "markdown",
   "id": "1867a293-837f-49b3-99d5-e4715d053e8e",
   "metadata": {},
   "source": [
    "# Application 2. Find minimum of a Function\n",
    "\n",
    "We can use scipy.optimize.minimize() function to minimize the function."
   ]
  },
  {
   "cell_type": "code",
   "execution_count": 12,
   "id": "2c183481-19cd-49da-a1f2-d76c0927eaee",
   "metadata": {},
   "outputs": [
    {
     "data": {
      "image/png": "[encoded data removed]",
      "text/plain": [
       "<Figure size 640x480 with 1 Axes>"
      ]
     },
     "metadata": {},
     "output_type": "display_data"
    }
   ],
   "source": [
    "import numpy as np\n",
    "import matplotlib.pyplot as plt\n",
    "\n",
    "x = np.linspace(-5, 5)\n",
    "y = x**2 + x + 2\n",
    "\n",
    "plt.plot(x,y)\n",
    "plt.xlabel('x')\n",
    "plt.ylabel('y')\n",
    "plt.title('y = x^2 + x + 2')\n",
    "plt.show()"
   ]
  },
  {
   "cell_type": "code",
   "execution_count": 13,
   "id": "dd537fbb-97c3-463a-8a15-9f28abb27866",
   "metadata": {},
   "outputs": [],
   "source": [
    "# Example. Minimize the function x^2 + x + 2 with BFGS:\n",
    "from scipy.optimize import minimize\n",
    "\n",
    "# define function x^2 + x + 2 \n",
    "def eqn(x):\n",
    "    return x**2 + x + 2\n",
    "\n",
    "# syntax minimize (eqn, initial-point, method)\n",
    "# list of method are: 'CG', 'BFGS', 'Newton-CG', 'L-BFGS-B', 'TNC', 'COBYLA', 'SLSQP'\n",
    "mymin = minimize(eqn, 0, method='BFGS') "
   ]
  },
  {
   "cell_type": "code",
   "execution_count": 14,
   "id": "f058b594-a19c-46a1-b699-3b8ae3c1bdd9",
   "metadata": {},
   "outputs": [
    {
     "name": "stdout",
     "output_type": "stream",
     "text": [
      "  message: Optimization terminated successfully.\n",
      "  success: True\n",
      "   status: 0\n",
      "      fun: 1.75\n",
      "        x: [-5.000e-01]\n",
      "      nit: 2\n",
      "      jac: [ 0.000e+00]\n",
      " hess_inv: [[ 5.000e-01]]\n",
      "     nfev: 8\n",
      "     njev: 4\n"
     ]
    }
   ],
   "source": [
    "# Print all information about the minimum \n",
    "print(mymin)"
   ]
  },
  {
   "cell_type": "code",
   "execution_count": 15,
   "id": "74714312-3960-430f-b17e-2d7161fdd18d",
   "metadata": {},
   "outputs": [
    {
     "name": "stdout",
     "output_type": "stream",
     "text": [
      "[-0.50000001]\n"
     ]
    }
   ],
   "source": [
    "# Print the minimum point  \n",
    "print(mymin.x)"
   ]
  },
  {
   "cell_type": "markdown",
   "id": "b942e742-fd77-41d6-88fe-3882a085f31c",
   "metadata": {},
   "source": [
    "# Application 3. Linear Interpolation \n",
    "\n",
    "Interpolation is a method for generating points between given points.\n",
    "\n",
    "For example: for points 1 and 2, we may interpolate and find points 1.33 and 1.66.\n",
    "\n",
    "Interpolation has many usage, in Machine Learning we often deal with missing data in a dataset, interpolation is often used to substitute those values.\n"
   ]
  },
  {
   "cell_type": "code",
   "execution_count": 19,
   "id": "b4920e49-9473-417c-9040-d6273f204834",
   "metadata": {},
   "outputs": [
    {
     "name": "stdout",
     "output_type": "stream",
     "text": [
      "x =  [0 1 2 3 4 5 6 7 8 9]\n",
      "y =  [ 1  3  5  7  9 11 13 15 17 19]\n"
     ]
    },
    {
     "data": {
      "image/png": "[encoded data removed]",
      "text/plain": [
       "<Figure size 640x480 with 1 Axes>"
      ]
     },
     "metadata": {},
     "output_type": "display_data"
    }
   ],
   "source": [
    "# For given xs and ys interpolate values:\n",
    "\n",
    "from scipy.interpolate import interp1d\n",
    "import numpy as np\n",
    "import matplotlib.pyplot as plt\n",
    "\n",
    "x = np.arange(0, 10) # integers 0 - 9 \n",
    "y = 2*x + 1\n",
    "\n",
    "print('x = ', x)\n",
    "print('y = ', y)\n",
    "\n",
    "plt.plot(x,y)\n",
    "plt.xlabel('x')\n",
    "plt.ylabel('y')\n",
    "plt.title('y = 2x + 1')\n",
    "plt.show()"
   ]
  },
  {
   "cell_type": "code",
   "execution_count": 34,
   "id": "9a52cbcc-89aa-4171-a388-073d7fc8fbe1",
   "metadata": {},
   "outputs": [],
   "source": [
    "# 1D Interpolation\n",
    "# The function interp1d() is used to interpolate a distribution with 1 variable.\n",
    "# It takes x and y points \n",
    "# returns a callable function that can be called with new x and returns corresponding y.\n",
    "\n",
    "interp_func = interp1d(x, y)"
   ]
  },
  {
   "cell_type": "code",
   "execution_count": 35,
   "id": "fedd2805-bcd0-449d-a13c-5f56a4349fb0",
   "metadata": {},
   "outputs": [
    {
     "data": {
      "text/plain": [
       "<scipy.interpolate._interpolate.interp1d at 0x2895fde8f90>"
      ]
     },
     "execution_count": 35,
     "metadata": {},
     "output_type": "execute_result"
    }
   ],
   "source": [
    "interp_func"
   ]
  },
  {
   "cell_type": "code",
   "execution_count": 36,
   "id": "c808d61f-8d0e-4476-acf0-2204a2e3bfbb",
   "metadata": {},
   "outputs": [
    {
     "data": {
      "text/plain": [
       "array([3. , 3.1, 3.2, 3.3, 3.4, 3.5, 3.6, 3.7, 3.8, 3.9, 4. , 4.1, 4.2,\n",
       "       4.3, 4.4, 4.5, 4.6, 4.7, 4.8, 4.9, 5. , 5.1, 5.2, 5.3, 5.4, 5.5,\n",
       "       5.6, 5.7, 5.8, 5.9])"
      ]
     },
     "execution_count": 36,
     "metadata": {},
     "output_type": "execute_result"
    }
   ],
   "source": [
    "new_x = np.arange(3, 6 , 0.1)\n",
    "new_x"
   ]
  },
  {
   "cell_type": "code",
   "execution_count": null,
   "id": "b9eb3183-8daa-42e3-942d-6f4727645bb8",
   "metadata": {},
   "outputs": [],
   "source": [
    "new_y = interp_func(new_x)\n",
    "new_y"
   ]
  },
  {
   "cell_type": "code",
   "execution_count": null,
   "id": "5f6bb51e-0aa1-4405-9890-ded3b293418b",
   "metadata": {},
   "outputs": [],
   "source": [
    "plt.plot(x,y, '-r', LineWidth = 10)\n",
    "plt.plot(new_x,new_y, '--b', linewidth = 5)\n",
    "plt.xlabel(' x')\n",
    "plt.ylabel(' y')\n",
    "plt.legend(['given points', 'interpolation points'])"
   ]
  },
  {
   "cell_type": "code",
   "execution_count": null,
   "id": "d6f47ae4-9648-40ac-96b7-671848d6995a",
   "metadata": {},
   "outputs": [],
   "source": []
  }
 ],
 "metadata": {
  "kernelspec": {
   "display_name": "Python 3 (ipykernel)",
   "language": "python",
   "name": "python3"
  },
  "language_info": {
   "codemirror_mode": {
    "name": "ipython",
    "version": 3
   },
   "file_extension": ".py",
   "mimetype": "text/x-python",
   "name": "python",
   "nbconvert_exporter": "python",
   "pygments_lexer": "ipython3",
   "version": "3.10.7"
  }
 },
 "nbformat": 4,
 "nbformat_minor": 5
}
