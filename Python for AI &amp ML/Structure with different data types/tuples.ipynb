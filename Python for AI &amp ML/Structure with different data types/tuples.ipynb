{
 "cells": [
  {
   "cell_type": "markdown",
   "id": "a5e82fd2",
   "metadata": {},
   "source": [
    "<center><h1><b><font size=\"6\">Structure with different data types</font></b></h1></center>"
   ]
  },
  {
   "cell_type": "markdown",
   "id": "df5964a2",
   "metadata": {},
   "source": [
    "<center><h1><b><font size=\"4\">Tuples</font></b></h1></center>"
   ]
  },
  {
   "cell_type": "code",
   "execution_count": 2,
   "id": "05e2b842",
   "metadata": {},
   "outputs": [],
   "source": [
    "tup_1 =(1,2,3)"
   ]
  },
  {
   "cell_type": "code",
   "execution_count": 3,
   "id": "18629f64",
   "metadata": {},
   "outputs": [
    {
     "data": {
      "text/plain": [
       "tuple"
      ]
     },
     "execution_count": 3,
     "metadata": {},
     "output_type": "execute_result"
    }
   ],
   "source": [
    "type(tup_1)"
   ]
  },
  {
   "cell_type": "code",
   "execution_count": 4,
   "id": "ff236b28",
   "metadata": {},
   "outputs": [],
   "source": [
    "tup_2=(\"one\",\"two\",\"three\")"
   ]
  },
  {
   "cell_type": "code",
   "execution_count": 5,
   "id": "963d32d8",
   "metadata": {},
   "outputs": [
    {
     "data": {
      "text/plain": [
       "('one', 'two', 'three')"
      ]
     },
     "execution_count": 5,
     "metadata": {},
     "output_type": "execute_result"
    }
   ],
   "source": [
    "tup_2"
   ]
  },
  {
   "cell_type": "code",
   "execution_count": 6,
   "id": "2e13cbb4",
   "metadata": {},
   "outputs": [
    {
     "data": {
      "text/plain": [
       "tuple"
      ]
     },
     "execution_count": 6,
     "metadata": {},
     "output_type": "execute_result"
    }
   ],
   "source": [
    "type(tup_2)"
   ]
  },
  {
   "cell_type": "code",
   "execution_count": 7,
   "id": "cc9fc7f6",
   "metadata": {},
   "outputs": [
    {
     "data": {
      "text/plain": [
       "3"
      ]
     },
     "execution_count": 7,
     "metadata": {},
     "output_type": "execute_result"
    }
   ],
   "source": [
    "len(tup_2)"
   ]
  },
  {
   "cell_type": "code",
   "execution_count": 8,
   "id": "3e43dec4",
   "metadata": {},
   "outputs": [],
   "source": [
    "# trying to reasign values"
   ]
  },
  {
   "cell_type": "code",
   "execution_count": 9,
   "id": "939d0647",
   "metadata": {},
   "outputs": [
    {
     "ename": "TypeError",
     "evalue": "'tuple' object does not support item assignment",
     "output_type": "error",
     "traceback": [
      "\u001b[1;31m---------------------------------------------------------------------------\u001b[0m",
      "\u001b[1;31mTypeError\u001b[0m                                 Traceback (most recent call last)",
      "Cell \u001b[1;32mIn[9], line 1\u001b[0m\n\u001b[1;32m----> 1\u001b[0m \u001b[43mtup_2\u001b[49m\u001b[43m[\u001b[49m\u001b[38;5;241;43m0\u001b[39;49m\u001b[43m]\u001b[49m\u001b[38;5;241m=\u001b[39m\u001b[38;5;124m\"\u001b[39m\u001b[38;5;124mONE\u001b[39m\u001b[38;5;124m\"\u001b[39m\n",
      "\u001b[1;31mTypeError\u001b[0m: 'tuple' object does not support item assignment"
     ]
    }
   ],
   "source": [
    "tup_2[0]=\"ONE\""
   ]
  }
 ],
 "metadata": {
  "kernelspec": {
   "display_name": "Python 3 (ipykernel)",
   "language": "python",
   "name": "python3"
  },
  "language_info": {
   "codemirror_mode": {
    "name": "ipython",
    "version": 3
   },
   "file_extension": ".py",
   "mimetype": "text/x-python",
   "name": "python",
   "nbconvert_exporter": "python",
   "pygments_lexer": "ipython3",
   "version": "3.9.13"
  }
 },
 "nbformat": 4,
 "nbformat_minor": 5
}
