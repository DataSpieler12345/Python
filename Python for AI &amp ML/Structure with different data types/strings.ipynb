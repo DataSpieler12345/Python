{
 "cells": [
  {
   "cell_type": "markdown",
   "id": "36403d29",
   "metadata": {},
   "source": [
    "<center><h1><b><font size=\"6\">Structure with different data types</font></b></h1></center>"
   ]
  },
  {
   "cell_type": "markdown",
   "id": "899857f0",
   "metadata": {},
   "source": [
    "<center><h1><b><font size=\"4\">Strings</font></b></h1></center>"
   ]
  },
  {
   "cell_type": "code",
   "execution_count": 1,
   "id": "ca6220bd",
   "metadata": {},
   "outputs": [],
   "source": [
    "this = \"my long string\""
   ]
  },
  {
   "cell_type": "code",
   "execution_count": 2,
   "id": "25efd7ed",
   "metadata": {},
   "outputs": [
    {
     "data": {
      "text/plain": [
       "str"
      ]
     },
     "execution_count": 2,
     "metadata": {},
     "output_type": "execute_result"
    }
   ],
   "source": [
    "type(this)"
   ]
  },
  {
   "cell_type": "code",
   "execution_count": 3,
   "id": "73361441",
   "metadata": {},
   "outputs": [
    {
     "data": {
      "text/plain": [
       "'my'"
      ]
     },
     "execution_count": 3,
     "metadata": {},
     "output_type": "execute_result"
    }
   ],
   "source": [
    "this[0:2]"
   ]
  },
  {
   "cell_type": "code",
   "execution_count": 4,
   "id": "ebd57ec0",
   "metadata": {},
   "outputs": [],
   "source": [
    "new = \"...ends here!\""
   ]
  },
  {
   "cell_type": "code",
   "execution_count": 5,
   "id": "292e84bd",
   "metadata": {},
   "outputs": [
    {
     "data": {
      "text/plain": [
       "str"
      ]
     },
     "execution_count": 5,
     "metadata": {},
     "output_type": "execute_result"
    }
   ],
   "source": [
    "type(new)"
   ]
  },
  {
   "cell_type": "code",
   "execution_count": 6,
   "id": "dc94193d",
   "metadata": {},
   "outputs": [
    {
     "data": {
      "text/plain": [
       "'...'"
      ]
     },
     "execution_count": 6,
     "metadata": {},
     "output_type": "execute_result"
    }
   ],
   "source": [
    "new[0:3]"
   ]
  },
  {
   "cell_type": "code",
   "execution_count": 9,
   "id": "ca960fbe",
   "metadata": {},
   "outputs": [
    {
     "data": {
      "text/plain": [
       "'my long string...ends here!'"
      ]
     },
     "execution_count": 9,
     "metadata": {},
     "output_type": "execute_result"
    }
   ],
   "source": [
    "new_string = this + new\n",
    "new_string"
   ]
  },
  {
   "cell_type": "code",
   "execution_count": 10,
   "id": "be8b5fc7",
   "metadata": {},
   "outputs": [
    {
     "name": "stdout",
     "output_type": "stream",
     "text": [
      "my long string...ends here!my long string...ends here!\n"
     ]
    }
   ],
   "source": [
    "print(new_string*2)"
   ]
  },
  {
   "cell_type": "markdown",
   "id": "0db3ac2d",
   "metadata": {},
   "source": [
    "### create a function"
   ]
  },
  {
   "cell_type": "code",
   "execution_count": 11,
   "id": "821f8d05",
   "metadata": {},
   "outputs": [
    {
     "name": "stdout",
     "output_type": "stream",
     "text": [
      "3 n's found in string.\n"
     ]
    }
   ],
   "source": [
    "count = 0\n",
    "for letter in new_string:\n",
    "    if(letter == \"n\"):\n",
    "        count +=1\n",
    "        #count = count + 1\n",
    "print(count, \"n's found in string.\")"
   ]
  },
  {
   "cell_type": "code",
   "execution_count": 12,
   "id": "69050203",
   "metadata": {},
   "outputs": [
    {
     "data": {
      "text/plain": [
       "27"
      ]
     },
     "execution_count": 12,
     "metadata": {},
     "output_type": "execute_result"
    }
   ],
   "source": [
    "len(new_string)"
   ]
  }
 ],
 "metadata": {
  "kernelspec": {
   "display_name": "Python 3 (ipykernel)",
   "language": "python",
   "name": "python3"
  },
  "language_info": {
   "codemirror_mode": {
    "name": "ipython",
    "version": 3
   },
   "file_extension": ".py",
   "mimetype": "text/x-python",
   "name": "python",
   "nbconvert_exporter": "python",
   "pygments_lexer": "ipython3",
   "version": "3.9.13"
  }
 },
 "nbformat": 4,
 "nbformat_minor": 5
}
