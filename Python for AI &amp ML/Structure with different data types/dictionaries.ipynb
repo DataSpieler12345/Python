{
 "cells": [
  {
   "cell_type": "markdown",
   "id": "47fc3c1e",
   "metadata": {},
   "source": [
    "<center><h1><b><font size=\"6\">Structure with different data types</font></b></h1></center>"
   ]
  },
  {
   "cell_type": "markdown",
   "id": "3c35f31c",
   "metadata": {},
   "source": [
    "<center><h1><b><font size=\"4\">Dictionaries</b></h1></center>"
   ]
  },
  {
   "cell_type": "code",
   "execution_count": 1,
   "id": "9b58e165",
   "metadata": {},
   "outputs": [],
   "source": [
    "#{\"key1\":\"value1\",\"key2\":5}"
   ]
  },
  {
   "cell_type": "code",
   "execution_count": 3,
   "id": "6af33308",
   "metadata": {},
   "outputs": [],
   "source": [
    "my_dict = {\"Robert\":40,\"Bjorn\":39}"
   ]
  },
  {
   "cell_type": "code",
   "execution_count": 4,
   "id": "40d79035",
   "metadata": {},
   "outputs": [
    {
     "data": {
      "text/plain": [
       "40"
      ]
     },
     "execution_count": 4,
     "metadata": {},
     "output_type": "execute_result"
    }
   ],
   "source": [
    "my_dict[\"Robert\"]"
   ]
  },
  {
   "cell_type": "markdown",
   "id": "b6d70436",
   "metadata": {},
   "source": [
    "#### something more advanced"
   ]
  },
  {
   "cell_type": "code",
   "execution_count": 5,
   "id": "b10cf593",
   "metadata": {},
   "outputs": [],
   "source": [
    "adv = {\"k1\": 75, \"k2\": \"dog\", \"k3\":[0,1,2], \"k4\":{\"inner\":\"wow!\"}}"
   ]
  },
  {
   "cell_type": "code",
   "execution_count": 6,
   "id": "9faf1bc1",
   "metadata": {},
   "outputs": [
    {
     "data": {
      "text/plain": [
       "[0, 1, 2]"
      ]
     },
     "execution_count": 6,
     "metadata": {},
     "output_type": "execute_result"
    }
   ],
   "source": [
    "adv[\"k3\"]"
   ]
  },
  {
   "cell_type": "code",
   "execution_count": 7,
   "id": "a11354a1",
   "metadata": {},
   "outputs": [
    {
     "data": {
      "text/plain": [
       "2"
      ]
     },
     "execution_count": 7,
     "metadata": {},
     "output_type": "execute_result"
    }
   ],
   "source": [
    "adv[\"k3\"][-1]"
   ]
  }
 ],
 "metadata": {
  "kernelspec": {
   "display_name": "Python 3 (ipykernel)",
   "language": "python",
   "name": "python3"
  },
  "language_info": {
   "codemirror_mode": {
    "name": "ipython",
    "version": 3
   },
   "file_extension": ".py",
   "mimetype": "text/x-python",
   "name": "python",
   "nbconvert_exporter": "python",
   "pygments_lexer": "ipython3",
   "version": "3.9.13"
  }
 },
 "nbformat": 4,
 "nbformat_minor": 5
}
