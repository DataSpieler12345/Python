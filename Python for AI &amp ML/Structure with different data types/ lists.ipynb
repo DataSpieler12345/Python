{
 "cells": [
  {
   "cell_type": "markdown",
   "id": "2ea11566",
   "metadata": {},
   "source": [
    "<center><h1><b><font size=\"6\">Structure with different data types</font></b></h1></center>"
   ]
  },
  {
   "cell_type": "markdown",
   "id": "fd4718e6",
   "metadata": {},
   "source": [
    "<center><h1><b><font size=\"4\">Lists</font></b></h1></center>"
   ]
  },
  {
   "cell_type": "code",
   "execution_count": 11,
   "id": "afca9fe7",
   "metadata": {},
   "outputs": [],
   "source": [
    "list_1 = [0,1,2,3,4,5]\n",
    "list_2 = [\"cat\", \"dog\", \"bird\", \"frog\"]"
   ]
  },
  {
   "cell_type": "code",
   "execution_count": 12,
   "id": "5d57d91c",
   "metadata": {},
   "outputs": [
    {
     "data": {
      "text/plain": [
       "0"
      ]
     },
     "execution_count": 12,
     "metadata": {},
     "output_type": "execute_result"
    }
   ],
   "source": [
    "list_1[0] # 0 position"
   ]
  },
  {
   "cell_type": "code",
   "execution_count": 13,
   "id": "8b787bb7",
   "metadata": {},
   "outputs": [
    {
     "data": {
      "text/plain": [
       "'dog'"
      ]
     },
     "execution_count": 13,
     "metadata": {},
     "output_type": "execute_result"
    }
   ],
   "source": [
    "list_2[1] # 1 position"
   ]
  },
  {
   "cell_type": "code",
   "execution_count": 14,
   "id": "ed118bd8",
   "metadata": {},
   "outputs": [
    {
     "data": {
      "text/plain": [
       "'bird'"
      ]
     },
     "execution_count": 14,
     "metadata": {},
     "output_type": "execute_result"
    }
   ],
   "source": [
    "list_2[-2] # -2 position"
   ]
  },
  {
   "cell_type": "code",
   "execution_count": 15,
   "id": "dfca4572",
   "metadata": {},
   "outputs": [],
   "source": [
    "list_3 = list_1+list_2"
   ]
  },
  {
   "cell_type": "code",
   "execution_count": 16,
   "id": "5a92c61e",
   "metadata": {},
   "outputs": [
    {
     "data": {
      "text/plain": [
       "[0, 1, 2, 3, 4, 5, 'cat', 'dog', 'bird', 'frog']"
      ]
     },
     "execution_count": 16,
     "metadata": {},
     "output_type": "execute_result"
    }
   ],
   "source": [
    "list_3"
   ]
  },
  {
   "cell_type": "code",
   "execution_count": 17,
   "id": "ef87d27c",
   "metadata": {},
   "outputs": [
    {
     "data": {
      "text/plain": [
       "[0, 'ZERO', 2, 3, 4, 5, 'cat', 'dog', 'bird', 'frog']"
      ]
     },
     "execution_count": 17,
     "metadata": {},
     "output_type": "execute_result"
    }
   ],
   "source": [
    "#insert before 1 the string ZERO\n",
    "list_3[1]=\"ZERO\"\n",
    "list_3"
   ]
  },
  {
   "cell_type": "code",
   "execution_count": 18,
   "id": "dde9ff6c",
   "metadata": {},
   "outputs": [
    {
     "data": {
      "text/plain": [
       "'frog'"
      ]
     },
     "execution_count": 18,
     "metadata": {},
     "output_type": "execute_result"
    }
   ],
   "source": [
    "list_3[-1] # -1 position"
   ]
  },
  {
   "cell_type": "code",
   "execution_count": 19,
   "id": "8e8acda7",
   "metadata": {},
   "outputs": [
    {
     "data": {
      "text/plain": [
       "[0, 1, 2, 3, 4, 5]"
      ]
     },
     "execution_count": 19,
     "metadata": {},
     "output_type": "execute_result"
    }
   ],
   "source": [
    "#reverse\n",
    "list_1"
   ]
  },
  {
   "cell_type": "code",
   "execution_count": 21,
   "id": "88166d86",
   "metadata": {},
   "outputs": [
    {
     "name": "stdout",
     "output_type": "stream",
     "text": [
      "[5, 4, 3, 2, 1, 0]\n"
     ]
    }
   ],
   "source": [
    "list_1.sort(reverse=True)\n",
    "print(list_1)"
   ]
  },
  {
   "cell_type": "markdown",
   "id": "3a11ce69",
   "metadata": {},
   "source": [
    "#### new list"
   ]
  },
  {
   "cell_type": "code",
   "execution_count": 22,
   "id": "b84673fe",
   "metadata": {},
   "outputs": [],
   "source": [
    "new_list = [\"a\",\"b\",\"c\",\"d\",\"e\",\"f\"]"
   ]
  },
  {
   "cell_type": "code",
   "execution_count": 23,
   "id": "dee8d626",
   "metadata": {},
   "outputs": [
    {
     "data": {
      "text/plain": [
       "['a']"
      ]
     },
     "execution_count": 23,
     "metadata": {},
     "output_type": "execute_result"
    }
   ],
   "source": [
    "# [a:b] a is included as the first element, and we slice everything before b\n",
    "new_list[0:1]"
   ]
  },
  {
   "cell_type": "code",
   "execution_count": 24,
   "id": "54bbe4aa",
   "metadata": {},
   "outputs": [
    {
     "data": {
      "text/plain": [
       "['c', 'd', 'e', 'f']"
      ]
     },
     "execution_count": 24,
     "metadata": {},
     "output_type": "execute_result"
    }
   ],
   "source": [
    "new_list[2:]"
   ]
  },
  {
   "cell_type": "code",
   "execution_count": 25,
   "id": "e5dd16c9",
   "metadata": {},
   "outputs": [
    {
     "data": {
      "text/plain": [
       "['a', 'b', 'c', 'd', 'e', 'f']"
      ]
     },
     "execution_count": 25,
     "metadata": {},
     "output_type": "execute_result"
    }
   ],
   "source": [
    "new_list[:]"
   ]
  }
 ],
 "metadata": {
  "kernelspec": {
   "display_name": "Python 3 (ipykernel)",
   "language": "python",
   "name": "python3"
  },
  "language_info": {
   "codemirror_mode": {
    "name": "ipython",
    "version": 3
   },
   "file_extension": ".py",
   "mimetype": "text/x-python",
   "name": "python",
   "nbconvert_exporter": "python",
   "pygments_lexer": "ipython3",
   "version": "3.9.13"
  }
 },
 "nbformat": 4,
 "nbformat_minor": 5
}
