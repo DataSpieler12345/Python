{
 "cells": [
  {
   "cell_type": "markdown",
   "id": "52e5aec3",
   "metadata": {},
   "source": [
    "<center><h1><b><font size=\"6\">Build a Function</font></b></h1></center>"
   ]
  },
  {
   "cell_type": "markdown",
   "id": "c3432a20",
   "metadata": {},
   "source": [
    "##### creating a function"
   ]
  },
  {
   "cell_type": "code",
   "execution_count": 6,
   "id": "29e3a8c2",
   "metadata": {},
   "outputs": [],
   "source": [
    "def hello_there(name):\n",
    "    print(\"hello there, \"+ name + \". nice to meet you!\")"
   ]
  },
  {
   "cell_type": "code",
   "execution_count": 7,
   "id": "c1c616be",
   "metadata": {},
   "outputs": [],
   "source": [
    "#test the function"
   ]
  },
  {
   "cell_type": "code",
   "execution_count": 8,
   "id": "7215d8d0",
   "metadata": {},
   "outputs": [
    {
     "name": "stdout",
     "output_type": "stream",
     "text": [
      "hello there, Franz. nice to meet you!\n"
     ]
    }
   ],
   "source": [
    "hello_there(\"Franz\")"
   ]
  },
  {
   "cell_type": "code",
   "execution_count": 10,
   "id": "725da2a6",
   "metadata": {},
   "outputs": [],
   "source": [
    "# creating another function\n",
    "\n",
    "def squared_value(number):\n",
    "    x = number**2\n",
    "    return x"
   ]
  },
  {
   "cell_type": "code",
   "execution_count": 11,
   "id": "3fca364b",
   "metadata": {},
   "outputs": [
    {
     "data": {
      "text/plain": [
       "25"
      ]
     },
     "execution_count": 11,
     "metadata": {},
     "output_type": "execute_result"
    }
   ],
   "source": [
    "# testing the function \n",
    "squared_value(5)"
   ]
  },
  {
   "cell_type": "code",
   "execution_count": 12,
   "id": "c92fbb94",
   "metadata": {},
   "outputs": [
    {
     "data": {
      "text/plain": [
       "25"
      ]
     },
     "execution_count": 12,
     "metadata": {},
     "output_type": "execute_result"
    }
   ],
   "source": [
    "squared_value(-5)"
   ]
  },
  {
   "cell_type": "code",
   "execution_count": 14,
   "id": "268ad553",
   "metadata": {},
   "outputs": [
    {
     "data": {
      "text/plain": [
       "0.0625"
      ]
     },
     "execution_count": 14,
     "metadata": {},
     "output_type": "execute_result"
    }
   ],
   "source": [
    "squared_value(-0.25)"
   ]
  }
 ],
 "metadata": {
  "kernelspec": {
   "display_name": "Python 3 (ipykernel)",
   "language": "python",
   "name": "python3"
  },
  "language_info": {
   "codemirror_mode": {
    "name": "ipython",
    "version": 3
   },
   "file_extension": ".py",
   "mimetype": "text/x-python",
   "name": "python",
   "nbconvert_exporter": "python",
   "pygments_lexer": "ipython3",
   "version": "3.9.13"
  }
 },
 "nbformat": 4,
 "nbformat_minor": 5
}
