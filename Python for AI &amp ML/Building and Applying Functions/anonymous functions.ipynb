{
 "cells": [
  {
   "cell_type": "markdown",
   "id": "497a2e6a",
   "metadata": {},
   "source": [
    "<center><h1><b><font size=\"6\">Anonymous functions</font></b></h1></center>"
   ]
  },
  {
   "cell_type": "code",
   "execution_count": 1,
   "id": "7f284c35",
   "metadata": {},
   "outputs": [],
   "source": [
    "double = lambda x:x*2"
   ]
  },
  {
   "cell_type": "code",
   "execution_count": 2,
   "id": "0a37674b",
   "metadata": {},
   "outputs": [
    {
     "data": {
      "text/plain": [
       "10"
      ]
     },
     "execution_count": 2,
     "metadata": {},
     "output_type": "execute_result"
    }
   ],
   "source": [
    "double(5)"
   ]
  },
  {
   "cell_type": "code",
   "execution_count": 3,
   "id": "715862a9",
   "metadata": {},
   "outputs": [
    {
     "data": {
      "text/plain": [
       "-10"
      ]
     },
     "execution_count": 3,
     "metadata": {},
     "output_type": "execute_result"
    }
   ],
   "source": [
    "double(-5)"
   ]
  },
  {
   "cell_type": "markdown",
   "id": "4657aa5b",
   "metadata": {},
   "source": [
    "### creating a function"
   ]
  },
  {
   "cell_type": "code",
   "execution_count": 4,
   "id": "6e1b10c9",
   "metadata": {},
   "outputs": [],
   "source": [
    "def doubler(number):\n",
    "    return number*2          "
   ]
  },
  {
   "cell_type": "code",
   "execution_count": 6,
   "id": "6287a274",
   "metadata": {},
   "outputs": [
    {
     "data": {
      "text/plain": [
       "10"
      ]
     },
     "execution_count": 6,
     "metadata": {},
     "output_type": "execute_result"
    }
   ],
   "source": [
    "doubler(5)"
   ]
  },
  {
   "cell_type": "code",
   "execution_count": 7,
   "id": "13ab99ab",
   "metadata": {},
   "outputs": [
    {
     "data": {
      "text/plain": [
       "-10"
      ]
     },
     "execution_count": 7,
     "metadata": {},
     "output_type": "execute_result"
    }
   ],
   "source": [
    "doubler(-5)"
   ]
  },
  {
   "cell_type": "markdown",
   "id": "952f04a5",
   "metadata": {},
   "source": [
    "### creating a another function"
   ]
  },
  {
   "cell_type": "code",
   "execution_count": 8,
   "id": "60ac41ca",
   "metadata": {},
   "outputs": [
    {
     "name": "stdout",
     "output_type": "stream",
     "text": [
      "[4, 6]\n"
     ]
    }
   ],
   "source": [
    "my_list = [1,4,5,6,7,19]\n",
    "\n",
    "new_list = list(filter(lambda x:(x%2 == 0), my_list))\n",
    "\n",
    "print(new_list)"
   ]
  },
  {
   "cell_type": "code",
   "execution_count": 9,
   "id": "f4c0025f",
   "metadata": {},
   "outputs": [
    {
     "name": "stdout",
     "output_type": "stream",
     "text": [
      "[1, 4, 5, 6, 7, 19]\n"
     ]
    }
   ],
   "source": [
    "my_list = [1,4,5,6,7,19]\n",
    "\n",
    "new_list = list(filter(lambda x:x**2, my_list))\n",
    "\n",
    "print(new_list)"
   ]
  },
  {
   "cell_type": "code",
   "execution_count": 10,
   "id": "6eeeb41e",
   "metadata": {},
   "outputs": [
    {
     "name": "stdout",
     "output_type": "stream",
     "text": [
      "[1, 16, 25, 36, 49, 361]\n"
     ]
    }
   ],
   "source": [
    "my_list = [1,4,5,6,7,19]\n",
    "\n",
    "new_list = list(map(lambda x:x**2, my_list))\n",
    "\n",
    "print(new_list)"
   ]
  }
 ],
 "metadata": {
  "kernelspec": {
   "display_name": "Python 3 (ipykernel)",
   "language": "python",
   "name": "python3"
  },
  "language_info": {
   "codemirror_mode": {
    "name": "ipython",
    "version": 3
   },
   "file_extension": ".py",
   "mimetype": "text/x-python",
   "name": "python",
   "nbconvert_exporter": "python",
   "pygments_lexer": "ipython3",
   "version": "3.9.13"
  }
 },
 "nbformat": 4,
 "nbformat_minor": 5
}
