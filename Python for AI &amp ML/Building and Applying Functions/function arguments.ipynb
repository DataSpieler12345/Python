{
 "cells": [
  {
   "cell_type": "markdown",
   "id": "9286ab58",
   "metadata": {},
   "source": [
    "<center><h1><b><font size=\"6\">Function arguments\n",
    "    </font></b></h1></center>"
   ]
  },
  {
   "cell_type": "code",
   "execution_count": 3,
   "id": "cded3435",
   "metadata": {},
   "outputs": [],
   "source": [
    "def hello_there(name, greeting=\"Nice to meet you! How are you doing today?\"):\n",
    "    print(\"Hello there, \"+name+\". \"+greeting)"
   ]
  },
  {
   "cell_type": "code",
   "execution_count": 4,
   "id": "dbd105c8",
   "metadata": {},
   "outputs": [
    {
     "name": "stdout",
     "output_type": "stream",
     "text": [
      "Hello there, Franz. Nice to meet you! How are you doing today?\n"
     ]
    }
   ],
   "source": [
    "hello_there(\"Franz\")"
   ]
  },
  {
   "cell_type": "code",
   "execution_count": 6,
   "id": "e9d78503",
   "metadata": {},
   "outputs": [
    {
     "name": "stdout",
     "output_type": "stream",
     "text": [
      "Hello there, Franz. what's up?\n"
     ]
    }
   ],
   "source": [
    "hello_there(\"Franz\",\"what's up?\")"
   ]
  },
  {
   "cell_type": "code",
   "execution_count": 7,
   "id": "0df176ee",
   "metadata": {},
   "outputs": [
    {
     "name": "stdout",
     "output_type": "stream",
     "text": [
      "Hello there, bill. what's up?\n"
     ]
    }
   ],
   "source": [
    "hello_there(greeting= \"what's up?\", name=\"bill\")"
   ]
  },
  {
   "cell_type": "markdown",
   "id": "f4277e7e",
   "metadata": {},
   "source": [
    "### creating a new function "
   ]
  },
  {
   "cell_type": "code",
   "execution_count": 10,
   "id": "69ca9129",
   "metadata": {},
   "outputs": [],
   "source": [
    "def hello_there2(*names):\n",
    "    for x in names:\n",
    "        print(\"Hello there, \",x)"
   ]
  },
  {
   "cell_type": "code",
   "execution_count": 11,
   "id": "d9f97823",
   "metadata": {},
   "outputs": [
    {
     "name": "stdout",
     "output_type": "stream",
     "text": [
      "Hello there,  Franz\n",
      "Hello there,  Benny\n",
      "Hello there,  Charlie\n"
     ]
    }
   ],
   "source": [
    "hello_there2(\"Franz\", \"Benny\", \"Charlie\")"
   ]
  }
 ],
 "metadata": {
  "kernelspec": {
   "display_name": "Python 3 (ipykernel)",
   "language": "python",
   "name": "python3"
  },
  "language_info": {
   "codemirror_mode": {
    "name": "ipython",
    "version": 3
   },
   "file_extension": ".py",
   "mimetype": "text/x-python",
   "name": "python",
   "nbconvert_exporter": "python",
   "pygments_lexer": "ipython3",
   "version": "3.9.13"
  }
 },
 "nbformat": 4,
 "nbformat_minor": 5
}
