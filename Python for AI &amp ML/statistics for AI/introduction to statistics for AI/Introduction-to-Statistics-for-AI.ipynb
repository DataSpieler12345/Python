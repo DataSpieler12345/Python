{
 "cells": [
  {
   "cell_type": "markdown",
   "metadata": {
    "id": "sZ_x4eNsJ3ea"
   },
   "source": [
    "## <font color=\"red\">What is Jupyter Notebook?</font>\n",
    "\n",
    "\n",
    "A Jupyter notebook is a development environment where you’re able to execute code in cells."
   ]
  },
  {
   "cell_type": "code",
   "execution_count": 1,
   "metadata": {
    "colab": {
     "base_uri": "https://localhost:8080/"
    },
    "id": "gwMfLmukPayf",
    "outputId": "d2fdf57a-50d6-476e-c3bc-b035fae37c73"
   },
   "outputs": [
    {
     "data": {
      "text/plain": [
       "1"
      ]
     },
     "execution_count": 1,
     "metadata": {},
     "output_type": "execute_result"
    }
   ],
   "source": [
    "x = 0\n",
    "x += 1\n",
    "x "
   ]
  },
  {
   "cell_type": "markdown",
   "metadata": {
    "id": "8egAo7lPQIKb"
   },
   "source": [
    "### <font color=\"red\">Functions</font>\n",
    "\n",
    "You can also write functions as you normally would, in python."
   ]
  },
  {
   "cell_type": "code",
   "execution_count": 2,
   "metadata": {
    "colab": {
     "base_uri": "https://localhost:8080/"
    },
    "id": "-EFNyw2OQHca",
    "outputId": "92362376-7cf8-4244-c2bf-e4d19cf8ab81"
   },
   "outputs": [
    {
     "data": {
      "text/plain": [
       "25"
      ]
     },
     "execution_count": 2,
     "metadata": {},
     "output_type": "execute_result"
    }
   ],
   "source": [
    "def square_number(x):\n",
    "  return x*x\n",
    "\n",
    "square_number(5)\n"
   ]
  },
  {
   "cell_type": "markdown",
   "metadata": {
    "id": "z8qJ_ok-QHy4"
   },
   "source": [
    "Once the function is defined, you can call in on the same cell, or on other cells."
   ]
  },
  {
   "cell_type": "code",
   "execution_count": 3,
   "metadata": {
    "colab": {
     "base_uri": "https://localhost:8080/"
    },
    "id": "atQiFJuXQh0o",
    "outputId": "a930d8b4-75e3-482b-fbbf-2b9e49f3e608"
   },
   "outputs": [
    {
     "data": {
      "text/plain": [
       "64"
      ]
     },
     "execution_count": 3,
     "metadata": {},
     "output_type": "execute_result"
    }
   ],
   "source": [
    "square_number(8)\n"
   ]
  },
  {
   "cell_type": "markdown",
   "metadata": {
    "id": "bjRTMHyhWYbs"
   },
   "source": [
    "There are multiple ways to execute code,\n",
    "You could call the function by itself, as seen above;\n",
    "Or you could also assign the results to a variable, and simply type the variable name:"
   ]
  },
  {
   "cell_type": "code",
   "execution_count": 4,
   "metadata": {
    "colab": {
     "base_uri": "https://localhost:8080/"
    },
    "id": "eIeXGNU6WX5I",
    "outputId": "da5a6cd4-4033-4d6a-dd68-9cef3105cdcd"
   },
   "outputs": [
    {
     "data": {
      "text/plain": [
       "49"
      ]
     },
     "execution_count": 4,
     "metadata": {},
     "output_type": "execute_result"
    }
   ],
   "source": [
    "seven_squared = square_number(7)\n",
    "seven_squared"
   ]
  },
  {
   "cell_type": "markdown",
   "metadata": {
    "id": "ZhOJNxkiWwOh"
   },
   "source": [
    "And you could also use the variable in other ways, such as printing it like you would in a python file:"
   ]
  },
  {
   "cell_type": "code",
   "execution_count": 7,
   "metadata": {
    "colab": {
     "base_uri": "https://localhost:8080/"
    },
    "id": "Oe29JfmHWr87",
    "outputId": "977b3bf5-9091-40d6-d2b8-9732b66a2778"
   },
   "outputs": [
    {
     "name": "stdout",
     "output_type": "stream",
     "text": [
      "49\n"
     ]
    }
   ],
   "source": [
    "print(seven_squared)"
   ]
  },
  {
   "cell_type": "markdown",
   "metadata": {
    "id": "4mAn88G4QrsR"
   },
   "source": [
    "It's good to note that if you press ctrl + enter while a cell is selected, it will be executed in place.\n",
    "\n",
    "And if you press shift + enter, the cell will be executed, and you will select the next cell. If there are no cells left, a new one will be created.\n",
    "\n",
    "This is very helpful as you'll be executing multiple cells in a row a lot of the time. "
   ]
  },
  {
   "cell_type": "markdown",
   "metadata": {
    "id": "tNGYpj_HaWS8"
   },
   "source": [
    "### <font color=\"red\">Python libraries</font>\n",
    "\n",
    "\n",
    "We're also able to import python libraries just like so:"
   ]
  },
  {
   "cell_type": "code",
   "execution_count": 8,
   "metadata": {
    "colab": {
     "base_uri": "https://localhost:8080/"
    },
    "id": "RwdIBXmdaNIC",
    "nbpages": {
     "level": 3,
     "link": "[1.1.4.2 Python Libraries](https://jckantor.github.io/CBE30338/01.01-Getting-Started-with-Python-and-Jupyter-Notebooks.html#1.1.4.2-Python-Libraries)",
     "section": "1.1.4.2 Python Libraries"
    },
    "outputId": "9d039cf0-cdee-4249-a99e-aba5a2321dc0"
   },
   "outputs": [
    {
     "name": "stdout",
     "output_type": "stream",
     "text": [
      "3.141592653589793\n",
      "2.718281828459045\n",
      "0.7071067811865475\n",
      "0.7071067811865476\n",
      "0.9999999999999999\n"
     ]
    }
   ],
   "source": [
    "import numpy as np\n",
    "\n",
    "# mathematical constants\n",
    "print(np.pi)\n",
    "print(np.e)\n",
    "\n",
    "# trignometric functions\n",
    "angle = np.pi/4\n",
    "print(np.sin(angle))\n",
    "print(np.cos(angle))\n",
    "print(np.tan(angle))"
   ]
  },
  {
   "cell_type": "markdown",
   "metadata": {
    "id": "HwwWIDmHad84"
   },
   "source": [
    "### <font color=\"red\">Instalation</font>\n",
    "\n",
    "\n",
    "Colab notebooks usually come pre-installed with most data science libraries, but if you ever need to install another one, or select the exact version of a library, you can do so by using the ! command:"
   ]
  },
  {
   "cell_type": "code",
   "execution_count": 9,
   "metadata": {
    "colab": {
     "base_uri": "https://localhost:8080/"
    },
    "id": "Xz3YFMC0avc_",
    "outputId": "c50f8a4d-fc0e-4ca3-b66c-fc995c4882fb"
   },
   "outputs": [
    {
     "name": "stdout",
     "output_type": "stream",
     "text": [
      "Requirement already satisfied: numpy==1.19.5 in /usr/local/lib/python3.7/dist-packages (1.19.5)\n"
     ]
    }
   ],
   "source": [
    "!pip install numpy==1.19.5"
   ]
  },
  {
   "cell_type": "markdown",
   "metadata": {
    "id": "EAKROxkuJ3es"
   },
   "source": [
    "##  <font color=\"RED\">Magic Functions</font>\n",
    "\n",
    "Similarly to the ! used on the previous cell, magic functions execute Ipython commands in the cells."
   ]
  },
  {
   "cell_type": "code",
   "execution_count": 10,
   "metadata": {
    "colab": {
     "base_uri": "https://localhost:8080/"
    },
    "id": "SEUWASwiJ3es",
    "outputId": "fd29e6a6-d823-475d-bf4c-bc88ff9fe227"
   },
   "outputs": [
    {
     "name": "stdout",
     "output_type": "stream",
     "text": [
      "The slowest run took 9.60 times longer than the fastest. This could mean that an intermediate result is being cached.\n",
      "1000000 loops, best of 5: 186 ns per loop\n"
     ]
    }
   ],
   "source": [
    "%timeit range(5)"
   ]
  },
  {
   "cell_type": "markdown",
   "metadata": {
    "id": "p3dOJtX-J3es"
   },
   "source": [
    "Line magics can even be used inside code blocks:"
   ]
  },
  {
   "cell_type": "code",
   "execution_count": 11,
   "metadata": {
    "colab": {
     "base_uri": "https://localhost:8080/"
    },
    "id": "1umH9bG5J3et",
    "outputId": "ac930ae6-57ac-41b9-ec7a-7dec80b31c56"
   },
   "outputs": [
    {
     "name": "stdout",
     "output_type": "stream",
     "text": [
      "size: 0\n",
      "The slowest run took 9.75 times longer than the fastest. This could mean that an intermediate result is being cached.\n",
      "10000000 loops, best of 5: 161 ns per loop\n",
      "size: 5\n",
      "The slowest run took 5.96 times longer than the fastest. This could mean that an intermediate result is being cached.\n",
      "1000000 loops, best of 5: 199 ns per loop\n",
      "size: 10\n",
      "The slowest run took 5.43 times longer than the fastest. This could mean that an intermediate result is being cached.\n",
      "1000000 loops, best of 5: 196 ns per loop\n"
     ]
    }
   ],
   "source": [
    "for i in range(3):\n",
    "    size = i*5\n",
    "    print('size:', size) \n",
    "    %timeit range(size)"
   ]
  },
  {
   "cell_type": "markdown",
   "metadata": {
    "id": "a7qlgaXFJ3et"
   },
   "source": [
    "Magics can do anything they want with their input, so it doesn't have to be valid Python:"
   ]
  },
  {
   "cell_type": "code",
   "execution_count": 12,
   "metadata": {
    "colab": {
     "base_uri": "https://localhost:8080/"
    },
    "id": "9hsevR2ZJ3et",
    "outputId": "cfd1b3be-0c51-4481-b3f3-2a2d1b4c684d"
   },
   "outputs": [
    {
     "name": "stdout",
     "output_type": "stream",
     "text": [
      "My shell is: /bin/bash\n"
     ]
    }
   ],
   "source": [
    "%%bash\n",
    "echo \"My shell is:\" $SHELL"
   ]
  },
  {
   "cell_type": "markdown",
   "metadata": {
    "id": "X987_j4zJ3et"
   },
   "source": [
    "Here's Another interesting cell magic:\n",
    "Create any file you want locally from the notebook:"
   ]
  },
  {
   "cell_type": "code",
   "execution_count": 13,
   "metadata": {
    "colab": {
     "base_uri": "https://localhost:8080/"
    },
    "id": "4CznLiPwJ3et",
    "outputId": "a337b6b8-1839-4ba9-a06a-79057e22edeb"
   },
   "outputs": [
    {
     "name": "stdout",
     "output_type": "stream",
     "text": [
      "Writing test.txt\n"
     ]
    }
   ],
   "source": [
    "%%writefile test.txt\n",
    "This is a test file!\n",
    "It can contain anything I want..."
   ]
  },
  {
   "cell_type": "code",
   "execution_count": 14,
   "metadata": {
    "colab": {
     "base_uri": "https://localhost:8080/"
    },
    "id": "zR0dqt0AJ3et",
    "outputId": "ddfbd49f-6df0-4414-c232-1d71d5a1f7cc"
   },
   "outputs": [
    {
     "name": "stdout",
     "output_type": "stream",
     "text": [
      "This is a test file!\n",
      "It can contain anything I want..."
     ]
    }
   ],
   "source": [
    "!cat test.txt"
   ]
  },
  {
   "cell_type": "markdown",
   "metadata": {
    "id": "SmY-XbI1YVeN"
   },
   "source": [
    "On the tab to the left, if you select files, you can now find your file there. \n",
    "It can be saved to your drive, renamed, deleted, or downloaded."
   ]
  },
  {
   "cell_type": "markdown",
   "metadata": {
    "id": "jtQblfmIa55Z"
   },
   "source": [
    "### <font color=\"red\">Visualizations</font>\n",
    "\n",
    "\n",
    "Matplotlib is a great library for visualizing data, we can use it on notebooks with the magic function %matplotlib. "
   ]
  },
  {
   "cell_type": "code",
   "execution_count": 15,
   "metadata": {
    "colab": {
     "base_uri": "https://localhost:8080/",
     "height": 295
    },
    "id": "H65olEKqaNIK",
    "nbpages": {
     "level": 3,
     "link": "[1.1.4.5 Plotting with Matplotlib](https://jckantor.github.io/CBE30338/01.01-Getting-Started-with-Python-and-Jupyter-Notebooks.html#1.1.4.5-Plotting-with-Matplotlib)",
     "section": "1.1.4.5 Plotting with Matplotlib"
    },
    "outputId": "11bf243c-f065-4787-eb6d-ab96ab680b5f"
   },
   "outputs": [
    {
     "data": {
      "image/png": "[encoded data removed]",
      "text/plain": [
       "<Figure size 432x288 with 1 Axes>"
      ]
     },
     "metadata": {
      "needs_background": "light"
     },
     "output_type": "display_data"
    }
   ],
   "source": [
    "%matplotlib inline\n",
    "\n",
    "import matplotlib.pyplot as plt\n",
    "\n",
    "# create sample data\n",
    "x = np.linspace(0,10)\n",
    "y = np.sin(x)\n",
    "z = np.cos(x)\n",
    "\n",
    "plt.plot(x,y,'b',x,z,'r')\n",
    "plt.xlabel('Radians');\n",
    "plt.ylabel('Value');\n",
    "plt.title('Plotting Demonstration')\n",
    "plt.legend(['Sin','Cos'])\n",
    "plt.grid()"
   ]
  },
  {
   "cell_type": "markdown",
   "metadata": {
    "id": "R2QxBQUYbJzu"
   },
   "source": [
    "Note that we don't need to import the numpy library again on this cell, once imported for the session, you can use it anywhere."
   ]
  },
  {
   "cell_type": "code",
   "execution_count": 16,
   "metadata": {
    "colab": {
     "base_uri": "https://localhost:8080/",
     "height": 298
    },
    "id": "zOKd4L4WibGA",
    "outputId": "f91082a0-0559-45cc-b7d0-de2b949fd149"
   },
   "outputs": [
    {
     "data": {
      "text/plain": [
       "Text(0.5, 1.0, 'Cos(x)')"
      ]
     },
     "execution_count": 16,
     "metadata": {},
     "output_type": "execute_result"
    },
    {
     "data": {
      "image/png": "[encoded data removed]",
      "text/plain": [
       "<Figure size 432x288 with 2 Axes>"
      ]
     },
     "metadata": {
      "needs_background": "light"
     },
     "output_type": "display_data"
    }
   ],
   "source": [
    "plt.subplot(2,1,1)\n",
    "plt.plot(x,y)\n",
    "plt.title('Sin(x)')\n",
    "\n",
    "plt.subplot(2,1,2)\n",
    "plt.plot(x,z)\n",
    "plt.title('Cos(x)')"
   ]
  },
  {
   "cell_type": "code",
   "execution_count": 17,
   "metadata": {
    "colab": {
     "base_uri": "https://localhost:8080/",
     "height": 334
    },
    "id": "BUUTAHTIie5u",
    "outputId": "b0e1587b-5dc1-4d25-af3b-889026311c49"
   },
   "outputs": [
    {
     "data": {
      "text/plain": [
       "(-1.09972447591003,\n",
       " 1.0979832896606587,\n",
       " -1.0992804688576738,\n",
       " 1.0999657366122702)"
      ]
     },
     "execution_count": 17,
     "metadata": {},
     "output_type": "execute_result"
    },
    {
     "data": {
      "image/png": "[encoded data removed]",
      "text/plain": [
       "<Figure size 432x288 with 1 Axes>"
      ]
     },
     "metadata": {
      "needs_background": "light"
     },
     "output_type": "display_data"
    }
   ],
   "source": [
    "plt.plot(y,z)\n",
    "plt.axis('equal')"
   ]
  },
  {
   "cell_type": "code",
   "execution_count": 18,
   "metadata": {
    "colab": {
     "base_uri": "https://localhost:8080/",
     "height": 281
    },
    "id": "DPtLOu4-iXbp",
    "outputId": "c40b9f94-7d18-46e6-d376-89e616747235"
   },
   "outputs": [
    {
     "data": {
      "image/png": "[encoded data removed]",
      "text/plain": [
       "<Figure size 432x288 with 1 Axes>"
      ]
     },
     "metadata": {
      "needs_background": "light"
     },
     "output_type": "display_data"
    }
   ],
   "source": [
    "ys = 200 + np.random.randn(100)\n",
    "x = [x for x in range(len(ys))]\n",
    "\n",
    "plt.plot(x, ys, '-')\n",
    "plt.fill_between(x, ys, 195, where=(ys > 195), facecolor='g', alpha=0.6)\n",
    "\n",
    "plt.title(\"Sample Visualization\")\n",
    "plt.show()"
   ]
  },
  {
   "cell_type": "code",
   "execution_count": 19,
   "metadata": {
    "colab": {
     "base_uri": "https://localhost:8080/",
     "height": 545
    },
    "id": "QpG89O1sYLSw",
    "outputId": "b6ae146e-2600-4458-ba2d-cf8484238684"
   },
   "outputs": [
    {
     "data": {
      "image/png": "[encoded data removed]",
      "text/plain": [
       "<Figure size 432x288 with 1 Axes>"
      ]
     },
     "metadata": {
      "needs_background": "light"
     },
     "output_type": "display_data"
    },
    {
     "data": {
      "image/png": "[encoded data removed]",
      "text/plain": [
       "<Figure size 432x288 with 1 Axes>"
      ]
     },
     "metadata": {
      "needs_background": "light"
     },
     "output_type": "display_data"
    }
   ],
   "source": [
    "# Use numpy to generate a bunch of random data in a bell curve around 5.\n",
    "n = 5 + np.random.randn(1000)\n",
    "\n",
    "m = [m for m in range(len(n))]\n",
    "plt.bar(m, n)\n",
    "plt.title(\"Raw Data\")\n",
    "plt.show()\n",
    "\n",
    "plt.hist(n, bins=20)\n",
    "plt.title(\"Histogram\")\n",
    "plt.show()"
   ]
  },
  {
   "cell_type": "markdown",
   "metadata": {
    "id": "Sn2Y8mlVPZhs"
   },
   "source": [
    "Now that we are familiar with the tools we'll be using in this course, let's talk a bit about terminology and statistics in general."
   ]
  },
  {
   "cell_type": "markdown",
   "metadata": {
    "id": "6cx3O7UkQuh8"
   },
   "source": [
    "## <font color=\"RED\"> What is the study of Statistics? </font>\n",
    "It is the collection, description, analysis, and inference of conclusions from data.\n",
    "\n"
   ]
  },
  {
   "cell_type": "markdown",
   "metadata": {
    "id": "SwmrZ3lUQLUa"
   },
   "source": [
    "## <font color=\"red\">What are descriptive statistics?</font>\n",
    "\n",
    "They are brief coefficients that summarize a given data set, which can be either a representation of the entire population or a sample of a population. \n"
   ]
  },
  {
   "cell_type": "markdown",
   "metadata": {},
   "source": [
    "## <font color=\"red\">What are the measures of central tendency?</font>\n",
    "\n",
    "They are also referred to as measures of centre or central location, and are summaries that attempt to describe a whole set of data with a single value that represents the middle or centre of its distribution.\n",
    "\n",
    "There are three main measures of central tendency: the mode, the median and the mean. Each of these measures describes a different indication of the typical or central value in the distribution."
   ]
  },
  {
   "cell_type": "markdown",
   "metadata": {
    "id": "vJq8KuwjSD6D"
   },
   "source": [
    "## <font color=\"red\">What is the mode?</font>\n",
    "\n",
    "The mode is the most commonly occurring value in a distribution.\n",
    "\n",
    "Consider this dataset showing the retirement age of 11 people, in whole years:\n",
    "\n",
    "54, 54, 54, 55, 56, 57, 57, 58, 58, 60, 60\n",
    "\n",
    "This table shows a simple frequency distribution of the retirement age data.\n",
    "\n",
    "Age\n",
    "Frequency\n",
    "54\n",
    "3\n",
    "55\n",
    "1\n",
    "56\n",
    "1\n",
    "57\n",
    "2\n",
    "58\n",
    "2\n",
    "60\n",
    "2\n"
   ]
  },
  {
   "cell_type": "code",
   "execution_count": 20,
   "metadata": {
    "colab": {
     "base_uri": "https://localhost:8080/",
     "height": 282
    },
    "id": "8ZtxDXF_SfJa",
    "outputId": "5bfc5d62-c7dd-4db1-f4f7-bd16ce079359"
   },
   "outputs": [
    {
     "data": {
      "text/plain": [
       "Text(0, 0.5, 'Count')"
      ]
     },
     "execution_count": 20,
     "metadata": {},
     "output_type": "execute_result"
    },
    {
     "data": {
      "image/png": "[encoded data removed]",
      "text/plain": [
       "<Figure size 432x288 with 1 Axes>"
      ]
     },
     "metadata": {
      "needs_background": "light"
     },
     "output_type": "display_data"
    }
   ],
   "source": [
    "import seaborn as sns # Seaborn is another data visualisation tool, just as matplotlib\n",
    "\n",
    "ax = sns.barplot(x=[54, 55, 56, 57, 58, 60], y=[3, 1, 1, 2, 2, 2])\n",
    "ax.set_ylabel('Count')"
   ]
  },
  {
   "cell_type": "markdown",
   "metadata": {
    "id": "KEbhf6YUvtze"
   },
   "source": [
    "The mode in this case, would be 54, which is the most common value, but as you can see, it does not necessarily represent the middle value of the dataset."
   ]
  },
  {
   "cell_type": "markdown",
   "metadata": {
    "id": "s9ih9CztUMV-"
   },
   "source": [
    "## <font color=\"red\">What is the mean?</font>\n",
    "\n",
    "The mean is the sum of the value of each observation in a dataset divided by the number of observations. This is also known as the arithmetic average.\n",
    "\n",
    "Looking at the retirement age distribution again:\n",
    "\n",
    "54, 54, 54, 55, 56, 57, 57, 58, 58, 60, 60,\n",
    "\n",
    "The mean is calculated by adding together all the values (54+54+54+55+56+57+57+58+58+60+60 = 623) and dividing by the number of observations (11) which equals 56.6 years.\n",
    "\n",
    "\n",
    "The population mean is indicated by the Greek symbol µ (pronounced ‘mu’). \n",
    "\n",
    "When the mean is calculated on a distribution from a sample it is indicated by the symbol x̅ (pronounced X-bar)."
   ]
  },
  {
   "cell_type": "markdown",
   "metadata": {
    "id": "Rd-9OEtvT86d"
   },
   "source": [
    "## <font color=\"red\">What is the median?</font>\n",
    "\n",
    "The median is the middle value in distribution when the values are arranged in ascending or descending order.\n",
    "\n",
    "The median divides the distribution in half (there are 50% of observations on either side of the median value). In a distribution with an odd number of observations, the median value is the middle value.\n",
    "\n",
    "Looking at the retirement age distribution (which has 11 observations), the median is the middle value, which is 57 years:\n",
    "\n",
    "54, 54, 54, 55, 56, 57, 57, 58, 58, 60, 60\n",
    "\n",
    "When the distribution has an even number of observations, the median value is the mean of the two middle values. In the following distribution, the two middle values are 56 and 57, therefore the median equals 56.5 years:\n",
    "\n",
    "52, 54, 54, 54, 55, 56, 57, 57, 58, 58, 60, 60"
   ]
  },
  {
   "cell_type": "markdown",
   "metadata": {
    "id": "nun_z9OBD8In"
   },
   "source": [
    "## <font color=\"RED\"> Measures of spread/variability </font>\n",
    "\n",
    "Descriptive statistics also focuses on how disperse the distribution is for a set of data."
   ]
  },
  {
   "cell_type": "code",
   "execution_count": 21,
   "metadata": {
    "colab": {
     "base_uri": "https://localhost:8080/",
     "height": 312
    },
    "id": "aeg7FD41UkQc",
    "outputId": "4f520075-eb7c-4975-dd9a-c159b7c32cb9"
   },
   "outputs": [
    {
     "name": "stderr",
     "output_type": "stream",
     "text": [
      "No handles with labels found to put in legend.\n"
     ]
    },
    {
     "data": {
      "image/png": "[encoded data removed]",
      "text/plain": [
       "<Figure size 432x288 with 1 Axes>"
      ]
     },
     "metadata": {
      "needs_background": "light"
     },
     "output_type": "display_data"
    }
   ],
   "source": [
    "x = [10, 20, 50, 70, 500]\n",
    "\n",
    "plt.bar(range(5), x)\n",
    "plt.title(\"Histogram\")\n",
    "plt.plot()\n",
    "\n",
    "plt.xlabel(\"Dollars\")\n",
    "plt.title(\"Dollars earned.\")\n",
    "plt.legend()\n",
    "plt.show()"
   ]
  },
  {
   "cell_type": "markdown",
   "metadata": {
    "id": "y-s_kQMKZiG4"
   },
   "source": [
    "## <font color=\"RED\"> Kurtosis and skewness </font>\n"
   ]
  },
  {
   "cell_type": "code",
   "execution_count": 22,
   "metadata": {
    "colab": {
     "base_uri": "https://localhost:8080/",
     "height": 320
    },
    "id": "KBQOILsSaIR5",
    "outputId": "06a13715-b1a6-40f9-aa7f-f892706ab525"
   },
   "outputs": [
    {
     "name": "stderr",
     "output_type": "stream",
     "text": [
      "/usr/local/lib/python3.7/dist-packages/seaborn/distributions.py:2619: FutureWarning: `distplot` is a deprecated function and will be removed in a future version. Please adapt your code to use either `displot` (a figure-level function with similar flexibility) or `histplot` (an axes-level function for histograms).\n",
      "  warnings.warn(msg, FutureWarning)\n"
     ]
    },
    {
     "data": {
      "image/png": "[encoded data removed]",
      "text/plain": [
       "<Figure size 432x288 with 1 Axes>"
      ]
     },
     "metadata": {
      "needs_background": "light"
     },
     "output_type": "display_data"
    }
   ],
   "source": [
    "np.random.seed(0)\n",
    "x = np.random.randn(100)\n",
    "ax = sns.distplot(x)"
   ]
  },
  {
   "cell_type": "markdown",
   "metadata": {
    "id": "DdSwEyLzEzQi"
   },
   "source": [
    "## <font color=\"RED\"> Range </font>\n",
    "\n",
    "The range is a basic statistic that tells you the range of values. For example, if your minimum value is 10 and the maximum value is 500 then the range is 490 (500 – 10).\n"
   ]
  },
  {
   "cell_type": "markdown",
   "metadata": {
    "id": "89llCOGSUtFM"
   },
   "source": [
    "## <font color=\"RED\"> Variance </font>\n",
    "\n",
    "The variance is a very simple statistic that gives you an extremely rough idea of how spread out a data set is. \n"
   ]
  },
  {
   "cell_type": "markdown",
   "metadata": {
    "id": "0OuXehxnF801"
   },
   "source": [
    "## <font color=\"RED\"> Standard deviation </font>\n",
    "\n",
    "Simply put, the standard deviation is a measure of how spread out data is around center of the distribution (the mean). \n"
   ]
  },
  {
   "cell_type": "markdown",
   "metadata": {
    "id": "T01vZk9cZdiu"
   },
   "source": [
    "## <font color=\"RED\"> Quartiles </font>\n",
    "\n",
    "Quartiles divide the data into four parts, using the median as the center of the division.\n"
   ]
  },
  {
   "cell_type": "code",
   "execution_count": 23,
   "metadata": {
    "colab": {
     "base_uri": "https://localhost:8080/",
     "height": 285
    },
    "id": "Dd9rDfJYVF3Y",
    "outputId": "5cad9d5b-9b96-48ba-cfe2-db5ed894de40"
   },
   "outputs": [
    {
     "data": {
      "image/png": "[encoded data removed]",
      "text/plain": [
       "<Figure size 432x288 with 1 Axes>"
      ]
     },
     "metadata": {},
     "output_type": "display_data"
    }
   ],
   "source": [
    "sns.set_theme(style=\"whitegrid\")\n",
    "tips = sns.load_dataset(\"tips\")\n",
    "ax = sns.boxplot(x=tips[\"total_bill\"])"
   ]
  },
  {
   "cell_type": "markdown",
   "metadata": {
    "id": "Xmd0-8A3h62a"
   },
   "source": [
    "## <font color=\"RED\"> Statistical tests </font>\n",
    "\n",
    "A statistical test provides a mechanism for making quantitative decisions about a process or processes.\n",
    "\n",
    "The intent is to determine whether there is enough evidence to \"reject\" a conjecture or hypothesis about the process.\n",
    "\n",
    "The conjecture is called the null hypothesis."
   ]
  },
  {
   "cell_type": "markdown",
   "metadata": {
    "id": "1WlpG-OriYJC"
   },
   "source": [
    "## <font color=\"RED\"> The concept of a null hypothesis </font>\n",
    "\n",
    "The null hypothesis is a typical statistical theory which suggests that there is no statistical relationship and significance between certain characteristics of a population (or data-generating process)."
   ]
  },
  {
   "cell_type": "markdown",
   "metadata": {
    "id": "2YZwFTA-lKgy"
   },
   "source": [
    "<font color=\"RED\">A Z-test</font> \n",
    " is a statistical test to determine whether two population means are different when the variances are known and the sample size is large."
   ]
  },
  {
   "cell_type": "markdown",
   "metadata": {
    "id": "GaBR80vokdcP"
   },
   "source": [
    "<font color=\"RED\"> A t-test </font> is a type of inferential statistic used to determine if there is a significant difference between the means of two groups, which may be related in certain features."
   ]
  },
  {
   "cell_type": "markdown",
   "metadata": {
    "id": "ROGg_Os1kdfo"
   },
   "source": [
    "<font color=\"RED\">Chi-squared tests</font> There are two types of chi-square tests. Both use the chi-square statistic and distribution for different purposes:"
   ]
  },
  {
   "cell_type": "code",
   "execution_count": null,
   "metadata": {},
   "outputs": [],
   "source": []
  }
 ],
 "metadata": {
  "colab": {
   "collapsed_sections": [],
   "name": "Statistics for A.I. 1.ipynb",
   "provenance": []
  },
  "kernelspec": {
   "display_name": "Python 3 (ipykernel)",
   "language": "python",
   "name": "python3"
  },
  "language_info": {
   "codemirror_mode": {
    "name": "ipython",
    "version": 3
   },
   "file_extension": ".py",
   "mimetype": "text/x-python",
   "name": "python",
   "nbconvert_exporter": "python",
   "pygments_lexer": "ipython3",
   "version": "3.10.7"
  }
 },
 "nbformat": 4,
 "nbformat_minor": 4
}
