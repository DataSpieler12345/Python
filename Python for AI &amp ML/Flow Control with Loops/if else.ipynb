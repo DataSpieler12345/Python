{
 "cells": [
  {
   "cell_type": "markdown",
   "id": "b31cc4b7",
   "metadata": {},
   "source": [
    "<center><h1><b><font size=\"6\">If / Else</font></b></h1></center>"
   ]
  },
  {
   "cell_type": "code",
   "execution_count": 1,
   "id": "60d92a11",
   "metadata": {},
   "outputs": [
    {
     "name": "stdout",
     "output_type": "stream",
     "text": [
      "Positive Number\n"
     ]
    }
   ],
   "source": [
    "# printing characteristics of a number\n",
    "# determining if a number if positive or negative \n",
    "\n",
    "number = 7\n",
    "\n",
    "if number  >= 0:\n",
    "    print(\"Positive Number\")\n",
    "else:\n",
    "    print(\"Negative Number\")"
   ]
  },
  {
   "cell_type": "code",
   "execution_count": 2,
   "id": "2520b718",
   "metadata": {},
   "outputs": [
    {
     "name": "stdout",
     "output_type": "stream",
     "text": [
      "What's your number ?2.258\n",
      "Positive Number\n"
     ]
    }
   ],
   "source": [
    "# printing characteristics of a number\n",
    "# determining if a number if positive or negative \n",
    "\n",
    "n = float(input(\"What's your number ?\"))\n",
    "\n",
    "if n  >= 0:\n",
    "    print(\"Positive Number\")\n",
    "else:\n",
    "    print(\"Negative Number\")"
   ]
  },
  {
   "cell_type": "code",
   "execution_count": 3,
   "id": "6227f1c3",
   "metadata": {},
   "outputs": [
    {
     "name": "stdout",
     "output_type": "stream",
     "text": [
      "What's your number ?16\n",
      "256.0\n"
     ]
    }
   ],
   "source": [
    "# printing characteristics of a number\n",
    "# determining if a number if positive or negative \n",
    "\n",
    "x = float(input(\"What's your number ?\"))\n",
    "\n",
    "if x  >= 0:\n",
    "    squared = x**2\n",
    "    print(squared)\n",
    "else:\n",
    "    print(\"Negative Number\")"
   ]
  },
  {
   "cell_type": "code",
   "execution_count": null,
   "id": "03afb2b5",
   "metadata": {},
   "outputs": [],
   "source": []
  }
 ],
 "metadata": {
  "kernelspec": {
   "display_name": "Python 3 (ipykernel)",
   "language": "python",
   "name": "python3"
  },
  "language_info": {
   "codemirror_mode": {
    "name": "ipython",
    "version": 3
   },
   "file_extension": ".py",
   "mimetype": "text/x-python",
   "name": "python",
   "nbconvert_exporter": "python",
   "pygments_lexer": "ipython3",
   "version": "3.9.13"
  }
 },
 "nbformat": 4,
 "nbformat_minor": 5
}
