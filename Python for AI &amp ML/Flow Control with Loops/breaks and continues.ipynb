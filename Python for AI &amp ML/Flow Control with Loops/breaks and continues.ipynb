{
 "cells": [
  {
   "cell_type": "markdown",
   "id": "6191428c",
   "metadata": {},
   "source": [
    "<center><h1><b><font size=\"6\">Breaks & Continues</font></b></h1></center>"
   ]
  },
  {
   "cell_type": "code",
   "execution_count": 2,
   "id": "c5ce0ebe",
   "metadata": {},
   "outputs": [
    {
     "name": "stdout",
     "output_type": "stream",
     "text": [
      "t\n",
      "this ends our programm\n"
     ]
    }
   ],
   "source": [
    "for x in \"this string here\":\n",
    "    if x == \"h\":\n",
    "    \tbreak\n",
    "    print(x)\n",
    "    \n",
    "print(\"this ends our programm\")"
   ]
  },
  {
   "cell_type": "code",
   "execution_count": 3,
   "id": "f2c7fb66",
   "metadata": {},
   "outputs": [
    {
     "name": "stdout",
     "output_type": "stream",
     "text": [
      "t\n",
      "i\n",
      "s\n",
      " \n",
      "s\n",
      "t\n",
      "r\n",
      "i\n",
      "n\n",
      "g\n",
      " \n",
      "e\n",
      "r\n",
      "e\n",
      "this ends our programm\n"
     ]
    }
   ],
   "source": [
    "for x in \"this string here\":\n",
    "    if x == \"h\":\n",
    "    \tcontinue\n",
    "    print(x)\n",
    "    \n",
    "print(\"this ends our programm\")"
   ]
  }
 ],
 "metadata": {
  "kernelspec": {
   "display_name": "Python 3 (ipykernel)",
   "language": "python",
   "name": "python3"
  },
  "language_info": {
   "codemirror_mode": {
    "name": "ipython",
    "version": 3
   },
   "file_extension": ".py",
   "mimetype": "text/x-python",
   "name": "python",
   "nbconvert_exporter": "python",
   "pygments_lexer": "ipython3",
   "version": "3.9.13"
  }
 },
 "nbformat": 4,
 "nbformat_minor": 5
}
