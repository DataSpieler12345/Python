{
 "cells": [
  {
   "cell_type": "code",
   "execution_count": 1,
   "id": "99610855",
   "metadata": {},
   "outputs": [
    {
     "name": "stdout",
     "output_type": "stream",
     "text": [
      "Our summation is... 15\n"
     ]
    }
   ],
   "source": [
    "# list of some numbers \n",
    "list1 = [1,2,3,4,5]\n",
    "\n",
    "summed_list = 0\n",
    "\n",
    "for x in list1:\n",
    "    summed_list = summed_list+x\n",
    "    \n",
    "print(\"Our summation is...\",summed_list)"
   ]
  },
  {
   "cell_type": "code",
   "execution_count": 3,
   "id": "0c876af3",
   "metadata": {},
   "outputs": [
    {
     "name": "stdout",
     "output_type": "stream",
     "text": [
      "Profits after taxes are: 1203.75\n"
     ]
    }
   ],
   "source": [
    "# list of some numbers \n",
    "list2 = [100,200,300,400,5]\n",
    "\n",
    "summed_list = 450\n",
    "\n",
    "for x in list2:\n",
    "    summed_list = summed_list + 0.75*x\n",
    "    \n",
    "print(\"Profits after taxes are:\", summed_list)"
   ]
  },
  {
   "cell_type": "code",
   "execution_count": null,
   "id": "0d1be5ea",
   "metadata": {},
   "outputs": [],
   "source": []
  }
 ],
 "metadata": {
  "kernelspec": {
   "display_name": "Python 3 (ipykernel)",
   "language": "python",
   "name": "python3"
  },
  "language_info": {
   "codemirror_mode": {
    "name": "ipython",
    "version": 3
   },
   "file_extension": ".py",
   "mimetype": "text/x-python",
   "name": "python",
   "nbconvert_exporter": "python",
   "pygments_lexer": "ipython3",
   "version": "3.9.13"
  }
 },
 "nbformat": 4,
 "nbformat_minor": 5
}
