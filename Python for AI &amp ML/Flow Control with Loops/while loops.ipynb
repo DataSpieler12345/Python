{
 "cells": [
  {
   "cell_type": "markdown",
   "id": "c2686033",
   "metadata": {},
   "source": [
    "<center><h1><b><font size=\"6\">While Loops</font></b></h1></center>"
   ]
  },
  {
   "cell_type": "code",
   "execution_count": 7,
   "id": "ec7e1afa",
   "metadata": {},
   "outputs": [
    {
     "name": "stdout",
     "output_type": "stream",
     "text": [
      "Enter your N value here: 54\n",
      "Our summation is equal to 1485\n"
     ]
    }
   ],
   "source": [
    "# sum the number 1 through N\n",
    "\n",
    "N = int(input(\"Enter your N value here: \"))\n",
    "\n",
    "summation = 0\n",
    "j = 1\n",
    "\n",
    "while j <= N: \n",
    "    summation = summation + j\n",
    "    j = j + 1\n",
    "    \n",
    "print(\"Our summation is equal to\", summation)"
   ]
  },
  {
   "cell_type": "code",
   "execution_count": 8,
   "id": "0ab0450a",
   "metadata": {},
   "outputs": [
    {
     "name": "stdout",
     "output_type": "stream",
     "text": [
      "Interior loop value\n",
      "Interior loop value\n",
      "Interior loop value\n",
      "Interior loop value\n",
      "Interior loop value\n",
      "Exterior loop value\n"
     ]
    }
   ],
   "source": [
    "counter = 0\n",
    "\n",
    "while counter < 5:\n",
    "    print(\"Interior loop value\")\n",
    "    counter = counter + 1 \n",
    "else:\n",
    "    print(\"Exterior loop value\")"
   ]
  },
  {
   "cell_type": "code",
   "execution_count": 9,
   "id": "0b490b03",
   "metadata": {},
   "outputs": [
    {
     "name": "stdout",
     "output_type": "stream",
     "text": [
      "Interior loop value\n",
      "Interior loop value\n",
      "Interior loop value\n",
      "Interior loop value\n",
      "Interior loop value\n",
      "Interior loop value\n",
      "Exterior loop value\n"
     ]
    }
   ],
   "source": [
    "counter = 0\n",
    "\n",
    "while counter <= 5:\n",
    "    print(\"Interior loop value\")\n",
    "    counter = counter + 1 \n",
    "else:\n",
    "    print(\"Exterior loop value\")"
   ]
  },
  {
   "cell_type": "code",
   "execution_count": null,
   "id": "dabf16ab",
   "metadata": {},
   "outputs": [],
   "source": []
  }
 ],
 "metadata": {
  "kernelspec": {
   "display_name": "Python 3 (ipykernel)",
   "language": "python",
   "name": "python3"
  },
  "language_info": {
   "codemirror_mode": {
    "name": "ipython",
    "version": 3
   },
   "file_extension": ".py",
   "mimetype": "text/x-python",
   "name": "python",
   "nbconvert_exporter": "python",
   "pygments_lexer": "ipython3",
   "version": "3.9.13"
  }
 },
 "nbformat": 4,
 "nbformat_minor": 5
}
