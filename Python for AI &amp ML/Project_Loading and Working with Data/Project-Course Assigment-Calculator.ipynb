{
 "cells": [
  {
   "cell_type": "markdown",
   "id": "e49d26d5-546d-4e32-aa17-de6607a05507",
   "metadata": {},
   "source": [
    "<div align=\"center\">\n",
    "    <h4 style=\"font-size: large;\">Project-Course Assigment</h4>\n",
    "</div>"
   ]
  },
  {
   "cell_type": "markdown",
   "id": "417588c1-ff5c-4415-a4c4-d9adf2df1685",
   "metadata": {},
   "source": [
    "**Create calculator**\n",
    "\n",
    "**Project List** :\n",
    "Having completed this course, students can demonstrate their learning by using all of their newfound skills to create their own calculator. Students should define at least the four functions of:\n",
    "\n",
    "* Addition\n",
    "* Subtraction\n",
    "* Multiplication\n",
    "* Division\n",
    "\n",
    "For a **challenge**, attempt to build more than these four functions, as well as use a function to create an interface that allows you to call on each of your defined functions. Below you will find some sample code for addition and subtraction."
   ]
  },
  {
   "cell_type": "code",
   "execution_count": null,
   "id": "856339c8-719e-49ab-a371-c551e2194764",
   "metadata": {},
   "outputs": [
    {
     "name": "stdout",
     "output_type": "stream",
     "text": [
      "Calculator\n",
      "1. Addition\n",
      "2. Subtraction\n",
      "3. Multiplication\n",
      "4. Division\n",
      "5. Exit\n"
     ]
    },
    {
     "name": "stdin",
     "output_type": "stream",
     "text": [
      "Select an option (1-5):  3\n",
      "Enter the first number:  5\n",
      "Enter the second number:  5\n"
     ]
    },
    {
     "name": "stdout",
     "output_type": "stream",
     "text": [
      "Result:  25.0\n",
      "Calculator\n",
      "1. Addition\n",
      "2. Subtraction\n",
      "3. Multiplication\n",
      "4. Division\n",
      "5. Exit\n"
     ]
    },
    {
     "name": "stdin",
     "output_type": "stream",
     "text": [
      "Select an option (1-5):  3\n"
     ]
    }
   ],
   "source": [
    "def addition(a, b):\n",
    "    return a + b\n",
    "\n",
    "def subtraction(a, b):\n",
    "    return a - b\n",
    "\n",
    "def multiplication(a, b):\n",
    "    return a * b\n",
    "\n",
    "def division(a, b):\n",
    "    if b != 0:\n",
    "        return a / b\n",
    "    else:\n",
    "        return \"Error: Cannot divide by zero\"\n",
    "\n",
    "def calculator():\n",
    "    print(\"Calculator\")\n",
    "    print(\"1. Addition\")\n",
    "    print(\"2. Subtraction\")\n",
    "    print(\"3. Multiplication\")\n",
    "    print(\"4. Division\")\n",
    "    print(\"5. Exit\")\n",
    "\n",
    "    choice = input(\"Select an option (1-5): \")\n",
    "\n",
    "    if choice == '1':\n",
    "        num1 = float(input(\"Enter the first number: \"))\n",
    "        num2 = float(input(\"Enter the second number: \"))\n",
    "        print(\"Result: \", addition(num1, num2))\n",
    "    elif choice == '2':\n",
    "        num1 = float(input(\"Enter the first number: \"))\n",
    "        num2 = float(input(\"Enter the second number: \"))\n",
    "        print(\"Result: \", subtraction(num1, num2))\n",
    "    elif choice == '3':\n",
    "        num1 = float(input(\"Enter the first number: \"))\n",
    "        num2 = float(input(\"Enter the second number: \"))\n",
    "        print(\"Result: \", multiplication(num1, num2))\n",
    "    elif choice == '4':\n",
    "        num1 = float(input(\"Enter the first number: \"))\n",
    "        num2 = float(input(\"Enter the second number: \"))\n",
    "        print(\"Result: \", division(num1, num2))\n",
    "    elif choice == '5':\n",
    "        print(\"Saliendo...\")\n",
    "        return\n",
    "    else:\n",
    "        print(\"Opción inválida. Por favor seleccione una opción válida.\")\n",
    "\n",
    "    calculator()\n",
    "\n",
    "calculator()"
   ]
  },
  {
   "cell_type": "markdown",
   "id": "3c974b42-3c33-4dd3-8a8d-802178076c1b",
   "metadata": {},
   "source": [
    "**The Code** \n",
    "\n",
    "This code is a basic **calculator** in Python that performs addition, subtraction, multiplication, and division operations. Here's how you can test it:\n",
    "\n",
    "When you run the code, a menu will be displayed in the console with the available options: **addition, subtraction, multiplication, division, and exit**.\n",
    "\n",
    "You need to enter a number from 1 to 5 to select an option. For example, if you want to perform an addition, you should enter the number 1.\n",
    "\n",
    "After selecting the option, you will be prompted to enter two numbers to perform the selected operation. For example, if you chose option 1 (addition), you need to enter the two numbers you want to add.\n",
    "\n",
    "After entering the numbers, the calculator will perform the corresponding operation and display the result in the console.\n",
    "\n",
    "You can repeat the process by selecting another option from the menu or exit the calculator by selecting option 5.\n",
    "\n",
    "You can try different operations and numbers to see how the calculator works. The code will continue to run until you select the exit option.\n",
    "\n",
    "I hope this explanation helps you understand how to use and test the calculator code in Python. If you have any further questions, feel free to ask."
   ]
  },
  {
   "cell_type": "code",
   "execution_count": null,
   "id": "a6e00294-e184-4f96-a630-3715d6f3b30a",
   "metadata": {},
   "outputs": [],
   "source": []
  }
 ],
 "metadata": {
  "kernelspec": {
   "display_name": "Python 3 (ipykernel)",
   "language": "python",
   "name": "python3"
  },
  "language_info": {
   "codemirror_mode": {
    "name": "ipython",
    "version": 3
   },
   "file_extension": ".py",
   "mimetype": "text/x-python",
   "name": "python",
   "nbconvert_exporter": "python",
   "pygments_lexer": "ipython3",
   "version": "3.10.7"
  }
 },
 "nbformat": 4,
 "nbformat_minor": 5
}
